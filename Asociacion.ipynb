{
 "cells": [
  {
   "cell_type": "code",
   "execution_count": 72,
   "metadata": {},
   "outputs": [],
   "source": [
    "import pandas as pd\n",
    "import matplotlib.pyplot as plt \n",
    "import math\n",
    "from random import random\n",
    "import pandas as pd\n",
    "import numpy as np\n",
    "import matplotlib.pyplot as plt\n",
    "from sklearn.cluster import KMeans\n",
    "from sklearn.metrics import silhouette_samples, silhouette_score\n",
    "import matplotlib.cm as cm\n",
    "from sklearn.metrics.pairwise import euclidean_distances\n",
    "from sklearn.metrics.pairwise import manhattan_distances\n",
    "from sklearn.metrics.pairwise import cosine_distances\n",
    "from sklearn.metrics import jaccard_similarity_score\n",
    "from math import *\n",
    "from decimal import Decimal \n",
    "from sklearn.neighbors import NearestNeighbors\n",
    "from sklearn.datasets import make_blobs\n",
    "from scipy.cluster.hierarchy import ward, fcluster\n",
    "from scipy.spatial.distance import pdist\n",
    "from scipy.spatial import distance\n",
    "from sklearn.metrics.pairwise import cosine_similarity\n",
    "from scipy.cluster import hierarchy\n",
    "from scipy.cluster.hierarchy import ward, dendrogram\n",
    "from sklearn.metrics.pairwise import euclidean_distances\n",
    "from sklearn.cluster import DBSCAN\n",
    "import math\n",
    "from sklearn.metrics import confusion_matrix \n",
    "from sklearn.metrics import classification_report\n",
    "from sklearn.metrics import precision_recall_fscore_support\n",
    "from kmodes.kmodes import KModes\n",
    "\n",
    "path = \"./kModesData.csv\""
   ]
  },
  {
   "cell_type": "code",
   "execution_count": 73,
   "metadata": {},
   "outputs": [],
   "source": [
    "data = pd.read_csv(path)"
   ]
  },
  {
   "cell_type": "code",
   "execution_count": 79,
   "metadata": {},
   "outputs": [],
   "source": [
    "keys = data.columns\n",
    "for key in keys:\n",
    "    data[key] = data[key].astype(int)"
   ]
  },
  {
   "cell_type": "code",
   "execution_count": 80,
   "metadata": {},
   "outputs": [
    {
     "name": "stdout",
     "output_type": "stream",
     "text": [
      "Init: initializing centroids\n",
      "Init: initializing clusters\n",
      "Starting iterations...\n",
      "Run 1, iteration: 1/100, moves: 376884, cost: 16852028.0\n",
      "Run 1, iteration: 2/100, moves: 155189, cost: 16733158.0\n",
      "Run 1, iteration: 3/100, moves: 50342, cost: 16733158.0\n",
      "[[   13     1    16 20182     5     2     3     3     9     9     4    12\n",
      "      3     4     4     1     1     2     2     1     2     2     6     6\n",
      "      6     6     6     6     3    11     3]\n",
      " [    7     0    17 20182     5     2     3     2     9     9    13    12\n",
      "      1     4     4     1     1     2     2     1     2     2     5     5\n",
      "      5     4     5     5     2    10     2]\n",
      " [   13     1    16 20172     2     1     5     3     8     9     1    12\n",
      "      2     4     2     2     3     3     2     1     2     2     6     5\n",
      "      5     5     5     5     2    11     3]\n",
      " [    1     0    17 20172     2     1     3     3     8     8     1    12\n",
      "      1     1     1     1     1     3     2     1     2     2     5     5\n",
      "      5     4     5     5     2     9     2]]\n",
      "Wall time: 15min 18s\n"
     ]
    }
   ],
   "source": [
    "%%time\n",
    "km = KModes(n_clusters=4, init='Huang', verbose=1)\n",
    "\n",
    "clusters = km.fit_predict(data)\n",
    "\n",
    "# Print the cluster centroids\n",
    "print(km.cluster_centroids_)"
   ]
  },
  {
   "cell_type": "code",
   "execution_count": 43,
   "metadata": {},
   "outputs": [
    {
     "name": "stdout",
     "output_type": "stream",
     "text": [
      "Init: initializing centroids\n",
      "Init: initializing clusters\n",
      "Starting iterations...\n",
      "Run 1, iteration: 1/100, moves: 426989, cost: 16962352.0\n",
      "Run 1, iteration: 2/100, moves: 106510, cost: 16930781.0\n",
      "Run 1, iteration: 3/100, moves: 71291, cost: 16906325.0\n",
      "Run 1, iteration: 4/100, moves: 27294, cost: 16906325.0\n",
      "[['10000' 'F' '16' '20182' 'ANTIOQUIA' 'Estrato 1' '3 a 4' 'Tres' '8' '8'\n",
      "  '1' '12' '0 A 10 LIBROS' '1' '1' '1' '1' '3' 'OFICIAL' 'ACADÉMICO'\n",
      "  'URBANO' 'MAÑANA' '5' '5' '5' '5' '5' '5' '2.0' '9' 'NSE2']\n",
      " ['10000' 'F' '17' '20172' 'BOGOTA' 'Estrato 2' '5 a 6' 'Dos' '10' '9'\n",
      "  '6' '12' '11 A 25 LIBROS' '2' '4' '2' '1' '3' 'OFICIAL' 'ACADÉMICO'\n",
      "  'URBANO' 'MAÑANA' '5' '4' '5' '5' '5' '5' '2.0' '10' 'NSE2']\n",
      " ['11000' 'F' '17' '20182' 'BOGOTA' 'Estrato 2' '3 a 4' 'Tres' '9' '9'\n",
      "  '13' '12' '11 A 25 LIBROS' '4' '4' '4' '3' '2' 'OFICIAL' 'ACADÉMICO'\n",
      "  'URBANO' 'MAÑANA' '6' '5' '5' '5' '5' '5' '3.0' '11' 'NSE3']\n",
      " ['11000' 'F' '16' '20182' 'BOGOTA' 'Estrato 2' '3 a 4' 'Dos' '9' '9' '4'\n",
      "  '12' '26 A 100 LIBROS' '1' '2' '1' '3' '4' 'OFICIAL'\n",
      "  'TÉCNICO/ACADÉMICO' 'URBANO' 'MAÑANA' '6' '6' '6' '6' '6' '6' '2.0'\n",
      "  '11' 'NSE3']]\n",
      "Wall time: 16min 3s\n"
     ]
    }
   ],
   "source": [
    "%%time\n",
    "km = KModes(n_clusters=4, init='Huang', verbose=1)\n",
    "\n",
    "clusters = km.fit_predict(data)\n",
    "\n",
    "# Print the cluster centroids\n",
    "print(km.cluster_centroids_)\n"
   ]
  },
  {
   "cell_type": "code",
   "execution_count": 44,
   "metadata": {},
   "outputs": [
    {
     "name": "stdout",
     "output_type": "stream",
     "text": [
      "Init: initializing centroids\n",
      "Init: initializing clusters\n",
      "Starting iterations...\n",
      "Run 1, iteration: 1/100, moves: 443299, cost: 15759214.0\n",
      "Run 1, iteration: 2/100, moves: 91858, cost: 15735440.0\n",
      "Run 1, iteration: 3/100, moves: 1069, cost: 15735440.0\n",
      "[['11000' 'M' '16' '20172' 'BOGOTA' 'Estrato 2' '5 a 6' 'Tres' '9' '9'\n",
      "  '7' '12' '26 A 100 LIBROS' '2' '4' '2' '3' '2' 'OFICIAL' 'ACADÉMICO'\n",
      "  'URBANO' 'MAÑANA' '6' '6' '6' '6' '5' '6' '2.0' '10' 'NSE2']\n",
      " ['0' 'F' '17' '20172' 'ANTIOQUIA' 'Estrato 1' '3 a 4' 'Tres' '8' '8' '1'\n",
      "  '12' '0 A 10 LIBROS' '1' '1' '1' '1' '3' 'OFICIAL' 'TÉCNICO/ACADÉMICO'\n",
      "  'URBANO' 'MAÑANA' '5' '5' '5' '5' '5' '5' '2.0' '9' 'NSE2']\n",
      " ['11010' 'F' '16' '20172' 'BOGOTA' 'Estrato 1' '3 a 4' 'Tres' '9' '10'\n",
      "  '3' '12' '0 A 10 LIBROS' '2' '2' '1' '1' '3' 'OFICIAL' 'ACADÉMICO'\n",
      "  'URBANO' 'MAÑANA' '7' '7' '6' '6' '6' '6' '2.0' '11' 'NSE3']\n",
      " ['10000' 'F' '17' '20182' 'ANTIOQUIA' 'Estrato 2' '3 a 4' 'Dos' '9' '9'\n",
      "  '12' '12' '0 A 10 LIBROS' '1' '2' '1' '1' '2' 'OFICIAL' 'ACADÉMICO'\n",
      "  'URBANO' 'MAÑANA' '5' '4' '4' '4' '4' '4' '2.0' '10' 'NSE2']\n",
      " ['11000' 'F' '16' '20182' 'BOGOTA' 'Estrato 2' '3 a 4' 'Tres' '9' '9'\n",
      "  '11' '12' '26 A 100 LIBROS' '4' '4' '2' '1' '4' 'OFICIAL' 'ACADÉMICO'\n",
      "  'URBANO' 'MAÑANA' '7' '7' '7' '7' '7' '7' '3.0' '12' 'NSE3']\n",
      " ['11000' 'M' '16' '20172' 'BOGOTA' 'Estrato 3' '5 a 6' 'Tres' '9' '9'\n",
      "  '11' '12' '11 A 25 LIBROS' '4' '4' '1' '1' '2' 'NO OFICIAL' 'ACADÉMICO'\n",
      "  'URBANO' 'MAÑANA' '5' '5' '5' '5' '5' '5' '3.0' '12' 'NSE3']\n",
      " ['11000' 'F' '16' '20182' 'BOGOTA' 'Estrato 1' '3 a 4' 'Dos' '9' '9' '1'\n",
      "  '12' '0 A 10 LIBROS' '1' '2' '1' '1' '2' 'OFICIAL' 'ACADÉMICO' 'URBANO'\n",
      "  'MAÑANA' '6' '6' '6' '6' '6' '6' '2.0' '10' 'NSE2']\n",
      " ['10000' 'M' '17' '20182' 'ANTIOQUIA' 'Estrato 1' '5 a 6' 'Dos' '8' '9'\n",
      "  '1' '12' '0 A 10 LIBROS' '4' '4' '1' '1' '3' 'OFICIAL'\n",
      "  'TÉCNICO/ACADÉMICO' 'URBANO' 'MAÑANA' '6' '6' '5' '4' '5' '5' '2.0'\n",
      "  '10' 'NSE2']]\n",
      "Wall time: 17min 32s\n"
     ]
    }
   ],
   "source": [
    "%%time\n",
    "km2 = KModes(n_clusters=8, init='Huang', verbose=1)\n",
    "\n",
    "clusters = km2.fit_predict(data)\n",
    "\n",
    "# Print the cluster centroids\n",
    "print(km2.cluster_centroids_)\n"
   ]
  },
  {
   "cell_type": "code",
   "execution_count": 38,
   "metadata": {},
   "outputs": [
    {
     "name": "stdout",
     "output_type": "stream",
     "text": [
      "1000\n",
      "Init: initializing centroids\n",
      "Init: initializing clusters\n",
      "Starting iterations...\n",
      "Run 1, iteration: 1/100, moves: 101, cost: 8617.0\n",
      "Run 1, iteration: 2/100, moves: 42, cost: 8617.0\n",
      "[[ 3 12 11 18 13  7 14 12 16  3]\n",
      " [14 11 19  3 16 19  0 14  7  7]\n",
      " [15  2  9 10 19  3  3  6  9  1]\n",
      " [16  7 10  1 11  9 17  9 15  9]]\n",
      "[2 2 0 0 0 0 1 0 0 2 2 1 1 0 0 0 2 0 1 0 1 0 0 0 3 1 1 1 0 2 0 0 1 3 0 0 3\n",
      " 2 1 0 0 0 0 3 0 0 1 0 1 0 0 3 0 2 2 1 1 0 0 1 3 2 0 0 3 1 1 0 2 0 2 1 0 1\n",
      " 0 0 0 1 0 3 3 1 2 1 2 2 2 0 2 0 2 0 3 0 1 1 1 0 0 1 3 1 3 2 0 1 2 0 0 2 1\n",
      " 2 3 1 2 0 3 1 3 0 3 1 0 1 1 1 0 0 1 2 0 1 0 1 0 0 0 3 0 2 1 0 3 3 0 2 1 3\n",
      " 1 2 1 1 0 3 0 0 0 0 0 3 2 0 3 1 0 0 1 1 0 3 0 0 1 1 0 0 1 2 0 2 0 3 1 3 3\n",
      " 0 1 1 0 0 0 3 1 0 0 0 0 3 0 0 2 3 2 0 0 0 2 1 0 1 0 2 0 3 1 0 0 0 2 2 0 1\n",
      " 0 1 2 2 2 2 1 1 3 0 3 0 0 2 1 0 2 0 2 3 2 0 0 0 0 3 2 3 2 0 2 2 3 1 3 3 0\n",
      " 2 2 2 0 0 0 0 0 0 3 3 3 0 0 1 0 2 0 2 0 3 0 0 0 3 0 2 0 0 0 0 3 0 0 0 0 0\n",
      " 2 0 2 1 1 2 2 2 0 1 2 0 0 3 1 1 1 1 1 0 0 1 1 2 0 3 3 2 3 0 1 0 0 0 3 0 0\n",
      " 2 3 0 0 0 0 0 0 0 3 0 2 1 0 3 0 3 0 3 2 1 0 2 3 3 1 0 0 2 1 2 3 0 1 3 0 2\n",
      " 0 2 3 2 0 3 1 0 2 3 0 1 0 3 2 0 0 1 3 0 0 1 1 2 1 0 1 0 2 2 0 0 2 0 3 2 0\n",
      " 0 1 0 2 0 0 2 0 2 1 0 0 0 0 2 0 2 0 2 1 0 2 3 0 1 0 1 0 1 1 0 1 0 2 1 1 2\n",
      " 1 0 0 2 2 2 1 1 0 0 0 2 0 2 0 0 1 1 3 0 0 3 2 3 1 1 1 0 3 0 2 1 0 3 3 1 0\n",
      " 0 3 2 2 0 1 0 1 1 2 0 1 0 0 2 2 0 0 0 2 3 0 3 3 0 0 0 3 1 3 3 1 3 1 1 1 1\n",
      " 1 1 0 3 2 1 3 0 0 0 3 1 2 2 2 2 0 3 0 1 0 3 3 2 0 0 0 0 0 0 0 0 1 1 2 0 2\n",
      " 0 0 3 2 1 0 3 2 0 1 1 3 0 3 2 0 3 3 0 2 0 1 0 0 0 3 0 0 2 2 1 0 1 3 1 1 2\n",
      " 1 0 0 1 0 0 0 0 3 0 0 3 0 0 2 3 3 3 0 1 2 0 1 0 0 2 1 0 2 1 2 2 1 2 1 2 1\n",
      " 0 1 2 2 3 0 2 0 0 0 0 3 0 0 0 1 3 0 0 0 1 2 0 1 2 0 2 1 1 0 2 0 0 0 1 3 0\n",
      " 0 1 0 0 2 0 0 0 1 0 3 0 1 0 0 1 2 1 2 3 2 1 0 0 0 1 0 2 3 0 0 2 0 0 0 0 1\n",
      " 0 2 0 0 2 1 0 3 0 0 0 1 0 1 1 3 0 0 2 0 1 3 0 1 2 2 2 0 1 1 0 2 2 2 0 1 3\n",
      " 2 3 3 2 0 0 1 3 3 2 3 0 2 2 0 0 3 0 1 0 0 3 3 2 2 2 2 1 0 0 0 0 1 3 0 2 0\n",
      " 2 0 1 0 0 0 0 2 2 0 0 1 1 1 1 0 2 1 2 3 0 2 0 3 0 0 1 0 2 2 0 1 3 0 1 0 3\n",
      " 1 0 0 2 3 2 1 2 0 2 3 3 2 0 0 1 1 2 0 0 0 2 0 2 1 0 2 0 0 3 1 3 0 0 1 1 1\n",
      " 1 2 0 2 0 3 0 0 0 0 0 2 1 0 0 1 0 0 0 0 3 0 2 0 1 1 0 0 1 0 0 0 0 1 3 1 3\n",
      " 2 0 2 1 0 1 0 0 1 1 0 0 1 1 1 0 2 1 1 2 0 2 2 1 0 0 0 0 3 0 3 0 2 0 0 0 1\n",
      " 0 0 2 0 0 2 1 0 3 1 3 0 0 0 0 0 0 0 2 1 1 1 3 3 0 3 0 0 0 1 0 1 1 1 2 2 0\n",
      " 0 0 3 1 0 2 0 2 2 0 0 3 0 1 0 3 3 0 3 0 0 1 0 2 2 0 0 0 2 2 2 0 1 0 0 0 1\n",
      " 1]\n",
      "1000\n",
      "Wall time: 385 ms\n"
     ]
    }
   ],
   "source": [
    "%%time\n",
    "# random categorical data\n",
    "\"\"\"\n",
    "data2 = np.random.choice(20, (1000, 10))\n",
    "\n",
    "print(len(data))\n",
    "km = KModes(n_clusters=4, init='Huang', verbose=1)\n",
    "\n",
    "clusters = km.fit_predict(data2)\n",
    "\n",
    "# Print the cluster centroids\n",
    "print(km.cluster_centroids_)\n",
    "print(km.labels_)\n",
    "print(len(km.labels_))\n",
    "\"\"\"\n"
   ]
  },
  {
   "cell_type": "markdown",
   "metadata": {},
   "source": [
    "## Distancia"
   ]
  },
  {
   "cell_type": "code",
   "execution_count": 109,
   "metadata": {},
   "outputs": [],
   "source": [
    "dataSplit1 = data.iloc[:100000,:]"
   ]
  },
  {
   "cell_type": "code",
   "execution_count": 86,
   "metadata": {},
   "outputs": [
    {
     "data": {
      "text/plain": [
       "31"
      ]
     },
     "execution_count": 86,
     "metadata": {},
     "output_type": "execute_result"
    }
   ],
   "source": [
    "len(dataSplit1.iloc[1])"
   ]
  },
  {
   "cell_type": "code",
   "execution_count": 87,
   "metadata": {},
   "outputs": [],
   "source": [
    "\n",
    "def smcCoefficient(arr1,arr2):\n",
    "    count = 0\n",
    "    for i in arr1.keys():\n",
    "        if arr1[i] == arr2[i]:\n",
    "            count+=1\n",
    "  \n",
    "    return count/len(arr1)\n",
    "\n",
    "def smcDistances(arr):\n",
    "    result = []\n",
    "    for i in range(arr.shape[0]):\n",
    "        distances = []\n",
    "        for j in range(arr.shape[0]):\n",
    "            distances.append(smcCoefficient(arr.iloc[i],arr.iloc[j]))\n",
    "        result.append(distances)\n",
    "    return np.array(result)"
   ]
  },
  {
   "cell_type": "code",
   "execution_count": 108,
   "metadata": {},
   "outputs": [
    {
     "name": "stdout",
     "output_type": "stream",
     "text": [
      "Wall time: 2min 1s\n"
     ]
    }
   ],
   "source": [
    "%%time\n",
    "#data1 = data.ilox\n",
    "#distances = smcDistances(dataSplit1)\n",
    "distances = pdist(dataSplit1, 'hamming')"
   ]
  },
  {
   "cell_type": "code",
   "execution_count": 95,
   "metadata": {},
   "outputs": [
    {
     "data": {
      "text/plain": [
       "12497500"
      ]
     },
     "execution_count": 95,
     "metadata": {},
     "output_type": "execute_result"
    }
   ],
   "source": [
    "len(distances)"
   ]
  },
  {
   "cell_type": "code",
   "execution_count": 110,
   "metadata": {},
   "outputs": [
    {
     "data": {
      "text/plain": [
       "array([0.74193548, 0.61290323, 0.5483871 , ..., 0.5483871 , 0.61290323,\n",
       "       0.64516129])"
      ]
     },
     "execution_count": 110,
     "metadata": {},
     "output_type": "execute_result"
    }
   ],
   "source": [
    "distances"
   ]
  },
  {
   "cell_type": "code",
   "execution_count": null,
   "metadata": {},
   "outputs": [],
   "source": [
    "Z = hierarchy.linkage(distances, 'single')"
   ]
  },
  {
   "cell_type": "code",
   "execution_count": 71,
   "metadata": {},
   "outputs": [
    {
     "data": {
      "text/plain": [
       "<Figure size 432x288 with 0 Axes>"
      ]
     },
     "metadata": {},
     "output_type": "display_data"
    },
    {
     "data": {
      "image/png": "[encoded data removed]",
      "text/plain": [
       "<Figure size 1080x3600 with 1 Axes>"
      ]
     },
     "metadata": {
      "needs_background": "light"
     },
     "output_type": "display_data"
    }
   ],
   "source": [
    "plt.figure()\n",
    "fig, axes = plt.subplots( figsize=(15, 50))\n",
    "R=dendrogram(Z, orientation=\"right\",truncate_mode='lastp', p=100, leaf_font_size=10.,no_plot=False)\n",
    "axes.set_title(\"SMC Distance\")\n",
    "\n",
    "\n",
    "plt.show()"
   ]
  },
  {
   "cell_type": "code",
   "execution_count": null,
   "metadata": {},
   "outputs": [],
   "source": []
  }
 ],
 "metadata": {
  "kernelspec": {
   "display_name": "Python 3",
   "language": "python",
   "name": "python3"
  },
  "language_info": {
   "codemirror_mode": {
    "name": "ipython",
    "version": 3
   },
   "file_extension": ".py",
   "mimetype": "text/x-python",
   "name": "python",
   "nbconvert_exporter": "python",
   "pygments_lexer": "ipython3",
   "version": "3.7.3"
  }
 },
 "nbformat": 4,
 "nbformat_minor": 2
}
