{
 "cells": [
  {
   "cell_type": "code",
   "execution_count": 1,
   "metadata": {},
   "outputs": [],
   "source": [
    "import pandas as pd\n",
    "import matplotlib.pyplot as plt \n",
    "import math\n",
    "from collections import Counter\n",
    "path = \"./Datasets/Saber_Complete.csv\""
   ]
  },
  {
   "cell_type": "markdown",
   "metadata": {},
   "source": [
    "'ESTU_TIPODOCUMENTO', 'ESTU_NACIONALIDAD', 'ESTU_GENERO', 'ESTU_FECHANACIMIENTO', 'PERIODO', 'ESTU_CONSECUTIVO', 'ESTU_ESTUDIANTE', 'ESTU_PAIS_RESIDE', 'ESTU_TIENEETNIA', 'ESTU_ETNIA', 'ESTU_LIMITA_MOTRIZ', 'ESTU_DEPTO_RESIDE', 'ESTU_COD_RESIDE_DEPTO', 'ESTU_MCPIO_RESIDE', 'ESTU_COD_RESIDE_MCPIO', 'FAMI_ESTRATOVIVIENDA', 'FAMI_PERSONASHOGAR', 'FAMI_CUARTOSHOGAR', 'FAMI_EDUCACIONPADRE', 'FAMI_EDUCACIONMADRE', 'FAMI_TRABAJOLABORPADRE', 'FAMI_TRABAJOLABORMADRE', 'FAMI_TIENESERVICIOTV', 'FAMI_TIENECOMPUTADOR', 'FAMI_TIENELAVADORA', 'FAMI_TIENEHORNOMICROOGAS', 'FAMI_TIENEAUTOMOVIL', 'FAMI_TIENEMOTOCICLETA', 'FAMI_TIENECONSOLAVIDEOJUEGOS', 'FAMI_NUMLIBROS', 'FAMI_COMELECHEDERIVADOS', 'FAMI_COMECARNEPESCADOHUEVO', 'FAMI_COMECEREALFRUTOSLEGUMBRE', 'FAMI_SITUACIONECONOMICA', 'ESTU_DEDICACIONLECTURADIARIA', 'ESTU_DEDICACIONINTERNET', 'ESTU_HORASSEMANATRABAJA', 'ESTU_TIPOREMUNERACION', 'COLE_CODIGO_ICFES', 'COLE_COD_DANE_ESTABLECIMIENTO', 'COLE_NOMBRE_ESTABLECIMIENTO', 'COLE_GENERO', 'COLE_NATURALEZA', 'COLE_CALENDARIO', 'COLE_BILINGUE', 'COLE_CARACTER', 'COLE_COD_DANE_SEDE', 'COLE_NOMBRE_SEDE', 'COLE_SEDE_PRINCIPAL', 'COLE_AREA_UBICACION', 'COLE_JORNADA', 'COLE_COD_MCPIO_UBICACION', 'COLE_MCPIO_UBICACION', 'COLE_COD_DEPTO_UBICACION', 'COLE_DEPTO_UBICACION', 'ESTU_PRIVADO_LIBERTAD', 'ESTU_COD_MCPIO_PRESENTACION', 'ESTU_MCPIO_PRESENTACION', 'ESTU_DEPTO_PRESENTACION', 'ESTU_COD_DEPTO_PRESENTACION', 'PUNT_LECTURA_CRITICA', 'PERCENTIL_LECTURA_CRITICA', 'DESEMP_LECTURA_CRITICA', 'PUNT_MATEMATICAS', 'PERCENTIL_MATEMATICAS', 'DESEMP_MATEMATICAS', 'PUNT_C_NATURALES', 'PERCENTIL_C_NATURALES', 'DESEMP_C_NATURALES', 'PUNT_SOCIALES_CIUDADANAS', 'PERCENTIL_SOCIALES_CIUDADANAS', 'DESEMP_SOCIALES_CIUDADANAS', 'PUNT_INGLES', 'PERCENTIL_INGLES', 'DESEMP_INGLES', 'PUNT_GLOBAL', 'PERCENTIL_GLOBAL', 'ESTU_NSE_ESTABLECIMIENTO', 'ESTU_INSE_INDIVIDUAL', 'ESTU_NSE_INDIVIDUAL'"
   ]
  },
  {
   "cell_type": "markdown",
   "metadata": {},
   "source": [
    "'ESTU_TIPODOCUMENTO', 'ESTU_NACIONALIDAD', 'ESTU_CONSECUTIVO', 'ESTU_ESTUDIANTE', 'ESTU_PAIS_RESIDE', 'ESTU_COD_RESIDE_DEPTO', 'ESTU_COD_RESIDE_MCPIO', 'COLE_CODIGO_ICFES', 'COLE_COD_DANE_ESTABLECIMIENTO', 'COLE_GENERO', 'COLE_CALENDARIO', 'COLE_COD_DANE_SEDE', 'COLE_NOMBRE_SEDE', 'COLE_SEDE_PRINCIPAL', 'COLE_COD_MCPIO_UBICACION', 'COLE_COD_DEPTO_UBICACION', 'ESTU_COD_MCPIO_PRESENTACION', 'ESTU_MCPIO_PRESENTACION', 'ESTU_DEPTO_PRESENTACION', 'ESTU_COD_DEPTO_PRESENTACION', 'DESEMP_LECTURA_CRITICA', 'DESEMP_MATEMATICAS', 'DESEMP_C_NATURALES', 'DESEMP_SOCIALES_CIUDADANAS', 'DESEMP_INGLES'"
   ]
  },
  {
   "cell_type": "code",
   "execution_count": 2,
   "metadata": {},
   "outputs": [
    {
     "name": "stderr",
     "output_type": "stream",
     "text": [
      "ERROR:root:Internal Python error in the inspect module.\n",
      "Below is the traceback from this internal error.\n",
      "\n"
     ]
    },
    {
     "name": "stdout",
     "output_type": "stream",
     "text": [
      "Traceback (most recent call last):\n",
      "  File \"C:\\Users\\davis\\Anaconda3\\lib\\site-packages\\IPython\\core\\interactiveshell.py\", line 3325, in run_code\n",
      "    exec(code_obj, self.user_global_ns, self.user_ns)\n",
      "  File \"<ipython-input-2-eb0c40b5e860>\", line 1, in <module>\n",
      "    data = pd.read_csv(path, low_memory=False)\n",
      "  File \"C:\\Users\\davis\\Anaconda3\\lib\\site-packages\\pandas\\io\\parsers.py\", line 702, in parser_f\n",
      "    return _read(filepath_or_buffer, kwds)\n",
      "  File \"C:\\Users\\davis\\Anaconda3\\lib\\site-packages\\pandas\\io\\parsers.py\", line 435, in _read\n",
      "    data = parser.read(nrows)\n",
      "  File \"C:\\Users\\davis\\Anaconda3\\lib\\site-packages\\pandas\\io\\parsers.py\", line 1139, in read\n",
      "    ret = self._engine.read(nrows)\n",
      "  File \"C:\\Users\\davis\\Anaconda3\\lib\\site-packages\\pandas\\io\\parsers.py\", line 1995, in read\n",
      "    data = self._reader.read(nrows)\n",
      "  File \"pandas/_libs/parsers.pyx\", line 902, in pandas._libs.parsers.TextReader.read\n",
      "  File \"pandas/_libs/parsers.pyx\", line 991, in pandas._libs.parsers.TextReader._read_rows\n",
      "  File \"pandas/_libs/parsers.pyx\", line 1123, in pandas._libs.parsers.TextReader._convert_column_data\n",
      "  File \"pandas/_libs/parsers.pyx\", line 1169, in pandas._libs.parsers.TextReader._convert_tokens\n",
      "  File \"pandas/_libs/parsers.pyx\", line 1215, in pandas._libs.parsers.TextReader._convert_with_dtype\n",
      "  File \"C:\\Users\\davis\\Anaconda3\\lib\\site-packages\\pandas\\core\\dtypes\\common.py\", line 602, in is_categorical_dtype\n",
      "    return CategoricalDtype.is_dtype(arr_or_dtype)\n",
      "KeyboardInterrupt\n",
      "\n",
      "During handling of the above exception, another exception occurred:\n",
      "\n",
      "Traceback (most recent call last):\n",
      "  File \"C:\\Users\\davis\\Anaconda3\\lib\\site-packages\\IPython\\core\\interactiveshell.py\", line 2039, in showtraceback\n",
      "    stb = value._render_traceback_()\n",
      "AttributeError: 'KeyboardInterrupt' object has no attribute '_render_traceback_'\n",
      "\n",
      "During handling of the above exception, another exception occurred:\n",
      "\n",
      "Traceback (most recent call last):\n",
      "  File \"C:\\Users\\davis\\Anaconda3\\lib\\site-packages\\IPython\\core\\ultratb.py\", line 1101, in get_records\n",
      "    return _fixed_getinnerframes(etb, number_of_lines_of_context, tb_offset)\n",
      "  File \"C:\\Users\\davis\\Anaconda3\\lib\\site-packages\\IPython\\core\\ultratb.py\", line 319, in wrapped\n",
      "    return f(*args, **kwargs)\n",
      "  File \"C:\\Users\\davis\\Anaconda3\\lib\\site-packages\\IPython\\core\\ultratb.py\", line 353, in _fixed_getinnerframes\n",
      "    records = fix_frame_records_filenames(inspect.getinnerframes(etb, context))\n",
      "  File \"C:\\Users\\davis\\Anaconda3\\lib\\inspect.py\", line 1502, in getinnerframes\n",
      "    frameinfo = (tb.tb_frame,) + getframeinfo(tb, context)\n",
      "  File \"C:\\Users\\davis\\Anaconda3\\lib\\inspect.py\", line 1460, in getframeinfo\n",
      "    filename = getsourcefile(frame) or getfile(frame)\n",
      "  File \"C:\\Users\\davis\\Anaconda3\\lib\\inspect.py\", line 696, in getsourcefile\n",
      "    if getattr(getmodule(object, filename), '__loader__', None) is not None:\n",
      "  File \"C:\\Users\\davis\\Anaconda3\\lib\\inspect.py\", line 733, in getmodule\n",
      "    if ismodule(module) and hasattr(module, '__file__'):\n",
      "  File \"C:\\Users\\davis\\Anaconda3\\lib\\site-packages\\py\\_vendored_packages\\apipkg.py\", line 195, in __getattribute__\n",
      "    return getattr(getmod(), name)\n",
      "  File \"C:\\Users\\davis\\Anaconda3\\lib\\site-packages\\py\\_vendored_packages\\apipkg.py\", line 179, in getmod\n",
      "    x = importobj(modpath, None)\n",
      "  File \"C:\\Users\\davis\\Anaconda3\\lib\\site-packages\\py\\_vendored_packages\\apipkg.py\", line 69, in importobj\n",
      "    module = __import__(modpath, None, None, ['__doc__'])\n",
      "  File \"C:\\Users\\davis\\Anaconda3\\lib\\site-packages\\pytest.py\", line 6, in <module>\n",
      "    from _pytest.assertion import register_assert_rewrite\n",
      "  File \"C:\\Users\\davis\\Anaconda3\\lib\\site-packages\\_pytest\\assertion\\__init__.py\", line 6, in <module>\n",
      "    from _pytest.assertion import rewrite\n",
      "  File \"C:\\Users\\davis\\Anaconda3\\lib\\site-packages\\_pytest\\assertion\\rewrite.py\", line 20, in <module>\n",
      "    from _pytest.assertion import util\n",
      "  File \"C:\\Users\\davis\\Anaconda3\\lib\\site-packages\\_pytest\\assertion\\util.py\", line 5, in <module>\n",
      "    import _pytest._code\n",
      "  File \"C:\\Users\\davis\\Anaconda3\\lib\\site-packages\\_pytest\\_code\\__init__.py\", line 2, in <module>\n",
      "    from .code import Code  # noqa\n",
      "  File \"C:\\Users\\davis\\Anaconda3\\lib\\site-packages\\_pytest\\_code\\code.py\", line 11, in <module>\n",
      "    import pluggy\n",
      "  File \"C:\\Users\\davis\\Anaconda3\\lib\\site-packages\\pluggy\\__init__.py\", line 16, in <module>\n",
      "    from .manager import PluginManager, PluginValidationError\n",
      "  File \"C:\\Users\\davis\\Anaconda3\\lib\\site-packages\\pluggy\\manager.py\", line 6, in <module>\n",
      "    import importlib_metadata\n",
      "  File \"C:\\Users\\davis\\Anaconda3\\lib\\site-packages\\importlib_metadata\\__init__.py\", line 14, in <module>\n",
      "    from ._compat import (\n",
      "  File \"C:\\Users\\davis\\Anaconda3\\lib\\site-packages\\importlib_metadata\\_compat.py\", line 11, in <module>\n",
      "    from configparser import ConfigParser\n",
      "  File \"C:\\Users\\davis\\Anaconda3\\lib\\configparser.py\", line 559, in <module>\n",
      "    class RawConfigParser(MutableMapping):\n",
      "  File \"C:\\Users\\davis\\Anaconda3\\lib\\configparser.py\", line 593, in RawConfigParser\n",
      "    OPTCRE_NV = re.compile(_OPT_NV_TMPL.format(delim=\"=|:\"), re.VERBOSE)\n",
      "  File \"C:\\Users\\davis\\Anaconda3\\lib\\re.py\", line 234, in compile\n",
      "    return _compile(pattern, flags)\n",
      "  File \"C:\\Users\\davis\\Anaconda3\\lib\\re.py\", line 286, in _compile\n",
      "    p = sre_compile.compile(pattern, flags)\n",
      "  File \"C:\\Users\\davis\\Anaconda3\\lib\\sre_compile.py\", line 764, in compile\n",
      "    p = sre_parse.parse(p, flags)\n",
      "  File \"C:\\Users\\davis\\Anaconda3\\lib\\sre_parse.py\", line 930, in parse\n",
      "    p = _parse_sub(source, pattern, flags & SRE_FLAG_VERBOSE, 0)\n",
      "  File \"C:\\Users\\davis\\Anaconda3\\lib\\sre_parse.py\", line 426, in _parse_sub\n",
      "    not nested and not items))\n",
      "  File \"C:\\Users\\davis\\Anaconda3\\lib\\sre_parse.py\", line 811, in _parse\n",
      "    group = state.opengroup(name)\n",
      "  File \"C:\\Users\\davis\\Anaconda3\\lib\\sre_parse.py\", line 90, in opengroup\n",
      "    ogid = self.groupdict.get(name, None)\n",
      "KeyboardInterrupt\n"
     ]
    },
    {
     "ename": "KeyboardInterrupt",
     "evalue": "",
     "output_type": "error",
     "traceback": [
      "\u001b[1;31m---------------------------------------------------------------------------\u001b[0m"
     ]
    }
   ],
   "source": [
    "data = pd.read_csv(path, low_memory=False)\n"
   ]
  },
  {
   "cell_type": "code",
   "execution_count": 14,
   "metadata": {},
   "outputs": [
    {
     "name": "stdout",
     "output_type": "stream",
     "text": [
      "\"ESTU_GENERO\", \"ESTU_FECHANACIMIENTO\", \"PERIODO\", \"ESTU_TIENEETNIA\", \"ESTU_ETNIA\", \"ESTU_LIMITA_MOTRIZ\", \"ESTU_DEPTO_RESIDE\", \"ESTU_MCPIO_RESIDE\", \"FAMI_ESTRATOVIVIENDA\", \"FAMI_PERSONASHOGAR\", \"FAMI_CUARTOSHOGAR\", \"FAMI_EDUCACIONPADRE\", \"FAMI_EDUCACIONMADRE\", \"FAMI_TRABAJOLABORPADRE\", \"FAMI_TRABAJOLABORMADRE\", \"FAMI_TIENESERVICIOTV\", \"FAMI_TIENECOMPUTADOR\", \"FAMI_TIENELAVADORA\", \"FAMI_TIENEHORNOMICROOGAS\", \"FAMI_TIENEAUTOMOVIL\", \"FAMI_TIENEMOTOCICLETA\", \"FAMI_TIENECONSOLAVIDEOJUEGOS\", \"FAMI_NUMLIBROS\", \"FAMI_COMELECHEDERIVADOS\", \"FAMI_COMECARNEPESCADOHUEVO\", \"FAMI_COMECEREALFRUTOSLEGUMBRE\", \"FAMI_SITUACIONECONOMICA\", \"ESTU_DEDICACIONLECTURADIARIA\", \"ESTU_DEDICACIONINTERNET\", \"ESTU_HORASSEMANATRABAJA\", \"ESTU_TIPOREMUNERACION\", \"COLE_NOMBRE_ESTABLECIMIENTO\", \"COLE_NATURALEZA\", \"COLE_BILINGUE\", \"COLE_CARACTER\", \"COLE_AREA_UBICACION\", \"COLE_JORNADA\", \"COLE_MCPIO_UBICACION\", \"COLE_DEPTO_UBICACION\", \"ESTU_PRIVADO_LIBERTAD\", \"PUNT_LECTURA_CRITICA\", \"PERCENTIL_LECTURA_CRITICA\", \"PUNT_MATEMATICAS\", \"PERCENTIL_MATEMATICAS\", \"PUNT_C_NATURALES\", \"PERCENTIL_C_NATURALES\", \"PUNT_SOCIALES_CIUDADANAS\", \"PERCENTIL_SOCIALES_CIUDADANAS\", \"PUNT_INGLES\", \"PERCENTIL_INGLES\", \"PUNT_GLOBAL\", \"PERCENTIL_GLOBAL\", \"ESTU_NSE_ESTABLECIMIENTO\", \"ESTU_INSE_INDIVIDUAL\", \"ESTU_NSE_INDIVIDUAL\", "
     ]
    }
   ],
   "source": [
    "tmp1 = ['ESTU_TIPODOCUMENTO', 'ESTU_NACIONALIDAD', 'ESTU_GENERO', 'ESTU_FECHANACIMIENTO', 'PERIODO', 'ESTU_CONSECUTIVO', 'ESTU_ESTUDIANTE', 'ESTU_PAIS_RESIDE', 'ESTU_TIENEETNIA', 'ESTU_ETNIA', 'ESTU_LIMITA_MOTRIZ', 'ESTU_DEPTO_RESIDE', 'ESTU_COD_RESIDE_DEPTO', 'ESTU_MCPIO_RESIDE', 'ESTU_COD_RESIDE_MCPIO', 'FAMI_ESTRATOVIVIENDA', 'FAMI_PERSONASHOGAR', 'FAMI_CUARTOSHOGAR', 'FAMI_EDUCACIONPADRE', 'FAMI_EDUCACIONMADRE', 'FAMI_TRABAJOLABORPADRE', 'FAMI_TRABAJOLABORMADRE', 'FAMI_TIENESERVICIOTV', 'FAMI_TIENECOMPUTADOR', 'FAMI_TIENELAVADORA', 'FAMI_TIENEHORNOMICROOGAS', 'FAMI_TIENEAUTOMOVIL', 'FAMI_TIENEMOTOCICLETA', 'FAMI_TIENECONSOLAVIDEOJUEGOS', 'FAMI_NUMLIBROS', 'FAMI_COMELECHEDERIVADOS', 'FAMI_COMECARNEPESCADOHUEVO', 'FAMI_COMECEREALFRUTOSLEGUMBRE', 'FAMI_SITUACIONECONOMICA', 'ESTU_DEDICACIONLECTURADIARIA', 'ESTU_DEDICACIONINTERNET', 'ESTU_HORASSEMANATRABAJA', 'ESTU_TIPOREMUNERACION', 'COLE_CODIGO_ICFES', 'COLE_COD_DANE_ESTABLECIMIENTO', 'COLE_NOMBRE_ESTABLECIMIENTO', 'COLE_GENERO', 'COLE_NATURALEZA', 'COLE_CALENDARIO', 'COLE_BILINGUE', 'COLE_CARACTER', 'COLE_COD_DANE_SEDE', 'COLE_NOMBRE_SEDE', 'COLE_SEDE_PRINCIPAL', 'COLE_AREA_UBICACION', 'COLE_JORNADA', 'COLE_COD_MCPIO_UBICACION', 'COLE_MCPIO_UBICACION', 'COLE_COD_DEPTO_UBICACION', 'COLE_DEPTO_UBICACION', 'ESTU_PRIVADO_LIBERTAD', 'ESTU_COD_MCPIO_PRESENTACION', 'ESTU_MCPIO_PRESENTACION', 'ESTU_DEPTO_PRESENTACION', 'ESTU_COD_DEPTO_PRESENTACION', 'PUNT_LECTURA_CRITICA', 'PERCENTIL_LECTURA_CRITICA', 'DESEMP_LECTURA_CRITICA', 'PUNT_MATEMATICAS', 'PERCENTIL_MATEMATICAS', 'DESEMP_MATEMATICAS', 'PUNT_C_NATURALES', 'PERCENTIL_C_NATURALES', 'DESEMP_C_NATURALES', 'PUNT_SOCIALES_CIUDADANAS', 'PERCENTIL_SOCIALES_CIUDADANAS', 'DESEMP_SOCIALES_CIUDADANAS', 'PUNT_INGLES', 'PERCENTIL_INGLES', 'DESEMP_INGLES', 'PUNT_GLOBAL', 'PERCENTIL_GLOBAL', 'ESTU_NSE_ESTABLECIMIENTO', 'ESTU_INSE_INDIVIDUAL', 'ESTU_NSE_INDIVIDUAL']\n",
    "tmp2 = ['ESTU_TIPODOCUMENTO', 'ESTU_NACIONALIDAD', 'ESTU_CONSECUTIVO', 'ESTU_ESTUDIANTE', 'ESTU_PAIS_RESIDE', 'ESTU_COD_RESIDE_DEPTO', 'ESTU_COD_RESIDE_MCPIO', 'COLE_CODIGO_ICFES', 'COLE_COD_DANE_ESTABLECIMIENTO', 'COLE_GENERO', 'COLE_CALENDARIO', 'COLE_COD_DANE_SEDE', 'COLE_NOMBRE_SEDE', 'COLE_SEDE_PRINCIPAL', 'COLE_COD_MCPIO_UBICACION', 'COLE_COD_DEPTO_UBICACION', 'ESTU_COD_MCPIO_PRESENTACION', 'ESTU_MCPIO_PRESENTACION', 'ESTU_DEPTO_PRESENTACION', 'ESTU_COD_DEPTO_PRESENTACION', 'DESEMP_LECTURA_CRITICA', 'DESEMP_MATEMATICAS', 'DESEMP_C_NATURALES', 'DESEMP_SOCIALES_CIUDADANAS', 'DESEMP_INGLES']\n",
    "for attr in tmp1:\n",
    "    if attr not in tmp2:\n",
    "        print(\"\\\"\"+attr+\"\\\"\",end=\", \")"
   ]
  },
  {
   "cell_type": "code",
   "execution_count": 15,
   "metadata": {},
   "outputs": [],
   "source": [
    "data = data.drop(['ESTU_TIPODOCUMENTO', 'ESTU_NACIONALIDAD', 'ESTU_CONSECUTIVO', 'ESTU_ESTUDIANTE', 'ESTU_PAIS_RESIDE', 'ESTU_COD_RESIDE_DEPTO', 'ESTU_COD_RESIDE_MCPIO', 'COLE_CODIGO_ICFES', 'COLE_COD_DANE_ESTABLECIMIENTO', 'COLE_GENERO', 'COLE_CALENDARIO', 'COLE_COD_DANE_SEDE', 'COLE_NOMBRE_SEDE', 'COLE_SEDE_PRINCIPAL', 'COLE_COD_MCPIO_UBICACION', 'COLE_COD_DEPTO_UBICACION', 'ESTU_COD_MCPIO_PRESENTACION', 'ESTU_MCPIO_PRESENTACION', 'ESTU_DEPTO_PRESENTACION', 'ESTU_COD_DEPTO_PRESENTACION', 'DESEMP_LECTURA_CRITICA', 'DESEMP_MATEMATICAS', 'DESEMP_C_NATURALES', 'DESEMP_SOCIALES_CIUDADANAS', 'DESEMP_INGLES'], axis = 1)"
   ]
  },
  {
   "cell_type": "code",
   "execution_count": 16,
   "metadata": {},
   "outputs": [
    {
     "data": {
      "text/html": [
       "<div>\n",
       "<style scoped>\n",
       "    .dataframe tbody tr th:only-of-type {\n",
       "        vertical-align: middle;\n",
       "    }\n",
       "\n",
       "    .dataframe tbody tr th {\n",
       "        vertical-align: top;\n",
       "    }\n",
       "\n",
       "    .dataframe thead th {\n",
       "        text-align: right;\n",
       "    }\n",
       "</style>\n",
       "<table border=\"1\" class=\"dataframe\">\n",
       "  <thead>\n",
       "    <tr style=\"text-align: right;\">\n",
       "      <th></th>\n",
       "      <th>ESTU_GENERO</th>\n",
       "      <th>ESTU_FECHANACIMIENTO</th>\n",
       "      <th>PERIODO</th>\n",
       "      <th>ESTU_TIENEETNIA</th>\n",
       "      <th>ESTU_ETNIA</th>\n",
       "      <th>ESTU_LIMITA_MOTRIZ</th>\n",
       "      <th>ESTU_DEPTO_RESIDE</th>\n",
       "      <th>ESTU_MCPIO_RESIDE</th>\n",
       "      <th>FAMI_ESTRATOVIVIENDA</th>\n",
       "      <th>FAMI_PERSONASHOGAR</th>\n",
       "      <th>...</th>\n",
       "      <th>PERCENTIL_C_NATURALES</th>\n",
       "      <th>PUNT_SOCIALES_CIUDADANAS</th>\n",
       "      <th>PERCENTIL_SOCIALES_CIUDADANAS</th>\n",
       "      <th>PUNT_INGLES</th>\n",
       "      <th>PERCENTIL_INGLES</th>\n",
       "      <th>PUNT_GLOBAL</th>\n",
       "      <th>PERCENTIL_GLOBAL</th>\n",
       "      <th>ESTU_NSE_ESTABLECIMIENTO</th>\n",
       "      <th>ESTU_INSE_INDIVIDUAL</th>\n",
       "      <th>ESTU_NSE_INDIVIDUAL</th>\n",
       "    </tr>\n",
       "  </thead>\n",
       "  <tbody>\n",
       "    <tr>\n",
       "      <th>0</th>\n",
       "      <td>M</td>\n",
       "      <td>10/06/2002</td>\n",
       "      <td>20182</td>\n",
       "      <td>No</td>\n",
       "      <td>-</td>\n",
       "      <td>-</td>\n",
       "      <td>ATLANTICO</td>\n",
       "      <td>SOLEDAD</td>\n",
       "      <td>Estrato 2</td>\n",
       "      <td>7 a 8</td>\n",
       "      <td>...</td>\n",
       "      <td>67</td>\n",
       "      <td>57</td>\n",
       "      <td>76</td>\n",
       "      <td>65.0</td>\n",
       "      <td>90</td>\n",
       "      <td>305</td>\n",
       "      <td>85</td>\n",
       "      <td>2.0</td>\n",
       "      <td>53.169929</td>\n",
       "      <td>NSE3</td>\n",
       "    </tr>\n",
       "    <tr>\n",
       "      <th>1</th>\n",
       "      <td>M</td>\n",
       "      <td>22/10/2000</td>\n",
       "      <td>20182</td>\n",
       "      <td>No</td>\n",
       "      <td>-</td>\n",
       "      <td>-</td>\n",
       "      <td>CORDOBA</td>\n",
       "      <td>LORICA</td>\n",
       "      <td>Estrato 1</td>\n",
       "      <td>5 a 6</td>\n",
       "      <td>...</td>\n",
       "      <td>53</td>\n",
       "      <td>40</td>\n",
       "      <td>28</td>\n",
       "      <td>48.0</td>\n",
       "      <td>46</td>\n",
       "      <td>242</td>\n",
       "      <td>46</td>\n",
       "      <td>2.0</td>\n",
       "      <td>45.062853</td>\n",
       "      <td>NSE2</td>\n",
       "    </tr>\n",
       "    <tr>\n",
       "      <th>2</th>\n",
       "      <td>M</td>\n",
       "      <td>19/12/2001</td>\n",
       "      <td>20182</td>\n",
       "      <td>No</td>\n",
       "      <td>-</td>\n",
       "      <td>-</td>\n",
       "      <td>VALLE</td>\n",
       "      <td>CALI</td>\n",
       "      <td>Estrato 2</td>\n",
       "      <td>1 a 2</td>\n",
       "      <td>...</td>\n",
       "      <td>40</td>\n",
       "      <td>45</td>\n",
       "      <td>43</td>\n",
       "      <td>47.0</td>\n",
       "      <td>42</td>\n",
       "      <td>241</td>\n",
       "      <td>45</td>\n",
       "      <td>2.0</td>\n",
       "      <td>44.806936</td>\n",
       "      <td>NSE2</td>\n",
       "    </tr>\n",
       "    <tr>\n",
       "      <th>3</th>\n",
       "      <td>M</td>\n",
       "      <td>20/10/2000</td>\n",
       "      <td>20182</td>\n",
       "      <td>No</td>\n",
       "      <td>-</td>\n",
       "      <td>-</td>\n",
       "      <td>BOYACA</td>\n",
       "      <td>TUNJA</td>\n",
       "      <td>Estrato 3</td>\n",
       "      <td>3 a 4</td>\n",
       "      <td>...</td>\n",
       "      <td>84</td>\n",
       "      <td>67</td>\n",
       "      <td>94</td>\n",
       "      <td>63.0</td>\n",
       "      <td>86</td>\n",
       "      <td>310</td>\n",
       "      <td>87</td>\n",
       "      <td>3.0</td>\n",
       "      <td>73.630225</td>\n",
       "      <td>NSE4</td>\n",
       "    </tr>\n",
       "    <tr>\n",
       "      <th>4</th>\n",
       "      <td>M</td>\n",
       "      <td>16/11/1998</td>\n",
       "      <td>20182</td>\n",
       "      <td>No</td>\n",
       "      <td>-</td>\n",
       "      <td>-</td>\n",
       "      <td>BOGOTA</td>\n",
       "      <td>BOGOTÁ D.C.</td>\n",
       "      <td>Estrato 2</td>\n",
       "      <td>7 a 8</td>\n",
       "      <td>...</td>\n",
       "      <td>45</td>\n",
       "      <td>49</td>\n",
       "      <td>55</td>\n",
       "      <td>56.0</td>\n",
       "      <td>71</td>\n",
       "      <td>257</td>\n",
       "      <td>57</td>\n",
       "      <td>3.0</td>\n",
       "      <td>49.391007</td>\n",
       "      <td>NSE2</td>\n",
       "    </tr>\n",
       "  </tbody>\n",
       "</table>\n",
       "<p>5 rows × 55 columns</p>\n",
       "</div>"
      ],
      "text/plain": [
       "  ESTU_GENERO ESTU_FECHANACIMIENTO  PERIODO ESTU_TIENEETNIA ESTU_ETNIA  \\\n",
       "0           M           10/06/2002    20182              No          -   \n",
       "1           M           22/10/2000    20182              No          -   \n",
       "2           M           19/12/2001    20182              No          -   \n",
       "3           M           20/10/2000    20182              No          -   \n",
       "4           M           16/11/1998    20182              No          -   \n",
       "\n",
       "  ESTU_LIMITA_MOTRIZ ESTU_DEPTO_RESIDE ESTU_MCPIO_RESIDE FAMI_ESTRATOVIVIENDA  \\\n",
       "0                  -         ATLANTICO           SOLEDAD            Estrato 2   \n",
       "1                  -           CORDOBA            LORICA            Estrato 1   \n",
       "2                  -             VALLE              CALI            Estrato 2   \n",
       "3                  -            BOYACA             TUNJA            Estrato 3   \n",
       "4                  -            BOGOTA       BOGOTÁ D.C.            Estrato 2   \n",
       "\n",
       "  FAMI_PERSONASHOGAR  ... PERCENTIL_C_NATURALES PUNT_SOCIALES_CIUDADANAS  \\\n",
       "0              7 a 8  ...                    67                       57   \n",
       "1              5 a 6  ...                    53                       40   \n",
       "2              1 a 2  ...                    40                       45   \n",
       "3              3 a 4  ...                    84                       67   \n",
       "4              7 a 8  ...                    45                       49   \n",
       "\n",
       "  PERCENTIL_SOCIALES_CIUDADANAS PUNT_INGLES PERCENTIL_INGLES PUNT_GLOBAL  \\\n",
       "0                            76        65.0               90         305   \n",
       "1                            28        48.0               46         242   \n",
       "2                            43        47.0               42         241   \n",
       "3                            94        63.0               86         310   \n",
       "4                            55        56.0               71         257   \n",
       "\n",
       "  PERCENTIL_GLOBAL ESTU_NSE_ESTABLECIMIENTO ESTU_INSE_INDIVIDUAL  \\\n",
       "0               85                      2.0            53.169929   \n",
       "1               46                      2.0            45.062853   \n",
       "2               45                      2.0            44.806936   \n",
       "3               87                      3.0            73.630225   \n",
       "4               57                      3.0            49.391007   \n",
       "\n",
       "  ESTU_NSE_INDIVIDUAL  \n",
       "0                NSE3  \n",
       "1                NSE2  \n",
       "2                NSE2  \n",
       "3                NSE4  \n",
       "4                NSE2  \n",
       "\n",
       "[5 rows x 55 columns]"
      ]
     },
     "execution_count": 16,
     "metadata": {},
     "output_type": "execute_result"
    }
   ],
   "source": [
    "data.head()"
   ]
  },
  {
   "cell_type": "code",
   "execution_count": 17,
   "metadata": {
    "scrolled": true
   },
   "outputs": [
    {
     "name": "stdout",
     "output_type": "stream",
     "text": [
      "ESTU_ETNIA\n",
      "-                                93.859023\n",
      "Arhuaco                           0.018338\n",
      "Cancuamo                          0.032023\n",
      "Comunidad afrodescendiente        3.370599\n",
      "Comunidades Rom (Gitanas)         0.001004\n",
      "Cubeo                             0.018612\n",
      "Emberá                            0.178178\n",
      "Guambiano                         0.033939\n",
      "Huitoto                           0.019433\n",
      "Inga                              0.042879\n",
      "Ninguno                           0.156921\n",
      "Otro grupo étnico minoritario     0.488917\n",
      "Paez                              0.352433\n",
      "Palenquero                        0.012499\n",
      "Pasto                             0.240216\n",
      "Pijao                             0.107107\n",
      "Raizal                            0.071527\n",
      "Sikuani                           0.034030\n",
      "Tucano                            0.006386\n",
      "Wayúu                             0.397502\n",
      "Zenú                              0.558436\n",
      "dtype: float64\n"
     ]
    }
   ],
   "source": [
    "etnia = data.groupby('ESTU_ETNIA').size()/data.shape[0] *100\n",
    "print(etnia)"
   ]
  },
  {
   "cell_type": "code",
   "execution_count": 18,
   "metadata": {},
   "outputs": [
    {
     "name": "stdout",
     "output_type": "stream",
     "text": [
      "ESTU_TIENEETNIA\n",
      "-      0.043609\n",
      "No    93.566075\n",
      "Si     6.390316\n",
      "dtype: float64\n"
     ]
    }
   ],
   "source": [
    "dg = data.groupby('ESTU_TIENEETNIA').size()/data.shape[0] *100\n",
    "print(dg)"
   ]
  },
  {
   "cell_type": "code",
   "execution_count": 19,
   "metadata": {},
   "outputs": [
    {
     "name": "stdout",
     "output_type": "stream",
     "text": [
      "ESTU_PRIVADO_LIBERTAD\n",
      "N    99.977374\n",
      "S     0.022626\n",
      "dtype: float64\n"
     ]
    }
   ],
   "source": [
    "dg = data.groupby('ESTU_PRIVADO_LIBERTAD').size()/data.shape[0] *100\n",
    "print(dg)"
   ]
  },
  {
   "cell_type": "code",
   "execution_count": 20,
   "metadata": {},
   "outputs": [
    {
     "name": "stdout",
     "output_type": "stream",
     "text": [
      "ESTU_HORASSEMANATRABAJA\n",
      "-                       2.532442\n",
      "0                      65.286070\n",
      "Entre 11 y 20 horas     7.651155\n",
      "Entre 21 y 30 horas     2.890988\n",
      "Menos de 10 horas      17.952898\n",
      "Más de 30 horas         3.686447\n",
      "dtype: float64\n"
     ]
    }
   ],
   "source": [
    "dg = data.groupby('ESTU_HORASSEMANATRABAJA').size()/data.shape[0] *100\n",
    "print(dg)"
   ]
  },
  {
   "cell_type": "code",
   "execution_count": 21,
   "metadata": {},
   "outputs": [
    {
     "name": "stdout",
     "output_type": "stream",
     "text": [
      "FAMI_EDUCACIONPADRE\n",
      "-                                        5.465488\n",
      "Educación profesional completa           8.352279\n",
      "Educación profesional incompleta         1.835697\n",
      "Ninguno                                  3.651231\n",
      "No Aplica                                0.931761\n",
      "No sabe                                  5.767378\n",
      "Postgrado                                1.670109\n",
      "Primaria completa                       10.555097\n",
      "Primaria incompleta                     19.239921\n",
      "Secundaria (Bachillerato) completa      20.694903\n",
      "Secundaria (Bachillerato) incompleta    13.587222\n",
      "Técnica o tecnológica completa           6.307933\n",
      "Técnica o tecnológica incompleta         1.940980\n",
      "dtype: float64\n"
     ]
    }
   ],
   "source": [
    "dg = data.groupby('FAMI_EDUCACIONPADRE').size()/data.shape[0] *100\n",
    "print(dg)"
   ]
  },
  {
   "cell_type": "code",
   "execution_count": 22,
   "metadata": {},
   "outputs": [
    {
     "name": "stdout",
     "output_type": "stream",
     "text": [
      "FAMI_CUARTOSHOGAR\n",
      "-              2.573224\n",
      "Cinco          3.939983\n",
      "Cuatro        12.878069\n",
      "Dos           35.103038\n",
      "Seis o mas     2.148170\n",
      "Tres          37.986910\n",
      "Uno            5.370606\n",
      "dtype: float64\n"
     ]
    }
   ],
   "source": [
    "dg = data.groupby('FAMI_CUARTOSHOGAR').size()/data.shape[0] *100\n",
    "print(dg)"
   ]
  },
  {
   "cell_type": "code",
   "execution_count": 23,
   "metadata": {},
   "outputs": [
    {
     "name": "stdout",
     "output_type": "stream",
     "text": [
      "FAMI_ESTRATOVIVIENDA\n",
      "-               66507\n",
      "Estrato 1      344737\n",
      "Estrato 2      376729\n",
      "Estrato 3      208494\n",
      "Estrato 4       47730\n",
      "Estrato 5       15731\n",
      "Estrato 6        7566\n",
      "Sin Estrato     28602\n",
      "dtype: int64\n"
     ]
    }
   ],
   "source": [
    "dg = data.groupby('FAMI_ESTRATOVIVIENDA').size()#/data.shape[0] *100\n",
    "print(dg)"
   ]
  },
  {
   "cell_type": "code",
   "execution_count": 24,
   "metadata": {},
   "outputs": [
    {
     "name": "stdout",
     "output_type": "stream",
     "text": [
      "FAMI_TRABAJOLABORPADRE\n",
      "-                                                                                                        32949\n",
      "Es agricultor, pesquero o jornalero                                                                     156267\n",
      "Es dueño de un negocio grande, tiene un cargo de nivel directivo o gerencial                             25377\n",
      "Es dueño de un negocio pequeño (tiene pocos empleados o no tiene, por ejemplo tienda, papelería, etc     86557\n",
      "Es operario de máquinas o conduce vehículos (taxita, chofer)                                            112520\n",
      "Es vendedor o trabaja en atención al público                                                             66279\n",
      "No aplica                                                                                                92584\n",
      "No sabe                                                                                                  97940\n",
      "Pensionado                                                                                               25321\n",
      "Tiene un trabajo de tipo auxiliar administrativo (por ejemplo, secretario o asistente)                   47063\n",
      "Trabaja como personal de limpieza, mantenimiento, seguridad o construcción                               80460\n",
      "Trabaja como profesional (por ejemplo médico, abogado, ingeniero)                                        79805\n",
      "Trabaja en el hogar, no trabaja o estudia                                                                71085\n",
      "Trabaja por cuenta propia (por ejemplo plomero, electricista)                                           121889\n",
      "dtype: int64\n"
     ]
    }
   ],
   "source": [
    "dg = data.groupby('FAMI_TRABAJOLABORPADRE').size()#/data.shape[0] *100\n",
    "print(dg)"
   ]
  },
  {
   "cell_type": "code",
   "execution_count": 25,
   "metadata": {},
   "outputs": [
    {
     "name": "stdout",
     "output_type": "stream",
     "text": [
      "FAMI_TRABAJOLABORMADRE\n",
      "-                                                                                                        2.741731\n",
      "Es agricultor, pesquero o jornalero                                                                      2.943173\n",
      "Es dueño de un negocio grande, tiene un cargo de nivel directivo o gerencial                             1.492023\n",
      "Es dueño de un negocio pequeño (tiene pocos empleados o no tiene, por ejemplo tienda, papelería, etc     8.377733\n",
      "Es operario de máquinas o conduce vehículos (taxita, chofer)                                             1.583620\n",
      "Es vendedor o trabaja en atención al público                                                             7.450990\n",
      "No aplica                                                                                                4.809068\n",
      "No sabe                                                                                                  2.401158\n",
      "Pensionado                                                                                               0.682969\n",
      "Tiene un trabajo de tipo auxiliar administrativo (por ejemplo, secretario o asistente)                   8.055590\n",
      "Trabaja como personal de limpieza, mantenimiento, seguridad o construcción                               8.379649\n",
      "Trabaja como profesional (por ejemplo médico, abogado, ingeniero)                                        7.291788\n",
      "Trabaja en el hogar, no trabaja o estudia                                                               40.832646\n",
      "Trabaja por cuenta propia (por ejemplo plomero, electricista)                                            2.957861\n",
      "dtype: float64\n"
     ]
    }
   ],
   "source": [
    "dg = data.groupby('FAMI_TRABAJOLABORMADRE').size()/data.shape[0] *100\n",
    "print(dg)"
   ]
  },
  {
   "cell_type": "code",
   "execution_count": 26,
   "metadata": {},
   "outputs": [
    {
     "name": "stdout",
     "output_type": "stream",
     "text": [
      "FAMI_TIENESERVICIOTV\n",
      "-      5.880233\n",
      "No    22.953281\n",
      "Si    71.166485\n",
      "dtype: float64\n"
     ]
    }
   ],
   "source": [
    "dg = data.groupby('FAMI_TIENESERVICIOTV').size()/data.shape[0] *100\n",
    "print(dg)\n"
   ]
  },
  {
   "cell_type": "code",
   "execution_count": 27,
   "metadata": {},
   "outputs": [
    {
     "name": "stdout",
     "output_type": "stream",
     "text": [
      "PERIODO\n",
      "20172    49.827935\n",
      "20182    50.172065\n",
      "dtype: float64\n"
     ]
    }
   ],
   "source": [
    "dg = data.groupby('PERIODO').size()/data.shape[0] *100\n",
    "print(dg)"
   ]
  },
  {
   "cell_type": "code",
   "execution_count": 28,
   "metadata": {},
   "outputs": [
    {
     "ename": "KeyError",
     "evalue": "'ESTU_CONSECUTIVO'",
     "output_type": "error",
     "traceback": [
      "\u001b[1;31m---------------------------------------------------------------------------\u001b[0m",
      "\u001b[1;31mKeyError\u001b[0m                                  Traceback (most recent call last)",
      "\u001b[1;32m<ipython-input-28-2d8eb9737bc0>\u001b[0m in \u001b[0;36m<module>\u001b[1;34m\u001b[0m\n\u001b[1;32m----> 1\u001b[1;33m \u001b[0mdg\u001b[0m \u001b[1;33m=\u001b[0m \u001b[0mdata\u001b[0m\u001b[1;33m.\u001b[0m\u001b[0mgroupby\u001b[0m\u001b[1;33m(\u001b[0m\u001b[1;34m'ESTU_CONSECUTIVO'\u001b[0m\u001b[1;33m)\u001b[0m\u001b[1;33m.\u001b[0m\u001b[0msize\u001b[0m\u001b[1;33m(\u001b[0m\u001b[1;33m)\u001b[0m\u001b[1;33m/\u001b[0m\u001b[0mdata\u001b[0m\u001b[1;33m.\u001b[0m\u001b[0mshape\u001b[0m\u001b[1;33m[\u001b[0m\u001b[1;36m0\u001b[0m\u001b[1;33m]\u001b[0m \u001b[1;33m*\u001b[0m\u001b[1;36m100\u001b[0m\u001b[1;33m\u001b[0m\u001b[1;33m\u001b[0m\u001b[0m\n\u001b[0m\u001b[0;32m      2\u001b[0m \u001b[0mprint\u001b[0m\u001b[1;33m(\u001b[0m\u001b[0mdg\u001b[0m\u001b[1;33m)\u001b[0m\u001b[1;33m\u001b[0m\u001b[1;33m\u001b[0m\u001b[0m\n",
      "\u001b[1;32m~\\Anaconda3\\lib\\site-packages\\pandas\\core\\generic.py\u001b[0m in \u001b[0;36mgroupby\u001b[1;34m(self, by, axis, level, as_index, sort, group_keys, squeeze, observed, **kwargs)\u001b[0m\n\u001b[0;32m   7630\u001b[0m         return groupby(self, by=by, axis=axis, level=level, as_index=as_index,\n\u001b[0;32m   7631\u001b[0m                        \u001b[0msort\u001b[0m\u001b[1;33m=\u001b[0m\u001b[0msort\u001b[0m\u001b[1;33m,\u001b[0m \u001b[0mgroup_keys\u001b[0m\u001b[1;33m=\u001b[0m\u001b[0mgroup_keys\u001b[0m\u001b[1;33m,\u001b[0m \u001b[0msqueeze\u001b[0m\u001b[1;33m=\u001b[0m\u001b[0msqueeze\u001b[0m\u001b[1;33m,\u001b[0m\u001b[1;33m\u001b[0m\u001b[1;33m\u001b[0m\u001b[0m\n\u001b[1;32m-> 7632\u001b[1;33m                        observed=observed, **kwargs)\n\u001b[0m\u001b[0;32m   7633\u001b[0m \u001b[1;33m\u001b[0m\u001b[0m\n\u001b[0;32m   7634\u001b[0m     def asfreq(self, freq, method=None, how=None, normalize=False,\n",
      "\u001b[1;32m~\\Anaconda3\\lib\\site-packages\\pandas\\core\\groupby\\groupby.py\u001b[0m in \u001b[0;36mgroupby\u001b[1;34m(obj, by, **kwds)\u001b[0m\n\u001b[0;32m   2108\u001b[0m         \u001b[1;32mraise\u001b[0m \u001b[0mTypeError\u001b[0m\u001b[1;33m(\u001b[0m\u001b[1;34m'invalid type: {}'\u001b[0m\u001b[1;33m.\u001b[0m\u001b[0mformat\u001b[0m\u001b[1;33m(\u001b[0m\u001b[0mobj\u001b[0m\u001b[1;33m)\u001b[0m\u001b[1;33m)\u001b[0m\u001b[1;33m\u001b[0m\u001b[1;33m\u001b[0m\u001b[0m\n\u001b[0;32m   2109\u001b[0m \u001b[1;33m\u001b[0m\u001b[0m\n\u001b[1;32m-> 2110\u001b[1;33m     \u001b[1;32mreturn\u001b[0m \u001b[0mklass\u001b[0m\u001b[1;33m(\u001b[0m\u001b[0mobj\u001b[0m\u001b[1;33m,\u001b[0m \u001b[0mby\u001b[0m\u001b[1;33m,\u001b[0m \u001b[1;33m**\u001b[0m\u001b[0mkwds\u001b[0m\u001b[1;33m)\u001b[0m\u001b[1;33m\u001b[0m\u001b[1;33m\u001b[0m\u001b[0m\n\u001b[0m",
      "\u001b[1;32m~\\Anaconda3\\lib\\site-packages\\pandas\\core\\groupby\\groupby.py\u001b[0m in \u001b[0;36m__init__\u001b[1;34m(self, obj, keys, axis, level, grouper, exclusions, selection, as_index, sort, group_keys, squeeze, observed, **kwargs)\u001b[0m\n\u001b[0;32m    358\u001b[0m                                                     \u001b[0msort\u001b[0m\u001b[1;33m=\u001b[0m\u001b[0msort\u001b[0m\u001b[1;33m,\u001b[0m\u001b[1;33m\u001b[0m\u001b[1;33m\u001b[0m\u001b[0m\n\u001b[0;32m    359\u001b[0m                                                     \u001b[0mobserved\u001b[0m\u001b[1;33m=\u001b[0m\u001b[0mobserved\u001b[0m\u001b[1;33m,\u001b[0m\u001b[1;33m\u001b[0m\u001b[1;33m\u001b[0m\u001b[0m\n\u001b[1;32m--> 360\u001b[1;33m                                                     mutated=self.mutated)\n\u001b[0m\u001b[0;32m    361\u001b[0m \u001b[1;33m\u001b[0m\u001b[0m\n\u001b[0;32m    362\u001b[0m         \u001b[0mself\u001b[0m\u001b[1;33m.\u001b[0m\u001b[0mobj\u001b[0m \u001b[1;33m=\u001b[0m \u001b[0mobj\u001b[0m\u001b[1;33m\u001b[0m\u001b[1;33m\u001b[0m\u001b[0m\n",
      "\u001b[1;32m~\\Anaconda3\\lib\\site-packages\\pandas\\core\\groupby\\grouper.py\u001b[0m in \u001b[0;36m_get_grouper\u001b[1;34m(obj, key, axis, level, sort, observed, mutated, validate)\u001b[0m\n\u001b[0;32m    576\u001b[0m                 \u001b[0min_axis\u001b[0m\u001b[1;33m,\u001b[0m \u001b[0mname\u001b[0m\u001b[1;33m,\u001b[0m \u001b[0mlevel\u001b[0m\u001b[1;33m,\u001b[0m \u001b[0mgpr\u001b[0m \u001b[1;33m=\u001b[0m \u001b[1;32mFalse\u001b[0m\u001b[1;33m,\u001b[0m \u001b[1;32mNone\u001b[0m\u001b[1;33m,\u001b[0m \u001b[0mgpr\u001b[0m\u001b[1;33m,\u001b[0m \u001b[1;32mNone\u001b[0m\u001b[1;33m\u001b[0m\u001b[1;33m\u001b[0m\u001b[0m\n\u001b[0;32m    577\u001b[0m             \u001b[1;32melse\u001b[0m\u001b[1;33m:\u001b[0m\u001b[1;33m\u001b[0m\u001b[1;33m\u001b[0m\u001b[0m\n\u001b[1;32m--> 578\u001b[1;33m                 \u001b[1;32mraise\u001b[0m \u001b[0mKeyError\u001b[0m\u001b[1;33m(\u001b[0m\u001b[0mgpr\u001b[0m\u001b[1;33m)\u001b[0m\u001b[1;33m\u001b[0m\u001b[1;33m\u001b[0m\u001b[0m\n\u001b[0m\u001b[0;32m    579\u001b[0m         \u001b[1;32melif\u001b[0m \u001b[0misinstance\u001b[0m\u001b[1;33m(\u001b[0m\u001b[0mgpr\u001b[0m\u001b[1;33m,\u001b[0m \u001b[0mGrouper\u001b[0m\u001b[1;33m)\u001b[0m \u001b[1;32mand\u001b[0m \u001b[0mgpr\u001b[0m\u001b[1;33m.\u001b[0m\u001b[0mkey\u001b[0m \u001b[1;32mis\u001b[0m \u001b[1;32mnot\u001b[0m \u001b[1;32mNone\u001b[0m\u001b[1;33m:\u001b[0m\u001b[1;33m\u001b[0m\u001b[1;33m\u001b[0m\u001b[0m\n\u001b[0;32m    580\u001b[0m             \u001b[1;31m# Add key to exclusions\u001b[0m\u001b[1;33m\u001b[0m\u001b[1;33m\u001b[0m\u001b[1;33m\u001b[0m\u001b[0m\n",
      "\u001b[1;31mKeyError\u001b[0m: 'ESTU_CONSECUTIVO'"
     ]
    }
   ],
   "source": [
    "dg = data.groupby('ESTU_CONSECUTIVO').size()/data.shape[0] *100\n",
    "print(dg)"
   ]
  },
  {
   "cell_type": "code",
   "execution_count": null,
   "metadata": {},
   "outputs": [],
   "source": [
    "dg = data.groupby('ESTU_LIMITA_MOTRIZ').size()/data.shape[0] *100\n",
    "print(dg)"
   ]
  },
  {
   "cell_type": "code",
   "execution_count": null,
   "metadata": {},
   "outputs": [],
   "source": [
    "dg = data.groupby('ESTU_DEPTO_RESIDE').size()/data.shape[0] *100\n",
    "print(dg)"
   ]
  },
  {
   "cell_type": "code",
   "execution_count": null,
   "metadata": {},
   "outputs": [],
   "source": [
    "dg = data.groupby('ESTU_COD_RESIDE_DEPTO').size()/data.shape[0] *100\n",
    "print(dg)"
   ]
  },
  {
   "cell_type": "code",
   "execution_count": null,
   "metadata": {},
   "outputs": [],
   "source": [
    "dg = data.groupby('ESTU_MCPIO_RESIDE').size()/data.shape[0] *100\n",
    "print(dg)"
   ]
  },
  {
   "cell_type": "code",
   "execution_count": null,
   "metadata": {},
   "outputs": [],
   "source": [
    "dg = data.groupby('FAMI_PERSONASHOGAR').size()/data.shape[0] *100\n",
    "print(dg)"
   ]
  },
  {
   "cell_type": "code",
   "execution_count": null,
   "metadata": {},
   "outputs": [],
   "source": [
    "dg = data.groupby('FAMI_EDUCACIONMADRE').size()/data.shape[0] *100\n",
    "print(dg)"
   ]
  },
  {
   "cell_type": "code",
   "execution_count": null,
   "metadata": {},
   "outputs": [],
   "source": [
    "dg = data.groupby('FAMI_TIENECOMPUTADOR').size()/data.shape[0] *100\n",
    "print(dg)"
   ]
  },
  {
   "cell_type": "code",
   "execution_count": null,
   "metadata": {},
   "outputs": [],
   "source": [
    "dg = data.groupby('FAMI_TIENELAVADORA').size()/data.shape[0] *100\n",
    "print(dg)"
   ]
  },
  {
   "cell_type": "code",
   "execution_count": null,
   "metadata": {},
   "outputs": [],
   "source": [
    "dg = data.groupby('FAMI_TIENEHORNOMICROOGAS').size()/data.shape[0] *100\n",
    "print(dg)"
   ]
  },
  {
   "cell_type": "code",
   "execution_count": null,
   "metadata": {},
   "outputs": [],
   "source": [
    "dg = data.groupby('FAMI_TIENEAUTOMOVIL').size()/data.shape[0] *100\n",
    "print(dg)"
   ]
  },
  {
   "cell_type": "code",
   "execution_count": null,
   "metadata": {},
   "outputs": [],
   "source": [
    "dg = data.groupby('FAMI_TIENEMOTOCICLETA').size()/data.shape[0] *100\n",
    "print(dg)"
   ]
  },
  {
   "cell_type": "code",
   "execution_count": null,
   "metadata": {},
   "outputs": [],
   "source": [
    "dg = data.groupby('FAMI_TIENECONSOLAVIDEOJUEGOS').size()/data.shape[0] *100\n",
    "print(dg)"
   ]
  },
  {
   "cell_type": "code",
   "execution_count": null,
   "metadata": {},
   "outputs": [],
   "source": [
    "dg = data.groupby('FAMI_NUMLIBROS').size()/data.shape[0] *100\n",
    "print(dg)"
   ]
  },
  {
   "cell_type": "code",
   "execution_count": null,
   "metadata": {},
   "outputs": [],
   "source": [
    "dg = data.groupby('FAMI_COMELECHEDERIVADOS').size()/data.shape[0] *100\n",
    "print(dg)"
   ]
  },
  {
   "cell_type": "code",
   "execution_count": null,
   "metadata": {},
   "outputs": [],
   "source": [
    "dg = data.groupby('FAMI_COMECARNEPESCADOHUEVO').size()/data.shape[0] *100\n",
    "print(dg)"
   ]
  },
  {
   "cell_type": "code",
   "execution_count": null,
   "metadata": {},
   "outputs": [],
   "source": [
    "dg = data.groupby('FAMI_COMECEREALFRUTOSLEGUMBRE').size()/data.shape[0] *100\n",
    "print(dg)"
   ]
  },
  {
   "cell_type": "code",
   "execution_count": null,
   "metadata": {},
   "outputs": [],
   "source": [
    "dg = data.groupby('FAMI_SITUACIONECONOMICA').size()/data.shape[0] *100\n",
    "print(dg)"
   ]
  },
  {
   "cell_type": "code",
   "execution_count": null,
   "metadata": {},
   "outputs": [],
   "source": [
    "dg = data.groupby('ESTU_DEDICACIONLECTURADIARIA').size()/data.shape[0] *100\n",
    "print(dg)"
   ]
  },
  {
   "cell_type": "code",
   "execution_count": null,
   "metadata": {},
   "outputs": [],
   "source": [
    "dg = data.groupby('ESTU_DEDICACIONINTERNET').size()/data.shape[0] *100\n",
    "print(dg)"
   ]
  },
  {
   "cell_type": "code",
   "execution_count": null,
   "metadata": {},
   "outputs": [],
   "source": [
    "dg = data.groupby('ESTU_TIPOREMUNERACION').size()/data.shape[0] *100\n",
    "print(dg)"
   ]
  },
  {
   "cell_type": "code",
   "execution_count": null,
   "metadata": {},
   "outputs": [],
   "source": [
    "dg = data.groupby('COLE_NOMBRE_ESTABLECIMIENTO').size()/data.shape[0] *100\n",
    "print(dg)"
   ]
  },
  {
   "cell_type": "code",
   "execution_count": null,
   "metadata": {},
   "outputs": [],
   "source": [
    "dg = data.groupby('COLE_NATURALEZA').size()/data.shape[0] *100\n",
    "print(dg)"
   ]
  },
  {
   "cell_type": "code",
   "execution_count": null,
   "metadata": {},
   "outputs": [],
   "source": [
    "dg = data.groupby('COLE_BILINGUE').size()/data.shape[0] *100\n",
    "print(dg)"
   ]
  },
  {
   "cell_type": "code",
   "execution_count": null,
   "metadata": {},
   "outputs": [],
   "source": [
    "dg = data.groupby('COLE_CARACTER').size()/data.shape[0] *100\n",
    "print(dg)"
   ]
  },
  {
   "cell_type": "code",
   "execution_count": null,
   "metadata": {},
   "outputs": [],
   "source": [
    "dg = data.groupby('COLE_COD_DANE_SEDE').size()/data.shape[0] *100\n",
    "print(dg)"
   ]
  },
  {
   "cell_type": "code",
   "execution_count": null,
   "metadata": {},
   "outputs": [],
   "source": [
    "dg = data.groupby('COLE_AREA_UBICACION').size()/data.shape[0] *100\n",
    "print(dg)"
   ]
  },
  {
   "cell_type": "code",
   "execution_count": null,
   "metadata": {},
   "outputs": [],
   "source": [
    "dg = data.groupby('COLE_JORNADA').size()/data.shape[0] *100\n",
    "print(dg)"
   ]
  },
  {
   "cell_type": "code",
   "execution_count": null,
   "metadata": {},
   "outputs": [],
   "source": [
    "dg = data.groupby('COLE_COD_MCPIO_UBICACION').size()/data.shape[0] *100\n",
    "print(dg)"
   ]
  },
  {
   "cell_type": "code",
   "execution_count": null,
   "metadata": {},
   "outputs": [],
   "source": [
    "dg = data.groupby('COLE_MCPIO_UBICACION').size()/data.shape[0] *100\n",
    "print(dg)"
   ]
  },
  {
   "cell_type": "code",
   "execution_count": null,
   "metadata": {},
   "outputs": [],
   "source": [
    "dg = data.groupby('COLE_DEPTO_UBICACION').size()/data.shape[0] *100\n",
    "print(dg)"
   ]
  },
  {
   "cell_type": "code",
   "execution_count": null,
   "metadata": {},
   "outputs": [],
   "source": [
    "dg = data.groupby('ESTU_COD_MCPIO_PRESENTACION').size()/data.shape[0] *100\n",
    "print(dg)"
   ]
  },
  {
   "cell_type": "code",
   "execution_count": null,
   "metadata": {},
   "outputs": [],
   "source": [
    "dg = data.groupby('ESTU_GENERO').size()/data.shape[0] *100\n",
    "print(dg)"
   ]
  },
  {
   "cell_type": "code",
   "execution_count": null,
   "metadata": {},
   "outputs": [],
   "source": [
    "dg = data.groupby('ESTU_FECHANACIMIENTO').size()/data.shape[0] *100\n",
    "print(dg)"
   ]
  },
  {
   "cell_type": "code",
   "execution_count": null,
   "metadata": {},
   "outputs": [],
   "source": [
    "#PUNT_GLOBAL\n",
    "#dg = data.groupby(['ESTU_TIENEETNIA', 'FAMI_ESTRATOVIVIENDA' ]).size()\n",
    "dg = data[data['FAMI_ESTRATOVIVIENDA'] == 'Estrato 5']\n",
    "print(dg.shape)"
   ]
  },
  {
   "cell_type": "code",
   "execution_count": null,
   "metadata": {},
   "outputs": [],
   "source": [
    "dg = data['PUNT_GLOBAL'].max()\n",
    "print(dg)"
   ]
  },
  {
   "cell_type": "code",
   "execution_count": null,
   "metadata": {},
   "outputs": [],
   "source": [
    "hist = data['PUNT_GLOBAL'].hist(bins=478, grid=False, figsize=(12,8), color='#86bf91', zorder=2, rwidth=0.9)\n",
    "print(hist)"
   ]
  },
  {
   "cell_type": "code",
   "execution_count": null,
   "metadata": {},
   "outputs": [],
   "source": [
    "hist = data['PUNT_INGLES'].hist(bins=50, grid=False, figsize=(12,8), color='#86bf91', zorder=2, rwidth=0.9)\n",
    "print(hist)"
   ]
  },
  {
   "cell_type": "code",
   "execution_count": null,
   "metadata": {},
   "outputs": [],
   "source": [
    "hist = data['PUNT_MATEMATICAS'].hist(bins=50, grid=False, figsize=(12,8), color='#86bf91', zorder=2, rwidth=0.9)\n",
    "print(hist)\n"
   ]
  },
  {
   "cell_type": "code",
   "execution_count": null,
   "metadata": {},
   "outputs": [],
   "source": [
    "FeminasData = data[data['ESTU_GENERO'] == 'F']\n",
    "hist = FeminasData['PUNT_MATEMATICAS'].hist(bins=50, grid=False, figsize=(12,8), color='#86bf91', zorder=2, rwidth=0.9)\n",
    "print(hist)\n",
    "\n",
    "print(FeminasData.shape)\n",
    "#hist = data['PUNT_MATEMATICAS'].hist(bins=50, grid=False, figsize=(12,8), color='#86bf91', zorder=2, rwidth=0.9)"
   ]
  },
  {
   "cell_type": "code",
   "execution_count": null,
   "metadata": {},
   "outputs": [],
   "source": [
    "MachosData = data[data['ESTU_GENERO'] == 'M']\n",
    "hist = MachosData['PUNT_MATEMATICAS'].hist(bins=50, grid=False, figsize=(12,8), color='#86bf91', zorder=2, rwidth=0.9)\n",
    "print(hist)\n",
    "print(MachosData.shape)\n"
   ]
  },
  {
   "cell_type": "code",
   "execution_count": null,
   "metadata": {},
   "outputs": [],
   "source": [
    "#hist = data['FAMI_ESTRATOVIVIENDA'].hist()#bins=6, grid=False, figsize=(12,8), color='#86bf91', zorder=2, rwidth=0.9)\n",
    "#print(hist)\n"
   ]
  },
  {
   "cell_type": "code",
   "execution_count": null,
   "metadata": {},
   "outputs": [],
   "source": [
    "colors = {'M':'r', 'F':'b'}\n",
    "fig, ax = plt.subplots()\n",
    "for i in range(10000):\n",
    "    ax.scatter(data['PUNT_GLOBAL'][i], data['ESTU_INSE_INDIVIDUAL'][i],color=colors[data['ESTU_GENERO'][i]])\n",
    "ax.set_title('Iris Dataset')\n",
    "ax.set_xlabel('PUNT_GLOBAL')\n",
    "ax.set_ylabel('ESTU_INSE_INDIVIDUAL')"
   ]
  },
  {
   "cell_type": "code",
   "execution_count": null,
   "metadata": {},
   "outputs": [],
   "source": [
    "data['ESTU_GENERO'][0]"
   ]
  },
  {
   "cell_type": "code",
   "execution_count": null,
   "metadata": {},
   "outputs": [],
   "source": [
    "print(data.PUNT_GLOBAL.corr(data.ESTU_INSE_INDIVIDUAL, method=\"pearson\"))\n",
    "#print(data.PUNT_GLOBAL.corr(data.ESTU_INSE_INDIVIDUAL, method=\"kendall\"))\n",
    "#print(data.PUNT_GLOBAL.corr(data.ESTU_INSE_INDIVIDUAL, method=\"spearman\"))\n",
    "#print(data.PUNT_GLOBAL.corr(data.ESTU_INSE_INDIVIDUAL, method=\"callable\"))\n"
   ]
  },
  {
   "cell_type": "code",
   "execution_count": null,
   "metadata": {},
   "outputs": [],
   "source": [
    "print(data.PUNT_GLOBAL.corr(data.ESTU_NSE_INDIVIDUAL, method=\"pearson\"))"
   ]
  },
  {
   "cell_type": "code",
   "execution_count": null,
   "metadata": {},
   "outputs": [],
   "source": [
    "data.groupby('ESTU_NSE_INDIVIDUAL').size().plot(kind='bar')"
   ]
  },
  {
   "cell_type": "code",
   "execution_count": 56,
   "metadata": {},
   "outputs": [
    {
     "data": {
      "text/plain": [
       "PERIODO\n",
       "20172    546162\n",
       "20182    549934\n",
       "dtype: int64"
      ]
     },
     "execution_count": 56,
     "metadata": {},
     "output_type": "execute_result"
    }
   ],
   "source": [
    "data.groupby('PERIODO').size()"
   ]
  },
  {
   "cell_type": "markdown",
   "metadata": {},
   "source": [
    "# Entropia"
   ]
  },
  {
   "cell_type": "code",
   "execution_count": null,
   "metadata": {},
   "outputs": [],
   "source": [
    "attributes = [\"ESTU_GENERO\", \"ESTU_FECHANACIMIENTO\", \"PERIODO\", \"ESTU_TIENEETNIA\", \"ESTU_ETNIA\", \"ESTU_LIMITA_MOTRIZ\", \"ESTU_DEPTO_RESIDE\", \"ESTU_MCPIO_RESIDE\", \"FAMI_ESTRATOVIVIENDA\", \"FAMI_PERSONASHOGAR\", \"FAMI_CUARTOSHOGAR\", \"FAMI_EDUCACIONPADRE\", \"FAMI_EDUCACIONMADRE\", \"FAMI_TRABAJOLABORPADRE\", \"FAMI_TRABAJOLABORMADRE\", \"FAMI_TIENESERVICIOTV\", \"FAMI_TIENECOMPUTADOR\", \"FAMI_TIENELAVADORA\", \"FAMI_TIENEHORNOMICROOGAS\", \"FAMI_TIENEAUTOMOVIL\", \"FAMI_TIENEMOTOCICLETA\", \"FAMI_TIENECONSOLAVIDEOJUEGOS\", \"FAMI_NUMLIBROS\", \"FAMI_COMELECHEDERIVADOS\", \"FAMI_COMECARNEPESCADOHUEVO\", \"FAMI_COMECEREALFRUTOSLEGUMBRE\", \"FAMI_SITUACIONECONOMICA\", \"ESTU_DEDICACIONLECTURADIARIA\", \"ESTU_DEDICACIONINTERNET\", \"ESTU_HORASSEMANATRABAJA\", \"ESTU_TIPOREMUNERACION\", \"COLE_NOMBRE_ESTABLECIMIENTO\", \"COLE_NATURALEZA\", \"COLE_BILINGUE\", \"COLE_CARACTER\", \"COLE_AREA_UBICACION\", \"COLE_JORNADA\", \"COLE_MCPIO_UBICACION\", \"COLE_DEPTO_UBICACION\", \"ESTU_PRIVADO_LIBERTAD\", \"PUNT_LECTURA_CRITICA\", \"PERCENTIL_LECTURA_CRITICA\", \"PUNT_MATEMATICAS\", \"PERCENTIL_MATEMATICAS\", \"PUNT_C_NATURALES\", \"PERCENTIL_C_NATURALES\", \"PUNT_SOCIALES_CIUDADANAS\", \"PERCENTIL_SOCIALES_CIUDADANAS\", \"PUNT_INGLES\", \"PERCENTIL_INGLES\", \"PUNT_GLOBAL\", \"PERCENTIL_GLOBAL\", \"ESTU_NSE_ESTABLECIMIENTO\", \"ESTU_INSE_INDIVIDUAL\", \"ESTU_NSE_INDIVIDUAL\"]"
   ]
  },
  {
   "cell_type": "code",
   "execution_count": 38,
   "metadata": {},
   "outputs": [],
   "source": [
    "def EntropySum(n):\n",
    "    if n == 0:\n",
    "        return 0\n",
    "    if n == 1:\n",
    "        return 0\n",
    "    else:\n",
    "        return n*math.log(n,2)+(1-n)*math.log(1-n,2)\n",
    "\n",
    "def compare(i,j,colPass):\n",
    "    count = 0\n",
    "    for col in attributes:\n",
    "        if data.iloc[i][col] == data.iloc[j][col]:\n",
    "            if col != colPass:\n",
    "                count+=1\n",
    "    return count"
   ]
  },
  {
   "cell_type": "code",
   "execution_count": 34,
   "metadata": {},
   "outputs": [
    {
     "data": {
      "text/plain": [
       "ESTU_GENERO                                                                      M\n",
       "ESTU_FECHANACIMIENTO                                                    10/06/2002\n",
       "PERIODO                                                                      20182\n",
       "ESTU_TIENEETNIA                                                                 No\n",
       "ESTU_ETNIA                                                                       -\n",
       "ESTU_LIMITA_MOTRIZ                                                               -\n",
       "ESTU_DEPTO_RESIDE                                                        ATLANTICO\n",
       "ESTU_MCPIO_RESIDE                                                          SOLEDAD\n",
       "FAMI_ESTRATOVIVIENDA                                                     Estrato 2\n",
       "FAMI_PERSONASHOGAR                                                           7 a 8\n",
       "FAMI_CUARTOSHOGAR                                                           Cuatro\n",
       "FAMI_EDUCACIONPADRE                                                        No sabe\n",
       "FAMI_EDUCACIONMADRE                                                        No sabe\n",
       "FAMI_TRABAJOLABORPADRE                Es vendedor o trabaja en atención al público\n",
       "FAMI_TRABAJOLABORMADRE                Es vendedor o trabaja en atención al público\n",
       "FAMI_TIENESERVICIOTV                                                            Si\n",
       "FAMI_TIENECOMPUTADOR                                                            No\n",
       "FAMI_TIENELAVADORA                                                              Si\n",
       "FAMI_TIENEHORNOMICROOGAS                                                        No\n",
       "FAMI_TIENEAUTOMOVIL                                                             No\n",
       "FAMI_TIENEMOTOCICLETA                                                           Si\n",
       "FAMI_TIENECONSOLAVIDEOJUEGOS                                                    No\n",
       "FAMI_NUMLIBROS                                                     26 A 100 LIBROS\n",
       "FAMI_COMELECHEDERIVADOS                                Todos o casi todos los días\n",
       "FAMI_COMECARNEPESCADOHUEVO                             Todos o casi todos los días\n",
       "FAMI_COMECEREALFRUTOSLEGUMBRE                               1 o 2 veces por semana\n",
       "FAMI_SITUACIONECONOMICA                                                      Igual\n",
       "ESTU_DEDICACIONLECTURADIARIA                                    30 minutos o menos\n",
       "ESTU_DEDICACIONINTERNET                                             Más de 3 horas\n",
       "ESTU_HORASSEMANATRABAJA                                                          0\n",
       "ESTU_TIPOREMUNERACION                                                           No\n",
       "COLE_NOMBRE_ESTABLECIMIENTO      INSTITUCION EDUCATIVA DISTRITAL PARA EL DESARR...\n",
       "COLE_NATURALEZA                                                            OFICIAL\n",
       "COLE_BILINGUE                                                                    N\n",
       "COLE_CARACTER                                                            ACADÉMICO\n",
       "COLE_AREA_UBICACION                                                         URBANO\n",
       "COLE_JORNADA                                                                MAÑANA\n",
       "COLE_MCPIO_UBICACION                                                  BARRANQUILLA\n",
       "COLE_DEPTO_UBICACION                                                     ATLANTICO\n",
       "ESTU_PRIVADO_LIBERTAD                                                            N\n",
       "PUNT_LECTURA_CRITICA                                                            63\n",
       "PERCENTIL_LECTURA_CRITICA                                                       84\n",
       "PUNT_MATEMATICAS                                                                69\n",
       "PERCENTIL_MATEMATICAS                                                           95\n",
       "PUNT_C_NATURALES                                                                54\n",
       "PERCENTIL_C_NATURALES                                                           67\n",
       "PUNT_SOCIALES_CIUDADANAS                                                        57\n",
       "PERCENTIL_SOCIALES_CIUDADANAS                                                   76\n",
       "PUNT_INGLES                                                                     65\n",
       "PERCENTIL_INGLES                                                                90\n",
       "PUNT_GLOBAL                                                                    305\n",
       "PERCENTIL_GLOBAL                                                                85\n",
       "ESTU_NSE_ESTABLECIMIENTO                                                         2\n",
       "ESTU_INSE_INDIVIDUAL                                                       53.1699\n",
       "ESTU_NSE_INDIVIDUAL                                                           NSE3\n",
       "Name: 0, dtype: object"
      ]
     },
     "execution_count": 34,
     "metadata": {},
     "output_type": "execute_result"
    }
   ],
   "source": [
    "data.iloc[0]"
   ]
  },
  {
   "cell_type": "code",
   "execution_count": 36,
   "metadata": {},
   "outputs": [
    {
     "data": {
      "text/plain": [
       "ESTU_GENERO                                                                      M\n",
       "ESTU_FECHANACIMIENTO                                                    22/10/2000\n",
       "PERIODO                                                                      20182\n",
       "ESTU_TIENEETNIA                                                                 No\n",
       "ESTU_ETNIA                                                                       -\n",
       "ESTU_LIMITA_MOTRIZ                                                               -\n",
       "ESTU_DEPTO_RESIDE                                                          CORDOBA\n",
       "ESTU_MCPIO_RESIDE                                                           LORICA\n",
       "FAMI_ESTRATOVIVIENDA                                                     Estrato 1\n",
       "FAMI_PERSONASHOGAR                                                           5 a 6\n",
       "FAMI_CUARTOSHOGAR                                                              Dos\n",
       "FAMI_EDUCACIONPADRE                             Secundaria (Bachillerato) completa\n",
       "FAMI_EDUCACIONMADRE                                              Primaria completa\n",
       "FAMI_TRABAJOLABORPADRE           Trabaja por cuenta propia (por ejemplo plomero...\n",
       "FAMI_TRABAJOLABORMADRE                   Trabaja en el hogar, no trabaja o estudia\n",
       "FAMI_TIENESERVICIOTV                                                            Si\n",
       "FAMI_TIENECOMPUTADOR                                                            No\n",
       "FAMI_TIENELAVADORA                                                              Si\n",
       "FAMI_TIENEHORNOMICROOGAS                                                        No\n",
       "FAMI_TIENEAUTOMOVIL                                                             No\n",
       "FAMI_TIENEMOTOCICLETA                                                           Si\n",
       "FAMI_TIENECONSOLAVIDEOJUEGOS                                                    No\n",
       "FAMI_NUMLIBROS                                                      11 A 25 LIBROS\n",
       "FAMI_COMELECHEDERIVADOS                               Nunca o rara vez comemos eso\n",
       "FAMI_COMECARNEPESCADOHUEVO                                  1 o 2 veces por semana\n",
       "FAMI_COMECEREALFRUTOSLEGUMBRE                               1 o 2 veces por semana\n",
       "FAMI_SITUACIONECONOMICA                                                      Mejor\n",
       "ESTU_DEDICACIONLECTURADIARIA                                 Entre 30 y 60 minutos\n",
       "ESTU_DEDICACIONINTERNET                                      Entre 30 y 60 minutos\n",
       "ESTU_HORASSEMANATRABAJA                                                          0\n",
       "ESTU_TIPOREMUNERACION                                                           No\n",
       "COLE_NOMBRE_ESTABLECIMIENTO                       IE ANTONIO DE LA TORRE Y MIRANDA\n",
       "COLE_NATURALEZA                                                            OFICIAL\n",
       "COLE_BILINGUE                                                                    N\n",
       "COLE_CARACTER                                                            ACADÉMICO\n",
       "COLE_AREA_UBICACION                                                         URBANO\n",
       "COLE_JORNADA                                                                 UNICA\n",
       "COLE_MCPIO_UBICACION                                                        LORICA\n",
       "COLE_DEPTO_UBICACION                                                       CORDOBA\n",
       "ESTU_PRIVADO_LIBERTAD                                                            N\n",
       "PUNT_LECTURA_CRITICA                                                            54\n",
       "PERCENTIL_LECTURA_CRITICA                                                       54\n",
       "PUNT_MATEMATICAS                                                                50\n",
       "PERCENTIL_MATEMATICAS                                                           48\n",
       "PUNT_C_NATURALES                                                                50\n",
       "PERCENTIL_C_NATURALES                                                           53\n",
       "PUNT_SOCIALES_CIUDADANAS                                                        40\n",
       "PERCENTIL_SOCIALES_CIUDADANAS                                                   28\n",
       "PUNT_INGLES                                                                     48\n",
       "PERCENTIL_INGLES                                                                46\n",
       "PUNT_GLOBAL                                                                    242\n",
       "PERCENTIL_GLOBAL                                                                46\n",
       "ESTU_NSE_ESTABLECIMIENTO                                                         2\n",
       "ESTU_INSE_INDIVIDUAL                                                       45.0629\n",
       "ESTU_NSE_INDIVIDUAL                                                           NSE2\n",
       "Name: 1, dtype: object"
      ]
     },
     "execution_count": 36,
     "metadata": {},
     "output_type": "execute_result"
    }
   ],
   "source": [
    "data.iloc[1]"
   ]
  },
  {
   "cell_type": "code",
   "execution_count": 39,
   "metadata": {},
   "outputs": [
    {
     "data": {
      "text/plain": [
       "21"
      ]
     },
     "execution_count": 39,
     "metadata": {},
     "output_type": "execute_result"
    }
   ],
   "source": [
    "compare(0,1,\"\")"
   ]
  },
  {
   "cell_type": "code",
   "execution_count": null,
   "metadata": {},
   "outputs": [],
   "source": [
    "arr = [[3,3,1,'A'],[3,6,2,'A'],[5,3,1,'B'],[5,6,2,'B'],[7,3,1,'A'],[5,4,2,'B']]\n",
    "\n",
    "entropy = 0\n",
    "print(\"semejansas R i j\")\n",
    "for i in range(len(arr)):\n",
    "    for j in range(i+1,len(arr)):\n",
    "        result = compare(arr[i], arr[j],-1)\n",
    "        entropy += EntropySum(result/4)\n",
    "        print(\"R\",i,j,\"=\",result)\n",
    "    print(\"----------------\")\n",
    "print(\"EntropyTotal\",entropy*-1)"
   ]
  },
  {
   "cell_type": "code",
   "execution_count": 54,
   "metadata": {},
   "outputs": [
    {
     "name": "stdout",
     "output_type": "stream",
     "text": [
      "R 0 999 = -907.7827903243349\n",
      "R 1 999 = -1816.2229853257054\n",
      "R 2 999 = -2686.5302201501677\n",
      "R 3 999 = -3513.392901147815\n",
      "R 4 999 = -4389.229856665792\n",
      "R 5 999 = -5167.721112742415\n",
      "R 6 999 = -5991.974230608623\n",
      "R 7 999 = -6859.286561307716\n",
      "R 8 999 = -7726.594583433897\n",
      "R 9 999 = -8578.593456526554\n",
      "R 10 999 = -9462.646504080254\n",
      "R 11 999 = -10372.22535158011\n",
      "R 12 999 = -11184.688304436031\n",
      "R 13 999 = -12089.697196719211\n",
      "R 14 999 = -12957.340148667407\n",
      "R 15 999 = -13850.964640471797\n",
      "R 16 999 = -14721.860703977916\n",
      "R 17 999 = -15553.030416256592\n",
      "R 18 999 = -16411.79048022234\n",
      "R 19 999 = -17206.5934954635\n",
      "R 20 999 = -18085.390789103\n",
      "R 21 999 = -18958.23904614969\n",
      "R 22 999 = -19821.8282176573\n",
      "R 23 999 = -20643.96324689267\n",
      "R 24 999 = -21478.249601497322\n",
      "R 25 999 = -22311.62195459693\n",
      "R 26 999 = -23177.823210701958\n",
      "R 27 999 = -23880.210349686764\n",
      "R 28 999 = -24611.183230665803\n",
      "R 29 999 = -25456.77333785591\n",
      "R 30 999 = -26327.892179014456\n",
      "R 31 999 = -27202.66289878667\n",
      "R 32 999 = -27924.66196826862\n",
      "R 33 999 = -28784.642499231493\n",
      "R 34 999 = -29592.308553202914\n",
      "R 35 999 = -30308.625706623647\n",
      "R 36 999 = -31161.723809231094\n",
      "R 37 999 = -32013.756654402878\n",
      "R 38 999 = -32869.09748985557\n",
      "R 39 999 = -33671.55702086309\n",
      "R 40 999 = -34537.18701619959\n",
      "R 41 999 = -35147.101980848536\n",
      "R 42 999 = -36004.92845154401\n",
      "R 43 999 = -36651.34590490925\n",
      "R 44 999 = -37422.35117663714\n",
      "R 45 999 = -38271.9691908361\n",
      "R 46 999 = -39118.61861863045\n",
      "R 47 999 = -39961.89839384312\n",
      "R 48 999 = -40691.111232667135\n",
      "R 49 999 = -41547.87502394499\n",
      "R 50 999 = -42372.414571607835\n",
      "R 51 999 = -43227.29161542281\n",
      "R 52 999 = -44092.61300963143\n",
      "R 53 999 = -44759.81953736403\n",
      "R 54 999 = -45576.93988876535\n",
      "R 55 999 = -46421.802140937354\n",
      "R 56 999 = -47239.286069748014\n",
      "R 57 999 = -48069.64326729221\n",
      "R 58 999 = -48902.134824270885\n",
      "R 59 999 = -49732.97872484994\n",
      "R 60 999 = -50576.08659389634\n",
      "R 61 999 = -51390.43394675046\n",
      "R 62 999 = -52206.84889190547\n",
      "R 63 999 = -53029.08572101693\n",
      "R 64 999 = -53846.826545028525\n",
      "R 65 999 = -54675.04059726332\n",
      "R 66 999 = -55494.17680463528\n",
      "R 67 999 = -56316.67494932847\n",
      "R 68 999 = -57122.71417979328\n",
      "R 69 999 = -57975.11960263968\n",
      "R 70 999 = -58816.34819868393\n",
      "R 71 999 = -59468.866819280454\n",
      "R 72 999 = -60274.746316168596\n",
      "R 73 999 = -61088.872226435116\n",
      "R 74 999 = -61898.02400004758\n",
      "R 75 999 = -62704.01108456476\n",
      "R 76 999 = -63532.68741066731\n",
      "R 77 999 = -64316.837327463385\n",
      "R 78 999 = -65135.79896803577\n",
      "R 79 999 = -65898.98354666507\n",
      "R 80 999 = -66721.49496388082\n",
      "R 81 999 = -67530.84066420466\n",
      "R 82 999 = -68340.33782914457\n",
      "R 83 999 = -69113.88129779449\n",
      "R 84 999 = -69885.00754522538\n",
      "R 85 999 = -70702.89334201426\n",
      "R 86 999 = -71489.44035169325\n",
      "R 87 999 = -72303.6147818826\n",
      "R 88 999 = -73014.9217656141\n",
      "R 89 999 = -73832.31012666175\n",
      "R 90 999 = -74436.66428504953\n",
      "R 91 999 = -75220.19306197255\n"
     ]
    },
    {
     "ename": "KeyboardInterrupt",
     "evalue": "",
     "output_type": "error",
     "traceback": [
      "\u001b[1;31m---------------------------------------------------------------------------\u001b[0m",
      "\u001b[1;31mKeyboardInterrupt\u001b[0m                         Traceback (most recent call last)",
      "\u001b[1;32m<ipython-input-54-bc5807afbc12>\u001b[0m in \u001b[0;36m<module>\u001b[1;34m\u001b[0m\n\u001b[0;32m      3\u001b[0m \u001b[1;32mfor\u001b[0m \u001b[0mi\u001b[0m \u001b[1;32min\u001b[0m \u001b[0mrange\u001b[0m\u001b[1;33m(\u001b[0m\u001b[0mdataSize\u001b[0m\u001b[1;33m)\u001b[0m\u001b[1;33m:\u001b[0m\u001b[1;33m\u001b[0m\u001b[1;33m\u001b[0m\u001b[0m\n\u001b[0;32m      4\u001b[0m     \u001b[1;32mfor\u001b[0m \u001b[0mj\u001b[0m \u001b[1;32min\u001b[0m \u001b[0mrange\u001b[0m\u001b[1;33m(\u001b[0m\u001b[0mi\u001b[0m\u001b[1;33m+\u001b[0m\u001b[1;36m1\u001b[0m\u001b[1;33m,\u001b[0m\u001b[0mdataSize\u001b[0m\u001b[1;33m)\u001b[0m\u001b[1;33m:\u001b[0m\u001b[1;33m\u001b[0m\u001b[1;33m\u001b[0m\u001b[0m\n\u001b[1;32m----> 5\u001b[1;33m         \u001b[0mresult\u001b[0m \u001b[1;33m=\u001b[0m \u001b[0mcompare\u001b[0m\u001b[1;33m(\u001b[0m\u001b[0mi\u001b[0m\u001b[1;33m,\u001b[0m \u001b[0mj\u001b[0m\u001b[1;33m,\u001b[0m \u001b[1;34m\"\"\u001b[0m\u001b[1;33m)\u001b[0m\u001b[1;33m\u001b[0m\u001b[1;33m\u001b[0m\u001b[0m\n\u001b[0m\u001b[0;32m      6\u001b[0m         \u001b[0mentropy\u001b[0m \u001b[1;33m+=\u001b[0m \u001b[0mEntropySum\u001b[0m\u001b[1;33m(\u001b[0m\u001b[0mresult\u001b[0m\u001b[1;33m/\u001b[0m\u001b[0mdata\u001b[0m\u001b[1;33m.\u001b[0m\u001b[0mshape\u001b[0m\u001b[1;33m[\u001b[0m\u001b[1;36m1\u001b[0m\u001b[1;33m]\u001b[0m\u001b[1;33m)\u001b[0m\u001b[1;33m\u001b[0m\u001b[1;33m\u001b[0m\u001b[0m\n\u001b[0;32m      7\u001b[0m         \u001b[1;31m#if j%100 == 0:\u001b[0m\u001b[1;33m\u001b[0m\u001b[1;33m\u001b[0m\u001b[1;33m\u001b[0m\u001b[0m\n",
      "\u001b[1;32m<ipython-input-38-de3d22c6116e>\u001b[0m in \u001b[0;36mcompare\u001b[1;34m(i, j, colPass)\u001b[0m\n\u001b[0;32m     10\u001b[0m     \u001b[0mcount\u001b[0m \u001b[1;33m=\u001b[0m \u001b[1;36m0\u001b[0m\u001b[1;33m\u001b[0m\u001b[1;33m\u001b[0m\u001b[0m\n\u001b[0;32m     11\u001b[0m     \u001b[1;32mfor\u001b[0m \u001b[0mcol\u001b[0m \u001b[1;32min\u001b[0m \u001b[0mattributes\u001b[0m\u001b[1;33m:\u001b[0m\u001b[1;33m\u001b[0m\u001b[1;33m\u001b[0m\u001b[0m\n\u001b[1;32m---> 12\u001b[1;33m         \u001b[1;32mif\u001b[0m \u001b[0mdata\u001b[0m\u001b[1;33m.\u001b[0m\u001b[0miloc\u001b[0m\u001b[1;33m[\u001b[0m\u001b[0mi\u001b[0m\u001b[1;33m]\u001b[0m\u001b[1;33m[\u001b[0m\u001b[0mcol\u001b[0m\u001b[1;33m]\u001b[0m \u001b[1;33m==\u001b[0m \u001b[0mdata\u001b[0m\u001b[1;33m.\u001b[0m\u001b[0miloc\u001b[0m\u001b[1;33m[\u001b[0m\u001b[0mj\u001b[0m\u001b[1;33m]\u001b[0m\u001b[1;33m[\u001b[0m\u001b[0mcol\u001b[0m\u001b[1;33m]\u001b[0m\u001b[1;33m:\u001b[0m\u001b[1;33m\u001b[0m\u001b[1;33m\u001b[0m\u001b[0m\n\u001b[0m\u001b[0;32m     13\u001b[0m             \u001b[1;32mif\u001b[0m \u001b[0mcol\u001b[0m \u001b[1;33m!=\u001b[0m \u001b[0mcolPass\u001b[0m\u001b[1;33m:\u001b[0m\u001b[1;33m\u001b[0m\u001b[1;33m\u001b[0m\u001b[0m\n\u001b[0;32m     14\u001b[0m                 \u001b[0mcount\u001b[0m\u001b[1;33m+=\u001b[0m\u001b[1;36m1\u001b[0m\u001b[1;33m\u001b[0m\u001b[1;33m\u001b[0m\u001b[0m\n",
      "\u001b[1;32m~\\Anaconda3\\lib\\site-packages\\pandas\\core\\indexing.py\u001b[0m in \u001b[0;36m__getitem__\u001b[1;34m(self, key)\u001b[0m\n\u001b[0;32m   1498\u001b[0m \u001b[1;33m\u001b[0m\u001b[0m\n\u001b[0;32m   1499\u001b[0m             \u001b[0mmaybe_callable\u001b[0m \u001b[1;33m=\u001b[0m \u001b[0mcom\u001b[0m\u001b[1;33m.\u001b[0m\u001b[0mapply_if_callable\u001b[0m\u001b[1;33m(\u001b[0m\u001b[0mkey\u001b[0m\u001b[1;33m,\u001b[0m \u001b[0mself\u001b[0m\u001b[1;33m.\u001b[0m\u001b[0mobj\u001b[0m\u001b[1;33m)\u001b[0m\u001b[1;33m\u001b[0m\u001b[1;33m\u001b[0m\u001b[0m\n\u001b[1;32m-> 1500\u001b[1;33m             \u001b[1;32mreturn\u001b[0m \u001b[0mself\u001b[0m\u001b[1;33m.\u001b[0m\u001b[0m_getitem_axis\u001b[0m\u001b[1;33m(\u001b[0m\u001b[0mmaybe_callable\u001b[0m\u001b[1;33m,\u001b[0m \u001b[0maxis\u001b[0m\u001b[1;33m=\u001b[0m\u001b[0maxis\u001b[0m\u001b[1;33m)\u001b[0m\u001b[1;33m\u001b[0m\u001b[1;33m\u001b[0m\u001b[0m\n\u001b[0m\u001b[0;32m   1501\u001b[0m \u001b[1;33m\u001b[0m\u001b[0m\n\u001b[0;32m   1502\u001b[0m     \u001b[1;32mdef\u001b[0m \u001b[0m_is_scalar_access\u001b[0m\u001b[1;33m(\u001b[0m\u001b[0mself\u001b[0m\u001b[1;33m,\u001b[0m \u001b[0mkey\u001b[0m\u001b[1;33m)\u001b[0m\u001b[1;33m:\u001b[0m\u001b[1;33m\u001b[0m\u001b[1;33m\u001b[0m\u001b[0m\n",
      "\u001b[1;32m~\\Anaconda3\\lib\\site-packages\\pandas\\core\\indexing.py\u001b[0m in \u001b[0;36m_getitem_axis\u001b[1;34m(self, key, axis)\u001b[0m\n\u001b[0;32m   2230\u001b[0m             \u001b[0mself\u001b[0m\u001b[1;33m.\u001b[0m\u001b[0m_validate_integer\u001b[0m\u001b[1;33m(\u001b[0m\u001b[0mkey\u001b[0m\u001b[1;33m,\u001b[0m \u001b[0maxis\u001b[0m\u001b[1;33m)\u001b[0m\u001b[1;33m\u001b[0m\u001b[1;33m\u001b[0m\u001b[0m\n\u001b[0;32m   2231\u001b[0m \u001b[1;33m\u001b[0m\u001b[0m\n\u001b[1;32m-> 2232\u001b[1;33m             \u001b[1;32mreturn\u001b[0m \u001b[0mself\u001b[0m\u001b[1;33m.\u001b[0m\u001b[0m_get_loc\u001b[0m\u001b[1;33m(\u001b[0m\u001b[0mkey\u001b[0m\u001b[1;33m,\u001b[0m \u001b[0maxis\u001b[0m\u001b[1;33m=\u001b[0m\u001b[0maxis\u001b[0m\u001b[1;33m)\u001b[0m\u001b[1;33m\u001b[0m\u001b[1;33m\u001b[0m\u001b[0m\n\u001b[0m\u001b[0;32m   2233\u001b[0m \u001b[1;33m\u001b[0m\u001b[0m\n\u001b[0;32m   2234\u001b[0m     \u001b[1;32mdef\u001b[0m \u001b[0m_convert_to_indexer\u001b[0m\u001b[1;33m(\u001b[0m\u001b[0mself\u001b[0m\u001b[1;33m,\u001b[0m \u001b[0mobj\u001b[0m\u001b[1;33m,\u001b[0m \u001b[0maxis\u001b[0m\u001b[1;33m=\u001b[0m\u001b[1;32mNone\u001b[0m\u001b[1;33m,\u001b[0m \u001b[0mis_setter\u001b[0m\u001b[1;33m=\u001b[0m\u001b[1;32mFalse\u001b[0m\u001b[1;33m)\u001b[0m\u001b[1;33m:\u001b[0m\u001b[1;33m\u001b[0m\u001b[1;33m\u001b[0m\u001b[0m\n",
      "\u001b[1;32m~\\Anaconda3\\lib\\site-packages\\pandas\\core\\indexing.py\u001b[0m in \u001b[0;36m_get_loc\u001b[1;34m(self, key, axis)\u001b[0m\n\u001b[0;32m    144\u001b[0m         \u001b[1;32mif\u001b[0m \u001b[0maxis\u001b[0m \u001b[1;32mis\u001b[0m \u001b[1;32mNone\u001b[0m\u001b[1;33m:\u001b[0m\u001b[1;33m\u001b[0m\u001b[1;33m\u001b[0m\u001b[0m\n\u001b[0;32m    145\u001b[0m             \u001b[0maxis\u001b[0m \u001b[1;33m=\u001b[0m \u001b[0mself\u001b[0m\u001b[1;33m.\u001b[0m\u001b[0maxis\u001b[0m\u001b[1;33m\u001b[0m\u001b[1;33m\u001b[0m\u001b[0m\n\u001b[1;32m--> 146\u001b[1;33m         \u001b[1;32mreturn\u001b[0m \u001b[0mself\u001b[0m\u001b[1;33m.\u001b[0m\u001b[0mobj\u001b[0m\u001b[1;33m.\u001b[0m\u001b[0m_ixs\u001b[0m\u001b[1;33m(\u001b[0m\u001b[0mkey\u001b[0m\u001b[1;33m,\u001b[0m \u001b[0maxis\u001b[0m\u001b[1;33m=\u001b[0m\u001b[0maxis\u001b[0m\u001b[1;33m)\u001b[0m\u001b[1;33m\u001b[0m\u001b[1;33m\u001b[0m\u001b[0m\n\u001b[0m\u001b[0;32m    147\u001b[0m \u001b[1;33m\u001b[0m\u001b[0m\n\u001b[0;32m    148\u001b[0m     \u001b[1;32mdef\u001b[0m \u001b[0m_slice\u001b[0m\u001b[1;33m(\u001b[0m\u001b[0mself\u001b[0m\u001b[1;33m,\u001b[0m \u001b[0mobj\u001b[0m\u001b[1;33m,\u001b[0m \u001b[0maxis\u001b[0m\u001b[1;33m=\u001b[0m\u001b[1;32mNone\u001b[0m\u001b[1;33m,\u001b[0m \u001b[0mkind\u001b[0m\u001b[1;33m=\u001b[0m\u001b[1;32mNone\u001b[0m\u001b[1;33m)\u001b[0m\u001b[1;33m:\u001b[0m\u001b[1;33m\u001b[0m\u001b[1;33m\u001b[0m\u001b[0m\n",
      "\u001b[1;32m~\\Anaconda3\\lib\\site-packages\\pandas\\core\\frame.py\u001b[0m in \u001b[0;36m_ixs\u001b[1;34m(self, i, axis)\u001b[0m\n\u001b[0;32m   2849\u001b[0m                     \u001b[0mcopy\u001b[0m \u001b[1;33m=\u001b[0m \u001b[1;32mTrue\u001b[0m\u001b[1;33m\u001b[0m\u001b[1;33m\u001b[0m\u001b[0m\n\u001b[0;32m   2850\u001b[0m                 \u001b[1;32melse\u001b[0m\u001b[1;33m:\u001b[0m\u001b[1;33m\u001b[0m\u001b[1;33m\u001b[0m\u001b[0m\n\u001b[1;32m-> 2851\u001b[1;33m                     \u001b[0mnew_values\u001b[0m \u001b[1;33m=\u001b[0m \u001b[0mself\u001b[0m\u001b[1;33m.\u001b[0m\u001b[0m_data\u001b[0m\u001b[1;33m.\u001b[0m\u001b[0mfast_xs\u001b[0m\u001b[1;33m(\u001b[0m\u001b[0mi\u001b[0m\u001b[1;33m)\u001b[0m\u001b[1;33m\u001b[0m\u001b[1;33m\u001b[0m\u001b[0m\n\u001b[0m\u001b[0;32m   2852\u001b[0m                     \u001b[1;32mif\u001b[0m \u001b[0mis_scalar\u001b[0m\u001b[1;33m(\u001b[0m\u001b[0mnew_values\u001b[0m\u001b[1;33m)\u001b[0m\u001b[1;33m:\u001b[0m\u001b[1;33m\u001b[0m\u001b[1;33m\u001b[0m\u001b[0m\n\u001b[0;32m   2853\u001b[0m                         \u001b[1;32mreturn\u001b[0m \u001b[0mnew_values\u001b[0m\u001b[1;33m\u001b[0m\u001b[1;33m\u001b[0m\u001b[0m\n",
      "\u001b[1;32m~\\Anaconda3\\lib\\site-packages\\pandas\\core\\internals\\managers.py\u001b[0m in \u001b[0;36mfast_xs\u001b[1;34m(self, loc)\u001b[0m\n\u001b[0;32m    887\u001b[0m \u001b[1;33m\u001b[0m\u001b[0m\n\u001b[0;32m    888\u001b[0m         \u001b[1;31m# unique\u001b[0m\u001b[1;33m\u001b[0m\u001b[1;33m\u001b[0m\u001b[1;33m\u001b[0m\u001b[0m\n\u001b[1;32m--> 889\u001b[1;33m         \u001b[0mdtype\u001b[0m \u001b[1;33m=\u001b[0m \u001b[0m_interleaved_dtype\u001b[0m\u001b[1;33m(\u001b[0m\u001b[0mself\u001b[0m\u001b[1;33m.\u001b[0m\u001b[0mblocks\u001b[0m\u001b[1;33m)\u001b[0m\u001b[1;33m\u001b[0m\u001b[1;33m\u001b[0m\u001b[0m\n\u001b[0m\u001b[0;32m    890\u001b[0m \u001b[1;33m\u001b[0m\u001b[0m\n\u001b[0;32m    891\u001b[0m         \u001b[0mn\u001b[0m \u001b[1;33m=\u001b[0m \u001b[0mlen\u001b[0m\u001b[1;33m(\u001b[0m\u001b[0mitems\u001b[0m\u001b[1;33m)\u001b[0m\u001b[1;33m\u001b[0m\u001b[1;33m\u001b[0m\u001b[0m\n",
      "\u001b[1;32m~\\Anaconda3\\lib\\site-packages\\pandas\\core\\internals\\managers.py\u001b[0m in \u001b[0;36m_interleaved_dtype\u001b[1;34m(blocks)\u001b[0m\n\u001b[0;32m   1882\u001b[0m         \u001b[1;32mreturn\u001b[0m \u001b[1;32mNone\u001b[0m\u001b[1;33m\u001b[0m\u001b[1;33m\u001b[0m\u001b[0m\n\u001b[0;32m   1883\u001b[0m \u001b[1;33m\u001b[0m\u001b[0m\n\u001b[1;32m-> 1884\u001b[1;33m     \u001b[1;32mreturn\u001b[0m \u001b[0mfind_common_type\u001b[0m\u001b[1;33m(\u001b[0m\u001b[1;33m[\u001b[0m\u001b[0mb\u001b[0m\u001b[1;33m.\u001b[0m\u001b[0mdtype\u001b[0m \u001b[1;32mfor\u001b[0m \u001b[0mb\u001b[0m \u001b[1;32min\u001b[0m \u001b[0mblocks\u001b[0m\u001b[1;33m]\u001b[0m\u001b[1;33m)\u001b[0m\u001b[1;33m\u001b[0m\u001b[1;33m\u001b[0m\u001b[0m\n\u001b[0m\u001b[0;32m   1885\u001b[0m \u001b[1;33m\u001b[0m\u001b[0m\n\u001b[0;32m   1886\u001b[0m \u001b[1;33m\u001b[0m\u001b[0m\n",
      "\u001b[1;32m~\\Anaconda3\\lib\\site-packages\\pandas\\core\\dtypes\\cast.py\u001b[0m in \u001b[0;36mfind_common_type\u001b[1;34m(types)\u001b[0m\n\u001b[0;32m   1118\u001b[0m             \u001b[1;32mreturn\u001b[0m \u001b[0mnp\u001b[0m\u001b[1;33m.\u001b[0m\u001b[0mobject\u001b[0m\u001b[1;33m\u001b[0m\u001b[1;33m\u001b[0m\u001b[0m\n\u001b[0;32m   1119\u001b[0m \u001b[1;33m\u001b[0m\u001b[0m\n\u001b[1;32m-> 1120\u001b[1;33m     \u001b[1;32mreturn\u001b[0m \u001b[0mnp\u001b[0m\u001b[1;33m.\u001b[0m\u001b[0mfind_common_type\u001b[0m\u001b[1;33m(\u001b[0m\u001b[0mtypes\u001b[0m\u001b[1;33m,\u001b[0m \u001b[1;33m[\u001b[0m\u001b[1;33m]\u001b[0m\u001b[1;33m)\u001b[0m\u001b[1;33m\u001b[0m\u001b[1;33m\u001b[0m\u001b[0m\n\u001b[0m\u001b[0;32m   1121\u001b[0m \u001b[1;33m\u001b[0m\u001b[0m\n\u001b[0;32m   1122\u001b[0m \u001b[1;33m\u001b[0m\u001b[0m\n",
      "\u001b[1;32m~\\Anaconda3\\lib\\site-packages\\numpy\\core\\numerictypes.py\u001b[0m in \u001b[0;36mfind_common_type\u001b[1;34m(array_types, scalar_types)\u001b[0m\n\u001b[0;32m    655\u001b[0m     \u001b[0mscalar_types\u001b[0m \u001b[1;33m=\u001b[0m \u001b[1;33m[\u001b[0m\u001b[0mdtype\u001b[0m\u001b[1;33m(\u001b[0m\u001b[0mx\u001b[0m\u001b[1;33m)\u001b[0m \u001b[1;32mfor\u001b[0m \u001b[0mx\u001b[0m \u001b[1;32min\u001b[0m \u001b[0mscalar_types\u001b[0m\u001b[1;33m]\u001b[0m\u001b[1;33m\u001b[0m\u001b[1;33m\u001b[0m\u001b[0m\n\u001b[0;32m    656\u001b[0m \u001b[1;33m\u001b[0m\u001b[0m\n\u001b[1;32m--> 657\u001b[1;33m     \u001b[0mmaxa\u001b[0m \u001b[1;33m=\u001b[0m \u001b[0m_can_coerce_all\u001b[0m\u001b[1;33m(\u001b[0m\u001b[0marray_types\u001b[0m\u001b[1;33m)\u001b[0m\u001b[1;33m\u001b[0m\u001b[1;33m\u001b[0m\u001b[0m\n\u001b[0m\u001b[0;32m    658\u001b[0m     \u001b[0mmaxsc\u001b[0m \u001b[1;33m=\u001b[0m \u001b[0m_can_coerce_all\u001b[0m\u001b[1;33m(\u001b[0m\u001b[0mscalar_types\u001b[0m\u001b[1;33m)\u001b[0m\u001b[1;33m\u001b[0m\u001b[1;33m\u001b[0m\u001b[0m\n\u001b[0;32m    659\u001b[0m \u001b[1;33m\u001b[0m\u001b[0m\n",
      "\u001b[1;32m~\\Anaconda3\\lib\\site-packages\\numpy\\core\\numerictypes.py\u001b[0m in \u001b[0;36m_can_coerce_all\u001b[1;34m(dtypelist, start)\u001b[0m\n\u001b[0;32m    584\u001b[0m     \u001b[0mthisind\u001b[0m \u001b[1;33m=\u001b[0m \u001b[0mstart\u001b[0m\u001b[1;33m\u001b[0m\u001b[1;33m\u001b[0m\u001b[0m\n\u001b[0;32m    585\u001b[0m     \u001b[1;32mwhile\u001b[0m \u001b[0mthisind\u001b[0m \u001b[1;33m<\u001b[0m \u001b[0m__len_test_types\u001b[0m\u001b[1;33m:\u001b[0m\u001b[1;33m\u001b[0m\u001b[1;33m\u001b[0m\u001b[0m\n\u001b[1;32m--> 586\u001b[1;33m         \u001b[0mnewdtype\u001b[0m \u001b[1;33m=\u001b[0m \u001b[0mdtype\u001b[0m\u001b[1;33m(\u001b[0m\u001b[0m__test_types\u001b[0m\u001b[1;33m[\u001b[0m\u001b[0mthisind\u001b[0m\u001b[1;33m]\u001b[0m\u001b[1;33m)\u001b[0m\u001b[1;33m\u001b[0m\u001b[1;33m\u001b[0m\u001b[0m\n\u001b[0m\u001b[0;32m    587\u001b[0m         \u001b[0mnumcoerce\u001b[0m \u001b[1;33m=\u001b[0m \u001b[0mlen\u001b[0m\u001b[1;33m(\u001b[0m\u001b[1;33m[\u001b[0m\u001b[0mx\u001b[0m \u001b[1;32mfor\u001b[0m \u001b[0mx\u001b[0m \u001b[1;32min\u001b[0m \u001b[0mdtypelist\u001b[0m \u001b[1;32mif\u001b[0m \u001b[0mnewdtype\u001b[0m \u001b[1;33m>=\u001b[0m \u001b[0mx\u001b[0m\u001b[1;33m]\u001b[0m\u001b[1;33m)\u001b[0m\u001b[1;33m\u001b[0m\u001b[1;33m\u001b[0m\u001b[0m\n\u001b[0;32m    588\u001b[0m         \u001b[1;32mif\u001b[0m \u001b[0mnumcoerce\u001b[0m \u001b[1;33m==\u001b[0m \u001b[0mN\u001b[0m\u001b[1;33m:\u001b[0m\u001b[1;33m\u001b[0m\u001b[1;33m\u001b[0m\u001b[0m\n",
      "\u001b[1;31mKeyboardInterrupt\u001b[0m: "
     ]
    }
   ],
   "source": [
    "entropy = 0\n",
    "dataSize = 1000 #data.shape[0]\n",
    "for i in range(dataSize):\n",
    "    for j in range(i+1,dataSize):\n",
    "        result = compare(i, j, \"\")\n",
    "        entropy += EntropySum(result/data.shape[1])\n",
    "        #if j%100 == 0:\n",
    "        #    print(\"R\",i,j,\"=\",result)\n",
    "    print(\"R\",i,j,\"=\",entropy)\n",
    "print(\"EntropyTotal\",entropy*-1)"
   ]
  },
  {
   "cell_type": "code",
   "execution_count": 41,
   "metadata": {},
   "outputs": [
    {
     "data": {
      "text/plain": [
       "1096096"
      ]
     },
     "execution_count": 41,
     "metadata": {},
     "output_type": "execute_result"
    }
   ],
   "source": [
    "data.shape[0]"
   ]
  },
  {
   "cell_type": "code",
   "execution_count": null,
   "metadata": {},
   "outputs": [],
   "source": []
  }
 ],
 "metadata": {
  "kernelspec": {
   "display_name": "Python 3",
   "language": "python",
   "name": "python3"
  },
  "language_info": {
   "codemirror_mode": {
    "name": "ipython",
    "version": 3
   },
   "file_extension": ".py",
   "mimetype": "text/x-python",
   "name": "python",
   "nbconvert_exporter": "python",
   "pygments_lexer": "ipython3",
   "version": "3.7.3"
  }
 },
 "nbformat": 4,
 "nbformat_minor": 2
}
