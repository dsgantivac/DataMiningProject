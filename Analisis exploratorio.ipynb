{
 "cells": [
  {
   "cell_type": "markdown",
   "metadata": {},
   "source": [
    "# Analisis de datos originales"
   ]
  },
  {
   "cell_type": "code",
   "execution_count": 1,
   "metadata": {},
   "outputs": [],
   "source": [
    "import pandas as pd\n",
    "import numpy as np\n",
    "import matplotlib.pyplot as plt \n",
    "import math\n",
    "from collections import Counter\n",
    "from datetime import datetime\n",
    "path = \"./Datasets/Saber_Complete.csv\""
   ]
  },
  {
   "cell_type": "code",
   "execution_count": 2,
   "metadata": {},
   "outputs": [],
   "source": [
    "def parse_date(arg):\n",
    "    if arg == \"\":\n",
    "        return None\n",
    "    else:\n",
    "        return datetime.strptime(arg, \"%d/%m/%Y\").date()\n",
    "    \n",
    "def date_sustract(date1,date2):\n",
    "    return math.floor((date2-date1).days/365)\n",
    "def get_age(date,period):\n",
    "    if type(date) == float:\n",
    "        return 17\n",
    "    date1 = datetime.strptime(date, \"%d/%m/%Y\").date()\n",
    "    if period == '20182':\n",
    "        date2 = datetime.strptime(\"12/08/2018\", \"%d/%m/%Y\").date()\n",
    "    else:\n",
    "        date2 = datetime.strptime(\"27/08/2017\", \"%d/%m/%Y\").date()\n",
    "    age = date_sustract(date1,date2)\n",
    "    return age"
   ]
  },
  {
   "cell_type": "markdown",
   "metadata": {},
   "source": [
    "## Atributos inciales"
   ]
  },
  {
   "cell_type": "markdown",
   "metadata": {},
   "source": [
    "'ESTU_TIPODOCUMENTO', 'ESTU_NACIONALIDAD', 'ESTU_GENERO', 'ESTU_FECHANACIMIENTO', 'PERIODO', 'ESTU_CONSECUTIVO', 'ESTU_ESTUDIANTE', 'ESTU_PAIS_RESIDE', 'ESTU_TIENEETNIA', 'ESTU_ETNIA', 'ESTU_LIMITA_MOTRIZ', 'ESTU_DEPTO_RESIDE', 'ESTU_COD_RESIDE_DEPTO', 'ESTU_MCPIO_RESIDE', 'ESTU_COD_RESIDE_MCPIO', 'FAMI_ESTRATOVIVIENDA', 'FAMI_PERSONASHOGAR', 'FAMI_CUARTOSHOGAR', 'FAMI_EDUCACIONPADRE', 'FAMI_EDUCACIONMADRE', 'FAMI_TRABAJOLABORPADRE', 'FAMI_TRABAJOLABORMADRE', 'FAMI_TIENESERVICIOTV', 'FAMI_TIENECOMPUTADOR', 'FAMI_TIENELAVADORA', 'FAMI_TIENEHORNOMICROOGAS', 'FAMI_TIENEAUTOMOVIL', 'FAMI_TIENEMOTOCICLETA', 'FAMI_TIENECONSOLAVIDEOJUEGOS', 'FAMI_NUMLIBROS', 'FAMI_COMELECHEDERIVADOS', 'FAMI_COMECARNEPESCADOHUEVO', 'FAMI_COMECEREALFRUTOSLEGUMBRE', 'FAMI_SITUACIONECONOMICA', 'ESTU_DEDICACIONLECTURADIARIA', 'ESTU_DEDICACIONINTERNET', 'ESTU_HORASSEMANATRABAJA', 'ESTU_TIPOREMUNERACION', 'COLE_CODIGO_ICFES', 'COLE_COD_DANE_ESTABLECIMIENTO', 'COLE_NOMBRE_ESTABLECIMIENTO', 'COLE_GENERO', 'COLE_NATURALEZA', 'COLE_CALENDARIO', 'COLE_BILINGUE', 'COLE_CARACTER', 'COLE_COD_DANE_SEDE', 'COLE_NOMBRE_SEDE', 'COLE_SEDE_PRINCIPAL', 'COLE_AREA_UBICACION', 'COLE_JORNADA', 'COLE_COD_MCPIO_UBICACION', 'COLE_MCPIO_UBICACION', 'COLE_COD_DEPTO_UBICACION', 'COLE_DEPTO_UBICACION', 'ESTU_PRIVADO_LIBERTAD', 'ESTU_COD_MCPIO_PRESENTACION', 'ESTU_MCPIO_PRESENTACION', 'ESTU_DEPTO_PRESENTACION', 'ESTU_COD_DEPTO_PRESENTACION', 'PUNT_LECTURA_CRITICA', 'PERCENTIL_LECTURA_CRITICA', 'DESEMP_LECTURA_CRITICA', 'PUNT_MATEMATICAS', 'PERCENTIL_MATEMATICAS', 'DESEMP_MATEMATICAS', 'PUNT_C_NATURALES', 'PERCENTIL_C_NATURALES', 'DESEMP_C_NATURALES', 'PUNT_SOCIALES_CIUDADANAS', 'PERCENTIL_SOCIALES_CIUDADANAS', 'DESEMP_SOCIALES_CIUDADANAS', 'PUNT_INGLES', 'PERCENTIL_INGLES', 'DESEMP_INGLES', 'PUNT_GLOBAL', 'PERCENTIL_GLOBAL', 'ESTU_NSE_ESTABLECIMIENTO', 'ESTU_INSE_INDIVIDUAL', 'ESTU_NSE_INDIVIDUAL'"
   ]
  },
  {
   "cell_type": "markdown",
   "metadata": {},
   "source": [
    "## Atributos finales"
   ]
  },
  {
   "cell_type": "markdown",
   "metadata": {},
   "source": [
    "\"ELECTRODOMESTICOS\",\"ESTU_GENERO\", \"ESTU_FECHANACIMIENTO\", \"PERIODO\", \"ESTU_DEPTO_RESIDE\", \"FAMI_ESTRATOVIVIENDA\", \"FAMI_PERSONASHOGAR\", \"FAMI_CUARTOSHOGAR\", \"FAMI_EDUCACIONPADRE\", \"FAMI_EDUCACIONMADRE\", \"FAMI_TRABAJOLABORPADRE\", \"FAMI_TRABAJOLABORMADRE\", \"FAMI_NUMLIBROS\", \"FAMI_COMELECHEDERIVADOS\", \"FAMI_COMECARNEPESCADOHUEVO\", \"FAMI_COMECEREALFRUTOSLEGUMBRE\", \"ESTU_DEDICACIONLECTURADIARIA\", \"ESTU_DEDICACIONINTERNET\", \"COLE_NATURALEZA\", \"COLE_CARACTER\", \"COLE_AREA_UBICACION\", \"COLE_JORNADA\", \"PUNT_LECTURA_CRITICA\", \"PUNT_MATEMATICAS\", \"PUNT_C_NATURALES\", \"PUNT_SOCIALES_CIUDADANAS\", \"PUNT_INGLES\", \"PUNT_GLOBAL\", \"ESTU_NSE_ESTABLECIMIENTO\", \"ESTU_INSE_INDIVIDUAL\", \"ESTU_NSE_INDIVIDUAL\""
   ]
  },
  {
   "cell_type": "code",
   "execution_count": 2,
   "metadata": {},
   "outputs": [],
   "source": [
    "data = pd.read_csv(path, low_memory=False)\n"
   ]
  },
  {
   "cell_type": "code",
   "execution_count": 3,
   "metadata": {},
   "outputs": [
    {
     "data": {
      "text/html": [
       "<div>\n",
       "<style scoped>\n",
       "    .dataframe tbody tr th:only-of-type {\n",
       "        vertical-align: middle;\n",
       "    }\n",
       "\n",
       "    .dataframe tbody tr th {\n",
       "        vertical-align: top;\n",
       "    }\n",
       "\n",
       "    .dataframe thead th {\n",
       "        text-align: right;\n",
       "    }\n",
       "</style>\n",
       "<table border=\"1\" class=\"dataframe\">\n",
       "  <thead>\n",
       "    <tr style=\"text-align: right;\">\n",
       "      <th>ESTU_NSE_INDIVIDUAL</th>\n",
       "      <th>-</th>\n",
       "      <th>NSE1</th>\n",
       "      <th>NSE2</th>\n",
       "      <th>NSE3</th>\n",
       "      <th>NSE4</th>\n",
       "    </tr>\n",
       "    <tr>\n",
       "      <th>FAMI_ESTRATOVIVIENDA</th>\n",
       "      <th></th>\n",
       "      <th></th>\n",
       "      <th></th>\n",
       "      <th></th>\n",
       "      <th></th>\n",
       "    </tr>\n",
       "  </thead>\n",
       "  <tbody>\n",
       "    <tr>\n",
       "      <th>-</th>\n",
       "      <td>1.600955</td>\n",
       "      <td>0.979567</td>\n",
       "      <td>2.019075</td>\n",
       "      <td>1.316491</td>\n",
       "      <td>0.151538</td>\n",
       "    </tr>\n",
       "    <tr>\n",
       "      <th>Estrato 1</th>\n",
       "      <td>0.218047</td>\n",
       "      <td>9.930061</td>\n",
       "      <td>15.646348</td>\n",
       "      <td>5.449431</td>\n",
       "      <td>0.207464</td>\n",
       "    </tr>\n",
       "    <tr>\n",
       "      <th>Estrato 2</th>\n",
       "      <td>0.254175</td>\n",
       "      <td>3.350345</td>\n",
       "      <td>14.354308</td>\n",
       "      <td>15.152049</td>\n",
       "      <td>1.259196</td>\n",
       "    </tr>\n",
       "    <tr>\n",
       "      <th>Estrato 3</th>\n",
       "      <td>0.150808</td>\n",
       "      <td>0.656877</td>\n",
       "      <td>4.159672</td>\n",
       "      <td>10.957526</td>\n",
       "      <td>3.096627</td>\n",
       "    </tr>\n",
       "    <tr>\n",
       "      <th>Estrato 4</th>\n",
       "      <td>0.041055</td>\n",
       "      <td>0.188213</td>\n",
       "      <td>0.688535</td>\n",
       "      <td>1.639272</td>\n",
       "      <td>1.797470</td>\n",
       "    </tr>\n",
       "    <tr>\n",
       "      <th>Estrato 5</th>\n",
       "      <td>0.013046</td>\n",
       "      <td>0.085850</td>\n",
       "      <td>0.318768</td>\n",
       "      <td>0.367851</td>\n",
       "      <td>0.649669</td>\n",
       "    </tr>\n",
       "    <tr>\n",
       "      <th>Estrato 6</th>\n",
       "      <td>0.006934</td>\n",
       "      <td>0.060396</td>\n",
       "      <td>0.215492</td>\n",
       "      <td>0.145699</td>\n",
       "      <td>0.261747</td>\n",
       "    </tr>\n",
       "    <tr>\n",
       "      <th>Sin Estrato</th>\n",
       "      <td>0.017608</td>\n",
       "      <td>1.146524</td>\n",
       "      <td>1.127456</td>\n",
       "      <td>0.293770</td>\n",
       "      <td>0.024085</td>\n",
       "    </tr>\n",
       "  </tbody>\n",
       "</table>\n",
       "</div>"
      ],
      "text/plain": [
       "ESTU_NSE_INDIVIDUAL          -      NSE1       NSE2       NSE3      NSE4\n",
       "FAMI_ESTRATOVIVIENDA                                                    \n",
       "-                     1.600955  0.979567   2.019075   1.316491  0.151538\n",
       "Estrato 1             0.218047  9.930061  15.646348   5.449431  0.207464\n",
       "Estrato 2             0.254175  3.350345  14.354308  15.152049  1.259196\n",
       "Estrato 3             0.150808  0.656877   4.159672  10.957526  3.096627\n",
       "Estrato 4             0.041055  0.188213   0.688535   1.639272  1.797470\n",
       "Estrato 5             0.013046  0.085850   0.318768   0.367851  0.649669\n",
       "Estrato 6             0.006934  0.060396   0.215492   0.145699  0.261747\n",
       "Sin Estrato           0.017608  1.146524   1.127456   0.293770  0.024085"
      ]
     },
     "execution_count": 3,
     "metadata": {},
     "output_type": "execute_result"
    }
   ],
   "source": [
    "pd.crosstab(data['FAMI_ESTRATOVIVIENDA'], [data['ESTU_NSE_INDIVIDUAL']])/data.shape[0] * 100"
   ]
  },
  {
   "cell_type": "code",
   "execution_count": 14,
   "metadata": {},
   "outputs": [
    {
     "name": "stdout",
     "output_type": "stream",
     "text": [
      "\"ESTU_GENERO\", \"ESTU_FECHANACIMIENTO\", \"PERIODO\", \"ESTU_TIENEETNIA\", \"ESTU_ETNIA\", \"ESTU_LIMITA_MOTRIZ\", \"ESTU_DEPTO_RESIDE\", \"ESTU_MCPIO_RESIDE\", \"FAMI_ESTRATOVIVIENDA\", \"FAMI_PERSONASHOGAR\", \"FAMI_CUARTOSHOGAR\", \"FAMI_EDUCACIONPADRE\", \"FAMI_EDUCACIONMADRE\", \"FAMI_TRABAJOLABORPADRE\", \"FAMI_TRABAJOLABORMADRE\", \"FAMI_TIENESERVICIOTV\", \"FAMI_TIENECOMPUTADOR\", \"FAMI_TIENELAVADORA\", \"FAMI_TIENEHORNOMICROOGAS\", \"FAMI_TIENEAUTOMOVIL\", \"FAMI_TIENEMOTOCICLETA\", \"FAMI_TIENECONSOLAVIDEOJUEGOS\", \"FAMI_NUMLIBROS\", \"FAMI_COMELECHEDERIVADOS\", \"FAMI_COMECARNEPESCADOHUEVO\", \"FAMI_COMECEREALFRUTOSLEGUMBRE\", \"FAMI_SITUACIONECONOMICA\", \"ESTU_DEDICACIONLECTURADIARIA\", \"ESTU_DEDICACIONINTERNET\", \"ESTU_HORASSEMANATRABAJA\", \"ESTU_TIPOREMUNERACION\", \"COLE_NOMBRE_ESTABLECIMIENTO\", \"COLE_NATURALEZA\", \"COLE_BILINGUE\", \"COLE_CARACTER\", \"COLE_AREA_UBICACION\", \"COLE_JORNADA\", \"COLE_MCPIO_UBICACION\", \"COLE_DEPTO_UBICACION\", \"ESTU_PRIVADO_LIBERTAD\", \"PUNT_LECTURA_CRITICA\", \"PERCENTIL_LECTURA_CRITICA\", \"PUNT_MATEMATICAS\", \"PERCENTIL_MATEMATICAS\", \"PUNT_C_NATURALES\", \"PERCENTIL_C_NATURALES\", \"PUNT_SOCIALES_CIUDADANAS\", \"PERCENTIL_SOCIALES_CIUDADANAS\", \"PUNT_INGLES\", \"PERCENTIL_INGLES\", \"PUNT_GLOBAL\", \"PERCENTIL_GLOBAL\", \"ESTU_NSE_ESTABLECIMIENTO\", \"ESTU_INSE_INDIVIDUAL\", \"ESTU_NSE_INDIVIDUAL\", "
     ]
    }
   ],
   "source": [
    "tmp1 = ['ESTU_TIPODOCUMENTO', 'ESTU_NACIONALIDAD', 'ESTU_GENERO', 'ESTU_FECHANACIMIENTO', 'PERIODO', 'ESTU_CONSECUTIVO', 'ESTU_ESTUDIANTE', 'ESTU_PAIS_RESIDE', 'ESTU_TIENEETNIA', 'ESTU_ETNIA', 'ESTU_LIMITA_MOTRIZ', 'ESTU_DEPTO_RESIDE', 'ESTU_COD_RESIDE_DEPTO', 'ESTU_MCPIO_RESIDE', 'ESTU_COD_RESIDE_MCPIO', 'FAMI_ESTRATOVIVIENDA', 'FAMI_PERSONASHOGAR', 'FAMI_CUARTOSHOGAR', 'FAMI_EDUCACIONPADRE', 'FAMI_EDUCACIONMADRE', 'FAMI_TRABAJOLABORPADRE', 'FAMI_TRABAJOLABORMADRE', 'FAMI_TIENESERVICIOTV', 'FAMI_TIENECOMPUTADOR', 'FAMI_TIENELAVADORA', 'FAMI_TIENEHORNOMICROOGAS', 'FAMI_TIENEAUTOMOVIL', 'FAMI_TIENEMOTOCICLETA', 'FAMI_TIENECONSOLAVIDEOJUEGOS', 'FAMI_NUMLIBROS', 'FAMI_COMELECHEDERIVADOS', 'FAMI_COMECARNEPESCADOHUEVO', 'FAMI_COMECEREALFRUTOSLEGUMBRE', 'FAMI_SITUACIONECONOMICA', 'ESTU_DEDICACIONLECTURADIARIA', 'ESTU_DEDICACIONINTERNET', 'ESTU_HORASSEMANATRABAJA', 'ESTU_TIPOREMUNERACION', 'COLE_CODIGO_ICFES', 'COLE_COD_DANE_ESTABLECIMIENTO', 'COLE_NOMBRE_ESTABLECIMIENTO', 'COLE_GENERO', 'COLE_NATURALEZA', 'COLE_CALENDARIO', 'COLE_BILINGUE', 'COLE_CARACTER', 'COLE_COD_DANE_SEDE', 'COLE_NOMBRE_SEDE', 'COLE_SEDE_PRINCIPAL', 'COLE_AREA_UBICACION', 'COLE_JORNADA', 'COLE_COD_MCPIO_UBICACION', 'COLE_MCPIO_UBICACION', 'COLE_COD_DEPTO_UBICACION', 'COLE_DEPTO_UBICACION', 'ESTU_PRIVADO_LIBERTAD', 'ESTU_COD_MCPIO_PRESENTACION', 'ESTU_MCPIO_PRESENTACION', 'ESTU_DEPTO_PRESENTACION', 'ESTU_COD_DEPTO_PRESENTACION', 'PUNT_LECTURA_CRITICA', 'PERCENTIL_LECTURA_CRITICA', 'DESEMP_LECTURA_CRITICA', 'PUNT_MATEMATICAS', 'PERCENTIL_MATEMATICAS', 'DESEMP_MATEMATICAS', 'PUNT_C_NATURALES', 'PERCENTIL_C_NATURALES', 'DESEMP_C_NATURALES', 'PUNT_SOCIALES_CIUDADANAS', 'PERCENTIL_SOCIALES_CIUDADANAS', 'DESEMP_SOCIALES_CIUDADANAS', 'PUNT_INGLES', 'PERCENTIL_INGLES', 'DESEMP_INGLES', 'PUNT_GLOBAL', 'PERCENTIL_GLOBAL', 'ESTU_NSE_ESTABLECIMIENTO', 'ESTU_INSE_INDIVIDUAL', 'ESTU_NSE_INDIVIDUAL']\n",
    "tmp2 = ['ESTU_TIPODOCUMENTO', 'ESTU_NACIONALIDAD', 'ESTU_CONSECUTIVO', 'ESTU_ESTUDIANTE', 'ESTU_PAIS_RESIDE', 'ESTU_COD_RESIDE_DEPTO', 'ESTU_COD_RESIDE_MCPIO', 'COLE_CODIGO_ICFES', 'COLE_COD_DANE_ESTABLECIMIENTO', 'COLE_GENERO', 'COLE_CALENDARIO', 'COLE_COD_DANE_SEDE', 'COLE_NOMBRE_SEDE', 'COLE_SEDE_PRINCIPAL', 'COLE_COD_MCPIO_UBICACION', 'COLE_COD_DEPTO_UBICACION', 'ESTU_COD_MCPIO_PRESENTACION', 'ESTU_MCPIO_PRESENTACION', 'ESTU_DEPTO_PRESENTACION', 'ESTU_COD_DEPTO_PRESENTACION', 'DESEMP_LECTURA_CRITICA', 'DESEMP_MATEMATICAS', 'DESEMP_C_NATURALES', 'DESEMP_SOCIALES_CIUDADANAS', 'DESEMP_INGLES']\n",
    "for attr in tmp1:\n",
    "    if attr not in tmp2:\n",
    "        print(\"\\\"\"+attr+\"\\\"\",end=\", \")"
   ]
  },
  {
   "cell_type": "code",
   "execution_count": 15,
   "metadata": {},
   "outputs": [],
   "source": [
    "data = data.drop(['ESTU_TIPODOCUMENTO', 'ESTU_NACIONALIDAD', 'ESTU_CONSECUTIVO', 'ESTU_ESTUDIANTE', 'ESTU_PAIS_RESIDE', 'ESTU_COD_RESIDE_DEPTO', 'ESTU_COD_RESIDE_MCPIO', 'COLE_CODIGO_ICFES', 'COLE_COD_DANE_ESTABLECIMIENTO', 'COLE_GENERO', 'COLE_CALENDARIO', 'COLE_COD_DANE_SEDE', 'COLE_NOMBRE_SEDE', 'COLE_SEDE_PRINCIPAL', 'COLE_COD_MCPIO_UBICACION', 'COLE_COD_DEPTO_UBICACION', 'ESTU_COD_MCPIO_PRESENTACION', 'ESTU_MCPIO_PRESENTACION', 'ESTU_DEPTO_PRESENTACION', 'ESTU_COD_DEPTO_PRESENTACION', 'DESEMP_LECTURA_CRITICA', 'DESEMP_MATEMATICAS', 'DESEMP_C_NATURALES', 'DESEMP_SOCIALES_CIUDADANAS', 'DESEMP_INGLES'], axis = 1)"
   ]
  },
  {
   "cell_type": "code",
   "execution_count": 16,
   "metadata": {},
   "outputs": [
    {
     "data": {
      "text/html": [
       "<div>\n",
       "<style scoped>\n",
       "    .dataframe tbody tr th:only-of-type {\n",
       "        vertical-align: middle;\n",
       "    }\n",
       "\n",
       "    .dataframe tbody tr th {\n",
       "        vertical-align: top;\n",
       "    }\n",
       "\n",
       "    .dataframe thead th {\n",
       "        text-align: right;\n",
       "    }\n",
       "</style>\n",
       "<table border=\"1\" class=\"dataframe\">\n",
       "  <thead>\n",
       "    <tr style=\"text-align: right;\">\n",
       "      <th></th>\n",
       "      <th>ESTU_GENERO</th>\n",
       "      <th>ESTU_FECHANACIMIENTO</th>\n",
       "      <th>PERIODO</th>\n",
       "      <th>ESTU_TIENEETNIA</th>\n",
       "      <th>ESTU_ETNIA</th>\n",
       "      <th>ESTU_LIMITA_MOTRIZ</th>\n",
       "      <th>ESTU_DEPTO_RESIDE</th>\n",
       "      <th>ESTU_MCPIO_RESIDE</th>\n",
       "      <th>FAMI_ESTRATOVIVIENDA</th>\n",
       "      <th>FAMI_PERSONASHOGAR</th>\n",
       "      <th>...</th>\n",
       "      <th>PERCENTIL_C_NATURALES</th>\n",
       "      <th>PUNT_SOCIALES_CIUDADANAS</th>\n",
       "      <th>PERCENTIL_SOCIALES_CIUDADANAS</th>\n",
       "      <th>PUNT_INGLES</th>\n",
       "      <th>PERCENTIL_INGLES</th>\n",
       "      <th>PUNT_GLOBAL</th>\n",
       "      <th>PERCENTIL_GLOBAL</th>\n",
       "      <th>ESTU_NSE_ESTABLECIMIENTO</th>\n",
       "      <th>ESTU_INSE_INDIVIDUAL</th>\n",
       "      <th>ESTU_NSE_INDIVIDUAL</th>\n",
       "    </tr>\n",
       "  </thead>\n",
       "  <tbody>\n",
       "    <tr>\n",
       "      <th>0</th>\n",
       "      <td>M</td>\n",
       "      <td>10/06/2002</td>\n",
       "      <td>20182</td>\n",
       "      <td>No</td>\n",
       "      <td>-</td>\n",
       "      <td>-</td>\n",
       "      <td>ATLANTICO</td>\n",
       "      <td>SOLEDAD</td>\n",
       "      <td>Estrato 2</td>\n",
       "      <td>7 a 8</td>\n",
       "      <td>...</td>\n",
       "      <td>67</td>\n",
       "      <td>57</td>\n",
       "      <td>76</td>\n",
       "      <td>65.0</td>\n",
       "      <td>90</td>\n",
       "      <td>305</td>\n",
       "      <td>85</td>\n",
       "      <td>2.0</td>\n",
       "      <td>53.169929</td>\n",
       "      <td>NSE3</td>\n",
       "    </tr>\n",
       "    <tr>\n",
       "      <th>1</th>\n",
       "      <td>M</td>\n",
       "      <td>22/10/2000</td>\n",
       "      <td>20182</td>\n",
       "      <td>No</td>\n",
       "      <td>-</td>\n",
       "      <td>-</td>\n",
       "      <td>CORDOBA</td>\n",
       "      <td>LORICA</td>\n",
       "      <td>Estrato 1</td>\n",
       "      <td>5 a 6</td>\n",
       "      <td>...</td>\n",
       "      <td>53</td>\n",
       "      <td>40</td>\n",
       "      <td>28</td>\n",
       "      <td>48.0</td>\n",
       "      <td>46</td>\n",
       "      <td>242</td>\n",
       "      <td>46</td>\n",
       "      <td>2.0</td>\n",
       "      <td>45.062853</td>\n",
       "      <td>NSE2</td>\n",
       "    </tr>\n",
       "    <tr>\n",
       "      <th>2</th>\n",
       "      <td>M</td>\n",
       "      <td>19/12/2001</td>\n",
       "      <td>20182</td>\n",
       "      <td>No</td>\n",
       "      <td>-</td>\n",
       "      <td>-</td>\n",
       "      <td>VALLE</td>\n",
       "      <td>CALI</td>\n",
       "      <td>Estrato 2</td>\n",
       "      <td>1 a 2</td>\n",
       "      <td>...</td>\n",
       "      <td>40</td>\n",
       "      <td>45</td>\n",
       "      <td>43</td>\n",
       "      <td>47.0</td>\n",
       "      <td>42</td>\n",
       "      <td>241</td>\n",
       "      <td>45</td>\n",
       "      <td>2.0</td>\n",
       "      <td>44.806936</td>\n",
       "      <td>NSE2</td>\n",
       "    </tr>\n",
       "    <tr>\n",
       "      <th>3</th>\n",
       "      <td>M</td>\n",
       "      <td>20/10/2000</td>\n",
       "      <td>20182</td>\n",
       "      <td>No</td>\n",
       "      <td>-</td>\n",
       "      <td>-</td>\n",
       "      <td>BOYACA</td>\n",
       "      <td>TUNJA</td>\n",
       "      <td>Estrato 3</td>\n",
       "      <td>3 a 4</td>\n",
       "      <td>...</td>\n",
       "      <td>84</td>\n",
       "      <td>67</td>\n",
       "      <td>94</td>\n",
       "      <td>63.0</td>\n",
       "      <td>86</td>\n",
       "      <td>310</td>\n",
       "      <td>87</td>\n",
       "      <td>3.0</td>\n",
       "      <td>73.630225</td>\n",
       "      <td>NSE4</td>\n",
       "    </tr>\n",
       "    <tr>\n",
       "      <th>4</th>\n",
       "      <td>M</td>\n",
       "      <td>16/11/1998</td>\n",
       "      <td>20182</td>\n",
       "      <td>No</td>\n",
       "      <td>-</td>\n",
       "      <td>-</td>\n",
       "      <td>BOGOTA</td>\n",
       "      <td>BOGOTÁ D.C.</td>\n",
       "      <td>Estrato 2</td>\n",
       "      <td>7 a 8</td>\n",
       "      <td>...</td>\n",
       "      <td>45</td>\n",
       "      <td>49</td>\n",
       "      <td>55</td>\n",
       "      <td>56.0</td>\n",
       "      <td>71</td>\n",
       "      <td>257</td>\n",
       "      <td>57</td>\n",
       "      <td>3.0</td>\n",
       "      <td>49.391007</td>\n",
       "      <td>NSE2</td>\n",
       "    </tr>\n",
       "  </tbody>\n",
       "</table>\n",
       "<p>5 rows × 55 columns</p>\n",
       "</div>"
      ],
      "text/plain": [
       "  ESTU_GENERO ESTU_FECHANACIMIENTO  PERIODO ESTU_TIENEETNIA ESTU_ETNIA  \\\n",
       "0           M           10/06/2002    20182              No          -   \n",
       "1           M           22/10/2000    20182              No          -   \n",
       "2           M           19/12/2001    20182              No          -   \n",
       "3           M           20/10/2000    20182              No          -   \n",
       "4           M           16/11/1998    20182              No          -   \n",
       "\n",
       "  ESTU_LIMITA_MOTRIZ ESTU_DEPTO_RESIDE ESTU_MCPIO_RESIDE FAMI_ESTRATOVIVIENDA  \\\n",
       "0                  -         ATLANTICO           SOLEDAD            Estrato 2   \n",
       "1                  -           CORDOBA            LORICA            Estrato 1   \n",
       "2                  -             VALLE              CALI            Estrato 2   \n",
       "3                  -            BOYACA             TUNJA            Estrato 3   \n",
       "4                  -            BOGOTA       BOGOTÁ D.C.            Estrato 2   \n",
       "\n",
       "  FAMI_PERSONASHOGAR  ... PERCENTIL_C_NATURALES PUNT_SOCIALES_CIUDADANAS  \\\n",
       "0              7 a 8  ...                    67                       57   \n",
       "1              5 a 6  ...                    53                       40   \n",
       "2              1 a 2  ...                    40                       45   \n",
       "3              3 a 4  ...                    84                       67   \n",
       "4              7 a 8  ...                    45                       49   \n",
       "\n",
       "  PERCENTIL_SOCIALES_CIUDADANAS PUNT_INGLES PERCENTIL_INGLES PUNT_GLOBAL  \\\n",
       "0                            76        65.0               90         305   \n",
       "1                            28        48.0               46         242   \n",
       "2                            43        47.0               42         241   \n",
       "3                            94        63.0               86         310   \n",
       "4                            55        56.0               71         257   \n",
       "\n",
       "  PERCENTIL_GLOBAL ESTU_NSE_ESTABLECIMIENTO ESTU_INSE_INDIVIDUAL  \\\n",
       "0               85                      2.0            53.169929   \n",
       "1               46                      2.0            45.062853   \n",
       "2               45                      2.0            44.806936   \n",
       "3               87                      3.0            73.630225   \n",
       "4               57                      3.0            49.391007   \n",
       "\n",
       "  ESTU_NSE_INDIVIDUAL  \n",
       "0                NSE3  \n",
       "1                NSE2  \n",
       "2                NSE2  \n",
       "3                NSE4  \n",
       "4                NSE2  \n",
       "\n",
       "[5 rows x 55 columns]"
      ]
     },
     "execution_count": 16,
     "metadata": {},
     "output_type": "execute_result"
    }
   ],
   "source": [
    "data.head()"
   ]
  },
  {
   "cell_type": "markdown",
   "metadata": {},
   "source": [
    "# Calidad de los datos"
   ]
  },
  {
   "cell_type": "code",
   "execution_count": 4,
   "metadata": {
    "scrolled": false
   },
   "outputs": [
    {
     "name": "stdout",
     "output_type": "stream",
     "text": [
      "ESTU_ETNIA\n",
      "-                                93.859023\n",
      "Arhuaco                           0.018338\n",
      "Cancuamo                          0.032023\n",
      "Comunidad afrodescendiente        3.370599\n",
      "Comunidades Rom (Gitanas)         0.001004\n",
      "Cubeo                             0.018612\n",
      "Emberá                            0.178178\n",
      "Guambiano                         0.033939\n",
      "Huitoto                           0.019433\n",
      "Inga                              0.042879\n",
      "Ninguno                           0.156921\n",
      "Otro grupo étnico minoritario     0.488917\n",
      "Paez                              0.352433\n",
      "Palenquero                        0.012499\n",
      "Pasto                             0.240216\n",
      "Pijao                             0.107107\n",
      "Raizal                            0.071527\n",
      "Sikuani                           0.034030\n",
      "Tucano                            0.006386\n",
      "Wayúu                             0.397502\n",
      "Zenú                              0.558436\n",
      "dtype: float64\n"
     ]
    }
   ],
   "source": [
    "etnia = data.groupby('ESTU_ETNIA').size()/data.shape[0] *100\n",
    "print(etnia)"
   ]
  },
  {
   "cell_type": "code",
   "execution_count": 5,
   "metadata": {},
   "outputs": [
    {
     "name": "stdout",
     "output_type": "stream",
     "text": [
      "ESTU_TIENEETNIA\n",
      "-      0.043609\n",
      "No    93.566075\n",
      "Si     6.390316\n",
      "dtype: float64\n"
     ]
    }
   ],
   "source": [
    "dg = data.groupby('ESTU_TIENEETNIA').size()/data.shape[0] *100\n",
    "print(dg)"
   ]
  },
  {
   "cell_type": "code",
   "execution_count": 6,
   "metadata": {},
   "outputs": [
    {
     "name": "stdout",
     "output_type": "stream",
     "text": [
      "ESTU_PRIVADO_LIBERTAD\n",
      "N    99.977374\n",
      "S     0.022626\n",
      "dtype: float64\n"
     ]
    }
   ],
   "source": [
    "dg = data.groupby('ESTU_PRIVADO_LIBERTAD').size()/data.shape[0] *100\n",
    "print(dg)"
   ]
  },
  {
   "cell_type": "code",
   "execution_count": 7,
   "metadata": {},
   "outputs": [
    {
     "name": "stdout",
     "output_type": "stream",
     "text": [
      "ESTU_HORASSEMANATRABAJA\n",
      "-                       2.532442\n",
      "0                      65.286070\n",
      "Entre 11 y 20 horas     7.651155\n",
      "Entre 21 y 30 horas     2.890988\n",
      "Menos de 10 horas      17.952898\n",
      "Más de 30 horas         3.686447\n",
      "dtype: float64\n"
     ]
    }
   ],
   "source": [
    "dg = data.groupby('ESTU_HORASSEMANATRABAJA').size()/data.shape[0] *100\n",
    "print(dg)"
   ]
  },
  {
   "cell_type": "code",
   "execution_count": 8,
   "metadata": {},
   "outputs": [
    {
     "name": "stdout",
     "output_type": "stream",
     "text": [
      "FAMI_EDUCACIONPADRE\n",
      "-                                        5.465488\n",
      "Educación profesional completa           8.352279\n",
      "Educación profesional incompleta         1.835697\n",
      "Ninguno                                  3.651231\n",
      "No Aplica                                0.931761\n",
      "No sabe                                  5.767378\n",
      "Postgrado                                1.670109\n",
      "Primaria completa                       10.555097\n",
      "Primaria incompleta                     19.239921\n",
      "Secundaria (Bachillerato) completa      20.694903\n",
      "Secundaria (Bachillerato) incompleta    13.587222\n",
      "Técnica o tecnológica completa           6.307933\n",
      "Técnica o tecnológica incompleta         1.940980\n",
      "dtype: float64\n"
     ]
    }
   ],
   "source": [
    "dg = data.groupby('FAMI_EDUCACIONPADRE').size()/data.shape[0] *100\n",
    "print(dg)"
   ]
  },
  {
   "cell_type": "code",
   "execution_count": 9,
   "metadata": {},
   "outputs": [
    {
     "name": "stdout",
     "output_type": "stream",
     "text": [
      "FAMI_CUARTOSHOGAR\n",
      "-              2.573224\n",
      "Cinco          3.939983\n",
      "Cuatro        12.878069\n",
      "Dos           35.103038\n",
      "Seis o mas     2.148170\n",
      "Tres          37.986910\n",
      "Uno            5.370606\n",
      "dtype: float64\n"
     ]
    }
   ],
   "source": [
    "dg = data.groupby('FAMI_CUARTOSHOGAR').size()/data.shape[0] *100\n",
    "print(dg)"
   ]
  },
  {
   "cell_type": "code",
   "execution_count": 10,
   "metadata": {},
   "outputs": [
    {
     "name": "stdout",
     "output_type": "stream",
     "text": [
      "FAMI_ESTRATOVIVIENDA\n",
      "-               66507\n",
      "Estrato 1      344737\n",
      "Estrato 2      376729\n",
      "Estrato 3      208494\n",
      "Estrato 4       47730\n",
      "Estrato 5       15731\n",
      "Estrato 6        7566\n",
      "Sin Estrato     28602\n",
      "dtype: int64\n"
     ]
    }
   ],
   "source": [
    "dg = data.groupby('FAMI_ESTRATOVIVIENDA').size()#/data.shape[0] *100\n",
    "print(dg)"
   ]
  },
  {
   "cell_type": "code",
   "execution_count": 11,
   "metadata": {},
   "outputs": [
    {
     "name": "stdout",
     "output_type": "stream",
     "text": [
      "FAMI_TRABAJOLABORPADRE\n",
      "-                                                                                                        32949\n",
      "Es agricultor, pesquero o jornalero                                                                     156267\n",
      "Es dueño de un negocio grande, tiene un cargo de nivel directivo o gerencial                             25377\n",
      "Es dueño de un negocio pequeño (tiene pocos empleados o no tiene, por ejemplo tienda, papelería, etc     86557\n",
      "Es operario de máquinas o conduce vehículos (taxita, chofer)                                            112520\n",
      "Es vendedor o trabaja en atención al público                                                             66279\n",
      "No aplica                                                                                                92584\n",
      "No sabe                                                                                                  97940\n",
      "Pensionado                                                                                               25321\n",
      "Tiene un trabajo de tipo auxiliar administrativo (por ejemplo, secretario o asistente)                   47063\n",
      "Trabaja como personal de limpieza, mantenimiento, seguridad o construcción                               80460\n",
      "Trabaja como profesional (por ejemplo médico, abogado, ingeniero)                                        79805\n",
      "Trabaja en el hogar, no trabaja o estudia                                                                71085\n",
      "Trabaja por cuenta propia (por ejemplo plomero, electricista)                                           121889\n",
      "dtype: int64\n"
     ]
    }
   ],
   "source": [
    "dg = data.groupby('FAMI_TRABAJOLABORPADRE').size()#/data.shape[0] *100\n",
    "print(dg)"
   ]
  },
  {
   "cell_type": "code",
   "execution_count": 12,
   "metadata": {},
   "outputs": [
    {
     "name": "stdout",
     "output_type": "stream",
     "text": [
      "FAMI_TRABAJOLABORMADRE\n",
      "-                                                                                                        2.741731\n",
      "Es agricultor, pesquero o jornalero                                                                      2.943173\n",
      "Es dueño de un negocio grande, tiene un cargo de nivel directivo o gerencial                             1.492023\n",
      "Es dueño de un negocio pequeño (tiene pocos empleados o no tiene, por ejemplo tienda, papelería, etc     8.377733\n",
      "Es operario de máquinas o conduce vehículos (taxita, chofer)                                             1.583620\n",
      "Es vendedor o trabaja en atención al público                                                             7.450990\n",
      "No aplica                                                                                                4.809068\n",
      "No sabe                                                                                                  2.401158\n",
      "Pensionado                                                                                               0.682969\n",
      "Tiene un trabajo de tipo auxiliar administrativo (por ejemplo, secretario o asistente)                   8.055590\n",
      "Trabaja como personal de limpieza, mantenimiento, seguridad o construcción                               8.379649\n",
      "Trabaja como profesional (por ejemplo médico, abogado, ingeniero)                                        7.291788\n",
      "Trabaja en el hogar, no trabaja o estudia                                                               40.832646\n",
      "Trabaja por cuenta propia (por ejemplo plomero, electricista)                                            2.957861\n",
      "dtype: float64\n"
     ]
    }
   ],
   "source": [
    "dg = data.groupby('FAMI_TRABAJOLABORMADRE').size()/data.shape[0] *100\n",
    "print(dg)"
   ]
  },
  {
   "cell_type": "code",
   "execution_count": 13,
   "metadata": {},
   "outputs": [
    {
     "name": "stdout",
     "output_type": "stream",
     "text": [
      "FAMI_TIENESERVICIOTV\n",
      "-      5.880233\n",
      "No    22.953281\n",
      "Si    71.166485\n",
      "dtype: float64\n"
     ]
    }
   ],
   "source": [
    "dg = data.groupby('FAMI_TIENESERVICIOTV').size()/data.shape[0] *100\n",
    "print(dg)\n"
   ]
  },
  {
   "cell_type": "code",
   "execution_count": 14,
   "metadata": {},
   "outputs": [
    {
     "name": "stdout",
     "output_type": "stream",
     "text": [
      "PERIODO\n",
      "20172    49.827935\n",
      "20182    50.172065\n",
      "dtype: float64\n"
     ]
    }
   ],
   "source": [
    "dg = data.groupby('PERIODO').size()/data.shape[0] *100\n",
    "print(dg)"
   ]
  },
  {
   "cell_type": "code",
   "execution_count": 15,
   "metadata": {},
   "outputs": [
    {
     "name": "stdout",
     "output_type": "stream",
     "text": [
      "ESTU_CONSECUTIVO\n",
      "SB11201720000005    0.000091\n",
      "SB11201720000006    0.000091\n",
      "SB11201720000007    0.000091\n",
      "SB11201720000008    0.000091\n",
      "SB11201720000009    0.000091\n",
      "SB11201720000011    0.000091\n",
      "SB11201720000012    0.000091\n",
      "SB11201720000013    0.000091\n",
      "SB11201720000014    0.000091\n",
      "SB11201720000015    0.000091\n",
      "SB11201720000016    0.000091\n",
      "SB11201720000017    0.000091\n",
      "SB11201720000018    0.000091\n",
      "SB11201720000019    0.000091\n",
      "SB11201720000020    0.000091\n",
      "SB11201720000021    0.000091\n",
      "SB11201720000022    0.000091\n",
      "SB11201720000023    0.000091\n",
      "SB11201720000024    0.000091\n",
      "SB11201720000025    0.000091\n",
      "SB11201720000026    0.000091\n",
      "SB11201720000027    0.000091\n",
      "SB11201720000042    0.000091\n",
      "SB11201720000043    0.000091\n",
      "SB11201720000044    0.000091\n",
      "SB11201720000045    0.000091\n",
      "SB11201720000046    0.000091\n",
      "SB11201720000048    0.000091\n",
      "SB11201720000049    0.000091\n",
      "SB11201720000050    0.000091\n",
      "                      ...   \n",
      "SB11201820626371    0.000091\n",
      "SB11201820626372    0.000091\n",
      "SB11201820626374    0.000091\n",
      "SB11201820626377    0.000091\n",
      "SB11201820626378    0.000091\n",
      "SB11201820626379    0.000091\n",
      "SB11201820626380    0.000091\n",
      "SB11201820626381    0.000091\n",
      "SB11201820626382    0.000091\n",
      "SB11201820626383    0.000091\n",
      "SB11201820626384    0.000091\n",
      "SB11201820626385    0.000091\n",
      "SB11201820626386    0.000091\n",
      "SB11201820626387    0.000091\n",
      "SB11201820626388    0.000091\n",
      "SB11201820626389    0.000091\n",
      "SB11201820626390    0.000091\n",
      "SB11201820626391    0.000091\n",
      "SB11201820626392    0.000091\n",
      "SB11201820626393    0.000091\n",
      "SB11201820626394    0.000091\n",
      "SB11201820626395    0.000091\n",
      "SB11201820626396    0.000091\n",
      "SB11201820626397    0.000091\n",
      "SB11201820626398    0.000091\n",
      "SB11201820626399    0.000091\n",
      "SB11201820626400    0.000091\n",
      "SB11201820626401    0.000091\n",
      "SB11201820626402    0.000091\n",
      "SB11201820626403    0.000091\n",
      "Length: 1096096, dtype: float64\n"
     ]
    }
   ],
   "source": [
    "dg = data.groupby('ESTU_CONSECUTIVO').size()/data.shape[0] *100\n",
    "print(dg)"
   ]
  },
  {
   "cell_type": "code",
   "execution_count": 16,
   "metadata": {},
   "outputs": [
    {
     "name": "stdout",
     "output_type": "stream",
     "text": [
      "ESTU_LIMITA_MOTRIZ\n",
      "-    99.999909\n",
      "x     0.000091\n",
      "dtype: float64\n"
     ]
    }
   ],
   "source": [
    "dg = data.groupby('ESTU_LIMITA_MOTRIZ').size()/data.shape[0] *100\n",
    "print(dg)"
   ]
  },
  {
   "cell_type": "code",
   "execution_count": 17,
   "metadata": {},
   "outputs": [
    {
     "name": "stdout",
     "output_type": "stream",
     "text": [
      "ESTU_DEPTO_RESIDE\n",
      "-                   0.043609\n",
      "AMAZONAS            0.166956\n",
      "ANTIOQUIA          13.413059\n",
      "ARAUCA              0.570479\n",
      "ATLANTICO           5.774950\n",
      "BOGOTA             16.194020\n",
      "BOLIVAR             4.598776\n",
      "BOYACA              3.033037\n",
      "CALDAS              1.910508\n",
      "CAQUETA             0.783234\n",
      "CASANARE            1.054835\n",
      "CAUCA               2.534085\n",
      "CESAR               2.377255\n",
      "CHOCO               0.820640\n",
      "CORDOBA             3.589375\n",
      "CUNDINAMARCA        6.562746\n",
      "EXTRANJERO          0.000365\n",
      "GUAINIA             0.045434\n",
      "GUAVIARE            0.177904\n",
      "HUILA               2.644294\n",
      "LA GUAJIRA          1.485089\n",
      "MAGDALENA           2.972641\n",
      "META                2.198895\n",
      "NARIÑO              3.050372\n",
      "NORTE SANTANDER     2.815264\n",
      "PUTUMAYO            0.800933\n",
      "QUINDIO             1.283282\n",
      "RISARALDA           1.941801\n",
      "SAN ANDRES          0.115957\n",
      "SANTANDER           4.689188\n",
      "SUCRE               1.934593\n",
      "TOLIMA              3.102101\n",
      "VALLE               7.156034\n",
      "VAUPES              0.068881\n",
      "VICHADA             0.089408\n",
      "dtype: float64\n"
     ]
    }
   ],
   "source": [
    "dg = data.groupby('ESTU_DEPTO_RESIDE').size()/data.shape[0] *100\n",
    "print(dg)"
   ]
  },
  {
   "cell_type": "code",
   "execution_count": 18,
   "metadata": {},
   "outputs": [
    {
     "name": "stdout",
     "output_type": "stream",
     "text": [
      "ESTU_COD_RESIDE_DEPTO\n",
      "-         0.043609\n",
      "05       13.413059\n",
      "08        5.774950\n",
      "11       16.194020\n",
      "13        4.598776\n",
      "15        3.033037\n",
      "17        1.910508\n",
      "18        0.783234\n",
      "19        2.534085\n",
      "20        2.377255\n",
      "23        3.589375\n",
      "25        6.562746\n",
      "27        0.820640\n",
      "41        2.644294\n",
      "44        1.485089\n",
      "47        2.972641\n",
      "50        2.198895\n",
      "52        3.050372\n",
      "54        2.815264\n",
      "63        1.283282\n",
      "66        1.941801\n",
      "68        4.689188\n",
      "70        1.934593\n",
      "73        3.102101\n",
      "76        7.156034\n",
      "81        0.570479\n",
      "85        1.054835\n",
      "86        0.800933\n",
      "88        0.115957\n",
      "91        0.166956\n",
      "94        0.045434\n",
      "95        0.177904\n",
      "97        0.068881\n",
      "99        0.089408\n",
      "99999     0.000365\n",
      "dtype: float64\n"
     ]
    }
   ],
   "source": [
    "dg = data.groupby('ESTU_COD_RESIDE_DEPTO').size()/data.shape[0] *100\n",
    "print(dg)"
   ]
  },
  {
   "cell_type": "code",
   "execution_count": 19,
   "metadata": {},
   "outputs": [
    {
     "name": "stdout",
     "output_type": "stream",
     "text": [
      "ESTU_MCPIO_RESIDE\n",
      "-                   0.043609\n",
      "ABEJORRAL           0.035672\n",
      "ABREGO              0.021075\n",
      "ABRIAQUI            0.002463\n",
      "ABRIAQUÍ            0.002555\n",
      "ACACIAS             0.096616\n",
      "ACACÍAS             0.092145\n",
      "ACANDI              0.005656\n",
      "ACANDÍ              0.008850\n",
      "ACEVEDO             0.063681\n",
      "ACHI                0.023721\n",
      "ACHÍ                0.024450\n",
      "AGRADO              0.022170\n",
      "AGUA DE DIOS        0.021622\n",
      "AGUACHICA           0.218412\n",
      "AGUADA              0.003284\n",
      "AGUADAS             0.043427\n",
      "AGUAZUL             0.107290\n",
      "AGUSTIN CODAZZI     0.056017\n",
      "AGUSTÍN CODAZZI     0.063133\n",
      "AIPE                0.047988\n",
      "ALBAN               0.007390\n",
      "ALBAN (SAN JOSE)    0.009853\n",
      "ALBANIA             0.066600\n",
      "ALBÁN               0.016513\n",
      "ALCALA              0.014324\n",
      "ALCALÁ              0.013411\n",
      "ALDANA              0.014141\n",
      "ALEJANDRIA          0.003467\n",
      "ALEJANDRÍA          0.004470\n",
      "                      ...   \n",
      "YAGUARA             0.008393\n",
      "YAGUARÁ             0.008393\n",
      "YALI                0.006934\n",
      "YALÍ                0.005748\n",
      "YARUMAL             0.107199\n",
      "YAVARATE            0.001186\n",
      "YAVARATÉ            0.000821\n",
      "YOLOMBO             0.024450\n",
      "YOLOMBÓ             0.026822\n",
      "YONDO (CASABE)      0.009671\n",
      "YONDÓ               0.009123\n",
      "YOPAL               0.488187\n",
      "YOTOCO              0.029286\n",
      "YUMBO               0.207372\n",
      "ZAMBRANO            0.025180\n",
      "ZAPATOCA            0.025910\n",
      "ZAPAYAN             0.007664\n",
      "ZAPAYÁN             0.008941\n",
      "ZARAGOZA            0.078552\n",
      "ZARZAL              0.077092\n",
      "ZETAQUIRA           0.011769\n",
      "ZIPACON             0.007481\n",
      "ZIPACÓN             0.009671\n",
      "ZIPAQUIRA           0.141411\n",
      "ZIPAQUIRÁ           0.134112\n",
      "ZONA BANANERA       0.140681\n",
      "ÁBREGO              0.026366\n",
      "ÍQUIRA              0.008758\n",
      "ÚMBITA              0.009488\n",
      "ÚTICA               0.005565\n",
      "Length: 1415, dtype: float64\n"
     ]
    }
   ],
   "source": [
    "dg = data.groupby('ESTU_MCPIO_RESIDE').size()/data.shape[0] *100\n",
    "print(dg)"
   ]
  },
  {
   "cell_type": "code",
   "execution_count": 20,
   "metadata": {},
   "outputs": [
    {
     "name": "stdout",
     "output_type": "stream",
     "text": [
      "FAMI_PERSONASHOGAR\n",
      "-           2.732516\n",
      "1 a 2       7.253835\n",
      "3 a 4      46.319848\n",
      "5 a 6      31.677882\n",
      "7 a 8       8.519692\n",
      "9 o más     3.496227\n",
      "dtype: float64\n"
     ]
    }
   ],
   "source": [
    "dg = data.groupby('FAMI_PERSONASHOGAR').size()/data.shape[0] *100\n",
    "print(dg)"
   ]
  },
  {
   "cell_type": "code",
   "execution_count": 21,
   "metadata": {},
   "outputs": [
    {
     "name": "stdout",
     "output_type": "stream",
     "text": [
      "FAMI_EDUCACIONMADRE\n",
      "-                                        5.448702\n",
      "Educación profesional completa           9.466507\n",
      "Educación profesional incompleta         2.253087\n",
      "Ninguno                                  2.320508\n",
      "No Aplica                                0.168781\n",
      "No sabe                                  1.639546\n",
      "Postgrado                                1.901658\n",
      "Primaria completa                       10.767123\n",
      "Primaria incompleta                     15.357323\n",
      "Secundaria (Bachillerato) completa      23.954836\n",
      "Secundaria (Bachillerato) incompleta    14.611129\n",
      "Técnica o tecnológica completa           9.251744\n",
      "Técnica o tecnológica incompleta         2.859056\n",
      "dtype: float64\n"
     ]
    }
   ],
   "source": [
    "dg = data.groupby('FAMI_EDUCACIONMADRE').size()/data.shape[0] *100\n",
    "print(dg)"
   ]
  },
  {
   "cell_type": "code",
   "execution_count": 22,
   "metadata": {},
   "outputs": [
    {
     "name": "stdout",
     "output_type": "stream",
     "text": [
      "FAMI_TIENECOMPUTADOR\n",
      "-      2.576873\n",
      "No    40.536869\n",
      "Si    56.886258\n",
      "dtype: float64\n"
     ]
    }
   ],
   "source": [
    "dg = data.groupby('FAMI_TIENECOMPUTADOR').size()/data.shape[0] *100\n",
    "print(dg)"
   ]
  },
  {
   "cell_type": "code",
   "execution_count": 23,
   "metadata": {},
   "outputs": [
    {
     "name": "stdout",
     "output_type": "stream",
     "text": [
      "FAMI_TIENELAVADORA\n",
      "-      2.521677\n",
      "No    24.678769\n",
      "Si    72.799554\n",
      "dtype: float64\n"
     ]
    }
   ],
   "source": [
    "dg = data.groupby('FAMI_TIENELAVADORA').size()/data.shape[0] *100\n",
    "print(dg)"
   ]
  },
  {
   "cell_type": "code",
   "execution_count": 24,
   "metadata": {},
   "outputs": [
    {
     "name": "stdout",
     "output_type": "stream",
     "text": [
      "FAMI_TIENEHORNOMICROOGAS\n",
      "-      2.694746\n",
      "No    53.554889\n",
      "Si    43.750365\n",
      "dtype: float64\n"
     ]
    }
   ],
   "source": [
    "dg = data.groupby('FAMI_TIENEHORNOMICROOGAS').size()/data.shape[0] *100\n",
    "print(dg)"
   ]
  },
  {
   "cell_type": "code",
   "execution_count": 25,
   "metadata": {},
   "outputs": [
    {
     "name": "stdout",
     "output_type": "stream",
     "text": [
      "FAMI_TIENEAUTOMOVIL\n",
      "-      2.823749\n",
      "No    75.318312\n",
      "Si    21.857939\n",
      "dtype: float64\n"
     ]
    }
   ],
   "source": [
    "dg = data.groupby('FAMI_TIENEAUTOMOVIL').size()/data.shape[0] *100\n",
    "print(dg)"
   ]
  },
  {
   "cell_type": "code",
   "execution_count": 26,
   "metadata": {},
   "outputs": [
    {
     "name": "stdout",
     "output_type": "stream",
     "text": [
      "FAMI_TIENEMOTOCICLETA\n",
      "-      2.620938\n",
      "No    58.793208\n",
      "Si    38.585854\n",
      "dtype: float64\n"
     ]
    }
   ],
   "source": [
    "dg = data.groupby('FAMI_TIENEMOTOCICLETA').size()/data.shape[0] *100\n",
    "print(dg)"
   ]
  },
  {
   "cell_type": "code",
   "execution_count": 27,
   "metadata": {},
   "outputs": [
    {
     "name": "stdout",
     "output_type": "stream",
     "text": [
      "FAMI_TIENECONSOLAVIDEOJUEGOS\n",
      "-      2.808239\n",
      "No    75.950190\n",
      "Si    21.241570\n",
      "dtype: float64\n"
     ]
    }
   ],
   "source": [
    "dg = data.groupby('FAMI_TIENECONSOLAVIDEOJUEGOS').size()/data.shape[0] *100\n",
    "print(dg)"
   ]
  },
  {
   "cell_type": "code",
   "execution_count": 28,
   "metadata": {},
   "outputs": [
    {
     "name": "stdout",
     "output_type": "stream",
     "text": [
      "FAMI_NUMLIBROS\n",
      "-                     6.832340\n",
      "0 A 10 LIBROS        38.065096\n",
      "11 A 25 LIBROS       28.777589\n",
      "26 A 100 LIBROS      19.657402\n",
      "MÁS DE 100 LIBROS     6.667573\n",
      "dtype: float64\n"
     ]
    }
   ],
   "source": [
    "dg = data.groupby('FAMI_NUMLIBROS').size()/data.shape[0] *100\n",
    "print(dg)"
   ]
  },
  {
   "cell_type": "code",
   "execution_count": 29,
   "metadata": {},
   "outputs": [
    {
     "name": "stdout",
     "output_type": "stream",
     "text": [
      "FAMI_COMELECHEDERIVADOS\n",
      "-                                6.046095\n",
      "1 o 2 veces por semana          32.264783\n",
      "3 a 5 veces por semana          24.116683\n",
      "Nunca o rara vez comemos eso     8.543960\n",
      "Todos o casi todos los días     29.028479\n",
      "dtype: float64\n"
     ]
    }
   ],
   "source": [
    "dg = data.groupby('FAMI_COMELECHEDERIVADOS').size()/data.shape[0] *100\n",
    "print(dg)"
   ]
  },
  {
   "cell_type": "code",
   "execution_count": 30,
   "metadata": {},
   "outputs": [
    {
     "name": "stdout",
     "output_type": "stream",
     "text": [
      "FAMI_COMECARNEPESCADOHUEVO\n",
      "-                                5.849123\n",
      "1 o 2 veces por semana          23.727210\n",
      "3 a 5 veces por semana          28.592295\n",
      "Nunca o rara vez comemos eso     4.551974\n",
      "Todos o casi todos los días     37.279399\n",
      "dtype: float64\n"
     ]
    }
   ],
   "source": [
    "dg = data.groupby('FAMI_COMECARNEPESCADOHUEVO').size()/data.shape[0] *100\n",
    "print(dg)"
   ]
  },
  {
   "cell_type": "code",
   "execution_count": 31,
   "metadata": {},
   "outputs": [
    {
     "name": "stdout",
     "output_type": "stream",
     "text": [
      "FAMI_COMECEREALFRUTOSLEGUMBRE\n",
      "-                                5.926488\n",
      "1 o 2 veces por semana          36.800244\n",
      "3 a 5 veces por semana          28.011233\n",
      "Nunca o rara vez comemos eso    13.402841\n",
      "Todos o casi todos los días     15.859195\n",
      "dtype: float64\n"
     ]
    }
   ],
   "source": [
    "dg = data.groupby('FAMI_COMECEREALFRUTOSLEGUMBRE').size()/data.shape[0] *100\n",
    "print(dg)"
   ]
  },
  {
   "cell_type": "code",
   "execution_count": 32,
   "metadata": {},
   "outputs": [
    {
     "name": "stdout",
     "output_type": "stream",
     "text": [
      "FAMI_SITUACIONECONOMICA\n",
      "-         2.447048\n",
      "Igual    60.311323\n",
      "Mejor    23.280716\n",
      "Peor     13.960912\n",
      "dtype: float64\n"
     ]
    }
   ],
   "source": [
    "dg = data.groupby('FAMI_SITUACIONECONOMICA').size()/data.shape[0] *100\n",
    "print(dg)"
   ]
  },
  {
   "cell_type": "code",
   "execution_count": 33,
   "metadata": {},
   "outputs": [
    {
     "name": "stdout",
     "output_type": "stream",
     "text": [
      "ESTU_DEDICACIONLECTURADIARIA\n",
      "-                              5.702420\n",
      "30 minutos o menos            36.704449\n",
      "Entre 1 y 2 horas             10.971667\n",
      "Entre 30 y 60 minutos         26.065326\n",
      "Más de 2 horas                 4.075920\n",
      "No leo por entretenimiento    16.480217\n",
      "dtype: float64\n"
     ]
    }
   ],
   "source": [
    "dg = data.groupby('ESTU_DEDICACIONLECTURADIARIA').size()/data.shape[0] *100\n",
    "print(dg)"
   ]
  },
  {
   "cell_type": "code",
   "execution_count": 34,
   "metadata": {},
   "outputs": [
    {
     "name": "stdout",
     "output_type": "stream",
     "text": [
      "ESTU_DEDICACIONINTERNET\n",
      "-                         6.071001\n",
      "30 minutos o menos       17.738957\n",
      "Entre 1 y 3 horas        27.201450\n",
      "Entre 30 y 60 minutos    24.629047\n",
      "Más de 3 horas           17.991855\n",
      "No Navega Internet        6.367690\n",
      "dtype: float64\n"
     ]
    }
   ],
   "source": [
    "dg = data.groupby('ESTU_DEDICACIONINTERNET').size()/data.shape[0] *100\n",
    "print(dg)"
   ]
  },
  {
   "cell_type": "code",
   "execution_count": 35,
   "metadata": {},
   "outputs": [
    {
     "name": "stdout",
     "output_type": "stream",
     "text": [
      "ESTU_TIPOREMUNERACION\n",
      "-                             2.816633\n",
      "No                           69.290737\n",
      "Si, en efectivo              24.945078\n",
      "Si, en efectivo y especie     1.359005\n",
      "Si, en especie                1.588547\n",
      "dtype: float64\n"
     ]
    }
   ],
   "source": [
    "dg = data.groupby('ESTU_TIPOREMUNERACION').size()/data.shape[0] *100\n",
    "print(dg)"
   ]
  },
  {
   "cell_type": "code",
   "execution_count": 36,
   "metadata": {},
   "outputs": [
    {
     "name": "stdout",
     "output_type": "stream",
     "text": [
      "COLE_NOMBRE_ESTABLECIMIENTO\n",
      "ACAD AMERICANA DE SISTEMAS Y COMERCIO                            0.002281\n",
      "ACAD CENTRAL DE SISTEMAS ACSI                                    0.003102\n",
      "ACAD MILIT MARISCAL SUCRE                                        0.009397\n",
      "ACAD PANTANO DE VARGAS                                           0.005109\n",
      "ACADEMIA ACADEMIA SAM                                            0.001916\n",
      "ACADEMIA CIAL DE LOS ANDES                                       0.016057\n",
      "ACADEMIA COLOMBIANA DE ENSEÑANZA                                 0.010583\n",
      "ACADEMIA CORPETROL                                               0.005565\n",
      "ACADEMIA DE CIENCIAS DE COLOMBIA AKADEMOS                        0.003558\n",
      "ACADEMIA E INSTITUTO CAMPAÑA LIBERTADORA                         0.000456\n",
      "ACADEMIA GENERAL CARLOS JULIO GIL COLORADO                       0.004379\n",
      "ACADEMIA GUSTAVO ROJAS PINILLAS                                  0.002555\n",
      "ACADEMIA INTERNACIONAL DE ESTUDIOS TECNICOS AIES                 0.000912\n",
      "ACADEMIA MILITAR GENERAL CUSTODIO GARCIA ROVIRA                  0.001460\n",
      "ACADEMIA MILITAR GENERAL JOSE ANTONIO ANZOATEGUI                 0.007572\n",
      "ACADEMIA MILITAR GENERAL JOSÉ MARÍA CABAL                        0.005748\n",
      "ACADEMIA MILITAR GRAL TOMAS CIPRIANO DE MOSQUERA                 0.003193\n",
      "ACADEMIA MILITAR GUSTAVO MATAMOROS D COSTA                       0.002646\n",
      "ACADEMIA MILITAR JOSE ANTONIO PAEZ                               0.005565\n",
      "ACADEMIA MILITAR MARISCAL SUCRE                                  0.007207\n",
      "ACADEMIA POLITECNICA INTERACTIVA                                 0.004379\n",
      "ACADEMICO                                                        0.036219\n",
      "ADVENTISTA DE QUIBDO BOLIVAR ESCANDON                            0.003193\n",
      "AGRICOLA DE TOMARRAZON                                           0.009579\n",
      "AGROECOLOGICO AMAZONICO BUINAIMA                                 0.006386\n",
      "AGUSTIN CODAZZI                                                  0.007207\n",
      "AIPECITO                                                         0.004014\n",
      "ALEJANDRO DE HUMBOLDT                                            0.019068\n",
      "ALFEREZ REAL                                                     0.002737\n",
      "ALFONSO LOPEZ PUMAREJO                                           0.006021\n",
      "                                                                   ...   \n",
      "TECNOLÓGICO EN INFORMATICA Y COMERCIO DE BUENAVENTURA INCOMEB    0.002919\n",
      "TEOFILO ROBERTO POTES                                            0.051273\n",
      "TERESITA MONTES                                                  0.030289\n",
      "TERMARIT                                                         0.015783\n",
      "TERRA INSTITUTO                                                  0.011860\n",
      "TERRA INSTITUTO VILLA                                            0.003558\n",
      "TOMAS CIPRIANO DE MOSQUERA                                       0.015053\n",
      "TÉCNICO INDUSTRIAL GERARDO VALENCIA CANO                         0.023994\n",
      "UNID EDUC BAHIA SOLANO                                           0.004197\n",
      "UNID EDUC EL FUTURO DEL MAÑANA                                   0.004653\n",
      "UNID EDUC JEAN PIAGET                                            0.013411\n",
      "UNID EDUC PRADOS DE ALAMEDA                                      0.002646\n",
      "UNID PEDAGOGICA BILINGÜE PIERRE DE FERMAT                        0.002463\n",
      "UNIDAD CORPORATIVA ARKOS                                         0.003649\n",
      "UNIDAD CORPORATIVA ARKOS U                                       0.004197\n",
      "UNIDAD EDUCATIVA ARNULFO BRICE¿O CONTRERAS                       0.024724\n",
      "UNIDAD EDUCATIVA EDUARDO CARRANZA                                0.014688\n",
      "UNIDAD EDUCATIVA PLAYA RICA                                      0.004562\n",
      "UNIDAD EDUCATIVA SAN MARCOS                                      0.020071\n",
      "UNIDAD EDUCATIVA SEIS DE ABRIL                                   0.003649\n",
      "UNIDAD PEDAGÓGICA BOLIVARIANA                                    0.008120\n",
      "UNIDAD PORTEÑA DE APRENDIZAJE - UPA                              0.003284\n",
      "UNION PROFESIONAL PARA LA EDUCACION Y EL TRABAJO UPET            0.020254\n",
      "UNION SINDICAL OBRERA  USO                                       0.001642\n",
      "UNITECNICAS                                                      0.019068\n",
      "WINDSOR ROYAL SCHOL                                              0.003832\n",
      "YACHAY WASI RUNA YANAKUNA                                        0.000274\n",
      "YUC KWET ZUUM                                                    0.000639\n",
      "ZARAGOZA                                                         0.009579\n",
      "ZION SCHOOL                                                      0.003102\n",
      "Length: 9687, dtype: float64\n"
     ]
    }
   ],
   "source": [
    "dg = data.groupby('COLE_NOMBRE_ESTABLECIMIENTO').size()/data.shape[0] *100\n",
    "print(dg)"
   ]
  },
  {
   "cell_type": "code",
   "execution_count": 37,
   "metadata": {},
   "outputs": [
    {
     "name": "stdout",
     "output_type": "stream",
     "text": [
      "COLE_NATURALEZA\n",
      "NO OFICIAL    24.284825\n",
      "OFICIAL       75.715175\n",
      "dtype: float64\n"
     ]
    }
   ],
   "source": [
    "dg = data.groupby('COLE_NATURALEZA').size()/data.shape[0] *100\n",
    "print(dg)"
   ]
  },
  {
   "cell_type": "code",
   "execution_count": 38,
   "metadata": {},
   "outputs": [
    {
     "name": "stdout",
     "output_type": "stream",
     "text": [
      "COLE_BILINGUE\n",
      "-    14.732104\n",
      "N    84.246453\n",
      "S     1.021443\n",
      "dtype: float64\n"
     ]
    }
   ],
   "source": [
    "dg = data.groupby('COLE_BILINGUE').size()/data.shape[0] *100\n",
    "print(dg)"
   ]
  },
  {
   "cell_type": "code",
   "execution_count": 39,
   "metadata": {},
   "outputs": [
    {
     "name": "stdout",
     "output_type": "stream",
     "text": [
      "COLE_CARACTER\n",
      "-                     1.863249\n",
      "ACADÉMICO            52.965525\n",
      "NO APLICA             0.978290\n",
      "TÉCNICO              10.782723\n",
      "TÉCNICO/ACADÉMICO    33.410212\n",
      "dtype: float64\n"
     ]
    }
   ],
   "source": [
    "dg = data.groupby('COLE_CARACTER').size()/data.shape[0] *100\n",
    "print(dg)"
   ]
  },
  {
   "cell_type": "code",
   "execution_count": 40,
   "metadata": {},
   "outputs": [
    {
     "name": "stdout",
     "output_type": "stream",
     "text": [
      "COLE_COD_DANE_SEDE\n",
      "105001000001    0.006751\n",
      "105001000043    0.016057\n",
      "105001000108    0.166409\n",
      "105001000132    0.011769\n",
      "105001000141    0.006113\n",
      "105001000167    0.001642\n",
      "105001000175    0.011130\n",
      "105001000191    0.007572\n",
      "105001000205    0.010674\n",
      "105001000256    0.033665\n",
      "105001000353    0.009944\n",
      "105001000396    0.020345\n",
      "105001000418    0.016239\n",
      "105001000485    0.021075\n",
      "105001000493    0.014780\n",
      "105001000566    0.011039\n",
      "105001000621    0.021805\n",
      "105001000795    0.020892\n",
      "105001000809    0.007116\n",
      "105001000841    0.010401\n",
      "105001000868    0.004379\n",
      "105001000876    0.014688\n",
      "105001000931    0.034395\n",
      "105001000981    0.047441\n",
      "105001000990    0.024450\n",
      "105001001023    0.011039\n",
      "105001001121    0.028830\n",
      "105001001155    0.016878\n",
      "105001001163    0.004927\n",
      "105001001198    0.010948\n",
      "                  ...   \n",
      "499001001919    0.007116\n",
      "499760000994    0.002463\n",
      "515469000003    0.003832\n",
      "519001000002    0.009762\n",
      "525843000017    0.005383\n",
      "527610900093    0.000639\n",
      "527610900095    0.002190\n",
      "550006000001    0.001460\n",
      "550318000003    0.000547\n",
      "550330000002    0.000821\n",
      "550350000002    0.002919\n",
      "550400000001    0.000639\n",
      "550689000001    0.000182\n",
      "554001300011    0.034030\n",
      "568432001200    0.002190\n",
      "568432001300    0.000365\n",
      "625269000068    0.009397\n",
      "625269000069    0.002281\n",
      "625269000075    0.006204\n",
      "625269000078    0.021622\n",
      "625269000084    0.003923\n",
      "625817000006    0.011860\n",
      "813430000003    0.013685\n",
      "818001100027    0.012134\n",
      "818001100040    0.000912\n",
      "847001000023    0.017699\n",
      "847001000027    0.015692\n",
      "847001000035    0.003923\n",
      "847001000051    0.000365\n",
      "854874000001    0.000912\n",
      "Length: 11012, dtype: float64\n"
     ]
    }
   ],
   "source": [
    "dg = data.groupby('COLE_COD_DANE_SEDE').size()/data.shape[0] *100\n",
    "print(dg)"
   ]
  },
  {
   "cell_type": "code",
   "execution_count": 41,
   "metadata": {},
   "outputs": [
    {
     "name": "stdout",
     "output_type": "stream",
     "text": [
      "COLE_AREA_UBICACION\n",
      "RURAL     15.175496\n",
      "URBANO    84.824504\n",
      "dtype: float64\n"
     ]
    }
   ],
   "source": [
    "dg = data.groupby('COLE_AREA_UBICACION').size()/data.shape[0] *100\n",
    "print(dg)"
   ]
  },
  {
   "cell_type": "code",
   "execution_count": 42,
   "metadata": {},
   "outputs": [
    {
     "name": "stdout",
     "output_type": "stream",
     "text": [
      "COLE_JORNADA\n",
      "COMPLETA    17.602746\n",
      "MAÑANA      50.034942\n",
      "NOCHE        5.912073\n",
      "SABATINA     6.903319\n",
      "TARDE       12.616413\n",
      "UNICA        6.930506\n",
      "dtype: float64\n"
     ]
    }
   ],
   "source": [
    "dg = data.groupby('COLE_JORNADA').size()/data.shape[0] *100\n",
    "print(dg)"
   ]
  },
  {
   "cell_type": "code",
   "execution_count": 43,
   "metadata": {},
   "outputs": [
    {
     "name": "stdout",
     "output_type": "stream",
     "text": [
      "COLE_COD_MCPIO_UBICACION\n",
      "5001     5.212043\n",
      "5002     0.034304\n",
      "5004     0.004562\n",
      "5021     0.007846\n",
      "5030     0.054831\n",
      "5031     0.057750\n",
      "5034     0.091142\n",
      "5036     0.011952\n",
      "5038     0.022991\n",
      "5040     0.034395\n",
      "5042     0.055470\n",
      "5044     0.012499\n",
      "5045     0.305813\n",
      "5051     0.090138\n",
      "5055     0.013502\n",
      "5059     0.005292\n",
      "5079     0.103093\n",
      "5086     0.016969\n",
      "5088     1.022994\n",
      "5091     0.013594\n",
      "5093     0.040325\n",
      "5101     0.054466\n",
      "5107     0.006204\n",
      "5113     0.016604\n",
      "5120     0.044613\n",
      "5125     0.022170\n",
      "5129     0.147341\n",
      "5134     0.010857\n",
      "5138     0.050178\n",
      "5142     0.009762\n",
      "           ...   \n",
      "86757    0.044065\n",
      "86760    0.016148\n",
      "86865    0.093514\n",
      "86885    0.060305\n",
      "88001    0.103641\n",
      "88564    0.010583\n",
      "91001    0.129003\n",
      "91263    0.005474\n",
      "91405    0.004653\n",
      "91407    0.004288\n",
      "91460    0.002828\n",
      "91540    0.013685\n",
      "91669    0.001825\n",
      "91798    0.004562\n",
      "94001    0.033391\n",
      "94343    0.007572\n",
      "94663    0.002007\n",
      "94883    0.001642\n",
      "94888    0.000639\n",
      "95001    0.137214\n",
      "95015    0.009215\n",
      "95025    0.024268\n",
      "95200    0.005748\n",
      "97001    0.064410\n",
      "97511    0.002463\n",
      "97889    0.002007\n",
      "99001    0.035581\n",
      "99524    0.018247\n",
      "99624    0.007481\n",
      "99773    0.028191\n",
      "Length: 1113, dtype: float64\n"
     ]
    }
   ],
   "source": [
    "dg = data.groupby('COLE_COD_MCPIO_UBICACION').size()/data.shape[0] *100\n",
    "print(dg)"
   ]
  },
  {
   "cell_type": "code",
   "execution_count": 44,
   "metadata": {},
   "outputs": [
    {
     "name": "stdout",
     "output_type": "stream",
     "text": [
      "COLE_MCPIO_UBICACION\n",
      "ABEJORRAL           0.034304\n",
      "ABREGO              0.023173\n",
      "ABRIAQUI            0.002190\n",
      "ABRIAQUÍ            0.002372\n",
      "ACACIAS             0.094426\n",
      "ACACÍAS             0.090777\n",
      "ACANDI              0.005656\n",
      "ACANDÍ              0.008850\n",
      "ACEVEDO             0.066144\n",
      "ACHI                0.023994\n",
      "ACHÍ                0.026093\n",
      "AGRADO              0.021348\n",
      "AGUA DE DIOS        0.020984\n",
      "AGUACHICA           0.223247\n",
      "AGUADA              0.003284\n",
      "AGUADAS             0.042788\n",
      "AGUAZUL             0.106651\n",
      "AGUSTIN CODAZZI     0.059028\n",
      "AGUSTÍN CODAZZI     0.063133\n",
      "AIPE                0.048810\n",
      "ALBAN               0.006478\n",
      "ALBAN (SAN JOSE)    0.009762\n",
      "ALBANIA             0.074081\n",
      "ALBÁN               0.015418\n",
      "ALCALA              0.013776\n",
      "ALCALÁ              0.013138\n",
      "ALDANA              0.015145\n",
      "ALEJANDRIA          0.003467\n",
      "ALEJANDRÍA          0.004379\n",
      "ALGARROBO           0.029651\n",
      "                      ...   \n",
      "YAGUARA             0.007937\n",
      "YAGUARÁ             0.008393\n",
      "YALI                0.006751\n",
      "YALÍ                0.005018\n",
      "YARUMAL             0.107107\n",
      "YAVARATE            0.001186\n",
      "YAVARATÉ            0.000821\n",
      "YOLOMBO             0.025272\n",
      "YOLOMBÓ             0.028556\n",
      "YONDO (CASABE)      0.009579\n",
      "YONDÓ               0.009123\n",
      "YOPAL               0.487913\n",
      "YOTOCO              0.025545\n",
      "YUMBO               0.209927\n",
      "ZAMBRANO            0.024998\n",
      "ZAPATOCA            0.026093\n",
      "ZAPAYAN             0.007207\n",
      "ZAPAYÁN             0.008393\n",
      "ZARAGOZA            0.078825\n",
      "ZARZAL              0.074355\n",
      "ZETAQUIRA           0.012134\n",
      "ZIPACON             0.007207\n",
      "ZIPACÓN             0.006751\n",
      "ZIPAQUIRA           0.138400\n",
      "ZIPAQUIRÁ           0.136211\n",
      "ZONA BANANERA       0.143418\n",
      "ÁBREGO              0.026731\n",
      "ÍQUIRA              0.008485\n",
      "ÚMBITA              0.009215\n",
      "ÚTICA               0.005018\n",
      "Length: 1409, dtype: float64\n"
     ]
    }
   ],
   "source": [
    "dg = data.groupby('COLE_MCPIO_UBICACION').size()/data.shape[0] *100\n",
    "print(dg)"
   ]
  },
  {
   "cell_type": "code",
   "execution_count": 45,
   "metadata": {},
   "outputs": [
    {
     "name": "stdout",
     "output_type": "stream",
     "text": [
      "COLE_DEPTO_UBICACION\n",
      "AMAZONAS            0.166318\n",
      "ANTIOQUIA          13.409318\n",
      "ARAUCA              0.566465\n",
      "ATLANTICO           5.786537\n",
      "BOGOTA             16.054342\n",
      "BOLIVAR             4.593302\n",
      "BOYACA              3.030848\n",
      "CALDAS              1.894633\n",
      "CAQUETA             0.783782\n",
      "CASANARE            1.051824\n",
      "CAUCA               2.543025\n",
      "CESAR               2.378076\n",
      "CHOCO               0.819910\n",
      "CORDOBA             3.586456\n",
      "CUNDINAMARCA        6.730432\n",
      "GUAINIA             0.045252\n",
      "GUAVIARE            0.176444\n",
      "HUILA               2.639550\n",
      "LA GUAJIRA          1.484724\n",
      "MAGDALENA           2.967532\n",
      "META                2.199899\n",
      "NARIÑO              3.044168\n",
      "NORTE SANTANDER     2.814078\n",
      "PUTUMAYO            0.797923\n",
      "QUINDIO             1.292679\n",
      "RISARALDA           1.952110\n",
      "SAN ANDRES          0.114224\n",
      "SANTANDER           4.756700\n",
      "SUCRE               1.934867\n",
      "TOLIMA              3.089510\n",
      "VALLE               7.136692\n",
      "VAUPES              0.068881\n",
      "VICHADA             0.089499\n",
      "dtype: float64\n"
     ]
    }
   ],
   "source": [
    "dg = data.groupby('COLE_DEPTO_UBICACION').size()/data.shape[0] *100\n",
    "print(dg)"
   ]
  },
  {
   "cell_type": "code",
   "execution_count": 46,
   "metadata": {},
   "outputs": [
    {
     "name": "stdout",
     "output_type": "stream",
     "text": [
      "ESTU_COD_MCPIO_PRESENTACION\n",
      "5001     4.910336\n",
      "5002     0.034760\n",
      "5030     0.149166\n",
      "5031     0.087310\n",
      "5034     0.145790\n",
      "5042     0.228721\n",
      "5045     0.340846\n",
      "5051     0.106742\n",
      "5079     0.142506\n",
      "5088     1.070892\n",
      "5101     0.065232\n",
      "5120     0.100995\n",
      "5129     0.170332\n",
      "5138     0.050725\n",
      "5147     0.090138\n",
      "5148     0.105921\n",
      "5154     0.225436\n",
      "5172     0.144057\n",
      "5190     0.065688\n",
      "5212     0.265488\n",
      "5234     0.041967\n",
      "5237     0.029742\n",
      "5250     0.127179\n",
      "5266     0.518933\n",
      "5284     0.059484\n",
      "5310     0.014506\n",
      "5313     0.018155\n",
      "5318     0.087584\n",
      "5360     0.776939\n",
      "5361     0.069702\n",
      "           ...   \n",
      "86568    0.203176\n",
      "86573    0.043336\n",
      "86749    0.095065\n",
      "86865    0.137670\n",
      "86885    0.067512\n",
      "88001    0.105283\n",
      "88564    0.010765\n",
      "91001    0.124989\n",
      "91263    0.005565\n",
      "91405    0.004744\n",
      "91407    0.004288\n",
      "91460    0.002828\n",
      "91540    0.018429\n",
      "91669    0.001825\n",
      "91798    0.004562\n",
      "94001    0.035946\n",
      "94343    0.009671\n",
      "95001    0.159201\n",
      "95015    0.009306\n",
      "95025    0.018520\n",
      "95200    0.005656\n",
      "97001    0.056838\n",
      "97161    0.003832\n",
      "97511    0.002463\n",
      "97666    0.003741\n",
      "97889    0.002007\n",
      "99001    0.036037\n",
      "99524    0.016513\n",
      "99624    0.010583\n",
      "99773    0.026640\n",
      "Length: 479, dtype: float64\n"
     ]
    }
   ],
   "source": [
    "dg = data.groupby('ESTU_COD_MCPIO_PRESENTACION').size()/data.shape[0] *100\n",
    "print(dg)"
   ]
  },
  {
   "cell_type": "code",
   "execution_count": 47,
   "metadata": {},
   "outputs": [
    {
     "name": "stdout",
     "output_type": "stream",
     "text": [
      "ESTU_GENERO\n",
      "-     0.000456\n",
      "F    54.354546\n",
      "M    45.644998\n",
      "dtype: float64\n"
     ]
    }
   ],
   "source": [
    "dg = data.groupby('ESTU_GENERO').size()/data.shape[0] *100\n",
    "print(dg)"
   ]
  },
  {
   "cell_type": "code",
   "execution_count": 83,
   "metadata": {},
   "outputs": [],
   "source": [
    "dg = data.groupby('ESTU_FECHANACIMIENTO').size()/data.shape[0] *100\n",
    "#print(dg)\n",
    "data['ESTU_FECHANACIMIENTO'] = data.apply(lambda x: get_age(x['ESTU_FECHANACIMIENTO'],x['PERIODO']),axis=1)"
   ]
  },
  {
   "cell_type": "code",
   "execution_count": 117,
   "metadata": {},
   "outputs": [
    {
     "data": {
      "text/plain": [
       "1.879803125"
      ]
     },
     "execution_count": 117,
     "metadata": {},
     "output_type": "execute_result"
    }
   ],
   "source": [
    "\n",
    "(27248+25365+51860+51629+29748+26979+65926+57817+55851+56616+54225+57892+18130+22251)/(32*1000000)*100"
   ]
  },
  {
   "cell_type": "code",
   "execution_count": 115,
   "metadata": {},
   "outputs": [
    {
     "data": {
      "text/plain": [
       "ESTU_FECHANACIMIENTO\n",
       "-1       0.010401\n",
       " 0       0.010492\n",
       " 1       0.001460\n",
       " 2       0.000274\n",
       " 4       0.001277\n",
       " 5       0.005018\n",
       " 6       0.007299\n",
       " 7       0.012316\n",
       " 8       0.013776\n",
       " 9       0.009671\n",
       " 10      0.004562\n",
       " 11      0.003923\n",
       " 12      0.010036\n",
       " 13      0.060305\n",
       " 14      1.637722\n",
       " 15     18.859844\n",
       " 16     33.662380\n",
       " 17     24.420671\n",
       " 18     11.125942\n",
       " 19      4.049280\n",
       " 20      1.527421\n",
       " 21      0.739625\n",
       " 22      0.482622\n",
       " 23      0.353527\n",
       " 24      0.273607\n",
       " 25      0.231275\n",
       " 26      0.206551\n",
       " 27      0.194326\n",
       " 28      0.173342\n",
       " 29      0.149713\n",
       "          ...    \n",
       " 58      0.011404\n",
       " 59      0.009397\n",
       " 60      0.007390\n",
       " 61      0.007755\n",
       " 62      0.005748\n",
       " 63      0.004470\n",
       " 64      0.003832\n",
       " 65      0.003923\n",
       " 66      0.003011\n",
       " 67      0.002463\n",
       " 68      0.002098\n",
       " 69      0.001460\n",
       " 70      0.001004\n",
       " 71      0.000639\n",
       " 72      0.001277\n",
       " 73      0.000456\n",
       " 74      0.000730\n",
       " 75      0.000456\n",
       " 76      0.000456\n",
       " 77      0.000182\n",
       " 78      0.000091\n",
       " 79      0.000091\n",
       " 80      0.000091\n",
       " 81      0.000091\n",
       " 82      0.000091\n",
       " 95      0.000182\n",
       " 98      0.000091\n",
       " 99      0.000091\n",
       " 112     0.000091\n",
       " 117     0.008211\n",
       "Length: 88, dtype: float64"
      ]
     },
     "execution_count": 115,
     "metadata": {},
     "output_type": "execute_result"
    }
   ],
   "source": [
    "data.groupby('ESTU_FECHANACIMIENTO').size()/data.shape[0]*100"
   ]
  },
  {
   "cell_type": "code",
   "execution_count": 85,
   "metadata": {},
   "outputs": [
    {
     "data": {
      "text/plain": [
       "Text(0.5, 0, 'Edad')"
      ]
     },
     "execution_count": 85,
     "metadata": {},
     "output_type": "execute_result"
    },
    {
     "data": {
      "image/png": "[encoded data removed]",
      "text/plain": [
       "<Figure size 432x288 with 1 Axes>"
      ]
     },
     "metadata": {
      "needs_background": "light"
     },
     "output_type": "display_data"
    }
   ],
   "source": [
    "hist = data.boxplot(column=['ESTU_FECHANACIMIENTO'])\n",
    "hist.set_xlabel(\"Edad\")"
   ]
  },
  {
   "cell_type": "code",
   "execution_count": 104,
   "metadata": {},
   "outputs": [],
   "source": [
    "a = data[\"ESTU_FECHANACIMIENTO\"].std()"
   ]
  },
  {
   "cell_type": "code",
   "execution_count": 98,
   "metadata": {},
   "outputs": [],
   "source": [
    "a = np.mean(np.absolute(data[\"ESTU_FECHANACIMIENTO\"] - data[\"ESTU_FECHANACIMIENTO\"].mean()))"
   ]
  },
  {
   "cell_type": "code",
   "execution_count": 110,
   "metadata": {},
   "outputs": [
    {
     "data": {
      "text/plain": [
       "20.815933399590094"
      ]
     },
     "execution_count": 110,
     "metadata": {},
     "output_type": "execute_result"
    }
   ],
   "source": [
    "data[\"ESTU_FECHANACIMIENTO\"].mean() +a*1"
   ]
  },
  {
   "cell_type": "code",
   "execution_count": 111,
   "metadata": {},
   "outputs": [
    {
     "name": "stdout",
     "output_type": "stream",
     "text": [
      "AxesSubplot(0.125,0.125;0.775x0.755)\n"
     ]
    },
    {
     "data": {
      "image/png": "[encoded data removed]",
      "text/plain": [
       "<Figure size 864x576 with 1 Axes>"
      ]
     },
     "metadata": {
      "needs_background": "light"
     },
     "output_type": "display_data"
    }
   ],
   "source": [
    "hist = data['PUNT_GLOBAL'].hist(bins=478, grid=False, figsize=(12,8), color='#86bf91', zorder=2, rwidth=0.9)\n",
    "print(hist)"
   ]
  },
  {
   "cell_type": "code",
   "execution_count": 112,
   "metadata": {},
   "outputs": [
    {
     "name": "stdout",
     "output_type": "stream",
     "text": [
      "AxesSubplot(0.125,0.125;0.775x0.755)\n"
     ]
    },
    {
     "data": {
      "image/png": "[encoded data removed]",
      "text/plain": [
       "<Figure size 864x576 with 1 Axes>"
      ]
     },
     "metadata": {
      "needs_background": "light"
     },
     "output_type": "display_data"
    }
   ],
   "source": [
    "hist = data['PUNT_INGLES'].hist(bins=50, grid=False, figsize=(12,8), color='#86bf91', zorder=2, rwidth=0.9)\n",
    "print(hist)"
   ]
  },
  {
   "cell_type": "code",
   "execution_count": 113,
   "metadata": {},
   "outputs": [
    {
     "name": "stdout",
     "output_type": "stream",
     "text": [
      "AxesSubplot(0.125,0.125;0.775x0.755)\n"
     ]
    },
    {
     "data": {
      "image/png": "[encoded data removed]",
      "text/plain": [
       "<Figure size 864x576 with 1 Axes>"
      ]
     },
     "metadata": {
      "needs_background": "light"
     },
     "output_type": "display_data"
    }
   ],
   "source": [
    "hist = data['PUNT_MATEMATICAS'].hist(bins=50, grid=False, figsize=(12,8), color='#86bf91', zorder=2, rwidth=0.9)\n",
    "print(hist)\n"
   ]
  },
  {
   "cell_type": "code",
   "execution_count": 49,
   "metadata": {},
   "outputs": [
    {
     "data": {
      "text/plain": [
       "<matplotlib.axes._subplots.AxesSubplot at 0x20b8055f748>"
      ]
     },
     "execution_count": 49,
     "metadata": {},
     "output_type": "execute_result"
    },
    {
     "data": {
      "image/png": "[encoded data removed]",
      "text/plain": [
       "<Figure size 432x288 with 1 Axes>"
      ]
     },
     "metadata": {
      "needs_background": "light"
     },
     "output_type": "display_data"
    }
   ],
   "source": [
    "data[\"FAMI_NUMLIBROS\"].value_counts().plot(kind ='bar')"
   ]
  },
  {
   "cell_type": "code",
   "execution_count": 50,
   "metadata": {},
   "outputs": [
    {
     "data": {
      "text/plain": [
       "<matplotlib.axes._subplots.AxesSubplot at 0x20bf4cabbe0>"
      ]
     },
     "execution_count": 50,
     "metadata": {},
     "output_type": "execute_result"
    },
    {
     "data": {
      "image/png": "[encoded data removed]",
      "text/plain": [
       "<Figure size 432x288 with 1 Axes>"
      ]
     },
     "metadata": {
      "needs_background": "light"
     },
     "output_type": "display_data"
    }
   ],
   "source": [
    "data[\"FAMI_TRABAJOLABORPADRE\"].value_counts().plot(kind ='bar')"
   ]
  },
  {
   "cell_type": "code",
   "execution_count": 51,
   "metadata": {},
   "outputs": [
    {
     "data": {
      "text/plain": [
       "<matplotlib.axes._subplots.AxesSubplot at 0x20b806a1588>"
      ]
     },
     "execution_count": 51,
     "metadata": {},
     "output_type": "execute_result"
    },
    {
     "data": {
      "image/png": "[encoded data removed]",
      "text/plain": [
       "<Figure size 432x288 with 1 Axes>"
      ]
     },
     "metadata": {
      "needs_background": "light"
     },
     "output_type": "display_data"
    }
   ],
   "source": [
    "data[\"FAMI_TRABAJOLABORMADRE\"].value_counts().plot(kind ='bar')"
   ]
  },
  {
   "cell_type": "code",
   "execution_count": 52,
   "metadata": {},
   "outputs": [
    {
     "data": {
      "text/plain": [
       "<matplotlib.axes._subplots.AxesSubplot at 0x20b81d1e278>"
      ]
     },
     "execution_count": 52,
     "metadata": {},
     "output_type": "execute_result"
    },
    {
     "data": {
      "image/png": "[encoded data removed]",
      "text/plain": [
       "<Figure size 432x288 with 1 Axes>"
      ]
     },
     "metadata": {
      "needs_background": "light"
     },
     "output_type": "display_data"
    }
   ],
   "source": [
    "data[\"ESTU_NSE_INDIVIDUAL\"].value_counts().plot(kind ='bar')"
   ]
  },
  {
   "cell_type": "code",
   "execution_count": 53,
   "metadata": {},
   "outputs": [
    {
     "data": {
      "text/plain": [
       "<matplotlib.axes._subplots.AxesSubplot at 0x20b81ec5c50>"
      ]
     },
     "execution_count": 53,
     "metadata": {},
     "output_type": "execute_result"
    },
    {
     "data": {
      "image/png": "[encoded data removed]",
      "text/plain": [
       "<Figure size 432x288 with 1 Axes>"
      ]
     },
     "metadata": {
      "needs_background": "light"
     },
     "output_type": "display_data"
    }
   ],
   "source": [
    "data[\"FAMI_NUMLIBROS\"].value_counts().plot(kind ='bar')"
   ]
  },
  {
   "cell_type": "code",
   "execution_count": null,
   "metadata": {},
   "outputs": [],
   "source": [
    "#hist = data['FAMI_ESTRATOVIVIENDA'].hist()#bins=6, grid=False, figsize=(12,8), color='#86bf91', zorder=2, rwidth=0.9)\n",
    "#print(hist)\n"
   ]
  },
  {
   "cell_type": "code",
   "execution_count": 114,
   "metadata": {},
   "outputs": [
    {
     "data": {
      "text/plain": [
       "Text(0, 0.5, 'ESTU_INSE_INDIVIDUAL')"
      ]
     },
     "execution_count": 114,
     "metadata": {},
     "output_type": "execute_result"
    },
    {
     "data": {
      "image/png": "[encoded data removed]",
      "text/plain": [
       "<Figure size 432x288 with 1 Axes>"
      ]
     },
     "metadata": {
      "needs_background": "light"
     },
     "output_type": "display_data"
    }
   ],
   "source": [
    "colors = {'M':'r', 'F':'b'}\n",
    "fig, ax = plt.subplots()\n",
    "for i in range(10000):\n",
    "    ax.scatter(data['PUNT_GLOBAL'][i], data['ESTU_INSE_INDIVIDUAL'][i],color=colors[data['ESTU_GENERO'][i]])\n",
    "ax.set_title('Iris Dataset')\n",
    "ax.set_xlabel('PUNT_GLOBAL')\n",
    "ax.set_ylabel('ESTU_INSE_INDIVIDUAL')"
   ]
  },
  {
   "cell_type": "code",
   "execution_count": null,
   "metadata": {},
   "outputs": [],
   "source": [
    "data['ESTU_GENERO'][0]"
   ]
  },
  {
   "cell_type": "code",
   "execution_count": null,
   "metadata": {},
   "outputs": [],
   "source": [
    "print(data.PUNT_GLOBAL.corr(data.ESTU_INSE_INDIVIDUAL, method=\"pearson\"))\n",
    "#print(data.PUNT_GLOBAL.corr(data.ESTU_INSE_INDIVIDUAL, method=\"kendall\"))\n",
    "#print(data.PUNT_GLOBAL.corr(data.ESTU_INSE_INDIVIDUAL, method=\"spearman\"))\n",
    "#print(data.PUNT_GLOBAL.corr(data.ESTU_INSE_INDIVIDUAL, method=\"callable\"))\n"
   ]
  },
  {
   "cell_type": "code",
   "execution_count": 50,
   "metadata": {},
   "outputs": [
    {
     "name": "stdout",
     "output_type": "stream",
     "text": [
      "0.43674357267452457\n"
     ]
    }
   ],
   "source": [
    "print(data.PUNT_GLOBAL.corr(data.ESTU_INSE_INDIVIDUAL, method=\"pearson\"))"
   ]
  },
  {
   "cell_type": "code",
   "execution_count": 49,
   "metadata": {},
   "outputs": [
    {
     "data": {
      "text/plain": [
       "ESTU_NSE_INDIVIDUAL\n",
       "-        25239\n",
       "NSE1    179736\n",
       "NSE2    422322\n",
       "NSE3    387164\n",
       "NSE4     81635\n",
       "dtype: int64"
      ]
     },
     "execution_count": 49,
     "metadata": {},
     "output_type": "execute_result"
    }
   ],
   "source": [
    "data.groupby('ESTU_NSE_INDIVIDUAL').size()"
   ]
  },
  {
   "cell_type": "code",
   "execution_count": 56,
   "metadata": {},
   "outputs": [
    {
     "data": {
      "text/plain": [
       "PERIODO\n",
       "20172    546162\n",
       "20182    549934\n",
       "dtype: int64"
      ]
     },
     "execution_count": 56,
     "metadata": {},
     "output_type": "execute_result"
    }
   ],
   "source": [
    "data.groupby('PERIODO').size()"
   ]
  },
  {
   "cell_type": "markdown",
   "metadata": {},
   "source": [
    "# Entropia"
   ]
  },
  {
   "cell_type": "code",
   "execution_count": null,
   "metadata": {},
   "outputs": [],
   "source": [
    "attributes = [\"ESTU_GENERO\", \"ESTU_FECHANACIMIENTO\", \"PERIODO\", \"ESTU_TIENEETNIA\", \"ESTU_ETNIA\", \"ESTU_LIMITA_MOTRIZ\", \"ESTU_DEPTO_RESIDE\", \"ESTU_MCPIO_RESIDE\", \"FAMI_ESTRATOVIVIENDA\", \"FAMI_PERSONASHOGAR\", \"FAMI_CUARTOSHOGAR\", \"FAMI_EDUCACIONPADRE\", \"FAMI_EDUCACIONMADRE\", \"FAMI_TRABAJOLABORPADRE\", \"FAMI_TRABAJOLABORMADRE\", \"FAMI_TIENESERVICIOTV\", \"FAMI_TIENECOMPUTADOR\", \"FAMI_TIENELAVADORA\", \"FAMI_TIENEHORNOMICROOGAS\", \"FAMI_TIENEAUTOMOVIL\", \"FAMI_TIENEMOTOCICLETA\", \"FAMI_TIENECONSOLAVIDEOJUEGOS\", \"FAMI_NUMLIBROS\", \"FAMI_COMELECHEDERIVADOS\", \"FAMI_COMECARNEPESCADOHUEVO\", \"FAMI_COMECEREALFRUTOSLEGUMBRE\", \"FAMI_SITUACIONECONOMICA\", \"ESTU_DEDICACIONLECTURADIARIA\", \"ESTU_DEDICACIONINTERNET\", \"ESTU_HORASSEMANATRABAJA\", \"ESTU_TIPOREMUNERACION\", \"COLE_NOMBRE_ESTABLECIMIENTO\", \"COLE_NATURALEZA\", \"COLE_BILINGUE\", \"COLE_CARACTER\", \"COLE_AREA_UBICACION\", \"COLE_JORNADA\", \"COLE_MCPIO_UBICACION\", \"COLE_DEPTO_UBICACION\", \"ESTU_PRIVADO_LIBERTAD\", \"PUNT_LECTURA_CRITICA\", \"PERCENTIL_LECTURA_CRITICA\", \"PUNT_MATEMATICAS\", \"PERCENTIL_MATEMATICAS\", \"PUNT_C_NATURALES\", \"PERCENTIL_C_NATURALES\", \"PUNT_SOCIALES_CIUDADANAS\", \"PERCENTIL_SOCIALES_CIUDADANAS\", \"PUNT_INGLES\", \"PERCENTIL_INGLES\", \"PUNT_GLOBAL\", \"PERCENTIL_GLOBAL\", \"ESTU_NSE_ESTABLECIMIENTO\", \"ESTU_INSE_INDIVIDUAL\", \"ESTU_NSE_INDIVIDUAL\"]"
   ]
  },
  {
   "cell_type": "code",
   "execution_count": 38,
   "metadata": {},
   "outputs": [],
   "source": [
    "def EntropySum(n):\n",
    "    if n == 0:\n",
    "        return 0\n",
    "    if n == 1:\n",
    "        return 0\n",
    "    else:\n",
    "        return n*math.log(n,2)+(1-n)*math.log(1-n,2)\n",
    "\n",
    "def compare(i,j,colPass):\n",
    "    count = 0\n",
    "    for col in attributes:\n",
    "        if data.iloc[i][col] == data.iloc[j][col]:\n",
    "            if col != colPass:\n",
    "                count+=1\n",
    "    return count"
   ]
  },
  {
   "cell_type": "code",
   "execution_count": 39,
   "metadata": {},
   "outputs": [
    {
     "data": {
      "text/plain": [
       "21"
      ]
     },
     "execution_count": 39,
     "metadata": {},
     "output_type": "execute_result"
    }
   ],
   "source": [
    "compare(0,1,\"\")"
   ]
  },
  {
   "cell_type": "code",
   "execution_count": null,
   "metadata": {},
   "outputs": [],
   "source": [
    "arr = [[3,3,1,'A'],[3,6,2,'A'],[5,3,1,'B'],[5,6,2,'B'],[7,3,1,'A'],[5,4,2,'B']]\n",
    "\n",
    "entropy = 0\n",
    "print(\"semejansas R i j\")\n",
    "for i in range(len(arr)):\n",
    "    for j in range(i+1,len(arr)):\n",
    "        result = compare(arr[i], arr[j],-1)\n",
    "        entropy += EntropySum(result/4)\n",
    "        print(\"R\",i,j,\"=\",result)\n",
    "    print(\"----------------\")\n",
    "print(\"EntropyTotal\",entropy*-1)"
   ]
  },
  {
   "cell_type": "code",
   "execution_count": 54,
   "metadata": {
    "scrolled": false
   },
   "outputs": [
    {
     "name": "stdout",
     "output_type": "stream",
     "text": [
      "R 0 999 = -907.7827903243349\n",
      "R 1 999 = -1816.2229853257054\n",
      "R 2 999 = -2686.5302201501677\n",
      "R 3 999 = -3513.392901147815\n",
      "R 4 999 = -4389.229856665792\n",
      "R 5 999 = -5167.721112742415\n",
      "R 6 999 = -5991.974230608623\n",
      "R 7 999 = -6859.286561307716\n",
      "R 8 999 = -7726.594583433897\n",
      "R 9 999 = -8578.593456526554\n",
      "R 10 999 = -9462.646504080254\n",
      "R 11 999 = -10372.22535158011\n",
      "R 12 999 = -11184.688304436031\n",
      "R 13 999 = -12089.697196719211\n",
      "R 14 999 = -12957.340148667407\n",
      "R 15 999 = -13850.964640471797\n",
      "R 16 999 = -14721.860703977916\n",
      "R 17 999 = -15553.030416256592\n",
      "R 18 999 = -16411.79048022234\n",
      "R 19 999 = -17206.5934954635\n",
      "R 20 999 = -18085.390789103\n",
      "R 21 999 = -18958.23904614969\n",
      "R 22 999 = -19821.8282176573\n",
      "R 23 999 = -20643.96324689267\n",
      "R 24 999 = -21478.249601497322\n",
      "R 25 999 = -22311.62195459693\n",
      "R 26 999 = -23177.823210701958\n",
      "R 27 999 = -23880.210349686764\n",
      "R 28 999 = -24611.183230665803\n",
      "R 29 999 = -25456.77333785591\n",
      "R 30 999 = -26327.892179014456\n",
      "R 31 999 = -27202.66289878667\n",
      "R 32 999 = -27924.66196826862\n",
      "R 33 999 = -28784.642499231493\n",
      "R 34 999 = -29592.308553202914\n",
      "R 35 999 = -30308.625706623647\n",
      "R 36 999 = -31161.723809231094\n",
      "R 37 999 = -32013.756654402878\n",
      "R 38 999 = -32869.09748985557\n",
      "R 39 999 = -33671.55702086309\n",
      "R 40 999 = -34537.18701619959\n",
      "R 41 999 = -35147.101980848536\n",
      "R 42 999 = -36004.92845154401\n",
      "R 43 999 = -36651.34590490925\n",
      "R 44 999 = -37422.35117663714\n",
      "R 45 999 = -38271.9691908361\n",
      "R 46 999 = -39118.61861863045\n",
      "R 47 999 = -39961.89839384312\n",
      "R 48 999 = -40691.111232667135\n",
      "R 49 999 = -41547.87502394499\n",
      "R 50 999 = -42372.414571607835\n",
      "R 51 999 = -43227.29161542281\n",
      "R 52 999 = -44092.61300963143\n",
      "R 53 999 = -44759.81953736403\n",
      "R 54 999 = -45576.93988876535\n",
      "R 55 999 = -46421.802140937354\n",
      "R 56 999 = -47239.286069748014\n",
      "R 57 999 = -48069.64326729221\n",
      "R 58 999 = -48902.134824270885\n",
      "R 59 999 = -49732.97872484994\n",
      "R 60 999 = -50576.08659389634\n",
      "R 61 999 = -51390.43394675046\n",
      "R 62 999 = -52206.84889190547\n",
      "R 63 999 = -53029.08572101693\n",
      "R 64 999 = -53846.826545028525\n",
      "R 65 999 = -54675.04059726332\n",
      "R 66 999 = -55494.17680463528\n",
      "R 67 999 = -56316.67494932847\n",
      "R 68 999 = -57122.71417979328\n",
      "R 69 999 = -57975.11960263968\n",
      "R 70 999 = -58816.34819868393\n",
      "R 71 999 = -59468.866819280454\n",
      "R 72 999 = -60274.746316168596\n",
      "R 73 999 = -61088.872226435116\n",
      "R 74 999 = -61898.02400004758\n",
      "R 75 999 = -62704.01108456476\n",
      "R 76 999 = -63532.68741066731\n",
      "R 77 999 = -64316.837327463385\n",
      "R 78 999 = -65135.79896803577\n",
      "R 79 999 = -65898.98354666507\n",
      "R 80 999 = -66721.49496388082\n",
      "R 81 999 = -67530.84066420466\n",
      "R 82 999 = -68340.33782914457\n",
      "R 83 999 = -69113.88129779449\n",
      "R 84 999 = -69885.00754522538\n",
      "R 85 999 = -70702.89334201426\n",
      "R 86 999 = -71489.44035169325\n",
      "R 87 999 = -72303.6147818826\n",
      "R 88 999 = -73014.9217656141\n",
      "R 89 999 = -73832.31012666175\n",
      "R 90 999 = -74436.66428504953\n",
      "R 91 999 = -75220.19306197255\n"
     ]
    },
    {
     "ename": "KeyboardInterrupt",
     "evalue": "",
     "output_type": "error",
     "traceback": [
      "\u001b[1;31m---------------------------------------------------------------------------\u001b[0m",
      "\u001b[1;31mKeyboardInterrupt\u001b[0m                         Traceback (most recent call last)",
      "\u001b[1;32m<ipython-input-54-bc5807afbc12>\u001b[0m in \u001b[0;36m<module>\u001b[1;34m\u001b[0m\n\u001b[0;32m      3\u001b[0m \u001b[1;32mfor\u001b[0m \u001b[0mi\u001b[0m \u001b[1;32min\u001b[0m \u001b[0mrange\u001b[0m\u001b[1;33m(\u001b[0m\u001b[0mdataSize\u001b[0m\u001b[1;33m)\u001b[0m\u001b[1;33m:\u001b[0m\u001b[1;33m\u001b[0m\u001b[1;33m\u001b[0m\u001b[0m\n\u001b[0;32m      4\u001b[0m     \u001b[1;32mfor\u001b[0m \u001b[0mj\u001b[0m \u001b[1;32min\u001b[0m \u001b[0mrange\u001b[0m\u001b[1;33m(\u001b[0m\u001b[0mi\u001b[0m\u001b[1;33m+\u001b[0m\u001b[1;36m1\u001b[0m\u001b[1;33m,\u001b[0m\u001b[0mdataSize\u001b[0m\u001b[1;33m)\u001b[0m\u001b[1;33m:\u001b[0m\u001b[1;33m\u001b[0m\u001b[1;33m\u001b[0m\u001b[0m\n\u001b[1;32m----> 5\u001b[1;33m         \u001b[0mresult\u001b[0m \u001b[1;33m=\u001b[0m \u001b[0mcompare\u001b[0m\u001b[1;33m(\u001b[0m\u001b[0mi\u001b[0m\u001b[1;33m,\u001b[0m \u001b[0mj\u001b[0m\u001b[1;33m,\u001b[0m \u001b[1;34m\"\"\u001b[0m\u001b[1;33m)\u001b[0m\u001b[1;33m\u001b[0m\u001b[1;33m\u001b[0m\u001b[0m\n\u001b[0m\u001b[0;32m      6\u001b[0m         \u001b[0mentropy\u001b[0m \u001b[1;33m+=\u001b[0m \u001b[0mEntropySum\u001b[0m\u001b[1;33m(\u001b[0m\u001b[0mresult\u001b[0m\u001b[1;33m/\u001b[0m\u001b[0mdata\u001b[0m\u001b[1;33m.\u001b[0m\u001b[0mshape\u001b[0m\u001b[1;33m[\u001b[0m\u001b[1;36m1\u001b[0m\u001b[1;33m]\u001b[0m\u001b[1;33m)\u001b[0m\u001b[1;33m\u001b[0m\u001b[1;33m\u001b[0m\u001b[0m\n\u001b[0;32m      7\u001b[0m         \u001b[1;31m#if j%100 == 0:\u001b[0m\u001b[1;33m\u001b[0m\u001b[1;33m\u001b[0m\u001b[1;33m\u001b[0m\u001b[0m\n",
      "\u001b[1;32m<ipython-input-38-de3d22c6116e>\u001b[0m in \u001b[0;36mcompare\u001b[1;34m(i, j, colPass)\u001b[0m\n\u001b[0;32m     10\u001b[0m     \u001b[0mcount\u001b[0m \u001b[1;33m=\u001b[0m \u001b[1;36m0\u001b[0m\u001b[1;33m\u001b[0m\u001b[1;33m\u001b[0m\u001b[0m\n\u001b[0;32m     11\u001b[0m     \u001b[1;32mfor\u001b[0m \u001b[0mcol\u001b[0m \u001b[1;32min\u001b[0m \u001b[0mattributes\u001b[0m\u001b[1;33m:\u001b[0m\u001b[1;33m\u001b[0m\u001b[1;33m\u001b[0m\u001b[0m\n\u001b[1;32m---> 12\u001b[1;33m         \u001b[1;32mif\u001b[0m \u001b[0mdata\u001b[0m\u001b[1;33m.\u001b[0m\u001b[0miloc\u001b[0m\u001b[1;33m[\u001b[0m\u001b[0mi\u001b[0m\u001b[1;33m]\u001b[0m\u001b[1;33m[\u001b[0m\u001b[0mcol\u001b[0m\u001b[1;33m]\u001b[0m \u001b[1;33m==\u001b[0m \u001b[0mdata\u001b[0m\u001b[1;33m.\u001b[0m\u001b[0miloc\u001b[0m\u001b[1;33m[\u001b[0m\u001b[0mj\u001b[0m\u001b[1;33m]\u001b[0m\u001b[1;33m[\u001b[0m\u001b[0mcol\u001b[0m\u001b[1;33m]\u001b[0m\u001b[1;33m:\u001b[0m\u001b[1;33m\u001b[0m\u001b[1;33m\u001b[0m\u001b[0m\n\u001b[0m\u001b[0;32m     13\u001b[0m             \u001b[1;32mif\u001b[0m \u001b[0mcol\u001b[0m \u001b[1;33m!=\u001b[0m \u001b[0mcolPass\u001b[0m\u001b[1;33m:\u001b[0m\u001b[1;33m\u001b[0m\u001b[1;33m\u001b[0m\u001b[0m\n\u001b[0;32m     14\u001b[0m                 \u001b[0mcount\u001b[0m\u001b[1;33m+=\u001b[0m\u001b[1;36m1\u001b[0m\u001b[1;33m\u001b[0m\u001b[1;33m\u001b[0m\u001b[0m\n",
      "\u001b[1;32m~\\Anaconda3\\lib\\site-packages\\pandas\\core\\indexing.py\u001b[0m in \u001b[0;36m__getitem__\u001b[1;34m(self, key)\u001b[0m\n\u001b[0;32m   1498\u001b[0m \u001b[1;33m\u001b[0m\u001b[0m\n\u001b[0;32m   1499\u001b[0m             \u001b[0mmaybe_callable\u001b[0m \u001b[1;33m=\u001b[0m \u001b[0mcom\u001b[0m\u001b[1;33m.\u001b[0m\u001b[0mapply_if_callable\u001b[0m\u001b[1;33m(\u001b[0m\u001b[0mkey\u001b[0m\u001b[1;33m,\u001b[0m \u001b[0mself\u001b[0m\u001b[1;33m.\u001b[0m\u001b[0mobj\u001b[0m\u001b[1;33m)\u001b[0m\u001b[1;33m\u001b[0m\u001b[1;33m\u001b[0m\u001b[0m\n\u001b[1;32m-> 1500\u001b[1;33m             \u001b[1;32mreturn\u001b[0m \u001b[0mself\u001b[0m\u001b[1;33m.\u001b[0m\u001b[0m_getitem_axis\u001b[0m\u001b[1;33m(\u001b[0m\u001b[0mmaybe_callable\u001b[0m\u001b[1;33m,\u001b[0m \u001b[0maxis\u001b[0m\u001b[1;33m=\u001b[0m\u001b[0maxis\u001b[0m\u001b[1;33m)\u001b[0m\u001b[1;33m\u001b[0m\u001b[1;33m\u001b[0m\u001b[0m\n\u001b[0m\u001b[0;32m   1501\u001b[0m \u001b[1;33m\u001b[0m\u001b[0m\n\u001b[0;32m   1502\u001b[0m     \u001b[1;32mdef\u001b[0m \u001b[0m_is_scalar_access\u001b[0m\u001b[1;33m(\u001b[0m\u001b[0mself\u001b[0m\u001b[1;33m,\u001b[0m \u001b[0mkey\u001b[0m\u001b[1;33m)\u001b[0m\u001b[1;33m:\u001b[0m\u001b[1;33m\u001b[0m\u001b[1;33m\u001b[0m\u001b[0m\n",
      "\u001b[1;32m~\\Anaconda3\\lib\\site-packages\\pandas\\core\\indexing.py\u001b[0m in \u001b[0;36m_getitem_axis\u001b[1;34m(self, key, axis)\u001b[0m\n\u001b[0;32m   2230\u001b[0m             \u001b[0mself\u001b[0m\u001b[1;33m.\u001b[0m\u001b[0m_validate_integer\u001b[0m\u001b[1;33m(\u001b[0m\u001b[0mkey\u001b[0m\u001b[1;33m,\u001b[0m \u001b[0maxis\u001b[0m\u001b[1;33m)\u001b[0m\u001b[1;33m\u001b[0m\u001b[1;33m\u001b[0m\u001b[0m\n\u001b[0;32m   2231\u001b[0m \u001b[1;33m\u001b[0m\u001b[0m\n\u001b[1;32m-> 2232\u001b[1;33m             \u001b[1;32mreturn\u001b[0m \u001b[0mself\u001b[0m\u001b[1;33m.\u001b[0m\u001b[0m_get_loc\u001b[0m\u001b[1;33m(\u001b[0m\u001b[0mkey\u001b[0m\u001b[1;33m,\u001b[0m \u001b[0maxis\u001b[0m\u001b[1;33m=\u001b[0m\u001b[0maxis\u001b[0m\u001b[1;33m)\u001b[0m\u001b[1;33m\u001b[0m\u001b[1;33m\u001b[0m\u001b[0m\n\u001b[0m\u001b[0;32m   2233\u001b[0m \u001b[1;33m\u001b[0m\u001b[0m\n\u001b[0;32m   2234\u001b[0m     \u001b[1;32mdef\u001b[0m \u001b[0m_convert_to_indexer\u001b[0m\u001b[1;33m(\u001b[0m\u001b[0mself\u001b[0m\u001b[1;33m,\u001b[0m \u001b[0mobj\u001b[0m\u001b[1;33m,\u001b[0m \u001b[0maxis\u001b[0m\u001b[1;33m=\u001b[0m\u001b[1;32mNone\u001b[0m\u001b[1;33m,\u001b[0m \u001b[0mis_setter\u001b[0m\u001b[1;33m=\u001b[0m\u001b[1;32mFalse\u001b[0m\u001b[1;33m)\u001b[0m\u001b[1;33m:\u001b[0m\u001b[1;33m\u001b[0m\u001b[1;33m\u001b[0m\u001b[0m\n",
      "\u001b[1;32m~\\Anaconda3\\lib\\site-packages\\pandas\\core\\indexing.py\u001b[0m in \u001b[0;36m_get_loc\u001b[1;34m(self, key, axis)\u001b[0m\n\u001b[0;32m    144\u001b[0m         \u001b[1;32mif\u001b[0m \u001b[0maxis\u001b[0m \u001b[1;32mis\u001b[0m \u001b[1;32mNone\u001b[0m\u001b[1;33m:\u001b[0m\u001b[1;33m\u001b[0m\u001b[1;33m\u001b[0m\u001b[0m\n\u001b[0;32m    145\u001b[0m             \u001b[0maxis\u001b[0m \u001b[1;33m=\u001b[0m \u001b[0mself\u001b[0m\u001b[1;33m.\u001b[0m\u001b[0maxis\u001b[0m\u001b[1;33m\u001b[0m\u001b[1;33m\u001b[0m\u001b[0m\n\u001b[1;32m--> 146\u001b[1;33m         \u001b[1;32mreturn\u001b[0m \u001b[0mself\u001b[0m\u001b[1;33m.\u001b[0m\u001b[0mobj\u001b[0m\u001b[1;33m.\u001b[0m\u001b[0m_ixs\u001b[0m\u001b[1;33m(\u001b[0m\u001b[0mkey\u001b[0m\u001b[1;33m,\u001b[0m \u001b[0maxis\u001b[0m\u001b[1;33m=\u001b[0m\u001b[0maxis\u001b[0m\u001b[1;33m)\u001b[0m\u001b[1;33m\u001b[0m\u001b[1;33m\u001b[0m\u001b[0m\n\u001b[0m\u001b[0;32m    147\u001b[0m \u001b[1;33m\u001b[0m\u001b[0m\n\u001b[0;32m    148\u001b[0m     \u001b[1;32mdef\u001b[0m \u001b[0m_slice\u001b[0m\u001b[1;33m(\u001b[0m\u001b[0mself\u001b[0m\u001b[1;33m,\u001b[0m \u001b[0mobj\u001b[0m\u001b[1;33m,\u001b[0m \u001b[0maxis\u001b[0m\u001b[1;33m=\u001b[0m\u001b[1;32mNone\u001b[0m\u001b[1;33m,\u001b[0m \u001b[0mkind\u001b[0m\u001b[1;33m=\u001b[0m\u001b[1;32mNone\u001b[0m\u001b[1;33m)\u001b[0m\u001b[1;33m:\u001b[0m\u001b[1;33m\u001b[0m\u001b[1;33m\u001b[0m\u001b[0m\n",
      "\u001b[1;32m~\\Anaconda3\\lib\\site-packages\\pandas\\core\\frame.py\u001b[0m in \u001b[0;36m_ixs\u001b[1;34m(self, i, axis)\u001b[0m\n\u001b[0;32m   2849\u001b[0m                     \u001b[0mcopy\u001b[0m \u001b[1;33m=\u001b[0m \u001b[1;32mTrue\u001b[0m\u001b[1;33m\u001b[0m\u001b[1;33m\u001b[0m\u001b[0m\n\u001b[0;32m   2850\u001b[0m                 \u001b[1;32melse\u001b[0m\u001b[1;33m:\u001b[0m\u001b[1;33m\u001b[0m\u001b[1;33m\u001b[0m\u001b[0m\n\u001b[1;32m-> 2851\u001b[1;33m                     \u001b[0mnew_values\u001b[0m \u001b[1;33m=\u001b[0m \u001b[0mself\u001b[0m\u001b[1;33m.\u001b[0m\u001b[0m_data\u001b[0m\u001b[1;33m.\u001b[0m\u001b[0mfast_xs\u001b[0m\u001b[1;33m(\u001b[0m\u001b[0mi\u001b[0m\u001b[1;33m)\u001b[0m\u001b[1;33m\u001b[0m\u001b[1;33m\u001b[0m\u001b[0m\n\u001b[0m\u001b[0;32m   2852\u001b[0m                     \u001b[1;32mif\u001b[0m \u001b[0mis_scalar\u001b[0m\u001b[1;33m(\u001b[0m\u001b[0mnew_values\u001b[0m\u001b[1;33m)\u001b[0m\u001b[1;33m:\u001b[0m\u001b[1;33m\u001b[0m\u001b[1;33m\u001b[0m\u001b[0m\n\u001b[0;32m   2853\u001b[0m                         \u001b[1;32mreturn\u001b[0m \u001b[0mnew_values\u001b[0m\u001b[1;33m\u001b[0m\u001b[1;33m\u001b[0m\u001b[0m\n",
      "\u001b[1;32m~\\Anaconda3\\lib\\site-packages\\pandas\\core\\internals\\managers.py\u001b[0m in \u001b[0;36mfast_xs\u001b[1;34m(self, loc)\u001b[0m\n\u001b[0;32m    887\u001b[0m \u001b[1;33m\u001b[0m\u001b[0m\n\u001b[0;32m    888\u001b[0m         \u001b[1;31m# unique\u001b[0m\u001b[1;33m\u001b[0m\u001b[1;33m\u001b[0m\u001b[1;33m\u001b[0m\u001b[0m\n\u001b[1;32m--> 889\u001b[1;33m         \u001b[0mdtype\u001b[0m \u001b[1;33m=\u001b[0m \u001b[0m_interleaved_dtype\u001b[0m\u001b[1;33m(\u001b[0m\u001b[0mself\u001b[0m\u001b[1;33m.\u001b[0m\u001b[0mblocks\u001b[0m\u001b[1;33m)\u001b[0m\u001b[1;33m\u001b[0m\u001b[1;33m\u001b[0m\u001b[0m\n\u001b[0m\u001b[0;32m    890\u001b[0m \u001b[1;33m\u001b[0m\u001b[0m\n\u001b[0;32m    891\u001b[0m         \u001b[0mn\u001b[0m \u001b[1;33m=\u001b[0m \u001b[0mlen\u001b[0m\u001b[1;33m(\u001b[0m\u001b[0mitems\u001b[0m\u001b[1;33m)\u001b[0m\u001b[1;33m\u001b[0m\u001b[1;33m\u001b[0m\u001b[0m\n",
      "\u001b[1;32m~\\Anaconda3\\lib\\site-packages\\pandas\\core\\internals\\managers.py\u001b[0m in \u001b[0;36m_interleaved_dtype\u001b[1;34m(blocks)\u001b[0m\n\u001b[0;32m   1882\u001b[0m         \u001b[1;32mreturn\u001b[0m \u001b[1;32mNone\u001b[0m\u001b[1;33m\u001b[0m\u001b[1;33m\u001b[0m\u001b[0m\n\u001b[0;32m   1883\u001b[0m \u001b[1;33m\u001b[0m\u001b[0m\n\u001b[1;32m-> 1884\u001b[1;33m     \u001b[1;32mreturn\u001b[0m \u001b[0mfind_common_type\u001b[0m\u001b[1;33m(\u001b[0m\u001b[1;33m[\u001b[0m\u001b[0mb\u001b[0m\u001b[1;33m.\u001b[0m\u001b[0mdtype\u001b[0m \u001b[1;32mfor\u001b[0m \u001b[0mb\u001b[0m \u001b[1;32min\u001b[0m \u001b[0mblocks\u001b[0m\u001b[1;33m]\u001b[0m\u001b[1;33m)\u001b[0m\u001b[1;33m\u001b[0m\u001b[1;33m\u001b[0m\u001b[0m\n\u001b[0m\u001b[0;32m   1885\u001b[0m \u001b[1;33m\u001b[0m\u001b[0m\n\u001b[0;32m   1886\u001b[0m \u001b[1;33m\u001b[0m\u001b[0m\n",
      "\u001b[1;32m~\\Anaconda3\\lib\\site-packages\\pandas\\core\\dtypes\\cast.py\u001b[0m in \u001b[0;36mfind_common_type\u001b[1;34m(types)\u001b[0m\n\u001b[0;32m   1118\u001b[0m             \u001b[1;32mreturn\u001b[0m \u001b[0mnp\u001b[0m\u001b[1;33m.\u001b[0m\u001b[0mobject\u001b[0m\u001b[1;33m\u001b[0m\u001b[1;33m\u001b[0m\u001b[0m\n\u001b[0;32m   1119\u001b[0m \u001b[1;33m\u001b[0m\u001b[0m\n\u001b[1;32m-> 1120\u001b[1;33m     \u001b[1;32mreturn\u001b[0m \u001b[0mnp\u001b[0m\u001b[1;33m.\u001b[0m\u001b[0mfind_common_type\u001b[0m\u001b[1;33m(\u001b[0m\u001b[0mtypes\u001b[0m\u001b[1;33m,\u001b[0m \u001b[1;33m[\u001b[0m\u001b[1;33m]\u001b[0m\u001b[1;33m)\u001b[0m\u001b[1;33m\u001b[0m\u001b[1;33m\u001b[0m\u001b[0m\n\u001b[0m\u001b[0;32m   1121\u001b[0m \u001b[1;33m\u001b[0m\u001b[0m\n\u001b[0;32m   1122\u001b[0m \u001b[1;33m\u001b[0m\u001b[0m\n",
      "\u001b[1;32m~\\Anaconda3\\lib\\site-packages\\numpy\\core\\numerictypes.py\u001b[0m in \u001b[0;36mfind_common_type\u001b[1;34m(array_types, scalar_types)\u001b[0m\n\u001b[0;32m    655\u001b[0m     \u001b[0mscalar_types\u001b[0m \u001b[1;33m=\u001b[0m \u001b[1;33m[\u001b[0m\u001b[0mdtype\u001b[0m\u001b[1;33m(\u001b[0m\u001b[0mx\u001b[0m\u001b[1;33m)\u001b[0m \u001b[1;32mfor\u001b[0m \u001b[0mx\u001b[0m \u001b[1;32min\u001b[0m \u001b[0mscalar_types\u001b[0m\u001b[1;33m]\u001b[0m\u001b[1;33m\u001b[0m\u001b[1;33m\u001b[0m\u001b[0m\n\u001b[0;32m    656\u001b[0m \u001b[1;33m\u001b[0m\u001b[0m\n\u001b[1;32m--> 657\u001b[1;33m     \u001b[0mmaxa\u001b[0m \u001b[1;33m=\u001b[0m \u001b[0m_can_coerce_all\u001b[0m\u001b[1;33m(\u001b[0m\u001b[0marray_types\u001b[0m\u001b[1;33m)\u001b[0m\u001b[1;33m\u001b[0m\u001b[1;33m\u001b[0m\u001b[0m\n\u001b[0m\u001b[0;32m    658\u001b[0m     \u001b[0mmaxsc\u001b[0m \u001b[1;33m=\u001b[0m \u001b[0m_can_coerce_all\u001b[0m\u001b[1;33m(\u001b[0m\u001b[0mscalar_types\u001b[0m\u001b[1;33m)\u001b[0m\u001b[1;33m\u001b[0m\u001b[1;33m\u001b[0m\u001b[0m\n\u001b[0;32m    659\u001b[0m \u001b[1;33m\u001b[0m\u001b[0m\n",
      "\u001b[1;32m~\\Anaconda3\\lib\\site-packages\\numpy\\core\\numerictypes.py\u001b[0m in \u001b[0;36m_can_coerce_all\u001b[1;34m(dtypelist, start)\u001b[0m\n\u001b[0;32m    584\u001b[0m     \u001b[0mthisind\u001b[0m \u001b[1;33m=\u001b[0m \u001b[0mstart\u001b[0m\u001b[1;33m\u001b[0m\u001b[1;33m\u001b[0m\u001b[0m\n\u001b[0;32m    585\u001b[0m     \u001b[1;32mwhile\u001b[0m \u001b[0mthisind\u001b[0m \u001b[1;33m<\u001b[0m \u001b[0m__len_test_types\u001b[0m\u001b[1;33m:\u001b[0m\u001b[1;33m\u001b[0m\u001b[1;33m\u001b[0m\u001b[0m\n\u001b[1;32m--> 586\u001b[1;33m         \u001b[0mnewdtype\u001b[0m \u001b[1;33m=\u001b[0m \u001b[0mdtype\u001b[0m\u001b[1;33m(\u001b[0m\u001b[0m__test_types\u001b[0m\u001b[1;33m[\u001b[0m\u001b[0mthisind\u001b[0m\u001b[1;33m]\u001b[0m\u001b[1;33m)\u001b[0m\u001b[1;33m\u001b[0m\u001b[1;33m\u001b[0m\u001b[0m\n\u001b[0m\u001b[0;32m    587\u001b[0m         \u001b[0mnumcoerce\u001b[0m \u001b[1;33m=\u001b[0m \u001b[0mlen\u001b[0m\u001b[1;33m(\u001b[0m\u001b[1;33m[\u001b[0m\u001b[0mx\u001b[0m \u001b[1;32mfor\u001b[0m \u001b[0mx\u001b[0m \u001b[1;32min\u001b[0m \u001b[0mdtypelist\u001b[0m \u001b[1;32mif\u001b[0m \u001b[0mnewdtype\u001b[0m \u001b[1;33m>=\u001b[0m \u001b[0mx\u001b[0m\u001b[1;33m]\u001b[0m\u001b[1;33m)\u001b[0m\u001b[1;33m\u001b[0m\u001b[1;33m\u001b[0m\u001b[0m\n\u001b[0;32m    588\u001b[0m         \u001b[1;32mif\u001b[0m \u001b[0mnumcoerce\u001b[0m \u001b[1;33m==\u001b[0m \u001b[0mN\u001b[0m\u001b[1;33m:\u001b[0m\u001b[1;33m\u001b[0m\u001b[1;33m\u001b[0m\u001b[0m\n",
      "\u001b[1;31mKeyboardInterrupt\u001b[0m: "
     ]
    }
   ],
   "source": [
    "entropy = 0\n",
    "dataSize = 1000 #data.shape[0]\n",
    "for i in range(dataSize):\n",
    "    for j in range(i+1,dataSize):\n",
    "        result = compare(i, j, \"\")\n",
    "        entropy += EntropySum(result/data.shape[1])\n",
    "        #if j%100 == 0:\n",
    "        #    print(\"R\",i,j,\"=\",result)\n",
    "    print(\"R\",i,j,\"=\",entropy)\n",
    "print(\"EntropyTotal\",entropy*-1)"
   ]
  },
  {
   "cell_type": "code",
   "execution_count": 41,
   "metadata": {},
   "outputs": [
    {
     "data": {
      "text/plain": [
       "1096096"
      ]
     },
     "execution_count": 41,
     "metadata": {},
     "output_type": "execute_result"
    }
   ],
   "source": [
    "data.shape[0]"
   ]
  },
  {
   "cell_type": "code",
   "execution_count": null,
   "metadata": {},
   "outputs": [],
   "source": []
  }
 ],
 "metadata": {
  "kernelspec": {
   "display_name": "Python 3",
   "language": "python",
   "name": "python3"
  },
  "language_info": {
   "codemirror_mode": {
    "name": "ipython",
    "version": 3
   },
   "file_extension": ".py",
   "mimetype": "text/x-python",
   "name": "python",
   "nbconvert_exporter": "python",
   "pygments_lexer": "ipython3",
   "version": "3.7.3"
  }
 },
 "nbformat": 4,
 "nbformat_minor": 2
}
