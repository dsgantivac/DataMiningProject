{
 "cells": [
  {
   "cell_type": "code",
   "execution_count": 6,
   "metadata": {},
   "outputs": [],
   "source": [
    "import pandas as pd\n",
    "import matplotlib.pyplot as plt \n",
    "path = \"./Datasets/Saber_Complete.csv\""
   ]
  },
  {
   "cell_type": "markdown",
   "metadata": {},
   "source": [
    "'ESTU_TIPODOCUMENTO', 'ESTU_NACIONALIDAD', 'ESTU_GENERO', 'ESTU_FECHANACIMIENTO', 'PERIODO', 'ESTU_CONSECUTIVO', 'ESTU_ESTUDIANTE', 'ESTU_PAIS_RESIDE', 'ESTU_TIENEETNIA', 'ESTU_ETNIA', 'ESTU_LIMITA_MOTRIZ', 'ESTU_DEPTO_RESIDE', 'ESTU_COD_RESIDE_DEPTO', 'ESTU_MCPIO_RESIDE', 'ESTU_COD_RESIDE_MCPIO', 'FAMI_ESTRATOVIVIENDA', 'FAMI_PERSONASHOGAR', 'FAMI_CUARTOSHOGAR', 'FAMI_EDUCACIONPADRE', 'FAMI_EDUCACIONMADRE', 'FAMI_TRABAJOLABORPADRE', 'FAMI_TRABAJOLABORMADRE', 'FAMI_TIENESERVICIOTV', 'FAMI_TIENECOMPUTADOR', 'FAMI_TIENELAVADORA', 'FAMI_TIENEHORNOMICROOGAS', 'FAMI_TIENEAUTOMOVIL', 'FAMI_TIENEMOTOCICLETA', 'FAMI_TIENECONSOLAVIDEOJUEGOS', 'FAMI_NUMLIBROS', 'FAMI_COMELECHEDERIVADOS', 'FAMI_COMECARNEPESCADOHUEVO', 'FAMI_COMECEREALFRUTOSLEGUMBRE', 'FAMI_SITUACIONECONOMICA', 'ESTU_DEDICACIONLECTURADIARIA', 'ESTU_DEDICACIONINTERNET', 'ESTU_HORASSEMANATRABAJA', 'ESTU_TIPOREMUNERACION', 'COLE_CODIGO_ICFES', 'COLE_COD_DANE_ESTABLECIMIENTO', 'COLE_NOMBRE_ESTABLECIMIENTO', 'COLE_GENERO', 'COLE_NATURALEZA', 'COLE_CALENDARIO', 'COLE_BILINGUE', 'COLE_CARACTER', 'COLE_COD_DANE_SEDE', 'COLE_NOMBRE_SEDE', 'COLE_SEDE_PRINCIPAL', 'COLE_AREA_UBICACION', 'COLE_JORNADA', 'COLE_COD_MCPIO_UBICACION', 'COLE_MCPIO_UBICACION', 'COLE_COD_DEPTO_UBICACION', 'COLE_DEPTO_UBICACION', 'ESTU_PRIVADO_LIBERTAD', 'ESTU_COD_MCPIO_PRESENTACION', 'ESTU_MCPIO_PRESENTACION', 'ESTU_DEPTO_PRESENTACION', 'ESTU_COD_DEPTO_PRESENTACION', 'PUNT_LECTURA_CRITICA', 'PERCENTIL_LECTURA_CRITICA', 'DESEMP_LECTURA_CRITICA', 'PUNT_MATEMATICAS', 'PERCENTIL_MATEMATICAS', 'DESEMP_MATEMATICAS', 'PUNT_C_NATURALES', 'PERCENTIL_C_NATURALES', 'DESEMP_C_NATURALES', 'PUNT_SOCIALES_CIUDADANAS', 'PERCENTIL_SOCIALES_CIUDADANAS', 'DESEMP_SOCIALES_CIUDADANAS', 'PUNT_INGLES', 'PERCENTIL_INGLES', 'DESEMP_INGLES', 'PUNT_GLOBAL', 'PERCENTIL_GLOBAL', 'ESTU_NSE_ESTABLECIMIENTO', 'ESTU_INSE_INDIVIDUAL', 'ESTU_NSE_INDIVIDUAL'"
   ]
  },
  {
   "cell_type": "code",
   "execution_count": 7,
   "metadata": {},
   "outputs": [],
   "source": [
    "data = pd.read_csv(path, low_memory=False)"
   ]
  },
  {
   "cell_type": "code",
   "execution_count": 8,
   "metadata": {},
   "outputs": [
    {
     "name": "stdout",
     "output_type": "stream",
     "text": [
      "        ESTU_TIPODOCUMENTO ESTU_NACIONALIDAD ESTU_GENERO ESTU_FECHANACIMIENTO  \\\n",
      "0                       CR          COLOMBIA           M           10/06/2002   \n",
      "1                       TI          COLOMBIA           M           22/10/2000   \n",
      "2                       TI          COLOMBIA           M           19/12/2001   \n",
      "3                       TI          COLOMBIA           M           20/10/2000   \n",
      "4                       CC          COLOMBIA           M           16/11/1998   \n",
      "5                       TI          COLOMBIA           F           14/03/2000   \n",
      "6                       TI          COLOMBIA           M           21/11/2001   \n",
      "7                       TI          COLOMBIA           M           20/06/2001   \n",
      "8                       TI          COLOMBIA           M           26/06/2001   \n",
      "9                       TI          COLOMBIA           M           20/11/2000   \n",
      "10                      TI          COLOMBIA           M           07/07/2001   \n",
      "11                      TI          COLOMBIA           M           05/03/2002   \n",
      "12                      CC          COLOMBIA           F           25/04/1992   \n",
      "13                      TI          COLOMBIA           F           15/10/2000   \n",
      "14                      TI          COLOMBIA           M           18/07/2001   \n",
      "15                      TI          COLOMBIA           M           21/10/2001   \n",
      "16                      TI          COLOMBIA           M           17/02/2001   \n",
      "17                      TI          COLOMBIA           M           17/08/2001   \n",
      "18                      TI          COLOMBIA           M           30/07/2000   \n",
      "19                      TI          COLOMBIA           M           12/06/2001   \n",
      "20                      TI          COLOMBIA           M           07/06/2000   \n",
      "21                      TI          COLOMBIA           M           23/03/1999   \n",
      "22                      CC          COLOMBIA           M           19/09/1999   \n",
      "23                      TI          COLOMBIA           M           21/11/2000   \n",
      "24                      CC          COLOMBIA           M           13/05/1991   \n",
      "25                      CC          COLOMBIA           F           07/04/2000   \n",
      "26                      TI          COLOMBIA           M           25/07/2002   \n",
      "27                      CC          COLOMBIA           M           05/08/1998   \n",
      "28                      CR          COLOMBIA           F           15/04/1998   \n",
      "29                      TI          COLOMBIA           F           19/07/2001   \n",
      "...                    ...               ...         ...                  ...   \n",
      "1096066                 TI          COLOMBIA           M           20/11/2000   \n",
      "1096067                 TI          COLOMBIA           M           19/07/1999   \n",
      "1096068                 TI          COLOMBIA           M           29/11/1999   \n",
      "1096069                 TI          COLOMBIA           F           14/08/2000   \n",
      "1096070                 TI          COLOMBIA           M           01/04/2001   \n",
      "1096071                 TI          COLOMBIA           M           06/05/1999   \n",
      "1096072                 CC          COLOMBIA           F           15/02/1995   \n",
      "1096073                 CC          COLOMBIA           M           20/07/1980   \n",
      "1096074                 TI          COLOMBIA           F           22/07/2001   \n",
      "1096075                 TI          COLOMBIA           F           28/02/2001   \n",
      "1096076                 CC          COLOMBIA           M           21/10/1997   \n",
      "1096077                 TI          COLOMBIA           F           06/10/1999   \n",
      "1096078                 TI          COLOMBIA           M           08/10/2001   \n",
      "1096079                 CC          COLOMBIA           F           14/09/1980   \n",
      "1096080                 CC          COLOMBIA           M           15/01/1998   \n",
      "1096081                 TI          COLOMBIA           M           17/10/2000   \n",
      "1096082                 TI          COLOMBIA           M           17/11/1999   \n",
      "1096083                 TI          COLOMBIA           M           09/08/1998   \n",
      "1096084                 CC          COLOMBIA           F           27/03/1992   \n",
      "1096085                 TI          COLOMBIA           F           31/05/2000   \n",
      "1096086                 TI          COLOMBIA           M           20/01/1999   \n",
      "1096087                 TI          COLOMBIA           F           29/08/2000   \n",
      "1096088                 CC          COLOMBIA           M           04/04/1999   \n",
      "1096089                 TI          COLOMBIA           M           24/03/2001   \n",
      "1096090                 TI          COLOMBIA           F           08/05/2000   \n",
      "1096091                 TI          COLOMBIA           F           08/02/2001   \n",
      "1096092                 TI          COLOMBIA           M           23/02/2000   \n",
      "1096093                 TI          COLOMBIA           F           12/01/2001   \n",
      "1096094                 TI          COLOMBIA           F           04/04/2001   \n",
      "1096095                 CC          COLOMBIA           F           02/10/1997   \n",
      "\n",
      "         PERIODO  ESTU_CONSECUTIVO ESTU_ESTUDIANTE ESTU_PAIS_RESIDE  \\\n",
      "0          20182  SB11201820408513      ESTUDIANTE         COLOMBIA   \n",
      "1          20182  SB11201820541500      ESTUDIANTE         COLOMBIA   \n",
      "2          20182  SB11201820208467      ESTUDIANTE         COLOMBIA   \n",
      "3          20182  SB11201820514682      ESTUDIANTE         COLOMBIA   \n",
      "4          20182  SB11201820306251      ESTUDIANTE         COLOMBIA   \n",
      "5          20182  SB11201820231418      ESTUDIANTE         COLOMBIA   \n",
      "6          20182  SB11201820084292      ESTUDIANTE         COLOMBIA   \n",
      "7          20182  SB11201820546789      ESTUDIANTE         COLOMBIA   \n",
      "8          20182  SB11201820089757      ESTUDIANTE         COLOMBIA   \n",
      "9          20182  SB11201820205097      ESTUDIANTE         COLOMBIA   \n",
      "10         20182  SB11201820081995      ESTUDIANTE         COLOMBIA   \n",
      "11         20182  SB11201820127859      ESTUDIANTE         COLOMBIA   \n",
      "12         20182  SB11201820463895      ESTUDIANTE         COLOMBIA   \n",
      "13         20182  SB11201820007136      ESTUDIANTE         COLOMBIA   \n",
      "14         20182  SB11201820277600      ESTUDIANTE         COLOMBIA   \n",
      "15         20182  SB11201820152402      ESTUDIANTE         COLOMBIA   \n",
      "16         20182  SB11201820167048      ESTUDIANTE         COLOMBIA   \n",
      "17         20182  SB11201820532621      ESTUDIANTE         COLOMBIA   \n",
      "18         20182  SB11201820167971      ESTUDIANTE         COLOMBIA   \n",
      "19         20182  SB11201820072025      ESTUDIANTE         COLOMBIA   \n",
      "20         20182  SB11201820191740      ESTUDIANTE         COLOMBIA   \n",
      "21         20182  SB11201820059998      ESTUDIANTE         COLOMBIA   \n",
      "22         20182  SB11201820030306      ESTUDIANTE         COLOMBIA   \n",
      "23         20182  SB11201820537168      ESTUDIANTE         COLOMBIA   \n",
      "24         20182  SB11201820551162      ESTUDIANTE         COLOMBIA   \n",
      "25         20182  SB11201820423447      ESTUDIANTE         COLOMBIA   \n",
      "26         20182  SB11201820087752      ESTUDIANTE         COLOMBIA   \n",
      "27         20182  SB11201820356880      ESTUDIANTE         COLOMBIA   \n",
      "28         20182  SB11201820494823      ESTUDIANTE         COLOMBIA   \n",
      "29         20182  SB11201820459045      ESTUDIANTE         COLOMBIA   \n",
      "...          ...               ...             ...              ...   \n",
      "1096066    20172  SB11201720130035      ESTUDIANTE         COLOMBIA   \n",
      "1096067    20172  SB11201720290959      ESTUDIANTE         COLOMBIA   \n",
      "1096068    20172  SB11201720160181      ESTUDIANTE         COLOMBIA   \n",
      "1096069    20172  SB11201720551191      ESTUDIANTE         COLOMBIA   \n",
      "1096070    20172  SB11201720026125      ESTUDIANTE         COLOMBIA   \n",
      "1096071    20172  SB11201720124856      ESTUDIANTE         COLOMBIA   \n",
      "1096072    20172  SB11201720427287      ESTUDIANTE         COLOMBIA   \n",
      "1096073    20172  SB11201720068946      ESTUDIANTE         COLOMBIA   \n",
      "1096074    20172  SB11201720078703      ESTUDIANTE         COLOMBIA   \n",
      "1096075    20172  SB11201720150250      ESTUDIANTE         COLOMBIA   \n",
      "1096076    20172  SB11201720474795      ESTUDIANTE         COLOMBIA   \n",
      "1096077    20172  SB11201720343210      ESTUDIANTE         COLOMBIA   \n",
      "1096078    20172  SB11201720401572      ESTUDIANTE         COLOMBIA   \n",
      "1096079    20172  SB11201720519467      ESTUDIANTE         COLOMBIA   \n",
      "1096080    20172  SB11201720564909      ESTUDIANTE         COLOMBIA   \n",
      "1096081    20172  SB11201720467155      ESTUDIANTE         COLOMBIA   \n",
      "1096082    20172  SB11201720450804      ESTUDIANTE         COLOMBIA   \n",
      "1096083    20172  SB11201720343407      ESTUDIANTE         COLOMBIA   \n",
      "1096084    20172  SB11201720248869      ESTUDIANTE         COLOMBIA   \n",
      "1096085    20172  SB11201720465219      ESTUDIANTE         COLOMBIA   \n",
      "1096086    20172  SB11201720475347      ESTUDIANTE         COLOMBIA   \n",
      "1096087    20172  SB11201720274031      ESTUDIANTE         COLOMBIA   \n",
      "1096088    20172  SB11201720427224      ESTUDIANTE         COLOMBIA   \n",
      "1096089    20172  SB11201720506774      ESTUDIANTE         COLOMBIA   \n",
      "1096090    20172  SB11201720051326      ESTUDIANTE         COLOMBIA   \n",
      "1096091    20172  SB11201720372923      ESTUDIANTE         COLOMBIA   \n",
      "1096092    20172  SB11201720110542      ESTUDIANTE         COLOMBIA   \n",
      "1096093    20172  SB11201720180189      ESTUDIANTE         COLOMBIA   \n",
      "1096094    20172  SB11201720232852      ESTUDIANTE         COLOMBIA   \n",
      "1096095    20172  SB11201720554881      ESTUDIANTE         COLOMBIA   \n",
      "\n",
      "        ESTU_TIENEETNIA                     ESTU_ETNIA  ...  \\\n",
      "0                    No                              -  ...   \n",
      "1                    No                              -  ...   \n",
      "2                    No                              -  ...   \n",
      "3                    No                              -  ...   \n",
      "4                    No                              -  ...   \n",
      "5                    Si  Otro grupo étnico minoritario  ...   \n",
      "6                    Si                              -  ...   \n",
      "7                    No                              -  ...   \n",
      "8                    No                              -  ...   \n",
      "9                    No                              -  ...   \n",
      "10                   No                              -  ...   \n",
      "11                   No                              -  ...   \n",
      "12                   Si                          Wayúu  ...   \n",
      "13                   No                              -  ...   \n",
      "14                   No                              -  ...   \n",
      "15                   No                              -  ...   \n",
      "16                   No                              -  ...   \n",
      "17                   No                              -  ...   \n",
      "18                   Si     Comunidad afrodescendiente  ...   \n",
      "19                   No                              -  ...   \n",
      "20                   No                              -  ...   \n",
      "21                   No                              -  ...   \n",
      "22                   No                              -  ...   \n",
      "23                   No                              -  ...   \n",
      "24                   No                              -  ...   \n",
      "25                   No                              -  ...   \n",
      "26                   No                              -  ...   \n",
      "27                   No                              -  ...   \n",
      "28                   Si                          Wayúu  ...   \n",
      "29                   No                              -  ...   \n",
      "...                 ...                            ...  ...   \n",
      "1096066              No                              -  ...   \n",
      "1096067              No                              -  ...   \n",
      "1096068              No                              -  ...   \n",
      "1096069              No                              -  ...   \n",
      "1096070              No                              -  ...   \n",
      "1096071              No                              -  ...   \n",
      "1096072              No                              -  ...   \n",
      "1096073              No                              -  ...   \n",
      "1096074              No                              -  ...   \n",
      "1096075              No                              -  ...   \n",
      "1096076              No                              -  ...   \n",
      "1096077              No                              -  ...   \n",
      "1096078              No                              -  ...   \n",
      "1096079              No                              -  ...   \n",
      "1096080              No                              -  ...   \n",
      "1096081              No                              -  ...   \n",
      "1096082              No                              -  ...   \n",
      "1096083              No                              -  ...   \n",
      "1096084              Si     Comunidad afrodescendiente  ...   \n",
      "1096085              No                              -  ...   \n",
      "1096086              No                              -  ...   \n",
      "1096087              No                              -  ...   \n",
      "1096088              No                              -  ...   \n",
      "1096089              No                              -  ...   \n",
      "1096090              No                              -  ...   \n",
      "1096091              No                              -  ...   \n",
      "1096092              No                              -  ...   \n",
      "1096093              No                              -  ...   \n",
      "1096094              No                              -  ...   \n",
      "1096095              No                              -  ...   \n",
      "\n",
      "        PERCENTIL_SOCIALES_CIUDADANAS DESEMP_SOCIALES_CIUDADANAS PUNT_INGLES  \\\n",
      "0                                  76                          3        65.0   \n",
      "1                                  28                          1        48.0   \n",
      "2                                  43                          2        47.0   \n",
      "3                                  94                          3        63.0   \n",
      "4                                  55                          2        56.0   \n",
      "5                                  19                          1        37.0   \n",
      "6                                   9                          1        50.0   \n",
      "7                                  29                          1        40.0   \n",
      "8                                  53                          2        59.0   \n",
      "9                                  59                          2        48.0   \n",
      "10                                 32                          2        41.0   \n",
      "11                                 67                          2        46.0   \n",
      "12                                 12                          1        44.0   \n",
      "13                                 78                          3        46.0   \n",
      "14                                 99                          4        70.0   \n",
      "15                                100                          4        81.0   \n",
      "16                                 74                          3        72.0   \n",
      "17                                 79                          3        64.0   \n",
      "18                                 77                          3        60.0   \n",
      "19                                 98                          4        71.0   \n",
      "20                                  9                          1        45.0   \n",
      "21                                 46                          2        48.0   \n",
      "22                                 66                          2        56.0   \n",
      "23                                 88                          3        55.0   \n",
      "24                                 86                          3        43.0   \n",
      "25                                  5                          1        40.0   \n",
      "26                                 45                          2        55.0   \n",
      "27                                 24                          1        42.0   \n",
      "28                                  2                          1        33.0   \n",
      "29                                 34                          2        46.0   \n",
      "...                               ...                        ...         ...   \n",
      "1096066                             4                          1        41.0   \n",
      "1096067                            44                          2        38.0   \n",
      "1096068                            78                          3        63.0   \n",
      "1096069                            59                          2        47.0   \n",
      "1096070                            96                          3        53.0   \n",
      "1096071                            69                          3        51.0   \n",
      "1096072                            20                          1        34.0   \n",
      "1096073                            31                          2        64.0   \n",
      "1096074                            41                          2        39.0   \n",
      "1096075                            89                          3        61.0   \n",
      "1096076                            25                          2        45.0   \n",
      "1096077                            60                          2        59.0   \n",
      "1096078                            13                          1        40.0   \n",
      "1096079                            37                          2        45.0   \n",
      "1096080                            48                          2        40.0   \n",
      "1096081                            57                          2        39.0   \n",
      "1096082                             6                          1        45.0   \n",
      "1096083                            70                          3        48.0   \n",
      "1096084                            21                          1        39.0   \n",
      "1096085                            25                          2        50.0   \n",
      "1096086                            84                          3        54.0   \n",
      "1096087                            26                          2        39.0   \n",
      "1096088                            21                          1        56.0   \n",
      "1096089                            96                          3        59.0   \n",
      "1096090                            90                          3        65.0   \n",
      "1096091                            85                          3        53.0   \n",
      "1096092                            16                          1        54.0   \n",
      "1096093                            93                          3        79.0   \n",
      "1096094                            56                          2        55.0   \n",
      "1096095                            90                          3        45.0   \n",
      "\n",
      "        PERCENTIL_INGLES DESEMP_INGLES PUNT_GLOBAL PERCENTIL_GLOBAL  \\\n",
      "0                     90            A2         305               85   \n",
      "1                     46            A1         242               46   \n",
      "2                     42            A-         241               45   \n",
      "3                     86            A2         310               87   \n",
      "4                     71            A1         257               57   \n",
      "5                     10            A-         171                4   \n",
      "6                     53            A1         218               29   \n",
      "7                     20            A-         185                9   \n",
      "8                     80            A2         274               68   \n",
      "9                     43            A1         242               46   \n",
      "10                    20            A-         203               19   \n",
      "11                    38            A-         291               78   \n",
      "12                    30            A-         157                1   \n",
      "13                    36            A-         298               81   \n",
      "14                    94            B1         372              100   \n",
      "15                    99            B+         362               99   \n",
      "16                    95            B1         318               90   \n",
      "17                    89            A2         303               84   \n",
      "18                    81            A2         290               77   \n",
      "19                    95            B1         367               99   \n",
      "20                    34            A-         202               18   \n",
      "21                    46            A1         217               28   \n",
      "22                    72            A1         268               64   \n",
      "23                    68            A1         291               78   \n",
      "24                    28            A-         246               49   \n",
      "25                    18            A-         156                1   \n",
      "26                    69            A1         275               69   \n",
      "27                    24            A-         216               27   \n",
      "28                     4            A-         163                2   \n",
      "29                    35            A-         224               33   \n",
      "...                  ...           ...         ...              ...   \n",
      "1096066               24            A-         197               12   \n",
      "1096067               15            A-         222               28   \n",
      "1096068               88            A2         302               82   \n",
      "1096069               49            A-         271               63   \n",
      "1096070               66            A1         331               93   \n",
      "1096071               60            A1         280               69   \n",
      "1096072                5            A-         198               13   \n",
      "1096073               89            A2         252               49   \n",
      "1096074               18            A-         230               33   \n",
      "1096075               84            A2         306               84   \n",
      "1096076               39            A-         215               23   \n",
      "1096077               82            A2         271               63   \n",
      "1096078               20            A-         236               37   \n",
      "1096079               40            A-         204               16   \n",
      "1096080               21            A-         237               38   \n",
      "1096081               20            A-         234               36   \n",
      "1096082               41            A-         187                8   \n",
      "1096083               52            A1         285               72   \n",
      "1096084               17            A-         181                5   \n",
      "1096085               59            A1         244               44   \n",
      "1096086               69            A1         323               91   \n",
      "1096087               19            A-         246               45   \n",
      "1096088               75            A1         213               22   \n",
      "1096089               81            A2         335               95   \n",
      "1096090               90            A2         308               85   \n",
      "1096091               67            A1         307               84   \n",
      "1096092               71            A1         243               43   \n",
      "1096093               99            B+         348               97   \n",
      "1096094               71            A1         284               72   \n",
      "1096095               42            A-         300               81   \n",
      "\n",
      "        ESTU_NSE_ESTABLECIMIENTO ESTU_INSE_INDIVIDUAL ESTU_NSE_INDIVIDUAL  \n",
      "0                            2.0            53.169929                NSE3  \n",
      "1                            2.0            45.062853                NSE2  \n",
      "2                            2.0            44.806936                NSE2  \n",
      "3                            3.0            73.630225                NSE4  \n",
      "4                            3.0            49.391007                NSE2  \n",
      "5                            2.0            30.516627                NSE1  \n",
      "6                            1.0            38.754034                NSE1  \n",
      "7                            2.0            54.122715                NSE3  \n",
      "8                            1.0            40.687267                NSE1  \n",
      "9                            2.0            32.688767                NSE1  \n",
      "10                           2.0            40.627151                NSE1  \n",
      "11                           2.0            40.950928                NSE1  \n",
      "12                           2.0            39.766095                NSE1  \n",
      "13                           2.0            48.086942                NSE2  \n",
      "14                           3.0            61.258535                NSE3  \n",
      "15                           2.0            57.213093                NSE3  \n",
      "16                           3.0            60.139621                NSE3  \n",
      "17                           3.0            65.591225                NSE4  \n",
      "18                           2.0            55.688077                NSE3  \n",
      "19                           4.0            70.314255                NSE4  \n",
      "20                           2.0            46.771724                NSE2  \n",
      "21                           2.0            46.123404                NSE2  \n",
      "22                           2.0            49.888036                NSE2  \n",
      "23                           1.0            41.633731                NSE2  \n",
      "24                           2.0            45.821483                NSE2  \n",
      "25                           2.0            32.033110                NSE1  \n",
      "26                           2.0            53.811582                NSE3  \n",
      "27                           2.0                  NaN                   -  \n",
      "28                           1.0            45.884704                NSE2  \n",
      "29                           3.0            48.957038                NSE2  \n",
      "...                          ...                  ...                 ...  \n",
      "1096066                      3.0            47.394310                NSE2  \n",
      "1096067                      3.0            46.304428                NSE2  \n",
      "1096068                      3.0            55.494823                NSE3  \n",
      "1096069                      3.0            52.576397                NSE3  \n",
      "1096070                      3.0            61.977150                NSE3  \n",
      "1096071                      2.0            52.385017                NSE3  \n",
      "1096072                      2.0            45.943645                NSE2  \n",
      "1096073                      3.0            45.927505                NSE2  \n",
      "1096074                      2.0            58.914436                NSE3  \n",
      "1096075                      3.0            58.872307                NSE3  \n",
      "1096076                      3.0            58.240479                NSE3  \n",
      "1096077                      3.0            55.405891                NSE3  \n",
      "1096078                      3.0            38.997765                NSE1  \n",
      "1096079                      3.0            59.116543                NSE3  \n",
      "1096080                      2.0                  NaN                   -  \n",
      "1096081                      3.0            55.603920                NSE3  \n",
      "1096082                      3.0            52.104702                NSE3  \n",
      "1096083                      2.0            51.855492                NSE3  \n",
      "1096084                      3.0            27.161671                NSE1  \n",
      "1096085                      3.0            59.525871                NSE3  \n",
      "1096086                      3.0            59.421440                NSE3  \n",
      "1096087                      2.0            49.293728                NSE2  \n",
      "1096088                      3.0            66.310287                NSE4  \n",
      "1096089                      3.0            65.191681                NSE4  \n",
      "1096090                      4.0            65.124138                NSE4  \n",
      "1096091                      3.0            70.910217                NSE4  \n",
      "1096092                      3.0            46.722736                NSE2  \n",
      "1096093                      4.0            65.054932                NSE4  \n",
      "1096094                      2.0            53.947552                NSE3  \n",
      "1096095                      2.0            46.929985                NSE2  \n",
      "\n",
      "[1096096 rows x 80 columns]\n"
     ]
    }
   ],
   "source": [
    "print(data)"
   ]
  },
  {
   "cell_type": "code",
   "execution_count": 9,
   "metadata": {},
   "outputs": [
    {
     "data": {
      "text/html": [
       "<div>\n",
       "<style scoped>\n",
       "    .dataframe tbody tr th:only-of-type {\n",
       "        vertical-align: middle;\n",
       "    }\n",
       "\n",
       "    .dataframe tbody tr th {\n",
       "        vertical-align: top;\n",
       "    }\n",
       "\n",
       "    .dataframe thead th {\n",
       "        text-align: right;\n",
       "    }\n",
       "</style>\n",
       "<table border=\"1\" class=\"dataframe\">\n",
       "  <thead>\n",
       "    <tr style=\"text-align: right;\">\n",
       "      <th></th>\n",
       "      <th>ESTU_TIPODOCUMENTO</th>\n",
       "      <th>ESTU_NACIONALIDAD</th>\n",
       "      <th>ESTU_GENERO</th>\n",
       "      <th>ESTU_FECHANACIMIENTO</th>\n",
       "      <th>PERIODO</th>\n",
       "      <th>ESTU_CONSECUTIVO</th>\n",
       "      <th>ESTU_ESTUDIANTE</th>\n",
       "      <th>ESTU_PAIS_RESIDE</th>\n",
       "      <th>ESTU_TIENEETNIA</th>\n",
       "      <th>ESTU_ETNIA</th>\n",
       "      <th>...</th>\n",
       "      <th>PERCENTIL_SOCIALES_CIUDADANAS</th>\n",
       "      <th>DESEMP_SOCIALES_CIUDADANAS</th>\n",
       "      <th>PUNT_INGLES</th>\n",
       "      <th>PERCENTIL_INGLES</th>\n",
       "      <th>DESEMP_INGLES</th>\n",
       "      <th>PUNT_GLOBAL</th>\n",
       "      <th>PERCENTIL_GLOBAL</th>\n",
       "      <th>ESTU_NSE_ESTABLECIMIENTO</th>\n",
       "      <th>ESTU_INSE_INDIVIDUAL</th>\n",
       "      <th>ESTU_NSE_INDIVIDUAL</th>\n",
       "    </tr>\n",
       "  </thead>\n",
       "  <tbody>\n",
       "    <tr>\n",
       "      <th>0</th>\n",
       "      <td>CR</td>\n",
       "      <td>COLOMBIA</td>\n",
       "      <td>M</td>\n",
       "      <td>10/06/2002</td>\n",
       "      <td>20182</td>\n",
       "      <td>SB11201820408513</td>\n",
       "      <td>ESTUDIANTE</td>\n",
       "      <td>COLOMBIA</td>\n",
       "      <td>No</td>\n",
       "      <td>-</td>\n",
       "      <td>...</td>\n",
       "      <td>76</td>\n",
       "      <td>3</td>\n",
       "      <td>65.0</td>\n",
       "      <td>90</td>\n",
       "      <td>A2</td>\n",
       "      <td>305</td>\n",
       "      <td>85</td>\n",
       "      <td>2.0</td>\n",
       "      <td>53.169929</td>\n",
       "      <td>NSE3</td>\n",
       "    </tr>\n",
       "    <tr>\n",
       "      <th>1</th>\n",
       "      <td>TI</td>\n",
       "      <td>COLOMBIA</td>\n",
       "      <td>M</td>\n",
       "      <td>22/10/2000</td>\n",
       "      <td>20182</td>\n",
       "      <td>SB11201820541500</td>\n",
       "      <td>ESTUDIANTE</td>\n",
       "      <td>COLOMBIA</td>\n",
       "      <td>No</td>\n",
       "      <td>-</td>\n",
       "      <td>...</td>\n",
       "      <td>28</td>\n",
       "      <td>1</td>\n",
       "      <td>48.0</td>\n",
       "      <td>46</td>\n",
       "      <td>A1</td>\n",
       "      <td>242</td>\n",
       "      <td>46</td>\n",
       "      <td>2.0</td>\n",
       "      <td>45.062853</td>\n",
       "      <td>NSE2</td>\n",
       "    </tr>\n",
       "    <tr>\n",
       "      <th>2</th>\n",
       "      <td>TI</td>\n",
       "      <td>COLOMBIA</td>\n",
       "      <td>M</td>\n",
       "      <td>19/12/2001</td>\n",
       "      <td>20182</td>\n",
       "      <td>SB11201820208467</td>\n",
       "      <td>ESTUDIANTE</td>\n",
       "      <td>COLOMBIA</td>\n",
       "      <td>No</td>\n",
       "      <td>-</td>\n",
       "      <td>...</td>\n",
       "      <td>43</td>\n",
       "      <td>2</td>\n",
       "      <td>47.0</td>\n",
       "      <td>42</td>\n",
       "      <td>A-</td>\n",
       "      <td>241</td>\n",
       "      <td>45</td>\n",
       "      <td>2.0</td>\n",
       "      <td>44.806936</td>\n",
       "      <td>NSE2</td>\n",
       "    </tr>\n",
       "    <tr>\n",
       "      <th>3</th>\n",
       "      <td>TI</td>\n",
       "      <td>COLOMBIA</td>\n",
       "      <td>M</td>\n",
       "      <td>20/10/2000</td>\n",
       "      <td>20182</td>\n",
       "      <td>SB11201820514682</td>\n",
       "      <td>ESTUDIANTE</td>\n",
       "      <td>COLOMBIA</td>\n",
       "      <td>No</td>\n",
       "      <td>-</td>\n",
       "      <td>...</td>\n",
       "      <td>94</td>\n",
       "      <td>3</td>\n",
       "      <td>63.0</td>\n",
       "      <td>86</td>\n",
       "      <td>A2</td>\n",
       "      <td>310</td>\n",
       "      <td>87</td>\n",
       "      <td>3.0</td>\n",
       "      <td>73.630225</td>\n",
       "      <td>NSE4</td>\n",
       "    </tr>\n",
       "    <tr>\n",
       "      <th>4</th>\n",
       "      <td>CC</td>\n",
       "      <td>COLOMBIA</td>\n",
       "      <td>M</td>\n",
       "      <td>16/11/1998</td>\n",
       "      <td>20182</td>\n",
       "      <td>SB11201820306251</td>\n",
       "      <td>ESTUDIANTE</td>\n",
       "      <td>COLOMBIA</td>\n",
       "      <td>No</td>\n",
       "      <td>-</td>\n",
       "      <td>...</td>\n",
       "      <td>55</td>\n",
       "      <td>2</td>\n",
       "      <td>56.0</td>\n",
       "      <td>71</td>\n",
       "      <td>A1</td>\n",
       "      <td>257</td>\n",
       "      <td>57</td>\n",
       "      <td>3.0</td>\n",
       "      <td>49.391007</td>\n",
       "      <td>NSE2</td>\n",
       "    </tr>\n",
       "  </tbody>\n",
       "</table>\n",
       "<p>5 rows × 80 columns</p>\n",
       "</div>"
      ],
      "text/plain": [
       "  ESTU_TIPODOCUMENTO ESTU_NACIONALIDAD ESTU_GENERO ESTU_FECHANACIMIENTO  \\\n",
       "0                 CR          COLOMBIA           M           10/06/2002   \n",
       "1                 TI          COLOMBIA           M           22/10/2000   \n",
       "2                 TI          COLOMBIA           M           19/12/2001   \n",
       "3                 TI          COLOMBIA           M           20/10/2000   \n",
       "4                 CC          COLOMBIA           M           16/11/1998   \n",
       "\n",
       "   PERIODO  ESTU_CONSECUTIVO ESTU_ESTUDIANTE ESTU_PAIS_RESIDE ESTU_TIENEETNIA  \\\n",
       "0    20182  SB11201820408513      ESTUDIANTE         COLOMBIA              No   \n",
       "1    20182  SB11201820541500      ESTUDIANTE         COLOMBIA              No   \n",
       "2    20182  SB11201820208467      ESTUDIANTE         COLOMBIA              No   \n",
       "3    20182  SB11201820514682      ESTUDIANTE         COLOMBIA              No   \n",
       "4    20182  SB11201820306251      ESTUDIANTE         COLOMBIA              No   \n",
       "\n",
       "  ESTU_ETNIA  ... PERCENTIL_SOCIALES_CIUDADANAS DESEMP_SOCIALES_CIUDADANAS  \\\n",
       "0          -  ...                            76                          3   \n",
       "1          -  ...                            28                          1   \n",
       "2          -  ...                            43                          2   \n",
       "3          -  ...                            94                          3   \n",
       "4          -  ...                            55                          2   \n",
       "\n",
       "  PUNT_INGLES PERCENTIL_INGLES DESEMP_INGLES PUNT_GLOBAL PERCENTIL_GLOBAL  \\\n",
       "0        65.0               90            A2         305               85   \n",
       "1        48.0               46            A1         242               46   \n",
       "2        47.0               42            A-         241               45   \n",
       "3        63.0               86            A2         310               87   \n",
       "4        56.0               71            A1         257               57   \n",
       "\n",
       "  ESTU_NSE_ESTABLECIMIENTO ESTU_INSE_INDIVIDUAL ESTU_NSE_INDIVIDUAL  \n",
       "0                      2.0            53.169929                NSE3  \n",
       "1                      2.0            45.062853                NSE2  \n",
       "2                      2.0            44.806936                NSE2  \n",
       "3                      3.0            73.630225                NSE4  \n",
       "4                      3.0            49.391007                NSE2  \n",
       "\n",
       "[5 rows x 80 columns]"
      ]
     },
     "execution_count": 9,
     "metadata": {},
     "output_type": "execute_result"
    }
   ],
   "source": [
    "data.head()"
   ]
  },
  {
   "cell_type": "code",
   "execution_count": 10,
   "metadata": {
    "scrolled": true
   },
   "outputs": [
    {
     "name": "stdout",
     "output_type": "stream",
     "text": [
      "ESTU_ETNIA\n",
      "-                                93.859023\n",
      "Arhuaco                           0.018338\n",
      "Cancuamo                          0.032023\n",
      "Comunidad afrodescendiente        3.370599\n",
      "Comunidades Rom (Gitanas)         0.001004\n",
      "Cubeo                             0.018612\n",
      "Emberá                            0.178178\n",
      "Guambiano                         0.033939\n",
      "Huitoto                           0.019433\n",
      "Inga                              0.042879\n",
      "Ninguno                           0.156921\n",
      "Otro grupo étnico minoritario     0.488917\n",
      "Paez                              0.352433\n",
      "Palenquero                        0.012499\n",
      "Pasto                             0.240216\n",
      "Pijao                             0.107107\n",
      "Raizal                            0.071527\n",
      "Sikuani                           0.034030\n",
      "Tucano                            0.006386\n",
      "Wayúu                             0.397502\n",
      "Zenú                              0.558436\n",
      "dtype: float64\n"
     ]
    }
   ],
   "source": [
    "etnia = data.groupby('ESTU_ETNIA').size()/data.shape[0] *100\n",
    "print(etnia)"
   ]
  },
  {
   "cell_type": "code",
   "execution_count": 11,
   "metadata": {
    "scrolled": true
   },
   "outputs": [
    {
     "name": "stdout",
     "output_type": "stream",
     "text": [
      "ESTU_PAIS_RESIDE\n",
      "AFGANISTÁN                 0.000182\n",
      "ALBANIA                    0.000182\n",
      "ALEMANIA                   0.000091\n",
      "ANTIGUA Y BARBUDA          0.000091\n",
      "ARGENTINA                  0.001368\n",
      "ARMENIA                    0.000091\n",
      "ARUBA                      0.000182\n",
      "AUSTRIA                    0.000091\n",
      "BIELORRUSIA                0.000091\n",
      "BOLIVIA                    0.000365\n",
      "BONAIRE                    0.000091\n",
      "BRASIL                     0.001004\n",
      "BULGARIA                   0.000091\n",
      "BÉLGICA                    0.000091\n",
      "CANADÁ                     0.000091\n",
      "CHILE                      0.000821\n",
      "CHINA                      0.000274\n",
      "COLOMBIA                  99.937688\n",
      "COMORAS                    0.001095\n",
      "COREA DEL NORTE            0.000730\n",
      "COREA DEL SUR              0.000274\n",
      "COSTA RICA                 0.000365\n",
      "CROACIA                    0.000091\n",
      "CUBA                       0.000274\n",
      "CURAZAO                    0.000091\n",
      "DINAMARCA                  0.000091\n",
      "ECUADOR                    0.003102\n",
      "EL SALVADOR                0.000182\n",
      "ESPAÑA                     0.004197\n",
      "ESTADOS UNIDOS             0.008850\n",
      "FRANCIA                    0.000091\n",
      "GUATEMALA                  0.000091\n",
      "HONDURAS                   0.000182\n",
      "ITALIA                     0.000456\n",
      "JAPÓN                      0.000091\n",
      "LÍBANO                     0.000091\n",
      "MÉXICO                     0.001004\n",
      "NAMIBIA                    0.000091\n",
      "NAURU                      0.000091\n",
      "NICARAGUA                  0.000091\n",
      "OMÁN                       0.000091\n",
      "PANAMÁ                     0.000274\n",
      "PARAGUAY                   0.000091\n",
      "PAÍSES BAJOS - HOLANDA     0.000091\n",
      "PERÚ                       0.000912\n",
      "PORTUGAL                   0.000182\n",
      "PUERTO RICO                0.000091\n",
      "REINO UNIDO                0.000274\n",
      "REPÚBLICA DOMINICANA       0.000274\n",
      "RUSIA                      0.000274\n",
      "SUIZA                      0.000182\n",
      "TURQUÍA                    0.000182\n",
      "UCRANIA                    0.000091\n",
      "URUGUAY                    0.000182\n",
      "VENEZUELA                  0.032296\n",
      "dtype: float64\n"
     ]
    }
   ],
   "source": [
    "etnia = data.groupby('ESTU_PAIS_RESIDE').size()/data.shape[0] *100\n",
    "print(etnia)"
   ]
  },
  {
   "cell_type": "code",
   "execution_count": 12,
   "metadata": {},
   "outputs": [
    {
     "name": "stdout",
     "output_type": "stream",
     "text": [
      "ESTU_TIENEETNIA\n",
      "-      0.043609\n",
      "No    93.566075\n",
      "Si     6.390316\n",
      "dtype: float64\n"
     ]
    }
   ],
   "source": [
    "dg = data.groupby('ESTU_TIENEETNIA').size()/data.shape[0] *100\n",
    "print(dg)"
   ]
  },
  {
   "cell_type": "code",
   "execution_count": 13,
   "metadata": {
    "scrolled": true
   },
   "outputs": [
    {
     "name": "stdout",
     "output_type": "stream",
     "text": [
      "ESTU_NACIONALIDAD\n",
      "AFGANISTÁN                 0.000182\n",
      "ALBANIA                    0.000182\n",
      "ALEMANIA                   0.000091\n",
      "ANTIGUA Y BARBUDA          0.000091\n",
      "ARGENTINA                  0.001368\n",
      "ARMENIA                    0.000091\n",
      "ARUBA                      0.000182\n",
      "AUSTRIA                    0.000091\n",
      "BIELORRUSIA                0.000091\n",
      "BOLIVIA                    0.000365\n",
      "BONAIRE                    0.000091\n",
      "BRASIL                     0.001004\n",
      "BULGARIA                   0.000091\n",
      "BÉLGICA                    0.000091\n",
      "CANADÁ                     0.000091\n",
      "CHILE                      0.000821\n",
      "CHINA                      0.000274\n",
      "COLOMBIA                  99.937688\n",
      "COMORAS                    0.001095\n",
      "COREA DEL NORTE            0.000730\n",
      "COREA DEL SUR              0.000274\n",
      "COSTA RICA                 0.000365\n",
      "CROACIA                    0.000091\n",
      "CUBA                       0.000274\n",
      "CURAZAO                    0.000091\n",
      "DINAMARCA                  0.000091\n",
      "ECUADOR                    0.003102\n",
      "EL SALVADOR                0.000182\n",
      "ESPAÑA                     0.004197\n",
      "ESTADOS UNIDOS             0.008850\n",
      "FRANCIA                    0.000091\n",
      "GUATEMALA                  0.000091\n",
      "HONDURAS                   0.000182\n",
      "ITALIA                     0.000456\n",
      "JAPÓN                      0.000091\n",
      "LÍBANO                     0.000091\n",
      "MÉXICO                     0.001004\n",
      "NAMIBIA                    0.000091\n",
      "NAURU                      0.000091\n",
      "NICARAGUA                  0.000091\n",
      "OMÁN                       0.000091\n",
      "PANAMÁ                     0.000274\n",
      "PARAGUAY                   0.000091\n",
      "PAÍSES BAJOS - HOLANDA     0.000091\n",
      "PERÚ                       0.000912\n",
      "PORTUGAL                   0.000182\n",
      "PUERTO RICO                0.000091\n",
      "REINO UNIDO                0.000274\n",
      "REPÚBLICA DOMINICANA       0.000274\n",
      "RUSIA                      0.000274\n",
      "SUIZA                      0.000182\n",
      "TURQUÍA                    0.000182\n",
      "UCRANIA                    0.000091\n",
      "URUGUAY                    0.000182\n",
      "VENEZUELA                  0.032296\n",
      "dtype: float64\n"
     ]
    }
   ],
   "source": [
    "dg = data.groupby('ESTU_NACIONALIDAD').size()/data.shape[0] *100\n",
    "print(dg)"
   ]
  },
  {
   "cell_type": "code",
   "execution_count": 14,
   "metadata": {},
   "outputs": [
    {
     "name": "stdout",
     "output_type": "stream",
     "text": [
      "ESTU_TIPODOCUMENTO\n",
      "CC     17.275677\n",
      "CE      0.109571\n",
      "CR      1.476695\n",
      "NES     0.007390\n",
      "PC      0.000730\n",
      "PE      0.011313\n",
      "PEP     0.002190\n",
      "RC      0.001186\n",
      "TI     81.115249\n",
      "dtype: float64\n"
     ]
    }
   ],
   "source": [
    "dg = data.groupby('ESTU_TIPODOCUMENTO').size()/data.shape[0] *100\n",
    "print(dg)"
   ]
  },
  {
   "cell_type": "code",
   "execution_count": 15,
   "metadata": {},
   "outputs": [
    {
     "name": "stdout",
     "output_type": "stream",
     "text": [
      "ESTU_ESTUDIANTE\n",
      "ESTUDIANTE    100.0\n",
      "dtype: float64\n"
     ]
    }
   ],
   "source": [
    "dg = data.groupby('ESTU_ESTUDIANTE').size()/data.shape[0] *100\n",
    "print(dg)"
   ]
  },
  {
   "cell_type": "code",
   "execution_count": 16,
   "metadata": {},
   "outputs": [
    {
     "name": "stdout",
     "output_type": "stream",
     "text": [
      "ESTU_PRIVADO_LIBERTAD\n",
      "N    99.977374\n",
      "S     0.022626\n",
      "dtype: float64\n"
     ]
    }
   ],
   "source": [
    "dg = data.groupby('ESTU_PRIVADO_LIBERTAD').size()/data.shape[0] *100\n",
    "print(dg)"
   ]
  },
  {
   "cell_type": "code",
   "execution_count": 31,
   "metadata": {},
   "outputs": [
    {
     "name": "stdout",
     "output_type": "stream",
     "text": [
      "FAMI_ESTRATOVIVIENDA\n",
      "-               66507\n",
      "Estrato 1      344737\n",
      "Estrato 2      376729\n",
      "Estrato 3      208494\n",
      "Estrato 4       47730\n",
      "Estrato 5       15731\n",
      "Estrato 6        7566\n",
      "Sin Estrato     28602\n",
      "dtype: int64\n"
     ]
    }
   ],
   "source": [
    "dg = data.groupby('FAMI_ESTRATOVIVIENDA').size()#/data.shape[0] *100\n",
    "print(dg)"
   ]
  },
  {
   "cell_type": "code",
   "execution_count": 32,
   "metadata": {},
   "outputs": [
    {
     "name": "stdout",
     "output_type": "stream",
     "text": [
      "(15731, 80)\n"
     ]
    }
   ],
   "source": [
    "#PUNT_GLOBAL\n",
    "#dg = data.groupby(['ESTU_TIENEETNIA', 'FAMI_ESTRATOVIVIENDA' ]).size()\n",
    "dg = data[data['FAMI_ESTRATOVIVIENDA'] == 'Estrato 5']\n",
    "print(dg.shape)"
   ]
  },
  {
   "cell_type": "code",
   "execution_count": 18,
   "metadata": {},
   "outputs": [
    {
     "name": "stdout",
     "output_type": "stream",
     "text": [
      "AxesSubplot(0.125,0.125;0.775x0.755)\n"
     ]
    },
    {
     "data": {
      "image/png": "[encoded data removed]",
      "text/plain": [
       "<Figure size 864x576 with 1 Axes>"
      ]
     },
     "metadata": {
      "needs_background": "light"
     },
     "output_type": "display_data"
    }
   ],
   "source": [
    "hist = data['PUNT_GLOBAL'].hist(bins=50, grid=False, figsize=(12,8), color='#86bf91', zorder=2, rwidth=0.9)\n",
    "print(hist)"
   ]
  },
  {
   "cell_type": "code",
   "execution_count": 19,
   "metadata": {},
   "outputs": [
    {
     "name": "stdout",
     "output_type": "stream",
     "text": [
      "AxesSubplot(0.125,0.125;0.775x0.755)\n"
     ]
    },
    {
     "data": {
      "image/png": "[encoded data removed]",
      "text/plain": [
       "<Figure size 864x576 with 1 Axes>"
      ]
     },
     "metadata": {
      "needs_background": "light"
     },
     "output_type": "display_data"
    }
   ],
   "source": [
    "hist = data['PUNT_INGLES'].hist(bins=50, grid=False, figsize=(12,8), color='#86bf91', zorder=2, rwidth=0.9)\n",
    "print(hist)"
   ]
  },
  {
   "cell_type": "code",
   "execution_count": 20,
   "metadata": {},
   "outputs": [
    {
     "name": "stdout",
     "output_type": "stream",
     "text": [
      "AxesSubplot(0.125,0.125;0.775x0.755)\n"
     ]
    },
    {
     "data": {
      "image/png": "[encoded data removed]",
      "text/plain": [
       "<Figure size 864x576 with 1 Axes>"
      ]
     },
     "metadata": {
      "needs_background": "light"
     },
     "output_type": "display_data"
    }
   ],
   "source": [
    "hist = data['PUNT_MATEMATICAS'].hist(bins=50, grid=False, figsize=(12,8), color='#86bf91', zorder=2, rwidth=0.9)\n",
    "print(hist)\n"
   ]
  },
  {
   "cell_type": "code",
   "execution_count": 39,
   "metadata": {},
   "outputs": [
    {
     "name": "stdout",
     "output_type": "stream",
     "text": [
      "AxesSubplot(0.125,0.125;0.775x0.755)\n",
      "(595778, 80)\n"
     ]
    },
    {
     "data": {
      "image/png": "[encoded data removed]",
      "text/plain": [
       "<Figure size 864x576 with 1 Axes>"
      ]
     },
     "metadata": {
      "needs_background": "light"
     },
     "output_type": "display_data"
    }
   ],
   "source": [
    "FeminasData = data[data['ESTU_GENERO'] == 'F']\n",
    "hist = FeminasData['PUNT_MATEMATICAS'].hist(bins=50, grid=False, figsize=(12,8), color='#86bf91', zorder=2, rwidth=0.9)\n",
    "print(hist)\n",
    "\n",
    "print(FeminasData.shape)\n",
    "#hist = data['PUNT_MATEMATICAS'].hist(bins=50, grid=False, figsize=(12,8), color='#86bf91', zorder=2, rwidth=0.9)"
   ]
  },
  {
   "cell_type": "code",
   "execution_count": 40,
   "metadata": {},
   "outputs": [
    {
     "name": "stdout",
     "output_type": "stream",
     "text": [
      "AxesSubplot(0.125,0.125;0.775x0.755)\n",
      "(500313, 80)\n"
     ]
    },
    {
     "data": {
      "image/png": "[encoded data removed]",
      "text/plain": [
       "<Figure size 864x576 with 1 Axes>"
      ]
     },
     "metadata": {
      "needs_background": "light"
     },
     "output_type": "display_data"
    }
   ],
   "source": [
    "MachosData = data[data['ESTU_GENERO'] == 'M']\n",
    "hist = MachosData['PUNT_MATEMATICAS'].hist(bins=50, grid=False, figsize=(12,8), color='#86bf91', zorder=2, rwidth=0.9)\n",
    "print(hist)\n",
    "print(MachosData.shape)\n"
   ]
  },
  {
   "cell_type": "code",
   "execution_count": 22,
   "metadata": {},
   "outputs": [
    {
     "data": {
      "text/plain": [
       "Text(0, 0.5, 'ESTU_INSE_INDIVIDUAL')"
      ]
     },
     "execution_count": 22,
     "metadata": {},
     "output_type": "execute_result"
    },
    {
     "data": {
      "image/png": "[encoded data removed]",
      "text/plain": [
       "<Figure size 432x288 with 1 Axes>"
      ]
     },
     "metadata": {
      "needs_background": "light"
     },
     "output_type": "display_data"
    }
   ],
   "source": [
    "colors = {'M':'r', 'F':'b'}\n",
    "fig, ax = plt.subplots()\n",
    "for i in range(1000):\n",
    "    ax.scatter(data['PUNT_GLOBAL'][i], data['ESTU_INSE_INDIVIDUAL'][i],color=colors[data['ESTU_GENERO'][i]])\n",
    "ax.set_title('Iris Dataset')\n",
    "ax.set_xlabel('PUNT_GLOBAL')\n",
    "ax.set_ylabel('ESTU_INSE_INDIVIDUAL')"
   ]
  },
  {
   "cell_type": "code",
   "execution_count": 23,
   "metadata": {},
   "outputs": [
    {
     "data": {
      "text/plain": [
       "'M'"
      ]
     },
     "execution_count": 23,
     "metadata": {},
     "output_type": "execute_result"
    }
   ],
   "source": [
    "data['ESTU_GENERO'][0]"
   ]
  },
  {
   "cell_type": "code",
   "execution_count": null,
   "metadata": {},
   "outputs": [],
   "source": []
  },
  {
   "cell_type": "code",
   "execution_count": null,
   "metadata": {},
   "outputs": [],
   "source": []
  }
 ],
 "metadata": {
  "kernelspec": {
   "display_name": "Python 3",
   "language": "python",
   "name": "python3"
  },
  "language_info": {
   "codemirror_mode": {
    "name": "ipython",
    "version": 3
   },
   "file_extension": ".py",
   "mimetype": "text/x-python",
   "name": "python",
   "nbconvert_exporter": "python",
   "pygments_lexer": "ipython3",
   "version": "3.7.3"
  }
 },
 "nbformat": 4,
 "nbformat_minor": 2
}
