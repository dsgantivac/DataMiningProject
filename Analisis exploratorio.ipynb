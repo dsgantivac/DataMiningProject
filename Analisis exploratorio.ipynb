{
 "cells": [
  {
   "cell_type": "code",
   "execution_count": 1,
   "metadata": {},
   "outputs": [],
   "source": [
    "import pandas as pd\n",
    "import matplotlib.pyplot as plt \n",
    "from collections import Counter\n",
    "path = \"./Datasets/Saber_Complete.csv\""
   ]
  },
  {
   "cell_type": "markdown",
   "metadata": {},
   "source": [
    "'ESTU_TIPODOCUMENTO', 'ESTU_NACIONALIDAD', 'ESTU_GENERO', 'ESTU_FECHANACIMIENTO', 'PERIODO', 'ESTU_CONSECUTIVO', 'ESTU_ESTUDIANTE', 'ESTU_PAIS_RESIDE', 'ESTU_TIENEETNIA', 'ESTU_ETNIA', 'ESTU_LIMITA_MOTRIZ', 'ESTU_DEPTO_RESIDE', 'ESTU_COD_RESIDE_DEPTO', 'ESTU_MCPIO_RESIDE', 'ESTU_COD_RESIDE_MCPIO', 'FAMI_ESTRATOVIVIENDA', 'FAMI_PERSONASHOGAR', 'FAMI_CUARTOSHOGAR', 'FAMI_EDUCACIONPADRE', 'FAMI_EDUCACIONMADRE', 'FAMI_TRABAJOLABORPADRE', 'FAMI_TRABAJOLABORMADRE', 'FAMI_TIENESERVICIOTV', 'FAMI_TIENECOMPUTADOR', 'FAMI_TIENELAVADORA', 'FAMI_TIENEHORNOMICROOGAS', 'FAMI_TIENEAUTOMOVIL', 'FAMI_TIENEMOTOCICLETA', 'FAMI_TIENECONSOLAVIDEOJUEGOS', 'FAMI_NUMLIBROS', 'FAMI_COMELECHEDERIVADOS', 'FAMI_COMECARNEPESCADOHUEVO', 'FAMI_COMECEREALFRUTOSLEGUMBRE', 'FAMI_SITUACIONECONOMICA', 'ESTU_DEDICACIONLECTURADIARIA', 'ESTU_DEDICACIONINTERNET', 'ESTU_HORASSEMANATRABAJA', 'ESTU_TIPOREMUNERACION', 'COLE_CODIGO_ICFES', 'COLE_COD_DANE_ESTABLECIMIENTO', 'COLE_NOMBRE_ESTABLECIMIENTO', 'COLE_GENERO', 'COLE_NATURALEZA', 'COLE_CALENDARIO', 'COLE_BILINGUE', 'COLE_CARACTER', 'COLE_COD_DANE_SEDE', 'COLE_NOMBRE_SEDE', 'COLE_SEDE_PRINCIPAL', 'COLE_AREA_UBICACION', 'COLE_JORNADA', 'COLE_COD_MCPIO_UBICACION', 'COLE_MCPIO_UBICACION', 'COLE_COD_DEPTO_UBICACION', 'COLE_DEPTO_UBICACION', 'ESTU_PRIVADO_LIBERTAD', 'ESTU_COD_MCPIO_PRESENTACION', 'ESTU_MCPIO_PRESENTACION', 'ESTU_DEPTO_PRESENTACION', 'ESTU_COD_DEPTO_PRESENTACION', 'PUNT_LECTURA_CRITICA', 'PERCENTIL_LECTURA_CRITICA', 'DESEMP_LECTURA_CRITICA', 'PUNT_MATEMATICAS', 'PERCENTIL_MATEMATICAS', 'DESEMP_MATEMATICAS', 'PUNT_C_NATURALES', 'PERCENTIL_C_NATURALES', 'DESEMP_C_NATURALES', 'PUNT_SOCIALES_CIUDADANAS', 'PERCENTIL_SOCIALES_CIUDADANAS', 'DESEMP_SOCIALES_CIUDADANAS', 'PUNT_INGLES', 'PERCENTIL_INGLES', 'DESEMP_INGLES', 'PUNT_GLOBAL', 'PERCENTIL_GLOBAL', 'ESTU_NSE_ESTABLECIMIENTO', 'ESTU_INSE_INDIVIDUAL', 'ESTU_NSE_INDIVIDUAL'"
   ]
  },
  {
   "cell_type": "code",
   "execution_count": 2,
   "metadata": {},
   "outputs": [],
   "source": [
    "data = pd.read_csv(path, low_memory=False)"
   ]
  },
  {
   "cell_type": "code",
   "execution_count": 3,
   "metadata": {},
   "outputs": [
    {
     "name": "stdout",
     "output_type": "stream",
     "text": [
      "        ESTU_TIPODOCUMENTO ESTU_NACIONALIDAD ESTU_GENERO ESTU_FECHANACIMIENTO  \\\n",
      "0                       CR          COLOMBIA           M           10/06/2002   \n",
      "1                       TI          COLOMBIA           M           22/10/2000   \n",
      "2                       TI          COLOMBIA           M           19/12/2001   \n",
      "3                       TI          COLOMBIA           M           20/10/2000   \n",
      "4                       CC          COLOMBIA           M           16/11/1998   \n",
      "5                       TI          COLOMBIA           F           14/03/2000   \n",
      "6                       TI          COLOMBIA           M           21/11/2001   \n",
      "7                       TI          COLOMBIA           M           20/06/2001   \n",
      "8                       TI          COLOMBIA           M           26/06/2001   \n",
      "9                       TI          COLOMBIA           M           20/11/2000   \n",
      "10                      TI          COLOMBIA           M           07/07/2001   \n",
      "11                      TI          COLOMBIA           M           05/03/2002   \n",
      "12                      CC          COLOMBIA           F           25/04/1992   \n",
      "13                      TI          COLOMBIA           F           15/10/2000   \n",
      "14                      TI          COLOMBIA           M           18/07/2001   \n",
      "15                      TI          COLOMBIA           M           21/10/2001   \n",
      "16                      TI          COLOMBIA           M           17/02/2001   \n",
      "17                      TI          COLOMBIA           M           17/08/2001   \n",
      "18                      TI          COLOMBIA           M           30/07/2000   \n",
      "19                      TI          COLOMBIA           M           12/06/2001   \n",
      "20                      TI          COLOMBIA           M           07/06/2000   \n",
      "21                      TI          COLOMBIA           M           23/03/1999   \n",
      "22                      CC          COLOMBIA           M           19/09/1999   \n",
      "23                      TI          COLOMBIA           M           21/11/2000   \n",
      "24                      CC          COLOMBIA           M           13/05/1991   \n",
      "25                      CC          COLOMBIA           F           07/04/2000   \n",
      "26                      TI          COLOMBIA           M           25/07/2002   \n",
      "27                      CC          COLOMBIA           M           05/08/1998   \n",
      "28                      CR          COLOMBIA           F           15/04/1998   \n",
      "29                      TI          COLOMBIA           F           19/07/2001   \n",
      "...                    ...               ...         ...                  ...   \n",
      "1096066                 TI          COLOMBIA           M           20/11/2000   \n",
      "1096067                 TI          COLOMBIA           M           19/07/1999   \n",
      "1096068                 TI          COLOMBIA           M           29/11/1999   \n",
      "1096069                 TI          COLOMBIA           F           14/08/2000   \n",
      "1096070                 TI          COLOMBIA           M           01/04/2001   \n",
      "1096071                 TI          COLOMBIA           M           06/05/1999   \n",
      "1096072                 CC          COLOMBIA           F           15/02/1995   \n",
      "1096073                 CC          COLOMBIA           M           20/07/1980   \n",
      "1096074                 TI          COLOMBIA           F           22/07/2001   \n",
      "1096075                 TI          COLOMBIA           F           28/02/2001   \n",
      "1096076                 CC          COLOMBIA           M           21/10/1997   \n",
      "1096077                 TI          COLOMBIA           F           06/10/1999   \n",
      "1096078                 TI          COLOMBIA           M           08/10/2001   \n",
      "1096079                 CC          COLOMBIA           F           14/09/1980   \n",
      "1096080                 CC          COLOMBIA           M           15/01/1998   \n",
      "1096081                 TI          COLOMBIA           M           17/10/2000   \n",
      "1096082                 TI          COLOMBIA           M           17/11/1999   \n",
      "1096083                 TI          COLOMBIA           M           09/08/1998   \n",
      "1096084                 CC          COLOMBIA           F           27/03/1992   \n",
      "1096085                 TI          COLOMBIA           F           31/05/2000   \n",
      "1096086                 TI          COLOMBIA           M           20/01/1999   \n",
      "1096087                 TI          COLOMBIA           F           29/08/2000   \n",
      "1096088                 CC          COLOMBIA           M           04/04/1999   \n",
      "1096089                 TI          COLOMBIA           M           24/03/2001   \n",
      "1096090                 TI          COLOMBIA           F           08/05/2000   \n",
      "1096091                 TI          COLOMBIA           F           08/02/2001   \n",
      "1096092                 TI          COLOMBIA           M           23/02/2000   \n",
      "1096093                 TI          COLOMBIA           F           12/01/2001   \n",
      "1096094                 TI          COLOMBIA           F           04/04/2001   \n",
      "1096095                 CC          COLOMBIA           F           02/10/1997   \n",
      "\n",
      "         PERIODO  ESTU_CONSECUTIVO ESTU_ESTUDIANTE ESTU_PAIS_RESIDE  \\\n",
      "0          20182  SB11201820408513      ESTUDIANTE         COLOMBIA   \n",
      "1          20182  SB11201820541500      ESTUDIANTE         COLOMBIA   \n",
      "2          20182  SB11201820208467      ESTUDIANTE         COLOMBIA   \n",
      "3          20182  SB11201820514682      ESTUDIANTE         COLOMBIA   \n",
      "4          20182  SB11201820306251      ESTUDIANTE         COLOMBIA   \n",
      "5          20182  SB11201820231418      ESTUDIANTE         COLOMBIA   \n",
      "6          20182  SB11201820084292      ESTUDIANTE         COLOMBIA   \n",
      "7          20182  SB11201820546789      ESTUDIANTE         COLOMBIA   \n",
      "8          20182  SB11201820089757      ESTUDIANTE         COLOMBIA   \n",
      "9          20182  SB11201820205097      ESTUDIANTE         COLOMBIA   \n",
      "10         20182  SB11201820081995      ESTUDIANTE         COLOMBIA   \n",
      "11         20182  SB11201820127859      ESTUDIANTE         COLOMBIA   \n",
      "12         20182  SB11201820463895      ESTUDIANTE         COLOMBIA   \n",
      "13         20182  SB11201820007136      ESTUDIANTE         COLOMBIA   \n",
      "14         20182  SB11201820277600      ESTUDIANTE         COLOMBIA   \n",
      "15         20182  SB11201820152402      ESTUDIANTE         COLOMBIA   \n",
      "16         20182  SB11201820167048      ESTUDIANTE         COLOMBIA   \n",
      "17         20182  SB11201820532621      ESTUDIANTE         COLOMBIA   \n",
      "18         20182  SB11201820167971      ESTUDIANTE         COLOMBIA   \n",
      "19         20182  SB11201820072025      ESTUDIANTE         COLOMBIA   \n",
      "20         20182  SB11201820191740      ESTUDIANTE         COLOMBIA   \n",
      "21         20182  SB11201820059998      ESTUDIANTE         COLOMBIA   \n",
      "22         20182  SB11201820030306      ESTUDIANTE         COLOMBIA   \n",
      "23         20182  SB11201820537168      ESTUDIANTE         COLOMBIA   \n",
      "24         20182  SB11201820551162      ESTUDIANTE         COLOMBIA   \n",
      "25         20182  SB11201820423447      ESTUDIANTE         COLOMBIA   \n",
      "26         20182  SB11201820087752      ESTUDIANTE         COLOMBIA   \n",
      "27         20182  SB11201820356880      ESTUDIANTE         COLOMBIA   \n",
      "28         20182  SB11201820494823      ESTUDIANTE         COLOMBIA   \n",
      "29         20182  SB11201820459045      ESTUDIANTE         COLOMBIA   \n",
      "...          ...               ...             ...              ...   \n",
      "1096066    20172  SB11201720130035      ESTUDIANTE         COLOMBIA   \n",
      "1096067    20172  SB11201720290959      ESTUDIANTE         COLOMBIA   \n",
      "1096068    20172  SB11201720160181      ESTUDIANTE         COLOMBIA   \n",
      "1096069    20172  SB11201720551191      ESTUDIANTE         COLOMBIA   \n",
      "1096070    20172  SB11201720026125      ESTUDIANTE         COLOMBIA   \n",
      "1096071    20172  SB11201720124856      ESTUDIANTE         COLOMBIA   \n",
      "1096072    20172  SB11201720427287      ESTUDIANTE         COLOMBIA   \n",
      "1096073    20172  SB11201720068946      ESTUDIANTE         COLOMBIA   \n",
      "1096074    20172  SB11201720078703      ESTUDIANTE         COLOMBIA   \n",
      "1096075    20172  SB11201720150250      ESTUDIANTE         COLOMBIA   \n",
      "1096076    20172  SB11201720474795      ESTUDIANTE         COLOMBIA   \n",
      "1096077    20172  SB11201720343210      ESTUDIANTE         COLOMBIA   \n",
      "1096078    20172  SB11201720401572      ESTUDIANTE         COLOMBIA   \n",
      "1096079    20172  SB11201720519467      ESTUDIANTE         COLOMBIA   \n",
      "1096080    20172  SB11201720564909      ESTUDIANTE         COLOMBIA   \n",
      "1096081    20172  SB11201720467155      ESTUDIANTE         COLOMBIA   \n",
      "1096082    20172  SB11201720450804      ESTUDIANTE         COLOMBIA   \n",
      "1096083    20172  SB11201720343407      ESTUDIANTE         COLOMBIA   \n",
      "1096084    20172  SB11201720248869      ESTUDIANTE         COLOMBIA   \n",
      "1096085    20172  SB11201720465219      ESTUDIANTE         COLOMBIA   \n",
      "1096086    20172  SB11201720475347      ESTUDIANTE         COLOMBIA   \n",
      "1096087    20172  SB11201720274031      ESTUDIANTE         COLOMBIA   \n",
      "1096088    20172  SB11201720427224      ESTUDIANTE         COLOMBIA   \n",
      "1096089    20172  SB11201720506774      ESTUDIANTE         COLOMBIA   \n",
      "1096090    20172  SB11201720051326      ESTUDIANTE         COLOMBIA   \n",
      "1096091    20172  SB11201720372923      ESTUDIANTE         COLOMBIA   \n",
      "1096092    20172  SB11201720110542      ESTUDIANTE         COLOMBIA   \n",
      "1096093    20172  SB11201720180189      ESTUDIANTE         COLOMBIA   \n",
      "1096094    20172  SB11201720232852      ESTUDIANTE         COLOMBIA   \n",
      "1096095    20172  SB11201720554881      ESTUDIANTE         COLOMBIA   \n",
      "\n",
      "        ESTU_TIENEETNIA                     ESTU_ETNIA  ...  \\\n",
      "0                    No                              -  ...   \n",
      "1                    No                              -  ...   \n",
      "2                    No                              -  ...   \n",
      "3                    No                              -  ...   \n",
      "4                    No                              -  ...   \n",
      "5                    Si  Otro grupo étnico minoritario  ...   \n",
      "6                    Si                              -  ...   \n",
      "7                    No                              -  ...   \n",
      "8                    No                              -  ...   \n",
      "9                    No                              -  ...   \n",
      "10                   No                              -  ...   \n",
      "11                   No                              -  ...   \n",
      "12                   Si                          Wayúu  ...   \n",
      "13                   No                              -  ...   \n",
      "14                   No                              -  ...   \n",
      "15                   No                              -  ...   \n",
      "16                   No                              -  ...   \n",
      "17                   No                              -  ...   \n",
      "18                   Si     Comunidad afrodescendiente  ...   \n",
      "19                   No                              -  ...   \n",
      "20                   No                              -  ...   \n",
      "21                   No                              -  ...   \n",
      "22                   No                              -  ...   \n",
      "23                   No                              -  ...   \n",
      "24                   No                              -  ...   \n",
      "25                   No                              -  ...   \n",
      "26                   No                              -  ...   \n",
      "27                   No                              -  ...   \n",
      "28                   Si                          Wayúu  ...   \n",
      "29                   No                              -  ...   \n",
      "...                 ...                            ...  ...   \n",
      "1096066              No                              -  ...   \n",
      "1096067              No                              -  ...   \n",
      "1096068              No                              -  ...   \n",
      "1096069              No                              -  ...   \n",
      "1096070              No                              -  ...   \n",
      "1096071              No                              -  ...   \n",
      "1096072              No                              -  ...   \n",
      "1096073              No                              -  ...   \n",
      "1096074              No                              -  ...   \n",
      "1096075              No                              -  ...   \n",
      "1096076              No                              -  ...   \n",
      "1096077              No                              -  ...   \n",
      "1096078              No                              -  ...   \n",
      "1096079              No                              -  ...   \n",
      "1096080              No                              -  ...   \n",
      "1096081              No                              -  ...   \n",
      "1096082              No                              -  ...   \n",
      "1096083              No                              -  ...   \n",
      "1096084              Si     Comunidad afrodescendiente  ...   \n",
      "1096085              No                              -  ...   \n",
      "1096086              No                              -  ...   \n",
      "1096087              No                              -  ...   \n",
      "1096088              No                              -  ...   \n",
      "1096089              No                              -  ...   \n",
      "1096090              No                              -  ...   \n",
      "1096091              No                              -  ...   \n",
      "1096092              No                              -  ...   \n",
      "1096093              No                              -  ...   \n",
      "1096094              No                              -  ...   \n",
      "1096095              No                              -  ...   \n",
      "\n",
      "        PERCENTIL_SOCIALES_CIUDADANAS DESEMP_SOCIALES_CIUDADANAS PUNT_INGLES  \\\n",
      "0                                  76                          3        65.0   \n",
      "1                                  28                          1        48.0   \n",
      "2                                  43                          2        47.0   \n",
      "3                                  94                          3        63.0   \n",
      "4                                  55                          2        56.0   \n",
      "5                                  19                          1        37.0   \n",
      "6                                   9                          1        50.0   \n",
      "7                                  29                          1        40.0   \n",
      "8                                  53                          2        59.0   \n",
      "9                                  59                          2        48.0   \n",
      "10                                 32                          2        41.0   \n",
      "11                                 67                          2        46.0   \n",
      "12                                 12                          1        44.0   \n",
      "13                                 78                          3        46.0   \n",
      "14                                 99                          4        70.0   \n",
      "15                                100                          4        81.0   \n",
      "16                                 74                          3        72.0   \n",
      "17                                 79                          3        64.0   \n",
      "18                                 77                          3        60.0   \n",
      "19                                 98                          4        71.0   \n",
      "20                                  9                          1        45.0   \n",
      "21                                 46                          2        48.0   \n",
      "22                                 66                          2        56.0   \n",
      "23                                 88                          3        55.0   \n",
      "24                                 86                          3        43.0   \n",
      "25                                  5                          1        40.0   \n",
      "26                                 45                          2        55.0   \n",
      "27                                 24                          1        42.0   \n",
      "28                                  2                          1        33.0   \n",
      "29                                 34                          2        46.0   \n",
      "...                               ...                        ...         ...   \n",
      "1096066                             4                          1        41.0   \n",
      "1096067                            44                          2        38.0   \n",
      "1096068                            78                          3        63.0   \n",
      "1096069                            59                          2        47.0   \n",
      "1096070                            96                          3        53.0   \n",
      "1096071                            69                          3        51.0   \n",
      "1096072                            20                          1        34.0   \n",
      "1096073                            31                          2        64.0   \n",
      "1096074                            41                          2        39.0   \n",
      "1096075                            89                          3        61.0   \n",
      "1096076                            25                          2        45.0   \n",
      "1096077                            60                          2        59.0   \n",
      "1096078                            13                          1        40.0   \n",
      "1096079                            37                          2        45.0   \n",
      "1096080                            48                          2        40.0   \n",
      "1096081                            57                          2        39.0   \n",
      "1096082                             6                          1        45.0   \n",
      "1096083                            70                          3        48.0   \n",
      "1096084                            21                          1        39.0   \n",
      "1096085                            25                          2        50.0   \n",
      "1096086                            84                          3        54.0   \n",
      "1096087                            26                          2        39.0   \n",
      "1096088                            21                          1        56.0   \n",
      "1096089                            96                          3        59.0   \n",
      "1096090                            90                          3        65.0   \n",
      "1096091                            85                          3        53.0   \n",
      "1096092                            16                          1        54.0   \n",
      "1096093                            93                          3        79.0   \n",
      "1096094                            56                          2        55.0   \n",
      "1096095                            90                          3        45.0   \n",
      "\n",
      "        PERCENTIL_INGLES DESEMP_INGLES PUNT_GLOBAL PERCENTIL_GLOBAL  \\\n",
      "0                     90            A2         305               85   \n",
      "1                     46            A1         242               46   \n",
      "2                     42            A-         241               45   \n",
      "3                     86            A2         310               87   \n",
      "4                     71            A1         257               57   \n",
      "5                     10            A-         171                4   \n",
      "6                     53            A1         218               29   \n",
      "7                     20            A-         185                9   \n",
      "8                     80            A2         274               68   \n",
      "9                     43            A1         242               46   \n",
      "10                    20            A-         203               19   \n",
      "11                    38            A-         291               78   \n",
      "12                    30            A-         157                1   \n",
      "13                    36            A-         298               81   \n",
      "14                    94            B1         372              100   \n",
      "15                    99            B+         362               99   \n",
      "16                    95            B1         318               90   \n",
      "17                    89            A2         303               84   \n",
      "18                    81            A2         290               77   \n",
      "19                    95            B1         367               99   \n",
      "20                    34            A-         202               18   \n",
      "21                    46            A1         217               28   \n",
      "22                    72            A1         268               64   \n",
      "23                    68            A1         291               78   \n",
      "24                    28            A-         246               49   \n",
      "25                    18            A-         156                1   \n",
      "26                    69            A1         275               69   \n",
      "27                    24            A-         216               27   \n",
      "28                     4            A-         163                2   \n",
      "29                    35            A-         224               33   \n",
      "...                  ...           ...         ...              ...   \n",
      "1096066               24            A-         197               12   \n",
      "1096067               15            A-         222               28   \n",
      "1096068               88            A2         302               82   \n",
      "1096069               49            A-         271               63   \n",
      "1096070               66            A1         331               93   \n",
      "1096071               60            A1         280               69   \n",
      "1096072                5            A-         198               13   \n",
      "1096073               89            A2         252               49   \n",
      "1096074               18            A-         230               33   \n",
      "1096075               84            A2         306               84   \n",
      "1096076               39            A-         215               23   \n",
      "1096077               82            A2         271               63   \n",
      "1096078               20            A-         236               37   \n",
      "1096079               40            A-         204               16   \n",
      "1096080               21            A-         237               38   \n",
      "1096081               20            A-         234               36   \n",
      "1096082               41            A-         187                8   \n",
      "1096083               52            A1         285               72   \n",
      "1096084               17            A-         181                5   \n",
      "1096085               59            A1         244               44   \n",
      "1096086               69            A1         323               91   \n",
      "1096087               19            A-         246               45   \n",
      "1096088               75            A1         213               22   \n",
      "1096089               81            A2         335               95   \n",
      "1096090               90            A2         308               85   \n",
      "1096091               67            A1         307               84   \n",
      "1096092               71            A1         243               43   \n",
      "1096093               99            B+         348               97   \n",
      "1096094               71            A1         284               72   \n",
      "1096095               42            A-         300               81   \n",
      "\n",
      "        ESTU_NSE_ESTABLECIMIENTO ESTU_INSE_INDIVIDUAL ESTU_NSE_INDIVIDUAL  \n",
      "0                            2.0            53.169929                NSE3  \n",
      "1                            2.0            45.062853                NSE2  \n",
      "2                            2.0            44.806936                NSE2  \n",
      "3                            3.0            73.630225                NSE4  \n",
      "4                            3.0            49.391007                NSE2  \n",
      "5                            2.0            30.516627                NSE1  \n",
      "6                            1.0            38.754034                NSE1  \n",
      "7                            2.0            54.122715                NSE3  \n",
      "8                            1.0            40.687267                NSE1  \n",
      "9                            2.0            32.688767                NSE1  \n",
      "10                           2.0            40.627151                NSE1  \n",
      "11                           2.0            40.950928                NSE1  \n",
      "12                           2.0            39.766095                NSE1  \n",
      "13                           2.0            48.086942                NSE2  \n",
      "14                           3.0            61.258535                NSE3  \n",
      "15                           2.0            57.213093                NSE3  \n",
      "16                           3.0            60.139621                NSE3  \n",
      "17                           3.0            65.591225                NSE4  \n",
      "18                           2.0            55.688077                NSE3  \n",
      "19                           4.0            70.314255                NSE4  \n",
      "20                           2.0            46.771724                NSE2  \n",
      "21                           2.0            46.123404                NSE2  \n",
      "22                           2.0            49.888036                NSE2  \n",
      "23                           1.0            41.633731                NSE2  \n",
      "24                           2.0            45.821483                NSE2  \n",
      "25                           2.0            32.033110                NSE1  \n",
      "26                           2.0            53.811582                NSE3  \n",
      "27                           2.0                  NaN                   -  \n",
      "28                           1.0            45.884704                NSE2  \n",
      "29                           3.0            48.957038                NSE2  \n",
      "...                          ...                  ...                 ...  \n",
      "1096066                      3.0            47.394310                NSE2  \n",
      "1096067                      3.0            46.304428                NSE2  \n",
      "1096068                      3.0            55.494823                NSE3  \n",
      "1096069                      3.0            52.576397                NSE3  \n",
      "1096070                      3.0            61.977150                NSE3  \n",
      "1096071                      2.0            52.385017                NSE3  \n",
      "1096072                      2.0            45.943645                NSE2  \n",
      "1096073                      3.0            45.927505                NSE2  \n",
      "1096074                      2.0            58.914436                NSE3  \n",
      "1096075                      3.0            58.872307                NSE3  \n",
      "1096076                      3.0            58.240479                NSE3  \n",
      "1096077                      3.0            55.405891                NSE3  \n",
      "1096078                      3.0            38.997765                NSE1  \n",
      "1096079                      3.0            59.116543                NSE3  \n",
      "1096080                      2.0                  NaN                   -  \n",
      "1096081                      3.0            55.603920                NSE3  \n",
      "1096082                      3.0            52.104702                NSE3  \n",
      "1096083                      2.0            51.855492                NSE3  \n",
      "1096084                      3.0            27.161671                NSE1  \n",
      "1096085                      3.0            59.525871                NSE3  \n",
      "1096086                      3.0            59.421440                NSE3  \n",
      "1096087                      2.0            49.293728                NSE2  \n",
      "1096088                      3.0            66.310287                NSE4  \n",
      "1096089                      3.0            65.191681                NSE4  \n",
      "1096090                      4.0            65.124138                NSE4  \n",
      "1096091                      3.0            70.910217                NSE4  \n",
      "1096092                      3.0            46.722736                NSE2  \n",
      "1096093                      4.0            65.054932                NSE4  \n",
      "1096094                      2.0            53.947552                NSE3  \n",
      "1096095                      2.0            46.929985                NSE2  \n",
      "\n",
      "[1096096 rows x 80 columns]\n"
     ]
    }
   ],
   "source": [
    "print(data)"
   ]
  },
  {
   "cell_type": "code",
   "execution_count": 4,
   "metadata": {},
   "outputs": [
    {
     "data": {
      "text/html": [
       "<div>\n",
       "<style scoped>\n",
       "    .dataframe tbody tr th:only-of-type {\n",
       "        vertical-align: middle;\n",
       "    }\n",
       "\n",
       "    .dataframe tbody tr th {\n",
       "        vertical-align: top;\n",
       "    }\n",
       "\n",
       "    .dataframe thead th {\n",
       "        text-align: right;\n",
       "    }\n",
       "</style>\n",
       "<table border=\"1\" class=\"dataframe\">\n",
       "  <thead>\n",
       "    <tr style=\"text-align: right;\">\n",
       "      <th></th>\n",
       "      <th>ESTU_TIPODOCUMENTO</th>\n",
       "      <th>ESTU_NACIONALIDAD</th>\n",
       "      <th>ESTU_GENERO</th>\n",
       "      <th>ESTU_FECHANACIMIENTO</th>\n",
       "      <th>PERIODO</th>\n",
       "      <th>ESTU_CONSECUTIVO</th>\n",
       "      <th>ESTU_ESTUDIANTE</th>\n",
       "      <th>ESTU_PAIS_RESIDE</th>\n",
       "      <th>ESTU_TIENEETNIA</th>\n",
       "      <th>ESTU_ETNIA</th>\n",
       "      <th>...</th>\n",
       "      <th>PERCENTIL_SOCIALES_CIUDADANAS</th>\n",
       "      <th>DESEMP_SOCIALES_CIUDADANAS</th>\n",
       "      <th>PUNT_INGLES</th>\n",
       "      <th>PERCENTIL_INGLES</th>\n",
       "      <th>DESEMP_INGLES</th>\n",
       "      <th>PUNT_GLOBAL</th>\n",
       "      <th>PERCENTIL_GLOBAL</th>\n",
       "      <th>ESTU_NSE_ESTABLECIMIENTO</th>\n",
       "      <th>ESTU_INSE_INDIVIDUAL</th>\n",
       "      <th>ESTU_NSE_INDIVIDUAL</th>\n",
       "    </tr>\n",
       "  </thead>\n",
       "  <tbody>\n",
       "    <tr>\n",
       "      <th>0</th>\n",
       "      <td>CR</td>\n",
       "      <td>COLOMBIA</td>\n",
       "      <td>M</td>\n",
       "      <td>10/06/2002</td>\n",
       "      <td>20182</td>\n",
       "      <td>SB11201820408513</td>\n",
       "      <td>ESTUDIANTE</td>\n",
       "      <td>COLOMBIA</td>\n",
       "      <td>No</td>\n",
       "      <td>-</td>\n",
       "      <td>...</td>\n",
       "      <td>76</td>\n",
       "      <td>3</td>\n",
       "      <td>65.0</td>\n",
       "      <td>90</td>\n",
       "      <td>A2</td>\n",
       "      <td>305</td>\n",
       "      <td>85</td>\n",
       "      <td>2.0</td>\n",
       "      <td>53.169929</td>\n",
       "      <td>NSE3</td>\n",
       "    </tr>\n",
       "    <tr>\n",
       "      <th>1</th>\n",
       "      <td>TI</td>\n",
       "      <td>COLOMBIA</td>\n",
       "      <td>M</td>\n",
       "      <td>22/10/2000</td>\n",
       "      <td>20182</td>\n",
       "      <td>SB11201820541500</td>\n",
       "      <td>ESTUDIANTE</td>\n",
       "      <td>COLOMBIA</td>\n",
       "      <td>No</td>\n",
       "      <td>-</td>\n",
       "      <td>...</td>\n",
       "      <td>28</td>\n",
       "      <td>1</td>\n",
       "      <td>48.0</td>\n",
       "      <td>46</td>\n",
       "      <td>A1</td>\n",
       "      <td>242</td>\n",
       "      <td>46</td>\n",
       "      <td>2.0</td>\n",
       "      <td>45.062853</td>\n",
       "      <td>NSE2</td>\n",
       "    </tr>\n",
       "    <tr>\n",
       "      <th>2</th>\n",
       "      <td>TI</td>\n",
       "      <td>COLOMBIA</td>\n",
       "      <td>M</td>\n",
       "      <td>19/12/2001</td>\n",
       "      <td>20182</td>\n",
       "      <td>SB11201820208467</td>\n",
       "      <td>ESTUDIANTE</td>\n",
       "      <td>COLOMBIA</td>\n",
       "      <td>No</td>\n",
       "      <td>-</td>\n",
       "      <td>...</td>\n",
       "      <td>43</td>\n",
       "      <td>2</td>\n",
       "      <td>47.0</td>\n",
       "      <td>42</td>\n",
       "      <td>A-</td>\n",
       "      <td>241</td>\n",
       "      <td>45</td>\n",
       "      <td>2.0</td>\n",
       "      <td>44.806936</td>\n",
       "      <td>NSE2</td>\n",
       "    </tr>\n",
       "    <tr>\n",
       "      <th>3</th>\n",
       "      <td>TI</td>\n",
       "      <td>COLOMBIA</td>\n",
       "      <td>M</td>\n",
       "      <td>20/10/2000</td>\n",
       "      <td>20182</td>\n",
       "      <td>SB11201820514682</td>\n",
       "      <td>ESTUDIANTE</td>\n",
       "      <td>COLOMBIA</td>\n",
       "      <td>No</td>\n",
       "      <td>-</td>\n",
       "      <td>...</td>\n",
       "      <td>94</td>\n",
       "      <td>3</td>\n",
       "      <td>63.0</td>\n",
       "      <td>86</td>\n",
       "      <td>A2</td>\n",
       "      <td>310</td>\n",
       "      <td>87</td>\n",
       "      <td>3.0</td>\n",
       "      <td>73.630225</td>\n",
       "      <td>NSE4</td>\n",
       "    </tr>\n",
       "    <tr>\n",
       "      <th>4</th>\n",
       "      <td>CC</td>\n",
       "      <td>COLOMBIA</td>\n",
       "      <td>M</td>\n",
       "      <td>16/11/1998</td>\n",
       "      <td>20182</td>\n",
       "      <td>SB11201820306251</td>\n",
       "      <td>ESTUDIANTE</td>\n",
       "      <td>COLOMBIA</td>\n",
       "      <td>No</td>\n",
       "      <td>-</td>\n",
       "      <td>...</td>\n",
       "      <td>55</td>\n",
       "      <td>2</td>\n",
       "      <td>56.0</td>\n",
       "      <td>71</td>\n",
       "      <td>A1</td>\n",
       "      <td>257</td>\n",
       "      <td>57</td>\n",
       "      <td>3.0</td>\n",
       "      <td>49.391007</td>\n",
       "      <td>NSE2</td>\n",
       "    </tr>\n",
       "  </tbody>\n",
       "</table>\n",
       "<p>5 rows × 80 columns</p>\n",
       "</div>"
      ],
      "text/plain": [
       "  ESTU_TIPODOCUMENTO ESTU_NACIONALIDAD ESTU_GENERO ESTU_FECHANACIMIENTO  \\\n",
       "0                 CR          COLOMBIA           M           10/06/2002   \n",
       "1                 TI          COLOMBIA           M           22/10/2000   \n",
       "2                 TI          COLOMBIA           M           19/12/2001   \n",
       "3                 TI          COLOMBIA           M           20/10/2000   \n",
       "4                 CC          COLOMBIA           M           16/11/1998   \n",
       "\n",
       "   PERIODO  ESTU_CONSECUTIVO ESTU_ESTUDIANTE ESTU_PAIS_RESIDE ESTU_TIENEETNIA  \\\n",
       "0    20182  SB11201820408513      ESTUDIANTE         COLOMBIA              No   \n",
       "1    20182  SB11201820541500      ESTUDIANTE         COLOMBIA              No   \n",
       "2    20182  SB11201820208467      ESTUDIANTE         COLOMBIA              No   \n",
       "3    20182  SB11201820514682      ESTUDIANTE         COLOMBIA              No   \n",
       "4    20182  SB11201820306251      ESTUDIANTE         COLOMBIA              No   \n",
       "\n",
       "  ESTU_ETNIA  ... PERCENTIL_SOCIALES_CIUDADANAS DESEMP_SOCIALES_CIUDADANAS  \\\n",
       "0          -  ...                            76                          3   \n",
       "1          -  ...                            28                          1   \n",
       "2          -  ...                            43                          2   \n",
       "3          -  ...                            94                          3   \n",
       "4          -  ...                            55                          2   \n",
       "\n",
       "  PUNT_INGLES PERCENTIL_INGLES DESEMP_INGLES PUNT_GLOBAL PERCENTIL_GLOBAL  \\\n",
       "0        65.0               90            A2         305               85   \n",
       "1        48.0               46            A1         242               46   \n",
       "2        47.0               42            A-         241               45   \n",
       "3        63.0               86            A2         310               87   \n",
       "4        56.0               71            A1         257               57   \n",
       "\n",
       "  ESTU_NSE_ESTABLECIMIENTO ESTU_INSE_INDIVIDUAL ESTU_NSE_INDIVIDUAL  \n",
       "0                      2.0            53.169929                NSE3  \n",
       "1                      2.0            45.062853                NSE2  \n",
       "2                      2.0            44.806936                NSE2  \n",
       "3                      3.0            73.630225                NSE4  \n",
       "4                      3.0            49.391007                NSE2  \n",
       "\n",
       "[5 rows x 80 columns]"
      ]
     },
     "execution_count": 4,
     "metadata": {},
     "output_type": "execute_result"
    }
   ],
   "source": [
    "data.head()"
   ]
  },
  {
   "cell_type": "code",
   "execution_count": 5,
   "metadata": {
    "scrolled": true
   },
   "outputs": [
    {
     "name": "stdout",
     "output_type": "stream",
     "text": [
      "ESTU_ETNIA\n",
      "-                                93.859023\n",
      "Arhuaco                           0.018338\n",
      "Cancuamo                          0.032023\n",
      "Comunidad afrodescendiente        3.370599\n",
      "Comunidades Rom (Gitanas)         0.001004\n",
      "Cubeo                             0.018612\n",
      "Emberá                            0.178178\n",
      "Guambiano                         0.033939\n",
      "Huitoto                           0.019433\n",
      "Inga                              0.042879\n",
      "Ninguno                           0.156921\n",
      "Otro grupo étnico minoritario     0.488917\n",
      "Paez                              0.352433\n",
      "Palenquero                        0.012499\n",
      "Pasto                             0.240216\n",
      "Pijao                             0.107107\n",
      "Raizal                            0.071527\n",
      "Sikuani                           0.034030\n",
      "Tucano                            0.006386\n",
      "Wayúu                             0.397502\n",
      "Zenú                              0.558436\n",
      "dtype: float64\n"
     ]
    }
   ],
   "source": [
    "etnia = data.groupby('ESTU_ETNIA').size()/data.shape[0] *100\n",
    "print(etnia)"
   ]
  },
  {
   "cell_type": "code",
   "execution_count": 6,
   "metadata": {
    "scrolled": true
   },
   "outputs": [
    {
     "name": "stdout",
     "output_type": "stream",
     "text": [
      "ESTU_PAIS_RESIDE\n",
      "AFGANISTÁN               -1096094\n",
      "ALBANIA                  -1096094\n",
      "ALEMANIA                 -1096095\n",
      "ANTIGUA Y BARBUDA        -1096095\n",
      "ARGENTINA                -1096081\n",
      "ARMENIA                  -1096095\n",
      "ARUBA                    -1096094\n",
      "AUSTRIA                  -1096095\n",
      "BIELORRUSIA              -1096095\n",
      "BOLIVIA                  -1096092\n",
      "BONAIRE                  -1096095\n",
      "BRASIL                   -1096085\n",
      "BULGARIA                 -1096095\n",
      "BÉLGICA                  -1096095\n",
      "CANADÁ                   -1096095\n",
      "CHILE                    -1096087\n",
      "CHINA                    -1096093\n",
      "COLOMBIA                     -683\n",
      "COMORAS                  -1096084\n",
      "COREA DEL NORTE          -1096088\n",
      "COREA DEL SUR            -1096093\n",
      "COSTA RICA               -1096092\n",
      "CROACIA                  -1096095\n",
      "CUBA                     -1096093\n",
      "CURAZAO                  -1096095\n",
      "DINAMARCA                -1096095\n",
      "ECUADOR                  -1096062\n",
      "EL SALVADOR              -1096094\n",
      "ESPAÑA                   -1096050\n",
      "ESTADOS UNIDOS           -1095999\n",
      "FRANCIA                  -1096095\n",
      "GUATEMALA                -1096095\n",
      "HONDURAS                 -1096094\n",
      "ITALIA                   -1096091\n",
      "JAPÓN                    -1096095\n",
      "LÍBANO                   -1096095\n",
      "MÉXICO                   -1096085\n",
      "NAMIBIA                  -1096095\n",
      "NAURU                    -1096095\n",
      "NICARAGUA                -1096095\n",
      "OMÁN                     -1096095\n",
      "PANAMÁ                   -1096093\n",
      "PARAGUAY                 -1096095\n",
      "PAÍSES BAJOS - HOLANDA   -1096095\n",
      "PERÚ                     -1096086\n",
      "PORTUGAL                 -1096094\n",
      "PUERTO RICO              -1096095\n",
      "REINO UNIDO              -1096093\n",
      "REPÚBLICA DOMINICANA     -1096093\n",
      "RUSIA                    -1096093\n",
      "SUIZA                    -1096094\n",
      "TURQUÍA                  -1096094\n",
      "UCRANIA                  -1096095\n",
      "URUGUAY                  -1096094\n",
      "VENEZUELA                -1095742\n",
      "dtype: int64\n"
     ]
    }
   ],
   "source": [
    "etnia = data.groupby('ESTU_PAIS_RESIDE').size() - 1096096\n",
    "print(etnia)"
   ]
  },
  {
   "cell_type": "code",
   "execution_count": 7,
   "metadata": {},
   "outputs": [
    {
     "name": "stdout",
     "output_type": "stream",
     "text": [
      "ESTU_TIENEETNIA\n",
      "-      0.043609\n",
      "No    93.566075\n",
      "Si     6.390316\n",
      "dtype: float64\n"
     ]
    }
   ],
   "source": [
    "dg = data.groupby('ESTU_TIENEETNIA').size()/data.shape[0] *100\n",
    "print(dg)"
   ]
  },
  {
   "cell_type": "code",
   "execution_count": 8,
   "metadata": {
    "scrolled": true
   },
   "outputs": [
    {
     "name": "stdout",
     "output_type": "stream",
     "text": [
      "ESTU_NACIONALIDAD\n",
      "AFGANISTÁN                 0.000182\n",
      "ALBANIA                    0.000182\n",
      "ALEMANIA                   0.000091\n",
      "ANTIGUA Y BARBUDA          0.000091\n",
      "ARGENTINA                  0.001368\n",
      "ARMENIA                    0.000091\n",
      "ARUBA                      0.000182\n",
      "AUSTRIA                    0.000091\n",
      "BIELORRUSIA                0.000091\n",
      "BOLIVIA                    0.000365\n",
      "BONAIRE                    0.000091\n",
      "BRASIL                     0.001004\n",
      "BULGARIA                   0.000091\n",
      "BÉLGICA                    0.000091\n",
      "CANADÁ                     0.000091\n",
      "CHILE                      0.000821\n",
      "CHINA                      0.000274\n",
      "COLOMBIA                  99.937688\n",
      "COMORAS                    0.001095\n",
      "COREA DEL NORTE            0.000730\n",
      "COREA DEL SUR              0.000274\n",
      "COSTA RICA                 0.000365\n",
      "CROACIA                    0.000091\n",
      "CUBA                       0.000274\n",
      "CURAZAO                    0.000091\n",
      "DINAMARCA                  0.000091\n",
      "ECUADOR                    0.003102\n",
      "EL SALVADOR                0.000182\n",
      "ESPAÑA                     0.004197\n",
      "ESTADOS UNIDOS             0.008850\n",
      "FRANCIA                    0.000091\n",
      "GUATEMALA                  0.000091\n",
      "HONDURAS                   0.000182\n",
      "ITALIA                     0.000456\n",
      "JAPÓN                      0.000091\n",
      "LÍBANO                     0.000091\n",
      "MÉXICO                     0.001004\n",
      "NAMIBIA                    0.000091\n",
      "NAURU                      0.000091\n",
      "NICARAGUA                  0.000091\n",
      "OMÁN                       0.000091\n",
      "PANAMÁ                     0.000274\n",
      "PARAGUAY                   0.000091\n",
      "PAÍSES BAJOS - HOLANDA     0.000091\n",
      "PERÚ                       0.000912\n",
      "PORTUGAL                   0.000182\n",
      "PUERTO RICO                0.000091\n",
      "REINO UNIDO                0.000274\n",
      "REPÚBLICA DOMINICANA       0.000274\n",
      "RUSIA                      0.000274\n",
      "SUIZA                      0.000182\n",
      "TURQUÍA                    0.000182\n",
      "UCRANIA                    0.000091\n",
      "URUGUAY                    0.000182\n",
      "VENEZUELA                  0.032296\n",
      "dtype: float64\n"
     ]
    }
   ],
   "source": [
    "dg = data.groupby('ESTU_NACIONALIDAD').size()/data.shape[0] *100\n",
    "print(dg)"
   ]
  },
  {
   "cell_type": "code",
   "execution_count": 9,
   "metadata": {},
   "outputs": [
    {
     "name": "stdout",
     "output_type": "stream",
     "text": [
      "ESTU_TIPODOCUMENTO\n",
      "CC     17.275677\n",
      "CE      0.109571\n",
      "CR      1.476695\n",
      "NES     0.007390\n",
      "PC      0.000730\n",
      "PE      0.011313\n",
      "PEP     0.002190\n",
      "RC      0.001186\n",
      "TI     81.115249\n",
      "dtype: float64\n"
     ]
    }
   ],
   "source": [
    "dg = data.groupby('ESTU_TIPODOCUMENTO').size()/data.shape[0] *100\n",
    "print(dg)"
   ]
  },
  {
   "cell_type": "code",
   "execution_count": 10,
   "metadata": {},
   "outputs": [
    {
     "name": "stdout",
     "output_type": "stream",
     "text": [
      "ESTU_ESTUDIANTE\n",
      "ESTUDIANTE    100.0\n",
      "dtype: float64\n"
     ]
    }
   ],
   "source": [
    "dg = data.groupby('ESTU_ESTUDIANTE').size()/data.shape[0] *100\n",
    "print(dg)"
   ]
  },
  {
   "cell_type": "code",
   "execution_count": 11,
   "metadata": {},
   "outputs": [
    {
     "name": "stdout",
     "output_type": "stream",
     "text": [
      "ESTU_PRIVADO_LIBERTAD\n",
      "N    99.977374\n",
      "S     0.022626\n",
      "dtype: float64\n"
     ]
    }
   ],
   "source": [
    "dg = data.groupby('ESTU_PRIVADO_LIBERTAD').size()/data.shape[0] *100\n",
    "print(dg)"
   ]
  },
  {
   "cell_type": "code",
   "execution_count": 12,
   "metadata": {},
   "outputs": [
    {
     "name": "stdout",
     "output_type": "stream",
     "text": [
      "ESTU_HORASSEMANATRABAJA\n",
      "-                       2.532442\n",
      "0                      65.286070\n",
      "Entre 11 y 20 horas     7.651155\n",
      "Entre 21 y 30 horas     2.890988\n",
      "Menos de 10 horas      17.952898\n",
      "Más de 30 horas         3.686447\n",
      "dtype: float64\n"
     ]
    }
   ],
   "source": [
    "dg = data.groupby('ESTU_HORASSEMANATRABAJA').size()/data.shape[0] *100\n",
    "print(dg)"
   ]
  },
  {
   "cell_type": "code",
   "execution_count": 13,
   "metadata": {},
   "outputs": [
    {
     "name": "stdout",
     "output_type": "stream",
     "text": [
      "FAMI_EDUCACIONPADRE\n",
      "-                                        5.465488\n",
      "Educación profesional completa           8.352279\n",
      "Educación profesional incompleta         1.835697\n",
      "Ninguno                                  3.651231\n",
      "No Aplica                                0.931761\n",
      "No sabe                                  5.767378\n",
      "Postgrado                                1.670109\n",
      "Primaria completa                       10.555097\n",
      "Primaria incompleta                     19.239921\n",
      "Secundaria (Bachillerato) completa      20.694903\n",
      "Secundaria (Bachillerato) incompleta    13.587222\n",
      "Técnica o tecnológica completa           6.307933\n",
      "Técnica o tecnológica incompleta         1.940980\n",
      "dtype: float64\n"
     ]
    }
   ],
   "source": [
    "dg = data.groupby('FAMI_EDUCACIONPADRE').size()/data.shape[0] *100\n",
    "print(dg)"
   ]
  },
  {
   "cell_type": "code",
   "execution_count": 14,
   "metadata": {},
   "outputs": [
    {
     "name": "stdout",
     "output_type": "stream",
     "text": [
      "FAMI_CUARTOSHOGAR\n",
      "-              2.573224\n",
      "Cinco          3.939983\n",
      "Cuatro        12.878069\n",
      "Dos           35.103038\n",
      "Seis o mas     2.148170\n",
      "Tres          37.986910\n",
      "Uno            5.370606\n",
      "dtype: float64\n"
     ]
    }
   ],
   "source": [
    "dg = data.groupby('FAMI_CUARTOSHOGAR').size()/data.shape[0] *100\n",
    "print(dg)"
   ]
  },
  {
   "cell_type": "code",
   "execution_count": 15,
   "metadata": {},
   "outputs": [
    {
     "name": "stdout",
     "output_type": "stream",
     "text": [
      "FAMI_ESTRATOVIVIENDA\n",
      "-               66507\n",
      "Estrato 1      344737\n",
      "Estrato 2      376729\n",
      "Estrato 3      208494\n",
      "Estrato 4       47730\n",
      "Estrato 5       15731\n",
      "Estrato 6        7566\n",
      "Sin Estrato     28602\n",
      "dtype: int64\n"
     ]
    }
   ],
   "source": [
    "dg = data.groupby('FAMI_ESTRATOVIVIENDA').size()#/data.shape[0] *100\n",
    "print(dg)"
   ]
  },
  {
   "cell_type": "code",
   "execution_count": 18,
   "metadata": {},
   "outputs": [
    {
     "name": "stdout",
     "output_type": "stream",
     "text": [
      "FAMI_TRABAJOLABORPADRE\n",
      "-                                                                                                        32949\n",
      "Es agricultor, pesquero o jornalero                                                                     156267\n",
      "Es dueño de un negocio grande, tiene un cargo de nivel directivo o gerencial                             25377\n",
      "Es dueño de un negocio pequeño (tiene pocos empleados o no tiene, por ejemplo tienda, papelería, etc     86557\n",
      "Es operario de máquinas o conduce vehículos (taxita, chofer)                                            112520\n",
      "Es vendedor o trabaja en atención al público                                                             66279\n",
      "No aplica                                                                                                92584\n",
      "No sabe                                                                                                  97940\n",
      "Pensionado                                                                                               25321\n",
      "Tiene un trabajo de tipo auxiliar administrativo (por ejemplo, secretario o asistente)                   47063\n",
      "Trabaja como personal de limpieza, mantenimiento, seguridad o construcción                               80460\n",
      "Trabaja como profesional (por ejemplo médico, abogado, ingeniero)                                        79805\n",
      "Trabaja en el hogar, no trabaja o estudia                                                                71085\n",
      "Trabaja por cuenta propia (por ejemplo plomero, electricista)                                           121889\n",
      "dtype: int64\n"
     ]
    }
   ],
   "source": [
    "dg = data.groupby('FAMI_TRABAJOLABORPADRE').size()#/data.shape[0] *100\n",
    "print(dg)"
   ]
  },
  {
   "cell_type": "code",
   "execution_count": 20,
   "metadata": {},
   "outputs": [
    {
     "name": "stdout",
     "output_type": "stream",
     "text": [
      "FAMI_TRABAJOLABORMADRE\n",
      "-                                                                                                        2.741731\n",
      "Es agricultor, pesquero o jornalero                                                                      2.943173\n",
      "Es dueño de un negocio grande, tiene un cargo de nivel directivo o gerencial                             1.492023\n",
      "Es dueño de un negocio pequeño (tiene pocos empleados o no tiene, por ejemplo tienda, papelería, etc     8.377733\n",
      "Es operario de máquinas o conduce vehículos (taxita, chofer)                                             1.583620\n",
      "Es vendedor o trabaja en atención al público                                                             7.450990\n",
      "No aplica                                                                                                4.809068\n",
      "No sabe                                                                                                  2.401158\n",
      "Pensionado                                                                                               0.682969\n",
      "Tiene un trabajo de tipo auxiliar administrativo (por ejemplo, secretario o asistente)                   8.055590\n",
      "Trabaja como personal de limpieza, mantenimiento, seguridad o construcción                               8.379649\n",
      "Trabaja como profesional (por ejemplo médico, abogado, ingeniero)                                        7.291788\n",
      "Trabaja en el hogar, no trabaja o estudia                                                               40.832646\n",
      "Trabaja por cuenta propia (por ejemplo plomero, electricista)                                            2.957861\n",
      "dtype: float64\n"
     ]
    }
   ],
   "source": [
    "dg = data.groupby('FAMI_TRABAJOLABORMADRE').size()/data.shape[0] *100\n",
    "print(dg)"
   ]
  },
  {
   "cell_type": "code",
   "execution_count": 21,
   "metadata": {},
   "outputs": [
    {
     "name": "stdout",
     "output_type": "stream",
     "text": [
      "FAMI_TIENESERVICIOTV\n",
      "-      5.880233\n",
      "No    22.953281\n",
      "Si    71.166485\n",
      "dtype: float64\n"
     ]
    }
   ],
   "source": [
    "dg = data.groupby('FAMI_TIENESERVICIOTV').size()/data.shape[0] *100\n",
    "print(dg)\n"
   ]
  },
  {
   "cell_type": "code",
   "execution_count": 22,
   "metadata": {},
   "outputs": [
    {
     "name": "stdout",
     "output_type": "stream",
     "text": [
      "PERIODO\n",
      "20172    49.827935\n",
      "20182    50.172065\n",
      "dtype: float64\n"
     ]
    }
   ],
   "source": [
    "dg = data.groupby('PERIODO').size()/data.shape[0] *100\n",
    "print(dg)"
   ]
  },
  {
   "cell_type": "code",
   "execution_count": 24,
   "metadata": {},
   "outputs": [
    {
     "name": "stdout",
     "output_type": "stream",
     "text": [
      "ESTU_CONSECUTIVO\n",
      "SB11201720000005    0.000091\n",
      "SB11201720000006    0.000091\n",
      "SB11201720000007    0.000091\n",
      "SB11201720000008    0.000091\n",
      "SB11201720000009    0.000091\n",
      "SB11201720000011    0.000091\n",
      "SB11201720000012    0.000091\n",
      "SB11201720000013    0.000091\n",
      "SB11201720000014    0.000091\n",
      "SB11201720000015    0.000091\n",
      "SB11201720000016    0.000091\n",
      "SB11201720000017    0.000091\n",
      "SB11201720000018    0.000091\n",
      "SB11201720000019    0.000091\n",
      "SB11201720000020    0.000091\n",
      "SB11201720000021    0.000091\n",
      "SB11201720000022    0.000091\n",
      "SB11201720000023    0.000091\n",
      "SB11201720000024    0.000091\n",
      "SB11201720000025    0.000091\n",
      "SB11201720000026    0.000091\n",
      "SB11201720000027    0.000091\n",
      "SB11201720000042    0.000091\n",
      "SB11201720000043    0.000091\n",
      "SB11201720000044    0.000091\n",
      "SB11201720000045    0.000091\n",
      "SB11201720000046    0.000091\n",
      "SB11201720000048    0.000091\n",
      "SB11201720000049    0.000091\n",
      "SB11201720000050    0.000091\n",
      "                      ...   \n",
      "SB11201820626371    0.000091\n",
      "SB11201820626372    0.000091\n",
      "SB11201820626374    0.000091\n",
      "SB11201820626377    0.000091\n",
      "SB11201820626378    0.000091\n",
      "SB11201820626379    0.000091\n",
      "SB11201820626380    0.000091\n",
      "SB11201820626381    0.000091\n",
      "SB11201820626382    0.000091\n",
      "SB11201820626383    0.000091\n",
      "SB11201820626384    0.000091\n",
      "SB11201820626385    0.000091\n",
      "SB11201820626386    0.000091\n",
      "SB11201820626387    0.000091\n",
      "SB11201820626388    0.000091\n",
      "SB11201820626389    0.000091\n",
      "SB11201820626390    0.000091\n",
      "SB11201820626391    0.000091\n",
      "SB11201820626392    0.000091\n",
      "SB11201820626393    0.000091\n",
      "SB11201820626394    0.000091\n",
      "SB11201820626395    0.000091\n",
      "SB11201820626396    0.000091\n",
      "SB11201820626397    0.000091\n",
      "SB11201820626398    0.000091\n",
      "SB11201820626399    0.000091\n",
      "SB11201820626400    0.000091\n",
      "SB11201820626401    0.000091\n",
      "SB11201820626402    0.000091\n",
      "SB11201820626403    0.000091\n",
      "Length: 1096096, dtype: float64\n"
     ]
    }
   ],
   "source": [
    "dg = data.groupby('ESTU_CONSECUTIVO').size()/data.shape[0] *100\n",
    "print(dg)"
   ]
  },
  {
   "cell_type": "code",
   "execution_count": 25,
   "metadata": {},
   "outputs": [
    {
     "name": "stdout",
     "output_type": "stream",
     "text": [
      "ESTU_LIMITA_MOTRIZ\n",
      "-    99.999909\n",
      "x     0.000091\n",
      "dtype: float64\n"
     ]
    }
   ],
   "source": [
    "dg = data.groupby('ESTU_LIMITA_MOTRIZ').size()/data.shape[0] *100\n",
    "print(dg)"
   ]
  },
  {
   "cell_type": "code",
   "execution_count": 26,
   "metadata": {},
   "outputs": [
    {
     "name": "stdout",
     "output_type": "stream",
     "text": [
      "ESTU_DEPTO_RESIDE\n",
      "-                   0.043609\n",
      "AMAZONAS            0.166956\n",
      "ANTIOQUIA          13.413059\n",
      "ARAUCA              0.570479\n",
      "ATLANTICO           5.774950\n",
      "BOGOTA             16.194020\n",
      "BOLIVAR             4.598776\n",
      "BOYACA              3.033037\n",
      "CALDAS              1.910508\n",
      "CAQUETA             0.783234\n",
      "CASANARE            1.054835\n",
      "CAUCA               2.534085\n",
      "CESAR               2.377255\n",
      "CHOCO               0.820640\n",
      "CORDOBA             3.589375\n",
      "CUNDINAMARCA        6.562746\n",
      "EXTRANJERO          0.000365\n",
      "GUAINIA             0.045434\n",
      "GUAVIARE            0.177904\n",
      "HUILA               2.644294\n",
      "LA GUAJIRA          1.485089\n",
      "MAGDALENA           2.972641\n",
      "META                2.198895\n",
      "NARIÑO              3.050372\n",
      "NORTE SANTANDER     2.815264\n",
      "PUTUMAYO            0.800933\n",
      "QUINDIO             1.283282\n",
      "RISARALDA           1.941801\n",
      "SAN ANDRES          0.115957\n",
      "SANTANDER           4.689188\n",
      "SUCRE               1.934593\n",
      "TOLIMA              3.102101\n",
      "VALLE               7.156034\n",
      "VAUPES              0.068881\n",
      "VICHADA             0.089408\n",
      "dtype: float64\n"
     ]
    }
   ],
   "source": [
    "dg = data.groupby('ESTU_DEPTO_RESIDE').size()/data.shape[0] *100\n",
    "print(dg)"
   ]
  },
  {
   "cell_type": "code",
   "execution_count": 27,
   "metadata": {},
   "outputs": [
    {
     "name": "stdout",
     "output_type": "stream",
     "text": [
      "ESTU_COD_RESIDE_DEPTO\n",
      "-         0.043609\n",
      "05       13.413059\n",
      "08        5.774950\n",
      "11       16.194020\n",
      "13        4.598776\n",
      "15        3.033037\n",
      "17        1.910508\n",
      "18        0.783234\n",
      "19        2.534085\n",
      "20        2.377255\n",
      "23        3.589375\n",
      "25        6.562746\n",
      "27        0.820640\n",
      "41        2.644294\n",
      "44        1.485089\n",
      "47        2.972641\n",
      "50        2.198895\n",
      "52        3.050372\n",
      "54        2.815264\n",
      "63        1.283282\n",
      "66        1.941801\n",
      "68        4.689188\n",
      "70        1.934593\n",
      "73        3.102101\n",
      "76        7.156034\n",
      "81        0.570479\n",
      "85        1.054835\n",
      "86        0.800933\n",
      "88        0.115957\n",
      "91        0.166956\n",
      "94        0.045434\n",
      "95        0.177904\n",
      "97        0.068881\n",
      "99        0.089408\n",
      "99999     0.000365\n",
      "dtype: float64\n"
     ]
    }
   ],
   "source": [
    "dg = data.groupby('ESTU_COD_RESIDE_DEPTO').size()/data.shape[0] *100\n",
    "print(dg)"
   ]
  },
  {
   "cell_type": "code",
   "execution_count": 28,
   "metadata": {},
   "outputs": [
    {
     "name": "stdout",
     "output_type": "stream",
     "text": [
      "ESTU_MCPIO_RESIDE\n",
      "-                   0.043609\n",
      "ABEJORRAL           0.035672\n",
      "ABREGO              0.021075\n",
      "ABRIAQUI            0.002463\n",
      "ABRIAQUÍ            0.002555\n",
      "ACACIAS             0.096616\n",
      "ACACÍAS             0.092145\n",
      "ACANDI              0.005656\n",
      "ACANDÍ              0.008850\n",
      "ACEVEDO             0.063681\n",
      "ACHI                0.023721\n",
      "ACHÍ                0.024450\n",
      "AGRADO              0.022170\n",
      "AGUA DE DIOS        0.021622\n",
      "AGUACHICA           0.218412\n",
      "AGUADA              0.003284\n",
      "AGUADAS             0.043427\n",
      "AGUAZUL             0.107290\n",
      "AGUSTIN CODAZZI     0.056017\n",
      "AGUSTÍN CODAZZI     0.063133\n",
      "AIPE                0.047988\n",
      "ALBAN               0.007390\n",
      "ALBAN (SAN JOSE)    0.009853\n",
      "ALBANIA             0.066600\n",
      "ALBÁN               0.016513\n",
      "ALCALA              0.014324\n",
      "ALCALÁ              0.013411\n",
      "ALDANA              0.014141\n",
      "ALEJANDRIA          0.003467\n",
      "ALEJANDRÍA          0.004470\n",
      "                      ...   \n",
      "YAGUARA             0.008393\n",
      "YAGUARÁ             0.008393\n",
      "YALI                0.006934\n",
      "YALÍ                0.005748\n",
      "YARUMAL             0.107199\n",
      "YAVARATE            0.001186\n",
      "YAVARATÉ            0.000821\n",
      "YOLOMBO             0.024450\n",
      "YOLOMBÓ             0.026822\n",
      "YONDO (CASABE)      0.009671\n",
      "YONDÓ               0.009123\n",
      "YOPAL               0.488187\n",
      "YOTOCO              0.029286\n",
      "YUMBO               0.207372\n",
      "ZAMBRANO            0.025180\n",
      "ZAPATOCA            0.025910\n",
      "ZAPAYAN             0.007664\n",
      "ZAPAYÁN             0.008941\n",
      "ZARAGOZA            0.078552\n",
      "ZARZAL              0.077092\n",
      "ZETAQUIRA           0.011769\n",
      "ZIPACON             0.007481\n",
      "ZIPACÓN             0.009671\n",
      "ZIPAQUIRA           0.141411\n",
      "ZIPAQUIRÁ           0.134112\n",
      "ZONA BANANERA       0.140681\n",
      "ÁBREGO              0.026366\n",
      "ÍQUIRA              0.008758\n",
      "ÚMBITA              0.009488\n",
      "ÚTICA               0.005565\n",
      "Length: 1415, dtype: float64\n"
     ]
    }
   ],
   "source": [
    "dg = data.groupby('ESTU_MCPIO_RESIDE').size()/data.shape[0] *100\n",
    "print(dg)"
   ]
  },
  {
   "cell_type": "code",
   "execution_count": 29,
   "metadata": {},
   "outputs": [
    {
     "name": "stdout",
     "output_type": "stream",
     "text": [
      "ESTU_COD_RESIDE_MCPIO\n",
      "-        0.043609\n",
      "05001    5.104845\n",
      "05002    0.035672\n",
      "05004    0.005018\n",
      "05021    0.007937\n",
      "05030    0.053645\n",
      "05031    0.058207\n",
      "05034    0.092966\n",
      "05036    0.011678\n",
      "05038    0.023264\n",
      "05040    0.034942\n",
      "05042    0.059666\n",
      "05044    0.014506\n",
      "05045    0.304262\n",
      "05051    0.082292\n",
      "05055    0.017243\n",
      "05059    0.005656\n",
      "05079    0.117964\n",
      "05086    0.017973\n",
      "05088    1.038321\n",
      "05091    0.013776\n",
      "05093    0.040051\n",
      "05101    0.053736\n",
      "05107    0.008302\n",
      "05113    0.015692\n",
      "05120    0.050452\n",
      "05125    0.023173\n",
      "05129    0.154184\n",
      "05134    0.011130\n",
      "05138    0.049813\n",
      "           ...   \n",
      "91001    0.129186\n",
      "91263    0.005748\n",
      "91405    0.004744\n",
      "91407    0.004288\n",
      "91430    0.000091\n",
      "91460    0.002828\n",
      "91530    0.000091\n",
      "91540    0.013594\n",
      "91669    0.001825\n",
      "91798    0.004562\n",
      "94001    0.033665\n",
      "94343    0.007572\n",
      "94663    0.002007\n",
      "94883    0.001460\n",
      "94885    0.000091\n",
      "94888    0.000639\n",
      "95001    0.139039\n",
      "95015    0.009215\n",
      "95025    0.023812\n",
      "95200    0.005839\n",
      "97001    0.056838\n",
      "97161    0.003832\n",
      "97511    0.002463\n",
      "97666    0.003741\n",
      "97889    0.002007\n",
      "99001    0.035855\n",
      "99524    0.018064\n",
      "99624    0.007755\n",
      "99773    0.027735\n",
      "99999    0.000365\n",
      "Length: 1120, dtype: float64\n"
     ]
    }
   ],
   "source": [
    "dg = data.groupby('ESTU_COD_RESIDE_MCPIO').size()/data.shape[0] *100\n",
    "print(dg)"
   ]
  },
  {
   "cell_type": "code",
   "execution_count": 30,
   "metadata": {},
   "outputs": [
    {
     "name": "stdout",
     "output_type": "stream",
     "text": [
      "FAMI_PERSONASHOGAR\n",
      "-           2.732516\n",
      "1 a 2       7.253835\n",
      "3 a 4      46.319848\n",
      "5 a 6      31.677882\n",
      "7 a 8       8.519692\n",
      "9 o más     3.496227\n",
      "dtype: float64\n"
     ]
    }
   ],
   "source": [
    "dg = data.groupby('FAMI_PERSONASHOGAR').size()/data.shape[0] *100\n",
    "print(dg)"
   ]
  },
  {
   "cell_type": "code",
   "execution_count": 31,
   "metadata": {},
   "outputs": [
    {
     "name": "stdout",
     "output_type": "stream",
     "text": [
      "FAMI_EDUCACIONMADRE\n",
      "-                                        5.448702\n",
      "Educación profesional completa           9.466507\n",
      "Educación profesional incompleta         2.253087\n",
      "Ninguno                                  2.320508\n",
      "No Aplica                                0.168781\n",
      "No sabe                                  1.639546\n",
      "Postgrado                                1.901658\n",
      "Primaria completa                       10.767123\n",
      "Primaria incompleta                     15.357323\n",
      "Secundaria (Bachillerato) completa      23.954836\n",
      "Secundaria (Bachillerato) incompleta    14.611129\n",
      "Técnica o tecnológica completa           9.251744\n",
      "Técnica o tecnológica incompleta         2.859056\n",
      "dtype: float64\n"
     ]
    }
   ],
   "source": [
    "dg = data.groupby('FAMI_EDUCACIONMADRE').size()/data.shape[0] *100\n",
    "print(dg)"
   ]
  },
  {
   "cell_type": "code",
   "execution_count": 32,
   "metadata": {},
   "outputs": [
    {
     "name": "stdout",
     "output_type": "stream",
     "text": [
      "FAMI_TIENECOMPUTADOR\n",
      "-      2.576873\n",
      "No    40.536869\n",
      "Si    56.886258\n",
      "dtype: float64\n"
     ]
    }
   ],
   "source": [
    "dg = data.groupby('FAMI_TIENECOMPUTADOR').size()/data.shape[0] *100\n",
    "print(dg)"
   ]
  },
  {
   "cell_type": "code",
   "execution_count": 33,
   "metadata": {},
   "outputs": [
    {
     "name": "stdout",
     "output_type": "stream",
     "text": [
      "FAMI_TIENELAVADORA\n",
      "-      2.521677\n",
      "No    24.678769\n",
      "Si    72.799554\n",
      "dtype: float64\n"
     ]
    }
   ],
   "source": [
    "dg = data.groupby('FAMI_TIENELAVADORA').size()/data.shape[0] *100\n",
    "print(dg)"
   ]
  },
  {
   "cell_type": "code",
   "execution_count": 34,
   "metadata": {},
   "outputs": [
    {
     "name": "stdout",
     "output_type": "stream",
     "text": [
      "FAMI_TIENEHORNOMICROOGAS\n",
      "-      2.694746\n",
      "No    53.554889\n",
      "Si    43.750365\n",
      "dtype: float64\n"
     ]
    }
   ],
   "source": [
    "dg = data.groupby('FAMI_TIENEHORNOMICROOGAS').size()/data.shape[0] *100\n",
    "print(dg)"
   ]
  },
  {
   "cell_type": "code",
   "execution_count": 35,
   "metadata": {},
   "outputs": [
    {
     "name": "stdout",
     "output_type": "stream",
     "text": [
      "FAMI_TIENEAUTOMOVIL\n",
      "-      2.823749\n",
      "No    75.318312\n",
      "Si    21.857939\n",
      "dtype: float64\n"
     ]
    }
   ],
   "source": [
    "dg = data.groupby('FAMI_TIENEAUTOMOVIL').size()/data.shape[0] *100\n",
    "print(dg)"
   ]
  },
  {
   "cell_type": "code",
   "execution_count": 36,
   "metadata": {},
   "outputs": [
    {
     "name": "stdout",
     "output_type": "stream",
     "text": [
      "FAMI_TIENEMOTOCICLETA\n",
      "-      2.620938\n",
      "No    58.793208\n",
      "Si    38.585854\n",
      "dtype: float64\n"
     ]
    }
   ],
   "source": [
    "dg = data.groupby('FAMI_TIENEMOTOCICLETA').size()/data.shape[0] *100\n",
    "print(dg)"
   ]
  },
  {
   "cell_type": "code",
   "execution_count": 37,
   "metadata": {},
   "outputs": [
    {
     "name": "stdout",
     "output_type": "stream",
     "text": [
      "FAMI_TIENECONSOLAVIDEOJUEGOS\n",
      "-      2.808239\n",
      "No    75.950190\n",
      "Si    21.241570\n",
      "dtype: float64\n"
     ]
    }
   ],
   "source": [
    "dg = data.groupby('FAMI_TIENECONSOLAVIDEOJUEGOS').size()/data.shape[0] *100\n",
    "print(dg)"
   ]
  },
  {
   "cell_type": "code",
   "execution_count": 38,
   "metadata": {},
   "outputs": [
    {
     "name": "stdout",
     "output_type": "stream",
     "text": [
      "FAMI_NUMLIBROS\n",
      "-                     6.832340\n",
      "0 A 10 LIBROS        38.065096\n",
      "11 A 25 LIBROS       28.777589\n",
      "26 A 100 LIBROS      19.657402\n",
      "MÁS DE 100 LIBROS     6.667573\n",
      "dtype: float64\n"
     ]
    }
   ],
   "source": [
    "dg = data.groupby('FAMI_NUMLIBROS').size()/data.shape[0] *100\n",
    "print(dg)"
   ]
  },
  {
   "cell_type": "code",
   "execution_count": 39,
   "metadata": {},
   "outputs": [
    {
     "name": "stdout",
     "output_type": "stream",
     "text": [
      "FAMI_COMELECHEDERIVADOS\n",
      "-                                6.046095\n",
      "1 o 2 veces por semana          32.264783\n",
      "3 a 5 veces por semana          24.116683\n",
      "Nunca o rara vez comemos eso     8.543960\n",
      "Todos o casi todos los días     29.028479\n",
      "dtype: float64\n"
     ]
    }
   ],
   "source": [
    "dg = data.groupby('FAMI_COMELECHEDERIVADOS').size()/data.shape[0] *100\n",
    "print(dg)"
   ]
  },
  {
   "cell_type": "code",
   "execution_count": 40,
   "metadata": {},
   "outputs": [
    {
     "name": "stdout",
     "output_type": "stream",
     "text": [
      "FAMI_COMECARNEPESCADOHUEVO\n",
      "-                                5.849123\n",
      "1 o 2 veces por semana          23.727210\n",
      "3 a 5 veces por semana          28.592295\n",
      "Nunca o rara vez comemos eso     4.551974\n",
      "Todos o casi todos los días     37.279399\n",
      "dtype: float64\n"
     ]
    }
   ],
   "source": [
    "dg = data.groupby('FAMI_COMECARNEPESCADOHUEVO').size()/data.shape[0] *100\n",
    "print(dg)"
   ]
  },
  {
   "cell_type": "code",
   "execution_count": 41,
   "metadata": {},
   "outputs": [
    {
     "name": "stdout",
     "output_type": "stream",
     "text": [
      "FAMI_COMECEREALFRUTOSLEGUMBRE\n",
      "-                                5.926488\n",
      "1 o 2 veces por semana          36.800244\n",
      "3 a 5 veces por semana          28.011233\n",
      "Nunca o rara vez comemos eso    13.402841\n",
      "Todos o casi todos los días     15.859195\n",
      "dtype: float64\n"
     ]
    }
   ],
   "source": [
    "dg = data.groupby('FAMI_COMECEREALFRUTOSLEGUMBRE').size()/data.shape[0] *100\n",
    "print(dg)"
   ]
  },
  {
   "cell_type": "code",
   "execution_count": 42,
   "metadata": {},
   "outputs": [
    {
     "name": "stdout",
     "output_type": "stream",
     "text": [
      "FAMI_SITUACIONECONOMICA\n",
      "-         2.447048\n",
      "Igual    60.311323\n",
      "Mejor    23.280716\n",
      "Peor     13.960912\n",
      "dtype: float64\n"
     ]
    }
   ],
   "source": [
    "dg = data.groupby('FAMI_SITUACIONECONOMICA').size()/data.shape[0] *100\n",
    "print(dg)"
   ]
  },
  {
   "cell_type": "code",
   "execution_count": 43,
   "metadata": {},
   "outputs": [
    {
     "name": "stdout",
     "output_type": "stream",
     "text": [
      "ESTU_DEDICACIONLECTURADIARIA\n",
      "-                              5.702420\n",
      "30 minutos o menos            36.704449\n",
      "Entre 1 y 2 horas             10.971667\n",
      "Entre 30 y 60 minutos         26.065326\n",
      "Más de 2 horas                 4.075920\n",
      "No leo por entretenimiento    16.480217\n",
      "dtype: float64\n"
     ]
    }
   ],
   "source": [
    "dg = data.groupby('ESTU_DEDICACIONLECTURADIARIA').size()/data.shape[0] *100\n",
    "print(dg)"
   ]
  },
  {
   "cell_type": "code",
   "execution_count": 44,
   "metadata": {},
   "outputs": [
    {
     "name": "stdout",
     "output_type": "stream",
     "text": [
      "ESTU_DEDICACIONINTERNET\n",
      "-                         6.071001\n",
      "30 minutos o menos       17.738957\n",
      "Entre 1 y 3 horas        27.201450\n",
      "Entre 30 y 60 minutos    24.629047\n",
      "Más de 3 horas           17.991855\n",
      "No Navega Internet        6.367690\n",
      "dtype: float64\n"
     ]
    }
   ],
   "source": [
    "dg = data.groupby('ESTU_DEDICACIONINTERNET').size()/data.shape[0] *100\n",
    "print(dg)"
   ]
  },
  {
   "cell_type": "code",
   "execution_count": 45,
   "metadata": {},
   "outputs": [
    {
     "name": "stdout",
     "output_type": "stream",
     "text": [
      "ESTU_TIPOREMUNERACION\n",
      "-                             2.816633\n",
      "No                           69.290737\n",
      "Si, en efectivo              24.945078\n",
      "Si, en efectivo y especie     1.359005\n",
      "Si, en especie                1.588547\n",
      "dtype: float64\n"
     ]
    }
   ],
   "source": [
    "dg = data.groupby('ESTU_TIPOREMUNERACION').size()/data.shape[0] *100\n",
    "print(dg)"
   ]
  },
  {
   "cell_type": "code",
   "execution_count": 46,
   "metadata": {},
   "outputs": [
    {
     "name": "stdout",
     "output_type": "stream",
     "text": [
      "COLE_CODIGO_ICFES\n",
      "18        0.001916\n",
      "59        0.082566\n",
      "75        0.008211\n",
      "83        0.005839\n",
      "91        0.008850\n",
      "125       0.010583\n",
      "141       0.016787\n",
      "174       0.018155\n",
      "190       0.019524\n",
      "208       0.011130\n",
      "216       0.003741\n",
      "232       0.007481\n",
      "240       0.016787\n",
      "257       0.003558\n",
      "281       0.011130\n",
      "315       0.015692\n",
      "356       0.003923\n",
      "364       0.007755\n",
      "380       0.010218\n",
      "398       0.003741\n",
      "406       0.006204\n",
      "422       0.002737\n",
      "430       0.007937\n",
      "448       0.003558\n",
      "455       0.018155\n",
      "463       0.024907\n",
      "471       0.017699\n",
      "489       0.016057\n",
      "497       0.008211\n",
      "521       0.004927\n",
      "            ...   \n",
      "719484    0.014688\n",
      "719492    0.000274\n",
      "719518    0.000639\n",
      "719542    0.006478\n",
      "719567    0.000912\n",
      "719575    0.001368\n",
      "719609    0.000091\n",
      "719617    0.009215\n",
      "719625    0.001095\n",
      "719633    0.001004\n",
      "719674    0.001095\n",
      "719690    0.000730\n",
      "719724    0.000091\n",
      "719732    0.003832\n",
      "719740    0.024724\n",
      "719757    0.001095\n",
      "719773    0.001277\n",
      "719781    0.001368\n",
      "719799    0.002098\n",
      "719807    0.000639\n",
      "719856    0.008211\n",
      "719955    0.000091\n",
      "719989    0.004562\n",
      "719997    0.001916\n",
      "720003    0.000182\n",
      "720037    0.001551\n",
      "720045    0.004197\n",
      "720110    0.000182\n",
      "720128    0.001186\n",
      "720151    0.003102\n",
      "Length: 14102, dtype: float64\n"
     ]
    }
   ],
   "source": [
    "dg = data.groupby('COLE_CODIGO_ICFES').size()/data.shape[0] *100\n",
    "print(dg)"
   ]
  },
  {
   "cell_type": "code",
   "execution_count": 47,
   "metadata": {},
   "outputs": [
    {
     "name": "stdout",
     "output_type": "stream",
     "text": [
      "COLE_COD_DANE_ESTABLECIMIENTO\n",
      "105001000001    0.006751\n",
      "105001000043    0.016057\n",
      "105001000108    0.166409\n",
      "105001000132    0.011769\n",
      "105001000141    0.006113\n",
      "105001000167    0.001642\n",
      "105001000175    0.011130\n",
      "105001000205    0.010674\n",
      "105001000256    0.033665\n",
      "105001000353    0.009944\n",
      "105001000396    0.020345\n",
      "105001000418    0.016239\n",
      "105001000485    0.021075\n",
      "105001000493    0.014780\n",
      "105001000566    0.011039\n",
      "105001000621    0.021805\n",
      "105001000795    0.020892\n",
      "105001000809    0.007116\n",
      "105001000841    0.010401\n",
      "105001000868    0.004379\n",
      "105001000876    0.014688\n",
      "105001000931    0.034395\n",
      "105001000981    0.047441\n",
      "105001000990    0.024450\n",
      "105001001023    0.011039\n",
      "105001001121    0.028830\n",
      "105001001155    0.016878\n",
      "105001001163    0.004927\n",
      "105001001198    0.010948\n",
      "105001001236    0.011860\n",
      "                  ...   \n",
      "486001000713    0.003102\n",
      "486568061250    0.000912\n",
      "486760000043    0.002919\n",
      "486865000961    0.004288\n",
      "495001003657    0.004927\n",
      "499001001170    0.001916\n",
      "499001001919    0.007116\n",
      "499760000994    0.002463\n",
      "519001000002    0.009762\n",
      "525843000017    0.005383\n",
      "550006000001    0.001460\n",
      "550318000003    0.000547\n",
      "550330000001    0.000821\n",
      "550400000001    0.000639\n",
      "550689000001    0.000182\n",
      "550711000002    0.002919\n",
      "554001300011    0.034030\n",
      "568432001200    0.002190\n",
      "568432001300    0.000365\n",
      "625269000068    0.009397\n",
      "625269000069    0.001551\n",
      "625269000075    0.006204\n",
      "625269000078    0.021622\n",
      "625269000084    0.003923\n",
      "625817000006    0.003832\n",
      "847001000023    0.017699\n",
      "847001000027    0.015692\n",
      "847001000035    0.003923\n",
      "847001000051    0.000365\n",
      "854874000001    0.000912\n",
      "Length: 10280, dtype: float64\n"
     ]
    }
   ],
   "source": [
    "dg = data.groupby('COLE_COD_DANE_ESTABLECIMIENTO').size()/data.shape[0] *100\n",
    "print(dg)"
   ]
  },
  {
   "cell_type": "code",
   "execution_count": 48,
   "metadata": {},
   "outputs": [
    {
     "name": "stdout",
     "output_type": "stream",
     "text": [
      "COLE_NOMBRE_ESTABLECIMIENTO\n",
      "ACAD AMERICANA DE SISTEMAS Y COMERCIO                            0.002281\n",
      "ACAD CENTRAL DE SISTEMAS ACSI                                    0.003102\n",
      "ACAD MILIT MARISCAL SUCRE                                        0.009397\n",
      "ACAD PANTANO DE VARGAS                                           0.005109\n",
      "ACADEMIA ACADEMIA SAM                                            0.001916\n",
      "ACADEMIA CIAL DE LOS ANDES                                       0.016057\n",
      "ACADEMIA COLOMBIANA DE ENSEÑANZA                                 0.010583\n",
      "ACADEMIA CORPETROL                                               0.005565\n",
      "ACADEMIA DE CIENCIAS DE COLOMBIA AKADEMOS                        0.003558\n",
      "ACADEMIA E INSTITUTO CAMPAÑA LIBERTADORA                         0.000456\n",
      "ACADEMIA GENERAL CARLOS JULIO GIL COLORADO                       0.004379\n",
      "ACADEMIA GUSTAVO ROJAS PINILLAS                                  0.002555\n",
      "ACADEMIA INTERNACIONAL DE ESTUDIOS TECNICOS AIES                 0.000912\n",
      "ACADEMIA MILITAR GENERAL CUSTODIO GARCIA ROVIRA                  0.001460\n",
      "ACADEMIA MILITAR GENERAL JOSE ANTONIO ANZOATEGUI                 0.007572\n",
      "ACADEMIA MILITAR GENERAL JOSÉ MARÍA CABAL                        0.005748\n",
      "ACADEMIA MILITAR GRAL TOMAS CIPRIANO DE MOSQUERA                 0.003193\n",
      "ACADEMIA MILITAR GUSTAVO MATAMOROS D COSTA                       0.002646\n",
      "ACADEMIA MILITAR JOSE ANTONIO PAEZ                               0.005565\n",
      "ACADEMIA MILITAR MARISCAL SUCRE                                  0.007207\n",
      "ACADEMIA POLITECNICA INTERACTIVA                                 0.004379\n",
      "ACADEMICO                                                        0.036219\n",
      "ADVENTISTA DE QUIBDO BOLIVAR ESCANDON                            0.003193\n",
      "AGRICOLA DE TOMARRAZON                                           0.009579\n",
      "AGROECOLOGICO AMAZONICO BUINAIMA                                 0.006386\n",
      "AGUSTIN CODAZZI                                                  0.007207\n",
      "AIPECITO                                                         0.004014\n",
      "ALEJANDRO DE HUMBOLDT                                            0.019068\n",
      "ALFEREZ REAL                                                     0.002737\n",
      "ALFONSO LOPEZ PUMAREJO                                           0.006021\n",
      "                                                                   ...   \n",
      "TECNOLÓGICO EN INFORMATICA Y COMERCIO DE BUENAVENTURA INCOMEB    0.002919\n",
      "TEOFILO ROBERTO POTES                                            0.051273\n",
      "TERESITA MONTES                                                  0.030289\n",
      "TERMARIT                                                         0.015783\n",
      "TERRA INSTITUTO                                                  0.011860\n",
      "TERRA INSTITUTO VILLA                                            0.003558\n",
      "TOMAS CIPRIANO DE MOSQUERA                                       0.015053\n",
      "TÉCNICO INDUSTRIAL GERARDO VALENCIA CANO                         0.023994\n",
      "UNID EDUC BAHIA SOLANO                                           0.004197\n",
      "UNID EDUC EL FUTURO DEL MAÑANA                                   0.004653\n",
      "UNID EDUC JEAN PIAGET                                            0.013411\n",
      "UNID EDUC PRADOS DE ALAMEDA                                      0.002646\n",
      "UNID PEDAGOGICA BILINGÜE PIERRE DE FERMAT                        0.002463\n",
      "UNIDAD CORPORATIVA ARKOS                                         0.003649\n",
      "UNIDAD CORPORATIVA ARKOS U                                       0.004197\n",
      "UNIDAD EDUCATIVA ARNULFO BRICE¿O CONTRERAS                       0.024724\n",
      "UNIDAD EDUCATIVA EDUARDO CARRANZA                                0.014688\n",
      "UNIDAD EDUCATIVA PLAYA RICA                                      0.004562\n",
      "UNIDAD EDUCATIVA SAN MARCOS                                      0.020071\n",
      "UNIDAD EDUCATIVA SEIS DE ABRIL                                   0.003649\n",
      "UNIDAD PEDAGÓGICA BOLIVARIANA                                    0.008120\n",
      "UNIDAD PORTEÑA DE APRENDIZAJE - UPA                              0.003284\n",
      "UNION PROFESIONAL PARA LA EDUCACION Y EL TRABAJO UPET            0.020254\n",
      "UNION SINDICAL OBRERA  USO                                       0.001642\n",
      "UNITECNICAS                                                      0.019068\n",
      "WINDSOR ROYAL SCHOL                                              0.003832\n",
      "YACHAY WASI RUNA YANAKUNA                                        0.000274\n",
      "YUC KWET ZUUM                                                    0.000639\n",
      "ZARAGOZA                                                         0.009579\n",
      "ZION SCHOOL                                                      0.003102\n",
      "Length: 9687, dtype: float64\n"
     ]
    }
   ],
   "source": [
    "dg = data.groupby('COLE_NOMBRE_ESTABLECIMIENTO').size()/data.shape[0] *100\n",
    "print(dg)"
   ]
  },
  {
   "cell_type": "code",
   "execution_count": 49,
   "metadata": {},
   "outputs": [
    {
     "name": "stdout",
     "output_type": "stream",
     "text": [
      "COLE_GENERO\n",
      "FEMENINO      2.570760\n",
      "MASCULINO     0.810787\n",
      "MIXTO        96.618453\n",
      "dtype: float64\n"
     ]
    }
   ],
   "source": [
    "dg = data.groupby('COLE_GENERO').size()/data.shape[0] *100\n",
    "print(dg)"
   ]
  },
  {
   "cell_type": "code",
   "execution_count": 50,
   "metadata": {},
   "outputs": [
    {
     "name": "stdout",
     "output_type": "stream",
     "text": [
      "COLE_NATURALEZA\n",
      "NO OFICIAL    24.284825\n",
      "OFICIAL       75.715175\n",
      "dtype: float64\n"
     ]
    }
   ],
   "source": [
    "dg = data.groupby('COLE_NATURALEZA').size()/data.shape[0] *100\n",
    "print(dg)"
   ]
  },
  {
   "cell_type": "code",
   "execution_count": 51,
   "metadata": {},
   "outputs": [
    {
     "name": "stdout",
     "output_type": "stream",
     "text": [
      "COLE_CALENDARIO\n",
      "A       99.232731\n",
      "B        0.157103\n",
      "OTRO     0.610166\n",
      "dtype: float64\n"
     ]
    }
   ],
   "source": [
    "dg = data.groupby('COLE_CALENDARIO').size()/data.shape[0] *100\n",
    "print(dg)"
   ]
  },
  {
   "cell_type": "code",
   "execution_count": 52,
   "metadata": {},
   "outputs": [
    {
     "name": "stdout",
     "output_type": "stream",
     "text": [
      "COLE_BILINGUE\n",
      "-    14.732104\n",
      "N    84.246453\n",
      "S     1.021443\n",
      "dtype: float64\n"
     ]
    }
   ],
   "source": [
    "dg = data.groupby('COLE_BILINGUE').size()/data.shape[0] *100\n",
    "print(dg)"
   ]
  },
  {
   "cell_type": "code",
   "execution_count": 53,
   "metadata": {},
   "outputs": [
    {
     "name": "stdout",
     "output_type": "stream",
     "text": [
      "COLE_CARACTER\n",
      "-                     1.863249\n",
      "ACADÉMICO            52.965525\n",
      "NO APLICA             0.978290\n",
      "TÉCNICO              10.782723\n",
      "TÉCNICO/ACADÉMICO    33.410212\n",
      "dtype: float64\n"
     ]
    }
   ],
   "source": [
    "dg = data.groupby('COLE_CARACTER').size()/data.shape[0] *100\n",
    "print(dg)"
   ]
  },
  {
   "cell_type": "code",
   "execution_count": 54,
   "metadata": {},
   "outputs": [
    {
     "name": "stdout",
     "output_type": "stream",
     "text": [
      "COLE_COD_DANE_SEDE\n",
      "105001000001    0.006751\n",
      "105001000043    0.016057\n",
      "105001000108    0.166409\n",
      "105001000132    0.011769\n",
      "105001000141    0.006113\n",
      "105001000167    0.001642\n",
      "105001000175    0.011130\n",
      "105001000191    0.007572\n",
      "105001000205    0.010674\n",
      "105001000256    0.033665\n",
      "105001000353    0.009944\n",
      "105001000396    0.020345\n",
      "105001000418    0.016239\n",
      "105001000485    0.021075\n",
      "105001000493    0.014780\n",
      "105001000566    0.011039\n",
      "105001000621    0.021805\n",
      "105001000795    0.020892\n",
      "105001000809    0.007116\n",
      "105001000841    0.010401\n",
      "105001000868    0.004379\n",
      "105001000876    0.014688\n",
      "105001000931    0.034395\n",
      "105001000981    0.047441\n",
      "105001000990    0.024450\n",
      "105001001023    0.011039\n",
      "105001001121    0.028830\n",
      "105001001155    0.016878\n",
      "105001001163    0.004927\n",
      "105001001198    0.010948\n",
      "                  ...   \n",
      "499001001919    0.007116\n",
      "499760000994    0.002463\n",
      "515469000003    0.003832\n",
      "519001000002    0.009762\n",
      "525843000017    0.005383\n",
      "527610900093    0.000639\n",
      "527610900095    0.002190\n",
      "550006000001    0.001460\n",
      "550318000003    0.000547\n",
      "550330000002    0.000821\n",
      "550350000002    0.002919\n",
      "550400000001    0.000639\n",
      "550689000001    0.000182\n",
      "554001300011    0.034030\n",
      "568432001200    0.002190\n",
      "568432001300    0.000365\n",
      "625269000068    0.009397\n",
      "625269000069    0.002281\n",
      "625269000075    0.006204\n",
      "625269000078    0.021622\n",
      "625269000084    0.003923\n",
      "625817000006    0.011860\n",
      "813430000003    0.013685\n",
      "818001100027    0.012134\n",
      "818001100040    0.000912\n",
      "847001000023    0.017699\n",
      "847001000027    0.015692\n",
      "847001000035    0.003923\n",
      "847001000051    0.000365\n",
      "854874000001    0.000912\n",
      "Length: 11012, dtype: float64\n"
     ]
    }
   ],
   "source": [
    "dg = data.groupby('COLE_COD_DANE_SEDE').size()/data.shape[0] *100\n",
    "print(dg)"
   ]
  },
  {
   "cell_type": "code",
   "execution_count": 55,
   "metadata": {},
   "outputs": [
    {
     "name": "stdout",
     "output_type": "stream",
     "text": [
      "COLE_NOMBRE_SEDE\n",
      "# 1                                                                              0.007116\n",
      "# 3 CICUCO                                                                       0.005292\n",
      "86/02 INSTITUCION EDUCATIVA LA LEONERA  ITA FARALLONES                           0.004197\n",
      "ABSALON TORRES CAMACHO                                                           0.029103\n",
      "ACAD AMERICANA DE SISTEMAS Y COMERCIO                                            0.002281\n",
      "ACAD CENTRAL DE SISTEMAS ACSI                                                    0.003102\n",
      "ACAD MILIT MARISCAL SUCRE                                                        0.009397\n",
      "ACAD PANTANO DE VARGAS                                                           0.005109\n",
      "ACADEMIA ACADEMIA SAM                                                            0.001916\n",
      "ACADEMIA CIAL DE LOS ANDES                                                       0.016057\n",
      "ACADEMIA COLOMBIANA DE ENSEÑANZA                                                 0.010583\n",
      "ACADEMIA CORPETROL - SEDE PRINCIPAL                                              0.005565\n",
      "ACADEMIA DE CIENCIAS DE COLOMBIA AKADEMOS                                        0.003558\n",
      "ACADEMIA E INSTITUTO CAMPAÑA LIBERTADORA                                         0.000456\n",
      "ACADEMIA GENERAL CARLOS JULIO GIL COLORADO   - SEDE PRINCIPAL                    0.004379\n",
      "ACADEMIA GUSTAVO ROJAS PINILLAS                                                  0.002555\n",
      "ACADEMIA INTERNACIONAL DE ESTUDIOS TECNICOS AIES - SEDE PRINCIPAL                0.000912\n",
      "ACADEMIA MILITAR GENERAL CUSTODIO GARCIA ROVIRA - SEDE PRINCIPAL                 0.001460\n",
      "ACADEMIA MILITAR GENERAL JOSE ANTONIO ANZOATEGUI                                 0.007572\n",
      "ACADEMIA MILITAR GENERAL JOSÉ MARÍA CABAL                                        0.005748\n",
      "ACADEMIA MILITAR GRAL TOMAS CIPRIANO DE MOSQUERA                                 0.003193\n",
      "ACADEMIA MILITAR GUSTAVO MATAMOROS D COSTA - SEDE PRINCIPAL                      0.002646\n",
      "ACADEMIA MILITAR JOSE ANTONIO PAEZ                                               0.003011\n",
      "ACADEMIA MILITAR JOSE ANTONIO PAEZ - SEDE PRINCIPAL                              0.002555\n",
      "ACADEMIA MILITAR MARISCAL SUCRE - SEDE PRINCIPAL                                 0.007207\n",
      "ACADEMIA POLITECNICA INTERACTIVA - SEDE PRINCIPAL                                0.004379\n",
      "ACCION COMUNAL                                                                   0.017425\n",
      "ACEVEDO Y GOMEZ                                                                  0.013594\n",
      "ADAN CORDOBES                                                                    0.001186\n",
      "ADVENTISTA DE QUIBDO BOLIVAR ESCANDON                                            0.003193\n",
      "                                                                                   ...   \n",
      "VARON DE SOL                                                                     0.012316\n",
      "VASCO NUÑEZ DE BALBOA                                                            0.009579\n",
      "VASCO NUÑEZ DE BALBOA (sede principal)                                           0.013046\n",
      "VEINTE DE JULIO                                                                  0.001551\n",
      "VENTIUN ANGELES (INST EDUC DIST)                                                 0.035033\n",
      "VERDE AMAZONICO                                                                  0.005565\n",
      "VEREDAS UNIDAS BARRAGAN (sede principal)                                         0.003376\n",
      "VICTOR GOMEZ CORREDOR                                                            0.001095\n",
      "VICTOR MANUEL CHAUX VILLAMIL (sede principal)                                    0.003284\n",
      "VILLA CAFÉ                                                                       0.002372\n",
      "VILLA CECILIA SEDE                                                               0.004744\n",
      "VILLA CLARA                                                                      0.004835\n",
      "VILLA CORELCA                                                                    0.013229\n",
      "VILLA DE LOS ANDES                                                               0.008120\n",
      "VILLA ESPERANZA                                                                  0.001551\n",
      "VILLA FANNY                                                                      0.005930\n",
      "VILLA FATIMA                                                                     0.001825\n",
      "VILLALOBOS (sede principal                                                       0.003376\n",
      "VILLALOSADA                                                                      0.003284\n",
      "VILLANUEVA                                                                       0.006295\n",
      "VISTAHERMOSA                                                                     0.002463\n",
      "WINDSOR ROYAL SCHOL                                                              0.003832\n",
      "XINSTITUTO TECNICO COMERCIAL PILOTO                                              0.000639\n",
      "YACHAY WASI RUNA YANAKUNA - SEDE PRINCIPAL                                       0.001186\n",
      "YAMAIN - SEDE PRINCIPAL                                                          0.002463\n",
      "YOTOJOROY - SEDE PRINCIPAL                                                       0.000547\n",
      "YU LUUCX PISHAU                                                                  0.002463\n",
      "YUC KWET ZUUM                                                                    0.001277\n",
      "ZARAGOZA (sede principal)                                                        0.001551\n",
      "ZION SCHOOL                                                  - SEDE PRINCIPAL    0.003102\n",
      "Length: 10532, dtype: float64\n"
     ]
    }
   ],
   "source": [
    "dg = data.groupby('COLE_NOMBRE_SEDE').size()/data.shape[0] *100\n",
    "print(dg)"
   ]
  },
  {
   "cell_type": "code",
   "execution_count": 56,
   "metadata": {},
   "outputs": [
    {
     "name": "stdout",
     "output_type": "stream",
     "text": [
      "COLE_SEDE_PRINCIPAL\n",
      "N     3.535548\n",
      "S    96.464452\n",
      "dtype: float64\n"
     ]
    }
   ],
   "source": [
    "dg = data.groupby('COLE_SEDE_PRINCIPAL').size()/data.shape[0] *100\n",
    "print(dg)"
   ]
  },
  {
   "cell_type": "code",
   "execution_count": 57,
   "metadata": {},
   "outputs": [
    {
     "name": "stdout",
     "output_type": "stream",
     "text": [
      "COLE_AREA_UBICACION\n",
      "RURAL     15.175496\n",
      "URBANO    84.824504\n",
      "dtype: float64\n"
     ]
    }
   ],
   "source": [
    "dg = data.groupby('COLE_AREA_UBICACION').size()/data.shape[0] *100\n",
    "print(dg)"
   ]
  },
  {
   "cell_type": "code",
   "execution_count": 58,
   "metadata": {},
   "outputs": [
    {
     "name": "stdout",
     "output_type": "stream",
     "text": [
      "COLE_JORNADA\n",
      "COMPLETA    17.602746\n",
      "MAÑANA      50.034942\n",
      "NOCHE        5.912073\n",
      "SABATINA     6.903319\n",
      "TARDE       12.616413\n",
      "UNICA        6.930506\n",
      "dtype: float64\n"
     ]
    }
   ],
   "source": [
    "dg = data.groupby('COLE_JORNADA').size()/data.shape[0] *100\n",
    "print(dg)"
   ]
  },
  {
   "cell_type": "code",
   "execution_count": 59,
   "metadata": {},
   "outputs": [
    {
     "name": "stdout",
     "output_type": "stream",
     "text": [
      "COLE_COD_MCPIO_UBICACION\n",
      "5001     5.212043\n",
      "5002     0.034304\n",
      "5004     0.004562\n",
      "5021     0.007846\n",
      "5030     0.054831\n",
      "5031     0.057750\n",
      "5034     0.091142\n",
      "5036     0.011952\n",
      "5038     0.022991\n",
      "5040     0.034395\n",
      "5042     0.055470\n",
      "5044     0.012499\n",
      "5045     0.305813\n",
      "5051     0.090138\n",
      "5055     0.013502\n",
      "5059     0.005292\n",
      "5079     0.103093\n",
      "5086     0.016969\n",
      "5088     1.022994\n",
      "5091     0.013594\n",
      "5093     0.040325\n",
      "5101     0.054466\n",
      "5107     0.006204\n",
      "5113     0.016604\n",
      "5120     0.044613\n",
      "5125     0.022170\n",
      "5129     0.147341\n",
      "5134     0.010857\n",
      "5138     0.050178\n",
      "5142     0.009762\n",
      "           ...   \n",
      "86757    0.044065\n",
      "86760    0.016148\n",
      "86865    0.093514\n",
      "86885    0.060305\n",
      "88001    0.103641\n",
      "88564    0.010583\n",
      "91001    0.129003\n",
      "91263    0.005474\n",
      "91405    0.004653\n",
      "91407    0.004288\n",
      "91460    0.002828\n",
      "91540    0.013685\n",
      "91669    0.001825\n",
      "91798    0.004562\n",
      "94001    0.033391\n",
      "94343    0.007572\n",
      "94663    0.002007\n",
      "94883    0.001642\n",
      "94888    0.000639\n",
      "95001    0.137214\n",
      "95015    0.009215\n",
      "95025    0.024268\n",
      "95200    0.005748\n",
      "97001    0.064410\n",
      "97511    0.002463\n",
      "97889    0.002007\n",
      "99001    0.035581\n",
      "99524    0.018247\n",
      "99624    0.007481\n",
      "99773    0.028191\n",
      "Length: 1113, dtype: float64\n"
     ]
    }
   ],
   "source": [
    "dg = data.groupby('COLE_COD_MCPIO_UBICACION').size()/data.shape[0] *100\n",
    "print(dg)"
   ]
  },
  {
   "cell_type": "code",
   "execution_count": 60,
   "metadata": {},
   "outputs": [
    {
     "name": "stdout",
     "output_type": "stream",
     "text": [
      "COLE_MCPIO_UBICACION\n",
      "ABEJORRAL           0.034304\n",
      "ABREGO              0.023173\n",
      "ABRIAQUI            0.002190\n",
      "ABRIAQUÍ            0.002372\n",
      "ACACIAS             0.094426\n",
      "ACACÍAS             0.090777\n",
      "ACANDI              0.005656\n",
      "ACANDÍ              0.008850\n",
      "ACEVEDO             0.066144\n",
      "ACHI                0.023994\n",
      "ACHÍ                0.026093\n",
      "AGRADO              0.021348\n",
      "AGUA DE DIOS        0.020984\n",
      "AGUACHICA           0.223247\n",
      "AGUADA              0.003284\n",
      "AGUADAS             0.042788\n",
      "AGUAZUL             0.106651\n",
      "AGUSTIN CODAZZI     0.059028\n",
      "AGUSTÍN CODAZZI     0.063133\n",
      "AIPE                0.048810\n",
      "ALBAN               0.006478\n",
      "ALBAN (SAN JOSE)    0.009762\n",
      "ALBANIA             0.074081\n",
      "ALBÁN               0.015418\n",
      "ALCALA              0.013776\n",
      "ALCALÁ              0.013138\n",
      "ALDANA              0.015145\n",
      "ALEJANDRIA          0.003467\n",
      "ALEJANDRÍA          0.004379\n",
      "ALGARROBO           0.029651\n",
      "                      ...   \n",
      "YAGUARA             0.007937\n",
      "YAGUARÁ             0.008393\n",
      "YALI                0.006751\n",
      "YALÍ                0.005018\n",
      "YARUMAL             0.107107\n",
      "YAVARATE            0.001186\n",
      "YAVARATÉ            0.000821\n",
      "YOLOMBO             0.025272\n",
      "YOLOMBÓ             0.028556\n",
      "YONDO (CASABE)      0.009579\n",
      "YONDÓ               0.009123\n",
      "YOPAL               0.487913\n",
      "YOTOCO              0.025545\n",
      "YUMBO               0.209927\n",
      "ZAMBRANO            0.024998\n",
      "ZAPATOCA            0.026093\n",
      "ZAPAYAN             0.007207\n",
      "ZAPAYÁN             0.008393\n",
      "ZARAGOZA            0.078825\n",
      "ZARZAL              0.074355\n",
      "ZETAQUIRA           0.012134\n",
      "ZIPACON             0.007207\n",
      "ZIPACÓN             0.006751\n",
      "ZIPAQUIRA           0.138400\n",
      "ZIPAQUIRÁ           0.136211\n",
      "ZONA BANANERA       0.143418\n",
      "ÁBREGO              0.026731\n",
      "ÍQUIRA              0.008485\n",
      "ÚMBITA              0.009215\n",
      "ÚTICA               0.005018\n",
      "Length: 1409, dtype: float64\n"
     ]
    }
   ],
   "source": [
    "dg = data.groupby('COLE_MCPIO_UBICACION').size()/data.shape[0] *100\n",
    "print(dg)"
   ]
  },
  {
   "cell_type": "code",
   "execution_count": 61,
   "metadata": {},
   "outputs": [
    {
     "name": "stdout",
     "output_type": "stream",
     "text": [
      "COLE_COD_DEPTO_UBICACION\n",
      "5     13.409318\n",
      "8      5.786537\n",
      "11    16.054342\n",
      "13     4.593302\n",
      "15     3.030848\n",
      "17     1.894633\n",
      "18     0.783782\n",
      "19     2.543025\n",
      "20     2.378076\n",
      "23     3.586456\n",
      "25     6.730432\n",
      "27     0.819910\n",
      "41     2.639550\n",
      "44     1.484724\n",
      "47     2.967532\n",
      "50     2.199899\n",
      "52     3.044168\n",
      "54     2.814078\n",
      "63     1.292679\n",
      "66     1.952110\n",
      "68     4.756700\n",
      "70     1.934867\n",
      "73     3.089510\n",
      "76     7.136692\n",
      "81     0.566465\n",
      "85     1.051824\n",
      "86     0.797923\n",
      "88     0.114224\n",
      "91     0.166318\n",
      "94     0.045252\n",
      "95     0.176444\n",
      "97     0.068881\n",
      "99     0.089499\n",
      "dtype: float64\n"
     ]
    }
   ],
   "source": [
    "dg = data.groupby('COLE_COD_DEPTO_UBICACION').size()/data.shape[0] *100\n",
    "print(dg)"
   ]
  },
  {
   "cell_type": "code",
   "execution_count": 62,
   "metadata": {},
   "outputs": [
    {
     "name": "stdout",
     "output_type": "stream",
     "text": [
      "COLE_DEPTO_UBICACION\n",
      "AMAZONAS            0.166318\n",
      "ANTIOQUIA          13.409318\n",
      "ARAUCA              0.566465\n",
      "ATLANTICO           5.786537\n",
      "BOGOTA             16.054342\n",
      "BOLIVAR             4.593302\n",
      "BOYACA              3.030848\n",
      "CALDAS              1.894633\n",
      "CAQUETA             0.783782\n",
      "CASANARE            1.051824\n",
      "CAUCA               2.543025\n",
      "CESAR               2.378076\n",
      "CHOCO               0.819910\n",
      "CORDOBA             3.586456\n",
      "CUNDINAMARCA        6.730432\n",
      "GUAINIA             0.045252\n",
      "GUAVIARE            0.176444\n",
      "HUILA               2.639550\n",
      "LA GUAJIRA          1.484724\n",
      "MAGDALENA           2.967532\n",
      "META                2.199899\n",
      "NARIÑO              3.044168\n",
      "NORTE SANTANDER     2.814078\n",
      "PUTUMAYO            0.797923\n",
      "QUINDIO             1.292679\n",
      "RISARALDA           1.952110\n",
      "SAN ANDRES          0.114224\n",
      "SANTANDER           4.756700\n",
      "SUCRE               1.934867\n",
      "TOLIMA              3.089510\n",
      "VALLE               7.136692\n",
      "VAUPES              0.068881\n",
      "VICHADA             0.089499\n",
      "dtype: float64\n"
     ]
    }
   ],
   "source": [
    "dg = data.groupby('COLE_DEPTO_UBICACION').size()/data.shape[0] *100\n",
    "print(dg)"
   ]
  },
  {
   "cell_type": "code",
   "execution_count": 63,
   "metadata": {},
   "outputs": [
    {
     "name": "stdout",
     "output_type": "stream",
     "text": [
      "ESTU_COD_MCPIO_PRESENTACION\n",
      "5001     4.910336\n",
      "5002     0.034760\n",
      "5030     0.149166\n",
      "5031     0.087310\n",
      "5034     0.145790\n",
      "5042     0.228721\n",
      "5045     0.340846\n",
      "5051     0.106742\n",
      "5079     0.142506\n",
      "5088     1.070892\n",
      "5101     0.065232\n",
      "5120     0.100995\n",
      "5129     0.170332\n",
      "5138     0.050725\n",
      "5147     0.090138\n",
      "5148     0.105921\n",
      "5154     0.225436\n",
      "5172     0.144057\n",
      "5190     0.065688\n",
      "5212     0.265488\n",
      "5234     0.041967\n",
      "5237     0.029742\n",
      "5250     0.127179\n",
      "5266     0.518933\n",
      "5284     0.059484\n",
      "5310     0.014506\n",
      "5313     0.018155\n",
      "5318     0.087584\n",
      "5360     0.776939\n",
      "5361     0.069702\n",
      "           ...   \n",
      "86568    0.203176\n",
      "86573    0.043336\n",
      "86749    0.095065\n",
      "86865    0.137670\n",
      "86885    0.067512\n",
      "88001    0.105283\n",
      "88564    0.010765\n",
      "91001    0.124989\n",
      "91263    0.005565\n",
      "91405    0.004744\n",
      "91407    0.004288\n",
      "91460    0.002828\n",
      "91540    0.018429\n",
      "91669    0.001825\n",
      "91798    0.004562\n",
      "94001    0.035946\n",
      "94343    0.009671\n",
      "95001    0.159201\n",
      "95015    0.009306\n",
      "95025    0.018520\n",
      "95200    0.005656\n",
      "97001    0.056838\n",
      "97161    0.003832\n",
      "97511    0.002463\n",
      "97666    0.003741\n",
      "97889    0.002007\n",
      "99001    0.036037\n",
      "99524    0.016513\n",
      "99624    0.010583\n",
      "99773    0.026640\n",
      "Length: 479, dtype: float64\n"
     ]
    }
   ],
   "source": [
    "dg = data.groupby('ESTU_COD_MCPIO_PRESENTACION').size()/data.shape[0] *100\n",
    "print(dg)"
   ]
  },
  {
   "cell_type": "code",
   "execution_count": 64,
   "metadata": {},
   "outputs": [
    {
     "name": "stdout",
     "output_type": "stream",
     "text": [
      "ESTU_MCPIO_PRESENTACION\n",
      "ABEJORRAL                      0.034760\n",
      "ABREGO                         0.020984\n",
      "ACACIAS                        0.145060\n",
      "ACACÍAS                        0.145243\n",
      "ACANDI                         0.005656\n",
      "ACANDÍ                         0.008850\n",
      "ACHI                           0.026731\n",
      "ACHÍ                           0.033026\n",
      "AGUACHICA                      0.266491\n",
      "AGUADAS                        0.042971\n",
      "AGUAZUL                        0.108750\n",
      "AGUSTIN CODAZZI                0.057294\n",
      "AGUSTÍN CODAZZI                0.064684\n",
      "AIPE                           0.041693\n",
      "ALBAN                          0.009671\n",
      "ALBAN (SAN JOSE)               0.017790\n",
      "ALBÁN                          0.030654\n",
      "ALCALA                         0.018885\n",
      "ALCALÁ                         0.019980\n",
      "ALTO BAUDO (PIE DE PATO)       0.003832\n",
      "ALTO BAUDÓ                     0.004288\n",
      "AMAGA                          0.080832\n",
      "AMAGÁ                          0.068333\n",
      "AMALFI                         0.087310\n",
      "ANDALUCIA                      0.023173\n",
      "ANDALUCÍA                      0.019889\n",
      "ANDES                          0.145790\n",
      "ANOLAIMA                       0.043883\n",
      "ANSERMA                        0.139039\n",
      "ANSERMANUEVO                   0.038135\n",
      "                                 ...   \n",
      "VELEZ                          0.066600\n",
      "VENADILLO                      0.033939\n",
      "VENTAQUEMADA                   0.032935\n",
      "VIGIA DEL FUERTE               0.012681\n",
      "VIGÍA DEL FUERTE               0.012043\n",
      "VILLA DE LEYVA                 0.069702\n",
      "VILLA DE SAN DIEGO DE UBATÉ    0.115318\n",
      "VILLA DEL ROSARIO              0.154092\n",
      "VILLA GUAMEZ (LA HORMIGA)      0.070523\n",
      "VILLAGARZON                    0.032935\n",
      "VILLAGARZÓN                    0.034577\n",
      "VILLANUEVA                     0.190403\n",
      "VILLAVICENCIO                  1.260291\n",
      "VILLETA                        0.092601\n",
      "VIOTA                          0.017334\n",
      "VIOTÁ                          0.016604\n",
      "VÉLEZ                          0.054557\n",
      "YARUMAL                        0.175715\n",
      "YAVARATE                       0.001186\n",
      "YAVARATÉ                       0.000821\n",
      "YOLOMBO                        0.020984\n",
      "YOLOMBÓ                        0.023264\n",
      "YOPAL                          0.518203\n",
      "YUMBO                          0.239942\n",
      "ZAPATOCA                       0.031293\n",
      "ZARAGOZA                       0.063681\n",
      "ZARZAL                         0.079464\n",
      "ZIPAQUIRA                      0.276071\n",
      "ZIPAQUIRÁ                      0.269228\n",
      "ÁBREGO                         0.025363\n",
      "Length: 640, dtype: float64\n"
     ]
    }
   ],
   "source": [
    "dg = data.groupby('ESTU_MCPIO_PRESENTACION').size()/data.shape[0] *100\n",
    "print(dg)"
   ]
  },
  {
   "cell_type": "code",
   "execution_count": 65,
   "metadata": {},
   "outputs": [
    {
     "name": "stdout",
     "output_type": "stream",
     "text": [
      "ESTU_DEPTO_PRESENTACION\n",
      "AMAZONAS            0.167230\n",
      "ANTIOQUIA          13.435137\n",
      "ARAUCA              0.598853\n",
      "ATLANTICO           5.915723\n",
      "BOGOTA             16.234801\n",
      "BOLIVAR             4.458186\n",
      "BOYACA              3.115694\n",
      "CALDAS              2.011868\n",
      "CAQUETA             0.799291\n",
      "CASANARE            1.066695\n",
      "CAUCA               2.490202\n",
      "CESAR               2.408366\n",
      "CHOCO               0.801298\n",
      "CORDOBA             3.565472\n",
      "CUNDINAMARCA        6.436571\n",
      "GUAINIA             0.045616\n",
      "GUAVIARE            0.192684\n",
      "HUILA               2.658435\n",
      "LA GUAJIRA          1.487005\n",
      "MAGDALENA           2.908869\n",
      "META                2.194151\n",
      "NARIÑO              3.054842\n",
      "NORTE SANTANDER     2.825026\n",
      "PUTUMAYO            0.806316\n",
      "QUINDIO             1.278446\n",
      "RISARALDA           1.909504\n",
      "SAN ANDRES          0.116048\n",
      "SANTANDER           4.706613\n",
      "SUCRE               1.944264\n",
      "TOLIMA              3.025830\n",
      "VALLE               7.182309\n",
      "VAUPES              0.068881\n",
      "VICHADA             0.089773\n",
      "dtype: float64\n"
     ]
    }
   ],
   "source": [
    "dg = data.groupby('ESTU_DEPTO_PRESENTACION').size()/data.shape[0] *100\n",
    "print(dg)"
   ]
  },
  {
   "cell_type": "code",
   "execution_count": 66,
   "metadata": {},
   "outputs": [
    {
     "name": "stdout",
     "output_type": "stream",
     "text": [
      "ESTU_COD_DEPTO_PRESENTACION\n",
      "5     13.435137\n",
      "8      5.915723\n",
      "11    16.234801\n",
      "13     4.458186\n",
      "15     3.115694\n",
      "17     2.011868\n",
      "18     0.799291\n",
      "19     2.490202\n",
      "20     2.408366\n",
      "23     3.565472\n",
      "25     6.436571\n",
      "27     0.801298\n",
      "41     2.658435\n",
      "44     1.487005\n",
      "47     2.908869\n",
      "50     2.194151\n",
      "52     3.054842\n",
      "54     2.825026\n",
      "63     1.278446\n",
      "66     1.909504\n",
      "68     4.706613\n",
      "70     1.944264\n",
      "73     3.025830\n",
      "76     7.182309\n",
      "81     0.598853\n",
      "85     1.066695\n",
      "86     0.806316\n",
      "88     0.116048\n",
      "91     0.167230\n",
      "94     0.045616\n",
      "95     0.192684\n",
      "97     0.068881\n",
      "99     0.089773\n",
      "dtype: float64\n"
     ]
    }
   ],
   "source": [
    "dg = data.groupby('ESTU_COD_DEPTO_PRESENTACION').size()/data.shape[0] *100\n",
    "print(dg)"
   ]
  },
  {
   "cell_type": "code",
   "execution_count": 67,
   "metadata": {},
   "outputs": [
    {
     "name": "stdout",
     "output_type": "stream",
     "text": [
      "ESTU_GENERO\n",
      "-     0.000456\n",
      "F    54.354546\n",
      "M    45.644998\n",
      "dtype: float64\n"
     ]
    }
   ],
   "source": [
    "dg = data.groupby('ESTU_GENERO').size()/data.shape[0] *100\n",
    "print(dg)"
   ]
  },
  {
   "cell_type": "code",
   "execution_count": 68,
   "metadata": {},
   "outputs": [
    {
     "name": "stdout",
     "output_type": "stream",
     "text": [
      "ESTU_FECHANACIMIENTO\n",
      "01/01/1900    0.007846\n",
      "01/01/1947    0.000091\n",
      "01/01/1958    0.000182\n",
      "01/01/1959    0.000091\n",
      "01/01/1960    0.000182\n",
      "01/01/1961    0.000182\n",
      "01/01/1962    0.000365\n",
      "01/01/1963    0.000091\n",
      "01/01/1964    0.000182\n",
      "01/01/1965    0.000182\n",
      "01/01/1966    0.000365\n",
      "01/01/1967    0.000182\n",
      "01/01/1968    0.000274\n",
      "01/01/1969    0.000091\n",
      "01/01/1971    0.000091\n",
      "01/01/1974    0.000365\n",
      "01/01/1975    0.000365\n",
      "01/01/1976    0.000456\n",
      "01/01/1977    0.000182\n",
      "01/01/1978    0.000091\n",
      "01/01/1979    0.000456\n",
      "01/01/1980    0.000365\n",
      "01/01/1981    0.000274\n",
      "01/01/1982    0.000274\n",
      "01/01/1983    0.000456\n",
      "01/01/1984    0.000456\n",
      "01/01/1985    0.000639\n",
      "01/01/1986    0.000821\n",
      "01/01/1987    0.000639\n",
      "01/01/1988    0.000730\n",
      "                ...   \n",
      "31/12/1974    0.000091\n",
      "31/12/1975    0.000091\n",
      "31/12/1976    0.000274\n",
      "31/12/1977    0.000182\n",
      "31/12/1978    0.000274\n",
      "31/12/1979    0.000365\n",
      "31/12/1980    0.000274\n",
      "31/12/1981    0.000456\n",
      "31/12/1982    0.000274\n",
      "31/12/1983    0.000639\n",
      "31/12/1984    0.000274\n",
      "31/12/1985    0.000182\n",
      "31/12/1987    0.000456\n",
      "31/12/1988    0.000274\n",
      "31/12/1989    0.000547\n",
      "31/12/1990    0.000456\n",
      "31/12/1991    0.000274\n",
      "31/12/1992    0.000639\n",
      "31/12/1993    0.000821\n",
      "31/12/1994    0.001004\n",
      "31/12/1995    0.002463\n",
      "31/12/1996    0.002828\n",
      "31/12/1997    0.007572\n",
      "31/12/1998    0.021531\n",
      "31/12/1999    0.049996\n",
      "31/12/2000    0.085668\n",
      "31/12/2001    0.062403\n",
      "31/12/2002    0.007299\n",
      "31/12/2003    0.000091\n",
      "31/12/2004    0.000091\n",
      "Length: 15060, dtype: float64\n"
     ]
    }
   ],
   "source": [
    "dg = data.groupby('ESTU_FECHANACIMIENTO').size()/data.shape[0] *100\n",
    "print(dg)"
   ]
  },
  {
   "cell_type": "code",
   "execution_count": 13,
   "metadata": {},
   "outputs": [
    {
     "name": "stdout",
     "output_type": "stream",
     "text": [
      "(15731, 80)\n"
     ]
    }
   ],
   "source": [
    "#PUNT_GLOBAL\n",
    "#dg = data.groupby(['ESTU_TIENEETNIA', 'FAMI_ESTRATOVIVIENDA' ]).size()\n",
    "dg = data[data['FAMI_ESTRATOVIVIENDA'] == 'Estrato 5']\n",
    "print(dg.shape)"
   ]
  },
  {
   "cell_type": "code",
   "execution_count": null,
   "metadata": {},
   "outputs": [],
   "source": []
  },
  {
   "cell_type": "code",
   "execution_count": 14,
   "metadata": {},
   "outputs": [
    {
     "name": "stdout",
     "output_type": "stream",
     "text": [
      "AxesSubplot(0.125,0.125;0.775x0.755)\n"
     ]
    },
    {
     "data": {
      "image/png": "[encoded data removed]",
      "text/plain": [
       "<Figure size 864x576 with 1 Axes>"
      ]
     },
     "metadata": {
      "needs_background": "light"
     },
     "output_type": "display_data"
    }
   ],
   "source": [
    "hist = data['PUNT_GLOBAL'].hist(bins=50, grid=False, figsize=(12,8), color='#86bf91', zorder=2, rwidth=0.9)\n",
    "print(hist)"
   ]
  },
  {
   "cell_type": "code",
   "execution_count": 15,
   "metadata": {},
   "outputs": [
    {
     "name": "stdout",
     "output_type": "stream",
     "text": [
      "AxesSubplot(0.125,0.125;0.775x0.755)\n"
     ]
    },
    {
     "data": {
      "image/png": "[encoded data removed]",
      "text/plain": [
       "<Figure size 864x576 with 1 Axes>"
      ]
     },
     "metadata": {
      "needs_background": "light"
     },
     "output_type": "display_data"
    }
   ],
   "source": [
    "hist = data['PUNT_INGLES'].hist(bins=50, grid=False, figsize=(12,8), color='#86bf91', zorder=2, rwidth=0.9)\n",
    "print(hist)"
   ]
  },
  {
   "cell_type": "code",
   "execution_count": 16,
   "metadata": {},
   "outputs": [
    {
     "name": "stdout",
     "output_type": "stream",
     "text": [
      "AxesSubplot(0.125,0.125;0.775x0.755)\n"
     ]
    },
    {
     "data": {
      "image/png": "[encoded data removed]",
      "text/plain": [
       "<Figure size 864x576 with 1 Axes>"
      ]
     },
     "metadata": {
      "needs_background": "light"
     },
     "output_type": "display_data"
    }
   ],
   "source": [
    "hist = data['PUNT_MATEMATICAS'].hist(bins=50, grid=False, figsize=(12,8), color='#86bf91', zorder=2, rwidth=0.9)\n",
    "print(hist)\n"
   ]
  },
  {
   "cell_type": "code",
   "execution_count": 17,
   "metadata": {},
   "outputs": [
    {
     "name": "stdout",
     "output_type": "stream",
     "text": [
      "AxesSubplot(0.125,0.125;0.775x0.755)\n",
      "(595778, 80)\n"
     ]
    },
    {
     "data": {
      "image/png": "[encoded data removed]",
      "text/plain": [
       "<Figure size 864x576 with 1 Axes>"
      ]
     },
     "metadata": {
      "needs_background": "light"
     },
     "output_type": "display_data"
    }
   ],
   "source": [
    "FeminasData = data[data['ESTU_GENERO'] == 'F']\n",
    "hist = FeminasData['PUNT_MATEMATICAS'].hist(bins=50, grid=False, figsize=(12,8), color='#86bf91', zorder=2, rwidth=0.9)\n",
    "print(hist)\n",
    "\n",
    "print(FeminasData.shape)\n",
    "#hist = data['PUNT_MATEMATICAS'].hist(bins=50, grid=False, figsize=(12,8), color='#86bf91', zorder=2, rwidth=0.9)"
   ]
  },
  {
   "cell_type": "code",
   "execution_count": 18,
   "metadata": {},
   "outputs": [
    {
     "name": "stdout",
     "output_type": "stream",
     "text": [
      "AxesSubplot(0.125,0.125;0.775x0.755)\n",
      "(500313, 80)\n"
     ]
    },
    {
     "data": {
      "image/png": "[encoded data removed]",
      "text/plain": [
       "<Figure size 864x576 with 1 Axes>"
      ]
     },
     "metadata": {
      "needs_background": "light"
     },
     "output_type": "display_data"
    }
   ],
   "source": [
    "MachosData = data[data['ESTU_GENERO'] == 'M']\n",
    "hist = MachosData['PUNT_MATEMATICAS'].hist(bins=50, grid=False, figsize=(12,8), color='#86bf91', zorder=2, rwidth=0.9)\n",
    "print(hist)\n",
    "print(MachosData.shape)\n"
   ]
  },
  {
   "cell_type": "code",
   "execution_count": 33,
   "metadata": {},
   "outputs": [
    {
     "ename": "KeyboardInterrupt",
     "evalue": "",
     "output_type": "error",
     "traceback": [
      "\u001b[1;31m---------------------------------------------------------------------------\u001b[0m",
      "\u001b[1;31mKeyboardInterrupt\u001b[0m                         Traceback (most recent call last)",
      "\u001b[1;32m<ipython-input-33-58a84e4d84f7>\u001b[0m in \u001b[0;36m<module>\u001b[1;34m\u001b[0m\n\u001b[1;32m----> 1\u001b[1;33m \u001b[0mhist\u001b[0m \u001b[1;33m=\u001b[0m \u001b[0mdata\u001b[0m\u001b[1;33m[\u001b[0m\u001b[1;34m'FAMI_ESTRATOVIVIENDA'\u001b[0m\u001b[1;33m]\u001b[0m\u001b[1;33m.\u001b[0m\u001b[0mhist\u001b[0m\u001b[1;33m(\u001b[0m\u001b[1;33m)\u001b[0m\u001b[1;31m#bins=6, grid=False, figsize=(12,8), color='#86bf91', zorder=2, rwidth=0.9)\u001b[0m\u001b[1;33m\u001b[0m\u001b[1;33m\u001b[0m\u001b[0m\n\u001b[0m\u001b[0;32m      2\u001b[0m \u001b[0mprint\u001b[0m\u001b[1;33m(\u001b[0m\u001b[0mhist\u001b[0m\u001b[1;33m)\u001b[0m\u001b[1;33m\u001b[0m\u001b[1;33m\u001b[0m\u001b[0m\n",
      "\u001b[1;32m~\\Anaconda3\\lib\\site-packages\\pandas\\plotting\\_core.py\u001b[0m in \u001b[0;36mhist_series\u001b[1;34m(self, by, ax, grid, xlabelsize, xrot, ylabelsize, yrot, figsize, bins, **kwds)\u001b[0m\n\u001b[0;32m   2475\u001b[0m         \u001b[0mvalues\u001b[0m \u001b[1;33m=\u001b[0m \u001b[0mself\u001b[0m\u001b[1;33m.\u001b[0m\u001b[0mdropna\u001b[0m\u001b[1;33m(\u001b[0m\u001b[1;33m)\u001b[0m\u001b[1;33m.\u001b[0m\u001b[0mvalues\u001b[0m\u001b[1;33m\u001b[0m\u001b[1;33m\u001b[0m\u001b[0m\n\u001b[0;32m   2476\u001b[0m \u001b[1;33m\u001b[0m\u001b[0m\n\u001b[1;32m-> 2477\u001b[1;33m         \u001b[0max\u001b[0m\u001b[1;33m.\u001b[0m\u001b[0mhist\u001b[0m\u001b[1;33m(\u001b[0m\u001b[0mvalues\u001b[0m\u001b[1;33m,\u001b[0m \u001b[0mbins\u001b[0m\u001b[1;33m=\u001b[0m\u001b[0mbins\u001b[0m\u001b[1;33m,\u001b[0m \u001b[1;33m**\u001b[0m\u001b[0mkwds\u001b[0m\u001b[1;33m)\u001b[0m\u001b[1;33m\u001b[0m\u001b[1;33m\u001b[0m\u001b[0m\n\u001b[0m\u001b[0;32m   2478\u001b[0m         \u001b[0max\u001b[0m\u001b[1;33m.\u001b[0m\u001b[0mgrid\u001b[0m\u001b[1;33m(\u001b[0m\u001b[0mgrid\u001b[0m\u001b[1;33m)\u001b[0m\u001b[1;33m\u001b[0m\u001b[1;33m\u001b[0m\u001b[0m\n\u001b[0;32m   2479\u001b[0m         \u001b[0maxes\u001b[0m \u001b[1;33m=\u001b[0m \u001b[0mnp\u001b[0m\u001b[1;33m.\u001b[0m\u001b[0marray\u001b[0m\u001b[1;33m(\u001b[0m\u001b[1;33m[\u001b[0m\u001b[0max\u001b[0m\u001b[1;33m]\u001b[0m\u001b[1;33m)\u001b[0m\u001b[1;33m\u001b[0m\u001b[1;33m\u001b[0m\u001b[0m\n",
      "\u001b[1;32m~\\Anaconda3\\lib\\site-packages\\matplotlib\\__init__.py\u001b[0m in \u001b[0;36minner\u001b[1;34m(ax, data, *args, **kwargs)\u001b[0m\n\u001b[0;32m   1587\u001b[0m     \u001b[1;32mdef\u001b[0m \u001b[0minner\u001b[0m\u001b[1;33m(\u001b[0m\u001b[0max\u001b[0m\u001b[1;33m,\u001b[0m \u001b[1;33m*\u001b[0m\u001b[0margs\u001b[0m\u001b[1;33m,\u001b[0m \u001b[0mdata\u001b[0m\u001b[1;33m=\u001b[0m\u001b[1;32mNone\u001b[0m\u001b[1;33m,\u001b[0m \u001b[1;33m**\u001b[0m\u001b[0mkwargs\u001b[0m\u001b[1;33m)\u001b[0m\u001b[1;33m:\u001b[0m\u001b[1;33m\u001b[0m\u001b[1;33m\u001b[0m\u001b[0m\n\u001b[0;32m   1588\u001b[0m         \u001b[1;32mif\u001b[0m \u001b[0mdata\u001b[0m \u001b[1;32mis\u001b[0m \u001b[1;32mNone\u001b[0m\u001b[1;33m:\u001b[0m\u001b[1;33m\u001b[0m\u001b[1;33m\u001b[0m\u001b[0m\n\u001b[1;32m-> 1589\u001b[1;33m             \u001b[1;32mreturn\u001b[0m \u001b[0mfunc\u001b[0m\u001b[1;33m(\u001b[0m\u001b[0max\u001b[0m\u001b[1;33m,\u001b[0m \u001b[1;33m*\u001b[0m\u001b[0mmap\u001b[0m\u001b[1;33m(\u001b[0m\u001b[0msanitize_sequence\u001b[0m\u001b[1;33m,\u001b[0m \u001b[0margs\u001b[0m\u001b[1;33m)\u001b[0m\u001b[1;33m,\u001b[0m \u001b[1;33m**\u001b[0m\u001b[0mkwargs\u001b[0m\u001b[1;33m)\u001b[0m\u001b[1;33m\u001b[0m\u001b[1;33m\u001b[0m\u001b[0m\n\u001b[0m\u001b[0;32m   1590\u001b[0m \u001b[1;33m\u001b[0m\u001b[0m\n\u001b[0;32m   1591\u001b[0m         \u001b[0mbound\u001b[0m \u001b[1;33m=\u001b[0m \u001b[0mnew_sig\u001b[0m\u001b[1;33m.\u001b[0m\u001b[0mbind\u001b[0m\u001b[1;33m(\u001b[0m\u001b[0max\u001b[0m\u001b[1;33m,\u001b[0m \u001b[1;33m*\u001b[0m\u001b[0margs\u001b[0m\u001b[1;33m,\u001b[0m \u001b[1;33m**\u001b[0m\u001b[0mkwargs\u001b[0m\u001b[1;33m)\u001b[0m\u001b[1;33m\u001b[0m\u001b[1;33m\u001b[0m\u001b[0m\n",
      "\u001b[1;32m~\\Anaconda3\\lib\\site-packages\\matplotlib\\axes\\_axes.py\u001b[0m in \u001b[0;36mhist\u001b[1;34m(self, x, bins, range, density, weights, cumulative, bottom, histtype, align, orientation, rwidth, log, color, label, stacked, normed, **kwargs)\u001b[0m\n\u001b[0;32m   6827\u001b[0m                 patch = _barfunc(bins[:-1]+boffset, height, width,\n\u001b[0;32m   6828\u001b[0m                                  \u001b[0malign\u001b[0m\u001b[1;33m=\u001b[0m\u001b[1;34m'center'\u001b[0m\u001b[1;33m,\u001b[0m \u001b[0mlog\u001b[0m\u001b[1;33m=\u001b[0m\u001b[0mlog\u001b[0m\u001b[1;33m,\u001b[0m\u001b[1;33m\u001b[0m\u001b[1;33m\u001b[0m\u001b[0m\n\u001b[1;32m-> 6829\u001b[1;33m                                  color=c, **{bottom_kwarg: bottom})\n\u001b[0m\u001b[0;32m   6830\u001b[0m                 \u001b[0mpatches\u001b[0m\u001b[1;33m.\u001b[0m\u001b[0mappend\u001b[0m\u001b[1;33m(\u001b[0m\u001b[0mpatch\u001b[0m\u001b[1;33m)\u001b[0m\u001b[1;33m\u001b[0m\u001b[1;33m\u001b[0m\u001b[0m\n\u001b[0;32m   6831\u001b[0m                 \u001b[1;32mif\u001b[0m \u001b[0mstacked\u001b[0m\u001b[1;33m:\u001b[0m\u001b[1;33m\u001b[0m\u001b[1;33m\u001b[0m\u001b[0m\n",
      "\u001b[1;32m~\\Anaconda3\\lib\\site-packages\\matplotlib\\__init__.py\u001b[0m in \u001b[0;36minner\u001b[1;34m(ax, data, *args, **kwargs)\u001b[0m\n\u001b[0;32m   1587\u001b[0m     \u001b[1;32mdef\u001b[0m \u001b[0minner\u001b[0m\u001b[1;33m(\u001b[0m\u001b[0max\u001b[0m\u001b[1;33m,\u001b[0m \u001b[1;33m*\u001b[0m\u001b[0margs\u001b[0m\u001b[1;33m,\u001b[0m \u001b[0mdata\u001b[0m\u001b[1;33m=\u001b[0m\u001b[1;32mNone\u001b[0m\u001b[1;33m,\u001b[0m \u001b[1;33m**\u001b[0m\u001b[0mkwargs\u001b[0m\u001b[1;33m)\u001b[0m\u001b[1;33m:\u001b[0m\u001b[1;33m\u001b[0m\u001b[1;33m\u001b[0m\u001b[0m\n\u001b[0;32m   1588\u001b[0m         \u001b[1;32mif\u001b[0m \u001b[0mdata\u001b[0m \u001b[1;32mis\u001b[0m \u001b[1;32mNone\u001b[0m\u001b[1;33m:\u001b[0m\u001b[1;33m\u001b[0m\u001b[1;33m\u001b[0m\u001b[0m\n\u001b[1;32m-> 1589\u001b[1;33m             \u001b[1;32mreturn\u001b[0m \u001b[0mfunc\u001b[0m\u001b[1;33m(\u001b[0m\u001b[0max\u001b[0m\u001b[1;33m,\u001b[0m \u001b[1;33m*\u001b[0m\u001b[0mmap\u001b[0m\u001b[1;33m(\u001b[0m\u001b[0msanitize_sequence\u001b[0m\u001b[1;33m,\u001b[0m \u001b[0margs\u001b[0m\u001b[1;33m)\u001b[0m\u001b[1;33m,\u001b[0m \u001b[1;33m**\u001b[0m\u001b[0mkwargs\u001b[0m\u001b[1;33m)\u001b[0m\u001b[1;33m\u001b[0m\u001b[1;33m\u001b[0m\u001b[0m\n\u001b[0m\u001b[0;32m   1590\u001b[0m \u001b[1;33m\u001b[0m\u001b[0m\n\u001b[0;32m   1591\u001b[0m         \u001b[0mbound\u001b[0m \u001b[1;33m=\u001b[0m \u001b[0mnew_sig\u001b[0m\u001b[1;33m.\u001b[0m\u001b[0mbind\u001b[0m\u001b[1;33m(\u001b[0m\u001b[0max\u001b[0m\u001b[1;33m,\u001b[0m \u001b[1;33m*\u001b[0m\u001b[0margs\u001b[0m\u001b[1;33m,\u001b[0m \u001b[1;33m**\u001b[0m\u001b[0mkwargs\u001b[0m\u001b[1;33m)\u001b[0m\u001b[1;33m\u001b[0m\u001b[1;33m\u001b[0m\u001b[0m\n",
      "\u001b[1;32m~\\Anaconda3\\lib\\site-packages\\matplotlib\\axes\\_axes.py\u001b[0m in \u001b[0;36mbar\u001b[1;34m(self, x, height, width, bottom, align, **kwargs)\u001b[0m\n\u001b[0;32m   2436\u001b[0m             \u001b[1;32melif\u001b[0m \u001b[0morientation\u001b[0m \u001b[1;33m==\u001b[0m \u001b[1;34m'horizontal'\u001b[0m\u001b[1;33m:\u001b[0m\u001b[1;33m\u001b[0m\u001b[1;33m\u001b[0m\u001b[0m\n\u001b[0;32m   2437\u001b[0m                 \u001b[0mr\u001b[0m\u001b[1;33m.\u001b[0m\u001b[0msticky_edges\u001b[0m\u001b[1;33m.\u001b[0m\u001b[0mx\u001b[0m\u001b[1;33m.\u001b[0m\u001b[0mappend\u001b[0m\u001b[1;33m(\u001b[0m\u001b[0ml\u001b[0m\u001b[1;33m)\u001b[0m\u001b[1;33m\u001b[0m\u001b[1;33m\u001b[0m\u001b[0m\n\u001b[1;32m-> 2438\u001b[1;33m             \u001b[0mself\u001b[0m\u001b[1;33m.\u001b[0m\u001b[0madd_patch\u001b[0m\u001b[1;33m(\u001b[0m\u001b[0mr\u001b[0m\u001b[1;33m)\u001b[0m\u001b[1;33m\u001b[0m\u001b[1;33m\u001b[0m\u001b[0m\n\u001b[0m\u001b[0;32m   2439\u001b[0m             \u001b[0mpatches\u001b[0m\u001b[1;33m.\u001b[0m\u001b[0mappend\u001b[0m\u001b[1;33m(\u001b[0m\u001b[0mr\u001b[0m\u001b[1;33m)\u001b[0m\u001b[1;33m\u001b[0m\u001b[1;33m\u001b[0m\u001b[0m\n\u001b[0;32m   2440\u001b[0m \u001b[1;33m\u001b[0m\u001b[0m\n",
      "\u001b[1;32m~\\Anaconda3\\lib\\site-packages\\matplotlib\\axes\\_base.py\u001b[0m in \u001b[0;36madd_patch\u001b[1;34m(self, p)\u001b[0m\n\u001b[0;32m   1966\u001b[0m         \u001b[0mself\u001b[0m\u001b[1;33m.\u001b[0m\u001b[0m_set_artist_props\u001b[0m\u001b[1;33m(\u001b[0m\u001b[0mp\u001b[0m\u001b[1;33m)\u001b[0m\u001b[1;33m\u001b[0m\u001b[1;33m\u001b[0m\u001b[0m\n\u001b[0;32m   1967\u001b[0m         \u001b[1;32mif\u001b[0m \u001b[0mp\u001b[0m\u001b[1;33m.\u001b[0m\u001b[0mget_clip_path\u001b[0m\u001b[1;33m(\u001b[0m\u001b[1;33m)\u001b[0m \u001b[1;32mis\u001b[0m \u001b[1;32mNone\u001b[0m\u001b[1;33m:\u001b[0m\u001b[1;33m\u001b[0m\u001b[1;33m\u001b[0m\u001b[0m\n\u001b[1;32m-> 1968\u001b[1;33m             \u001b[0mp\u001b[0m\u001b[1;33m.\u001b[0m\u001b[0mset_clip_path\u001b[0m\u001b[1;33m(\u001b[0m\u001b[0mself\u001b[0m\u001b[1;33m.\u001b[0m\u001b[0mpatch\u001b[0m\u001b[1;33m)\u001b[0m\u001b[1;33m\u001b[0m\u001b[1;33m\u001b[0m\u001b[0m\n\u001b[0m\u001b[0;32m   1969\u001b[0m         \u001b[0mself\u001b[0m\u001b[1;33m.\u001b[0m\u001b[0m_update_patch_limits\u001b[0m\u001b[1;33m(\u001b[0m\u001b[0mp\u001b[0m\u001b[1;33m)\u001b[0m\u001b[1;33m\u001b[0m\u001b[1;33m\u001b[0m\u001b[0m\n\u001b[0;32m   1970\u001b[0m         \u001b[0mself\u001b[0m\u001b[1;33m.\u001b[0m\u001b[0mpatches\u001b[0m\u001b[1;33m.\u001b[0m\u001b[0mappend\u001b[0m\u001b[1;33m(\u001b[0m\u001b[0mp\u001b[0m\u001b[1;33m)\u001b[0m\u001b[1;33m\u001b[0m\u001b[1;33m\u001b[0m\u001b[0m\n",
      "\u001b[1;32m~\\Anaconda3\\lib\\site-packages\\matplotlib\\artist.py\u001b[0m in \u001b[0;36mset_clip_path\u001b[1;34m(self, path, transform)\u001b[0m\n\u001b[0;32m    713\u001b[0m             \u001b[1;32mif\u001b[0m \u001b[0misinstance\u001b[0m\u001b[1;33m(\u001b[0m\u001b[0mpath\u001b[0m\u001b[1;33m,\u001b[0m \u001b[0mRectangle\u001b[0m\u001b[1;33m)\u001b[0m\u001b[1;33m:\u001b[0m\u001b[1;33m\u001b[0m\u001b[1;33m\u001b[0m\u001b[0m\n\u001b[0;32m    714\u001b[0m                 self.clipbox = TransformedBbox(Bbox.unit(),\n\u001b[1;32m--> 715\u001b[1;33m                                                path.get_transform())\n\u001b[0m\u001b[0;32m    716\u001b[0m                 \u001b[0mself\u001b[0m\u001b[1;33m.\u001b[0m\u001b[0m_clippath\u001b[0m \u001b[1;33m=\u001b[0m \u001b[1;32mNone\u001b[0m\u001b[1;33m\u001b[0m\u001b[1;33m\u001b[0m\u001b[0m\n\u001b[0;32m    717\u001b[0m                 \u001b[0msuccess\u001b[0m \u001b[1;33m=\u001b[0m \u001b[1;32mTrue\u001b[0m\u001b[1;33m\u001b[0m\u001b[1;33m\u001b[0m\u001b[0m\n",
      "\u001b[1;32m~\\Anaconda3\\lib\\site-packages\\matplotlib\\patches.py\u001b[0m in \u001b[0;36mget_transform\u001b[1;34m(self)\u001b[0m\n\u001b[0;32m    212\u001b[0m         \u001b[0mto\u001b[0m \u001b[0mthe\u001b[0m \u001b[1;33m:\u001b[0m\u001b[1;32mclass\u001b[0m\u001b[1;33m:\u001b[0m\u001b[0;31m`\u001b[0m\u001b[0mPatch\u001b[0m\u001b[0;31m`\u001b[0m\u001b[1;33m.\u001b[0m\u001b[1;33m\u001b[0m\u001b[1;33m\u001b[0m\u001b[0m\n\u001b[0;32m    213\u001b[0m         \"\"\"\n\u001b[1;32m--> 214\u001b[1;33m         \u001b[1;32mreturn\u001b[0m \u001b[0mself\u001b[0m\u001b[1;33m.\u001b[0m\u001b[0mget_patch_transform\u001b[0m\u001b[1;33m(\u001b[0m\u001b[1;33m)\u001b[0m \u001b[1;33m+\u001b[0m \u001b[0martist\u001b[0m\u001b[1;33m.\u001b[0m\u001b[0mArtist\u001b[0m\u001b[1;33m.\u001b[0m\u001b[0mget_transform\u001b[0m\u001b[1;33m(\u001b[0m\u001b[0mself\u001b[0m\u001b[1;33m)\u001b[0m\u001b[1;33m\u001b[0m\u001b[1;33m\u001b[0m\u001b[0m\n\u001b[0m\u001b[0;32m    215\u001b[0m \u001b[1;33m\u001b[0m\u001b[0m\n\u001b[0;32m    216\u001b[0m     \u001b[1;32mdef\u001b[0m \u001b[0mget_data_transform\u001b[0m\u001b[1;33m(\u001b[0m\u001b[0mself\u001b[0m\u001b[1;33m)\u001b[0m\u001b[1;33m:\u001b[0m\u001b[1;33m\u001b[0m\u001b[1;33m\u001b[0m\u001b[0m\n",
      "\u001b[1;32m~\\Anaconda3\\lib\\site-packages\\matplotlib\\patches.py\u001b[0m in \u001b[0;36mget_patch_transform\u001b[1;34m(self)\u001b[0m\n\u001b[0;32m    756\u001b[0m \u001b[1;33m\u001b[0m\u001b[0m\n\u001b[0;32m    757\u001b[0m     \u001b[1;32mdef\u001b[0m \u001b[0mget_patch_transform\u001b[0m\u001b[1;33m(\u001b[0m\u001b[0mself\u001b[0m\u001b[1;33m)\u001b[0m\u001b[1;33m:\u001b[0m\u001b[1;33m\u001b[0m\u001b[1;33m\u001b[0m\u001b[0m\n\u001b[1;32m--> 758\u001b[1;33m         \u001b[0mself\u001b[0m\u001b[1;33m.\u001b[0m\u001b[0m_update_patch_transform\u001b[0m\u001b[1;33m(\u001b[0m\u001b[1;33m)\u001b[0m\u001b[1;33m\u001b[0m\u001b[1;33m\u001b[0m\u001b[0m\n\u001b[0m\u001b[0;32m    759\u001b[0m         \u001b[1;32mreturn\u001b[0m \u001b[0mself\u001b[0m\u001b[1;33m.\u001b[0m\u001b[0m_rect_transform\u001b[0m\u001b[1;33m\u001b[0m\u001b[1;33m\u001b[0m\u001b[0m\n\u001b[0;32m    760\u001b[0m \u001b[1;33m\u001b[0m\u001b[0m\n",
      "\u001b[1;32m~\\Anaconda3\\lib\\site-packages\\matplotlib\\patches.py\u001b[0m in \u001b[0;36m_update_patch_transform\u001b[1;34m(self)\u001b[0m\n\u001b[0;32m    735\u001b[0m         \u001b[0mbbox\u001b[0m \u001b[1;33m=\u001b[0m \u001b[0mtransforms\u001b[0m\u001b[1;33m.\u001b[0m\u001b[0mBbox\u001b[0m\u001b[1;33m.\u001b[0m\u001b[0mfrom_extents\u001b[0m\u001b[1;33m(\u001b[0m\u001b[0mx0\u001b[0m\u001b[1;33m,\u001b[0m \u001b[0my0\u001b[0m\u001b[1;33m,\u001b[0m \u001b[0mx1\u001b[0m\u001b[1;33m,\u001b[0m \u001b[0my1\u001b[0m\u001b[1;33m)\u001b[0m\u001b[1;33m\u001b[0m\u001b[1;33m\u001b[0m\u001b[0m\n\u001b[0;32m    736\u001b[0m         \u001b[0mrot_trans\u001b[0m \u001b[1;33m=\u001b[0m \u001b[0mtransforms\u001b[0m\u001b[1;33m.\u001b[0m\u001b[0mAffine2D\u001b[0m\u001b[1;33m(\u001b[0m\u001b[1;33m)\u001b[0m\u001b[1;33m\u001b[0m\u001b[1;33m\u001b[0m\u001b[0m\n\u001b[1;32m--> 737\u001b[1;33m         \u001b[0mrot_trans\u001b[0m\u001b[1;33m.\u001b[0m\u001b[0mrotate_deg_around\u001b[0m\u001b[1;33m(\u001b[0m\u001b[0mx0\u001b[0m\u001b[1;33m,\u001b[0m \u001b[0my0\u001b[0m\u001b[1;33m,\u001b[0m \u001b[0mself\u001b[0m\u001b[1;33m.\u001b[0m\u001b[0mangle\u001b[0m\u001b[1;33m)\u001b[0m\u001b[1;33m\u001b[0m\u001b[1;33m\u001b[0m\u001b[0m\n\u001b[0m\u001b[0;32m    738\u001b[0m         \u001b[0mself\u001b[0m\u001b[1;33m.\u001b[0m\u001b[0m_rect_transform\u001b[0m \u001b[1;33m=\u001b[0m \u001b[0mtransforms\u001b[0m\u001b[1;33m.\u001b[0m\u001b[0mBboxTransformTo\u001b[0m\u001b[1;33m(\u001b[0m\u001b[0mbbox\u001b[0m\u001b[1;33m)\u001b[0m\u001b[1;33m\u001b[0m\u001b[1;33m\u001b[0m\u001b[0m\n\u001b[0;32m    739\u001b[0m         \u001b[0mself\u001b[0m\u001b[1;33m.\u001b[0m\u001b[0m_rect_transform\u001b[0m \u001b[1;33m+=\u001b[0m \u001b[0mrot_trans\u001b[0m\u001b[1;33m\u001b[0m\u001b[1;33m\u001b[0m\u001b[0m\n",
      "\u001b[1;32m~\\Anaconda3\\lib\\site-packages\\matplotlib\\transforms.py\u001b[0m in \u001b[0;36mrotate_deg_around\u001b[1;34m(self, x, y, degrees)\u001b[0m\n\u001b[0;32m   1958\u001b[0m         \u001b[1;31m# Cast to float to avoid wraparound issues with uint8's\u001b[0m\u001b[1;33m\u001b[0m\u001b[1;33m\u001b[0m\u001b[1;33m\u001b[0m\u001b[0m\n\u001b[0;32m   1959\u001b[0m         \u001b[0mx\u001b[0m\u001b[1;33m,\u001b[0m \u001b[0my\u001b[0m \u001b[1;33m=\u001b[0m \u001b[0mfloat\u001b[0m\u001b[1;33m(\u001b[0m\u001b[0mx\u001b[0m\u001b[1;33m)\u001b[0m\u001b[1;33m,\u001b[0m \u001b[0mfloat\u001b[0m\u001b[1;33m(\u001b[0m\u001b[0my\u001b[0m\u001b[1;33m)\u001b[0m\u001b[1;33m\u001b[0m\u001b[1;33m\u001b[0m\u001b[0m\n\u001b[1;32m-> 1960\u001b[1;33m         \u001b[1;32mreturn\u001b[0m \u001b[0mself\u001b[0m\u001b[1;33m.\u001b[0m\u001b[0mtranslate\u001b[0m\u001b[1;33m(\u001b[0m\u001b[1;33m-\u001b[0m\u001b[0mx\u001b[0m\u001b[1;33m,\u001b[0m \u001b[1;33m-\u001b[0m\u001b[0my\u001b[0m\u001b[1;33m)\u001b[0m\u001b[1;33m.\u001b[0m\u001b[0mrotate_deg\u001b[0m\u001b[1;33m(\u001b[0m\u001b[0mdegrees\u001b[0m\u001b[1;33m)\u001b[0m\u001b[1;33m.\u001b[0m\u001b[0mtranslate\u001b[0m\u001b[1;33m(\u001b[0m\u001b[0mx\u001b[0m\u001b[1;33m,\u001b[0m \u001b[0my\u001b[0m\u001b[1;33m)\u001b[0m\u001b[1;33m\u001b[0m\u001b[1;33m\u001b[0m\u001b[0m\n\u001b[0m\u001b[0;32m   1961\u001b[0m \u001b[1;33m\u001b[0m\u001b[0m\n\u001b[0;32m   1962\u001b[0m     \u001b[1;32mdef\u001b[0m \u001b[0mtranslate\u001b[0m\u001b[1;33m(\u001b[0m\u001b[0mself\u001b[0m\u001b[1;33m,\u001b[0m \u001b[0mtx\u001b[0m\u001b[1;33m,\u001b[0m \u001b[0mty\u001b[0m\u001b[1;33m)\u001b[0m\u001b[1;33m:\u001b[0m\u001b[1;33m\u001b[0m\u001b[1;33m\u001b[0m\u001b[0m\n",
      "\u001b[1;32m~\\Anaconda3\\lib\\site-packages\\matplotlib\\transforms.py\u001b[0m in \u001b[0;36mtranslate\u001b[1;34m(self, tx, ty)\u001b[0m\n\u001b[0;32m   1970\u001b[0m         translate_mtx = np.array(\n\u001b[0;32m   1971\u001b[0m             [[1.0, 0.0, tx], [0.0, 1.0, ty], [0.0, 0.0, 1.0]], float)\n\u001b[1;32m-> 1972\u001b[1;33m         \u001b[0mself\u001b[0m\u001b[1;33m.\u001b[0m\u001b[0m_mtx\u001b[0m \u001b[1;33m=\u001b[0m \u001b[0mnp\u001b[0m\u001b[1;33m.\u001b[0m\u001b[0mdot\u001b[0m\u001b[1;33m(\u001b[0m\u001b[0mtranslate_mtx\u001b[0m\u001b[1;33m,\u001b[0m \u001b[0mself\u001b[0m\u001b[1;33m.\u001b[0m\u001b[0m_mtx\u001b[0m\u001b[1;33m)\u001b[0m\u001b[1;33m\u001b[0m\u001b[1;33m\u001b[0m\u001b[0m\n\u001b[0m\u001b[0;32m   1973\u001b[0m         \u001b[0mself\u001b[0m\u001b[1;33m.\u001b[0m\u001b[0minvalidate\u001b[0m\u001b[1;33m(\u001b[0m\u001b[1;33m)\u001b[0m\u001b[1;33m\u001b[0m\u001b[1;33m\u001b[0m\u001b[0m\n\u001b[0;32m   1974\u001b[0m         \u001b[1;32mreturn\u001b[0m \u001b[0mself\u001b[0m\u001b[1;33m\u001b[0m\u001b[1;33m\u001b[0m\u001b[0m\n",
      "\u001b[1;31mKeyboardInterrupt\u001b[0m: "
     ]
    },
    {
     "name": "stdout",
     "output_type": "stream",
     "text": [
      "Error in callback <function install_repl_displayhook.<locals>.post_execute at 0x0000029AF38F4D08> (for post_execute):\n"
     ]
    },
    {
     "ename": "KeyboardInterrupt",
     "evalue": "",
     "output_type": "error",
     "traceback": [
      "\u001b[1;31m---------------------------------------------------------------------------\u001b[0m",
      "\u001b[1;31mKeyboardInterrupt\u001b[0m                         Traceback (most recent call last)",
      "\u001b[1;32m~\\Anaconda3\\lib\\site-packages\\matplotlib\\pyplot.py\u001b[0m in \u001b[0;36mpost_execute\u001b[1;34m()\u001b[0m\n\u001b[0;32m    107\u001b[0m             \u001b[1;32mdef\u001b[0m \u001b[0mpost_execute\u001b[0m\u001b[1;33m(\u001b[0m\u001b[1;33m)\u001b[0m\u001b[1;33m:\u001b[0m\u001b[1;33m\u001b[0m\u001b[1;33m\u001b[0m\u001b[0m\n\u001b[0;32m    108\u001b[0m                 \u001b[1;32mif\u001b[0m \u001b[0mmatplotlib\u001b[0m\u001b[1;33m.\u001b[0m\u001b[0mis_interactive\u001b[0m\u001b[1;33m(\u001b[0m\u001b[1;33m)\u001b[0m\u001b[1;33m:\u001b[0m\u001b[1;33m\u001b[0m\u001b[1;33m\u001b[0m\u001b[0m\n\u001b[1;32m--> 109\u001b[1;33m                     \u001b[0mdraw_all\u001b[0m\u001b[1;33m(\u001b[0m\u001b[1;33m)\u001b[0m\u001b[1;33m\u001b[0m\u001b[1;33m\u001b[0m\u001b[0m\n\u001b[0m\u001b[0;32m    110\u001b[0m \u001b[1;33m\u001b[0m\u001b[0m\n\u001b[0;32m    111\u001b[0m             \u001b[1;31m# IPython >= 2\u001b[0m\u001b[1;33m\u001b[0m\u001b[1;33m\u001b[0m\u001b[1;33m\u001b[0m\u001b[0m\n",
      "\u001b[1;32m~\\Anaconda3\\lib\\site-packages\\matplotlib\\_pylab_helpers.py\u001b[0m in \u001b[0;36mdraw_all\u001b[1;34m(cls, force)\u001b[0m\n\u001b[0;32m    126\u001b[0m         \u001b[1;32mfor\u001b[0m \u001b[0mf_mgr\u001b[0m \u001b[1;32min\u001b[0m \u001b[0mcls\u001b[0m\u001b[1;33m.\u001b[0m\u001b[0mget_all_fig_managers\u001b[0m\u001b[1;33m(\u001b[0m\u001b[1;33m)\u001b[0m\u001b[1;33m:\u001b[0m\u001b[1;33m\u001b[0m\u001b[1;33m\u001b[0m\u001b[0m\n\u001b[0;32m    127\u001b[0m             \u001b[1;32mif\u001b[0m \u001b[0mforce\u001b[0m \u001b[1;32mor\u001b[0m \u001b[0mf_mgr\u001b[0m\u001b[1;33m.\u001b[0m\u001b[0mcanvas\u001b[0m\u001b[1;33m.\u001b[0m\u001b[0mfigure\u001b[0m\u001b[1;33m.\u001b[0m\u001b[0mstale\u001b[0m\u001b[1;33m:\u001b[0m\u001b[1;33m\u001b[0m\u001b[1;33m\u001b[0m\u001b[0m\n\u001b[1;32m--> 128\u001b[1;33m                 \u001b[0mf_mgr\u001b[0m\u001b[1;33m.\u001b[0m\u001b[0mcanvas\u001b[0m\u001b[1;33m.\u001b[0m\u001b[0mdraw_idle\u001b[0m\u001b[1;33m(\u001b[0m\u001b[1;33m)\u001b[0m\u001b[1;33m\u001b[0m\u001b[1;33m\u001b[0m\u001b[0m\n\u001b[0m\u001b[0;32m    129\u001b[0m \u001b[1;33m\u001b[0m\u001b[0m\n\u001b[0;32m    130\u001b[0m \u001b[0matexit\u001b[0m\u001b[1;33m.\u001b[0m\u001b[0mregister\u001b[0m\u001b[1;33m(\u001b[0m\u001b[0mGcf\u001b[0m\u001b[1;33m.\u001b[0m\u001b[0mdestroy_all\u001b[0m\u001b[1;33m)\u001b[0m\u001b[1;33m\u001b[0m\u001b[1;33m\u001b[0m\u001b[0m\n",
      "\u001b[1;32m~\\Anaconda3\\lib\\site-packages\\matplotlib\\backend_bases.py\u001b[0m in \u001b[0;36mdraw_idle\u001b[1;34m(self, *args, **kwargs)\u001b[0m\n\u001b[0;32m   1905\u001b[0m         \u001b[1;32mif\u001b[0m \u001b[1;32mnot\u001b[0m \u001b[0mself\u001b[0m\u001b[1;33m.\u001b[0m\u001b[0m_is_idle_drawing\u001b[0m\u001b[1;33m:\u001b[0m\u001b[1;33m\u001b[0m\u001b[1;33m\u001b[0m\u001b[0m\n\u001b[0;32m   1906\u001b[0m             \u001b[1;32mwith\u001b[0m \u001b[0mself\u001b[0m\u001b[1;33m.\u001b[0m\u001b[0m_idle_draw_cntx\u001b[0m\u001b[1;33m(\u001b[0m\u001b[1;33m)\u001b[0m\u001b[1;33m:\u001b[0m\u001b[1;33m\u001b[0m\u001b[1;33m\u001b[0m\u001b[0m\n\u001b[1;32m-> 1907\u001b[1;33m                 \u001b[0mself\u001b[0m\u001b[1;33m.\u001b[0m\u001b[0mdraw\u001b[0m\u001b[1;33m(\u001b[0m\u001b[1;33m*\u001b[0m\u001b[0margs\u001b[0m\u001b[1;33m,\u001b[0m \u001b[1;33m**\u001b[0m\u001b[0mkwargs\u001b[0m\u001b[1;33m)\u001b[0m\u001b[1;33m\u001b[0m\u001b[1;33m\u001b[0m\u001b[0m\n\u001b[0m\u001b[0;32m   1908\u001b[0m \u001b[1;33m\u001b[0m\u001b[0m\n\u001b[0;32m   1909\u001b[0m     \u001b[1;32mdef\u001b[0m \u001b[0mdraw_cursor\u001b[0m\u001b[1;33m(\u001b[0m\u001b[0mself\u001b[0m\u001b[1;33m,\u001b[0m \u001b[0mevent\u001b[0m\u001b[1;33m)\u001b[0m\u001b[1;33m:\u001b[0m\u001b[1;33m\u001b[0m\u001b[1;33m\u001b[0m\u001b[0m\n",
      "\u001b[1;32m~\\Anaconda3\\lib\\site-packages\\matplotlib\\backends\\backend_agg.py\u001b[0m in \u001b[0;36mdraw\u001b[1;34m(self)\u001b[0m\n\u001b[0;32m    386\u001b[0m         \u001b[0mself\u001b[0m\u001b[1;33m.\u001b[0m\u001b[0mrenderer\u001b[0m \u001b[1;33m=\u001b[0m \u001b[0mself\u001b[0m\u001b[1;33m.\u001b[0m\u001b[0mget_renderer\u001b[0m\u001b[1;33m(\u001b[0m\u001b[0mcleared\u001b[0m\u001b[1;33m=\u001b[0m\u001b[1;32mTrue\u001b[0m\u001b[1;33m)\u001b[0m\u001b[1;33m\u001b[0m\u001b[1;33m\u001b[0m\u001b[0m\n\u001b[0;32m    387\u001b[0m         \u001b[1;32mwith\u001b[0m \u001b[0mRendererAgg\u001b[0m\u001b[1;33m.\u001b[0m\u001b[0mlock\u001b[0m\u001b[1;33m:\u001b[0m\u001b[1;33m\u001b[0m\u001b[1;33m\u001b[0m\u001b[0m\n\u001b[1;32m--> 388\u001b[1;33m             \u001b[0mself\u001b[0m\u001b[1;33m.\u001b[0m\u001b[0mfigure\u001b[0m\u001b[1;33m.\u001b[0m\u001b[0mdraw\u001b[0m\u001b[1;33m(\u001b[0m\u001b[0mself\u001b[0m\u001b[1;33m.\u001b[0m\u001b[0mrenderer\u001b[0m\u001b[1;33m)\u001b[0m\u001b[1;33m\u001b[0m\u001b[1;33m\u001b[0m\u001b[0m\n\u001b[0m\u001b[0;32m    389\u001b[0m             \u001b[1;31m# A GUI class may be need to update a window using this draw, so\u001b[0m\u001b[1;33m\u001b[0m\u001b[1;33m\u001b[0m\u001b[1;33m\u001b[0m\u001b[0m\n\u001b[0;32m    390\u001b[0m             \u001b[1;31m# don't forget to call the superclass.\u001b[0m\u001b[1;33m\u001b[0m\u001b[1;33m\u001b[0m\u001b[1;33m\u001b[0m\u001b[0m\n",
      "\u001b[1;32m~\\Anaconda3\\lib\\site-packages\\matplotlib\\artist.py\u001b[0m in \u001b[0;36mdraw_wrapper\u001b[1;34m(artist, renderer, *args, **kwargs)\u001b[0m\n\u001b[0;32m     36\u001b[0m                 \u001b[0mrenderer\u001b[0m\u001b[1;33m.\u001b[0m\u001b[0mstart_filter\u001b[0m\u001b[1;33m(\u001b[0m\u001b[1;33m)\u001b[0m\u001b[1;33m\u001b[0m\u001b[1;33m\u001b[0m\u001b[0m\n\u001b[0;32m     37\u001b[0m \u001b[1;33m\u001b[0m\u001b[0m\n\u001b[1;32m---> 38\u001b[1;33m             \u001b[1;32mreturn\u001b[0m \u001b[0mdraw\u001b[0m\u001b[1;33m(\u001b[0m\u001b[0martist\u001b[0m\u001b[1;33m,\u001b[0m \u001b[0mrenderer\u001b[0m\u001b[1;33m,\u001b[0m \u001b[1;33m*\u001b[0m\u001b[0margs\u001b[0m\u001b[1;33m,\u001b[0m \u001b[1;33m**\u001b[0m\u001b[0mkwargs\u001b[0m\u001b[1;33m)\u001b[0m\u001b[1;33m\u001b[0m\u001b[1;33m\u001b[0m\u001b[0m\n\u001b[0m\u001b[0;32m     39\u001b[0m         \u001b[1;32mfinally\u001b[0m\u001b[1;33m:\u001b[0m\u001b[1;33m\u001b[0m\u001b[1;33m\u001b[0m\u001b[0m\n\u001b[0;32m     40\u001b[0m             \u001b[1;32mif\u001b[0m \u001b[0martist\u001b[0m\u001b[1;33m.\u001b[0m\u001b[0mget_agg_filter\u001b[0m\u001b[1;33m(\u001b[0m\u001b[1;33m)\u001b[0m \u001b[1;32mis\u001b[0m \u001b[1;32mnot\u001b[0m \u001b[1;32mNone\u001b[0m\u001b[1;33m:\u001b[0m\u001b[1;33m\u001b[0m\u001b[1;33m\u001b[0m\u001b[0m\n",
      "\u001b[1;32m~\\Anaconda3\\lib\\site-packages\\matplotlib\\figure.py\u001b[0m in \u001b[0;36mdraw\u001b[1;34m(self, renderer)\u001b[0m\n\u001b[0;32m   1707\u001b[0m             \u001b[0mself\u001b[0m\u001b[1;33m.\u001b[0m\u001b[0mpatch\u001b[0m\u001b[1;33m.\u001b[0m\u001b[0mdraw\u001b[0m\u001b[1;33m(\u001b[0m\u001b[0mrenderer\u001b[0m\u001b[1;33m)\u001b[0m\u001b[1;33m\u001b[0m\u001b[1;33m\u001b[0m\u001b[0m\n\u001b[0;32m   1708\u001b[0m             mimage._draw_list_compositing_images(\n\u001b[1;32m-> 1709\u001b[1;33m                 renderer, self, artists, self.suppressComposite)\n\u001b[0m\u001b[0;32m   1710\u001b[0m \u001b[1;33m\u001b[0m\u001b[0m\n\u001b[0;32m   1711\u001b[0m             \u001b[0mrenderer\u001b[0m\u001b[1;33m.\u001b[0m\u001b[0mclose_group\u001b[0m\u001b[1;33m(\u001b[0m\u001b[1;34m'figure'\u001b[0m\u001b[1;33m)\u001b[0m\u001b[1;33m\u001b[0m\u001b[1;33m\u001b[0m\u001b[0m\n",
      "\u001b[1;32m~\\Anaconda3\\lib\\site-packages\\matplotlib\\image.py\u001b[0m in \u001b[0;36m_draw_list_compositing_images\u001b[1;34m(renderer, parent, artists, suppress_composite)\u001b[0m\n\u001b[0;32m    133\u001b[0m     \u001b[1;32mif\u001b[0m \u001b[0mnot_composite\u001b[0m \u001b[1;32mor\u001b[0m \u001b[1;32mnot\u001b[0m \u001b[0mhas_images\u001b[0m\u001b[1;33m:\u001b[0m\u001b[1;33m\u001b[0m\u001b[1;33m\u001b[0m\u001b[0m\n\u001b[0;32m    134\u001b[0m         \u001b[1;32mfor\u001b[0m \u001b[0ma\u001b[0m \u001b[1;32min\u001b[0m \u001b[0martists\u001b[0m\u001b[1;33m:\u001b[0m\u001b[1;33m\u001b[0m\u001b[1;33m\u001b[0m\u001b[0m\n\u001b[1;32m--> 135\u001b[1;33m             \u001b[0ma\u001b[0m\u001b[1;33m.\u001b[0m\u001b[0mdraw\u001b[0m\u001b[1;33m(\u001b[0m\u001b[0mrenderer\u001b[0m\u001b[1;33m)\u001b[0m\u001b[1;33m\u001b[0m\u001b[1;33m\u001b[0m\u001b[0m\n\u001b[0m\u001b[0;32m    136\u001b[0m     \u001b[1;32melse\u001b[0m\u001b[1;33m:\u001b[0m\u001b[1;33m\u001b[0m\u001b[1;33m\u001b[0m\u001b[0m\n\u001b[0;32m    137\u001b[0m         \u001b[1;31m# Composite any adjacent images together\u001b[0m\u001b[1;33m\u001b[0m\u001b[1;33m\u001b[0m\u001b[1;33m\u001b[0m\u001b[0m\n",
      "\u001b[1;32m~\\Anaconda3\\lib\\site-packages\\matplotlib\\artist.py\u001b[0m in \u001b[0;36mdraw_wrapper\u001b[1;34m(artist, renderer, *args, **kwargs)\u001b[0m\n\u001b[0;32m     36\u001b[0m                 \u001b[0mrenderer\u001b[0m\u001b[1;33m.\u001b[0m\u001b[0mstart_filter\u001b[0m\u001b[1;33m(\u001b[0m\u001b[1;33m)\u001b[0m\u001b[1;33m\u001b[0m\u001b[1;33m\u001b[0m\u001b[0m\n\u001b[0;32m     37\u001b[0m \u001b[1;33m\u001b[0m\u001b[0m\n\u001b[1;32m---> 38\u001b[1;33m             \u001b[1;32mreturn\u001b[0m \u001b[0mdraw\u001b[0m\u001b[1;33m(\u001b[0m\u001b[0martist\u001b[0m\u001b[1;33m,\u001b[0m \u001b[0mrenderer\u001b[0m\u001b[1;33m,\u001b[0m \u001b[1;33m*\u001b[0m\u001b[0margs\u001b[0m\u001b[1;33m,\u001b[0m \u001b[1;33m**\u001b[0m\u001b[0mkwargs\u001b[0m\u001b[1;33m)\u001b[0m\u001b[1;33m\u001b[0m\u001b[1;33m\u001b[0m\u001b[0m\n\u001b[0m\u001b[0;32m     39\u001b[0m         \u001b[1;32mfinally\u001b[0m\u001b[1;33m:\u001b[0m\u001b[1;33m\u001b[0m\u001b[1;33m\u001b[0m\u001b[0m\n\u001b[0;32m     40\u001b[0m             \u001b[1;32mif\u001b[0m \u001b[0martist\u001b[0m\u001b[1;33m.\u001b[0m\u001b[0mget_agg_filter\u001b[0m\u001b[1;33m(\u001b[0m\u001b[1;33m)\u001b[0m \u001b[1;32mis\u001b[0m \u001b[1;32mnot\u001b[0m \u001b[1;32mNone\u001b[0m\u001b[1;33m:\u001b[0m\u001b[1;33m\u001b[0m\u001b[1;33m\u001b[0m\u001b[0m\n",
      "\u001b[1;32m~\\Anaconda3\\lib\\site-packages\\matplotlib\\axes\\_base.py\u001b[0m in \u001b[0;36mdraw\u001b[1;34m(self, renderer, inframe)\u001b[0m\n\u001b[0;32m   2643\u001b[0m             \u001b[0mrenderer\u001b[0m\u001b[1;33m.\u001b[0m\u001b[0mstop_rasterizing\u001b[0m\u001b[1;33m(\u001b[0m\u001b[1;33m)\u001b[0m\u001b[1;33m\u001b[0m\u001b[1;33m\u001b[0m\u001b[0m\n\u001b[0;32m   2644\u001b[0m \u001b[1;33m\u001b[0m\u001b[0m\n\u001b[1;32m-> 2645\u001b[1;33m         \u001b[0mmimage\u001b[0m\u001b[1;33m.\u001b[0m\u001b[0m_draw_list_compositing_images\u001b[0m\u001b[1;33m(\u001b[0m\u001b[0mrenderer\u001b[0m\u001b[1;33m,\u001b[0m \u001b[0mself\u001b[0m\u001b[1;33m,\u001b[0m \u001b[0martists\u001b[0m\u001b[1;33m)\u001b[0m\u001b[1;33m\u001b[0m\u001b[1;33m\u001b[0m\u001b[0m\n\u001b[0m\u001b[0;32m   2646\u001b[0m \u001b[1;33m\u001b[0m\u001b[0m\n\u001b[0;32m   2647\u001b[0m         \u001b[0mrenderer\u001b[0m\u001b[1;33m.\u001b[0m\u001b[0mclose_group\u001b[0m\u001b[1;33m(\u001b[0m\u001b[1;34m'axes'\u001b[0m\u001b[1;33m)\u001b[0m\u001b[1;33m\u001b[0m\u001b[1;33m\u001b[0m\u001b[0m\n",
      "\u001b[1;32m~\\Anaconda3\\lib\\site-packages\\matplotlib\\image.py\u001b[0m in \u001b[0;36m_draw_list_compositing_images\u001b[1;34m(renderer, parent, artists, suppress_composite)\u001b[0m\n\u001b[0;32m    133\u001b[0m     \u001b[1;32mif\u001b[0m \u001b[0mnot_composite\u001b[0m \u001b[1;32mor\u001b[0m \u001b[1;32mnot\u001b[0m \u001b[0mhas_images\u001b[0m\u001b[1;33m:\u001b[0m\u001b[1;33m\u001b[0m\u001b[1;33m\u001b[0m\u001b[0m\n\u001b[0;32m    134\u001b[0m         \u001b[1;32mfor\u001b[0m \u001b[0ma\u001b[0m \u001b[1;32min\u001b[0m \u001b[0martists\u001b[0m\u001b[1;33m:\u001b[0m\u001b[1;33m\u001b[0m\u001b[1;33m\u001b[0m\u001b[0m\n\u001b[1;32m--> 135\u001b[1;33m             \u001b[0ma\u001b[0m\u001b[1;33m.\u001b[0m\u001b[0mdraw\u001b[0m\u001b[1;33m(\u001b[0m\u001b[0mrenderer\u001b[0m\u001b[1;33m)\u001b[0m\u001b[1;33m\u001b[0m\u001b[1;33m\u001b[0m\u001b[0m\n\u001b[0m\u001b[0;32m    136\u001b[0m     \u001b[1;32melse\u001b[0m\u001b[1;33m:\u001b[0m\u001b[1;33m\u001b[0m\u001b[1;33m\u001b[0m\u001b[0m\n\u001b[0;32m    137\u001b[0m         \u001b[1;31m# Composite any adjacent images together\u001b[0m\u001b[1;33m\u001b[0m\u001b[1;33m\u001b[0m\u001b[1;33m\u001b[0m\u001b[0m\n",
      "\u001b[1;32m~\\Anaconda3\\lib\\site-packages\\matplotlib\\artist.py\u001b[0m in \u001b[0;36mdraw_wrapper\u001b[1;34m(artist, renderer, *args, **kwargs)\u001b[0m\n\u001b[0;32m     36\u001b[0m                 \u001b[0mrenderer\u001b[0m\u001b[1;33m.\u001b[0m\u001b[0mstart_filter\u001b[0m\u001b[1;33m(\u001b[0m\u001b[1;33m)\u001b[0m\u001b[1;33m\u001b[0m\u001b[1;33m\u001b[0m\u001b[0m\n\u001b[0;32m     37\u001b[0m \u001b[1;33m\u001b[0m\u001b[0m\n\u001b[1;32m---> 38\u001b[1;33m             \u001b[1;32mreturn\u001b[0m \u001b[0mdraw\u001b[0m\u001b[1;33m(\u001b[0m\u001b[0martist\u001b[0m\u001b[1;33m,\u001b[0m \u001b[0mrenderer\u001b[0m\u001b[1;33m,\u001b[0m \u001b[1;33m*\u001b[0m\u001b[0margs\u001b[0m\u001b[1;33m,\u001b[0m \u001b[1;33m**\u001b[0m\u001b[0mkwargs\u001b[0m\u001b[1;33m)\u001b[0m\u001b[1;33m\u001b[0m\u001b[1;33m\u001b[0m\u001b[0m\n\u001b[0m\u001b[0;32m     39\u001b[0m         \u001b[1;32mfinally\u001b[0m\u001b[1;33m:\u001b[0m\u001b[1;33m\u001b[0m\u001b[1;33m\u001b[0m\u001b[0m\n\u001b[0;32m     40\u001b[0m             \u001b[1;32mif\u001b[0m \u001b[0martist\u001b[0m\u001b[1;33m.\u001b[0m\u001b[0mget_agg_filter\u001b[0m\u001b[1;33m(\u001b[0m\u001b[1;33m)\u001b[0m \u001b[1;32mis\u001b[0m \u001b[1;32mnot\u001b[0m \u001b[1;32mNone\u001b[0m\u001b[1;33m:\u001b[0m\u001b[1;33m\u001b[0m\u001b[1;33m\u001b[0m\u001b[0m\n",
      "\u001b[1;32m~\\Anaconda3\\lib\\site-packages\\matplotlib\\patches.py\u001b[0m in \u001b[0;36mdraw\u001b[1;34m(self, renderer)\u001b[0m\n\u001b[0;32m    578\u001b[0m                       \u001b[1;31m# do not draw the hatches if the facecolor is fully\u001b[0m\u001b[1;33m\u001b[0m\u001b[1;33m\u001b[0m\u001b[1;33m\u001b[0m\u001b[0m\n\u001b[0;32m    579\u001b[0m                       \u001b[1;31m# transparent, but do if it is None.\u001b[0m\u001b[1;33m\u001b[0m\u001b[1;33m\u001b[0m\u001b[1;33m\u001b[0m\u001b[0m\n\u001b[1;32m--> 580\u001b[1;33m                       self._facecolor if self._facecolor[3] else None)\n\u001b[0m\u001b[0;32m    581\u001b[0m \u001b[1;33m\u001b[0m\u001b[0m\n\u001b[0;32m    582\u001b[0m     \u001b[1;32mdef\u001b[0m \u001b[0mget_path\u001b[0m\u001b[1;33m(\u001b[0m\u001b[0mself\u001b[0m\u001b[1;33m)\u001b[0m\u001b[1;33m:\u001b[0m\u001b[1;33m\u001b[0m\u001b[1;33m\u001b[0m\u001b[0m\n",
      "\u001b[1;32m~\\Anaconda3\\lib\\site-packages\\matplotlib\\backends\\backend_agg.py\u001b[0m in \u001b[0;36mdraw_path\u001b[1;34m(self, gc, path, transform, rgbFace)\u001b[0m\n\u001b[0;32m    144\u001b[0m         \u001b[1;32melse\u001b[0m\u001b[1;33m:\u001b[0m\u001b[1;33m\u001b[0m\u001b[1;33m\u001b[0m\u001b[0m\n\u001b[0;32m    145\u001b[0m             \u001b[1;32mtry\u001b[0m\u001b[1;33m:\u001b[0m\u001b[1;33m\u001b[0m\u001b[1;33m\u001b[0m\u001b[0m\n\u001b[1;32m--> 146\u001b[1;33m                 \u001b[0mself\u001b[0m\u001b[1;33m.\u001b[0m\u001b[0m_renderer\u001b[0m\u001b[1;33m.\u001b[0m\u001b[0mdraw_path\u001b[0m\u001b[1;33m(\u001b[0m\u001b[0mgc\u001b[0m\u001b[1;33m,\u001b[0m \u001b[0mpath\u001b[0m\u001b[1;33m,\u001b[0m \u001b[0mtransform\u001b[0m\u001b[1;33m,\u001b[0m \u001b[0mrgbFace\u001b[0m\u001b[1;33m)\u001b[0m\u001b[1;33m\u001b[0m\u001b[1;33m\u001b[0m\u001b[0m\n\u001b[0m\u001b[0;32m    147\u001b[0m             \u001b[1;32mexcept\u001b[0m \u001b[0mOverflowError\u001b[0m\u001b[1;33m:\u001b[0m\u001b[1;33m\u001b[0m\u001b[1;33m\u001b[0m\u001b[0m\n\u001b[0;32m    148\u001b[0m                 raise OverflowError(\"Exceeded cell block limit (set \"\n",
      "\u001b[1;32m~\\Anaconda3\\lib\\site-packages\\matplotlib\\transforms.py\u001b[0m in \u001b[0;36m__array__\u001b[1;34m(self, *args, **kwargs)\u001b[0m\n\u001b[0;32m   1685\u001b[0m         \u001b[0mself\u001b[0m\u001b[1;33m.\u001b[0m\u001b[0m_inverted\u001b[0m \u001b[1;33m=\u001b[0m \u001b[1;32mNone\u001b[0m\u001b[1;33m\u001b[0m\u001b[1;33m\u001b[0m\u001b[0m\n\u001b[0;32m   1686\u001b[0m \u001b[1;33m\u001b[0m\u001b[0m\n\u001b[1;32m-> 1687\u001b[1;33m     \u001b[1;32mdef\u001b[0m \u001b[0m__array__\u001b[0m\u001b[1;33m(\u001b[0m\u001b[0mself\u001b[0m\u001b[1;33m,\u001b[0m \u001b[1;33m*\u001b[0m\u001b[0margs\u001b[0m\u001b[1;33m,\u001b[0m \u001b[1;33m**\u001b[0m\u001b[0mkwargs\u001b[0m\u001b[1;33m)\u001b[0m\u001b[1;33m:\u001b[0m\u001b[1;33m\u001b[0m\u001b[1;33m\u001b[0m\u001b[0m\n\u001b[0m\u001b[0;32m   1688\u001b[0m         \u001b[1;31m# optimises the access of the transform matrix vs the superclass\u001b[0m\u001b[1;33m\u001b[0m\u001b[1;33m\u001b[0m\u001b[1;33m\u001b[0m\u001b[0m\n\u001b[0;32m   1689\u001b[0m         \u001b[1;32mreturn\u001b[0m \u001b[0mself\u001b[0m\u001b[1;33m.\u001b[0m\u001b[0mget_matrix\u001b[0m\u001b[1;33m(\u001b[0m\u001b[1;33m)\u001b[0m\u001b[1;33m\u001b[0m\u001b[1;33m\u001b[0m\u001b[0m\n",
      "\u001b[1;31mKeyboardInterrupt\u001b[0m: "
     ]
    },
    {
     "name": "stdout",
     "output_type": "stream",
     "text": [
      "Error in callback <function flush_figures at 0x0000029AF39CAB70> (for post_execute):\n"
     ]
    },
    {
     "ename": "KeyboardInterrupt",
     "evalue": "",
     "output_type": "error",
     "traceback": [
      "\u001b[1;31m---------------------------------------------------------------------------\u001b[0m",
      "\u001b[1;31mKeyboardInterrupt\u001b[0m                         Traceback (most recent call last)",
      "\u001b[1;32m~\\Anaconda3\\lib\\site-packages\\ipykernel\\pylab\\backend_inline.py\u001b[0m in \u001b[0;36mflush_figures\u001b[1;34m()\u001b[0m\n\u001b[0;32m    115\u001b[0m         \u001b[1;31m# ignore the tracking, just draw and close all figures\u001b[0m\u001b[1;33m\u001b[0m\u001b[1;33m\u001b[0m\u001b[1;33m\u001b[0m\u001b[0m\n\u001b[0;32m    116\u001b[0m         \u001b[1;32mtry\u001b[0m\u001b[1;33m:\u001b[0m\u001b[1;33m\u001b[0m\u001b[1;33m\u001b[0m\u001b[0m\n\u001b[1;32m--> 117\u001b[1;33m             \u001b[1;32mreturn\u001b[0m \u001b[0mshow\u001b[0m\u001b[1;33m(\u001b[0m\u001b[1;32mTrue\u001b[0m\u001b[1;33m)\u001b[0m\u001b[1;33m\u001b[0m\u001b[1;33m\u001b[0m\u001b[0m\n\u001b[0m\u001b[0;32m    118\u001b[0m         \u001b[1;32mexcept\u001b[0m \u001b[0mException\u001b[0m \u001b[1;32mas\u001b[0m \u001b[0me\u001b[0m\u001b[1;33m:\u001b[0m\u001b[1;33m\u001b[0m\u001b[1;33m\u001b[0m\u001b[0m\n\u001b[0;32m    119\u001b[0m             \u001b[1;31m# safely show traceback if in IPython, else raise\u001b[0m\u001b[1;33m\u001b[0m\u001b[1;33m\u001b[0m\u001b[1;33m\u001b[0m\u001b[0m\n",
      "\u001b[1;32m~\\Anaconda3\\lib\\site-packages\\ipykernel\\pylab\\backend_inline.py\u001b[0m in \u001b[0;36mshow\u001b[1;34m(close, block)\u001b[0m\n\u001b[0;32m     37\u001b[0m             display(\n\u001b[0;32m     38\u001b[0m                 \u001b[0mfigure_manager\u001b[0m\u001b[1;33m.\u001b[0m\u001b[0mcanvas\u001b[0m\u001b[1;33m.\u001b[0m\u001b[0mfigure\u001b[0m\u001b[1;33m,\u001b[0m\u001b[1;33m\u001b[0m\u001b[1;33m\u001b[0m\u001b[0m\n\u001b[1;32m---> 39\u001b[1;33m                 \u001b[0mmetadata\u001b[0m\u001b[1;33m=\u001b[0m\u001b[0m_fetch_figure_metadata\u001b[0m\u001b[1;33m(\u001b[0m\u001b[0mfigure_manager\u001b[0m\u001b[1;33m.\u001b[0m\u001b[0mcanvas\u001b[0m\u001b[1;33m.\u001b[0m\u001b[0mfigure\u001b[0m\u001b[1;33m)\u001b[0m\u001b[1;33m\u001b[0m\u001b[1;33m\u001b[0m\u001b[0m\n\u001b[0m\u001b[0;32m     40\u001b[0m             )\n\u001b[0;32m     41\u001b[0m     \u001b[1;32mfinally\u001b[0m\u001b[1;33m:\u001b[0m\u001b[1;33m\u001b[0m\u001b[1;33m\u001b[0m\u001b[0m\n",
      "\u001b[1;32m~\\Anaconda3\\lib\\site-packages\\IPython\\core\\display.py\u001b[0m in \u001b[0;36mdisplay\u001b[1;34m(include, exclude, metadata, transient, display_id, *objs, **kwargs)\u001b[0m\n\u001b[0;32m    304\u001b[0m             \u001b[0mpublish_display_data\u001b[0m\u001b[1;33m(\u001b[0m\u001b[0mdata\u001b[0m\u001b[1;33m=\u001b[0m\u001b[0mobj\u001b[0m\u001b[1;33m,\u001b[0m \u001b[0mmetadata\u001b[0m\u001b[1;33m=\u001b[0m\u001b[0mmetadata\u001b[0m\u001b[1;33m,\u001b[0m \u001b[1;33m**\u001b[0m\u001b[0mkwargs\u001b[0m\u001b[1;33m)\u001b[0m\u001b[1;33m\u001b[0m\u001b[1;33m\u001b[0m\u001b[0m\n\u001b[0;32m    305\u001b[0m         \u001b[1;32melse\u001b[0m\u001b[1;33m:\u001b[0m\u001b[1;33m\u001b[0m\u001b[1;33m\u001b[0m\u001b[0m\n\u001b[1;32m--> 306\u001b[1;33m             \u001b[0mformat_dict\u001b[0m\u001b[1;33m,\u001b[0m \u001b[0mmd_dict\u001b[0m \u001b[1;33m=\u001b[0m \u001b[0mformat\u001b[0m\u001b[1;33m(\u001b[0m\u001b[0mobj\u001b[0m\u001b[1;33m,\u001b[0m \u001b[0minclude\u001b[0m\u001b[1;33m=\u001b[0m\u001b[0minclude\u001b[0m\u001b[1;33m,\u001b[0m \u001b[0mexclude\u001b[0m\u001b[1;33m=\u001b[0m\u001b[0mexclude\u001b[0m\u001b[1;33m)\u001b[0m\u001b[1;33m\u001b[0m\u001b[1;33m\u001b[0m\u001b[0m\n\u001b[0m\u001b[0;32m    307\u001b[0m             \u001b[1;32mif\u001b[0m \u001b[1;32mnot\u001b[0m \u001b[0mformat_dict\u001b[0m\u001b[1;33m:\u001b[0m\u001b[1;33m\u001b[0m\u001b[1;33m\u001b[0m\u001b[0m\n\u001b[0;32m    308\u001b[0m                 \u001b[1;31m# nothing to display (e.g. _ipython_display_ took over)\u001b[0m\u001b[1;33m\u001b[0m\u001b[1;33m\u001b[0m\u001b[1;33m\u001b[0m\u001b[0m\n",
      "\u001b[1;32m~\\Anaconda3\\lib\\site-packages\\IPython\\core\\formatters.py\u001b[0m in \u001b[0;36mformat\u001b[1;34m(self, obj, include, exclude)\u001b[0m\n\u001b[0;32m    178\u001b[0m             \u001b[0mmd\u001b[0m \u001b[1;33m=\u001b[0m \u001b[1;32mNone\u001b[0m\u001b[1;33m\u001b[0m\u001b[1;33m\u001b[0m\u001b[0m\n\u001b[0;32m    179\u001b[0m             \u001b[1;32mtry\u001b[0m\u001b[1;33m:\u001b[0m\u001b[1;33m\u001b[0m\u001b[1;33m\u001b[0m\u001b[0m\n\u001b[1;32m--> 180\u001b[1;33m                 \u001b[0mdata\u001b[0m \u001b[1;33m=\u001b[0m \u001b[0mformatter\u001b[0m\u001b[1;33m(\u001b[0m\u001b[0mobj\u001b[0m\u001b[1;33m)\u001b[0m\u001b[1;33m\u001b[0m\u001b[1;33m\u001b[0m\u001b[0m\n\u001b[0m\u001b[0;32m    181\u001b[0m             \u001b[1;32mexcept\u001b[0m\u001b[1;33m:\u001b[0m\u001b[1;33m\u001b[0m\u001b[1;33m\u001b[0m\u001b[0m\n\u001b[0;32m    182\u001b[0m                 \u001b[1;31m# FIXME: log the exception\u001b[0m\u001b[1;33m\u001b[0m\u001b[1;33m\u001b[0m\u001b[1;33m\u001b[0m\u001b[0m\n",
      "\u001b[1;32m<C:\\Users\\davis\\Anaconda3\\lib\\site-packages\\decorator.py:decorator-gen-9>\u001b[0m in \u001b[0;36m__call__\u001b[1;34m(self, obj)\u001b[0m\n",
      "\u001b[1;32m~\\Anaconda3\\lib\\site-packages\\IPython\\core\\formatters.py\u001b[0m in \u001b[0;36mcatch_format_error\u001b[1;34m(method, self, *args, **kwargs)\u001b[0m\n\u001b[0;32m    222\u001b[0m     \u001b[1;34m\"\"\"show traceback on failed format call\"\"\"\u001b[0m\u001b[1;33m\u001b[0m\u001b[1;33m\u001b[0m\u001b[0m\n\u001b[0;32m    223\u001b[0m     \u001b[1;32mtry\u001b[0m\u001b[1;33m:\u001b[0m\u001b[1;33m\u001b[0m\u001b[1;33m\u001b[0m\u001b[0m\n\u001b[1;32m--> 224\u001b[1;33m         \u001b[0mr\u001b[0m \u001b[1;33m=\u001b[0m \u001b[0mmethod\u001b[0m\u001b[1;33m(\u001b[0m\u001b[0mself\u001b[0m\u001b[1;33m,\u001b[0m \u001b[1;33m*\u001b[0m\u001b[0margs\u001b[0m\u001b[1;33m,\u001b[0m \u001b[1;33m**\u001b[0m\u001b[0mkwargs\u001b[0m\u001b[1;33m)\u001b[0m\u001b[1;33m\u001b[0m\u001b[1;33m\u001b[0m\u001b[0m\n\u001b[0m\u001b[0;32m    225\u001b[0m     \u001b[1;32mexcept\u001b[0m \u001b[0mNotImplementedError\u001b[0m\u001b[1;33m:\u001b[0m\u001b[1;33m\u001b[0m\u001b[1;33m\u001b[0m\u001b[0m\n\u001b[0;32m    226\u001b[0m         \u001b[1;31m# don't warn on NotImplementedErrors\u001b[0m\u001b[1;33m\u001b[0m\u001b[1;33m\u001b[0m\u001b[1;33m\u001b[0m\u001b[0m\n",
      "\u001b[1;32m~\\Anaconda3\\lib\\site-packages\\IPython\\core\\formatters.py\u001b[0m in \u001b[0;36m__call__\u001b[1;34m(self, obj)\u001b[0m\n\u001b[0;32m    339\u001b[0m                 \u001b[1;32mpass\u001b[0m\u001b[1;33m\u001b[0m\u001b[1;33m\u001b[0m\u001b[0m\n\u001b[0;32m    340\u001b[0m             \u001b[1;32melse\u001b[0m\u001b[1;33m:\u001b[0m\u001b[1;33m\u001b[0m\u001b[1;33m\u001b[0m\u001b[0m\n\u001b[1;32m--> 341\u001b[1;33m                 \u001b[1;32mreturn\u001b[0m \u001b[0mprinter\u001b[0m\u001b[1;33m(\u001b[0m\u001b[0mobj\u001b[0m\u001b[1;33m)\u001b[0m\u001b[1;33m\u001b[0m\u001b[1;33m\u001b[0m\u001b[0m\n\u001b[0m\u001b[0;32m    342\u001b[0m             \u001b[1;31m# Finally look for special method names\u001b[0m\u001b[1;33m\u001b[0m\u001b[1;33m\u001b[0m\u001b[1;33m\u001b[0m\u001b[0m\n\u001b[0;32m    343\u001b[0m             \u001b[0mmethod\u001b[0m \u001b[1;33m=\u001b[0m \u001b[0mget_real_method\u001b[0m\u001b[1;33m(\u001b[0m\u001b[0mobj\u001b[0m\u001b[1;33m,\u001b[0m \u001b[0mself\u001b[0m\u001b[1;33m.\u001b[0m\u001b[0mprint_method\u001b[0m\u001b[1;33m)\u001b[0m\u001b[1;33m\u001b[0m\u001b[1;33m\u001b[0m\u001b[0m\n",
      "\u001b[1;32m~\\Anaconda3\\lib\\site-packages\\IPython\\core\\pylabtools.py\u001b[0m in \u001b[0;36m<lambda>\u001b[1;34m(fig)\u001b[0m\n\u001b[0;32m    242\u001b[0m \u001b[1;33m\u001b[0m\u001b[0m\n\u001b[0;32m    243\u001b[0m     \u001b[1;32mif\u001b[0m \u001b[1;34m'png'\u001b[0m \u001b[1;32min\u001b[0m \u001b[0mformats\u001b[0m\u001b[1;33m:\u001b[0m\u001b[1;33m\u001b[0m\u001b[1;33m\u001b[0m\u001b[0m\n\u001b[1;32m--> 244\u001b[1;33m         \u001b[0mpng_formatter\u001b[0m\u001b[1;33m.\u001b[0m\u001b[0mfor_type\u001b[0m\u001b[1;33m(\u001b[0m\u001b[0mFigure\u001b[0m\u001b[1;33m,\u001b[0m \u001b[1;32mlambda\u001b[0m \u001b[0mfig\u001b[0m\u001b[1;33m:\u001b[0m \u001b[0mprint_figure\u001b[0m\u001b[1;33m(\u001b[0m\u001b[0mfig\u001b[0m\u001b[1;33m,\u001b[0m \u001b[1;34m'png'\u001b[0m\u001b[1;33m,\u001b[0m \u001b[1;33m**\u001b[0m\u001b[0mkwargs\u001b[0m\u001b[1;33m)\u001b[0m\u001b[1;33m)\u001b[0m\u001b[1;33m\u001b[0m\u001b[1;33m\u001b[0m\u001b[0m\n\u001b[0m\u001b[0;32m    245\u001b[0m     \u001b[1;32mif\u001b[0m \u001b[1;34m'retina'\u001b[0m \u001b[1;32min\u001b[0m \u001b[0mformats\u001b[0m \u001b[1;32mor\u001b[0m \u001b[1;34m'png2x'\u001b[0m \u001b[1;32min\u001b[0m \u001b[0mformats\u001b[0m\u001b[1;33m:\u001b[0m\u001b[1;33m\u001b[0m\u001b[1;33m\u001b[0m\u001b[0m\n\u001b[0;32m    246\u001b[0m         \u001b[0mpng_formatter\u001b[0m\u001b[1;33m.\u001b[0m\u001b[0mfor_type\u001b[0m\u001b[1;33m(\u001b[0m\u001b[0mFigure\u001b[0m\u001b[1;33m,\u001b[0m \u001b[1;32mlambda\u001b[0m \u001b[0mfig\u001b[0m\u001b[1;33m:\u001b[0m \u001b[0mretina_figure\u001b[0m\u001b[1;33m(\u001b[0m\u001b[0mfig\u001b[0m\u001b[1;33m,\u001b[0m \u001b[1;33m**\u001b[0m\u001b[0mkwargs\u001b[0m\u001b[1;33m)\u001b[0m\u001b[1;33m)\u001b[0m\u001b[1;33m\u001b[0m\u001b[1;33m\u001b[0m\u001b[0m\n",
      "\u001b[1;32m~\\Anaconda3\\lib\\site-packages\\IPython\\core\\pylabtools.py\u001b[0m in \u001b[0;36mprint_figure\u001b[1;34m(fig, fmt, bbox_inches, **kwargs)\u001b[0m\n\u001b[0;32m    126\u001b[0m \u001b[1;33m\u001b[0m\u001b[0m\n\u001b[0;32m    127\u001b[0m     \u001b[0mbytes_io\u001b[0m \u001b[1;33m=\u001b[0m \u001b[0mBytesIO\u001b[0m\u001b[1;33m(\u001b[0m\u001b[1;33m)\u001b[0m\u001b[1;33m\u001b[0m\u001b[1;33m\u001b[0m\u001b[0m\n\u001b[1;32m--> 128\u001b[1;33m     \u001b[0mfig\u001b[0m\u001b[1;33m.\u001b[0m\u001b[0mcanvas\u001b[0m\u001b[1;33m.\u001b[0m\u001b[0mprint_figure\u001b[0m\u001b[1;33m(\u001b[0m\u001b[0mbytes_io\u001b[0m\u001b[1;33m,\u001b[0m \u001b[1;33m**\u001b[0m\u001b[0mkw\u001b[0m\u001b[1;33m)\u001b[0m\u001b[1;33m\u001b[0m\u001b[1;33m\u001b[0m\u001b[0m\n\u001b[0m\u001b[0;32m    129\u001b[0m     \u001b[0mdata\u001b[0m \u001b[1;33m=\u001b[0m \u001b[0mbytes_io\u001b[0m\u001b[1;33m.\u001b[0m\u001b[0mgetvalue\u001b[0m\u001b[1;33m(\u001b[0m\u001b[1;33m)\u001b[0m\u001b[1;33m\u001b[0m\u001b[1;33m\u001b[0m\u001b[0m\n\u001b[0;32m    130\u001b[0m     \u001b[1;32mif\u001b[0m \u001b[0mfmt\u001b[0m \u001b[1;33m==\u001b[0m \u001b[1;34m'svg'\u001b[0m\u001b[1;33m:\u001b[0m\u001b[1;33m\u001b[0m\u001b[1;33m\u001b[0m\u001b[0m\n",
      "\u001b[1;32m~\\Anaconda3\\lib\\site-packages\\matplotlib\\backend_bases.py\u001b[0m in \u001b[0;36mprint_figure\u001b[1;34m(self, filename, dpi, facecolor, edgecolor, orientation, format, bbox_inches, **kwargs)\u001b[0m\n\u001b[0;32m   2025\u001b[0m         \u001b[1;31m# but this should be fine.\u001b[0m\u001b[1;33m\u001b[0m\u001b[1;33m\u001b[0m\u001b[1;33m\u001b[0m\u001b[0m\n\u001b[0;32m   2026\u001b[0m         \u001b[1;32mwith\u001b[0m \u001b[0mcbook\u001b[0m\u001b[1;33m.\u001b[0m\u001b[0m_setattr_cm\u001b[0m\u001b[1;33m(\u001b[0m\u001b[0mself\u001b[0m\u001b[1;33m,\u001b[0m \u001b[0m_is_saving\u001b[0m\u001b[1;33m=\u001b[0m\u001b[1;32mTrue\u001b[0m\u001b[1;33m,\u001b[0m \u001b[0mmanager\u001b[0m\u001b[1;33m=\u001b[0m\u001b[1;32mNone\u001b[0m\u001b[1;33m)\u001b[0m\u001b[1;33m,\u001b[0m\u001b[0;31m \u001b[0m\u001b[0;31m\\\u001b[0m\u001b[1;33m\u001b[0m\u001b[1;33m\u001b[0m\u001b[0m\n\u001b[1;32m-> 2027\u001b[1;33m                 \u001b[0mcbook\u001b[0m\u001b[1;33m.\u001b[0m\u001b[0m_setattr_cm\u001b[0m\u001b[1;33m(\u001b[0m\u001b[0mself\u001b[0m\u001b[1;33m.\u001b[0m\u001b[0mfigure\u001b[0m\u001b[1;33m,\u001b[0m \u001b[0mdpi\u001b[0m\u001b[1;33m=\u001b[0m\u001b[0mdpi\u001b[0m\u001b[1;33m)\u001b[0m\u001b[1;33m:\u001b[0m\u001b[1;33m\u001b[0m\u001b[1;33m\u001b[0m\u001b[0m\n\u001b[0m\u001b[0;32m   2028\u001b[0m \u001b[1;33m\u001b[0m\u001b[0m\n\u001b[0;32m   2029\u001b[0m             \u001b[1;32mif\u001b[0m \u001b[0mfacecolor\u001b[0m \u001b[1;32mis\u001b[0m \u001b[1;32mNone\u001b[0m\u001b[1;33m:\u001b[0m\u001b[1;33m\u001b[0m\u001b[1;33m\u001b[0m\u001b[0m\n",
      "\u001b[1;32m~\\Anaconda3\\lib\\contextlib.py\u001b[0m in \u001b[0;36m__enter__\u001b[1;34m(self)\u001b[0m\n\u001b[0;32m    110\u001b[0m         \u001b[1;32mdel\u001b[0m \u001b[0mself\u001b[0m\u001b[1;33m.\u001b[0m\u001b[0margs\u001b[0m\u001b[1;33m,\u001b[0m \u001b[0mself\u001b[0m\u001b[1;33m.\u001b[0m\u001b[0mkwds\u001b[0m\u001b[1;33m,\u001b[0m \u001b[0mself\u001b[0m\u001b[1;33m.\u001b[0m\u001b[0mfunc\u001b[0m\u001b[1;33m\u001b[0m\u001b[1;33m\u001b[0m\u001b[0m\n\u001b[0;32m    111\u001b[0m         \u001b[1;32mtry\u001b[0m\u001b[1;33m:\u001b[0m\u001b[1;33m\u001b[0m\u001b[1;33m\u001b[0m\u001b[0m\n\u001b[1;32m--> 112\u001b[1;33m             \u001b[1;32mreturn\u001b[0m \u001b[0mnext\u001b[0m\u001b[1;33m(\u001b[0m\u001b[0mself\u001b[0m\u001b[1;33m.\u001b[0m\u001b[0mgen\u001b[0m\u001b[1;33m)\u001b[0m\u001b[1;33m\u001b[0m\u001b[1;33m\u001b[0m\u001b[0m\n\u001b[0m\u001b[0;32m    113\u001b[0m         \u001b[1;32mexcept\u001b[0m \u001b[0mStopIteration\u001b[0m\u001b[1;33m:\u001b[0m\u001b[1;33m\u001b[0m\u001b[1;33m\u001b[0m\u001b[0m\n\u001b[0;32m    114\u001b[0m             \u001b[1;32mraise\u001b[0m \u001b[0mRuntimeError\u001b[0m\u001b[1;33m(\u001b[0m\u001b[1;34m\"generator didn't yield\"\u001b[0m\u001b[1;33m)\u001b[0m \u001b[1;32mfrom\u001b[0m \u001b[1;32mNone\u001b[0m\u001b[1;33m\u001b[0m\u001b[1;33m\u001b[0m\u001b[0m\n",
      "\u001b[1;32m~\\Anaconda3\\lib\\site-packages\\matplotlib\\cbook\\__init__.py\u001b[0m in \u001b[0;36m_setattr_cm\u001b[1;34m(obj, **kwargs)\u001b[0m\n\u001b[0;32m   2018\u001b[0m     \u001b[1;32mtry\u001b[0m\u001b[1;33m:\u001b[0m\u001b[1;33m\u001b[0m\u001b[1;33m\u001b[0m\u001b[0m\n\u001b[0;32m   2019\u001b[0m         \u001b[1;32mfor\u001b[0m \u001b[0mattr\u001b[0m\u001b[1;33m,\u001b[0m \u001b[0mval\u001b[0m \u001b[1;32min\u001b[0m \u001b[0mkwargs\u001b[0m\u001b[1;33m.\u001b[0m\u001b[0mitems\u001b[0m\u001b[1;33m(\u001b[0m\u001b[1;33m)\u001b[0m\u001b[1;33m:\u001b[0m\u001b[1;33m\u001b[0m\u001b[1;33m\u001b[0m\u001b[0m\n\u001b[1;32m-> 2020\u001b[1;33m             \u001b[0msetattr\u001b[0m\u001b[1;33m(\u001b[0m\u001b[0mobj\u001b[0m\u001b[1;33m,\u001b[0m \u001b[0mattr\u001b[0m\u001b[1;33m,\u001b[0m \u001b[0mval\u001b[0m\u001b[1;33m)\u001b[0m\u001b[1;33m\u001b[0m\u001b[1;33m\u001b[0m\u001b[0m\n\u001b[0m\u001b[0;32m   2021\u001b[0m         \u001b[1;32myield\u001b[0m\u001b[1;33m\u001b[0m\u001b[1;33m\u001b[0m\u001b[0m\n\u001b[0;32m   2022\u001b[0m     \u001b[1;32mfinally\u001b[0m\u001b[1;33m:\u001b[0m\u001b[1;33m\u001b[0m\u001b[1;33m\u001b[0m\u001b[0m\n",
      "\u001b[1;32m~\\Anaconda3\\lib\\site-packages\\matplotlib\\figure.py\u001b[0m in \u001b[0;36m_set_dpi\u001b[1;34m(self, dpi, forward)\u001b[0m\n\u001b[0;32m    473\u001b[0m         \"\"\"\n\u001b[0;32m    474\u001b[0m         \u001b[0mself\u001b[0m\u001b[1;33m.\u001b[0m\u001b[0m_dpi\u001b[0m \u001b[1;33m=\u001b[0m \u001b[0mdpi\u001b[0m\u001b[1;33m\u001b[0m\u001b[1;33m\u001b[0m\u001b[0m\n\u001b[1;32m--> 475\u001b[1;33m         \u001b[0mself\u001b[0m\u001b[1;33m.\u001b[0m\u001b[0mdpi_scale_trans\u001b[0m\u001b[1;33m.\u001b[0m\u001b[0mclear\u001b[0m\u001b[1;33m(\u001b[0m\u001b[1;33m)\u001b[0m\u001b[1;33m.\u001b[0m\u001b[0mscale\u001b[0m\u001b[1;33m(\u001b[0m\u001b[0mdpi\u001b[0m\u001b[1;33m,\u001b[0m \u001b[0mdpi\u001b[0m\u001b[1;33m)\u001b[0m\u001b[1;33m\u001b[0m\u001b[1;33m\u001b[0m\u001b[0m\n\u001b[0m\u001b[0;32m    476\u001b[0m         \u001b[0mw\u001b[0m\u001b[1;33m,\u001b[0m \u001b[0mh\u001b[0m \u001b[1;33m=\u001b[0m \u001b[0mself\u001b[0m\u001b[1;33m.\u001b[0m\u001b[0mget_size_inches\u001b[0m\u001b[1;33m(\u001b[0m\u001b[1;33m)\u001b[0m\u001b[1;33m\u001b[0m\u001b[1;33m\u001b[0m\u001b[0m\n\u001b[0;32m    477\u001b[0m         \u001b[0mself\u001b[0m\u001b[1;33m.\u001b[0m\u001b[0mset_size_inches\u001b[0m\u001b[1;33m(\u001b[0m\u001b[0mw\u001b[0m\u001b[1;33m,\u001b[0m \u001b[0mh\u001b[0m\u001b[1;33m,\u001b[0m \u001b[0mforward\u001b[0m\u001b[1;33m=\u001b[0m\u001b[0mforward\u001b[0m\u001b[1;33m)\u001b[0m\u001b[1;33m\u001b[0m\u001b[1;33m\u001b[0m\u001b[0m\n",
      "\u001b[1;32m~\\Anaconda3\\lib\\site-packages\\matplotlib\\transforms.py\u001b[0m in \u001b[0;36mclear\u001b[1;34m(self)\u001b[0m\n\u001b[0;32m   1909\u001b[0m         \u001b[1;31m# A bit faster than np.identity(3).\u001b[0m\u001b[1;33m\u001b[0m\u001b[1;33m\u001b[0m\u001b[1;33m\u001b[0m\u001b[0m\n\u001b[0;32m   1910\u001b[0m         \u001b[0mself\u001b[0m\u001b[1;33m.\u001b[0m\u001b[0m_mtx\u001b[0m \u001b[1;33m=\u001b[0m \u001b[0mIdentityTransform\u001b[0m\u001b[1;33m.\u001b[0m\u001b[0m_mtx\u001b[0m\u001b[1;33m.\u001b[0m\u001b[0mcopy\u001b[0m\u001b[1;33m(\u001b[0m\u001b[1;33m)\u001b[0m\u001b[1;33m\u001b[0m\u001b[1;33m\u001b[0m\u001b[0m\n\u001b[1;32m-> 1911\u001b[1;33m         \u001b[0mself\u001b[0m\u001b[1;33m.\u001b[0m\u001b[0minvalidate\u001b[0m\u001b[1;33m(\u001b[0m\u001b[1;33m)\u001b[0m\u001b[1;33m\u001b[0m\u001b[1;33m\u001b[0m\u001b[0m\n\u001b[0m\u001b[0;32m   1912\u001b[0m         \u001b[1;32mreturn\u001b[0m \u001b[0mself\u001b[0m\u001b[1;33m\u001b[0m\u001b[1;33m\u001b[0m\u001b[0m\n\u001b[0;32m   1913\u001b[0m \u001b[1;33m\u001b[0m\u001b[0m\n",
      "\u001b[1;32m~\\Anaconda3\\lib\\site-packages\\matplotlib\\transforms.py\u001b[0m in \u001b[0;36minvalidate\u001b[1;34m(self)\u001b[0m\n\u001b[0;32m    133\u001b[0m         \u001b[1;32mif\u001b[0m \u001b[0mself\u001b[0m\u001b[1;33m.\u001b[0m\u001b[0mis_affine\u001b[0m\u001b[1;33m:\u001b[0m\u001b[1;33m\u001b[0m\u001b[1;33m\u001b[0m\u001b[0m\n\u001b[0;32m    134\u001b[0m             \u001b[0mvalue\u001b[0m \u001b[1;33m=\u001b[0m \u001b[0mself\u001b[0m\u001b[1;33m.\u001b[0m\u001b[0mINVALID_AFFINE\u001b[0m\u001b[1;33m\u001b[0m\u001b[1;33m\u001b[0m\u001b[0m\n\u001b[1;32m--> 135\u001b[1;33m         \u001b[1;32mreturn\u001b[0m \u001b[0mself\u001b[0m\u001b[1;33m.\u001b[0m\u001b[0m_invalidate_internal\u001b[0m\u001b[1;33m(\u001b[0m\u001b[0mvalue\u001b[0m\u001b[1;33m,\u001b[0m \u001b[0minvalidating_node\u001b[0m\u001b[1;33m=\u001b[0m\u001b[0mself\u001b[0m\u001b[1;33m)\u001b[0m\u001b[1;33m\u001b[0m\u001b[1;33m\u001b[0m\u001b[0m\n\u001b[0m\u001b[0;32m    136\u001b[0m \u001b[1;33m\u001b[0m\u001b[0m\n\u001b[0;32m    137\u001b[0m     \u001b[1;32mdef\u001b[0m \u001b[0m_invalidate_internal\u001b[0m\u001b[1;33m(\u001b[0m\u001b[0mself\u001b[0m\u001b[1;33m,\u001b[0m \u001b[0mvalue\u001b[0m\u001b[1;33m,\u001b[0m \u001b[0minvalidating_node\u001b[0m\u001b[1;33m)\u001b[0m\u001b[1;33m:\u001b[0m\u001b[1;33m\u001b[0m\u001b[1;33m\u001b[0m\u001b[0m\n",
      "\u001b[1;32m~\\Anaconda3\\lib\\site-packages\\matplotlib\\transforms.py\u001b[0m in \u001b[0;36m_invalidate_internal\u001b[1;34m(self, value, invalidating_node)\u001b[0m\n\u001b[0;32m    160\u001b[0m                 \u001b[1;32mif\u001b[0m \u001b[0mparent\u001b[0m \u001b[1;32mis\u001b[0m \u001b[1;32mnot\u001b[0m \u001b[1;32mNone\u001b[0m\u001b[1;33m:\u001b[0m\u001b[1;33m\u001b[0m\u001b[1;33m\u001b[0m\u001b[0m\n\u001b[0;32m    161\u001b[0m                     parent._invalidate_internal(\n\u001b[1;32m--> 162\u001b[1;33m                         value=value, invalidating_node=self)\n\u001b[0m\u001b[0;32m    163\u001b[0m \u001b[1;33m\u001b[0m\u001b[0m\n\u001b[0;32m    164\u001b[0m     \u001b[1;32mdef\u001b[0m \u001b[0mset_children\u001b[0m\u001b[1;33m(\u001b[0m\u001b[0mself\u001b[0m\u001b[1;33m,\u001b[0m \u001b[1;33m*\u001b[0m\u001b[0mchildren\u001b[0m\u001b[1;33m)\u001b[0m\u001b[1;33m:\u001b[0m\u001b[1;33m\u001b[0m\u001b[1;33m\u001b[0m\u001b[0m\n",
      "\u001b[1;32m~\\Anaconda3\\lib\\site-packages\\matplotlib\\transforms.py\u001b[0m in \u001b[0;36m_invalidate_internal\u001b[1;34m(self, value, invalidating_node)\u001b[0m\n\u001b[0;32m    160\u001b[0m                 \u001b[1;32mif\u001b[0m \u001b[0mparent\u001b[0m \u001b[1;32mis\u001b[0m \u001b[1;32mnot\u001b[0m \u001b[1;32mNone\u001b[0m\u001b[1;33m:\u001b[0m\u001b[1;33m\u001b[0m\u001b[1;33m\u001b[0m\u001b[0m\n\u001b[0;32m    161\u001b[0m                     parent._invalidate_internal(\n\u001b[1;32m--> 162\u001b[1;33m                         value=value, invalidating_node=self)\n\u001b[0m\u001b[0;32m    163\u001b[0m \u001b[1;33m\u001b[0m\u001b[0m\n\u001b[0;32m    164\u001b[0m     \u001b[1;32mdef\u001b[0m \u001b[0mset_children\u001b[0m\u001b[1;33m(\u001b[0m\u001b[0mself\u001b[0m\u001b[1;33m,\u001b[0m \u001b[1;33m*\u001b[0m\u001b[0mchildren\u001b[0m\u001b[1;33m)\u001b[0m\u001b[1;33m:\u001b[0m\u001b[1;33m\u001b[0m\u001b[1;33m\u001b[0m\u001b[0m\n",
      "\u001b[1;32m~\\Anaconda3\\lib\\site-packages\\matplotlib\\transforms.py\u001b[0m in \u001b[0;36m_invalidate_internal\u001b[1;34m(self, value, invalidating_node)\u001b[0m\n\u001b[0;32m    160\u001b[0m                 \u001b[1;32mif\u001b[0m \u001b[0mparent\u001b[0m \u001b[1;32mis\u001b[0m \u001b[1;32mnot\u001b[0m \u001b[1;32mNone\u001b[0m\u001b[1;33m:\u001b[0m\u001b[1;33m\u001b[0m\u001b[1;33m\u001b[0m\u001b[0m\n\u001b[0;32m    161\u001b[0m                     parent._invalidate_internal(\n\u001b[1;32m--> 162\u001b[1;33m                         value=value, invalidating_node=self)\n\u001b[0m\u001b[0;32m    163\u001b[0m \u001b[1;33m\u001b[0m\u001b[0m\n\u001b[0;32m    164\u001b[0m     \u001b[1;32mdef\u001b[0m \u001b[0mset_children\u001b[0m\u001b[1;33m(\u001b[0m\u001b[0mself\u001b[0m\u001b[1;33m,\u001b[0m \u001b[1;33m*\u001b[0m\u001b[0mchildren\u001b[0m\u001b[1;33m)\u001b[0m\u001b[1;33m:\u001b[0m\u001b[1;33m\u001b[0m\u001b[1;33m\u001b[0m\u001b[0m\n",
      "\u001b[1;32m~\\Anaconda3\\lib\\site-packages\\matplotlib\\transforms.py\u001b[0m in \u001b[0;36m_invalidate_internal\u001b[1;34m(self, value, invalidating_node)\u001b[0m\n\u001b[0;32m    160\u001b[0m                 \u001b[1;32mif\u001b[0m \u001b[0mparent\u001b[0m \u001b[1;32mis\u001b[0m \u001b[1;32mnot\u001b[0m \u001b[1;32mNone\u001b[0m\u001b[1;33m:\u001b[0m\u001b[1;33m\u001b[0m\u001b[1;33m\u001b[0m\u001b[0m\n\u001b[0;32m    161\u001b[0m                     parent._invalidate_internal(\n\u001b[1;32m--> 162\u001b[1;33m                         value=value, invalidating_node=self)\n\u001b[0m\u001b[0;32m    163\u001b[0m \u001b[1;33m\u001b[0m\u001b[0m\n\u001b[0;32m    164\u001b[0m     \u001b[1;32mdef\u001b[0m \u001b[0mset_children\u001b[0m\u001b[1;33m(\u001b[0m\u001b[0mself\u001b[0m\u001b[1;33m,\u001b[0m \u001b[1;33m*\u001b[0m\u001b[0mchildren\u001b[0m\u001b[1;33m)\u001b[0m\u001b[1;33m:\u001b[0m\u001b[1;33m\u001b[0m\u001b[1;33m\u001b[0m\u001b[0m\n",
      "\u001b[1;32m~\\Anaconda3\\lib\\site-packages\\matplotlib\\transforms.py\u001b[0m in \u001b[0;36m_invalidate_internal\u001b[1;34m(self, value, invalidating_node)\u001b[0m\n\u001b[0;32m    157\u001b[0m             \u001b[1;32mfor\u001b[0m \u001b[0mparent\u001b[0m \u001b[1;32min\u001b[0m \u001b[0mlist\u001b[0m\u001b[1;33m(\u001b[0m\u001b[0mself\u001b[0m\u001b[1;33m.\u001b[0m\u001b[0m_parents\u001b[0m\u001b[1;33m.\u001b[0m\u001b[0mvalues\u001b[0m\u001b[1;33m(\u001b[0m\u001b[1;33m)\u001b[0m\u001b[1;33m)\u001b[0m\u001b[1;33m:\u001b[0m\u001b[1;33m\u001b[0m\u001b[1;33m\u001b[0m\u001b[0m\n\u001b[0;32m    158\u001b[0m                 \u001b[1;31m# Dereference the weak reference\u001b[0m\u001b[1;33m\u001b[0m\u001b[1;33m\u001b[0m\u001b[1;33m\u001b[0m\u001b[0m\n\u001b[1;32m--> 159\u001b[1;33m                 \u001b[0mparent\u001b[0m \u001b[1;33m=\u001b[0m \u001b[0mparent\u001b[0m\u001b[1;33m(\u001b[0m\u001b[1;33m)\u001b[0m\u001b[1;33m\u001b[0m\u001b[1;33m\u001b[0m\u001b[0m\n\u001b[0m\u001b[0;32m    160\u001b[0m                 \u001b[1;32mif\u001b[0m \u001b[0mparent\u001b[0m \u001b[1;32mis\u001b[0m \u001b[1;32mnot\u001b[0m \u001b[1;32mNone\u001b[0m\u001b[1;33m:\u001b[0m\u001b[1;33m\u001b[0m\u001b[1;33m\u001b[0m\u001b[0m\n\u001b[0;32m    161\u001b[0m                     parent._invalidate_internal(\n",
      "\u001b[1;31mKeyboardInterrupt\u001b[0m: "
     ]
    }
   ],
   "source": [
    "hist = data['FAMI_ESTRATOVIVIENDA'].hist()#bins=6, grid=False, figsize=(12,8), color='#86bf91', zorder=2, rwidth=0.9)\n",
    "print(hist)\n"
   ]
  },
  {
   "cell_type": "code",
   "execution_count": 23,
   "metadata": {},
   "outputs": [
    {
     "data": {
      "text/plain": [
       "Text(0, 0.5, 'ESTU_INSE_INDIVIDUAL')"
      ]
     },
     "execution_count": 23,
     "metadata": {},
     "output_type": "execute_result"
    },
    {
     "data": {
      "image/png": "[encoded data removed]",
      "text/plain": [
       "<Figure size 432x288 with 1 Axes>"
      ]
     },
     "metadata": {
      "needs_background": "light"
     },
     "output_type": "display_data"
    }
   ],
   "source": [
    "colors = {'M':'r', 'F':'b'}\n",
    "fig, ax = plt.subplots()\n",
    "for i in range(10000):\n",
    "    ax.scatter(data['PUNT_GLOBAL'][i], data['ESTU_INSE_INDIVIDUAL'][i],color=colors[data['ESTU_GENERO'][i]])\n",
    "ax.set_title('Iris Dataset')\n",
    "ax.set_xlabel('PUNT_GLOBAL')\n",
    "ax.set_ylabel('ESTU_INSE_INDIVIDUAL')"
   ]
  },
  {
   "cell_type": "code",
   "execution_count": 20,
   "metadata": {},
   "outputs": [
    {
     "data": {
      "text/plain": [
       "'M'"
      ]
     },
     "execution_count": 20,
     "metadata": {},
     "output_type": "execute_result"
    }
   ],
   "source": [
    "data['ESTU_GENERO'][0]"
   ]
  },
  {
   "cell_type": "code",
   "execution_count": 45,
   "metadata": {},
   "outputs": [
    {
     "name": "stdout",
     "output_type": "stream",
     "text": [
      "0.43674357267452457\n"
     ]
    }
   ],
   "source": [
    "print(data.PUNT_GLOBAL.corr(data.ESTU_INSE_INDIVIDUAL, method=\"pearson\"))\n",
    "#print(data.PUNT_GLOBAL.corr(data.ESTU_INSE_INDIVIDUAL, method=\"kendall\"))\n",
    "#print(data.PUNT_GLOBAL.corr(data.ESTU_INSE_INDIVIDUAL, method=\"spearman\"))\n",
    "#print(data.PUNT_GLOBAL.corr(data.ESTU_INSE_INDIVIDUAL, method=\"callable\"))\n"
   ]
  },
  {
   "cell_type": "code",
   "execution_count": null,
   "metadata": {},
   "outputs": [],
   "source": [
    "print(data.PUNT_GLOBAL.corr(data.ESTU_NSE_INDIVIDUAL, method=\"pearson\"))"
   ]
  },
  {
   "cell_type": "code",
   "execution_count": 44,
   "metadata": {},
   "outputs": [
    {
     "data": {
      "text/plain": [
       "<matplotlib.axes._subplots.AxesSubplot at 0x29c6b83fba8>"
      ]
     },
     "execution_count": 44,
     "metadata": {},
     "output_type": "execute_result"
    },
    {
     "data": {
      "image/png": "[encoded data removed]",
      "text/plain": [
       "<Figure size 432x288 with 1 Axes>"
      ]
     },
     "metadata": {
      "needs_background": "light"
     },
     "output_type": "display_data"
    }
   ],
   "source": [
    "data.groupby('ESTU_NSE_INDIVIDUAL').size().plot(kind='bar')"
   ]
  }
 ],
 "metadata": {
  "kernelspec": {
   "display_name": "Python 3",
   "language": "python",
   "name": "python3"
  },
  "language_info": {
   "codemirror_mode": {
    "name": "ipython",
    "version": 3
   },
   "file_extension": ".py",
   "mimetype": "text/x-python",
   "name": "python",
   "nbconvert_exporter": "python",
   "pygments_lexer": "ipython3",
   "version": "3.7.3"
  }
 },
 "nbformat": 4,
 "nbformat_minor": 2
}
