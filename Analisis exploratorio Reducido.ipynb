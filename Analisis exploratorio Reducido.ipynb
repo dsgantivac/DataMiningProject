{
 "cells": [
  {
   "cell_type": "markdown",
   "metadata": {},
   "source": [
    "# Análisis  de los datos reducidos"
   ]
  },
  {
   "cell_type": "code",
   "execution_count": 59,
   "metadata": {},
   "outputs": [],
   "source": [
    "import pandas as pd\n",
    "import matplotlib.pyplot as plt \n",
    "import math\n",
    "from collections import Counter\n",
    "from random import random\n",
    "path = \"./Datasets/Saber_reducido.csv\""
   ]
  },
  {
   "cell_type": "code",
   "execution_count": 60,
   "metadata": {},
   "outputs": [],
   "source": [
    "def pertenece(a, b):\n",
    "    for i in range(1,len(b)):\n",
    "        if a>= b[i-1] and a<= b[i]:\n",
    "            return i-1\n",
    "\n",
    "def reemplazoGeneralizado(data):\n",
    "    columns = [\"ELECTRODOMESTICOS\",\"ESTU_GENERO\", \"ESTU_FECHANACIMIENTO\", \"PERIODO\", \"ESTU_DEPTO_RESIDE\", \"FAMI_ESTRATOVIVIENDA\", \"FAMI_PERSONASHOGAR\", \"FAMI_CUARTOSHOGAR\", \"FAMI_EDUCACIONPADRE\", \"FAMI_EDUCACIONMADRE\", \"FAMI_TRABAJOLABORPADRE\", \"FAMI_TRABAJOLABORMADRE\", \"FAMI_NUMLIBROS\", \"FAMI_COMELECHEDERIVADOS\", \"FAMI_COMECARNEPESCADOHUEVO\", \"FAMI_COMECEREALFRUTOSLEGUMBRE\", \"ESTU_DEDICACIONLECTURADIARIA\", \"ESTU_DEDICACIONINTERNET\", \"COLE_NATURALEZA\", \"COLE_CARACTER\", \"COLE_AREA_UBICACION\", \"COLE_JORNADA\",\"ESTU_NSE_INDIVIDUAL\"]\n",
    "    for c in columns:\n",
    "        aux4 =0\n",
    "        reemplazables = []\n",
    "        if '-' in data.groupby(c).count().index:\n",
    "            reemplazables.append(data.groupby(c).get_group('-').index.values)\n",
    "        opciones = []\n",
    "        porcentajes = [0]\n",
    "        opciones.append(list(data.groupby(c).size().axes[0]))\n",
    "        aux = len(opciones[0])\n",
    "        if '-' in opciones[0]:\n",
    "            opciones[0].remove('-')\n",
    "            aux = aux-1\n",
    "            aux2 = (data.groupby(c).size()['-']/data.shape[0])/aux\n",
    "        else:\n",
    "            continue\n",
    "        for i in range(aux):\n",
    "            aux3 = porcentajes.pop()\n",
    "            porcentajes.append(aux3)\n",
    "            a= float(data.groupby(c).size()[opciones[0][i]]/data.shape[0])+aux2+aux3\n",
    "            porcentajes.append(a)\n",
    "        if len(reemplazables) > 0:   \n",
    "            for r in reemplazables[0]:\n",
    "                randNumber = random()\n",
    "                for j in range(len(opciones[0])):\n",
    "                    lugar = pertenece(randNumber, porcentajes)\n",
    "                    data.at[r, c] = opciones[0][lugar]\n",
    "\n",
    "def puntajeGlobalCategorico(x):\n",
    "    x=int(x)\n",
    "    if x<=50:\n",
    "        return 1\n",
    "    elif x<=100:\n",
    "        return 2\n",
    "    elif x<=150:\n",
    "        return 3\n",
    "    elif x<=200:\n",
    "        return 4\n",
    "    elif x<=250:\n",
    "        return 5\n",
    "    elif x<=300:\n",
    "        return 6\n",
    "    elif x<=350:\n",
    "        return 7\n",
    "    elif x<=400:\n",
    "        return 8\n",
    "    elif x<=450:\n",
    "        return 9\n",
    "    else:\n",
    "        return 10\n",
    "\n",
    "\n",
    "def inseIndividualCategorico(x):\n",
    "    x=int(x)\n",
    "    if x<=5:\n",
    "        return 1\n",
    "    elif x<=10:\n",
    "        return 2\n",
    "    elif x<=15:\n",
    "        return 3\n",
    "    elif x<=20:\n",
    "        return 4\n",
    "    elif x<=25:\n",
    "        return 5\n",
    "    elif x<=30:\n",
    "        return 6\n",
    "    elif x<=35:\n",
    "        return 7\n",
    "    elif x<=40:\n",
    "        return 8\n",
    "    elif x<=45:\n",
    "        return 9\n",
    "    elif x<=50:\n",
    "        return 10\n",
    "    elif x<=55:\n",
    "        return 11\n",
    "    elif x<=60:\n",
    "        return 12\n",
    "    elif x<=65:\n",
    "        return 13\n",
    "    elif x<=70:\n",
    "        return 14\n",
    "    elif x<=75:\n",
    "        return 15\n",
    "    elif x<=80:\n",
    "        return 16\n",
    "    elif x<=85:\n",
    "        return 17\n",
    "    elif x<=90:\n",
    "        return 18\n",
    "    elif x<=95:\n",
    "        return 19\n",
    "    else:\n",
    "        return 20\n",
    "\n",
    "    \n",
    "def puntajeCategorico(x):\n",
    "    x=int(x)\n",
    "    if x<=10:\n",
    "        return 1\n",
    "    elif x<=20:\n",
    "        return 2\n",
    "    elif x<=30:\n",
    "        return 3\n",
    "    elif x<=40:\n",
    "        return 4\n",
    "    elif x<=50:\n",
    "        return 5\n",
    "    elif x<=60:\n",
    "        return 6\n",
    "    elif x<=70:\n",
    "        return 7\n",
    "    elif x<=80:\n",
    "        return 8\n",
    "    elif x<=90:\n",
    "        return 9\n",
    "    else:\n",
    "        return 10\n",
    "\n",
    "    \n"
   ]
  },
  {
   "cell_type": "code",
   "execution_count": 61,
   "metadata": {},
   "outputs": [],
   "source": [
    "def trabajoMadreToNumber(x):    \n",
    "    if x == \"Es agricultor, pesquero o jornalero\":\n",
    "        return 1\n",
    "    if x == \"Es dueño de un negocio grande, tiene un cargo de nivel directivo o gerencial\":\n",
    "        return 2\n",
    "    if x == \"Es dueño de un negocio pequeño (tiene pocos empleados o no tiene, por ejemplo tienda, papelería, etc\":\n",
    "        return 3\n",
    "    if x == \"Es operario de máquinas o conduce vehículos (taxita, chofer)\":\n",
    "        return 4\n",
    "    if x == \"Es vendedor o trabaja en atención al público\":\n",
    "        return 5\n",
    "    if x == \"No aplica\":\n",
    "        return 6\n",
    "    if x == \"No sabe\":\n",
    "        return 7\n",
    "    if x == \"Pensionado\":\n",
    "        return 8\n",
    "    if x == \"Tiene un trabajo de tipo auxiliar administrativo (por ejemplo, secretario o asistente)\":\n",
    "        return 9\n",
    "    if x == \"Trabaja como personal de limpieza, mantenimiento, seguridad o construcción\":\n",
    "        return 10\n",
    "    if x == \"Trabaja como profesional (por ejemplo médico, abogado, ingeniero)\":\n",
    "        return 11\n",
    "    if x == \"Trabaja en el hogar, no trabaja o estudia\":\n",
    "        return 12\n",
    "    if x == \"Trabaja por cuenta propia (por ejemplo plomero, electricista)\":\n",
    "        return 13\n",
    "    else:\n",
    "        return -1\n",
    "\n",
    "\n",
    "def educacionToNumber(x):\n",
    "\n",
    "    if x == \"Educación profesional completa\":\n",
    "        return 1\n",
    "    if x == \"Educación profesional incompleta\":\n",
    "        return 2\n",
    "    if x == \"Ninguno\":\n",
    "        return 3\n",
    "    if x == \"No Aplica\":\n",
    "        return 4\n",
    "    if x == \"No sabe\":\n",
    "        return 5\n",
    "    if x == \"Postgrado\":\n",
    "        return 6\n",
    "    if x == \"Primaria completa\":\n",
    "        return 7\n",
    "    if x == \"Primaria incompleta\":\n",
    "        return 8\n",
    "    if x == \"Secundaria (Bachillerato) completa\":\n",
    "        return 9\n",
    "    if x == \"Secundaria (Bachillerato) incompleta\":\n",
    "        return 10\n",
    "    if x == \"Técnica o tecnológica completa\":\n",
    "        return 11\n",
    "    if x == \"Técnica o tecnológica incompleta\":\n",
    "        return 12\n",
    "    else:\n",
    "        return x\n",
    "\n",
    "def foodToNumber(x):\n",
    "    if x == \"1 o 2 veces por semana\":\n",
    "        return 1\n",
    "    if x == \"3 a 5 veces por semana\":\n",
    "        return 2\n",
    "    if x == \"Nunca o rara vez comemos eso\":\n",
    "        return 3\n",
    "    if x == \"Todos o casi todos los días\":\n",
    "        return 4\n",
    "        \n",
    "def lectureToNumber(x):\n",
    "    if x == \"30 minutos o menos\":\n",
    "        return 1\n",
    "    if x == \"Entre 1 y 2 horas\":\n",
    "        return 2\n",
    "    if x == \"Entre 30 y 60 minutos\":\n",
    "        return 3\n",
    "    if x == \"Más de 2 horas\":\n",
    "        return 4\n",
    "    if x == \"No leo por entretenimiento\":\n",
    "        return 5\n",
    "    \n",
    "def internetToNumber(x):\n",
    "    if x == \"30 minutos o menos\":\n",
    "        return 1\n",
    "    if x == \"Entre 1 y 3 horas\":\n",
    "        return 2\n",
    "    if x == \"Entre 30 y 60 minutos\":\n",
    "        return 3\n",
    "    if x == \"Más de 3 horas\":\n",
    "        return 4\n",
    "    if x == \"No Navega Internet\":\n",
    "        return 5"
   ]
  },
  {
   "cell_type": "code",
   "execution_count": 62,
   "metadata": {},
   "outputs": [],
   "source": [
    "Keys = [\"ELECTRODOMESTICOS\",\"ESTU_GENERO\", \"ESTU_FECHANACIMIENTO\", \"PERIODO\", \"ESTU_DEPTO_RESIDE\", \"FAMI_ESTRATOVIVIENDA\", \"FAMI_PERSONASHOGAR\", \"FAMI_CUARTOSHOGAR\", \"FAMI_EDUCACIONPADRE\", \"FAMI_EDUCACIONMADRE\", \"FAMI_TRABAJOLABORPADRE\", \"FAMI_TRABAJOLABORMADRE\", \"FAMI_NUMLIBROS\", \"FAMI_COMELECHEDERIVADOS\", \"FAMI_COMECARNEPESCADOHUEVO\", \"FAMI_COMECEREALFRUTOSLEGUMBRE\", \"ESTU_DEDICACIONLECTURADIARIA\", \"ESTU_DEDICACIONINTERNET\", \"COLE_NATURALEZA\", \"COLE_CARACTER\", \"COLE_AREA_UBICACION\", \"COLE_JORNADA\", \"PUNT_LECTURA_CRITICA\", \"PUNT_MATEMATICAS\", \"PUNT_C_NATURALES\", \"PUNT_SOCIALES_CIUDADANAS\", \"PUNT_INGLES\", \"PUNT_GLOBAL\", \"ESTU_NSE_ESTABLECIMIENTO\", \"ESTU_INSE_INDIVIDUAL\", \"ESTU_NSE_INDIVIDUAL\"]"
   ]
  },
  {
   "cell_type": "code",
   "execution_count": 63,
   "metadata": {},
   "outputs": [
    {
     "name": "stdout",
     "output_type": "stream",
     "text": [
      "ELECTRODOMESTICOS\n",
      "ESTU_DEDICACIONLECTURADIARIA\n",
      "COLE_NATURALEZA\n"
     ]
    }
   ],
   "source": [
    "tmp = [\"ESTU_GENERO\",\"ESTU_FECHANACIMIENTO\",\"PERIODO\",\"ESTU_DEPTO_RESIDE\",\"FAMI_ESTRATOVIVIENDA\",\"FAMI_PERSONASHOGAR\",\"FAMI_CUARTOSHOGAR\",\"FAMI_EDUCACIONPADRE\",\"FAMI_EDUCACIONMADRE\",\"FAMI_TRABAJOLABORPADRE\",\"FAMI_TRABAJOLABORMADRE\",\"FAMI_TIENESERVICIOTV\",\"FAMI_TIENECOMPUTADOR\",\"FAMI_TIENEAUTOMOVIL\",\"FAMI_TIENEMOTOCICLETA\",\"FAMI_TIENECONSOLAVIDEOJUEGOS\",\"FAMI_NUMLIBROS\",\"FAMI_COMELECHEDERIVADOS\",\"FAMI_COMECARNEPESCADOHUEVO\",\"FAMI_COMECEREALFRUTOSLEGUMBRE\",\"FAMI_SITUACIONECONOMICA\",\"ESTU_DEDICACIONLECTURADIARIA \",\"ESTU_DEDICACIONINTERNET\",\"COLE_NOMBRE_ESTABLECIMIENTO\",\"COLE_NATURALEZA COLE_BILINGUE\",\"COLE_CARACTER\",\"COLE_AREA_UBICACION\",\"COLE_JORNADA\",\"PUNT_LECTURA_CRITICA\",\"PERCENTIL_LECTURA_CRITICA\",\"PUNT_MATEMATICAS\",\"PERCENTIL_MATEMATICAS\",\"PUNT_C_NATURALES\",\"PERCENTIL_C_NATURALES\",\"PUNT_SOCIALES_CIUDADANAS\",\"PERCENTIL_SOCIALES_CIUDADANAS\",\"PUNT_INGLES\",\"PERCENTIL_INGLES\",\"PUNT_GLOBAL\",\"PERCENTIL_GLOBAL\",\"ESTU_NSE_ESTABLECIMIENTO\",\"ESTU_INSE_INDIVIDUAL\",\"ESTU_NSE_INDIVIDUAL\",\n",
    "]\n",
    "\n",
    "for element in Keys:\n",
    "    if element not in tmp:\n",
    "        print(element)\n"
   ]
  },
  {
   "cell_type": "code",
   "execution_count": 64,
   "metadata": {},
   "outputs": [],
   "source": [
    "data = pd.read_csv(path, low_memory=False)"
   ]
  },
  {
   "cell_type": "code",
   "execution_count": 65,
   "metadata": {},
   "outputs": [],
   "source": [
    "reemplazoGeneralizado(data)"
   ]
  },
  {
   "cell_type": "markdown",
   "metadata": {},
   "source": [
    "## Discretizacion ESTU_INSE_INDIVIDUAL"
   ]
  },
  {
   "cell_type": "code",
   "execution_count": 66,
   "metadata": {},
   "outputs": [],
   "source": [
    "# to integer\n",
    "data['ESTU_INSE_INDIVIDUAL'] = data.apply(lambda x: round(x['ESTU_INSE_INDIVIDUAL'], 0),axis=1)"
   ]
  },
  {
   "cell_type": "code",
   "execution_count": 67,
   "metadata": {},
   "outputs": [
    {
     "data": {
      "text/html": [
       "<div>\n",
       "<style scoped>\n",
       "    .dataframe tbody tr th:only-of-type {\n",
       "        vertical-align: middle;\n",
       "    }\n",
       "\n",
       "    .dataframe tbody tr th {\n",
       "        vertical-align: top;\n",
       "    }\n",
       "\n",
       "    .dataframe thead th {\n",
       "        text-align: right;\n",
       "    }\n",
       "</style>\n",
       "<table border=\"1\" class=\"dataframe\">\n",
       "  <thead>\n",
       "    <tr style=\"text-align: right;\">\n",
       "      <th></th>\n",
       "      <th>ELECTRODOMESTICOS</th>\n",
       "      <th>ESTU_GENERO</th>\n",
       "      <th>ESTU_FECHANACIMIENTO</th>\n",
       "      <th>PERIODO</th>\n",
       "      <th>ESTU_DEPTO_RESIDE</th>\n",
       "      <th>FAMI_ESTRATOVIVIENDA</th>\n",
       "      <th>FAMI_PERSONASHOGAR</th>\n",
       "      <th>FAMI_CUARTOSHOGAR</th>\n",
       "      <th>FAMI_EDUCACIONPADRE</th>\n",
       "      <th>FAMI_EDUCACIONMADRE</th>\n",
       "      <th>...</th>\n",
       "      <th>COLE_JORNADA</th>\n",
       "      <th>PUNT_LECTURA_CRITICA</th>\n",
       "      <th>PUNT_MATEMATICAS</th>\n",
       "      <th>PUNT_C_NATURALES</th>\n",
       "      <th>PUNT_SOCIALES_CIUDADANAS</th>\n",
       "      <th>PUNT_INGLES</th>\n",
       "      <th>PUNT_GLOBAL</th>\n",
       "      <th>ESTU_NSE_ESTABLECIMIENTO</th>\n",
       "      <th>ESTU_INSE_INDIVIDUAL</th>\n",
       "      <th>ESTU_NSE_INDIVIDUAL</th>\n",
       "    </tr>\n",
       "  </thead>\n",
       "  <tbody>\n",
       "    <tr>\n",
       "      <th>0</th>\n",
       "      <td>10010</td>\n",
       "      <td>M</td>\n",
       "      <td>16</td>\n",
       "      <td>20182</td>\n",
       "      <td>ATLANTICO</td>\n",
       "      <td>Estrato 2</td>\n",
       "      <td>7 a 8</td>\n",
       "      <td>Cuatro</td>\n",
       "      <td>No sabe</td>\n",
       "      <td>No sabe</td>\n",
       "      <td>...</td>\n",
       "      <td>MAÑANA</td>\n",
       "      <td>63</td>\n",
       "      <td>69</td>\n",
       "      <td>54</td>\n",
       "      <td>57</td>\n",
       "      <td>65.0</td>\n",
       "      <td>305</td>\n",
       "      <td>2.0</td>\n",
       "      <td>53.0</td>\n",
       "      <td>NSE3</td>\n",
       "    </tr>\n",
       "    <tr>\n",
       "      <th>1</th>\n",
       "      <td>10010</td>\n",
       "      <td>M</td>\n",
       "      <td>17</td>\n",
       "      <td>20182</td>\n",
       "      <td>CORDOBA</td>\n",
       "      <td>Estrato 1</td>\n",
       "      <td>5 a 6</td>\n",
       "      <td>Dos</td>\n",
       "      <td>Secundaria (Bachillerato) completa</td>\n",
       "      <td>Primaria completa</td>\n",
       "      <td>...</td>\n",
       "      <td>UNICA</td>\n",
       "      <td>54</td>\n",
       "      <td>50</td>\n",
       "      <td>50</td>\n",
       "      <td>40</td>\n",
       "      <td>48.0</td>\n",
       "      <td>242</td>\n",
       "      <td>2.0</td>\n",
       "      <td>45.0</td>\n",
       "      <td>NSE2</td>\n",
       "    </tr>\n",
       "    <tr>\n",
       "      <th>2</th>\n",
       "      <td>0</td>\n",
       "      <td>M</td>\n",
       "      <td>16</td>\n",
       "      <td>20182</td>\n",
       "      <td>VALLE</td>\n",
       "      <td>Estrato 2</td>\n",
       "      <td>1 a 2</td>\n",
       "      <td>Dos</td>\n",
       "      <td>No sabe</td>\n",
       "      <td>Técnica o tecnológica incompleta</td>\n",
       "      <td>...</td>\n",
       "      <td>MAÑANA</td>\n",
       "      <td>59</td>\n",
       "      <td>43</td>\n",
       "      <td>46</td>\n",
       "      <td>45</td>\n",
       "      <td>47.0</td>\n",
       "      <td>241</td>\n",
       "      <td>2.0</td>\n",
       "      <td>45.0</td>\n",
       "      <td>NSE2</td>\n",
       "    </tr>\n",
       "    <tr>\n",
       "      <th>3</th>\n",
       "      <td>11101</td>\n",
       "      <td>M</td>\n",
       "      <td>17</td>\n",
       "      <td>20182</td>\n",
       "      <td>BOYACA</td>\n",
       "      <td>Estrato 3</td>\n",
       "      <td>3 a 4</td>\n",
       "      <td>Tres</td>\n",
       "      <td>No sabe</td>\n",
       "      <td>Educación profesional completa</td>\n",
       "      <td>...</td>\n",
       "      <td>MAÑANA</td>\n",
       "      <td>61</td>\n",
       "      <td>60</td>\n",
       "      <td>60</td>\n",
       "      <td>67</td>\n",
       "      <td>63.0</td>\n",
       "      <td>310</td>\n",
       "      <td>3.0</td>\n",
       "      <td>74.0</td>\n",
       "      <td>NSE4</td>\n",
       "    </tr>\n",
       "    <tr>\n",
       "      <th>4</th>\n",
       "      <td>10000</td>\n",
       "      <td>M</td>\n",
       "      <td>19</td>\n",
       "      <td>20182</td>\n",
       "      <td>BOGOTA</td>\n",
       "      <td>Estrato 2</td>\n",
       "      <td>7 a 8</td>\n",
       "      <td>Tres</td>\n",
       "      <td>No sabe</td>\n",
       "      <td>No sabe</td>\n",
       "      <td>...</td>\n",
       "      <td>COMPLETA</td>\n",
       "      <td>56</td>\n",
       "      <td>51</td>\n",
       "      <td>48</td>\n",
       "      <td>49</td>\n",
       "      <td>56.0</td>\n",
       "      <td>257</td>\n",
       "      <td>3.0</td>\n",
       "      <td>49.0</td>\n",
       "      <td>NSE2</td>\n",
       "    </tr>\n",
       "  </tbody>\n",
       "</table>\n",
       "<p>5 rows × 31 columns</p>\n",
       "</div>"
      ],
      "text/plain": [
       "   ELECTRODOMESTICOS ESTU_GENERO  ESTU_FECHANACIMIENTO  PERIODO  \\\n",
       "0              10010           M                    16    20182   \n",
       "1              10010           M                    17    20182   \n",
       "2                  0           M                    16    20182   \n",
       "3              11101           M                    17    20182   \n",
       "4              10000           M                    19    20182   \n",
       "\n",
       "  ESTU_DEPTO_RESIDE FAMI_ESTRATOVIVIENDA FAMI_PERSONASHOGAR FAMI_CUARTOSHOGAR  \\\n",
       "0         ATLANTICO            Estrato 2              7 a 8            Cuatro   \n",
       "1           CORDOBA            Estrato 1              5 a 6               Dos   \n",
       "2             VALLE            Estrato 2              1 a 2               Dos   \n",
       "3            BOYACA            Estrato 3              3 a 4              Tres   \n",
       "4            BOGOTA            Estrato 2              7 a 8              Tres   \n",
       "\n",
       "                  FAMI_EDUCACIONPADRE               FAMI_EDUCACIONMADRE  ...  \\\n",
       "0                             No sabe                           No sabe  ...   \n",
       "1  Secundaria (Bachillerato) completa                 Primaria completa  ...   \n",
       "2                             No sabe  Técnica o tecnológica incompleta  ...   \n",
       "3                             No sabe    Educación profesional completa  ...   \n",
       "4                             No sabe                           No sabe  ...   \n",
       "\n",
       "  COLE_JORNADA PUNT_LECTURA_CRITICA PUNT_MATEMATICAS PUNT_C_NATURALES  \\\n",
       "0       MAÑANA                   63               69               54   \n",
       "1        UNICA                   54               50               50   \n",
       "2       MAÑANA                   59               43               46   \n",
       "3       MAÑANA                   61               60               60   \n",
       "4     COMPLETA                   56               51               48   \n",
       "\n",
       "  PUNT_SOCIALES_CIUDADANAS PUNT_INGLES PUNT_GLOBAL ESTU_NSE_ESTABLECIMIENTO  \\\n",
       "0                       57        65.0         305                      2.0   \n",
       "1                       40        48.0         242                      2.0   \n",
       "2                       45        47.0         241                      2.0   \n",
       "3                       67        63.0         310                      3.0   \n",
       "4                       49        56.0         257                      3.0   \n",
       "\n",
       "  ESTU_INSE_INDIVIDUAL ESTU_NSE_INDIVIDUAL  \n",
       "0                 53.0                NSE3  \n",
       "1                 45.0                NSE2  \n",
       "2                 45.0                NSE2  \n",
       "3                 74.0                NSE4  \n",
       "4                 49.0                NSE2  \n",
       "\n",
       "[5 rows x 31 columns]"
      ]
     },
     "execution_count": 67,
     "metadata": {},
     "output_type": "execute_result"
    }
   ],
   "source": [
    "data.head()"
   ]
  },
  {
   "cell_type": "code",
   "execution_count": 68,
   "metadata": {
    "scrolled": false
   },
   "outputs": [
    {
     "data": {
      "text/plain": [
       "ELECTRODOMESTICOS                                                       10010\n",
       "ESTU_GENERO                                                                 M\n",
       "ESTU_FECHANACIMIENTO                                                       16\n",
       "PERIODO                                                                 20182\n",
       "ESTU_DEPTO_RESIDE                                                   ATLANTICO\n",
       "FAMI_ESTRATOVIVIENDA                                                Estrato 2\n",
       "FAMI_PERSONASHOGAR                                                      7 a 8\n",
       "FAMI_CUARTOSHOGAR                                                      Cuatro\n",
       "FAMI_EDUCACIONPADRE                                                   No sabe\n",
       "FAMI_EDUCACIONMADRE                                                   No sabe\n",
       "FAMI_TRABAJOLABORPADRE           Es vendedor o trabaja en atención al público\n",
       "FAMI_TRABAJOLABORMADRE           Es vendedor o trabaja en atención al público\n",
       "FAMI_NUMLIBROS                                                26 A 100 LIBROS\n",
       "FAMI_COMELECHEDERIVADOS                           Todos o casi todos los días\n",
       "FAMI_COMECARNEPESCADOHUEVO                        Todos o casi todos los días\n",
       "FAMI_COMECEREALFRUTOSLEGUMBRE                          1 o 2 veces por semana\n",
       "ESTU_DEDICACIONLECTURADIARIA                               30 minutos o menos\n",
       "ESTU_DEDICACIONINTERNET                                        Más de 3 horas\n",
       "COLE_NATURALEZA                                                       OFICIAL\n",
       "COLE_CARACTER                                                       ACADÉMICO\n",
       "COLE_AREA_UBICACION                                                    URBANO\n",
       "COLE_JORNADA                                                           MAÑANA\n",
       "PUNT_LECTURA_CRITICA                                                       63\n",
       "PUNT_MATEMATICAS                                                           69\n",
       "PUNT_C_NATURALES                                                           54\n",
       "PUNT_SOCIALES_CIUDADANAS                                                   57\n",
       "PUNT_INGLES                                                                65\n",
       "PUNT_GLOBAL                                                               305\n",
       "ESTU_NSE_ESTABLECIMIENTO                                                    2\n",
       "ESTU_INSE_INDIVIDUAL                                                       53\n",
       "ESTU_NSE_INDIVIDUAL                                                      NSE3\n",
       "Name: 0, dtype: object"
      ]
     },
     "execution_count": 68,
     "metadata": {},
     "output_type": "execute_result"
    }
   ],
   "source": [
    "data.iloc[0]"
   ]
  },
  {
   "cell_type": "code",
   "execution_count": null,
   "metadata": {},
   "outputs": [],
   "source": []
  },
  {
   "cell_type": "code",
   "execution_count": 69,
   "metadata": {},
   "outputs": [
    {
     "data": {
      "text/plain": [
       "ESTU_NSE_INDIVIDUAL\n",
       "NSE1    164620\n",
       "NSE2    394452\n",
       "NSE3    374977\n",
       "NSE4     81270\n",
       "dtype: int64"
      ]
     },
     "execution_count": 69,
     "metadata": {},
     "output_type": "execute_result"
    }
   ],
   "source": [
    "data.groupby(\"ESTU_NSE_INDIVIDUAL\").size()  "
   ]
  },
  {
   "cell_type": "code",
   "execution_count": 70,
   "metadata": {},
   "outputs": [
    {
     "data": {
      "text/plain": [
       "pandas.core.series.Series"
      ]
     },
     "execution_count": 70,
     "metadata": {},
     "output_type": "execute_result"
    }
   ],
   "source": [
    "type(data.groupby(\"FAMI_NUMLIBROS\").size())"
   ]
  },
  {
   "cell_type": "code",
   "execution_count": 71,
   "metadata": {},
   "outputs": [],
   "source": [
    "#data.groupby(\"ESTU_GENERO\").get_group('-').index.values"
   ]
  },
  {
   "cell_type": "code",
   "execution_count": 72,
   "metadata": {},
   "outputs": [
    {
     "data": {
      "text/plain": [
       "FAMI_TRABAJOLABORMADRE\n",
       "Es agricultor, pesquero o jornalero                                                                      28813\n",
       "Es dueño de un negocio grande, tiene un cargo de nivel directivo o gerencial                             15188\n",
       "Es dueño de un negocio pequeño (tiene pocos empleados o no tiene, por ejemplo tienda, papelería, etc     87656\n",
       "Es operario de máquinas o conduce vehículos (taxita, chofer)                                             16736\n",
       "Es vendedor o trabaja en atención al público                                                             78935\n",
       "No aplica                                                                                                48318\n",
       "No sabe                                                                                                  25150\n",
       "Pensionado                                                                                                6688\n",
       "Tiene un trabajo de tipo auxiliar administrativo (por ejemplo, secretario o asistente)                   86652\n",
       "Trabaja como personal de limpieza, mantenimiento, seguridad o construcción                               88440\n",
       "Trabaja como profesional (por ejemplo médico, abogado, ingeniero)                                        78971\n",
       "Trabaja en el hogar, no trabaja o estudia                                                               422921\n",
       "Trabaja por cuenta propia (por ejemplo plomero, electricista)                                            30851\n",
       "dtype: int64"
      ]
     },
     "execution_count": 72,
     "metadata": {},
     "output_type": "execute_result"
    }
   ],
   "source": [
    "data.groupby(\"FAMI_TRABAJOLABORMADRE\").size() "
   ]
  },
  {
   "cell_type": "code",
   "execution_count": 73,
   "metadata": {},
   "outputs": [
    {
     "data": {
      "text/plain": [
       "FAMI_EDUCACIONMADRE\n",
       "Educación profesional completa          104891\n",
       "Educación profesional incompleta         24830\n",
       "Ninguno                                  21258\n",
       "No Aplica                                 1772\n",
       "No sabe                                  17723\n",
       "Postgrado                                21222\n",
       "Primaria completa                       112575\n",
       "Primaria incompleta                     158012\n",
       "Secundaria (Bachillerato) completa      261867\n",
       "Secundaria (Bachillerato) incompleta    157404\n",
       "Técnica o tecnológica completa          102475\n",
       "Técnica o tecnológica incompleta         31290\n",
       "dtype: int64"
      ]
     },
     "execution_count": 73,
     "metadata": {},
     "output_type": "execute_result"
    }
   ],
   "source": [
    "data.groupby(\"FAMI_EDUCACIONMADRE\").size()"
   ]
  },
  {
   "cell_type": "code",
   "execution_count": 74,
   "metadata": {},
   "outputs": [
    {
     "data": {
      "text/plain": [
       "FAMI_EDUCACIONPADRE\n",
       "Educación profesional completa           92546\n",
       "Educación profesional incompleta         20248\n",
       "Ninguno                                  34431\n",
       "No Aplica                                10192\n",
       "No sabe                                  62935\n",
       "Postgrado                                18690\n",
       "Primaria completa                       111463\n",
       "Primaria incompleta                     201105\n",
       "Secundaria (Bachillerato) completa      226079\n",
       "Secundaria (Bachillerato) incompleta    146785\n",
       "Técnica o tecnológica completa           69750\n",
       "Técnica o tecnológica incompleta         21095\n",
       "dtype: int64"
      ]
     },
     "execution_count": 74,
     "metadata": {},
     "output_type": "execute_result"
    }
   ],
   "source": [
    "data.groupby(\"FAMI_EDUCACIONPADRE\").size()"
   ]
  },
  {
   "cell_type": "code",
   "execution_count": 75,
   "metadata": {},
   "outputs": [
    {
     "data": {
      "text/plain": [
       "FAMI_CUARTOSHOGAR\n",
       "Cinco          40956\n",
       "Cuatro        134562\n",
       "Dos           365477\n",
       "Seis o mas     21801\n",
       "Tres          399672\n",
       "Uno            52851\n",
       "dtype: int64"
      ]
     },
     "execution_count": 75,
     "metadata": {},
     "output_type": "execute_result"
    }
   ],
   "source": [
    "data.groupby(\"FAMI_CUARTOSHOGAR\").size()"
   ]
  },
  {
   "cell_type": "code",
   "execution_count": 76,
   "metadata": {},
   "outputs": [
    {
     "data": {
      "text/plain": [
       "FAMI_PERSONASHOGAR\n",
       "1 a 2       73742\n",
       "3 a 4      485346\n",
       "5 a 6      332016\n",
       "7 a 8       88611\n",
       "9 o más     35604\n",
       "dtype: int64"
      ]
     },
     "execution_count": 76,
     "metadata": {},
     "output_type": "execute_result"
    }
   ],
   "source": [
    "data.groupby(\"FAMI_PERSONASHOGAR\").size()"
   ]
  },
  {
   "cell_type": "markdown",
   "metadata": {},
   "source": [
    "## Histogramas"
   ]
  },
  {
   "cell_type": "code",
   "execution_count": 77,
   "metadata": {},
   "outputs": [
    {
     "data": {
      "text/plain": [
       "COLE_JORNADA\n",
       "COMPLETA    184979\n",
       "MAÑANA      523472\n",
       "NOCHE        48127\n",
       "SABATINA     53347\n",
       "TARDE       132572\n",
       "UNICA        72822\n",
       "dtype: int64"
      ]
     },
     "execution_count": 77,
     "metadata": {},
     "output_type": "execute_result"
    }
   ],
   "source": [
    "data.groupby(\"COLE_JORNADA\").size()"
   ]
  },
  {
   "cell_type": "code",
   "execution_count": 78,
   "metadata": {},
   "outputs": [
    {
     "data": {
      "text/plain": [
       "FAMI_ESTRATOVIVIENDA\n",
       "Estrato 1      33.231132\n",
       "Estrato 2      36.629473\n",
       "Estrato 3      20.492180\n",
       "Estrato 4       4.705221\n",
       "Estrato 5       1.550843\n",
       "Estrato 6       0.745086\n",
       "Sin Estrato     2.646065\n",
       "dtype: float64"
      ]
     },
     "execution_count": 78,
     "metadata": {},
     "output_type": "execute_result"
    }
   ],
   "source": [
    "data.groupby(\"FAMI_ESTRATOVIVIENDA\").size()/data.shape[0] * 100"
   ]
  },
  {
   "cell_type": "code",
   "execution_count": 79,
   "metadata": {},
   "outputs": [
    {
     "data": {
      "text/plain": [
       "<matplotlib.axes._subplots.AxesSubplot at 0x24287d20dd8>"
      ]
     },
     "execution_count": 79,
     "metadata": {},
     "output_type": "execute_result"
    },
    {
     "data": {
      "image/png": "[encoded data removed]",
      "text/plain": [
       "<Figure size 432x288 with 1 Axes>"
      ]
     },
     "metadata": {
      "needs_background": "light"
     },
     "output_type": "display_data"
    }
   ],
   "source": [
    "data['FAMI_ESTRATOVIVIENDA'].value_counts().plot(kind='bar')"
   ]
  },
  {
   "cell_type": "code",
   "execution_count": 80,
   "metadata": {},
   "outputs": [
    {
     "data": {
      "text/plain": [
       "ESTU_FECHANACIMIENTO\n",
       "14      1376\n",
       "15     37302\n",
       "16    373165\n",
       "17    336231\n",
       "18    167616\n",
       "19     63029\n",
       "20     21248\n",
       "21      9541\n",
       "22      5811\n",
       "dtype: int64"
      ]
     },
     "execution_count": 80,
     "metadata": {},
     "output_type": "execute_result"
    }
   ],
   "source": [
    "data.groupby(\"ESTU_FECHANACIMIENTO\").size()"
   ]
  },
  {
   "cell_type": "code",
   "execution_count": 81,
   "metadata": {},
   "outputs": [
    {
     "name": "stdout",
     "output_type": "stream",
     "text": [
      "<class 'matplotlib.axes._subplots.AxesSubplot'>\n"
     ]
    },
    {
     "data": {
      "image/png": "[encoded data removed]",
      "text/plain": [
       "<Figure size 432x288 with 1 Axes>"
      ]
     },
     "metadata": {
      "needs_background": "light"
     },
     "output_type": "display_data"
    }
   ],
   "source": [
    "hist = data[\"ESTU_FECHANACIMIENTO\"].hist()\n",
    "hist.set_xlabel(\"Edad\")\n",
    "print(type(hist))"
   ]
  },
  {
   "cell_type": "code",
   "execution_count": 82,
   "metadata": {},
   "outputs": [
    {
     "data": {
      "text/plain": [
       "<matplotlib.axes._subplots.AxesSubplot at 0x24287d98668>"
      ]
     },
     "execution_count": 82,
     "metadata": {},
     "output_type": "execute_result"
    },
    {
     "data": {
      "image/png": "[encoded data removed]",
      "text/plain": [
       "<Figure size 432x288 with 1 Axes>"
      ]
     },
     "metadata": {
      "needs_background": "light"
     },
     "output_type": "display_data"
    }
   ],
   "source": [
    "data['ESTU_GENERO'].value_counts().plot(kind='bar')"
   ]
  },
  {
   "cell_type": "code",
   "execution_count": 83,
   "metadata": {},
   "outputs": [
    {
     "name": "stdout",
     "output_type": "stream",
     "text": [
      "min 13.0\n",
      "max 85.0\n"
     ]
    }
   ],
   "source": [
    "#data.groupby(\"ESTU_INSE_INDIVIDUAL\").size()\n",
    "print(\"min\",data[\"ESTU_INSE_INDIVIDUAL\"].min())\n",
    "print(\"max\",data[\"ESTU_INSE_INDIVIDUAL\"].max())\n"
   ]
  },
  {
   "cell_type": "code",
   "execution_count": 84,
   "metadata": {},
   "outputs": [
    {
     "data": {
      "text/plain": [
       "<matplotlib.axes._subplots.AxesSubplot at 0x24287de1ba8>"
      ]
     },
     "execution_count": 84,
     "metadata": {},
     "output_type": "execute_result"
    },
    {
     "data": {
      "image/png": "[encoded data removed]",
      "text/plain": [
       "<Figure size 432x288 with 1 Axes>"
      ]
     },
     "metadata": {
      "needs_background": "light"
     },
     "output_type": "display_data"
    }
   ],
   "source": [
    "data['ESTU_INSE_INDIVIDUAL'].hist(bins = 100)"
   ]
  },
  {
   "cell_type": "code",
   "execution_count": 85,
   "metadata": {},
   "outputs": [
    {
     "data": {
      "text/plain": [
       "<matplotlib.axes._subplots.AxesSubplot at 0x2429aab7550>"
      ]
     },
     "execution_count": 85,
     "metadata": {},
     "output_type": "execute_result"
    },
    {
     "data": {
      "image/png": "[encoded data removed]",
      "text/plain": [
       "<Figure size 432x288 with 1 Axes>"
      ]
     },
     "metadata": {
      "needs_background": "light"
     },
     "output_type": "display_data"
    }
   ],
   "source": [
    "data[\"ESTU_NSE_INDIVIDUAL\"].value_counts().plot(kind ='bar')"
   ]
  },
  {
   "cell_type": "code",
   "execution_count": 86,
   "metadata": {},
   "outputs": [
    {
     "data": {
      "text/plain": [
       "ESTU_NSE_INDIVIDUAL\n",
       "NSE1    164620\n",
       "NSE2    394452\n",
       "NSE3    374977\n",
       "NSE4     81270\n",
       "dtype: int64"
      ]
     },
     "execution_count": 86,
     "metadata": {},
     "output_type": "execute_result"
    }
   ],
   "source": [
    "data.groupby(\"ESTU_NSE_INDIVIDUAL\").size()"
   ]
  },
  {
   "cell_type": "code",
   "execution_count": 87,
   "metadata": {},
   "outputs": [
    {
     "name": "stdout",
     "output_type": "stream",
     "text": [
      "72076\n",
      "545146\n",
      "351248\n",
      "45744\n"
     ]
    }
   ],
   "source": [
    "n = len(data.groupby(\"ESTU_NSE_ESTABLECIMIENTO\").size())\n",
    "for i in range(1,n+1):\n",
    "    print(data.groupby(\"ESTU_NSE_ESTABLECIMIENTO\").size()[i])"
   ]
  },
  {
   "cell_type": "code",
   "execution_count": 88,
   "metadata": {},
   "outputs": [
    {
     "data": {
      "text/plain": [
       "<matplotlib.axes._subplots.AxesSubplot at 0x2428475fe48>"
      ]
     },
     "execution_count": 88,
     "metadata": {},
     "output_type": "execute_result"
    },
    {
     "data": {
      "image/png": "[encoded data removed]",
      "text/plain": [
       "<Figure size 432x288 with 1 Axes>"
      ]
     },
     "metadata": {
      "needs_background": "light"
     },
     "output_type": "display_data"
    }
   ],
   "source": [
    "data[\"PUNT_GLOBAL\"].hist(bins = 100)"
   ]
  },
  {
   "cell_type": "code",
   "execution_count": 89,
   "metadata": {},
   "outputs": [
    {
     "data": {
      "text/plain": [
       "<matplotlib.axes._subplots.AxesSubplot at 0x24283fd7a90>"
      ]
     },
     "execution_count": 89,
     "metadata": {},
     "output_type": "execute_result"
    },
    {
     "data": {
      "image/png": "[encoded data removed]",
      "text/plain": [
       "<Figure size 432x288 with 1 Axes>"
      ]
     },
     "metadata": {
      "needs_background": "light"
     },
     "output_type": "display_data"
    }
   ],
   "source": [
    "data[\"PUNT_INGLES\"].hist(bins = 100)"
   ]
  },
  {
   "cell_type": "code",
   "execution_count": 90,
   "metadata": {},
   "outputs": [
    {
     "data": {
      "text/plain": [
       "<matplotlib.axes._subplots.AxesSubplot at 0x242841145f8>"
      ]
     },
     "execution_count": 90,
     "metadata": {},
     "output_type": "execute_result"
    },
    {
     "data": {
      "image/png": "[encoded data removed]",
      "text/plain": [
       "<Figure size 432x288 with 1 Axes>"
      ]
     },
     "metadata": {
      "needs_background": "light"
     },
     "output_type": "display_data"
    }
   ],
   "source": [
    "data[\"PUNT_SOCIALES_CIUDADANAS\"].hist(bins = 100)"
   ]
  },
  {
   "cell_type": "code",
   "execution_count": 91,
   "metadata": {},
   "outputs": [
    {
     "data": {
      "text/plain": [
       "<matplotlib.axes._subplots.AxesSubplot at 0x24284269710>"
      ]
     },
     "execution_count": 91,
     "metadata": {},
     "output_type": "execute_result"
    },
    {
     "data": {
      "image/png": "[encoded data removed]",
      "text/plain": [
       "<Figure size 432x288 with 1 Axes>"
      ]
     },
     "metadata": {
      "needs_background": "light"
     },
     "output_type": "display_data"
    }
   ],
   "source": [
    "data[\"PUNT_C_NATURALES\"].hist(bins = 100)"
   ]
  },
  {
   "cell_type": "code",
   "execution_count": 92,
   "metadata": {},
   "outputs": [
    {
     "data": {
      "text/plain": [
       "<matplotlib.axes._subplots.AxesSubplot at 0x24284383668>"
      ]
     },
     "execution_count": 92,
     "metadata": {},
     "output_type": "execute_result"
    },
    {
     "data": {
      "image/png": "[encoded data removed]",
      "text/plain": [
       "<Figure size 432x288 with 1 Axes>"
      ]
     },
     "metadata": {
      "needs_background": "light"
     },
     "output_type": "display_data"
    }
   ],
   "source": [
    "data[\"PERIODO\"].value_counts().plot(kind ='bar')"
   ]
  },
  {
   "cell_type": "code",
   "execution_count": 93,
   "metadata": {},
   "outputs": [
    {
     "data": {
      "text/plain": [
       "<matplotlib.axes._subplots.AxesSubplot at 0x242844722e8>"
      ]
     },
     "execution_count": 93,
     "metadata": {},
     "output_type": "execute_result"
    },
    {
     "data": {
      "image/png": "[encoded data removed]",
      "text/plain": [
       "<Figure size 432x288 with 1 Axes>"
      ]
     },
     "metadata": {
      "needs_background": "light"
     },
     "output_type": "display_data"
    }
   ],
   "source": [
    "data[\"ESTU_DEPTO_RESIDE\"].value_counts().plot(kind ='bar')"
   ]
  },
  {
   "cell_type": "code",
   "execution_count": 94,
   "metadata": {},
   "outputs": [
    {
     "data": {
      "text/plain": [
       "<matplotlib.axes._subplots.AxesSubplot at 0x24284451be0>"
      ]
     },
     "execution_count": 94,
     "metadata": {},
     "output_type": "execute_result"
    },
    {
     "data": {
      "image/png": "[encoded data removed]",
      "text/plain": [
       "<Figure size 432x288 with 1 Axes>"
      ]
     },
     "metadata": {
      "needs_background": "light"
     },
     "output_type": "display_data"
    }
   ],
   "source": [
    "data[\"FAMI_PERSONASHOGAR\"].value_counts().plot(kind ='bar')"
   ]
  },
  {
   "cell_type": "code",
   "execution_count": 95,
   "metadata": {},
   "outputs": [
    {
     "data": {
      "text/plain": [
       "<matplotlib.axes._subplots.AxesSubplot at 0x242845d8cf8>"
      ]
     },
     "execution_count": 95,
     "metadata": {},
     "output_type": "execute_result"
    },
    {
     "data": {
      "image/png": "[encoded data removed]",
      "text/plain": [
       "<Figure size 432x288 with 1 Axes>"
      ]
     },
     "metadata": {
      "needs_background": "light"
     },
     "output_type": "display_data"
    }
   ],
   "source": [
    "data[\"FAMI_CUARTOSHOGAR\"].value_counts().plot(kind ='bar')"
   ]
  },
  {
   "cell_type": "code",
   "execution_count": 96,
   "metadata": {},
   "outputs": [
    {
     "data": {
      "text/plain": [
       "<matplotlib.axes._subplots.AxesSubplot at 0x24287f68cf8>"
      ]
     },
     "execution_count": 96,
     "metadata": {},
     "output_type": "execute_result"
    },
    {
     "data": {
      "image/png": "[encoded data removed]",
      "text/plain": [
       "<Figure size 432x288 with 1 Axes>"
      ]
     },
     "metadata": {
      "needs_background": "light"
     },
     "output_type": "display_data"
    }
   ],
   "source": [
    "data[\"FAMI_EDUCACIONPADRE\"].value_counts().plot(kind ='bar')"
   ]
  },
  {
   "cell_type": "code",
   "execution_count": 97,
   "metadata": {},
   "outputs": [
    {
     "data": {
      "text/plain": [
       "<matplotlib.axes._subplots.AxesSubplot at 0x24287ffdeb8>"
      ]
     },
     "execution_count": 97,
     "metadata": {},
     "output_type": "execute_result"
    },
    {
     "data": {
      "image/png": "[encoded data removed]",
      "text/plain": [
       "<Figure size 432x288 with 1 Axes>"
      ]
     },
     "metadata": {
      "needs_background": "light"
     },
     "output_type": "display_data"
    }
   ],
   "source": [
    "data[\"FAMI_EDUCACIONMADRE\"].value_counts().plot(kind ='bar')"
   ]
  },
  {
   "cell_type": "code",
   "execution_count": 98,
   "metadata": {},
   "outputs": [
    {
     "data": {
      "text/plain": [
       "<matplotlib.axes._subplots.AxesSubplot at 0x242880868d0>"
      ]
     },
     "execution_count": 98,
     "metadata": {},
     "output_type": "execute_result"
    },
    {
     "data": {
      "image/png": "[encoded data removed]",
      "text/plain": [
       "<Figure size 432x288 with 1 Axes>"
      ]
     },
     "metadata": {
      "needs_background": "light"
     },
     "output_type": "display_data"
    }
   ],
   "source": [
    "data[\"FAMI_TRABAJOLABORPADRE\"].value_counts().plot(kind ='bar')\n"
   ]
  },
  {
   "cell_type": "code",
   "execution_count": 99,
   "metadata": {},
   "outputs": [
    {
     "data": {
      "text/plain": [
       "<matplotlib.axes._subplots.AxesSubplot at 0x242880fa898>"
      ]
     },
     "execution_count": 99,
     "metadata": {},
     "output_type": "execute_result"
    },
    {
     "data": {
      "image/png": "[encoded data removed]",
      "text/plain": [
       "<Figure size 432x288 with 1 Axes>"
      ]
     },
     "metadata": {
      "needs_background": "light"
     },
     "output_type": "display_data"
    }
   ],
   "source": [
    "data[\"FAMI_TRABAJOLABORMADRE\"].value_counts().plot(kind ='bar')"
   ]
  },
  {
   "cell_type": "code",
   "execution_count": 100,
   "metadata": {},
   "outputs": [
    {
     "data": {
      "text/plain": [
       "<matplotlib.axes._subplots.AxesSubplot at 0x242882cf780>"
      ]
     },
     "execution_count": 100,
     "metadata": {},
     "output_type": "execute_result"
    },
    {
     "data": {
      "image/png": "[encoded data removed]",
      "text/plain": [
       "<Figure size 432x288 with 1 Axes>"
      ]
     },
     "metadata": {
      "needs_background": "light"
     },
     "output_type": "display_data"
    }
   ],
   "source": [
    "data[\"FAMI_NUMLIBROS\"].value_counts().plot(kind ='bar')"
   ]
  },
  {
   "cell_type": "code",
   "execution_count": 101,
   "metadata": {},
   "outputs": [
    {
     "data": {
      "text/plain": [
       "<matplotlib.axes._subplots.AxesSubplot at 0x2428834b710>"
      ]
     },
     "execution_count": 101,
     "metadata": {},
     "output_type": "execute_result"
    },
    {
     "data": {
      "image/png": "[encoded data removed]",
      "text/plain": [
       "<Figure size 432x288 with 1 Axes>"
      ]
     },
     "metadata": {
      "needs_background": "light"
     },
     "output_type": "display_data"
    }
   ],
   "source": [
    "data[\"FAMI_COMELECHEDERIVADOS\"].value_counts().plot(kind ='bar')"
   ]
  },
  {
   "cell_type": "code",
   "execution_count": 102,
   "metadata": {},
   "outputs": [
    {
     "data": {
      "text/plain": [
       "<matplotlib.axes._subplots.AxesSubplot at 0x24288dcaa90>"
      ]
     },
     "execution_count": 102,
     "metadata": {},
     "output_type": "execute_result"
    },
    {
     "data": {
      "image/png": "[encoded data removed]",
      "text/plain": [
       "<Figure size 432x288 with 1 Axes>"
      ]
     },
     "metadata": {
      "needs_background": "light"
     },
     "output_type": "display_data"
    }
   ],
   "source": [
    "data[\"FAMI_COMECARNEPESCADOHUEVO\"].value_counts().plot(kind ='bar')"
   ]
  },
  {
   "cell_type": "code",
   "execution_count": 103,
   "metadata": {},
   "outputs": [
    {
     "data": {
      "text/plain": [
       "<matplotlib.axes._subplots.AxesSubplot at 0x24288e486d8>"
      ]
     },
     "execution_count": 103,
     "metadata": {},
     "output_type": "execute_result"
    },
    {
     "data": {
      "image/png": "[encoded data removed]",
      "text/plain": [
       "<Figure size 432x288 with 1 Axes>"
      ]
     },
     "metadata": {
      "needs_background": "light"
     },
     "output_type": "display_data"
    }
   ],
   "source": [
    "data[\"FAMI_COMECEREALFRUTOSLEGUMBRE\"].value_counts().plot(kind ='bar')"
   ]
  },
  {
   "cell_type": "code",
   "execution_count": 104,
   "metadata": {},
   "outputs": [
    {
     "data": {
      "text/plain": [
       "<matplotlib.axes._subplots.AxesSubplot at 0x24288eb92e8>"
      ]
     },
     "execution_count": 104,
     "metadata": {},
     "output_type": "execute_result"
    },
    {
     "data": {
      "image/png": "[encoded data removed]",
      "text/plain": [
       "<Figure size 432x288 with 1 Axes>"
      ]
     },
     "metadata": {
      "needs_background": "light"
     },
     "output_type": "display_data"
    }
   ],
   "source": [
    "data[\"ESTU_DEDICACIONLECTURADIARIA\"].value_counts().plot(kind ='bar')"
   ]
  },
  {
   "cell_type": "code",
   "execution_count": 105,
   "metadata": {},
   "outputs": [
    {
     "data": {
      "text/plain": [
       "<matplotlib.axes._subplots.AxesSubplot at 0x24288f24278>"
      ]
     },
     "execution_count": 105,
     "metadata": {},
     "output_type": "execute_result"
    },
    {
     "data": {
      "image/png": "[encoded data removed]",
      "text/plain": [
       "<Figure size 432x288 with 1 Axes>"
      ]
     },
     "metadata": {
      "needs_background": "light"
     },
     "output_type": "display_data"
    }
   ],
   "source": [
    "data[\"ESTU_DEDICACIONINTERNET\"].value_counts().plot(kind ='bar')"
   ]
  },
  {
   "cell_type": "code",
   "execution_count": 106,
   "metadata": {},
   "outputs": [
    {
     "data": {
      "text/plain": [
       "<matplotlib.axes._subplots.AxesSubplot at 0x24288f86c50>"
      ]
     },
     "execution_count": 106,
     "metadata": {},
     "output_type": "execute_result"
    },
    {
     "data": {
      "image/png": "[encoded data removed]",
      "text/plain": [
       "<Figure size 432x288 with 1 Axes>"
      ]
     },
     "metadata": {
      "needs_background": "light"
     },
     "output_type": "display_data"
    }
   ],
   "source": [
    "data[\"COLE_NATURALEZA\"].value_counts().plot(kind ='bar')"
   ]
  },
  {
   "cell_type": "code",
   "execution_count": 107,
   "metadata": {},
   "outputs": [
    {
     "data": {
      "text/plain": [
       "<matplotlib.axes._subplots.AxesSubplot at 0x24288ff8400>"
      ]
     },
     "execution_count": 107,
     "metadata": {},
     "output_type": "execute_result"
    },
    {
     "data": {
      "image/png": "[encoded data removed]",
      "text/plain": [
       "<Figure size 432x288 with 1 Axes>"
      ]
     },
     "metadata": {
      "needs_background": "light"
     },
     "output_type": "display_data"
    }
   ],
   "source": [
    "data[\"COLE_CARACTER\"].value_counts().plot(kind ='bar')"
   ]
  },
  {
   "cell_type": "code",
   "execution_count": 108,
   "metadata": {},
   "outputs": [
    {
     "data": {
      "text/plain": [
       "<matplotlib.axes._subplots.AxesSubplot at 0x242890521d0>"
      ]
     },
     "execution_count": 108,
     "metadata": {},
     "output_type": "execute_result"
    },
    {
     "data": {
      "image/png": "[encoded data removed]",
      "text/plain": [
       "<Figure size 432x288 with 1 Axes>"
      ]
     },
     "metadata": {
      "needs_background": "light"
     },
     "output_type": "display_data"
    }
   ],
   "source": [
    "data[\"COLE_AREA_UBICACION\"].value_counts().plot(kind ='bar')"
   ]
  },
  {
   "cell_type": "code",
   "execution_count": 109,
   "metadata": {},
   "outputs": [
    {
     "data": {
      "text/plain": [
       "<matplotlib.axes._subplots.AxesSubplot at 0x242890ad0b8>"
      ]
     },
     "execution_count": 109,
     "metadata": {},
     "output_type": "execute_result"
    },
    {
     "data": {
      "image/png": "[encoded data removed]",
      "text/plain": [
       "<Figure size 432x288 with 1 Axes>"
      ]
     },
     "metadata": {
      "needs_background": "light"
     },
     "output_type": "display_data"
    }
   ],
   "source": [
    "data[\"COLE_JORNADA\"].value_counts().plot(kind ='bar')"
   ]
  },
  {
   "cell_type": "code",
   "execution_count": 110,
   "metadata": {},
   "outputs": [
    {
     "data": {
      "text/plain": [
       "<matplotlib.axes._subplots.AxesSubplot at 0x24288f11550>"
      ]
     },
     "execution_count": 110,
     "metadata": {},
     "output_type": "execute_result"
    },
    {
     "data": {
      "image/png": "[encoded data removed]",
      "text/plain": [
       "<Figure size 432x288 with 1 Axes>"
      ]
     },
     "metadata": {
      "needs_background": "light"
     },
     "output_type": "display_data"
    }
   ],
   "source": [
    "data[\"PUNT_LECTURA_CRITICA\"].hist()"
   ]
  },
  {
   "cell_type": "code",
   "execution_count": 111,
   "metadata": {},
   "outputs": [
    {
     "data": {
      "text/plain": [
       "<matplotlib.axes._subplots.AxesSubplot at 0x24289186208>"
      ]
     },
     "execution_count": 111,
     "metadata": {},
     "output_type": "execute_result"
    },
    {
     "data": {
      "image/png": "[encoded data removed]",
      "text/plain": [
       "<Figure size 432x288 with 1 Axes>"
      ]
     },
     "metadata": {
      "needs_background": "light"
     },
     "output_type": "display_data"
    }
   ],
   "source": [
    "data[\"PUNT_MATEMATICAS\"].hist(bins = 100)"
   ]
  },
  {
   "cell_type": "code",
   "execution_count": 112,
   "metadata": {},
   "outputs": [],
   "source": [
    "#data.groupby(\"PUNT_MATEMATICAS\").size()"
   ]
  },
  {
   "cell_type": "code",
   "execution_count": 113,
   "metadata": {},
   "outputs": [
    {
     "data": {
      "text/plain": [
       "<matplotlib.axes._subplots.AxesSubplot at 0x242893168d0>"
      ]
     },
     "execution_count": 113,
     "metadata": {},
     "output_type": "execute_result"
    },
    {
     "data": {
      "image/png": "[encoded data removed]",
      "text/plain": [
       "<Figure size 432x288 with 1 Axes>"
      ]
     },
     "metadata": {
      "needs_background": "light"
     },
     "output_type": "display_data"
    }
   ],
   "source": [
    "data[\"ESTU_NSE_ESTABLECIMIENTO\"].value_counts().plot(kind ='bar')"
   ]
  },
  {
   "cell_type": "code",
   "execution_count": 114,
   "metadata": {},
   "outputs": [
    {
     "data": {
      "text/plain": [
       "<matplotlib.axes._subplots.AxesSubplot at 0x2428937e0f0>"
      ]
     },
     "execution_count": 114,
     "metadata": {},
     "output_type": "execute_result"
    },
    {
     "data": {
      "image/png": "[encoded data removed]",
      "text/plain": [
       "<Figure size 432x288 with 1 Axes>"
      ]
     },
     "metadata": {
      "needs_background": "light"
     },
     "output_type": "display_data"
    }
   ],
   "source": [
    "data[\"ELECTRODOMESTICOS\"].value_counts().plot(kind ='bar')"
   ]
  },
  {
   "cell_type": "code",
   "execution_count": 115,
   "metadata": {},
   "outputs": [
    {
     "data": {
      "text/plain": [
       "ELECTRODOMESTICOS\n",
       "11000    14.087395\n",
       "10000    12.695222\n",
       "0        11.784966\n",
       "11010     9.678732\n",
       "10010     7.873683\n",
       "11101     5.564458\n",
       "11100     5.365407\n",
       "10        5.284349\n",
       "11001     4.715168\n",
       "1000      4.273238\n",
       "11011     3.668896\n",
       "11110     3.372044\n",
       "11111     3.341314\n",
       "1010      2.773611\n",
       "10001     1.161901\n",
       "10100     1.081335\n",
       "10110     0.959994\n",
       "10011     0.912915\n",
       "1100      0.755231\n",
       "1001      0.650140\n",
       "dtype: float64"
      ]
     },
     "execution_count": 115,
     "metadata": {},
     "output_type": "execute_result"
    }
   ],
   "source": [
    "data.groupby(\"ELECTRODOMESTICOS\").size().sort_values(ascending=False)/data.shape[0]*100"
   ]
  },
  {
   "cell_type": "code",
   "execution_count": 116,
   "metadata": {},
   "outputs": [
    {
     "data": {
      "text/plain": [
       "(1015319, 31)"
      ]
     },
     "execution_count": 116,
     "metadata": {},
     "output_type": "execute_result"
    }
   ],
   "source": [
    "data.shape"
   ]
  },
  {
   "cell_type": "markdown",
   "metadata": {},
   "source": [
    "## Correlacion de pearson"
   ]
  },
  {
   "cell_type": "code",
   "execution_count": 117,
   "metadata": {},
   "outputs": [
    {
     "name": "stdout",
     "output_type": "stream",
     "text": [
      "0.4348155519188581\n"
     ]
    }
   ],
   "source": [
    "print(data.PUNT_GLOBAL.corr(data.ESTU_INSE_INDIVIDUAL, method=\"pearson\"))"
   ]
  },
  {
   "cell_type": "code",
   "execution_count": 118,
   "metadata": {},
   "outputs": [
    {
     "data": {
      "text/html": [
       "<div>\n",
       "<style scoped>\n",
       "    .dataframe tbody tr th:only-of-type {\n",
       "        vertical-align: middle;\n",
       "    }\n",
       "\n",
       "    .dataframe tbody tr th {\n",
       "        vertical-align: top;\n",
       "    }\n",
       "\n",
       "    .dataframe thead th {\n",
       "        text-align: right;\n",
       "    }\n",
       "</style>\n",
       "<table border=\"1\" class=\"dataframe\">\n",
       "  <thead>\n",
       "    <tr style=\"text-align: right;\">\n",
       "      <th></th>\n",
       "      <th>ELECTRODOMESTICOS</th>\n",
       "      <th>ESTU_FECHANACIMIENTO</th>\n",
       "      <th>PERIODO</th>\n",
       "      <th>PUNT_LECTURA_CRITICA</th>\n",
       "      <th>PUNT_MATEMATICAS</th>\n",
       "      <th>PUNT_C_NATURALES</th>\n",
       "      <th>PUNT_SOCIALES_CIUDADANAS</th>\n",
       "      <th>PUNT_INGLES</th>\n",
       "      <th>PUNT_GLOBAL</th>\n",
       "      <th>ESTU_NSE_ESTABLECIMIENTO</th>\n",
       "      <th>ESTU_INSE_INDIVIDUAL</th>\n",
       "    </tr>\n",
       "  </thead>\n",
       "  <tbody>\n",
       "    <tr>\n",
       "      <th>ELECTRODOMESTICOS</th>\n",
       "      <td>1.000000</td>\n",
       "      <td>-0.131716</td>\n",
       "      <td>0.006306</td>\n",
       "      <td>0.161448</td>\n",
       "      <td>0.163551</td>\n",
       "      <td>0.163479</td>\n",
       "      <td>0.148608</td>\n",
       "      <td>0.205841</td>\n",
       "      <td>0.181479</td>\n",
       "      <td>0.307328</td>\n",
       "      <td>0.519097</td>\n",
       "    </tr>\n",
       "    <tr>\n",
       "      <th>ESTU_FECHANACIMIENTO</th>\n",
       "      <td>-0.131716</td>\n",
       "      <td>1.000000</td>\n",
       "      <td>-0.003332</td>\n",
       "      <td>-0.262915</td>\n",
       "      <td>-0.301661</td>\n",
       "      <td>-0.288391</td>\n",
       "      <td>-0.243595</td>\n",
       "      <td>-0.265464</td>\n",
       "      <td>-0.304825</td>\n",
       "      <td>-0.150855</td>\n",
       "      <td>-0.230079</td>\n",
       "    </tr>\n",
       "    <tr>\n",
       "      <th>PERIODO</th>\n",
       "      <td>0.006306</td>\n",
       "      <td>-0.003332</td>\n",
       "      <td>1.000000</td>\n",
       "      <td>-0.033390</td>\n",
       "      <td>0.004813</td>\n",
       "      <td>-0.084233</td>\n",
       "      <td>-0.089920</td>\n",
       "      <td>0.046766</td>\n",
       "      <td>-0.046865</td>\n",
       "      <td>0.022286</td>\n",
       "      <td>-0.018477</td>\n",
       "    </tr>\n",
       "    <tr>\n",
       "      <th>PUNT_LECTURA_CRITICA</th>\n",
       "      <td>0.161448</td>\n",
       "      <td>-0.262915</td>\n",
       "      <td>-0.033390</td>\n",
       "      <td>1.000000</td>\n",
       "      <td>0.735875</td>\n",
       "      <td>0.749057</td>\n",
       "      <td>0.801586</td>\n",
       "      <td>0.659955</td>\n",
       "      <td>0.895540</td>\n",
       "      <td>0.382571</td>\n",
       "      <td>0.388413</td>\n",
       "    </tr>\n",
       "    <tr>\n",
       "      <th>PUNT_MATEMATICAS</th>\n",
       "      <td>0.163551</td>\n",
       "      <td>-0.301661</td>\n",
       "      <td>0.004813</td>\n",
       "      <td>0.735875</td>\n",
       "      <td>1.000000</td>\n",
       "      <td>0.797961</td>\n",
       "      <td>0.743861</td>\n",
       "      <td>0.662148</td>\n",
       "      <td>0.903941</td>\n",
       "      <td>0.373868</td>\n",
       "      <td>0.382414</td>\n",
       "    </tr>\n",
       "    <tr>\n",
       "      <th>PUNT_C_NATURALES</th>\n",
       "      <td>0.163479</td>\n",
       "      <td>-0.288391</td>\n",
       "      <td>-0.084233</td>\n",
       "      <td>0.749057</td>\n",
       "      <td>0.797961</td>\n",
       "      <td>1.000000</td>\n",
       "      <td>0.797822</td>\n",
       "      <td>0.680637</td>\n",
       "      <td>0.915557</td>\n",
       "      <td>0.360940</td>\n",
       "      <td>0.376194</td>\n",
       "    </tr>\n",
       "    <tr>\n",
       "      <th>PUNT_SOCIALES_CIUDADANAS</th>\n",
       "      <td>0.148608</td>\n",
       "      <td>-0.243595</td>\n",
       "      <td>-0.089920</td>\n",
       "      <td>0.801586</td>\n",
       "      <td>0.743861</td>\n",
       "      <td>0.797822</td>\n",
       "      <td>1.000000</td>\n",
       "      <td>0.669289</td>\n",
       "      <td>0.917890</td>\n",
       "      <td>0.370963</td>\n",
       "      <td>0.379605</td>\n",
       "    </tr>\n",
       "    <tr>\n",
       "      <th>PUNT_INGLES</th>\n",
       "      <td>0.205841</td>\n",
       "      <td>-0.265464</td>\n",
       "      <td>0.046766</td>\n",
       "      <td>0.659955</td>\n",
       "      <td>0.662148</td>\n",
       "      <td>0.680637</td>\n",
       "      <td>0.669289</td>\n",
       "      <td>1.000000</td>\n",
       "      <td>0.774099</td>\n",
       "      <td>0.471297</td>\n",
       "      <td>0.488795</td>\n",
       "    </tr>\n",
       "    <tr>\n",
       "      <th>PUNT_GLOBAL</th>\n",
       "      <td>0.181479</td>\n",
       "      <td>-0.304825</td>\n",
       "      <td>-0.046865</td>\n",
       "      <td>0.895540</td>\n",
       "      <td>0.903941</td>\n",
       "      <td>0.915557</td>\n",
       "      <td>0.917890</td>\n",
       "      <td>0.774099</td>\n",
       "      <td>1.000000</td>\n",
       "      <td>0.423465</td>\n",
       "      <td>0.434816</td>\n",
       "    </tr>\n",
       "    <tr>\n",
       "      <th>ESTU_NSE_ESTABLECIMIENTO</th>\n",
       "      <td>0.307328</td>\n",
       "      <td>-0.150855</td>\n",
       "      <td>0.022286</td>\n",
       "      <td>0.382571</td>\n",
       "      <td>0.373868</td>\n",
       "      <td>0.360940</td>\n",
       "      <td>0.370963</td>\n",
       "      <td>0.471297</td>\n",
       "      <td>0.423465</td>\n",
       "      <td>1.000000</td>\n",
       "      <td>0.630593</td>\n",
       "    </tr>\n",
       "    <tr>\n",
       "      <th>ESTU_INSE_INDIVIDUAL</th>\n",
       "      <td>0.519097</td>\n",
       "      <td>-0.230079</td>\n",
       "      <td>-0.018477</td>\n",
       "      <td>0.388413</td>\n",
       "      <td>0.382414</td>\n",
       "      <td>0.376194</td>\n",
       "      <td>0.379605</td>\n",
       "      <td>0.488795</td>\n",
       "      <td>0.434816</td>\n",
       "      <td>0.630593</td>\n",
       "      <td>1.000000</td>\n",
       "    </tr>\n",
       "  </tbody>\n",
       "</table>\n",
       "</div>"
      ],
      "text/plain": [
       "                          ELECTRODOMESTICOS  ESTU_FECHANACIMIENTO   PERIODO  \\\n",
       "ELECTRODOMESTICOS                  1.000000             -0.131716  0.006306   \n",
       "ESTU_FECHANACIMIENTO              -0.131716              1.000000 -0.003332   \n",
       "PERIODO                            0.006306             -0.003332  1.000000   \n",
       "PUNT_LECTURA_CRITICA               0.161448             -0.262915 -0.033390   \n",
       "PUNT_MATEMATICAS                   0.163551             -0.301661  0.004813   \n",
       "PUNT_C_NATURALES                   0.163479             -0.288391 -0.084233   \n",
       "PUNT_SOCIALES_CIUDADANAS           0.148608             -0.243595 -0.089920   \n",
       "PUNT_INGLES                        0.205841             -0.265464  0.046766   \n",
       "PUNT_GLOBAL                        0.181479             -0.304825 -0.046865   \n",
       "ESTU_NSE_ESTABLECIMIENTO           0.307328             -0.150855  0.022286   \n",
       "ESTU_INSE_INDIVIDUAL               0.519097             -0.230079 -0.018477   \n",
       "\n",
       "                          PUNT_LECTURA_CRITICA  PUNT_MATEMATICAS  \\\n",
       "ELECTRODOMESTICOS                     0.161448          0.163551   \n",
       "ESTU_FECHANACIMIENTO                 -0.262915         -0.301661   \n",
       "PERIODO                              -0.033390          0.004813   \n",
       "PUNT_LECTURA_CRITICA                  1.000000          0.735875   \n",
       "PUNT_MATEMATICAS                      0.735875          1.000000   \n",
       "PUNT_C_NATURALES                      0.749057          0.797961   \n",
       "PUNT_SOCIALES_CIUDADANAS              0.801586          0.743861   \n",
       "PUNT_INGLES                           0.659955          0.662148   \n",
       "PUNT_GLOBAL                           0.895540          0.903941   \n",
       "ESTU_NSE_ESTABLECIMIENTO              0.382571          0.373868   \n",
       "ESTU_INSE_INDIVIDUAL                  0.388413          0.382414   \n",
       "\n",
       "                          PUNT_C_NATURALES  PUNT_SOCIALES_CIUDADANAS  \\\n",
       "ELECTRODOMESTICOS                 0.163479                  0.148608   \n",
       "ESTU_FECHANACIMIENTO             -0.288391                 -0.243595   \n",
       "PERIODO                          -0.084233                 -0.089920   \n",
       "PUNT_LECTURA_CRITICA              0.749057                  0.801586   \n",
       "PUNT_MATEMATICAS                  0.797961                  0.743861   \n",
       "PUNT_C_NATURALES                  1.000000                  0.797822   \n",
       "PUNT_SOCIALES_CIUDADANAS          0.797822                  1.000000   \n",
       "PUNT_INGLES                       0.680637                  0.669289   \n",
       "PUNT_GLOBAL                       0.915557                  0.917890   \n",
       "ESTU_NSE_ESTABLECIMIENTO          0.360940                  0.370963   \n",
       "ESTU_INSE_INDIVIDUAL              0.376194                  0.379605   \n",
       "\n",
       "                          PUNT_INGLES  PUNT_GLOBAL  ESTU_NSE_ESTABLECIMIENTO  \\\n",
       "ELECTRODOMESTICOS            0.205841     0.181479                  0.307328   \n",
       "ESTU_FECHANACIMIENTO        -0.265464    -0.304825                 -0.150855   \n",
       "PERIODO                      0.046766    -0.046865                  0.022286   \n",
       "PUNT_LECTURA_CRITICA         0.659955     0.895540                  0.382571   \n",
       "PUNT_MATEMATICAS             0.662148     0.903941                  0.373868   \n",
       "PUNT_C_NATURALES             0.680637     0.915557                  0.360940   \n",
       "PUNT_SOCIALES_CIUDADANAS     0.669289     0.917890                  0.370963   \n",
       "PUNT_INGLES                  1.000000     0.774099                  0.471297   \n",
       "PUNT_GLOBAL                  0.774099     1.000000                  0.423465   \n",
       "ESTU_NSE_ESTABLECIMIENTO     0.471297     0.423465                  1.000000   \n",
       "ESTU_INSE_INDIVIDUAL         0.488795     0.434816                  0.630593   \n",
       "\n",
       "                          ESTU_INSE_INDIVIDUAL  \n",
       "ELECTRODOMESTICOS                     0.519097  \n",
       "ESTU_FECHANACIMIENTO                 -0.230079  \n",
       "PERIODO                              -0.018477  \n",
       "PUNT_LECTURA_CRITICA                  0.388413  \n",
       "PUNT_MATEMATICAS                      0.382414  \n",
       "PUNT_C_NATURALES                      0.376194  \n",
       "PUNT_SOCIALES_CIUDADANAS              0.379605  \n",
       "PUNT_INGLES                           0.488795  \n",
       "PUNT_GLOBAL                           0.434816  \n",
       "ESTU_NSE_ESTABLECIMIENTO              0.630593  \n",
       "ESTU_INSE_INDIVIDUAL                  1.000000  "
      ]
     },
     "execution_count": 118,
     "metadata": {},
     "output_type": "execute_result"
    }
   ],
   "source": [
    "data.corr(method=\"pearson\")"
   ]
  },
  {
   "cell_type": "markdown",
   "metadata": {},
   "source": [
    "## Diagramas de caja"
   ]
  },
  {
   "cell_type": "code",
   "execution_count": 119,
   "metadata": {},
   "outputs": [
    {
     "data": {
      "text/plain": [
       "Text(0.5, 0, 'Edad')"
      ]
     },
     "execution_count": 119,
     "metadata": {},
     "output_type": "execute_result"
    },
    {
     "data": {
      "image/png": "[encoded data removed]",
      "text/plain": [
       "<Figure size 432x288 with 1 Axes>"
      ]
     },
     "metadata": {
      "needs_background": "light"
     },
     "output_type": "display_data"
    }
   ],
   "source": [
    "hist = data.boxplot(column=['ESTU_FECHANACIMIENTO'])\n",
    "hist.set_xlabel(\"Edad\")"
   ]
  },
  {
   "cell_type": "code",
   "execution_count": 120,
   "metadata": {},
   "outputs": [
    {
     "data": {
      "text/plain": [
       "Series([], dtype: float64)"
      ]
     },
     "execution_count": 120,
     "metadata": {},
     "output_type": "execute_result"
    }
   ],
   "source": [
    "dataAge = data[data['ESTU_FECHANACIMIENTO'] > 22]\n",
    "dataAge.groupby(\"ESTU_FECHANACIMIENTO\").size()/data.shape[0]*100"
   ]
  },
  {
   "cell_type": "markdown",
   "metadata": {},
   "source": [
    "## Tablas de contingencia"
   ]
  },
  {
   "cell_type": "code",
   "execution_count": 121,
   "metadata": {},
   "outputs": [
    {
     "data": {
      "text/html": [
       "<div>\n",
       "<style scoped>\n",
       "    .dataframe tbody tr th:only-of-type {\n",
       "        vertical-align: middle;\n",
       "    }\n",
       "\n",
       "    .dataframe tbody tr th {\n",
       "        vertical-align: top;\n",
       "    }\n",
       "\n",
       "    .dataframe thead th {\n",
       "        text-align: right;\n",
       "    }\n",
       "</style>\n",
       "<table border=\"1\" class=\"dataframe\">\n",
       "  <thead>\n",
       "    <tr style=\"text-align: right;\">\n",
       "      <th>FAMI_EDUCACIONMADRE</th>\n",
       "      <th>Educación profesional completa</th>\n",
       "      <th>Educación profesional incompleta</th>\n",
       "      <th>Ninguno</th>\n",
       "      <th>No Aplica</th>\n",
       "      <th>No sabe</th>\n",
       "      <th>Postgrado</th>\n",
       "      <th>Primaria completa</th>\n",
       "      <th>Primaria incompleta</th>\n",
       "      <th>Secundaria (Bachillerato) completa</th>\n",
       "      <th>Secundaria (Bachillerato) incompleta</th>\n",
       "      <th>Técnica o tecnológica completa</th>\n",
       "      <th>Técnica o tecnológica incompleta</th>\n",
       "    </tr>\n",
       "    <tr>\n",
       "      <th>FAMI_EDUCACIONPADRE</th>\n",
       "      <th></th>\n",
       "      <th></th>\n",
       "      <th></th>\n",
       "      <th></th>\n",
       "      <th></th>\n",
       "      <th></th>\n",
       "      <th></th>\n",
       "      <th></th>\n",
       "      <th></th>\n",
       "      <th></th>\n",
       "      <th></th>\n",
       "      <th></th>\n",
       "    </tr>\n",
       "  </thead>\n",
       "  <tbody>\n",
       "    <tr>\n",
       "      <th>Educación profesional completa</th>\n",
       "      <td>3.961317</td>\n",
       "      <td>0.538944</td>\n",
       "      <td>0.029350</td>\n",
       "      <td>0.014675</td>\n",
       "      <td>0.112181</td>\n",
       "      <td>0.442718</td>\n",
       "      <td>0.193338</td>\n",
       "      <td>0.222196</td>\n",
       "      <td>1.521000</td>\n",
       "      <td>0.512647</td>\n",
       "      <td>1.296341</td>\n",
       "      <td>0.270260</td>\n",
       "    </tr>\n",
       "    <tr>\n",
       "      <th>Educación profesional incompleta</th>\n",
       "      <td>0.443998</td>\n",
       "      <td>0.330537</td>\n",
       "      <td>0.008372</td>\n",
       "      <td>0.006303</td>\n",
       "      <td>0.024918</td>\n",
       "      <td>0.094650</td>\n",
       "      <td>0.056534</td>\n",
       "      <td>0.056829</td>\n",
       "      <td>0.394162</td>\n",
       "      <td>0.167140</td>\n",
       "      <td>0.308868</td>\n",
       "      <td>0.101938</td>\n",
       "    </tr>\n",
       "    <tr>\n",
       "      <th>Ninguno</th>\n",
       "      <td>0.067073</td>\n",
       "      <td>0.022751</td>\n",
       "      <td>0.823288</td>\n",
       "      <td>0.007682</td>\n",
       "      <td>0.028858</td>\n",
       "      <td>0.010736</td>\n",
       "      <td>0.457590</td>\n",
       "      <td>0.992988</td>\n",
       "      <td>0.421345</td>\n",
       "      <td>0.427649</td>\n",
       "      <td>0.082831</td>\n",
       "      <td>0.048359</td>\n",
       "    </tr>\n",
       "    <tr>\n",
       "      <th>No Aplica</th>\n",
       "      <td>0.107749</td>\n",
       "      <td>0.028267</td>\n",
       "      <td>0.014084</td>\n",
       "      <td>0.043829</td>\n",
       "      <td>0.017925</td>\n",
       "      <td>0.028464</td>\n",
       "      <td>0.094552</td>\n",
       "      <td>0.128925</td>\n",
       "      <td>0.243175</td>\n",
       "      <td>0.141236</td>\n",
       "      <td>0.121046</td>\n",
       "      <td>0.034570</td>\n",
       "    </tr>\n",
       "    <tr>\n",
       "      <th>No sabe</th>\n",
       "      <td>0.606016</td>\n",
       "      <td>0.156601</td>\n",
       "      <td>0.058405</td>\n",
       "      <td>0.013099</td>\n",
       "      <td>0.916461</td>\n",
       "      <td>0.109325</td>\n",
       "      <td>0.506540</td>\n",
       "      <td>0.687863</td>\n",
       "      <td>1.465155</td>\n",
       "      <td>0.881398</td>\n",
       "      <td>0.628669</td>\n",
       "      <td>0.169011</td>\n",
       "    </tr>\n",
       "    <tr>\n",
       "      <th>Postgrado</th>\n",
       "      <td>0.509397</td>\n",
       "      <td>0.085490</td>\n",
       "      <td>0.004925</td>\n",
       "      <td>0.005122</td>\n",
       "      <td>0.021274</td>\n",
       "      <td>0.757594</td>\n",
       "      <td>0.024524</td>\n",
       "      <td>0.026494</td>\n",
       "      <td>0.148722</td>\n",
       "      <td>0.050624</td>\n",
       "      <td>0.171769</td>\n",
       "      <td>0.034866</td>\n",
       "    </tr>\n",
       "    <tr>\n",
       "      <th>Primaria completa</th>\n",
       "      <td>0.327582</td>\n",
       "      <td>0.090907</td>\n",
       "      <td>0.218454</td>\n",
       "      <td>0.009751</td>\n",
       "      <td>0.076331</td>\n",
       "      <td>0.046094</td>\n",
       "      <td>3.520667</td>\n",
       "      <td>1.839619</td>\n",
       "      <td>2.428005</td>\n",
       "      <td>1.714535</td>\n",
       "      <td>0.521708</td>\n",
       "      <td>0.184474</td>\n",
       "    </tr>\n",
       "    <tr>\n",
       "      <th>Primaria incompleta</th>\n",
       "      <td>0.429520</td>\n",
       "      <td>0.120455</td>\n",
       "      <td>0.586318</td>\n",
       "      <td>0.017630</td>\n",
       "      <td>0.122425</td>\n",
       "      <td>0.054170</td>\n",
       "      <td>3.048106</td>\n",
       "      <td>8.187378</td>\n",
       "      <td>3.196631</td>\n",
       "      <td>3.106413</td>\n",
       "      <td>0.689734</td>\n",
       "      <td>0.248296</td>\n",
       "    </tr>\n",
       "    <tr>\n",
       "      <th>Secundaria (Bachillerato) completa</th>\n",
       "      <td>1.837157</td>\n",
       "      <td>0.470985</td>\n",
       "      <td>0.142221</td>\n",
       "      <td>0.024229</td>\n",
       "      <td>0.202104</td>\n",
       "      <td>0.238940</td>\n",
       "      <td>1.495491</td>\n",
       "      <td>1.453533</td>\n",
       "      <td>10.115639</td>\n",
       "      <td>2.967245</td>\n",
       "      <td>2.512511</td>\n",
       "      <td>0.806742</td>\n",
       "    </tr>\n",
       "    <tr>\n",
       "      <th>Secundaria (Bachillerato) incompleta</th>\n",
       "      <td>0.789013</td>\n",
       "      <td>0.232636</td>\n",
       "      <td>0.170094</td>\n",
       "      <td>0.014084</td>\n",
       "      <td>0.124887</td>\n",
       "      <td>0.106371</td>\n",
       "      <td>1.373558</td>\n",
       "      <td>1.661054</td>\n",
       "      <td>3.685541</td>\n",
       "      <td>4.715956</td>\n",
       "      <td>1.161113</td>\n",
       "      <td>0.422724</td>\n",
       "    </tr>\n",
       "    <tr>\n",
       "      <th>Técnica o tecnológica completa</th>\n",
       "      <td>1.032188</td>\n",
       "      <td>0.271639</td>\n",
       "      <td>0.022948</td>\n",
       "      <td>0.012804</td>\n",
       "      <td>0.076134</td>\n",
       "      <td>0.161230</td>\n",
       "      <td>0.213726</td>\n",
       "      <td>0.208998</td>\n",
       "      <td>1.642538</td>\n",
       "      <td>0.582871</td>\n",
       "      <td>2.282829</td>\n",
       "      <td>0.361857</td>\n",
       "    </tr>\n",
       "    <tr>\n",
       "      <th>Técnica o tecnológica incompleta</th>\n",
       "      <td>0.219832</td>\n",
       "      <td>0.096324</td>\n",
       "      <td>0.015266</td>\n",
       "      <td>0.005319</td>\n",
       "      <td>0.022062</td>\n",
       "      <td>0.039889</td>\n",
       "      <td>0.103022</td>\n",
       "      <td>0.096915</td>\n",
       "      <td>0.529686</td>\n",
       "      <td>0.235197</td>\n",
       "      <td>0.315467</td>\n",
       "      <td>0.398692</td>\n",
       "    </tr>\n",
       "  </tbody>\n",
       "</table>\n",
       "</div>"
      ],
      "text/plain": [
       "FAMI_EDUCACIONMADRE                   Educación profesional completa  \\\n",
       "FAMI_EDUCACIONPADRE                                                    \n",
       "Educación profesional completa                              3.961317   \n",
       "Educación profesional incompleta                            0.443998   \n",
       "Ninguno                                                     0.067073   \n",
       "No Aplica                                                   0.107749   \n",
       "No sabe                                                     0.606016   \n",
       "Postgrado                                                   0.509397   \n",
       "Primaria completa                                           0.327582   \n",
       "Primaria incompleta                                         0.429520   \n",
       "Secundaria (Bachillerato) completa                          1.837157   \n",
       "Secundaria (Bachillerato) incompleta                        0.789013   \n",
       "Técnica o tecnológica completa                              1.032188   \n",
       "Técnica o tecnológica incompleta                            0.219832   \n",
       "\n",
       "FAMI_EDUCACIONMADRE                   Educación profesional incompleta  \\\n",
       "FAMI_EDUCACIONPADRE                                                      \n",
       "Educación profesional completa                                0.538944   \n",
       "Educación profesional incompleta                              0.330537   \n",
       "Ninguno                                                       0.022751   \n",
       "No Aplica                                                     0.028267   \n",
       "No sabe                                                       0.156601   \n",
       "Postgrado                                                     0.085490   \n",
       "Primaria completa                                             0.090907   \n",
       "Primaria incompleta                                           0.120455   \n",
       "Secundaria (Bachillerato) completa                            0.470985   \n",
       "Secundaria (Bachillerato) incompleta                          0.232636   \n",
       "Técnica o tecnológica completa                                0.271639   \n",
       "Técnica o tecnológica incompleta                              0.096324   \n",
       "\n",
       "FAMI_EDUCACIONMADRE                    Ninguno  No Aplica   No sabe  \\\n",
       "FAMI_EDUCACIONPADRE                                                   \n",
       "Educación profesional completa        0.029350   0.014675  0.112181   \n",
       "Educación profesional incompleta      0.008372   0.006303  0.024918   \n",
       "Ninguno                               0.823288   0.007682  0.028858   \n",
       "No Aplica                             0.014084   0.043829  0.017925   \n",
       "No sabe                               0.058405   0.013099  0.916461   \n",
       "Postgrado                             0.004925   0.005122  0.021274   \n",
       "Primaria completa                     0.218454   0.009751  0.076331   \n",
       "Primaria incompleta                   0.586318   0.017630  0.122425   \n",
       "Secundaria (Bachillerato) completa    0.142221   0.024229  0.202104   \n",
       "Secundaria (Bachillerato) incompleta  0.170094   0.014084  0.124887   \n",
       "Técnica o tecnológica completa        0.022948   0.012804  0.076134   \n",
       "Técnica o tecnológica incompleta      0.015266   0.005319  0.022062   \n",
       "\n",
       "FAMI_EDUCACIONMADRE                   Postgrado  Primaria completa  \\\n",
       "FAMI_EDUCACIONPADRE                                                  \n",
       "Educación profesional completa         0.442718           0.193338   \n",
       "Educación profesional incompleta       0.094650           0.056534   \n",
       "Ninguno                                0.010736           0.457590   \n",
       "No Aplica                              0.028464           0.094552   \n",
       "No sabe                                0.109325           0.506540   \n",
       "Postgrado                              0.757594           0.024524   \n",
       "Primaria completa                      0.046094           3.520667   \n",
       "Primaria incompleta                    0.054170           3.048106   \n",
       "Secundaria (Bachillerato) completa     0.238940           1.495491   \n",
       "Secundaria (Bachillerato) incompleta   0.106371           1.373558   \n",
       "Técnica o tecnológica completa         0.161230           0.213726   \n",
       "Técnica o tecnológica incompleta       0.039889           0.103022   \n",
       "\n",
       "FAMI_EDUCACIONMADRE                   Primaria incompleta  \\\n",
       "FAMI_EDUCACIONPADRE                                         \n",
       "Educación profesional completa                   0.222196   \n",
       "Educación profesional incompleta                 0.056829   \n",
       "Ninguno                                          0.992988   \n",
       "No Aplica                                        0.128925   \n",
       "No sabe                                          0.687863   \n",
       "Postgrado                                        0.026494   \n",
       "Primaria completa                                1.839619   \n",
       "Primaria incompleta                              8.187378   \n",
       "Secundaria (Bachillerato) completa               1.453533   \n",
       "Secundaria (Bachillerato) incompleta             1.661054   \n",
       "Técnica o tecnológica completa                   0.208998   \n",
       "Técnica o tecnológica incompleta                 0.096915   \n",
       "\n",
       "FAMI_EDUCACIONMADRE                   Secundaria (Bachillerato) completa  \\\n",
       "FAMI_EDUCACIONPADRE                                                        \n",
       "Educación profesional completa                                  1.521000   \n",
       "Educación profesional incompleta                                0.394162   \n",
       "Ninguno                                                         0.421345   \n",
       "No Aplica                                                       0.243175   \n",
       "No sabe                                                         1.465155   \n",
       "Postgrado                                                       0.148722   \n",
       "Primaria completa                                               2.428005   \n",
       "Primaria incompleta                                             3.196631   \n",
       "Secundaria (Bachillerato) completa                             10.115639   \n",
       "Secundaria (Bachillerato) incompleta                            3.685541   \n",
       "Técnica o tecnológica completa                                  1.642538   \n",
       "Técnica o tecnológica incompleta                                0.529686   \n",
       "\n",
       "FAMI_EDUCACIONMADRE                   Secundaria (Bachillerato) incompleta  \\\n",
       "FAMI_EDUCACIONPADRE                                                          \n",
       "Educación profesional completa                                    0.512647   \n",
       "Educación profesional incompleta                                  0.167140   \n",
       "Ninguno                                                           0.427649   \n",
       "No Aplica                                                         0.141236   \n",
       "No sabe                                                           0.881398   \n",
       "Postgrado                                                         0.050624   \n",
       "Primaria completa                                                 1.714535   \n",
       "Primaria incompleta                                               3.106413   \n",
       "Secundaria (Bachillerato) completa                                2.967245   \n",
       "Secundaria (Bachillerato) incompleta                              4.715956   \n",
       "Técnica o tecnológica completa                                    0.582871   \n",
       "Técnica o tecnológica incompleta                                  0.235197   \n",
       "\n",
       "FAMI_EDUCACIONMADRE                   Técnica o tecnológica completa  \\\n",
       "FAMI_EDUCACIONPADRE                                                    \n",
       "Educación profesional completa                              1.296341   \n",
       "Educación profesional incompleta                            0.308868   \n",
       "Ninguno                                                     0.082831   \n",
       "No Aplica                                                   0.121046   \n",
       "No sabe                                                     0.628669   \n",
       "Postgrado                                                   0.171769   \n",
       "Primaria completa                                           0.521708   \n",
       "Primaria incompleta                                         0.689734   \n",
       "Secundaria (Bachillerato) completa                          2.512511   \n",
       "Secundaria (Bachillerato) incompleta                        1.161113   \n",
       "Técnica o tecnológica completa                              2.282829   \n",
       "Técnica o tecnológica incompleta                            0.315467   \n",
       "\n",
       "FAMI_EDUCACIONMADRE                   Técnica o tecnológica incompleta  \n",
       "FAMI_EDUCACIONPADRE                                                     \n",
       "Educación profesional completa                                0.270260  \n",
       "Educación profesional incompleta                              0.101938  \n",
       "Ninguno                                                       0.048359  \n",
       "No Aplica                                                     0.034570  \n",
       "No sabe                                                       0.169011  \n",
       "Postgrado                                                     0.034866  \n",
       "Primaria completa                                             0.184474  \n",
       "Primaria incompleta                                           0.248296  \n",
       "Secundaria (Bachillerato) completa                            0.806742  \n",
       "Secundaria (Bachillerato) incompleta                          0.422724  \n",
       "Técnica o tecnológica completa                                0.361857  \n",
       "Técnica o tecnológica incompleta                              0.398692  "
      ]
     },
     "execution_count": 121,
     "metadata": {},
     "output_type": "execute_result"
    }
   ],
   "source": [
    "pd.crosstab(data['FAMI_EDUCACIONPADRE'], [data['FAMI_EDUCACIONMADRE']])/data.shape[0]*100"
   ]
  },
  {
   "cell_type": "code",
   "execution_count": 122,
   "metadata": {},
   "outputs": [
    {
     "data": {
      "text/html": [
       "<div>\n",
       "<style scoped>\n",
       "    .dataframe tbody tr th:only-of-type {\n",
       "        vertical-align: middle;\n",
       "    }\n",
       "\n",
       "    .dataframe tbody tr th {\n",
       "        vertical-align: top;\n",
       "    }\n",
       "\n",
       "    .dataframe thead th {\n",
       "        text-align: right;\n",
       "    }\n",
       "</style>\n",
       "<table border=\"1\" class=\"dataframe\">\n",
       "  <thead>\n",
       "    <tr style=\"text-align: right;\">\n",
       "      <th>FAMI_PERSONASHOGAR</th>\n",
       "      <th>1 a 2</th>\n",
       "      <th>3 a 4</th>\n",
       "      <th>5 a 6</th>\n",
       "      <th>7 a 8</th>\n",
       "      <th>9 o más</th>\n",
       "    </tr>\n",
       "    <tr>\n",
       "      <th>FAMI_ESTRATOVIVIENDA</th>\n",
       "      <th></th>\n",
       "      <th></th>\n",
       "      <th></th>\n",
       "      <th></th>\n",
       "      <th></th>\n",
       "    </tr>\n",
       "  </thead>\n",
       "  <tbody>\n",
       "    <tr>\n",
       "      <th>Estrato 1</th>\n",
       "      <td>2.173997</td>\n",
       "      <td>14.044945</td>\n",
       "      <td>11.955947</td>\n",
       "      <td>3.659835</td>\n",
       "      <td>1.396408</td>\n",
       "    </tr>\n",
       "    <tr>\n",
       "      <th>Estrato 2</th>\n",
       "      <td>2.704864</td>\n",
       "      <td>18.075895</td>\n",
       "      <td>11.847410</td>\n",
       "      <td>2.877224</td>\n",
       "      <td>1.124080</td>\n",
       "    </tr>\n",
       "    <tr>\n",
       "      <th>Estrato 3</th>\n",
       "      <td>1.625794</td>\n",
       "      <td>10.938828</td>\n",
       "      <td>6.019192</td>\n",
       "      <td>1.343617</td>\n",
       "      <td>0.564749</td>\n",
       "    </tr>\n",
       "    <tr>\n",
       "      <th>Estrato 4</th>\n",
       "      <td>0.393866</td>\n",
       "      <td>2.663104</td>\n",
       "      <td>1.267976</td>\n",
       "      <td>0.266222</td>\n",
       "      <td>0.114053</td>\n",
       "    </tr>\n",
       "    <tr>\n",
       "      <th>Estrato 5</th>\n",
       "      <td>0.132569</td>\n",
       "      <td>0.831660</td>\n",
       "      <td>0.439862</td>\n",
       "      <td>0.102726</td>\n",
       "      <td>0.044026</td>\n",
       "    </tr>\n",
       "    <tr>\n",
       "      <th>Estrato 6</th>\n",
       "      <td>0.057420</td>\n",
       "      <td>0.359197</td>\n",
       "      <td>0.225348</td>\n",
       "      <td>0.064413</td>\n",
       "      <td>0.038707</td>\n",
       "    </tr>\n",
       "    <tr>\n",
       "      <th>Sin Estrato</th>\n",
       "      <td>0.174428</td>\n",
       "      <td>0.888686</td>\n",
       "      <td>0.944925</td>\n",
       "      <td>0.413368</td>\n",
       "      <td>0.224658</td>\n",
       "    </tr>\n",
       "  </tbody>\n",
       "</table>\n",
       "</div>"
      ],
      "text/plain": [
       "FAMI_PERSONASHOGAR       1 a 2      3 a 4      5 a 6     7 a 8   9 o más\n",
       "FAMI_ESTRATOVIVIENDA                                                    \n",
       "Estrato 1             2.173997  14.044945  11.955947  3.659835  1.396408\n",
       "Estrato 2             2.704864  18.075895  11.847410  2.877224  1.124080\n",
       "Estrato 3             1.625794  10.938828   6.019192  1.343617  0.564749\n",
       "Estrato 4             0.393866   2.663104   1.267976  0.266222  0.114053\n",
       "Estrato 5             0.132569   0.831660   0.439862  0.102726  0.044026\n",
       "Estrato 6             0.057420   0.359197   0.225348  0.064413  0.038707\n",
       "Sin Estrato           0.174428   0.888686   0.944925  0.413368  0.224658"
      ]
     },
     "execution_count": 122,
     "metadata": {},
     "output_type": "execute_result"
    }
   ],
   "source": [
    "pd.crosstab(data['FAMI_ESTRATOVIVIENDA'], [data['FAMI_PERSONASHOGAR']])/data.shape[0]*100\n"
   ]
  },
  {
   "cell_type": "code",
   "execution_count": 123,
   "metadata": {},
   "outputs": [
    {
     "data": {
      "text/html": [
       "<div>\n",
       "<style scoped>\n",
       "    .dataframe tbody tr th:only-of-type {\n",
       "        vertical-align: middle;\n",
       "    }\n",
       "\n",
       "    .dataframe tbody tr th {\n",
       "        vertical-align: top;\n",
       "    }\n",
       "\n",
       "    .dataframe thead th {\n",
       "        text-align: right;\n",
       "    }\n",
       "</style>\n",
       "<table border=\"1\" class=\"dataframe\">\n",
       "  <thead>\n",
       "    <tr style=\"text-align: right;\">\n",
       "      <th>ESTU_NSE_INDIVIDUAL</th>\n",
       "      <th>NSE1</th>\n",
       "      <th>NSE2</th>\n",
       "      <th>NSE3</th>\n",
       "      <th>NSE4</th>\n",
       "    </tr>\n",
       "    <tr>\n",
       "      <th>FAMI_ESTRATOVIVIENDA</th>\n",
       "      <th></th>\n",
       "      <th></th>\n",
       "      <th></th>\n",
       "      <th></th>\n",
       "    </tr>\n",
       "  </thead>\n",
       "  <tbody>\n",
       "    <tr>\n",
       "      <th>Estrato 1</th>\n",
       "      <td>10.165377</td>\n",
       "      <td>16.570556</td>\n",
       "      <td>6.198052</td>\n",
       "      <td>0.297148</td>\n",
       "    </tr>\n",
       "    <tr>\n",
       "      <th>Estrato 2</th>\n",
       "      <td>3.620635</td>\n",
       "      <td>15.211771</td>\n",
       "      <td>16.376922</td>\n",
       "      <td>1.420145</td>\n",
       "    </tr>\n",
       "    <tr>\n",
       "      <th>Estrato 3</th>\n",
       "      <td>0.864556</td>\n",
       "      <td>4.564871</td>\n",
       "      <td>11.714742</td>\n",
       "      <td>3.348012</td>\n",
       "    </tr>\n",
       "    <tr>\n",
       "      <th>Estrato 4</th>\n",
       "      <td>0.243864</td>\n",
       "      <td>0.779755</td>\n",
       "      <td>1.754325</td>\n",
       "      <td>1.927276</td>\n",
       "    </tr>\n",
       "    <tr>\n",
       "      <th>Estrato 5</th>\n",
       "      <td>0.108636</td>\n",
       "      <td>0.339992</td>\n",
       "      <td>0.404011</td>\n",
       "      <td>0.698204</td>\n",
       "    </tr>\n",
       "    <tr>\n",
       "      <th>Estrato 6</th>\n",
       "      <td>0.073376</td>\n",
       "      <td>0.226530</td>\n",
       "      <td>0.162904</td>\n",
       "      <td>0.282276</td>\n",
       "    </tr>\n",
       "    <tr>\n",
       "      <th>Sin Estrato</th>\n",
       "      <td>1.137180</td>\n",
       "      <td>1.156582</td>\n",
       "      <td>0.320983</td>\n",
       "      <td>0.031320</td>\n",
       "    </tr>\n",
       "  </tbody>\n",
       "</table>\n",
       "</div>"
      ],
      "text/plain": [
       "ESTU_NSE_INDIVIDUAL        NSE1       NSE2       NSE3      NSE4\n",
       "FAMI_ESTRATOVIVIENDA                                           \n",
       "Estrato 1             10.165377  16.570556   6.198052  0.297148\n",
       "Estrato 2              3.620635  15.211771  16.376922  1.420145\n",
       "Estrato 3              0.864556   4.564871  11.714742  3.348012\n",
       "Estrato 4              0.243864   0.779755   1.754325  1.927276\n",
       "Estrato 5              0.108636   0.339992   0.404011  0.698204\n",
       "Estrato 6              0.073376   0.226530   0.162904  0.282276\n",
       "Sin Estrato            1.137180   1.156582   0.320983  0.031320"
      ]
     },
     "execution_count": 123,
     "metadata": {},
     "output_type": "execute_result"
    }
   ],
   "source": [
    "pd.crosstab(data['FAMI_ESTRATOVIVIENDA'], [data['ESTU_NSE_INDIVIDUAL']])/data.shape[0] * 100"
   ]
  },
  {
   "cell_type": "code",
   "execution_count": 124,
   "metadata": {},
   "outputs": [
    {
     "data": {
      "text/html": [
       "<div>\n",
       "<style scoped>\n",
       "    .dataframe tbody tr th:only-of-type {\n",
       "        vertical-align: middle;\n",
       "    }\n",
       "\n",
       "    .dataframe tbody tr th {\n",
       "        vertical-align: top;\n",
       "    }\n",
       "\n",
       "    .dataframe thead th {\n",
       "        text-align: right;\n",
       "    }\n",
       "</style>\n",
       "<table border=\"1\" class=\"dataframe\">\n",
       "  <thead>\n",
       "    <tr style=\"text-align: right;\">\n",
       "      <th>COLE_AREA_UBICACION</th>\n",
       "      <th>RURAL</th>\n",
       "      <th>URBANO</th>\n",
       "    </tr>\n",
       "    <tr>\n",
       "      <th>FAMI_ESTRATOVIVIENDA</th>\n",
       "      <th></th>\n",
       "      <th></th>\n",
       "    </tr>\n",
       "  </thead>\n",
       "  <tbody>\n",
       "    <tr>\n",
       "      <th>Estrato 1</th>\n",
       "      <td>7.472430</td>\n",
       "      <td>25.758702</td>\n",
       "    </tr>\n",
       "    <tr>\n",
       "      <th>Estrato 2</th>\n",
       "      <td>4.033806</td>\n",
       "      <td>32.595667</td>\n",
       "    </tr>\n",
       "    <tr>\n",
       "      <th>Estrato 3</th>\n",
       "      <td>1.472641</td>\n",
       "      <td>19.019540</td>\n",
       "    </tr>\n",
       "    <tr>\n",
       "      <th>Estrato 4</th>\n",
       "      <td>0.519443</td>\n",
       "      <td>4.185778</td>\n",
       "    </tr>\n",
       "    <tr>\n",
       "      <th>Estrato 5</th>\n",
       "      <td>0.226136</td>\n",
       "      <td>1.324707</td>\n",
       "    </tr>\n",
       "    <tr>\n",
       "      <th>Estrato 6</th>\n",
       "      <td>0.141729</td>\n",
       "      <td>0.603357</td>\n",
       "    </tr>\n",
       "    <tr>\n",
       "      <th>Sin Estrato</th>\n",
       "      <td>1.109799</td>\n",
       "      <td>1.536266</td>\n",
       "    </tr>\n",
       "  </tbody>\n",
       "</table>\n",
       "</div>"
      ],
      "text/plain": [
       "COLE_AREA_UBICACION      RURAL     URBANO\n",
       "FAMI_ESTRATOVIVIENDA                     \n",
       "Estrato 1             7.472430  25.758702\n",
       "Estrato 2             4.033806  32.595667\n",
       "Estrato 3             1.472641  19.019540\n",
       "Estrato 4             0.519443   4.185778\n",
       "Estrato 5             0.226136   1.324707\n",
       "Estrato 6             0.141729   0.603357\n",
       "Sin Estrato           1.109799   1.536266"
      ]
     },
     "execution_count": 124,
     "metadata": {},
     "output_type": "execute_result"
    }
   ],
   "source": [
    "pd.crosstab(data['FAMI_ESTRATOVIVIENDA'], [data['COLE_AREA_UBICACION']])/data.shape[0] * 100"
   ]
  },
  {
   "cell_type": "code",
   "execution_count": 125,
   "metadata": {},
   "outputs": [
    {
     "data": {
      "text/html": [
       "<div>\n",
       "<style scoped>\n",
       "    .dataframe tbody tr th:only-of-type {\n",
       "        vertical-align: middle;\n",
       "    }\n",
       "\n",
       "    .dataframe tbody tr th {\n",
       "        vertical-align: top;\n",
       "    }\n",
       "\n",
       "    .dataframe thead th {\n",
       "        text-align: right;\n",
       "    }\n",
       "</style>\n",
       "<table border=\"1\" class=\"dataframe\">\n",
       "  <thead>\n",
       "    <tr style=\"text-align: right;\">\n",
       "      <th>ESTU_FECHANACIMIENTO</th>\n",
       "      <th>14</th>\n",
       "      <th>15</th>\n",
       "      <th>16</th>\n",
       "      <th>17</th>\n",
       "      <th>18</th>\n",
       "      <th>19</th>\n",
       "      <th>20</th>\n",
       "      <th>21</th>\n",
       "      <th>22</th>\n",
       "    </tr>\n",
       "    <tr>\n",
       "      <th>FAMI_ESTRATOVIVIENDA</th>\n",
       "      <th></th>\n",
       "      <th></th>\n",
       "      <th></th>\n",
       "      <th></th>\n",
       "      <th></th>\n",
       "      <th></th>\n",
       "      <th></th>\n",
       "      <th></th>\n",
       "      <th></th>\n",
       "    </tr>\n",
       "  </thead>\n",
       "  <tbody>\n",
       "    <tr>\n",
       "      <th>Estrato 1</th>\n",
       "      <td>516</td>\n",
       "      <td>13173</td>\n",
       "      <td>113349</td>\n",
       "      <td>109769</td>\n",
       "      <td>60033</td>\n",
       "      <td>24672</td>\n",
       "      <td>9143</td>\n",
       "      <td>4201</td>\n",
       "      <td>2546</td>\n",
       "    </tr>\n",
       "    <tr>\n",
       "      <th>Estrato 2</th>\n",
       "      <td>454</td>\n",
       "      <td>13873</td>\n",
       "      <td>142786</td>\n",
       "      <td>122529</td>\n",
       "      <td>59571</td>\n",
       "      <td>21418</td>\n",
       "      <td>6612</td>\n",
       "      <td>2872</td>\n",
       "      <td>1791</td>\n",
       "    </tr>\n",
       "    <tr>\n",
       "      <th>Estrato 3</th>\n",
       "      <td>256</td>\n",
       "      <td>7260</td>\n",
       "      <td>83595</td>\n",
       "      <td>70324</td>\n",
       "      <td>31322</td>\n",
       "      <td>10358</td>\n",
       "      <td>2972</td>\n",
       "      <td>1222</td>\n",
       "      <td>752</td>\n",
       "    </tr>\n",
       "    <tr>\n",
       "      <th>Estrato 4</th>\n",
       "      <td>72</td>\n",
       "      <td>1523</td>\n",
       "      <td>19075</td>\n",
       "      <td>16726</td>\n",
       "      <td>6910</td>\n",
       "      <td>2248</td>\n",
       "      <td>705</td>\n",
       "      <td>306</td>\n",
       "      <td>208</td>\n",
       "    </tr>\n",
       "    <tr>\n",
       "      <th>Estrato 5</th>\n",
       "      <td>22</td>\n",
       "      <td>398</td>\n",
       "      <td>5299</td>\n",
       "      <td>5929</td>\n",
       "      <td>2665</td>\n",
       "      <td>893</td>\n",
       "      <td>315</td>\n",
       "      <td>139</td>\n",
       "      <td>86</td>\n",
       "    </tr>\n",
       "    <tr>\n",
       "      <th>Estrato 6</th>\n",
       "      <td>6</td>\n",
       "      <td>163</td>\n",
       "      <td>2081</td>\n",
       "      <td>2753</td>\n",
       "      <td>1596</td>\n",
       "      <td>566</td>\n",
       "      <td>232</td>\n",
       "      <td>117</td>\n",
       "      <td>51</td>\n",
       "    </tr>\n",
       "    <tr>\n",
       "      <th>Sin Estrato</th>\n",
       "      <td>50</td>\n",
       "      <td>912</td>\n",
       "      <td>6980</td>\n",
       "      <td>8201</td>\n",
       "      <td>5519</td>\n",
       "      <td>2874</td>\n",
       "      <td>1269</td>\n",
       "      <td>684</td>\n",
       "      <td>377</td>\n",
       "    </tr>\n",
       "  </tbody>\n",
       "</table>\n",
       "</div>"
      ],
      "text/plain": [
       "ESTU_FECHANACIMIENTO   14     15      16      17     18     19    20    21  \\\n",
       "FAMI_ESTRATOVIVIENDA                                                         \n",
       "Estrato 1             516  13173  113349  109769  60033  24672  9143  4201   \n",
       "Estrato 2             454  13873  142786  122529  59571  21418  6612  2872   \n",
       "Estrato 3             256   7260   83595   70324  31322  10358  2972  1222   \n",
       "Estrato 4              72   1523   19075   16726   6910   2248   705   306   \n",
       "Estrato 5              22    398    5299    5929   2665    893   315   139   \n",
       "Estrato 6               6    163    2081    2753   1596    566   232   117   \n",
       "Sin Estrato            50    912    6980    8201   5519   2874  1269   684   \n",
       "\n",
       "ESTU_FECHANACIMIENTO    22  \n",
       "FAMI_ESTRATOVIVIENDA        \n",
       "Estrato 1             2546  \n",
       "Estrato 2             1791  \n",
       "Estrato 3              752  \n",
       "Estrato 4              208  \n",
       "Estrato 5               86  \n",
       "Estrato 6               51  \n",
       "Sin Estrato            377  "
      ]
     },
     "execution_count": 125,
     "metadata": {},
     "output_type": "execute_result"
    }
   ],
   "source": [
    "pd.crosstab(data['FAMI_ESTRATOVIVIENDA'], [data['ESTU_FECHANACIMIENTO']])"
   ]
  },
  {
   "cell_type": "code",
   "execution_count": 126,
   "metadata": {},
   "outputs": [
    {
     "data": {
      "text/html": [
       "<div>\n",
       "<style scoped>\n",
       "    .dataframe tbody tr th:only-of-type {\n",
       "        vertical-align: middle;\n",
       "    }\n",
       "\n",
       "    .dataframe tbody tr th {\n",
       "        vertical-align: top;\n",
       "    }\n",
       "\n",
       "    .dataframe thead th {\n",
       "        text-align: right;\n",
       "    }\n",
       "</style>\n",
       "<table border=\"1\" class=\"dataframe\">\n",
       "  <thead>\n",
       "    <tr style=\"text-align: right;\">\n",
       "      <th>FAMI_NUMLIBROS</th>\n",
       "      <th>0 A 10 LIBROS</th>\n",
       "      <th>11 A 25 LIBROS</th>\n",
       "      <th>26 A 100 LIBROS</th>\n",
       "      <th>MÁS DE 100 LIBROS</th>\n",
       "    </tr>\n",
       "    <tr>\n",
       "      <th>FAMI_ESTRATOVIVIENDA</th>\n",
       "      <th></th>\n",
       "      <th></th>\n",
       "      <th></th>\n",
       "      <th></th>\n",
       "    </tr>\n",
       "  </thead>\n",
       "  <tbody>\n",
       "    <tr>\n",
       "      <th>Estrato 1</th>\n",
       "      <td>174106</td>\n",
       "      <td>100381</td>\n",
       "      <td>49538</td>\n",
       "      <td>13377</td>\n",
       "    </tr>\n",
       "    <tr>\n",
       "      <th>Estrato 2</th>\n",
       "      <td>143407</td>\n",
       "      <td>123194</td>\n",
       "      <td>81813</td>\n",
       "      <td>23492</td>\n",
       "    </tr>\n",
       "    <tr>\n",
       "      <th>Estrato 3</th>\n",
       "      <td>58943</td>\n",
       "      <td>66014</td>\n",
       "      <td>60589</td>\n",
       "      <td>22515</td>\n",
       "    </tr>\n",
       "    <tr>\n",
       "      <th>Estrato 4</th>\n",
       "      <td>10194</td>\n",
       "      <td>13023</td>\n",
       "      <td>15957</td>\n",
       "      <td>8599</td>\n",
       "    </tr>\n",
       "    <tr>\n",
       "      <th>Estrato 5</th>\n",
       "      <td>3333</td>\n",
       "      <td>3959</td>\n",
       "      <td>5200</td>\n",
       "      <td>3254</td>\n",
       "    </tr>\n",
       "    <tr>\n",
       "      <th>Estrato 6</th>\n",
       "      <td>1844</td>\n",
       "      <td>1845</td>\n",
       "      <td>2183</td>\n",
       "      <td>1693</td>\n",
       "    </tr>\n",
       "    <tr>\n",
       "      <th>Sin Estrato</th>\n",
       "      <td>14982</td>\n",
       "      <td>7051</td>\n",
       "      <td>3285</td>\n",
       "      <td>1548</td>\n",
       "    </tr>\n",
       "  </tbody>\n",
       "</table>\n",
       "</div>"
      ],
      "text/plain": [
       "FAMI_NUMLIBROS        0 A 10 LIBROS  11 A 25 LIBROS  26 A 100 LIBROS  \\\n",
       "FAMI_ESTRATOVIVIENDA                                                   \n",
       "Estrato 1                    174106          100381            49538   \n",
       "Estrato 2                    143407          123194            81813   \n",
       "Estrato 3                     58943           66014            60589   \n",
       "Estrato 4                     10194           13023            15957   \n",
       "Estrato 5                      3333            3959             5200   \n",
       "Estrato 6                      1844            1845             2183   \n",
       "Sin Estrato                   14982            7051             3285   \n",
       "\n",
       "FAMI_NUMLIBROS        MÁS DE 100 LIBROS  \n",
       "FAMI_ESTRATOVIVIENDA                     \n",
       "Estrato 1                         13377  \n",
       "Estrato 2                         23492  \n",
       "Estrato 3                         22515  \n",
       "Estrato 4                          8599  \n",
       "Estrato 5                          3254  \n",
       "Estrato 6                          1693  \n",
       "Sin Estrato                        1548  "
      ]
     },
     "execution_count": 126,
     "metadata": {},
     "output_type": "execute_result"
    }
   ],
   "source": [
    "pd.crosstab(data['FAMI_ESTRATOVIVIENDA'], [data['FAMI_NUMLIBROS']])"
   ]
  },
  {
   "cell_type": "markdown",
   "metadata": {},
   "source": [
    "## Diagramas de dispersion"
   ]
  },
  {
   "cell_type": "code",
   "execution_count": 127,
   "metadata": {},
   "outputs": [
    {
     "data": {
      "text/plain": [
       "Text(0, 0.5, 'ESTU_INSE_INDIVIDUAL')"
      ]
     },
     "execution_count": 127,
     "metadata": {},
     "output_type": "execute_result"
    },
    {
     "data": {
      "image/png": "[encoded data removed]",
      "text/plain": [
       "<Figure size 432x288 with 1 Axes>"
      ]
     },
     "metadata": {
      "needs_background": "light"
     },
     "output_type": "display_data"
    }
   ],
   "source": [
    "colors = {'M':'r', 'F':'b'}\n",
    "fig, ax = plt.subplots()\n",
    "for i in range(1000000):\n",
    "    if data['PUNT_GLOBAL'][i] > 420:\n",
    "        ax.scatter(data['PUNT_GLOBAL'][i], data['ESTU_INSE_INDIVIDUAL'][i],color=colors[data['ESTU_GENERO'][i]])\n",
    "ax.set_title('Iris Dataset')\n",
    "ax.set_xlabel('PUNT_GLOBAL')\n",
    "ax.set_ylabel('ESTU_INSE_INDIVIDUAL')"
   ]
  },
  {
   "cell_type": "code",
   "execution_count": 128,
   "metadata": {},
   "outputs": [
    {
     "data": {
      "text/plain": [
       "Text(0, 0.5, 'ESTU_INSE_INDIVIDUAL')"
      ]
     },
     "execution_count": 128,
     "metadata": {},
     "output_type": "execute_result"
    },
    {
     "data": {
      "image/png": "[encoded data removed]",
      "text/plain": [
       "<Figure size 432x288 with 1 Axes>"
      ]
     },
     "metadata": {
      "needs_background": "light"
     },
     "output_type": "display_data"
    }
   ],
   "source": [
    "colors = {'M':'r', 'F':'b'}\n",
    "fig, ax = plt.subplots()\n",
    "for i in range(1000000):\n",
    "    if data['PUNT_GLOBAL'][i] < 150:\n",
    "        ax.scatter(data['PUNT_GLOBAL'][i], data['ESTU_INSE_INDIVIDUAL'][i],color=colors[data['ESTU_GENERO'][i]])\n",
    "ax.set_title('Iris Dataset')\n",
    "ax.set_xlabel('PUNT_GLOBAL')\n",
    "ax.set_ylabel('ESTU_INSE_INDIVIDUAL')"
   ]
  },
  {
   "cell_type": "markdown",
   "metadata": {},
   "source": [
    "# Entropia"
   ]
  },
  {
   "cell_type": "code",
   "execution_count": 129,
   "metadata": {},
   "outputs": [],
   "source": [
    "columnEval = [\"FAMI_TIENESERVICIOTV\",\"FAMI_TIENECOMPUTADOR\",\"FAMI_TIENEAUTOMOVIL\",\"FAMI_TIENEMOTOCICLETA\",\"FAMI_TIENECONSOLAVIDEOJUEGOS\"]"
   ]
  },
  {
   "cell_type": "code",
   "execution_count": 130,
   "metadata": {},
   "outputs": [],
   "source": [
    "def EntropySum(n):\n",
    "    if n == 0:\n",
    "        return 0\n",
    "    if n == 1:\n",
    "        return 0\n",
    "    else:\n",
    "        return n*math.log(n,2)+(1-n)*math.log(1-n,2)\n",
    "\n",
    "def compare(i,j,colPass):\n",
    "    count = 0\n",
    "    for col in columnEval:\n",
    "        if data.iloc[i][col] == data.iloc[j][col]:\n",
    "            if col != colPass:\n",
    "                count+=1\n",
    "    return count"
   ]
  },
  {
   "cell_type": "code",
   "execution_count": 131,
   "metadata": {},
   "outputs": [
    {
     "data": {
      "text/plain": [
       "'\\nfor i in range(dataSize):\\n    for j in range(i+1,dataSize):\\n        result = compare(i, j, \"\")\\n        entropy += EntropySum(result/data.shape[1])\\n        #if j%100 == 0:\\n        #    print(\"R\",i,j,\"=\",result)\\n    print(\"R\",i,j,\"=\",entropy)\\nprint(\"EntropyTotal\",entropy*-1)\\n'"
      ]
     },
     "execution_count": 131,
     "metadata": {},
     "output_type": "execute_result"
    }
   ],
   "source": [
    "entropy = 0\n",
    "dataSize = 1000 #data.shape[0]\n",
    "\n",
    "\"\"\"\n",
    "for i in range(dataSize):\n",
    "    for j in range(i+1,dataSize):\n",
    "        result = compare(i, j, \"\")\n",
    "        entropy += EntropySum(result/data.shape[1])\n",
    "        #if j%100 == 0:\n",
    "        #    print(\"R\",i,j,\"=\",result)\n",
    "    print(\"R\",i,j,\"=\",entropy)\n",
    "print(\"EntropyTotal\",entropy*-1)\n",
    "\"\"\"\n"
   ]
  },
  {
   "cell_type": "markdown",
   "metadata": {},
   "source": [
    "## crear csv para k-modes transformar todos los datos en categoricos"
   ]
  },
  {
   "cell_type": "code",
   "execution_count": 132,
   "metadata": {},
   "outputs": [],
   "source": [
    "#data.groupby(\"PUNT_GLOBAL\").size()"
   ]
  },
  {
   "cell_type": "code",
   "execution_count": 133,
   "metadata": {},
   "outputs": [],
   "source": [
    "data[\"ESTU_INSE_INDIVIDUAL\"] = data[\"ESTU_INSE_INDIVIDUAL\"].fillna(50.0)"
   ]
  },
  {
   "cell_type": "code",
   "execution_count": 134,
   "metadata": {},
   "outputs": [],
   "source": [
    "data[\"PUNT_INGLES\"] = data[\"PUNT_INGLES\"].fillna(50.0)"
   ]
  },
  {
   "cell_type": "code",
   "execution_count": 135,
   "metadata": {},
   "outputs": [],
   "source": [
    "data[\"ESTU_NSE_ESTABLECIMIENTO\"] = data[\"ESTU_NSE_ESTABLECIMIENTO\"].fillna(2.0)\n",
    "#data.groupby(\"ESTU_NSE_ESTABLECIMIENTO\").size()"
   ]
  },
  {
   "cell_type": "code",
   "execution_count": 78,
   "metadata": {},
   "outputs": [],
   "source": [
    "data[\"PUNT_GLOBAL\"] = data.apply(lambda x: puntajeGlobalCategorico(x[\"PUNT_GLOBAL\"]),axis=1 )"
   ]
  },
  {
   "cell_type": "code",
   "execution_count": 79,
   "metadata": {},
   "outputs": [],
   "source": [
    "data[\"PUNT_LECTURA_CRITICA\"] = data.apply(lambda x: puntajeCategorico(x[\"PUNT_LECTURA_CRITICA\"]),axis=1 )"
   ]
  },
  {
   "cell_type": "code",
   "execution_count": 80,
   "metadata": {},
   "outputs": [],
   "source": [
    "data[\"PUNT_MATEMATICAS\"] = data.apply(lambda x: puntajeCategorico(x[\"PUNT_MATEMATICAS\"]),axis=1 )"
   ]
  },
  {
   "cell_type": "code",
   "execution_count": 81,
   "metadata": {},
   "outputs": [],
   "source": [
    "data[\"PUNT_C_NATURALES\"] = data.apply(lambda x: puntajeCategorico(x[\"PUNT_C_NATURALES\"]),axis=1 )"
   ]
  },
  {
   "cell_type": "code",
   "execution_count": 82,
   "metadata": {},
   "outputs": [],
   "source": [
    "data[\"PUNT_SOCIALES_CIUDADANAS\"] = data.apply(lambda x: puntajeCategorico(x[\"PUNT_SOCIALES_CIUDADANAS\"]),axis=1 )"
   ]
  },
  {
   "cell_type": "code",
   "execution_count": 83,
   "metadata": {},
   "outputs": [],
   "source": [
    "data[\"PUNT_INGLES\"] = data.apply(lambda x: puntajeCategorico(x[\"PUNT_INGLES\"]),axis=1 )"
   ]
  },
  {
   "cell_type": "code",
   "execution_count": 84,
   "metadata": {},
   "outputs": [],
   "source": [
    "data[\"ESTU_INSE_INDIVIDUAL\"] = data.apply(lambda x: inseIndividualCategorico(x[\"ESTU_INSE_INDIVIDUAL\"]),axis=1 ) "
   ]
  },
  {
   "cell_type": "code",
   "execution_count": 85,
   "metadata": {},
   "outputs": [
    {
     "data": {
      "text/plain": [
       "ESTU_INSE_INDIVIDUAL\n",
       "3         15\n",
       "4        147\n",
       "5       1181\n",
       "6       8142\n",
       "7      36870\n",
       "8      97511\n",
       "9     170400\n",
       "10    225940\n",
       "11    201013\n",
       "12    137467\n",
       "13     73095\n",
       "14     37439\n",
       "15     17717\n",
       "16      6360\n",
       "17      2022\n",
       "dtype: int64"
      ]
     },
     "execution_count": 85,
     "metadata": {},
     "output_type": "execute_result"
    }
   ],
   "source": [
    "data.groupby(\"ESTU_INSE_INDIVIDUAL\").size()"
   ]
  },
  {
   "cell_type": "code",
   "execution_count": 87,
   "metadata": {},
   "outputs": [
    {
     "data": {
      "text/html": [
       "<div>\n",
       "<style scoped>\n",
       "    .dataframe tbody tr th:only-of-type {\n",
       "        vertical-align: middle;\n",
       "    }\n",
       "\n",
       "    .dataframe tbody tr th {\n",
       "        vertical-align: top;\n",
       "    }\n",
       "\n",
       "    .dataframe thead th {\n",
       "        text-align: right;\n",
       "    }\n",
       "</style>\n",
       "<table border=\"1\" class=\"dataframe\">\n",
       "  <thead>\n",
       "    <tr style=\"text-align: right;\">\n",
       "      <th></th>\n",
       "      <th>ELECTRODOMESTICOS</th>\n",
       "      <th>ESTU_GENERO</th>\n",
       "      <th>ESTU_FECHANACIMIENTO</th>\n",
       "      <th>PERIODO</th>\n",
       "      <th>ESTU_DEPTO_RESIDE</th>\n",
       "      <th>FAMI_ESTRATOVIVIENDA</th>\n",
       "      <th>FAMI_PERSONASHOGAR</th>\n",
       "      <th>FAMI_CUARTOSHOGAR</th>\n",
       "      <th>FAMI_EDUCACIONPADRE</th>\n",
       "      <th>FAMI_EDUCACIONMADRE</th>\n",
       "      <th>...</th>\n",
       "      <th>COLE_JORNADA</th>\n",
       "      <th>PUNT_LECTURA_CRITICA</th>\n",
       "      <th>PUNT_MATEMATICAS</th>\n",
       "      <th>PUNT_C_NATURALES</th>\n",
       "      <th>PUNT_SOCIALES_CIUDADANAS</th>\n",
       "      <th>PUNT_INGLES</th>\n",
       "      <th>PUNT_GLOBAL</th>\n",
       "      <th>ESTU_NSE_ESTABLECIMIENTO</th>\n",
       "      <th>ESTU_INSE_INDIVIDUAL</th>\n",
       "      <th>ESTU_NSE_INDIVIDUAL</th>\n",
       "    </tr>\n",
       "  </thead>\n",
       "  <tbody>\n",
       "    <tr>\n",
       "      <th>0</th>\n",
       "      <td>10010</td>\n",
       "      <td>M</td>\n",
       "      <td>16</td>\n",
       "      <td>20182</td>\n",
       "      <td>ATLANTICO</td>\n",
       "      <td>Estrato 2</td>\n",
       "      <td>7 a 8</td>\n",
       "      <td>Cuatro</td>\n",
       "      <td>No sabe</td>\n",
       "      <td>No sabe</td>\n",
       "      <td>...</td>\n",
       "      <td>MAÑANA</td>\n",
       "      <td>7</td>\n",
       "      <td>7</td>\n",
       "      <td>6</td>\n",
       "      <td>6</td>\n",
       "      <td>7</td>\n",
       "      <td>7</td>\n",
       "      <td>2.0</td>\n",
       "      <td>11</td>\n",
       "      <td>NSE3</td>\n",
       "    </tr>\n",
       "    <tr>\n",
       "      <th>1</th>\n",
       "      <td>10010</td>\n",
       "      <td>M</td>\n",
       "      <td>17</td>\n",
       "      <td>20182</td>\n",
       "      <td>CORDOBA</td>\n",
       "      <td>Estrato 1</td>\n",
       "      <td>5 a 6</td>\n",
       "      <td>Dos</td>\n",
       "      <td>Secundaria (Bachillerato) completa</td>\n",
       "      <td>Primaria completa</td>\n",
       "      <td>...</td>\n",
       "      <td>UNICA</td>\n",
       "      <td>6</td>\n",
       "      <td>5</td>\n",
       "      <td>5</td>\n",
       "      <td>4</td>\n",
       "      <td>5</td>\n",
       "      <td>5</td>\n",
       "      <td>2.0</td>\n",
       "      <td>9</td>\n",
       "      <td>NSE2</td>\n",
       "    </tr>\n",
       "    <tr>\n",
       "      <th>2</th>\n",
       "      <td>0</td>\n",
       "      <td>M</td>\n",
       "      <td>16</td>\n",
       "      <td>20182</td>\n",
       "      <td>VALLE</td>\n",
       "      <td>Estrato 2</td>\n",
       "      <td>1 a 2</td>\n",
       "      <td>Dos</td>\n",
       "      <td>No sabe</td>\n",
       "      <td>Técnica o tecnológica incompleta</td>\n",
       "      <td>...</td>\n",
       "      <td>MAÑANA</td>\n",
       "      <td>6</td>\n",
       "      <td>5</td>\n",
       "      <td>5</td>\n",
       "      <td>5</td>\n",
       "      <td>5</td>\n",
       "      <td>5</td>\n",
       "      <td>2.0</td>\n",
       "      <td>9</td>\n",
       "      <td>NSE2</td>\n",
       "    </tr>\n",
       "    <tr>\n",
       "      <th>3</th>\n",
       "      <td>11101</td>\n",
       "      <td>M</td>\n",
       "      <td>17</td>\n",
       "      <td>20182</td>\n",
       "      <td>BOYACA</td>\n",
       "      <td>Estrato 3</td>\n",
       "      <td>3 a 4</td>\n",
       "      <td>Tres</td>\n",
       "      <td>No sabe</td>\n",
       "      <td>Educación profesional completa</td>\n",
       "      <td>...</td>\n",
       "      <td>MAÑANA</td>\n",
       "      <td>7</td>\n",
       "      <td>6</td>\n",
       "      <td>6</td>\n",
       "      <td>7</td>\n",
       "      <td>7</td>\n",
       "      <td>7</td>\n",
       "      <td>3.0</td>\n",
       "      <td>15</td>\n",
       "      <td>NSE4</td>\n",
       "    </tr>\n",
       "    <tr>\n",
       "      <th>4</th>\n",
       "      <td>10000</td>\n",
       "      <td>M</td>\n",
       "      <td>19</td>\n",
       "      <td>20182</td>\n",
       "      <td>BOGOTA</td>\n",
       "      <td>Estrato 2</td>\n",
       "      <td>7 a 8</td>\n",
       "      <td>Tres</td>\n",
       "      <td>No sabe</td>\n",
       "      <td>No sabe</td>\n",
       "      <td>...</td>\n",
       "      <td>COMPLETA</td>\n",
       "      <td>6</td>\n",
       "      <td>6</td>\n",
       "      <td>5</td>\n",
       "      <td>5</td>\n",
       "      <td>6</td>\n",
       "      <td>6</td>\n",
       "      <td>3.0</td>\n",
       "      <td>10</td>\n",
       "      <td>NSE2</td>\n",
       "    </tr>\n",
       "  </tbody>\n",
       "</table>\n",
       "<p>5 rows × 31 columns</p>\n",
       "</div>"
      ],
      "text/plain": [
       "   ELECTRODOMESTICOS ESTU_GENERO  ESTU_FECHANACIMIENTO  PERIODO  \\\n",
       "0              10010           M                    16    20182   \n",
       "1              10010           M                    17    20182   \n",
       "2                  0           M                    16    20182   \n",
       "3              11101           M                    17    20182   \n",
       "4              10000           M                    19    20182   \n",
       "\n",
       "  ESTU_DEPTO_RESIDE FAMI_ESTRATOVIVIENDA FAMI_PERSONASHOGAR FAMI_CUARTOSHOGAR  \\\n",
       "0         ATLANTICO            Estrato 2              7 a 8            Cuatro   \n",
       "1           CORDOBA            Estrato 1              5 a 6               Dos   \n",
       "2             VALLE            Estrato 2              1 a 2               Dos   \n",
       "3            BOYACA            Estrato 3              3 a 4              Tres   \n",
       "4            BOGOTA            Estrato 2              7 a 8              Tres   \n",
       "\n",
       "                  FAMI_EDUCACIONPADRE               FAMI_EDUCACIONMADRE  ...  \\\n",
       "0                             No sabe                           No sabe  ...   \n",
       "1  Secundaria (Bachillerato) completa                 Primaria completa  ...   \n",
       "2                             No sabe  Técnica o tecnológica incompleta  ...   \n",
       "3                             No sabe    Educación profesional completa  ...   \n",
       "4                             No sabe                           No sabe  ...   \n",
       "\n",
       "  COLE_JORNADA PUNT_LECTURA_CRITICA PUNT_MATEMATICAS PUNT_C_NATURALES  \\\n",
       "0       MAÑANA                    7                7                6   \n",
       "1        UNICA                    6                5                5   \n",
       "2       MAÑANA                    6                5                5   \n",
       "3       MAÑANA                    7                6                6   \n",
       "4     COMPLETA                    6                6                5   \n",
       "\n",
       "  PUNT_SOCIALES_CIUDADANAS PUNT_INGLES PUNT_GLOBAL ESTU_NSE_ESTABLECIMIENTO  \\\n",
       "0                        6           7           7                      2.0   \n",
       "1                        4           5           5                      2.0   \n",
       "2                        5           5           5                      2.0   \n",
       "3                        7           7           7                      3.0   \n",
       "4                        5           6           6                      3.0   \n",
       "\n",
       "  ESTU_INSE_INDIVIDUAL ESTU_NSE_INDIVIDUAL  \n",
       "0                   11                NSE3  \n",
       "1                    9                NSE2  \n",
       "2                    9                NSE2  \n",
       "3                   15                NSE4  \n",
       "4                   10                NSE2  \n",
       "\n",
       "[5 rows x 31 columns]"
      ]
     },
     "execution_count": 87,
     "metadata": {},
     "output_type": "execute_result"
    }
   ],
   "source": [
    "data.head()"
   ]
  },
  {
   "cell_type": "code",
   "execution_count": 88,
   "metadata": {},
   "outputs": [
    {
     "data": {
      "text/plain": [
       "Index(['ELECTRODOMESTICOS', 'ESTU_GENERO', 'ESTU_FECHANACIMIENTO', 'PERIODO',\n",
       "       'ESTU_DEPTO_RESIDE', 'FAMI_ESTRATOVIVIENDA', 'FAMI_PERSONASHOGAR',\n",
       "       'FAMI_CUARTOSHOGAR', 'FAMI_EDUCACIONPADRE', 'FAMI_EDUCACIONMADRE',\n",
       "       'FAMI_TRABAJOLABORPADRE', 'FAMI_TRABAJOLABORMADRE', 'FAMI_NUMLIBROS',\n",
       "       'FAMI_COMELECHEDERIVADOS', 'FAMI_COMECARNEPESCADOHUEVO',\n",
       "       'FAMI_COMECEREALFRUTOSLEGUMBRE', 'ESTU_DEDICACIONLECTURADIARIA',\n",
       "       'ESTU_DEDICACIONINTERNET', 'COLE_NATURALEZA', 'COLE_CARACTER',\n",
       "       'COLE_AREA_UBICACION', 'COLE_JORNADA', 'PUNT_LECTURA_CRITICA',\n",
       "       'PUNT_MATEMATICAS', 'PUNT_C_NATURALES', 'PUNT_SOCIALES_CIUDADANAS',\n",
       "       'PUNT_INGLES', 'PUNT_GLOBAL', 'ESTU_NSE_ESTABLECIMIENTO',\n",
       "       'ESTU_INSE_INDIVIDUAL', 'ESTU_NSE_INDIVIDUAL'],\n",
       "      dtype='object')"
      ]
     },
     "execution_count": 88,
     "metadata": {},
     "output_type": "execute_result"
    }
   ],
   "source": [
    "data.columns"
   ]
  },
  {
   "cell_type": "markdown",
   "metadata": {},
   "source": [
    "'ELECTRODOMESTICOS', 'ESTU_GENERO', 'ESTU_FECHANACIMIENTO',\n",
    "       'ESTU_DEPTO_RESIDE', 'FAMI_ESTRATOVIVIENDA', 'FAMI_PERSONASHOGAR',\n",
    "       'FAMI_CUARTOSHOGAR', 'FAMI_EDUCACIONPADRE', 'FAMI_EDUCACIONMADRE',\n",
    "       'FAMI_TRABAJOLABORPADRE', 'FAMI_TRABAJOLABORMADRE', 'FAMI_NUMLIBROS',\n",
    "        'ESTU_DEDICACIONLECTURADIARIA',\n",
    "       'ESTU_DEDICACIONINTERNET', 'COLE_NATURALEZA', 'COLE_CARACTER',\n",
    "       'COLE_AREA_UBICACION', 'COLE_JORNADA',\n",
    "       'PUNT_GLOBAL', 'ESTU_NSE_ESTABLECIMIENTO',\n",
    "       'ESTU_INSE_INDIVIDUAL', 'ESTU_NSE_INDIVIDUAL'"
   ]
  },
  {
   "cell_type": "code",
   "execution_count": 89,
   "metadata": {},
   "outputs": [
    {
     "data": {
      "text/plain": [
       "0"
      ]
     },
     "execution_count": 89,
     "metadata": {},
     "output_type": "execute_result"
    }
   ],
   "source": [
    "data[\"ESTU_FECHANACIMIENTO\"].isnull().values.sum()"
   ]
  },
  {
   "cell_type": "code",
   "execution_count": 90,
   "metadata": {},
   "outputs": [],
   "source": [
    "#dropData =data.drop(columns=['FAMI_COMELECHEDERIVADOS','PERIODO','PUNT_INGLES','FAMI_COMECARNEPESCADOHUEVO','PUNT_LECTURA_CRITICA','PUNT_C_NATURALES','PUNT_MATEMATICAS','PUNT_SOCIALES_CIUDADANAS','FAMI_COMECEREALFRUTOSLEGUMBRE'])"
   ]
  },
  {
   "cell_type": "code",
   "execution_count": 91,
   "metadata": {},
   "outputs": [
    {
     "name": "stdout",
     "output_type": "stream",
     "text": [
      "ELECTRODOMESTICOS 0\n",
      "ESTU_GENERO 0\n",
      "ESTU_FECHANACIMIENTO 0\n",
      "PERIODO 0\n",
      "ESTU_DEPTO_RESIDE 0\n",
      "FAMI_ESTRATOVIVIENDA 0\n",
      "FAMI_PERSONASHOGAR 0\n",
      "FAMI_CUARTOSHOGAR 0\n",
      "FAMI_EDUCACIONPADRE 0\n",
      "FAMI_EDUCACIONMADRE 0\n",
      "FAMI_TRABAJOLABORPADRE 0\n",
      "FAMI_TRABAJOLABORMADRE 0\n",
      "FAMI_NUMLIBROS 0\n",
      "FAMI_COMELECHEDERIVADOS 0\n",
      "FAMI_COMECARNEPESCADOHUEVO 0\n",
      "FAMI_COMECEREALFRUTOSLEGUMBRE 0\n",
      "ESTU_DEDICACIONLECTURADIARIA 0\n",
      "ESTU_DEDICACIONINTERNET 0\n",
      "COLE_NATURALEZA 0\n",
      "COLE_CARACTER 0\n",
      "COLE_AREA_UBICACION 0\n",
      "COLE_JORNADA 0\n",
      "PUNT_LECTURA_CRITICA 0\n",
      "PUNT_MATEMATICAS 0\n",
      "PUNT_C_NATURALES 0\n",
      "PUNT_SOCIALES_CIUDADANAS 0\n",
      "PUNT_INGLES 0\n",
      "PUNT_GLOBAL 0\n",
      "ESTU_NSE_ESTABLECIMIENTO 0\n",
      "ESTU_INSE_INDIVIDUAL 0\n",
      "ESTU_NSE_INDIVIDUAL 0\n"
     ]
    },
    {
     "data": {
      "text/plain": [
       "31"
      ]
     },
     "execution_count": 91,
     "metadata": {},
     "output_type": "execute_result"
    }
   ],
   "source": [
    "arr = ['ELECTRODOMESTICOS', 'ESTU_GENERO', 'ESTU_FECHANACIMIENTO', 'PERIODO',\n",
    "       'ESTU_DEPTO_RESIDE', 'FAMI_ESTRATOVIVIENDA', 'FAMI_PERSONASHOGAR',\n",
    "       'FAMI_CUARTOSHOGAR', 'FAMI_EDUCACIONPADRE', 'FAMI_EDUCACIONMADRE',\n",
    "       'FAMI_TRABAJOLABORPADRE', 'FAMI_TRABAJOLABORMADRE', 'FAMI_NUMLIBROS',\n",
    "       'FAMI_COMELECHEDERIVADOS', 'FAMI_COMECARNEPESCADOHUEVO',\n",
    "       'FAMI_COMECEREALFRUTOSLEGUMBRE', 'ESTU_DEDICACIONLECTURADIARIA',\n",
    "       'ESTU_DEDICACIONINTERNET', 'COLE_NATURALEZA', 'COLE_CARACTER',\n",
    "       'COLE_AREA_UBICACION', 'COLE_JORNADA', 'PUNT_LECTURA_CRITICA',\n",
    "       'PUNT_MATEMATICAS', 'PUNT_C_NATURALES', 'PUNT_SOCIALES_CIUDADANAS',\n",
    "       'PUNT_INGLES', 'PUNT_GLOBAL', 'ESTU_NSE_ESTABLECIMIENTO',\n",
    "       'ESTU_INSE_INDIVIDUAL', 'ESTU_NSE_INDIVIDUAL']\n",
    "\n",
    "for arrKey in arr:\n",
    "    print(arrKey,data[arrKey].isnull().values.sum())\n",
    "\n",
    "len(arr)"
   ]
  },
  {
   "cell_type": "markdown",
   "metadata": {},
   "source": [
    "### Transformar a numeros"
   ]
  },
  {
   "cell_type": "code",
   "execution_count": 92,
   "metadata": {},
   "outputs": [],
   "source": [
    "def electrodometicToNumber(x):\n",
    "    if x == 0:\n",
    "        return 1\n",
    "    if x == 10:\n",
    "        return 2\n",
    "    if x == 1000:\n",
    "        return 3\n",
    "    if x == 1001:\n",
    "        return 4\n",
    "    if x == 1010:\n",
    "        return 5\n",
    "    if x == 1100:\n",
    "        return 6\n",
    "    if x == 10000:\n",
    "        return 7\n",
    "    if x == 10001:\n",
    "        return 8\n",
    "    if x == 10010:\n",
    "        return 9\n",
    "    if x == 10011:\n",
    "        return 10\n",
    "    if x == 10100:\n",
    "        return 11\n",
    "    if x == 10110:\n",
    "        return 12\n",
    "    if x == 11000:\n",
    "        return 13\n",
    "    if x == 11001:\n",
    "        return 14\n",
    "    if x == 11010:\n",
    "        return 15\n",
    "    if x == 11011:\n",
    "        return 16\n",
    "    if x == 11100:\n",
    "        return 17\n",
    "    if x == 11101:\n",
    "        return 18\n",
    "    if x == 11110:\n",
    "        return 19\n",
    "    if x == 11111:\n",
    "        return 20\n",
    "    else:\n",
    "        return x\n",
    "\n",
    "def generoToNumber(x):\n",
    "    if x == 'F':\n",
    "        return 0\n",
    "    if x == 'M':\n",
    "        return 1\n",
    "    else:\n",
    "        return x\n",
    "def nseIndividualToNumber(x):\n",
    "    if x == \"NSE1\":\n",
    "        return 1\n",
    "    if x == \"NSE2\":\n",
    "        return 2\n",
    "    if x == \"NSE3\":\n",
    "        return 3\n",
    "    if x == \"NSE4\":\n",
    "        return 4\n",
    "    \n",
    "def jornadaToNumber(x):\n",
    "    if x == \"COMPLETA\":\n",
    "        return 1\n",
    "    if x == \"MAÑANA\":\n",
    "        return 2\n",
    "    if x == \"NOCHE\":\n",
    "        return 3\n",
    "    if x == \"SABATINA\":\n",
    "        return 4\n",
    "    if x == \"TARDE\":\n",
    "        return 5\n",
    "    if x == \"UNICA\":\n",
    "        return 6\n",
    "def areaToNumber(x):\n",
    "    if x == \"RURAL\":\n",
    "        return 1\n",
    "    if x == \"URBANO\":\n",
    "        return 2\n",
    "def cuartosToNumber(x):\n",
    "    if x == \"Cinco\":\n",
    "        return 5\n",
    "    if x == \"Cuatro\":\n",
    "        return 4\n",
    "    if x == \"Dos\":\n",
    "        return 2\n",
    "    if x == \"Seis o mas\":\n",
    "        return 6\n",
    "    if x == \"Tres\":\n",
    "        return 3\n",
    "    if x == \"Uno\":\n",
    "        return 1\n",
    "\n",
    "def estratoToNumber(x):\n",
    "    if x == \"Estrato 1\":\n",
    "        return 1\n",
    "    if x == \"Estrato 2\":\n",
    "        return 2\n",
    "    if x == \"Estrato 3\":\n",
    "        return 3\n",
    "    if x == \"Estrato 4\":\n",
    "        return 4\n",
    "    if x == \"Estrato 5\":\n",
    "        return 5\n",
    "    if x == \"Estrato 6\":\n",
    "        return 6\n",
    "    if x == \"Sin Estrato\":\n",
    "        return 0\n",
    "\n",
    "def personasHogarToNumber(x):\n",
    "    if x == \"1 a 2\":\n",
    "        return 1\n",
    "    if x == \"3 a 4\":\n",
    "        return 3\n",
    "    if x == \"5 a 6\":\n",
    "        return 5\n",
    "    if x == \"7 a 8\":\n",
    "        return 7\n",
    "    if x == \"9 o más\":\n",
    "        return 9\n",
    "def numLibrosToNumber(x):\n",
    "    if x == \"0 A 10 LIBROS\":\n",
    "        return 1\n",
    "    if x == \"11 A 25 LIBROS\":\n",
    "        return 2\n",
    "    if x == \"26 A 100 LIBROS\":\n",
    "        return 3\n",
    "    if x == \"MÁS DE 100 LIBROS\":\n",
    "        return 4\n",
    "    \n",
    "def coleCaracterToNumber(x):\n",
    "    if x == \"ACADÉMICO\":\n",
    "        return 1\n",
    "    if x == \"NO APLICA\":\n",
    "        return 2\n",
    "    if x == \"TÉCNICO\":\n",
    "        return 3\n",
    "    if x == \"TÉCNICO/ACADÉMICO\":\n",
    "        return 4\n",
    "    \n",
    "def coleNaturaleza(x):\n",
    "    if x == \"NO OFICIAL\":\n",
    "        return 1\n",
    "    if x == \"OFICIAL\":\n",
    "        return 2\n",
    "    \n",
    "def departamentoToNumber(x):\n",
    "    if x == \"AMAZONAS\":\n",
    "        return 1\n",
    "    if x == \"ANTIOQUIA\":\n",
    "        return 2\n",
    "    if x == \"ARAUCA\":\n",
    "        return 3\n",
    "    if x == \"ATLANTICO\":\n",
    "        return 4\n",
    "    if x == \"BOGOTA\":\n",
    "        return 5\n",
    "    if x == \"BOLIVAR\":\n",
    "        return 6\n",
    "    if x == \"BOYACA\":\n",
    "        return 7\n",
    "    if x == \"CALDAS\":\n",
    "        return 8\n",
    "    if x == \"CAQUETA\":\n",
    "        return 9\n",
    "    if x == \"CASANARE\":\n",
    "        return 10\n",
    "    if x == \"CAUCA\":\n",
    "        return 11\n",
    "    if x == \"CESAR\":\n",
    "        return 12\n",
    "    if x == \"CHOCO\":\n",
    "        return 13\n",
    "    if x == \"CORDOBA\":\n",
    "        return 14\n",
    "    if x == \"CUNDINAMARCA\":\n",
    "        return 15\n",
    "    if x == \"GUAINIA\":\n",
    "        return 16\n",
    "    if x == \"GUAVIARE\":\n",
    "        return 17\n",
    "    if x == \"HUILA\":\n",
    "        return 18\n",
    "    if x == \"LA GUAJIRA\":\n",
    "        return 19\n",
    "    if x == \"MAGDALENA\":\n",
    "        return 20\n",
    "    if x == \"META\":\n",
    "        return 21\n",
    "    if x == \"NARIÑO\":\n",
    "        return 22\n",
    "    if x == \"NORTE SANTANDER\":\n",
    "        return 23\n",
    "    if x == \"PUTUMAYO\":\n",
    "        return 24\n",
    "    if x == \"QUINDIO\":\n",
    "        return 25\n",
    "    if x == \"RISARALDA\":\n",
    "        return 26\n",
    "    if x == \"SAN ANDRES\":\n",
    "        return 27\n",
    "    if x == \"SANTANDER\":\n",
    "        return 28\n",
    "    if x == \"SUCRE\":\n",
    "        return 29\n",
    "    if x == \"TOLIMA\":\n",
    "        return 30\n",
    "    if x == \"VALLE\":\n",
    "        return 31\n",
    "    if x == \"VAUPES\":\n",
    "        return 32\n",
    "    if x == \"VICHADA\":\n",
    "        return 33\n",
    "    if x == \"EXTRANJERO\":\n",
    "        return 0\n",
    "    else:\n",
    "        return x"
   ]
  },
  {
   "cell_type": "markdown",
   "metadata": {},
   "source": [
    "'ESTU_DEPTO_RESIDE'"
   ]
  },
  {
   "cell_type": "code",
   "execution_count": 93,
   "metadata": {},
   "outputs": [],
   "source": [
    "data[\"FAMI_TRABAJOLABORMADRE\"] = data.apply(lambda x : trabajoMadreToNumber(x[\"FAMI_TRABAJOLABORMADRE\"]),axis=1) "
   ]
  },
  {
   "cell_type": "code",
   "execution_count": 94,
   "metadata": {},
   "outputs": [],
   "source": [
    "data[\"FAMI_TRABAJOLABORPADRE\"] = data.apply(lambda x : trabajoMadreToNumber(x[\"FAMI_TRABAJOLABORPADRE\"]),axis=1) "
   ]
  },
  {
   "cell_type": "code",
   "execution_count": 95,
   "metadata": {},
   "outputs": [],
   "source": [
    "data[\"FAMI_EDUCACIONPADRE\"] = data.apply(lambda x : educacionToNumber(x[\"FAMI_EDUCACIONPADRE\"]),axis=1) "
   ]
  },
  {
   "cell_type": "code",
   "execution_count": 96,
   "metadata": {},
   "outputs": [],
   "source": [
    "data[\"FAMI_EDUCACIONMADRE\"] = data.apply(lambda x : educacionToNumber(x[\"FAMI_EDUCACIONMADRE\"]),axis=1) "
   ]
  },
  {
   "cell_type": "code",
   "execution_count": 97,
   "metadata": {},
   "outputs": [],
   "source": [
    "data[\"FAMI_COMELECHEDERIVADOS\"] = data.apply(lambda x : foodToNumber(x[\"FAMI_COMELECHEDERIVADOS\"]),axis=1) "
   ]
  },
  {
   "cell_type": "code",
   "execution_count": 98,
   "metadata": {},
   "outputs": [],
   "source": [
    "data[\"FAMI_COMECARNEPESCADOHUEVO\"] = data.apply(lambda x : foodToNumber(x[\"FAMI_COMECARNEPESCADOHUEVO\"]),axis=1) "
   ]
  },
  {
   "cell_type": "code",
   "execution_count": 99,
   "metadata": {},
   "outputs": [],
   "source": [
    "data[\"FAMI_COMECEREALFRUTOSLEGUMBRE\"] = data.apply(lambda x : foodToNumber(x[\"FAMI_COMECEREALFRUTOSLEGUMBRE\"]),axis=1) "
   ]
  },
  {
   "cell_type": "code",
   "execution_count": 100,
   "metadata": {},
   "outputs": [],
   "source": [
    "data[\"ESTU_DEDICACIONLECTURADIARIA\"] = data.apply(lambda x : lectureToNumber(x[\"ESTU_DEDICACIONLECTURADIARIA\"]),axis=1) "
   ]
  },
  {
   "cell_type": "code",
   "execution_count": 101,
   "metadata": {},
   "outputs": [],
   "source": [
    "data[\"ESTU_DEDICACIONINTERNET\"] = data.apply(lambda x : internetToNumber(x[\"ESTU_DEDICACIONINTERNET\"]),axis=1) "
   ]
  },
  {
   "cell_type": "code",
   "execution_count": 102,
   "metadata": {},
   "outputs": [],
   "source": [
    "data[\"ELECTRODOMESTICOS\"] = data.apply(lambda x : electrodometicToNumber(x[\"ELECTRODOMESTICOS\"]),axis=1) "
   ]
  },
  {
   "cell_type": "code",
   "execution_count": 103,
   "metadata": {},
   "outputs": [],
   "source": [
    "data[\"ESTU_GENERO\"] = data.apply(lambda x : generoToNumber(x[\"ESTU_GENERO\"]),axis=1) "
   ]
  },
  {
   "cell_type": "code",
   "execution_count": 104,
   "metadata": {},
   "outputs": [],
   "source": [
    "data[\"ESTU_NSE_INDIVIDUAL\"] = data.apply(lambda x : nseIndividualToNumber(x[\"ESTU_NSE_INDIVIDUAL\"]),axis=1) "
   ]
  },
  {
   "cell_type": "code",
   "execution_count": 105,
   "metadata": {},
   "outputs": [],
   "source": [
    "data[\"COLE_JORNADA\"] = data.apply(lambda x : jornadaToNumber(x[\"COLE_JORNADA\"]),axis=1) "
   ]
  },
  {
   "cell_type": "code",
   "execution_count": 106,
   "metadata": {},
   "outputs": [],
   "source": [
    "data[\"COLE_AREA_UBICACION\"] = data.apply(lambda x : areaToNumber(x[\"COLE_AREA_UBICACION\"]),axis=1) "
   ]
  },
  {
   "cell_type": "code",
   "execution_count": 107,
   "metadata": {},
   "outputs": [],
   "source": [
    "data[\"FAMI_CUARTOSHOGAR\"] = data.apply(lambda x : cuartosToNumber(x[\"FAMI_CUARTOSHOGAR\"]),axis=1) "
   ]
  },
  {
   "cell_type": "code",
   "execution_count": 108,
   "metadata": {},
   "outputs": [],
   "source": [
    "data[\"FAMI_ESTRATOVIVIENDA\"] = data.apply(lambda x : estratoToNumber(x[\"FAMI_ESTRATOVIVIENDA\"]),axis=1) "
   ]
  },
  {
   "cell_type": "code",
   "execution_count": 109,
   "metadata": {},
   "outputs": [],
   "source": [
    "data[\"FAMI_PERSONASHOGAR\"] = data.apply(lambda x : personasHogarToNumber(x[\"FAMI_PERSONASHOGAR\"]),axis=1) "
   ]
  },
  {
   "cell_type": "code",
   "execution_count": 110,
   "metadata": {},
   "outputs": [],
   "source": [
    "data[\"FAMI_NUMLIBROS\"] = data.apply(lambda x : numLibrosToNumber(x[\"FAMI_NUMLIBROS\"]),axis=1) "
   ]
  },
  {
   "cell_type": "code",
   "execution_count": 111,
   "metadata": {},
   "outputs": [],
   "source": [
    "data[\"COLE_CARACTER\"] = data.apply(lambda x : coleCaracterToNumber(x[\"COLE_CARACTER\"]),axis=1) "
   ]
  },
  {
   "cell_type": "code",
   "execution_count": 112,
   "metadata": {},
   "outputs": [],
   "source": [
    "data[\"COLE_NATURALEZA\"] = data.apply(lambda x : coleNaturaleza(x[\"COLE_NATURALEZA\"]),axis=1) "
   ]
  },
  {
   "cell_type": "code",
   "execution_count": 122,
   "metadata": {},
   "outputs": [],
   "source": [
    "data[\"ESTU_DEPTO_RESIDE\"] = data.apply(lambda x : departamentoToNumber(x[\"ESTU_DEPTO_RESIDE\"]),axis=1) "
   ]
  },
  {
   "cell_type": "code",
   "execution_count": 123,
   "metadata": {},
   "outputs": [
    {
     "data": {
      "text/plain": [
       "ESTU_DEPTO_RESIDE\n",
       "0          2\n",
       "1       1578\n",
       "2     133802\n",
       "3       5579\n",
       "4      59384\n",
       "5     167488\n",
       "6      47438\n",
       "7      31274\n",
       "8      19079\n",
       "9       7755\n",
       "10     10470\n",
       "11     25469\n",
       "12     24523\n",
       "13      8302\n",
       "14     37865\n",
       "15     65993\n",
       "16       430\n",
       "17      1747\n",
       "18     26509\n",
       "19     14566\n",
       "20     30267\n",
       "21     22108\n",
       "22     30759\n",
       "23     28547\n",
       "24      7921\n",
       "25     12540\n",
       "26     19399\n",
       "27      1169\n",
       "28     47905\n",
       "29     20353\n",
       "30     31342\n",
       "31     72257\n",
       "32       631\n",
       "33       868\n",
       "dtype: int64"
      ]
     },
     "execution_count": 123,
     "metadata": {},
     "output_type": "execute_result"
    }
   ],
   "source": [
    "data.groupby(\"ESTU_DEPTO_RESIDE\").size()"
   ]
  },
  {
   "cell_type": "code",
   "execution_count": 115,
   "metadata": {},
   "outputs": [
    {
     "data": {
      "text/plain": [
       "ESTU_DEPTO_RESIDE\n",
       "AMAZONAS             1578\n",
       "ANTIOQUIA          133802\n",
       "ARAUCA               5579\n",
       "ATLANTICO           59384\n",
       "BOGOTA             167488\n",
       "BOLIVAR             47438\n",
       "BOYACA              31274\n",
       "CALDAS              19079\n",
       "CAQUETA              7755\n",
       "CASANARE            10470\n",
       "CAUCA               25469\n",
       "CESAR               24523\n",
       "CHOCO                8302\n",
       "CORDOBA             37865\n",
       "CUNDINAMARCA        65993\n",
       "EXTRANJERO              2\n",
       "GUAINIA               430\n",
       "GUAVIARE             1747\n",
       "HUILA               26509\n",
       "LA GUAJIRA          14566\n",
       "MAGDALENA           30267\n",
       "META                22108\n",
       "NARIÑO              30759\n",
       "NORTE SANTANDER     28547\n",
       "PUTUMAYO             7921\n",
       "QUINDIO             12540\n",
       "RISARALDA           19399\n",
       "SAN ANDRES           1169\n",
       "SANTANDER           47905\n",
       "SUCRE               20353\n",
       "TOLIMA              31342\n",
       "VALLE               72257\n",
       "VAUPES                631\n",
       "VICHADA               868\n",
       "dtype: int64"
      ]
     },
     "execution_count": 115,
     "metadata": {},
     "output_type": "execute_result"
    }
   ],
   "source": [
    "data.groupby(\"ESTU_DEPTO_RESIDE\").size()"
   ]
  },
  {
   "cell_type": "code",
   "execution_count": 120,
   "metadata": {},
   "outputs": [],
   "source": [
    "#dropData.to_csv('kModesData.csv',header=True,index=False)"
   ]
  },
  {
   "cell_type": "code",
   "execution_count": 136,
   "metadata": {},
   "outputs": [
    {
     "data": {
      "text/plain": [
       "ELECTRODOMESTICOS                                                       10010\n",
       "ESTU_GENERO                                                                 M\n",
       "ESTU_FECHANACIMIENTO                                                       16\n",
       "PERIODO                                                                 20182\n",
       "ESTU_DEPTO_RESIDE                                                   ATLANTICO\n",
       "FAMI_ESTRATOVIVIENDA                                                Estrato 2\n",
       "FAMI_PERSONASHOGAR                                                      7 a 8\n",
       "FAMI_CUARTOSHOGAR                                                      Cuatro\n",
       "FAMI_EDUCACIONPADRE                                                   No sabe\n",
       "FAMI_EDUCACIONMADRE                                                   No sabe\n",
       "FAMI_TRABAJOLABORPADRE           Es vendedor o trabaja en atención al público\n",
       "FAMI_TRABAJOLABORMADRE           Es vendedor o trabaja en atención al público\n",
       "FAMI_NUMLIBROS                                                26 A 100 LIBROS\n",
       "FAMI_COMELECHEDERIVADOS                           Todos o casi todos los días\n",
       "FAMI_COMECARNEPESCADOHUEVO                        Todos o casi todos los días\n",
       "FAMI_COMECEREALFRUTOSLEGUMBRE                          1 o 2 veces por semana\n",
       "ESTU_DEDICACIONLECTURADIARIA                               30 minutos o menos\n",
       "ESTU_DEDICACIONINTERNET                                        Más de 3 horas\n",
       "COLE_NATURALEZA                                                       OFICIAL\n",
       "COLE_CARACTER                                                       ACADÉMICO\n",
       "COLE_AREA_UBICACION                                                    URBANO\n",
       "COLE_JORNADA                                                           MAÑANA\n",
       "PUNT_LECTURA_CRITICA                                                       63\n",
       "PUNT_MATEMATICAS                                                           69\n",
       "PUNT_C_NATURALES                                                           54\n",
       "PUNT_SOCIALES_CIUDADANAS                                                   57\n",
       "PUNT_INGLES                                                                65\n",
       "PUNT_GLOBAL                                                               305\n",
       "ESTU_NSE_ESTABLECIMIENTO                                                    2\n",
       "ESTU_INSE_INDIVIDUAL                                                       53\n",
       "ESTU_NSE_INDIVIDUAL                                                      NSE3\n",
       "Name: 0, dtype: object"
      ]
     },
     "execution_count": 136,
     "metadata": {},
     "output_type": "execute_result"
    }
   ],
   "source": [
    "data.iloc[0]"
   ]
  },
  {
   "cell_type": "code",
   "execution_count": 124,
   "metadata": {},
   "outputs": [],
   "source": [
    "data.to_csv('kModesData.csv',header=True,index=False)"
   ]
  },
  {
   "cell_type": "code",
   "execution_count": 137,
   "metadata": {},
   "outputs": [],
   "source": [
    "#data.to_csv('fpGrowthData.csv',header=True,index=False)"
   ]
  },
  {
   "cell_type": "code",
   "execution_count": 145,
   "metadata": {},
   "outputs": [
    {
     "name": "stdout",
     "output_type": "stream",
     "text": [
      "ELECTRODOMESTICOS 20 20\n",
      "ESTU_GENERO 2 40\n",
      "ESTU_FECHANACIMIENTO 9 360\n",
      "PERIODO 2 720\n",
      "ESTU_DEPTO_RESIDE 34 24480\n",
      "FAMI_ESTRATOVIVIENDA 7 171360\n",
      "FAMI_PERSONASHOGAR 5 856800\n",
      "FAMI_CUARTOSHOGAR 6 5140800\n",
      "FAMI_EDUCACIONPADRE 12 61689600\n",
      "FAMI_EDUCACIONMADRE 12 740275200\n",
      "FAMI_TRABAJOLABORPADRE 13 9623577600\n",
      "FAMI_TRABAJOLABORMADRE 13 125106508800\n",
      "FAMI_NUMLIBROS 4 500426035200\n",
      "FAMI_COMELECHEDERIVADOS 4 2001704140800\n",
      "FAMI_COMECARNEPESCADOHUEVO 4 8006816563200\n",
      "FAMI_COMECEREALFRUTOSLEGUMBRE 4 32027266252800\n",
      "ESTU_DEDICACIONLECTURADIARIA 5 160136331264000\n",
      "ESTU_DEDICACIONINTERNET 5 800681656320000\n",
      "COLE_NATURALEZA 2 1601363312640000\n",
      "COLE_CARACTER 4 6405453250560000\n",
      "COLE_AREA_UBICACION 2 12810906501120000\n",
      "COLE_JORNADA 6 76865439006720000\n",
      "PUNT_LECTURA_CRITICA 65 4996253535436800000\n",
      "PUNT_MATEMATICAS 75 374719015157760000000\n",
      "PUNT_C_NATURALES 61 22857859924623360000000\n",
      "PUNT_SOCIALES_CIUDADANAS 70 1600050194723635200000000\n",
      "PUNT_INGLES 70 112003513630654464000000000\n",
      "PUNT_GLOBAL 379 42449331666018041856000000000\n",
      "ESTU_NSE_ESTABLECIMIENTO 4 169797326664072167424000000000\n",
      "ESTU_INSE_INDIVIDUAL 73 12395204846477268221952000000000\n",
      "ESTU_NSE_INDIVIDUAL 4 49580819385909072887808000000000\n"
     ]
    }
   ],
   "source": [
    "count = 0\n",
    "flag = False\n",
    "for columnName in data.columns:\n",
    "    if(not flag):\n",
    "        count = len(data.groupby(columnName).size())\n",
    "        flag = True\n",
    "    else:\n",
    "        count*= len(data.groupby(columnName).size())\n",
    "        \n",
    "    print(columnName,len(data.groupby(columnName).size()),count)"
   ]
  },
  {
   "cell_type": "code",
   "execution_count": null,
   "metadata": {},
   "outputs": [],
   "source": []
  }
 ],
 "metadata": {
  "kernelspec": {
   "display_name": "Python 3",
   "language": "python",
   "name": "python3"
  },
  "language_info": {
   "codemirror_mode": {
    "name": "ipython",
    "version": 3
   },
   "file_extension": ".py",
   "mimetype": "text/x-python",
   "name": "python",
   "nbconvert_exporter": "python",
   "pygments_lexer": "ipython3",
   "version": "3.7.3"
  }
 },
 "nbformat": 4,
 "nbformat_minor": 2
}
