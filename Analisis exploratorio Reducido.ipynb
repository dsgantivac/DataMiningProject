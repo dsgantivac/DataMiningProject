{
 "cells": [
  {
   "cell_type": "markdown",
   "metadata": {},
   "source": [
    "# Análisis  de los datos reducidos"
   ]
  },
  {
   "cell_type": "code",
   "execution_count": 1,
   "metadata": {},
   "outputs": [],
   "source": [
    "import pandas as pd\n",
    "import matplotlib.pyplot as plt \n",
    "import math\n",
    "from collections import Counter\n",
    "from random import random\n",
    "path = \"./Datasets/Saber_reducido.csv\""
   ]
  },
  {
   "cell_type": "code",
   "execution_count": 124,
   "metadata": {},
   "outputs": [],
   "source": [
    "def pertenece(a, b):\n",
    "    for i in range(1,len(b)):\n",
    "        if a>= b[i-1] and a<= b[i]:\n",
    "            return i-1\n",
    "\n",
    "def reemplazoGeneralizado(data):\n",
    "    columns = [\"ELECTRODOMESTICOS\",\"ESTU_GENERO\", \"ESTU_FECHANACIMIENTO\", \"PERIODO\", \"ESTU_DEPTO_RESIDE\", \"FAMI_ESTRATOVIVIENDA\", \"FAMI_PERSONASHOGAR\", \"FAMI_CUARTOSHOGAR\", \"FAMI_EDUCACIONPADRE\", \"FAMI_EDUCACIONMADRE\", \"FAMI_TRABAJOLABORPADRE\", \"FAMI_TRABAJOLABORMADRE\", \"FAMI_NUMLIBROS\", \"FAMI_COMELECHEDERIVADOS\", \"FAMI_COMECARNEPESCADOHUEVO\", \"FAMI_COMECEREALFRUTOSLEGUMBRE\", \"ESTU_DEDICACIONLECTURADIARIA\", \"ESTU_DEDICACIONINTERNET\", \"COLE_NATURALEZA\", \"COLE_CARACTER\", \"COLE_AREA_UBICACION\", \"COLE_JORNADA\",\"ESTU_NSE_INDIVIDUAL\"]\n",
    "    for c in columns:\n",
    "        aux4 =0\n",
    "        reemplazables = []\n",
    "        if '-' in data.groupby(c).count().index:\n",
    "            reemplazables.append(data.groupby(c).get_group('-').index.values)\n",
    "        opciones = []\n",
    "        porcentajes = [0]\n",
    "        opciones.append(list(data.groupby(c).size().axes[0]))\n",
    "        aux = len(opciones[0])\n",
    "        if '-' in opciones[0]:\n",
    "            opciones[0].remove('-')\n",
    "            aux = aux-1\n",
    "            aux2 = (data.groupby(c).size()['-']/data.shape[0])/aux\n",
    "        else:\n",
    "            continue\n",
    "        for i in range(aux):\n",
    "            aux3 = porcentajes.pop()\n",
    "            porcentajes.append(aux3)\n",
    "            a= float(data.groupby(c).size()[opciones[0][i]]/data.shape[0])+aux2+aux3\n",
    "            porcentajes.append(a)\n",
    "        if len(reemplazables) > 0:   \n",
    "            for r in reemplazables[0]:\n",
    "                randNumber = random()\n",
    "                for j in range(len(opciones[0])):\n",
    "                    lugar = pertenece(randNumber, porcentajes)\n",
    "                    data.at[r, c] = opciones[0][lugar]\n",
    "\n",
    "def puntajeGlobalCategorico(x):\n",
    "    x=int(x)\n",
    "    if x<=50:\n",
    "        return 1\n",
    "    elif x<=100:\n",
    "        return 2\n",
    "    elif x<=150:\n",
    "        return 3\n",
    "    elif x<=200:\n",
    "        return 4\n",
    "    elif x<=250:\n",
    "        return 5\n",
    "    elif x<=300:\n",
    "        return 6\n",
    "    elif x<=350:\n",
    "        return 7\n",
    "    elif x<=400:\n",
    "        return 8\n",
    "    elif x<=450:\n",
    "        return 9\n",
    "    else:\n",
    "        return 10\n",
    "\n",
    "\n",
    "def inseIndividualCategorico(x):\n",
    "    x=int(x)\n",
    "    if x<=5:\n",
    "        return 1\n",
    "    elif x<=10:\n",
    "        return 2\n",
    "    elif x<=15:\n",
    "        return 3\n",
    "    elif x<=20:\n",
    "        return 4\n",
    "    elif x<=25:\n",
    "        return 5\n",
    "    elif x<=30:\n",
    "        return 6\n",
    "    elif x<=35:\n",
    "        return 7\n",
    "    elif x<=40:\n",
    "        return 8\n",
    "    elif x<=45:\n",
    "        return 9\n",
    "    elif x<=50:\n",
    "        return 10\n",
    "    elif x<=55:\n",
    "        return 11\n",
    "    elif x<=60:\n",
    "        return 12\n",
    "    elif x<=65:\n",
    "        return 13\n",
    "    elif x<=70:\n",
    "        return 14\n",
    "    elif x<=75:\n",
    "        return 15\n",
    "    elif x<=80:\n",
    "        return 16\n",
    "    elif x<=85:\n",
    "        return 17\n",
    "    elif x<=90:\n",
    "        return 18\n",
    "    elif x<=95:\n",
    "        return 19\n",
    "    else:\n",
    "        return 20\n",
    "\n",
    "    \n",
    "def puntajeCategorico(x):\n",
    "    x=int(x)\n",
    "    if x<=10:\n",
    "        return 1\n",
    "    elif x<=20:\n",
    "        return 2\n",
    "    elif x<=30:\n",
    "        return 3\n",
    "    elif x<=40:\n",
    "        return 4\n",
    "    elif x<=50:\n",
    "        return 5\n",
    "    elif x<=60:\n",
    "        return 6\n",
    "    elif x<=70:\n",
    "        return 7\n",
    "    elif x<=80:\n",
    "        return 8\n",
    "    elif x<=90:\n",
    "        return 9\n",
    "    else:\n",
    "        return 10\n",
    "    \n"
   ]
  },
  {
   "cell_type": "code",
   "execution_count": 3,
   "metadata": {},
   "outputs": [],
   "source": [
    "Keys = [\"ELECTRODOMESTICOS\",\"ESTU_GENERO\", \"ESTU_FECHANACIMIENTO\", \"PERIODO\", \"ESTU_DEPTO_RESIDE\", \"FAMI_ESTRATOVIVIENDA\", \"FAMI_PERSONASHOGAR\", \"FAMI_CUARTOSHOGAR\", \"FAMI_EDUCACIONPADRE\", \"FAMI_EDUCACIONMADRE\", \"FAMI_TRABAJOLABORPADRE\", \"FAMI_TRABAJOLABORMADRE\", \"FAMI_NUMLIBROS\", \"FAMI_COMELECHEDERIVADOS\", \"FAMI_COMECARNEPESCADOHUEVO\", \"FAMI_COMECEREALFRUTOSLEGUMBRE\", \"ESTU_DEDICACIONLECTURADIARIA\", \"ESTU_DEDICACIONINTERNET\", \"COLE_NATURALEZA\", \"COLE_CARACTER\", \"COLE_AREA_UBICACION\", \"COLE_JORNADA\", \"PUNT_LECTURA_CRITICA\", \"PUNT_MATEMATICAS\", \"PUNT_C_NATURALES\", \"PUNT_SOCIALES_CIUDADANAS\", \"PUNT_INGLES\", \"PUNT_GLOBAL\", \"ESTU_NSE_ESTABLECIMIENTO\", \"ESTU_INSE_INDIVIDUAL\", \"ESTU_NSE_INDIVIDUAL\"]"
   ]
  },
  {
   "cell_type": "code",
   "execution_count": 4,
   "metadata": {},
   "outputs": [
    {
     "name": "stdout",
     "output_type": "stream",
     "text": [
      "ELECTRODOMESTICOS\n",
      "ESTU_DEDICACIONLECTURADIARIA\n",
      "COLE_NATURALEZA\n"
     ]
    }
   ],
   "source": [
    "tmp = [\"ESTU_GENERO\",\"ESTU_FECHANACIMIENTO\",\"PERIODO\",\"ESTU_DEPTO_RESIDE\",\"FAMI_ESTRATOVIVIENDA\",\"FAMI_PERSONASHOGAR\",\"FAMI_CUARTOSHOGAR\",\"FAMI_EDUCACIONPADRE\",\"FAMI_EDUCACIONMADRE\",\"FAMI_TRABAJOLABORPADRE\",\"FAMI_TRABAJOLABORMADRE\",\"FAMI_TIENESERVICIOTV\",\"FAMI_TIENECOMPUTADOR\",\"FAMI_TIENEAUTOMOVIL\",\"FAMI_TIENEMOTOCICLETA\",\"FAMI_TIENECONSOLAVIDEOJUEGOS\",\"FAMI_NUMLIBROS\",\"FAMI_COMELECHEDERIVADOS\",\"FAMI_COMECARNEPESCADOHUEVO\",\"FAMI_COMECEREALFRUTOSLEGUMBRE\",\"FAMI_SITUACIONECONOMICA\",\"ESTU_DEDICACIONLECTURADIARIA \",\"ESTU_DEDICACIONINTERNET\",\"COLE_NOMBRE_ESTABLECIMIENTO\",\"COLE_NATURALEZA COLE_BILINGUE\",\"COLE_CARACTER\",\"COLE_AREA_UBICACION\",\"COLE_JORNADA\",\"PUNT_LECTURA_CRITICA\",\"PERCENTIL_LECTURA_CRITICA\",\"PUNT_MATEMATICAS\",\"PERCENTIL_MATEMATICAS\",\"PUNT_C_NATURALES\",\"PERCENTIL_C_NATURALES\",\"PUNT_SOCIALES_CIUDADANAS\",\"PERCENTIL_SOCIALES_CIUDADANAS\",\"PUNT_INGLES\",\"PERCENTIL_INGLES\",\"PUNT_GLOBAL\",\"PERCENTIL_GLOBAL\",\"ESTU_NSE_ESTABLECIMIENTO\",\"ESTU_INSE_INDIVIDUAL\",\"ESTU_NSE_INDIVIDUAL\",\n",
    "]\n",
    "\n",
    "for element in Keys:\n",
    "    if element not in tmp:\n",
    "        print(element)\n"
   ]
  },
  {
   "cell_type": "code",
   "execution_count": 5,
   "metadata": {},
   "outputs": [],
   "source": [
    "data = pd.read_csv(path, low_memory=False)"
   ]
  },
  {
   "cell_type": "code",
   "execution_count": 6,
   "metadata": {},
   "outputs": [],
   "source": [
    "reemplazoGeneralizado(data)"
   ]
  },
  {
   "cell_type": "markdown",
   "metadata": {},
   "source": [
    "## Discretizacion ESTU_INSE_INDIVIDUAL"
   ]
  },
  {
   "cell_type": "code",
   "execution_count": 7,
   "metadata": {},
   "outputs": [],
   "source": [
    "# to integer\n",
    "data['ESTU_INSE_INDIVIDUAL'] = data.apply(lambda x: round(x['ESTU_INSE_INDIVIDUAL'], 0),axis=1)"
   ]
  },
  {
   "cell_type": "code",
   "execution_count": 8,
   "metadata": {},
   "outputs": [
    {
     "data": {
      "text/html": [
       "<div>\n",
       "<style scoped>\n",
       "    .dataframe tbody tr th:only-of-type {\n",
       "        vertical-align: middle;\n",
       "    }\n",
       "\n",
       "    .dataframe tbody tr th {\n",
       "        vertical-align: top;\n",
       "    }\n",
       "\n",
       "    .dataframe thead th {\n",
       "        text-align: right;\n",
       "    }\n",
       "</style>\n",
       "<table border=\"1\" class=\"dataframe\">\n",
       "  <thead>\n",
       "    <tr style=\"text-align: right;\">\n",
       "      <th></th>\n",
       "      <th>ELECTRODOMESTICOS</th>\n",
       "      <th>ESTU_GENERO</th>\n",
       "      <th>ESTU_FECHANACIMIENTO</th>\n",
       "      <th>PERIODO</th>\n",
       "      <th>ESTU_DEPTO_RESIDE</th>\n",
       "      <th>FAMI_ESTRATOVIVIENDA</th>\n",
       "      <th>FAMI_PERSONASHOGAR</th>\n",
       "      <th>FAMI_CUARTOSHOGAR</th>\n",
       "      <th>FAMI_EDUCACIONPADRE</th>\n",
       "      <th>FAMI_EDUCACIONMADRE</th>\n",
       "      <th>...</th>\n",
       "      <th>COLE_JORNADA</th>\n",
       "      <th>PUNT_LECTURA_CRITICA</th>\n",
       "      <th>PUNT_MATEMATICAS</th>\n",
       "      <th>PUNT_C_NATURALES</th>\n",
       "      <th>PUNT_SOCIALES_CIUDADANAS</th>\n",
       "      <th>PUNT_INGLES</th>\n",
       "      <th>PUNT_GLOBAL</th>\n",
       "      <th>ESTU_NSE_ESTABLECIMIENTO</th>\n",
       "      <th>ESTU_INSE_INDIVIDUAL</th>\n",
       "      <th>ESTU_NSE_INDIVIDUAL</th>\n",
       "    </tr>\n",
       "  </thead>\n",
       "  <tbody>\n",
       "    <tr>\n",
       "      <th>0</th>\n",
       "      <td>10010</td>\n",
       "      <td>M</td>\n",
       "      <td>16</td>\n",
       "      <td>20182</td>\n",
       "      <td>ATLANTICO</td>\n",
       "      <td>Estrato 2</td>\n",
       "      <td>7 a 8</td>\n",
       "      <td>Cuatro</td>\n",
       "      <td>No sabe</td>\n",
       "      <td>No sabe</td>\n",
       "      <td>...</td>\n",
       "      <td>MAÑANA</td>\n",
       "      <td>63</td>\n",
       "      <td>69</td>\n",
       "      <td>54</td>\n",
       "      <td>57</td>\n",
       "      <td>65.0</td>\n",
       "      <td>305</td>\n",
       "      <td>2.0</td>\n",
       "      <td>53.0</td>\n",
       "      <td>NSE3</td>\n",
       "    </tr>\n",
       "    <tr>\n",
       "      <th>1</th>\n",
       "      <td>10010</td>\n",
       "      <td>M</td>\n",
       "      <td>17</td>\n",
       "      <td>20182</td>\n",
       "      <td>CORDOBA</td>\n",
       "      <td>Estrato 1</td>\n",
       "      <td>5 a 6</td>\n",
       "      <td>Dos</td>\n",
       "      <td>Secundaria (Bachillerato) completa</td>\n",
       "      <td>Primaria completa</td>\n",
       "      <td>...</td>\n",
       "      <td>UNICA</td>\n",
       "      <td>54</td>\n",
       "      <td>50</td>\n",
       "      <td>50</td>\n",
       "      <td>40</td>\n",
       "      <td>48.0</td>\n",
       "      <td>242</td>\n",
       "      <td>2.0</td>\n",
       "      <td>45.0</td>\n",
       "      <td>NSE2</td>\n",
       "    </tr>\n",
       "    <tr>\n",
       "      <th>2</th>\n",
       "      <td>0</td>\n",
       "      <td>M</td>\n",
       "      <td>16</td>\n",
       "      <td>20182</td>\n",
       "      <td>VALLE</td>\n",
       "      <td>Estrato 2</td>\n",
       "      <td>1 a 2</td>\n",
       "      <td>Dos</td>\n",
       "      <td>No sabe</td>\n",
       "      <td>Técnica o tecnológica incompleta</td>\n",
       "      <td>...</td>\n",
       "      <td>MAÑANA</td>\n",
       "      <td>59</td>\n",
       "      <td>43</td>\n",
       "      <td>46</td>\n",
       "      <td>45</td>\n",
       "      <td>47.0</td>\n",
       "      <td>241</td>\n",
       "      <td>2.0</td>\n",
       "      <td>45.0</td>\n",
       "      <td>NSE2</td>\n",
       "    </tr>\n",
       "    <tr>\n",
       "      <th>3</th>\n",
       "      <td>11101</td>\n",
       "      <td>M</td>\n",
       "      <td>17</td>\n",
       "      <td>20182</td>\n",
       "      <td>BOYACA</td>\n",
       "      <td>Estrato 3</td>\n",
       "      <td>3 a 4</td>\n",
       "      <td>Tres</td>\n",
       "      <td>No sabe</td>\n",
       "      <td>Educación profesional completa</td>\n",
       "      <td>...</td>\n",
       "      <td>MAÑANA</td>\n",
       "      <td>61</td>\n",
       "      <td>60</td>\n",
       "      <td>60</td>\n",
       "      <td>67</td>\n",
       "      <td>63.0</td>\n",
       "      <td>310</td>\n",
       "      <td>3.0</td>\n",
       "      <td>74.0</td>\n",
       "      <td>NSE4</td>\n",
       "    </tr>\n",
       "    <tr>\n",
       "      <th>4</th>\n",
       "      <td>10000</td>\n",
       "      <td>M</td>\n",
       "      <td>19</td>\n",
       "      <td>20182</td>\n",
       "      <td>BOGOTA</td>\n",
       "      <td>Estrato 2</td>\n",
       "      <td>7 a 8</td>\n",
       "      <td>Tres</td>\n",
       "      <td>No sabe</td>\n",
       "      <td>No sabe</td>\n",
       "      <td>...</td>\n",
       "      <td>COMPLETA</td>\n",
       "      <td>56</td>\n",
       "      <td>51</td>\n",
       "      <td>48</td>\n",
       "      <td>49</td>\n",
       "      <td>56.0</td>\n",
       "      <td>257</td>\n",
       "      <td>3.0</td>\n",
       "      <td>49.0</td>\n",
       "      <td>NSE2</td>\n",
       "    </tr>\n",
       "  </tbody>\n",
       "</table>\n",
       "<p>5 rows × 31 columns</p>\n",
       "</div>"
      ],
      "text/plain": [
       "   ELECTRODOMESTICOS ESTU_GENERO  ESTU_FECHANACIMIENTO  PERIODO  \\\n",
       "0              10010           M                    16    20182   \n",
       "1              10010           M                    17    20182   \n",
       "2                  0           M                    16    20182   \n",
       "3              11101           M                    17    20182   \n",
       "4              10000           M                    19    20182   \n",
       "\n",
       "  ESTU_DEPTO_RESIDE FAMI_ESTRATOVIVIENDA FAMI_PERSONASHOGAR FAMI_CUARTOSHOGAR  \\\n",
       "0         ATLANTICO            Estrato 2              7 a 8            Cuatro   \n",
       "1           CORDOBA            Estrato 1              5 a 6               Dos   \n",
       "2             VALLE            Estrato 2              1 a 2               Dos   \n",
       "3            BOYACA            Estrato 3              3 a 4              Tres   \n",
       "4            BOGOTA            Estrato 2              7 a 8              Tres   \n",
       "\n",
       "                  FAMI_EDUCACIONPADRE               FAMI_EDUCACIONMADRE  ...  \\\n",
       "0                             No sabe                           No sabe  ...   \n",
       "1  Secundaria (Bachillerato) completa                 Primaria completa  ...   \n",
       "2                             No sabe  Técnica o tecnológica incompleta  ...   \n",
       "3                             No sabe    Educación profesional completa  ...   \n",
       "4                             No sabe                           No sabe  ...   \n",
       "\n",
       "  COLE_JORNADA PUNT_LECTURA_CRITICA PUNT_MATEMATICAS PUNT_C_NATURALES  \\\n",
       "0       MAÑANA                   63               69               54   \n",
       "1        UNICA                   54               50               50   \n",
       "2       MAÑANA                   59               43               46   \n",
       "3       MAÑANA                   61               60               60   \n",
       "4     COMPLETA                   56               51               48   \n",
       "\n",
       "  PUNT_SOCIALES_CIUDADANAS PUNT_INGLES PUNT_GLOBAL ESTU_NSE_ESTABLECIMIENTO  \\\n",
       "0                       57        65.0         305                      2.0   \n",
       "1                       40        48.0         242                      2.0   \n",
       "2                       45        47.0         241                      2.0   \n",
       "3                       67        63.0         310                      3.0   \n",
       "4                       49        56.0         257                      3.0   \n",
       "\n",
       "  ESTU_INSE_INDIVIDUAL ESTU_NSE_INDIVIDUAL  \n",
       "0                 53.0                NSE3  \n",
       "1                 45.0                NSE2  \n",
       "2                 45.0                NSE2  \n",
       "3                 74.0                NSE4  \n",
       "4                 49.0                NSE2  \n",
       "\n",
       "[5 rows x 31 columns]"
      ]
     },
     "execution_count": 8,
     "metadata": {},
     "output_type": "execute_result"
    }
   ],
   "source": [
    "data.head()"
   ]
  },
  {
   "cell_type": "code",
   "execution_count": 9,
   "metadata": {
    "scrolled": false
   },
   "outputs": [
    {
     "data": {
      "text/plain": [
       "ELECTRODOMESTICOS                                                       10010\n",
       "ESTU_GENERO                                                                 M\n",
       "ESTU_FECHANACIMIENTO                                                       16\n",
       "PERIODO                                                                 20182\n",
       "ESTU_DEPTO_RESIDE                                                   ATLANTICO\n",
       "FAMI_ESTRATOVIVIENDA                                                Estrato 2\n",
       "FAMI_PERSONASHOGAR                                                      7 a 8\n",
       "FAMI_CUARTOSHOGAR                                                      Cuatro\n",
       "FAMI_EDUCACIONPADRE                                                   No sabe\n",
       "FAMI_EDUCACIONMADRE                                                   No sabe\n",
       "FAMI_TRABAJOLABORPADRE           Es vendedor o trabaja en atención al público\n",
       "FAMI_TRABAJOLABORMADRE           Es vendedor o trabaja en atención al público\n",
       "FAMI_NUMLIBROS                                                26 A 100 LIBROS\n",
       "FAMI_COMELECHEDERIVADOS                           Todos o casi todos los días\n",
       "FAMI_COMECARNEPESCADOHUEVO                        Todos o casi todos los días\n",
       "FAMI_COMECEREALFRUTOSLEGUMBRE                          1 o 2 veces por semana\n",
       "ESTU_DEDICACIONLECTURADIARIA                               30 minutos o menos\n",
       "ESTU_DEDICACIONINTERNET                                        Más de 3 horas\n",
       "COLE_NATURALEZA                                                       OFICIAL\n",
       "COLE_CARACTER                                                       ACADÉMICO\n",
       "COLE_AREA_UBICACION                                                    URBANO\n",
       "COLE_JORNADA                                                           MAÑANA\n",
       "PUNT_LECTURA_CRITICA                                                       63\n",
       "PUNT_MATEMATICAS                                                           69\n",
       "PUNT_C_NATURALES                                                           54\n",
       "PUNT_SOCIALES_CIUDADANAS                                                   57\n",
       "PUNT_INGLES                                                                65\n",
       "PUNT_GLOBAL                                                               305\n",
       "ESTU_NSE_ESTABLECIMIENTO                                                    2\n",
       "ESTU_INSE_INDIVIDUAL                                                       53\n",
       "ESTU_NSE_INDIVIDUAL                                                      NSE3\n",
       "Name: 0, dtype: object"
      ]
     },
     "execution_count": 9,
     "metadata": {},
     "output_type": "execute_result"
    }
   ],
   "source": [
    "data.iloc[0]"
   ]
  },
  {
   "cell_type": "code",
   "execution_count": null,
   "metadata": {},
   "outputs": [],
   "source": []
  },
  {
   "cell_type": "code",
   "execution_count": 10,
   "metadata": {},
   "outputs": [
    {
     "data": {
      "text/plain": [
       "ESTU_NSE_INDIVIDUAL\n",
       "NSE1    164569\n",
       "NSE2    394557\n",
       "NSE3    374915\n",
       "NSE4     81278\n",
       "dtype: int64"
      ]
     },
     "execution_count": 10,
     "metadata": {},
     "output_type": "execute_result"
    }
   ],
   "source": [
    "data.groupby(\"ESTU_NSE_INDIVIDUAL\").size()  "
   ]
  },
  {
   "cell_type": "code",
   "execution_count": 11,
   "metadata": {},
   "outputs": [
    {
     "data": {
      "text/plain": [
       "pandas.core.series.Series"
      ]
     },
     "execution_count": 11,
     "metadata": {},
     "output_type": "execute_result"
    }
   ],
   "source": [
    "type(data.groupby(\"FAMI_NUMLIBROS\").size())"
   ]
  },
  {
   "cell_type": "code",
   "execution_count": 12,
   "metadata": {},
   "outputs": [],
   "source": [
    "#data.groupby(\"ESTU_GENERO\").get_group('-').index.values"
   ]
  },
  {
   "cell_type": "code",
   "execution_count": 13,
   "metadata": {},
   "outputs": [
    {
     "data": {
      "text/plain": [
       "FAMI_TRABAJOLABORMADRE\n",
       "Es agricultor, pesquero o jornalero                                                                      28745\n",
       "Es dueño de un negocio grande, tiene un cargo de nivel directivo o gerencial                             15173\n",
       "Es dueño de un negocio pequeño (tiene pocos empleados o no tiene, por ejemplo tienda, papelería, etc     87784\n",
       "Es operario de máquinas o conduce vehículos (taxita, chofer)                                             16769\n",
       "Es vendedor o trabaja en atención al público                                                             79081\n",
       "No aplica                                                                                                48274\n",
       "No sabe                                                                                                  25142\n",
       "Pensionado                                                                                                6694\n",
       "Tiene un trabajo de tipo auxiliar administrativo (por ejemplo, secretario o asistente)                   86673\n",
       "Trabaja como personal de limpieza, mantenimiento, seguridad o construcción                               88466\n",
       "Trabaja como profesional (por ejemplo médico, abogado, ingeniero)                                        78969\n",
       "Trabaja en el hogar, no trabaja o estudia                                                               422718\n",
       "Trabaja por cuenta propia (por ejemplo plomero, electricista)                                            30831\n",
       "dtype: int64"
      ]
     },
     "execution_count": 13,
     "metadata": {},
     "output_type": "execute_result"
    }
   ],
   "source": [
    "data.groupby(\"FAMI_TRABAJOLABORMADRE\").size() "
   ]
  },
  {
   "cell_type": "code",
   "execution_count": 14,
   "metadata": {},
   "outputs": [
    {
     "data": {
      "text/plain": [
       "FAMI_EDUCACIONMADRE\n",
       "Educación profesional completa          104923\n",
       "Educación profesional incompleta         24810\n",
       "Ninguno                                  21296\n",
       "No Aplica                                 1754\n",
       "No sabe                                  17664\n",
       "Postgrado                                21258\n",
       "Primaria completa                       112567\n",
       "Primaria incompleta                     158062\n",
       "Secundaria (Bachillerato) completa      261914\n",
       "Secundaria (Bachillerato) incompleta    157323\n",
       "Técnica o tecnológica completa          102548\n",
       "Técnica o tecnológica incompleta         31200\n",
       "dtype: int64"
      ]
     },
     "execution_count": 14,
     "metadata": {},
     "output_type": "execute_result"
    }
   ],
   "source": [
    "data.groupby(\"FAMI_EDUCACIONMADRE\").size()"
   ]
  },
  {
   "cell_type": "code",
   "execution_count": 15,
   "metadata": {},
   "outputs": [
    {
     "data": {
      "text/plain": [
       "FAMI_EDUCACIONPADRE\n",
       "Educación profesional completa           92586\n",
       "Educación profesional incompleta         20236\n",
       "Ninguno                                  34522\n",
       "No Aplica                                10218\n",
       "No sabe                                  62892\n",
       "Postgrado                                18717\n",
       "Primaria completa                       111362\n",
       "Primaria incompleta                     201124\n",
       "Secundaria (Bachillerato) completa      226042\n",
       "Secundaria (Bachillerato) incompleta    146782\n",
       "Técnica o tecnológica completa           69731\n",
       "Técnica o tecnológica incompleta         21107\n",
       "dtype: int64"
      ]
     },
     "execution_count": 15,
     "metadata": {},
     "output_type": "execute_result"
    }
   ],
   "source": [
    "data.groupby(\"FAMI_EDUCACIONPADRE\").size()"
   ]
  },
  {
   "cell_type": "code",
   "execution_count": 16,
   "metadata": {},
   "outputs": [
    {
     "data": {
      "text/plain": [
       "FAMI_CUARTOSHOGAR\n",
       "Cinco          40983\n",
       "Cuatro        134475\n",
       "Dos           365532\n",
       "Seis o mas     21869\n",
       "Tres          399597\n",
       "Uno            52863\n",
       "dtype: int64"
      ]
     },
     "execution_count": 16,
     "metadata": {},
     "output_type": "execute_result"
    }
   ],
   "source": [
    "data.groupby(\"FAMI_CUARTOSHOGAR\").size()"
   ]
  },
  {
   "cell_type": "code",
   "execution_count": 17,
   "metadata": {},
   "outputs": [
    {
     "data": {
      "text/plain": [
       "FAMI_PERSONASHOGAR\n",
       "1 a 2       73707\n",
       "3 a 4      485249\n",
       "5 a 6      332157\n",
       "7 a 8       88621\n",
       "9 o más     35585\n",
       "dtype: int64"
      ]
     },
     "execution_count": 17,
     "metadata": {},
     "output_type": "execute_result"
    }
   ],
   "source": [
    "data.groupby(\"FAMI_PERSONASHOGAR\").size()"
   ]
  },
  {
   "cell_type": "markdown",
   "metadata": {},
   "source": [
    "## Histogramas"
   ]
  },
  {
   "cell_type": "code",
   "execution_count": 18,
   "metadata": {},
   "outputs": [
    {
     "data": {
      "text/plain": [
       "COLE_JORNADA\n",
       "COMPLETA    184979\n",
       "MAÑANA      523472\n",
       "NOCHE        48127\n",
       "SABATINA     53347\n",
       "TARDE       132572\n",
       "UNICA        72822\n",
       "dtype: int64"
      ]
     },
     "execution_count": 18,
     "metadata": {},
     "output_type": "execute_result"
    }
   ],
   "source": [
    "data.groupby(\"COLE_JORNADA\").size()"
   ]
  },
  {
   "cell_type": "code",
   "execution_count": 19,
   "metadata": {},
   "outputs": [
    {
     "data": {
      "text/plain": [
       "FAMI_ESTRATOVIVIENDA\n",
       "Estrato 1      33.231132\n",
       "Estrato 2      36.629473\n",
       "Estrato 3      20.492180\n",
       "Estrato 4       4.705221\n",
       "Estrato 5       1.550843\n",
       "Estrato 6       0.745086\n",
       "Sin Estrato     2.646065\n",
       "dtype: float64"
      ]
     },
     "execution_count": 19,
     "metadata": {},
     "output_type": "execute_result"
    }
   ],
   "source": [
    "data.groupby(\"FAMI_ESTRATOVIVIENDA\").size()/data.shape[0] * 100"
   ]
  },
  {
   "cell_type": "code",
   "execution_count": 20,
   "metadata": {},
   "outputs": [
    {
     "data": {
      "text/plain": [
       "<matplotlib.axes._subplots.AxesSubplot at 0x2664fb3bb00>"
      ]
     },
     "execution_count": 20,
     "metadata": {},
     "output_type": "execute_result"
    },
    {
     "data": {
      "image/png": "[encoded data removed]",
      "text/plain": [
       "<Figure size 432x288 with 1 Axes>"
      ]
     },
     "metadata": {
      "needs_background": "light"
     },
     "output_type": "display_data"
    }
   ],
   "source": [
    "data['FAMI_ESTRATOVIVIENDA'].value_counts().plot(kind='bar')"
   ]
  },
  {
   "cell_type": "code",
   "execution_count": 21,
   "metadata": {},
   "outputs": [
    {
     "data": {
      "text/plain": [
       "ESTU_FECHANACIMIENTO\n",
       "14      1376\n",
       "15     37302\n",
       "16    373165\n",
       "17    336231\n",
       "18    167616\n",
       "19     63029\n",
       "20     21248\n",
       "21      9541\n",
       "22      5811\n",
       "dtype: int64"
      ]
     },
     "execution_count": 21,
     "metadata": {},
     "output_type": "execute_result"
    }
   ],
   "source": [
    "data.groupby(\"ESTU_FECHANACIMIENTO\").size()"
   ]
  },
  {
   "cell_type": "code",
   "execution_count": 22,
   "metadata": {},
   "outputs": [
    {
     "name": "stdout",
     "output_type": "stream",
     "text": [
      "<class 'matplotlib.axes._subplots.AxesSubplot'>\n"
     ]
    },
    {
     "data": {
      "image/png": "[encoded data removed]",
      "text/plain": [
       "<Figure size 432x288 with 1 Axes>"
      ]
     },
     "metadata": {
      "needs_background": "light"
     },
     "output_type": "display_data"
    }
   ],
   "source": [
    "hist = data[\"ESTU_FECHANACIMIENTO\"].hist()\n",
    "hist.set_xlabel(\"Edad\")\n",
    "print(type(hist))"
   ]
  },
  {
   "cell_type": "code",
   "execution_count": 23,
   "metadata": {},
   "outputs": [
    {
     "data": {
      "text/plain": [
       "<matplotlib.axes._subplots.AxesSubplot at 0x26600940278>"
      ]
     },
     "execution_count": 23,
     "metadata": {},
     "output_type": "execute_result"
    },
    {
     "data": {
      "image/png": "[encoded data removed]",
      "text/plain": [
       "<Figure size 432x288 with 1 Axes>"
      ]
     },
     "metadata": {
      "needs_background": "light"
     },
     "output_type": "display_data"
    }
   ],
   "source": [
    "data['ESTU_GENERO'].value_counts().plot(kind='bar')"
   ]
  },
  {
   "cell_type": "code",
   "execution_count": 24,
   "metadata": {},
   "outputs": [
    {
     "name": "stdout",
     "output_type": "stream",
     "text": [
      "min 13.0\n",
      "max 85.0\n"
     ]
    }
   ],
   "source": [
    "#data.groupby(\"ESTU_INSE_INDIVIDUAL\").size()\n",
    "print(\"min\",data[\"ESTU_INSE_INDIVIDUAL\"].min())\n",
    "print(\"max\",data[\"ESTU_INSE_INDIVIDUAL\"].max())\n"
   ]
  },
  {
   "cell_type": "code",
   "execution_count": 25,
   "metadata": {},
   "outputs": [
    {
     "data": {
      "text/plain": [
       "<matplotlib.axes._subplots.AxesSubplot at 0x26600945390>"
      ]
     },
     "execution_count": 25,
     "metadata": {},
     "output_type": "execute_result"
    },
    {
     "data": {
      "image/png": "[encoded data removed]",
      "text/plain": [
       "<Figure size 432x288 with 1 Axes>"
      ]
     },
     "metadata": {
      "needs_background": "light"
     },
     "output_type": "display_data"
    }
   ],
   "source": [
    "data['ESTU_INSE_INDIVIDUAL'].hist(bins = 100)"
   ]
  },
  {
   "cell_type": "code",
   "execution_count": 26,
   "metadata": {},
   "outputs": [
    {
     "data": {
      "text/plain": [
       "<matplotlib.axes._subplots.AxesSubplot at 0x26600aa3fd0>"
      ]
     },
     "execution_count": 26,
     "metadata": {},
     "output_type": "execute_result"
    },
    {
     "data": {
      "image/png": "[encoded data removed]",
      "text/plain": [
       "<Figure size 432x288 with 1 Axes>"
      ]
     },
     "metadata": {
      "needs_background": "light"
     },
     "output_type": "display_data"
    }
   ],
   "source": [
    "data[\"ESTU_NSE_INDIVIDUAL\"].value_counts().plot(kind ='bar')"
   ]
  },
  {
   "cell_type": "code",
   "execution_count": 27,
   "metadata": {},
   "outputs": [
    {
     "data": {
      "text/plain": [
       "ESTU_NSE_INDIVIDUAL\n",
       "NSE1    164569\n",
       "NSE2    394557\n",
       "NSE3    374915\n",
       "NSE4     81278\n",
       "dtype: int64"
      ]
     },
     "execution_count": 27,
     "metadata": {},
     "output_type": "execute_result"
    }
   ],
   "source": [
    "data.groupby(\"ESTU_NSE_INDIVIDUAL\").size()"
   ]
  },
  {
   "cell_type": "code",
   "execution_count": 28,
   "metadata": {},
   "outputs": [
    {
     "name": "stdout",
     "output_type": "stream",
     "text": [
      "72076\n",
      "545146\n",
      "351248\n",
      "45744\n"
     ]
    }
   ],
   "source": [
    "n = len(data.groupby(\"ESTU_NSE_ESTABLECIMIENTO\").size())\n",
    "for i in range(1,n+1):\n",
    "    print(data.groupby(\"ESTU_NSE_ESTABLECIMIENTO\").size()[i])"
   ]
  },
  {
   "cell_type": "code",
   "execution_count": 29,
   "metadata": {},
   "outputs": [
    {
     "data": {
      "text/plain": [
       "<matplotlib.axes._subplots.AxesSubplot at 0x26600b86cf8>"
      ]
     },
     "execution_count": 29,
     "metadata": {},
     "output_type": "execute_result"
    },
    {
     "data": {
      "image/png": "[encoded data removed]",
      "text/plain": [
       "<Figure size 432x288 with 1 Axes>"
      ]
     },
     "metadata": {
      "needs_background": "light"
     },
     "output_type": "display_data"
    }
   ],
   "source": [
    "data[\"PUNT_GLOBAL\"].hist(bins = 100)"
   ]
  },
  {
   "cell_type": "code",
   "execution_count": 30,
   "metadata": {},
   "outputs": [
    {
     "data": {
      "text/plain": [
       "<matplotlib.axes._subplots.AxesSubplot at 0x26600c9bd68>"
      ]
     },
     "execution_count": 30,
     "metadata": {},
     "output_type": "execute_result"
    },
    {
     "data": {
      "image/png": "[encoded data removed]",
      "text/plain": [
       "<Figure size 432x288 with 1 Axes>"
      ]
     },
     "metadata": {
      "needs_background": "light"
     },
     "output_type": "display_data"
    }
   ],
   "source": [
    "data[\"PUNT_INGLES\"].hist(bins = 100)"
   ]
  },
  {
   "cell_type": "code",
   "execution_count": 31,
   "metadata": {},
   "outputs": [
    {
     "data": {
      "text/plain": [
       "<matplotlib.axes._subplots.AxesSubplot at 0x26600e54da0>"
      ]
     },
     "execution_count": 31,
     "metadata": {},
     "output_type": "execute_result"
    },
    {
     "data": {
      "image/png": "[encoded data removed]",
      "text/plain": [
       "<Figure size 432x288 with 1 Axes>"
      ]
     },
     "metadata": {
      "needs_background": "light"
     },
     "output_type": "display_data"
    }
   ],
   "source": [
    "data[\"PUNT_SOCIALES_CIUDADANAS\"].hist(bins = 100)"
   ]
  },
  {
   "cell_type": "code",
   "execution_count": 32,
   "metadata": {},
   "outputs": [
    {
     "data": {
      "text/plain": [
       "<matplotlib.axes._subplots.AxesSubplot at 0x26600fc6208>"
      ]
     },
     "execution_count": 32,
     "metadata": {},
     "output_type": "execute_result"
    },
    {
     "data": {
      "image/png": "[encoded data removed]",
      "text/plain": [
       "<Figure size 432x288 with 1 Axes>"
      ]
     },
     "metadata": {
      "needs_background": "light"
     },
     "output_type": "display_data"
    }
   ],
   "source": [
    "data[\"PUNT_C_NATURALES\"].hist(bins = 100)"
   ]
  },
  {
   "cell_type": "code",
   "execution_count": 33,
   "metadata": {},
   "outputs": [
    {
     "data": {
      "text/plain": [
       "<matplotlib.axes._subplots.AxesSubplot at 0x26602141048>"
      ]
     },
     "execution_count": 33,
     "metadata": {},
     "output_type": "execute_result"
    },
    {
     "data": {
      "image/png": "[encoded data removed]",
      "text/plain": [
       "<Figure size 432x288 with 1 Axes>"
      ]
     },
     "metadata": {
      "needs_background": "light"
     },
     "output_type": "display_data"
    }
   ],
   "source": [
    "data[\"PERIODO\"].value_counts().plot(kind ='bar')"
   ]
  },
  {
   "cell_type": "code",
   "execution_count": 34,
   "metadata": {},
   "outputs": [
    {
     "data": {
      "text/plain": [
       "<matplotlib.axes._subplots.AxesSubplot at 0x2660216bac8>"
      ]
     },
     "execution_count": 34,
     "metadata": {},
     "output_type": "execute_result"
    },
    {
     "data": {
      "image/png": "[encoded data removed]",
      "text/plain": [
       "<Figure size 432x288 with 1 Axes>"
      ]
     },
     "metadata": {
      "needs_background": "light"
     },
     "output_type": "display_data"
    }
   ],
   "source": [
    "data[\"ESTU_DEPTO_RESIDE\"].value_counts().plot(kind ='bar')"
   ]
  },
  {
   "cell_type": "code",
   "execution_count": 35,
   "metadata": {},
   "outputs": [
    {
     "data": {
      "text/plain": [
       "<matplotlib.axes._subplots.AxesSubplot at 0x2660229a518>"
      ]
     },
     "execution_count": 35,
     "metadata": {},
     "output_type": "execute_result"
    },
    {
     "data": {
      "image/png": "[encoded data removed]",
      "text/plain": [
       "<Figure size 432x288 with 1 Axes>"
      ]
     },
     "metadata": {
      "needs_background": "light"
     },
     "output_type": "display_data"
    }
   ],
   "source": [
    "data[\"FAMI_PERSONASHOGAR\"].value_counts().plot(kind ='bar')"
   ]
  },
  {
   "cell_type": "code",
   "execution_count": 36,
   "metadata": {},
   "outputs": [
    {
     "data": {
      "text/plain": [
       "<matplotlib.axes._subplots.AxesSubplot at 0x26602267d68>"
      ]
     },
     "execution_count": 36,
     "metadata": {},
     "output_type": "execute_result"
    },
    {
     "data": {
      "image/png": "[encoded data removed]",
      "text/plain": [
       "<Figure size 432x288 with 1 Axes>"
      ]
     },
     "metadata": {
      "needs_background": "light"
     },
     "output_type": "display_data"
    }
   ],
   "source": [
    "data[\"FAMI_CUARTOSHOGAR\"].value_counts().plot(kind ='bar')"
   ]
  },
  {
   "cell_type": "code",
   "execution_count": 37,
   "metadata": {},
   "outputs": [
    {
     "data": {
      "text/plain": [
       "<matplotlib.axes._subplots.AxesSubplot at 0x26602357ba8>"
      ]
     },
     "execution_count": 37,
     "metadata": {},
     "output_type": "execute_result"
    },
    {
     "data": {
      "image/png": "[encoded data removed]",
      "text/plain": [
       "<Figure size 432x288 with 1 Axes>"
      ]
     },
     "metadata": {
      "needs_background": "light"
     },
     "output_type": "display_data"
    }
   ],
   "source": [
    "data[\"FAMI_EDUCACIONPADRE\"].value_counts().plot(kind ='bar')"
   ]
  },
  {
   "cell_type": "code",
   "execution_count": 38,
   "metadata": {},
   "outputs": [
    {
     "data": {
      "text/plain": [
       "<matplotlib.axes._subplots.AxesSubplot at 0x266023efb00>"
      ]
     },
     "execution_count": 38,
     "metadata": {},
     "output_type": "execute_result"
    },
    {
     "data": {
      "image/png": "[encoded data removed]",
      "text/plain": [
       "<Figure size 432x288 with 1 Axes>"
      ]
     },
     "metadata": {
      "needs_background": "light"
     },
     "output_type": "display_data"
    }
   ],
   "source": [
    "data[\"FAMI_EDUCACIONMADRE\"].value_counts().plot(kind ='bar')"
   ]
  },
  {
   "cell_type": "code",
   "execution_count": 39,
   "metadata": {},
   "outputs": [
    {
     "data": {
      "text/plain": [
       "<matplotlib.axes._subplots.AxesSubplot at 0x2660247b320>"
      ]
     },
     "execution_count": 39,
     "metadata": {},
     "output_type": "execute_result"
    },
    {
     "data": {
      "image/png": "[encoded data removed]",
      "text/plain": [
       "<Figure size 432x288 with 1 Axes>"
      ]
     },
     "metadata": {
      "needs_background": "light"
     },
     "output_type": "display_data"
    }
   ],
   "source": [
    "data[\"FAMI_TRABAJOLABORPADRE\"].value_counts().plot(kind ='bar')\n"
   ]
  },
  {
   "cell_type": "code",
   "execution_count": 40,
   "metadata": {},
   "outputs": [
    {
     "data": {
      "text/plain": [
       "<matplotlib.axes._subplots.AxesSubplot at 0x2660242e550>"
      ]
     },
     "execution_count": 40,
     "metadata": {},
     "output_type": "execute_result"
    },
    {
     "data": {
      "image/png": "[encoded data removed]",
      "text/plain": [
       "<Figure size 432x288 with 1 Axes>"
      ]
     },
     "metadata": {
      "needs_background": "light"
     },
     "output_type": "display_data"
    }
   ],
   "source": [
    "data[\"FAMI_TRABAJOLABORMADRE\"].value_counts().plot(kind ='bar')"
   ]
  },
  {
   "cell_type": "code",
   "execution_count": 41,
   "metadata": {},
   "outputs": [
    {
     "data": {
      "text/plain": [
       "<matplotlib.axes._subplots.AxesSubplot at 0x266026c69e8>"
      ]
     },
     "execution_count": 41,
     "metadata": {},
     "output_type": "execute_result"
    },
    {
     "data": {
      "image/png": "[encoded data removed]",
      "text/plain": [
       "<Figure size 432x288 with 1 Axes>"
      ]
     },
     "metadata": {
      "needs_background": "light"
     },
     "output_type": "display_data"
    }
   ],
   "source": [
    "data[\"FAMI_NUMLIBROS\"].value_counts().plot(kind ='bar')"
   ]
  },
  {
   "cell_type": "code",
   "execution_count": 42,
   "metadata": {},
   "outputs": [
    {
     "data": {
      "text/plain": [
       "<matplotlib.axes._subplots.AxesSubplot at 0x26602872898>"
      ]
     },
     "execution_count": 42,
     "metadata": {},
     "output_type": "execute_result"
    },
    {
     "data": {
      "image/png": "[encoded data removed]",
      "text/plain": [
       "<Figure size 432x288 with 1 Axes>"
      ]
     },
     "metadata": {
      "needs_background": "light"
     },
     "output_type": "display_data"
    }
   ],
   "source": [
    "data[\"FAMI_COMELECHEDERIVADOS\"].value_counts().plot(kind ='bar')"
   ]
  },
  {
   "cell_type": "code",
   "execution_count": 43,
   "metadata": {},
   "outputs": [
    {
     "data": {
      "text/plain": [
       "<matplotlib.axes._subplots.AxesSubplot at 0x26602934898>"
      ]
     },
     "execution_count": 43,
     "metadata": {},
     "output_type": "execute_result"
    },
    {
     "data": {
      "image/png": "[encoded data removed]",
      "text/plain": [
       "<Figure size 432x288 with 1 Axes>"
      ]
     },
     "metadata": {
      "needs_background": "light"
     },
     "output_type": "display_data"
    }
   ],
   "source": [
    "data[\"FAMI_COMECARNEPESCADOHUEVO\"].value_counts().plot(kind ='bar')"
   ]
  },
  {
   "cell_type": "code",
   "execution_count": 44,
   "metadata": {},
   "outputs": [
    {
     "data": {
      "text/plain": [
       "<matplotlib.axes._subplots.AxesSubplot at 0x266029bd940>"
      ]
     },
     "execution_count": 44,
     "metadata": {},
     "output_type": "execute_result"
    },
    {
     "data": {
      "image/png": "[encoded data removed]",
      "text/plain": [
       "<Figure size 432x288 with 1 Axes>"
      ]
     },
     "metadata": {
      "needs_background": "light"
     },
     "output_type": "display_data"
    }
   ],
   "source": [
    "data[\"FAMI_COMECEREALFRUTOSLEGUMBRE\"].value_counts().plot(kind ='bar')"
   ]
  },
  {
   "cell_type": "code",
   "execution_count": 45,
   "metadata": {},
   "outputs": [
    {
     "data": {
      "text/plain": [
       "<matplotlib.axes._subplots.AxesSubplot at 0x26602a2e160>"
      ]
     },
     "execution_count": 45,
     "metadata": {},
     "output_type": "execute_result"
    },
    {
     "data": {
      "image/png": "[encoded data removed]",
      "text/plain": [
       "<Figure size 432x288 with 1 Axes>"
      ]
     },
     "metadata": {
      "needs_background": "light"
     },
     "output_type": "display_data"
    }
   ],
   "source": [
    "data[\"ESTU_DEDICACIONLECTURADIARIA\"].value_counts().plot(kind ='bar')"
   ]
  },
  {
   "cell_type": "code",
   "execution_count": 46,
   "metadata": {},
   "outputs": [
    {
     "data": {
      "text/plain": [
       "<matplotlib.axes._subplots.AxesSubplot at 0x26602aa3470>"
      ]
     },
     "execution_count": 46,
     "metadata": {},
     "output_type": "execute_result"
    },
    {
     "data": {
      "image/png": "[encoded data removed]",
      "text/plain": [
       "<Figure size 432x288 with 1 Axes>"
      ]
     },
     "metadata": {
      "needs_background": "light"
     },
     "output_type": "display_data"
    }
   ],
   "source": [
    "data[\"ESTU_DEDICACIONINTERNET\"].value_counts().plot(kind ='bar')"
   ]
  },
  {
   "cell_type": "code",
   "execution_count": 47,
   "metadata": {},
   "outputs": [
    {
     "data": {
      "text/plain": [
       "<matplotlib.axes._subplots.AxesSubplot at 0x26602aa34a8>"
      ]
     },
     "execution_count": 47,
     "metadata": {},
     "output_type": "execute_result"
    },
    {
     "data": {
      "image/png": "[encoded data removed]",
      "text/plain": [
       "<Figure size 432x288 with 1 Axes>"
      ]
     },
     "metadata": {
      "needs_background": "light"
     },
     "output_type": "display_data"
    }
   ],
   "source": [
    "data[\"COLE_NATURALEZA\"].value_counts().plot(kind ='bar')"
   ]
  },
  {
   "cell_type": "code",
   "execution_count": 48,
   "metadata": {},
   "outputs": [
    {
     "data": {
      "text/plain": [
       "<matplotlib.axes._subplots.AxesSubplot at 0x26603b21eb8>"
      ]
     },
     "execution_count": 48,
     "metadata": {},
     "output_type": "execute_result"
    },
    {
     "data": {
      "image/png": "[encoded data removed]",
      "text/plain": [
       "<Figure size 432x288 with 1 Axes>"
      ]
     },
     "metadata": {
      "needs_background": "light"
     },
     "output_type": "display_data"
    }
   ],
   "source": [
    "data[\"COLE_CARACTER\"].value_counts().plot(kind ='bar')"
   ]
  },
  {
   "cell_type": "code",
   "execution_count": 49,
   "metadata": {},
   "outputs": [
    {
     "data": {
      "text/plain": [
       "<matplotlib.axes._subplots.AxesSubplot at 0x26603b918d0>"
      ]
     },
     "execution_count": 49,
     "metadata": {},
     "output_type": "execute_result"
    },
    {
     "data": {
      "image/png": "[encoded data removed]",
      "text/plain": [
       "<Figure size 432x288 with 1 Axes>"
      ]
     },
     "metadata": {
      "needs_background": "light"
     },
     "output_type": "display_data"
    }
   ],
   "source": [
    "data[\"COLE_AREA_UBICACION\"].value_counts().plot(kind ='bar')"
   ]
  },
  {
   "cell_type": "code",
   "execution_count": 50,
   "metadata": {},
   "outputs": [
    {
     "data": {
      "text/plain": [
       "<matplotlib.axes._subplots.AxesSubplot at 0x26603beaac8>"
      ]
     },
     "execution_count": 50,
     "metadata": {},
     "output_type": "execute_result"
    },
    {
     "data": {
      "image/png": "[encoded data removed]",
      "text/plain": [
       "<Figure size 432x288 with 1 Axes>"
      ]
     },
     "metadata": {
      "needs_background": "light"
     },
     "output_type": "display_data"
    }
   ],
   "source": [
    "data[\"COLE_JORNADA\"].value_counts().plot(kind ='bar')"
   ]
  },
  {
   "cell_type": "code",
   "execution_count": 51,
   "metadata": {},
   "outputs": [
    {
     "data": {
      "text/plain": [
       "<matplotlib.axes._subplots.AxesSubplot at 0x26603bf5da0>"
      ]
     },
     "execution_count": 51,
     "metadata": {},
     "output_type": "execute_result"
    },
    {
     "data": {
      "image/png": "[encoded data removed]",
      "text/plain": [
       "<Figure size 432x288 with 1 Axes>"
      ]
     },
     "metadata": {
      "needs_background": "light"
     },
     "output_type": "display_data"
    }
   ],
   "source": [
    "data[\"PUNT_LECTURA_CRITICA\"].hist()"
   ]
  },
  {
   "cell_type": "code",
   "execution_count": 52,
   "metadata": {},
   "outputs": [
    {
     "data": {
      "text/plain": [
       "<matplotlib.axes._subplots.AxesSubplot at 0x26603cce4e0>"
      ]
     },
     "execution_count": 52,
     "metadata": {},
     "output_type": "execute_result"
    },
    {
     "data": {
      "image/png": "[encoded data removed]",
      "text/plain": [
       "<Figure size 432x288 with 1 Axes>"
      ]
     },
     "metadata": {
      "needs_background": "light"
     },
     "output_type": "display_data"
    }
   ],
   "source": [
    "data[\"PUNT_MATEMATICAS\"].hist(bins = 100)"
   ]
  },
  {
   "cell_type": "code",
   "execution_count": 53,
   "metadata": {},
   "outputs": [
    {
     "data": {
      "text/plain": [
       "PUNT_MATEMATICAS\n",
       "0          6\n",
       "15        11\n",
       "16        21\n",
       "17        77\n",
       "18       147\n",
       "19       260\n",
       "20       413\n",
       "21       707\n",
       "22      1006\n",
       "23      1530\n",
       "24      2189\n",
       "25      2874\n",
       "26      3623\n",
       "27      4589\n",
       "28      5628\n",
       "29      6930\n",
       "30      8411\n",
       "31      9926\n",
       "32     11642\n",
       "33     13301\n",
       "34     14968\n",
       "35     16488\n",
       "36     18272\n",
       "37     20024\n",
       "38     21938\n",
       "39     23150\n",
       "40     24453\n",
       "41     25772\n",
       "42     27210\n",
       "43     28068\n",
       "       ...  \n",
       "59     26933\n",
       "60     25288\n",
       "61     24149\n",
       "62     22502\n",
       "63     20927\n",
       "64     19414\n",
       "65     17402\n",
       "66     15844\n",
       "67     14263\n",
       "68     12690\n",
       "69     10888\n",
       "70      9628\n",
       "71      8272\n",
       "72      7350\n",
       "73      6181\n",
       "74      5307\n",
       "75      4317\n",
       "76      3574\n",
       "77      2830\n",
       "78      2329\n",
       "79      1866\n",
       "80      1459\n",
       "81      1197\n",
       "82       925\n",
       "83       660\n",
       "84       516\n",
       "85       391\n",
       "86        67\n",
       "87         5\n",
       "100      790\n",
       "Length: 75, dtype: int64"
      ]
     },
     "execution_count": 53,
     "metadata": {},
     "output_type": "execute_result"
    }
   ],
   "source": [
    "data.groupby(\"PUNT_MATEMATICAS\").size()"
   ]
  },
  {
   "cell_type": "code",
   "execution_count": 54,
   "metadata": {},
   "outputs": [
    {
     "data": {
      "text/plain": [
       "<matplotlib.axes._subplots.AxesSubplot at 0x26603d5c6d8>"
      ]
     },
     "execution_count": 54,
     "metadata": {},
     "output_type": "execute_result"
    },
    {
     "data": {
      "image/png": "[encoded data removed]",
      "text/plain": [
       "<Figure size 432x288 with 1 Axes>"
      ]
     },
     "metadata": {
      "needs_background": "light"
     },
     "output_type": "display_data"
    }
   ],
   "source": [
    "data[\"ESTU_NSE_ESTABLECIMIENTO\"].value_counts().plot(kind ='bar')"
   ]
  },
  {
   "cell_type": "code",
   "execution_count": 55,
   "metadata": {},
   "outputs": [
    {
     "data": {
      "text/plain": [
       "<matplotlib.axes._subplots.AxesSubplot at 0x26603dae978>"
      ]
     },
     "execution_count": 55,
     "metadata": {},
     "output_type": "execute_result"
    },
    {
     "data": {
      "image/png": "[encoded data removed]",
      "text/plain": [
       "<Figure size 432x288 with 1 Axes>"
      ]
     },
     "metadata": {
      "needs_background": "light"
     },
     "output_type": "display_data"
    }
   ],
   "source": [
    "data[\"ELECTRODOMESTICOS\"].value_counts().plot(kind ='bar')"
   ]
  },
  {
   "cell_type": "code",
   "execution_count": 56,
   "metadata": {},
   "outputs": [
    {
     "data": {
      "text/plain": [
       "ELECTRODOMESTICOS\n",
       "11000    14.087395\n",
       "10000    12.695222\n",
       "0        11.784966\n",
       "11010     9.678732\n",
       "10010     7.873683\n",
       "11101     5.564458\n",
       "11100     5.365407\n",
       "10        5.284349\n",
       "11001     4.715168\n",
       "1000      4.273238\n",
       "11011     3.668896\n",
       "11110     3.372044\n",
       "11111     3.341314\n",
       "1010      2.773611\n",
       "10001     1.161901\n",
       "10100     1.081335\n",
       "10110     0.959994\n",
       "10011     0.912915\n",
       "1100      0.755231\n",
       "1001      0.650140\n",
       "dtype: float64"
      ]
     },
     "execution_count": 56,
     "metadata": {},
     "output_type": "execute_result"
    }
   ],
   "source": [
    "data.groupby(\"ELECTRODOMESTICOS\").size().sort_values(ascending=False)/data.shape[0]*100"
   ]
  },
  {
   "cell_type": "code",
   "execution_count": 57,
   "metadata": {},
   "outputs": [
    {
     "data": {
      "text/plain": [
       "(1015319, 31)"
      ]
     },
     "execution_count": 57,
     "metadata": {},
     "output_type": "execute_result"
    }
   ],
   "source": [
    "data.shape"
   ]
  },
  {
   "cell_type": "markdown",
   "metadata": {},
   "source": [
    "## Correlacion de pearson"
   ]
  },
  {
   "cell_type": "code",
   "execution_count": 58,
   "metadata": {},
   "outputs": [
    {
     "name": "stdout",
     "output_type": "stream",
     "text": [
      "0.4348155519188581\n"
     ]
    }
   ],
   "source": [
    "print(data.PUNT_GLOBAL.corr(data.ESTU_INSE_INDIVIDUAL, method=\"pearson\"))"
   ]
  },
  {
   "cell_type": "code",
   "execution_count": 59,
   "metadata": {},
   "outputs": [
    {
     "data": {
      "text/html": [
       "<div>\n",
       "<style scoped>\n",
       "    .dataframe tbody tr th:only-of-type {\n",
       "        vertical-align: middle;\n",
       "    }\n",
       "\n",
       "    .dataframe tbody tr th {\n",
       "        vertical-align: top;\n",
       "    }\n",
       "\n",
       "    .dataframe thead th {\n",
       "        text-align: right;\n",
       "    }\n",
       "</style>\n",
       "<table border=\"1\" class=\"dataframe\">\n",
       "  <thead>\n",
       "    <tr style=\"text-align: right;\">\n",
       "      <th></th>\n",
       "      <th>ELECTRODOMESTICOS</th>\n",
       "      <th>ESTU_FECHANACIMIENTO</th>\n",
       "      <th>PERIODO</th>\n",
       "      <th>PUNT_LECTURA_CRITICA</th>\n",
       "      <th>PUNT_MATEMATICAS</th>\n",
       "      <th>PUNT_C_NATURALES</th>\n",
       "      <th>PUNT_SOCIALES_CIUDADANAS</th>\n",
       "      <th>PUNT_INGLES</th>\n",
       "      <th>PUNT_GLOBAL</th>\n",
       "      <th>ESTU_NSE_ESTABLECIMIENTO</th>\n",
       "      <th>ESTU_INSE_INDIVIDUAL</th>\n",
       "    </tr>\n",
       "  </thead>\n",
       "  <tbody>\n",
       "    <tr>\n",
       "      <th>ELECTRODOMESTICOS</th>\n",
       "      <td>1.000000</td>\n",
       "      <td>-0.131716</td>\n",
       "      <td>0.006306</td>\n",
       "      <td>0.161448</td>\n",
       "      <td>0.163551</td>\n",
       "      <td>0.163479</td>\n",
       "      <td>0.148608</td>\n",
       "      <td>0.205841</td>\n",
       "      <td>0.181479</td>\n",
       "      <td>0.307328</td>\n",
       "      <td>0.519097</td>\n",
       "    </tr>\n",
       "    <tr>\n",
       "      <th>ESTU_FECHANACIMIENTO</th>\n",
       "      <td>-0.131716</td>\n",
       "      <td>1.000000</td>\n",
       "      <td>-0.003332</td>\n",
       "      <td>-0.262915</td>\n",
       "      <td>-0.301661</td>\n",
       "      <td>-0.288391</td>\n",
       "      <td>-0.243595</td>\n",
       "      <td>-0.265464</td>\n",
       "      <td>-0.304825</td>\n",
       "      <td>-0.150855</td>\n",
       "      <td>-0.230079</td>\n",
       "    </tr>\n",
       "    <tr>\n",
       "      <th>PERIODO</th>\n",
       "      <td>0.006306</td>\n",
       "      <td>-0.003332</td>\n",
       "      <td>1.000000</td>\n",
       "      <td>-0.033390</td>\n",
       "      <td>0.004813</td>\n",
       "      <td>-0.084233</td>\n",
       "      <td>-0.089920</td>\n",
       "      <td>0.046766</td>\n",
       "      <td>-0.046865</td>\n",
       "      <td>0.022286</td>\n",
       "      <td>-0.018477</td>\n",
       "    </tr>\n",
       "    <tr>\n",
       "      <th>PUNT_LECTURA_CRITICA</th>\n",
       "      <td>0.161448</td>\n",
       "      <td>-0.262915</td>\n",
       "      <td>-0.033390</td>\n",
       "      <td>1.000000</td>\n",
       "      <td>0.735875</td>\n",
       "      <td>0.749057</td>\n",
       "      <td>0.801586</td>\n",
       "      <td>0.659955</td>\n",
       "      <td>0.895540</td>\n",
       "      <td>0.382571</td>\n",
       "      <td>0.388413</td>\n",
       "    </tr>\n",
       "    <tr>\n",
       "      <th>PUNT_MATEMATICAS</th>\n",
       "      <td>0.163551</td>\n",
       "      <td>-0.301661</td>\n",
       "      <td>0.004813</td>\n",
       "      <td>0.735875</td>\n",
       "      <td>1.000000</td>\n",
       "      <td>0.797961</td>\n",
       "      <td>0.743861</td>\n",
       "      <td>0.662148</td>\n",
       "      <td>0.903941</td>\n",
       "      <td>0.373868</td>\n",
       "      <td>0.382414</td>\n",
       "    </tr>\n",
       "    <tr>\n",
       "      <th>PUNT_C_NATURALES</th>\n",
       "      <td>0.163479</td>\n",
       "      <td>-0.288391</td>\n",
       "      <td>-0.084233</td>\n",
       "      <td>0.749057</td>\n",
       "      <td>0.797961</td>\n",
       "      <td>1.000000</td>\n",
       "      <td>0.797822</td>\n",
       "      <td>0.680637</td>\n",
       "      <td>0.915557</td>\n",
       "      <td>0.360940</td>\n",
       "      <td>0.376194</td>\n",
       "    </tr>\n",
       "    <tr>\n",
       "      <th>PUNT_SOCIALES_CIUDADANAS</th>\n",
       "      <td>0.148608</td>\n",
       "      <td>-0.243595</td>\n",
       "      <td>-0.089920</td>\n",
       "      <td>0.801586</td>\n",
       "      <td>0.743861</td>\n",
       "      <td>0.797822</td>\n",
       "      <td>1.000000</td>\n",
       "      <td>0.669289</td>\n",
       "      <td>0.917890</td>\n",
       "      <td>0.370963</td>\n",
       "      <td>0.379605</td>\n",
       "    </tr>\n",
       "    <tr>\n",
       "      <th>PUNT_INGLES</th>\n",
       "      <td>0.205841</td>\n",
       "      <td>-0.265464</td>\n",
       "      <td>0.046766</td>\n",
       "      <td>0.659955</td>\n",
       "      <td>0.662148</td>\n",
       "      <td>0.680637</td>\n",
       "      <td>0.669289</td>\n",
       "      <td>1.000000</td>\n",
       "      <td>0.774099</td>\n",
       "      <td>0.471297</td>\n",
       "      <td>0.488795</td>\n",
       "    </tr>\n",
       "    <tr>\n",
       "      <th>PUNT_GLOBAL</th>\n",
       "      <td>0.181479</td>\n",
       "      <td>-0.304825</td>\n",
       "      <td>-0.046865</td>\n",
       "      <td>0.895540</td>\n",
       "      <td>0.903941</td>\n",
       "      <td>0.915557</td>\n",
       "      <td>0.917890</td>\n",
       "      <td>0.774099</td>\n",
       "      <td>1.000000</td>\n",
       "      <td>0.423465</td>\n",
       "      <td>0.434816</td>\n",
       "    </tr>\n",
       "    <tr>\n",
       "      <th>ESTU_NSE_ESTABLECIMIENTO</th>\n",
       "      <td>0.307328</td>\n",
       "      <td>-0.150855</td>\n",
       "      <td>0.022286</td>\n",
       "      <td>0.382571</td>\n",
       "      <td>0.373868</td>\n",
       "      <td>0.360940</td>\n",
       "      <td>0.370963</td>\n",
       "      <td>0.471297</td>\n",
       "      <td>0.423465</td>\n",
       "      <td>1.000000</td>\n",
       "      <td>0.630593</td>\n",
       "    </tr>\n",
       "    <tr>\n",
       "      <th>ESTU_INSE_INDIVIDUAL</th>\n",
       "      <td>0.519097</td>\n",
       "      <td>-0.230079</td>\n",
       "      <td>-0.018477</td>\n",
       "      <td>0.388413</td>\n",
       "      <td>0.382414</td>\n",
       "      <td>0.376194</td>\n",
       "      <td>0.379605</td>\n",
       "      <td>0.488795</td>\n",
       "      <td>0.434816</td>\n",
       "      <td>0.630593</td>\n",
       "      <td>1.000000</td>\n",
       "    </tr>\n",
       "  </tbody>\n",
       "</table>\n",
       "</div>"
      ],
      "text/plain": [
       "                          ELECTRODOMESTICOS  ESTU_FECHANACIMIENTO   PERIODO  \\\n",
       "ELECTRODOMESTICOS                  1.000000             -0.131716  0.006306   \n",
       "ESTU_FECHANACIMIENTO              -0.131716              1.000000 -0.003332   \n",
       "PERIODO                            0.006306             -0.003332  1.000000   \n",
       "PUNT_LECTURA_CRITICA               0.161448             -0.262915 -0.033390   \n",
       "PUNT_MATEMATICAS                   0.163551             -0.301661  0.004813   \n",
       "PUNT_C_NATURALES                   0.163479             -0.288391 -0.084233   \n",
       "PUNT_SOCIALES_CIUDADANAS           0.148608             -0.243595 -0.089920   \n",
       "PUNT_INGLES                        0.205841             -0.265464  0.046766   \n",
       "PUNT_GLOBAL                        0.181479             -0.304825 -0.046865   \n",
       "ESTU_NSE_ESTABLECIMIENTO           0.307328             -0.150855  0.022286   \n",
       "ESTU_INSE_INDIVIDUAL               0.519097             -0.230079 -0.018477   \n",
       "\n",
       "                          PUNT_LECTURA_CRITICA  PUNT_MATEMATICAS  \\\n",
       "ELECTRODOMESTICOS                     0.161448          0.163551   \n",
       "ESTU_FECHANACIMIENTO                 -0.262915         -0.301661   \n",
       "PERIODO                              -0.033390          0.004813   \n",
       "PUNT_LECTURA_CRITICA                  1.000000          0.735875   \n",
       "PUNT_MATEMATICAS                      0.735875          1.000000   \n",
       "PUNT_C_NATURALES                      0.749057          0.797961   \n",
       "PUNT_SOCIALES_CIUDADANAS              0.801586          0.743861   \n",
       "PUNT_INGLES                           0.659955          0.662148   \n",
       "PUNT_GLOBAL                           0.895540          0.903941   \n",
       "ESTU_NSE_ESTABLECIMIENTO              0.382571          0.373868   \n",
       "ESTU_INSE_INDIVIDUAL                  0.388413          0.382414   \n",
       "\n",
       "                          PUNT_C_NATURALES  PUNT_SOCIALES_CIUDADANAS  \\\n",
       "ELECTRODOMESTICOS                 0.163479                  0.148608   \n",
       "ESTU_FECHANACIMIENTO             -0.288391                 -0.243595   \n",
       "PERIODO                          -0.084233                 -0.089920   \n",
       "PUNT_LECTURA_CRITICA              0.749057                  0.801586   \n",
       "PUNT_MATEMATICAS                  0.797961                  0.743861   \n",
       "PUNT_C_NATURALES                  1.000000                  0.797822   \n",
       "PUNT_SOCIALES_CIUDADANAS          0.797822                  1.000000   \n",
       "PUNT_INGLES                       0.680637                  0.669289   \n",
       "PUNT_GLOBAL                       0.915557                  0.917890   \n",
       "ESTU_NSE_ESTABLECIMIENTO          0.360940                  0.370963   \n",
       "ESTU_INSE_INDIVIDUAL              0.376194                  0.379605   \n",
       "\n",
       "                          PUNT_INGLES  PUNT_GLOBAL  ESTU_NSE_ESTABLECIMIENTO  \\\n",
       "ELECTRODOMESTICOS            0.205841     0.181479                  0.307328   \n",
       "ESTU_FECHANACIMIENTO        -0.265464    -0.304825                 -0.150855   \n",
       "PERIODO                      0.046766    -0.046865                  0.022286   \n",
       "PUNT_LECTURA_CRITICA         0.659955     0.895540                  0.382571   \n",
       "PUNT_MATEMATICAS             0.662148     0.903941                  0.373868   \n",
       "PUNT_C_NATURALES             0.680637     0.915557                  0.360940   \n",
       "PUNT_SOCIALES_CIUDADANAS     0.669289     0.917890                  0.370963   \n",
       "PUNT_INGLES                  1.000000     0.774099                  0.471297   \n",
       "PUNT_GLOBAL                  0.774099     1.000000                  0.423465   \n",
       "ESTU_NSE_ESTABLECIMIENTO     0.471297     0.423465                  1.000000   \n",
       "ESTU_INSE_INDIVIDUAL         0.488795     0.434816                  0.630593   \n",
       "\n",
       "                          ESTU_INSE_INDIVIDUAL  \n",
       "ELECTRODOMESTICOS                     0.519097  \n",
       "ESTU_FECHANACIMIENTO                 -0.230079  \n",
       "PERIODO                              -0.018477  \n",
       "PUNT_LECTURA_CRITICA                  0.388413  \n",
       "PUNT_MATEMATICAS                      0.382414  \n",
       "PUNT_C_NATURALES                      0.376194  \n",
       "PUNT_SOCIALES_CIUDADANAS              0.379605  \n",
       "PUNT_INGLES                           0.488795  \n",
       "PUNT_GLOBAL                           0.434816  \n",
       "ESTU_NSE_ESTABLECIMIENTO              0.630593  \n",
       "ESTU_INSE_INDIVIDUAL                  1.000000  "
      ]
     },
     "execution_count": 59,
     "metadata": {},
     "output_type": "execute_result"
    }
   ],
   "source": [
    "data.corr(method=\"pearson\")"
   ]
  },
  {
   "cell_type": "markdown",
   "metadata": {},
   "source": [
    "## Diagramas de caja"
   ]
  },
  {
   "cell_type": "code",
   "execution_count": 60,
   "metadata": {},
   "outputs": [
    {
     "data": {
      "text/plain": [
       "Text(0.5, 0, 'Edad')"
      ]
     },
     "execution_count": 60,
     "metadata": {},
     "output_type": "execute_result"
    },
    {
     "data": {
      "image/png": "[encoded data removed]",
      "text/plain": [
       "<Figure size 432x288 with 1 Axes>"
      ]
     },
     "metadata": {
      "needs_background": "light"
     },
     "output_type": "display_data"
    }
   ],
   "source": [
    "hist = data.boxplot(column=['ESTU_FECHANACIMIENTO'])\n",
    "hist.set_xlabel(\"Edad\")"
   ]
  },
  {
   "cell_type": "code",
   "execution_count": 61,
   "metadata": {},
   "outputs": [
    {
     "data": {
      "text/plain": [
       "Series([], dtype: float64)"
      ]
     },
     "execution_count": 61,
     "metadata": {},
     "output_type": "execute_result"
    }
   ],
   "source": [
    "dataAge = data[data['ESTU_FECHANACIMIENTO'] > 22]\n",
    "dataAge.groupby(\"ESTU_FECHANACIMIENTO\").size()/data.shape[0]*100"
   ]
  },
  {
   "cell_type": "markdown",
   "metadata": {},
   "source": [
    "## Tablas de contingencia"
   ]
  },
  {
   "cell_type": "code",
   "execution_count": 62,
   "metadata": {},
   "outputs": [
    {
     "data": {
      "text/html": [
       "<div>\n",
       "<style scoped>\n",
       "    .dataframe tbody tr th:only-of-type {\n",
       "        vertical-align: middle;\n",
       "    }\n",
       "\n",
       "    .dataframe tbody tr th {\n",
       "        vertical-align: top;\n",
       "    }\n",
       "\n",
       "    .dataframe thead th {\n",
       "        text-align: right;\n",
       "    }\n",
       "</style>\n",
       "<table border=\"1\" class=\"dataframe\">\n",
       "  <thead>\n",
       "    <tr style=\"text-align: right;\">\n",
       "      <th>FAMI_EDUCACIONMADRE</th>\n",
       "      <th>Educación profesional completa</th>\n",
       "      <th>Educación profesional incompleta</th>\n",
       "      <th>Ninguno</th>\n",
       "      <th>No Aplica</th>\n",
       "      <th>No sabe</th>\n",
       "      <th>Postgrado</th>\n",
       "      <th>Primaria completa</th>\n",
       "      <th>Primaria incompleta</th>\n",
       "      <th>Secundaria (Bachillerato) completa</th>\n",
       "      <th>Secundaria (Bachillerato) incompleta</th>\n",
       "      <th>Técnica o tecnológica completa</th>\n",
       "      <th>Técnica o tecnológica incompleta</th>\n",
       "    </tr>\n",
       "    <tr>\n",
       "      <th>FAMI_EDUCACIONPADRE</th>\n",
       "      <th></th>\n",
       "      <th></th>\n",
       "      <th></th>\n",
       "      <th></th>\n",
       "      <th></th>\n",
       "      <th></th>\n",
       "      <th></th>\n",
       "      <th></th>\n",
       "      <th></th>\n",
       "      <th></th>\n",
       "      <th></th>\n",
       "      <th></th>\n",
       "    </tr>\n",
       "  </thead>\n",
       "  <tbody>\n",
       "    <tr>\n",
       "      <th>Educación profesional completa</th>\n",
       "      <td>3.965552</td>\n",
       "      <td>0.541308</td>\n",
       "      <td>0.027282</td>\n",
       "      <td>0.014478</td>\n",
       "      <td>0.113560</td>\n",
       "      <td>0.443112</td>\n",
       "      <td>0.187527</td>\n",
       "      <td>0.227022</td>\n",
       "      <td>1.519325</td>\n",
       "      <td>0.513336</td>\n",
       "      <td>1.298114</td>\n",
       "      <td>0.268290</td>\n",
       "    </tr>\n",
       "    <tr>\n",
       "      <th>Educación profesional incompleta</th>\n",
       "      <td>0.441536</td>\n",
       "      <td>0.331620</td>\n",
       "      <td>0.009258</td>\n",
       "      <td>0.006599</td>\n",
       "      <td>0.024524</td>\n",
       "      <td>0.094946</td>\n",
       "      <td>0.059292</td>\n",
       "      <td>0.055746</td>\n",
       "      <td>0.391404</td>\n",
       "      <td>0.166844</td>\n",
       "      <td>0.308868</td>\n",
       "      <td>0.102431</td>\n",
       "    </tr>\n",
       "    <tr>\n",
       "      <th>Ninguno</th>\n",
       "      <td>0.068747</td>\n",
       "      <td>0.022358</td>\n",
       "      <td>0.821909</td>\n",
       "      <td>0.007288</td>\n",
       "      <td>0.028858</td>\n",
       "      <td>0.010440</td>\n",
       "      <td>0.459068</td>\n",
       "      <td>0.994170</td>\n",
       "      <td>0.422724</td>\n",
       "      <td>0.432475</td>\n",
       "      <td>0.083718</td>\n",
       "      <td>0.048359</td>\n",
       "    </tr>\n",
       "    <tr>\n",
       "      <th>No Aplica</th>\n",
       "      <td>0.109916</td>\n",
       "      <td>0.029153</td>\n",
       "      <td>0.014380</td>\n",
       "      <td>0.043632</td>\n",
       "      <td>0.018122</td>\n",
       "      <td>0.028562</td>\n",
       "      <td>0.093862</td>\n",
       "      <td>0.130205</td>\n",
       "      <td>0.242584</td>\n",
       "      <td>0.140941</td>\n",
       "      <td>0.119765</td>\n",
       "      <td>0.035260</td>\n",
       "    </tr>\n",
       "    <tr>\n",
       "      <th>No sabe</th>\n",
       "      <td>0.605032</td>\n",
       "      <td>0.155321</td>\n",
       "      <td>0.058307</td>\n",
       "      <td>0.013789</td>\n",
       "      <td>0.915673</td>\n",
       "      <td>0.107848</td>\n",
       "      <td>0.507525</td>\n",
       "      <td>0.685302</td>\n",
       "      <td>1.468996</td>\n",
       "      <td>0.883466</td>\n",
       "      <td>0.624730</td>\n",
       "      <td>0.168321</td>\n",
       "    </tr>\n",
       "    <tr>\n",
       "      <th>Postgrado</th>\n",
       "      <td>0.509594</td>\n",
       "      <td>0.086180</td>\n",
       "      <td>0.004531</td>\n",
       "      <td>0.004925</td>\n",
       "      <td>0.021668</td>\n",
       "      <td>0.756905</td>\n",
       "      <td>0.022259</td>\n",
       "      <td>0.027184</td>\n",
       "      <td>0.152760</td>\n",
       "      <td>0.051117</td>\n",
       "      <td>0.171769</td>\n",
       "      <td>0.034570</td>\n",
       "    </tr>\n",
       "    <tr>\n",
       "      <th>Primaria completa</th>\n",
       "      <td>0.328074</td>\n",
       "      <td>0.090316</td>\n",
       "      <td>0.217961</td>\n",
       "      <td>0.009948</td>\n",
       "      <td>0.077808</td>\n",
       "      <td>0.045601</td>\n",
       "      <td>3.516530</td>\n",
       "      <td>1.834103</td>\n",
       "      <td>2.421505</td>\n",
       "      <td>1.715126</td>\n",
       "      <td>0.525155</td>\n",
       "      <td>0.186050</td>\n",
       "    </tr>\n",
       "    <tr>\n",
       "      <th>Primaria incompleta</th>\n",
       "      <td>0.427846</td>\n",
       "      <td>0.118485</td>\n",
       "      <td>0.589076</td>\n",
       "      <td>0.017137</td>\n",
       "      <td>0.120258</td>\n",
       "      <td>0.055451</td>\n",
       "      <td>3.052046</td>\n",
       "      <td>8.192401</td>\n",
       "      <td>3.196138</td>\n",
       "      <td>3.105428</td>\n",
       "      <td>0.690423</td>\n",
       "      <td>0.244258</td>\n",
       "    </tr>\n",
       "    <tr>\n",
       "      <th>Secundaria (Bachillerato) completa</th>\n",
       "      <td>1.836960</td>\n",
       "      <td>0.470985</td>\n",
       "      <td>0.148328</td>\n",
       "      <td>0.023638</td>\n",
       "      <td>0.200331</td>\n",
       "      <td>0.241500</td>\n",
       "      <td>1.495392</td>\n",
       "      <td>1.448116</td>\n",
       "      <td>10.115442</td>\n",
       "      <td>2.961926</td>\n",
       "      <td>2.517435</td>\n",
       "      <td>0.803097</td>\n",
       "    </tr>\n",
       "    <tr>\n",
       "      <th>Secundaria (Bachillerato) incompleta</th>\n",
       "      <td>0.790983</td>\n",
       "      <td>0.231848</td>\n",
       "      <td>0.169405</td>\n",
       "      <td>0.014084</td>\n",
       "      <td>0.122228</td>\n",
       "      <td>0.105780</td>\n",
       "      <td>1.372574</td>\n",
       "      <td>1.663221</td>\n",
       "      <td>3.692633</td>\n",
       "      <td>4.707880</td>\n",
       "      <td>1.163477</td>\n",
       "      <td>0.422626</td>\n",
       "    </tr>\n",
       "    <tr>\n",
       "      <th>Técnica o tecnológica completa</th>\n",
       "      <td>1.031400</td>\n",
       "      <td>0.269767</td>\n",
       "      <td>0.021767</td>\n",
       "      <td>0.012311</td>\n",
       "      <td>0.075149</td>\n",
       "      <td>0.163594</td>\n",
       "      <td>0.216779</td>\n",
       "      <td>0.213923</td>\n",
       "      <td>1.642341</td>\n",
       "      <td>0.580212</td>\n",
       "      <td>2.279284</td>\n",
       "      <td>0.361364</td>\n",
       "    </tr>\n",
       "    <tr>\n",
       "      <th>Técnica o tecnológica incompleta</th>\n",
       "      <td>0.218355</td>\n",
       "      <td>0.096226</td>\n",
       "      <td>0.015266</td>\n",
       "      <td>0.004925</td>\n",
       "      <td>0.021570</td>\n",
       "      <td>0.039987</td>\n",
       "      <td>0.104007</td>\n",
       "      <td>0.096324</td>\n",
       "      <td>0.530375</td>\n",
       "      <td>0.236182</td>\n",
       "      <td>0.317339</td>\n",
       "      <td>0.398298</td>\n",
       "    </tr>\n",
       "  </tbody>\n",
       "</table>\n",
       "</div>"
      ],
      "text/plain": [
       "FAMI_EDUCACIONMADRE                   Educación profesional completa  \\\n",
       "FAMI_EDUCACIONPADRE                                                    \n",
       "Educación profesional completa                              3.965552   \n",
       "Educación profesional incompleta                            0.441536   \n",
       "Ninguno                                                     0.068747   \n",
       "No Aplica                                                   0.109916   \n",
       "No sabe                                                     0.605032   \n",
       "Postgrado                                                   0.509594   \n",
       "Primaria completa                                           0.328074   \n",
       "Primaria incompleta                                         0.427846   \n",
       "Secundaria (Bachillerato) completa                          1.836960   \n",
       "Secundaria (Bachillerato) incompleta                        0.790983   \n",
       "Técnica o tecnológica completa                              1.031400   \n",
       "Técnica o tecnológica incompleta                            0.218355   \n",
       "\n",
       "FAMI_EDUCACIONMADRE                   Educación profesional incompleta  \\\n",
       "FAMI_EDUCACIONPADRE                                                      \n",
       "Educación profesional completa                                0.541308   \n",
       "Educación profesional incompleta                              0.331620   \n",
       "Ninguno                                                       0.022358   \n",
       "No Aplica                                                     0.029153   \n",
       "No sabe                                                       0.155321   \n",
       "Postgrado                                                     0.086180   \n",
       "Primaria completa                                             0.090316   \n",
       "Primaria incompleta                                           0.118485   \n",
       "Secundaria (Bachillerato) completa                            0.470985   \n",
       "Secundaria (Bachillerato) incompleta                          0.231848   \n",
       "Técnica o tecnológica completa                                0.269767   \n",
       "Técnica o tecnológica incompleta                              0.096226   \n",
       "\n",
       "FAMI_EDUCACIONMADRE                    Ninguno  No Aplica   No sabe  \\\n",
       "FAMI_EDUCACIONPADRE                                                   \n",
       "Educación profesional completa        0.027282   0.014478  0.113560   \n",
       "Educación profesional incompleta      0.009258   0.006599  0.024524   \n",
       "Ninguno                               0.821909   0.007288  0.028858   \n",
       "No Aplica                             0.014380   0.043632  0.018122   \n",
       "No sabe                               0.058307   0.013789  0.915673   \n",
       "Postgrado                             0.004531   0.004925  0.021668   \n",
       "Primaria completa                     0.217961   0.009948  0.077808   \n",
       "Primaria incompleta                   0.589076   0.017137  0.120258   \n",
       "Secundaria (Bachillerato) completa    0.148328   0.023638  0.200331   \n",
       "Secundaria (Bachillerato) incompleta  0.169405   0.014084  0.122228   \n",
       "Técnica o tecnológica completa        0.021767   0.012311  0.075149   \n",
       "Técnica o tecnológica incompleta      0.015266   0.004925  0.021570   \n",
       "\n",
       "FAMI_EDUCACIONMADRE                   Postgrado  Primaria completa  \\\n",
       "FAMI_EDUCACIONPADRE                                                  \n",
       "Educación profesional completa         0.443112           0.187527   \n",
       "Educación profesional incompleta       0.094946           0.059292   \n",
       "Ninguno                                0.010440           0.459068   \n",
       "No Aplica                              0.028562           0.093862   \n",
       "No sabe                                0.107848           0.507525   \n",
       "Postgrado                              0.756905           0.022259   \n",
       "Primaria completa                      0.045601           3.516530   \n",
       "Primaria incompleta                    0.055451           3.052046   \n",
       "Secundaria (Bachillerato) completa     0.241500           1.495392   \n",
       "Secundaria (Bachillerato) incompleta   0.105780           1.372574   \n",
       "Técnica o tecnológica completa         0.163594           0.216779   \n",
       "Técnica o tecnológica incompleta       0.039987           0.104007   \n",
       "\n",
       "FAMI_EDUCACIONMADRE                   Primaria incompleta  \\\n",
       "FAMI_EDUCACIONPADRE                                         \n",
       "Educación profesional completa                   0.227022   \n",
       "Educación profesional incompleta                 0.055746   \n",
       "Ninguno                                          0.994170   \n",
       "No Aplica                                        0.130205   \n",
       "No sabe                                          0.685302   \n",
       "Postgrado                                        0.027184   \n",
       "Primaria completa                                1.834103   \n",
       "Primaria incompleta                              8.192401   \n",
       "Secundaria (Bachillerato) completa               1.448116   \n",
       "Secundaria (Bachillerato) incompleta             1.663221   \n",
       "Técnica o tecnológica completa                   0.213923   \n",
       "Técnica o tecnológica incompleta                 0.096324   \n",
       "\n",
       "FAMI_EDUCACIONMADRE                   Secundaria (Bachillerato) completa  \\\n",
       "FAMI_EDUCACIONPADRE                                                        \n",
       "Educación profesional completa                                  1.519325   \n",
       "Educación profesional incompleta                                0.391404   \n",
       "Ninguno                                                         0.422724   \n",
       "No Aplica                                                       0.242584   \n",
       "No sabe                                                         1.468996   \n",
       "Postgrado                                                       0.152760   \n",
       "Primaria completa                                               2.421505   \n",
       "Primaria incompleta                                             3.196138   \n",
       "Secundaria (Bachillerato) completa                             10.115442   \n",
       "Secundaria (Bachillerato) incompleta                            3.692633   \n",
       "Técnica o tecnológica completa                                  1.642341   \n",
       "Técnica o tecnológica incompleta                                0.530375   \n",
       "\n",
       "FAMI_EDUCACIONMADRE                   Secundaria (Bachillerato) incompleta  \\\n",
       "FAMI_EDUCACIONPADRE                                                          \n",
       "Educación profesional completa                                    0.513336   \n",
       "Educación profesional incompleta                                  0.166844   \n",
       "Ninguno                                                           0.432475   \n",
       "No Aplica                                                         0.140941   \n",
       "No sabe                                                           0.883466   \n",
       "Postgrado                                                         0.051117   \n",
       "Primaria completa                                                 1.715126   \n",
       "Primaria incompleta                                               3.105428   \n",
       "Secundaria (Bachillerato) completa                                2.961926   \n",
       "Secundaria (Bachillerato) incompleta                              4.707880   \n",
       "Técnica o tecnológica completa                                    0.580212   \n",
       "Técnica o tecnológica incompleta                                  0.236182   \n",
       "\n",
       "FAMI_EDUCACIONMADRE                   Técnica o tecnológica completa  \\\n",
       "FAMI_EDUCACIONPADRE                                                    \n",
       "Educación profesional completa                              1.298114   \n",
       "Educación profesional incompleta                            0.308868   \n",
       "Ninguno                                                     0.083718   \n",
       "No Aplica                                                   0.119765   \n",
       "No sabe                                                     0.624730   \n",
       "Postgrado                                                   0.171769   \n",
       "Primaria completa                                           0.525155   \n",
       "Primaria incompleta                                         0.690423   \n",
       "Secundaria (Bachillerato) completa                          2.517435   \n",
       "Secundaria (Bachillerato) incompleta                        1.163477   \n",
       "Técnica o tecnológica completa                              2.279284   \n",
       "Técnica o tecnológica incompleta                            0.317339   \n",
       "\n",
       "FAMI_EDUCACIONMADRE                   Técnica o tecnológica incompleta  \n",
       "FAMI_EDUCACIONPADRE                                                     \n",
       "Educación profesional completa                                0.268290  \n",
       "Educación profesional incompleta                              0.102431  \n",
       "Ninguno                                                       0.048359  \n",
       "No Aplica                                                     0.035260  \n",
       "No sabe                                                       0.168321  \n",
       "Postgrado                                                     0.034570  \n",
       "Primaria completa                                             0.186050  \n",
       "Primaria incompleta                                           0.244258  \n",
       "Secundaria (Bachillerato) completa                            0.803097  \n",
       "Secundaria (Bachillerato) incompleta                          0.422626  \n",
       "Técnica o tecnológica completa                                0.361364  \n",
       "Técnica o tecnológica incompleta                              0.398298  "
      ]
     },
     "execution_count": 62,
     "metadata": {},
     "output_type": "execute_result"
    }
   ],
   "source": [
    "pd.crosstab(data['FAMI_EDUCACIONPADRE'], [data['FAMI_EDUCACIONMADRE']])/data.shape[0]*100"
   ]
  },
  {
   "cell_type": "code",
   "execution_count": 63,
   "metadata": {},
   "outputs": [
    {
     "data": {
      "text/html": [
       "<div>\n",
       "<style scoped>\n",
       "    .dataframe tbody tr th:only-of-type {\n",
       "        vertical-align: middle;\n",
       "    }\n",
       "\n",
       "    .dataframe tbody tr th {\n",
       "        vertical-align: top;\n",
       "    }\n",
       "\n",
       "    .dataframe thead th {\n",
       "        text-align: right;\n",
       "    }\n",
       "</style>\n",
       "<table border=\"1\" class=\"dataframe\">\n",
       "  <thead>\n",
       "    <tr style=\"text-align: right;\">\n",
       "      <th>FAMI_PERSONASHOGAR</th>\n",
       "      <th>1 a 2</th>\n",
       "      <th>3 a 4</th>\n",
       "      <th>5 a 6</th>\n",
       "      <th>7 a 8</th>\n",
       "      <th>9 o más</th>\n",
       "    </tr>\n",
       "    <tr>\n",
       "      <th>FAMI_ESTRATOVIVIENDA</th>\n",
       "      <th></th>\n",
       "      <th></th>\n",
       "      <th></th>\n",
       "      <th></th>\n",
       "      <th></th>\n",
       "    </tr>\n",
       "  </thead>\n",
       "  <tbody>\n",
       "    <tr>\n",
       "      <th>Estrato 1</th>\n",
       "      <td>2.168284</td>\n",
       "      <td>14.035589</td>\n",
       "      <td>11.965599</td>\n",
       "      <td>3.666434</td>\n",
       "      <td>1.395227</td>\n",
       "    </tr>\n",
       "    <tr>\n",
       "      <th>Estrato 2</th>\n",
       "      <td>2.704470</td>\n",
       "      <td>18.080524</td>\n",
       "      <td>11.849182</td>\n",
       "      <td>2.870822</td>\n",
       "      <td>1.124474</td>\n",
       "    </tr>\n",
       "    <tr>\n",
       "      <th>Estrato 3</th>\n",
       "      <td>1.629636</td>\n",
       "      <td>10.935972</td>\n",
       "      <td>6.018700</td>\n",
       "      <td>1.344110</td>\n",
       "      <td>0.563764</td>\n",
       "    </tr>\n",
       "    <tr>\n",
       "      <th>Estrato 4</th>\n",
       "      <td>0.392487</td>\n",
       "      <td>2.660445</td>\n",
       "      <td>1.272014</td>\n",
       "      <td>0.265828</td>\n",
       "      <td>0.114447</td>\n",
       "    </tr>\n",
       "    <tr>\n",
       "      <th>Estrato 5</th>\n",
       "      <td>0.131683</td>\n",
       "      <td>0.831266</td>\n",
       "      <td>0.441536</td>\n",
       "      <td>0.102923</td>\n",
       "      <td>0.043435</td>\n",
       "    </tr>\n",
       "    <tr>\n",
       "      <th>Estrato 6</th>\n",
       "      <td>0.058208</td>\n",
       "      <td>0.360182</td>\n",
       "      <td>0.223575</td>\n",
       "      <td>0.064315</td>\n",
       "      <td>0.038806</td>\n",
       "    </tr>\n",
       "    <tr>\n",
       "      <th>Sin Estrato</th>\n",
       "      <td>0.174723</td>\n",
       "      <td>0.888785</td>\n",
       "      <td>0.943940</td>\n",
       "      <td>0.413959</td>\n",
       "      <td>0.224658</td>\n",
       "    </tr>\n",
       "  </tbody>\n",
       "</table>\n",
       "</div>"
      ],
      "text/plain": [
       "FAMI_PERSONASHOGAR       1 a 2      3 a 4      5 a 6     7 a 8   9 o más\n",
       "FAMI_ESTRATOVIVIENDA                                                    \n",
       "Estrato 1             2.168284  14.035589  11.965599  3.666434  1.395227\n",
       "Estrato 2             2.704470  18.080524  11.849182  2.870822  1.124474\n",
       "Estrato 3             1.629636  10.935972   6.018700  1.344110  0.563764\n",
       "Estrato 4             0.392487   2.660445   1.272014  0.265828  0.114447\n",
       "Estrato 5             0.131683   0.831266   0.441536  0.102923  0.043435\n",
       "Estrato 6             0.058208   0.360182   0.223575  0.064315  0.038806\n",
       "Sin Estrato           0.174723   0.888785   0.943940  0.413959  0.224658"
      ]
     },
     "execution_count": 63,
     "metadata": {},
     "output_type": "execute_result"
    }
   ],
   "source": [
    "pd.crosstab(data['FAMI_ESTRATOVIVIENDA'], [data['FAMI_PERSONASHOGAR']])/data.shape[0]*100\n"
   ]
  },
  {
   "cell_type": "code",
   "execution_count": 64,
   "metadata": {},
   "outputs": [
    {
     "data": {
      "text/html": [
       "<div>\n",
       "<style scoped>\n",
       "    .dataframe tbody tr th:only-of-type {\n",
       "        vertical-align: middle;\n",
       "    }\n",
       "\n",
       "    .dataframe tbody tr th {\n",
       "        vertical-align: top;\n",
       "    }\n",
       "\n",
       "    .dataframe thead th {\n",
       "        text-align: right;\n",
       "    }\n",
       "</style>\n",
       "<table border=\"1\" class=\"dataframe\">\n",
       "  <thead>\n",
       "    <tr style=\"text-align: right;\">\n",
       "      <th>ESTU_NSE_INDIVIDUAL</th>\n",
       "      <th>NSE1</th>\n",
       "      <th>NSE2</th>\n",
       "      <th>NSE3</th>\n",
       "      <th>NSE4</th>\n",
       "    </tr>\n",
       "    <tr>\n",
       "      <th>FAMI_ESTRATOVIVIENDA</th>\n",
       "      <th></th>\n",
       "      <th></th>\n",
       "      <th></th>\n",
       "      <th></th>\n",
       "    </tr>\n",
       "  </thead>\n",
       "  <tbody>\n",
       "    <tr>\n",
       "      <th>Estrato 1</th>\n",
       "      <td>10.158876</td>\n",
       "      <td>16.577253</td>\n",
       "      <td>6.194900</td>\n",
       "      <td>0.300103</td>\n",
       "    </tr>\n",
       "    <tr>\n",
       "      <th>Estrato 2</th>\n",
       "      <td>3.627431</td>\n",
       "      <td>15.204187</td>\n",
       "      <td>16.374755</td>\n",
       "      <td>1.423100</td>\n",
       "    </tr>\n",
       "    <tr>\n",
       "      <th>Estrato 3</th>\n",
       "      <td>0.859828</td>\n",
       "      <td>4.571076</td>\n",
       "      <td>11.716613</td>\n",
       "      <td>3.344663</td>\n",
       "    </tr>\n",
       "    <tr>\n",
       "      <th>Estrato 4</th>\n",
       "      <td>0.241894</td>\n",
       "      <td>0.783793</td>\n",
       "      <td>1.754030</td>\n",
       "      <td>1.925503</td>\n",
       "    </tr>\n",
       "    <tr>\n",
       "      <th>Estrato 5</th>\n",
       "      <td>0.109818</td>\n",
       "      <td>0.340189</td>\n",
       "      <td>0.401943</td>\n",
       "      <td>0.698894</td>\n",
       "    </tr>\n",
       "    <tr>\n",
       "      <th>Estrato 6</th>\n",
       "      <td>0.073474</td>\n",
       "      <td>0.227022</td>\n",
       "      <td>0.162215</td>\n",
       "      <td>0.282374</td>\n",
       "    </tr>\n",
       "    <tr>\n",
       "      <th>Sin Estrato</th>\n",
       "      <td>1.137278</td>\n",
       "      <td>1.156878</td>\n",
       "      <td>0.321377</td>\n",
       "      <td>0.030532</td>\n",
       "    </tr>\n",
       "  </tbody>\n",
       "</table>\n",
       "</div>"
      ],
      "text/plain": [
       "ESTU_NSE_INDIVIDUAL        NSE1       NSE2       NSE3      NSE4\n",
       "FAMI_ESTRATOVIVIENDA                                           \n",
       "Estrato 1             10.158876  16.577253   6.194900  0.300103\n",
       "Estrato 2              3.627431  15.204187  16.374755  1.423100\n",
       "Estrato 3              0.859828   4.571076  11.716613  3.344663\n",
       "Estrato 4              0.241894   0.783793   1.754030  1.925503\n",
       "Estrato 5              0.109818   0.340189   0.401943  0.698894\n",
       "Estrato 6              0.073474   0.227022   0.162215  0.282374\n",
       "Sin Estrato            1.137278   1.156878   0.321377  0.030532"
      ]
     },
     "execution_count": 64,
     "metadata": {},
     "output_type": "execute_result"
    }
   ],
   "source": [
    "pd.crosstab(data['FAMI_ESTRATOVIVIENDA'], [data['ESTU_NSE_INDIVIDUAL']])/data.shape[0] * 100"
   ]
  },
  {
   "cell_type": "code",
   "execution_count": 65,
   "metadata": {},
   "outputs": [
    {
     "data": {
      "text/html": [
       "<div>\n",
       "<style scoped>\n",
       "    .dataframe tbody tr th:only-of-type {\n",
       "        vertical-align: middle;\n",
       "    }\n",
       "\n",
       "    .dataframe tbody tr th {\n",
       "        vertical-align: top;\n",
       "    }\n",
       "\n",
       "    .dataframe thead th {\n",
       "        text-align: right;\n",
       "    }\n",
       "</style>\n",
       "<table border=\"1\" class=\"dataframe\">\n",
       "  <thead>\n",
       "    <tr style=\"text-align: right;\">\n",
       "      <th>COLE_AREA_UBICACION</th>\n",
       "      <th>RURAL</th>\n",
       "      <th>URBANO</th>\n",
       "    </tr>\n",
       "    <tr>\n",
       "      <th>FAMI_ESTRATOVIVIENDA</th>\n",
       "      <th></th>\n",
       "      <th></th>\n",
       "    </tr>\n",
       "  </thead>\n",
       "  <tbody>\n",
       "    <tr>\n",
       "      <th>Estrato 1</th>\n",
       "      <td>7.472430</td>\n",
       "      <td>25.758702</td>\n",
       "    </tr>\n",
       "    <tr>\n",
       "      <th>Estrato 2</th>\n",
       "      <td>4.033806</td>\n",
       "      <td>32.595667</td>\n",
       "    </tr>\n",
       "    <tr>\n",
       "      <th>Estrato 3</th>\n",
       "      <td>1.472641</td>\n",
       "      <td>19.019540</td>\n",
       "    </tr>\n",
       "    <tr>\n",
       "      <th>Estrato 4</th>\n",
       "      <td>0.519443</td>\n",
       "      <td>4.185778</td>\n",
       "    </tr>\n",
       "    <tr>\n",
       "      <th>Estrato 5</th>\n",
       "      <td>0.226136</td>\n",
       "      <td>1.324707</td>\n",
       "    </tr>\n",
       "    <tr>\n",
       "      <th>Estrato 6</th>\n",
       "      <td>0.141729</td>\n",
       "      <td>0.603357</td>\n",
       "    </tr>\n",
       "    <tr>\n",
       "      <th>Sin Estrato</th>\n",
       "      <td>1.109799</td>\n",
       "      <td>1.536266</td>\n",
       "    </tr>\n",
       "  </tbody>\n",
       "</table>\n",
       "</div>"
      ],
      "text/plain": [
       "COLE_AREA_UBICACION      RURAL     URBANO\n",
       "FAMI_ESTRATOVIVIENDA                     \n",
       "Estrato 1             7.472430  25.758702\n",
       "Estrato 2             4.033806  32.595667\n",
       "Estrato 3             1.472641  19.019540\n",
       "Estrato 4             0.519443   4.185778\n",
       "Estrato 5             0.226136   1.324707\n",
       "Estrato 6             0.141729   0.603357\n",
       "Sin Estrato           1.109799   1.536266"
      ]
     },
     "execution_count": 65,
     "metadata": {},
     "output_type": "execute_result"
    }
   ],
   "source": [
    "pd.crosstab(data['FAMI_ESTRATOVIVIENDA'], [data['COLE_AREA_UBICACION']])/data.shape[0] * 100"
   ]
  },
  {
   "cell_type": "code",
   "execution_count": 66,
   "metadata": {},
   "outputs": [
    {
     "data": {
      "text/html": [
       "<div>\n",
       "<style scoped>\n",
       "    .dataframe tbody tr th:only-of-type {\n",
       "        vertical-align: middle;\n",
       "    }\n",
       "\n",
       "    .dataframe tbody tr th {\n",
       "        vertical-align: top;\n",
       "    }\n",
       "\n",
       "    .dataframe thead th {\n",
       "        text-align: right;\n",
       "    }\n",
       "</style>\n",
       "<table border=\"1\" class=\"dataframe\">\n",
       "  <thead>\n",
       "    <tr style=\"text-align: right;\">\n",
       "      <th>ESTU_FECHANACIMIENTO</th>\n",
       "      <th>14</th>\n",
       "      <th>15</th>\n",
       "      <th>16</th>\n",
       "      <th>17</th>\n",
       "      <th>18</th>\n",
       "      <th>19</th>\n",
       "      <th>20</th>\n",
       "      <th>21</th>\n",
       "      <th>22</th>\n",
       "    </tr>\n",
       "    <tr>\n",
       "      <th>FAMI_ESTRATOVIVIENDA</th>\n",
       "      <th></th>\n",
       "      <th></th>\n",
       "      <th></th>\n",
       "      <th></th>\n",
       "      <th></th>\n",
       "      <th></th>\n",
       "      <th></th>\n",
       "      <th></th>\n",
       "      <th></th>\n",
       "    </tr>\n",
       "  </thead>\n",
       "  <tbody>\n",
       "    <tr>\n",
       "      <th>Estrato 1</th>\n",
       "      <td>516</td>\n",
       "      <td>13173</td>\n",
       "      <td>113349</td>\n",
       "      <td>109769</td>\n",
       "      <td>60033</td>\n",
       "      <td>24672</td>\n",
       "      <td>9143</td>\n",
       "      <td>4201</td>\n",
       "      <td>2546</td>\n",
       "    </tr>\n",
       "    <tr>\n",
       "      <th>Estrato 2</th>\n",
       "      <td>454</td>\n",
       "      <td>13873</td>\n",
       "      <td>142786</td>\n",
       "      <td>122529</td>\n",
       "      <td>59571</td>\n",
       "      <td>21418</td>\n",
       "      <td>6612</td>\n",
       "      <td>2872</td>\n",
       "      <td>1791</td>\n",
       "    </tr>\n",
       "    <tr>\n",
       "      <th>Estrato 3</th>\n",
       "      <td>256</td>\n",
       "      <td>7260</td>\n",
       "      <td>83595</td>\n",
       "      <td>70324</td>\n",
       "      <td>31322</td>\n",
       "      <td>10358</td>\n",
       "      <td>2972</td>\n",
       "      <td>1222</td>\n",
       "      <td>752</td>\n",
       "    </tr>\n",
       "    <tr>\n",
       "      <th>Estrato 4</th>\n",
       "      <td>72</td>\n",
       "      <td>1523</td>\n",
       "      <td>19075</td>\n",
       "      <td>16726</td>\n",
       "      <td>6910</td>\n",
       "      <td>2248</td>\n",
       "      <td>705</td>\n",
       "      <td>306</td>\n",
       "      <td>208</td>\n",
       "    </tr>\n",
       "    <tr>\n",
       "      <th>Estrato 5</th>\n",
       "      <td>22</td>\n",
       "      <td>398</td>\n",
       "      <td>5299</td>\n",
       "      <td>5929</td>\n",
       "      <td>2665</td>\n",
       "      <td>893</td>\n",
       "      <td>315</td>\n",
       "      <td>139</td>\n",
       "      <td>86</td>\n",
       "    </tr>\n",
       "    <tr>\n",
       "      <th>Estrato 6</th>\n",
       "      <td>6</td>\n",
       "      <td>163</td>\n",
       "      <td>2081</td>\n",
       "      <td>2753</td>\n",
       "      <td>1596</td>\n",
       "      <td>566</td>\n",
       "      <td>232</td>\n",
       "      <td>117</td>\n",
       "      <td>51</td>\n",
       "    </tr>\n",
       "    <tr>\n",
       "      <th>Sin Estrato</th>\n",
       "      <td>50</td>\n",
       "      <td>912</td>\n",
       "      <td>6980</td>\n",
       "      <td>8201</td>\n",
       "      <td>5519</td>\n",
       "      <td>2874</td>\n",
       "      <td>1269</td>\n",
       "      <td>684</td>\n",
       "      <td>377</td>\n",
       "    </tr>\n",
       "  </tbody>\n",
       "</table>\n",
       "</div>"
      ],
      "text/plain": [
       "ESTU_FECHANACIMIENTO   14     15      16      17     18     19    20    21  \\\n",
       "FAMI_ESTRATOVIVIENDA                                                         \n",
       "Estrato 1             516  13173  113349  109769  60033  24672  9143  4201   \n",
       "Estrato 2             454  13873  142786  122529  59571  21418  6612  2872   \n",
       "Estrato 3             256   7260   83595   70324  31322  10358  2972  1222   \n",
       "Estrato 4              72   1523   19075   16726   6910   2248   705   306   \n",
       "Estrato 5              22    398    5299    5929   2665    893   315   139   \n",
       "Estrato 6               6    163    2081    2753   1596    566   232   117   \n",
       "Sin Estrato            50    912    6980    8201   5519   2874  1269   684   \n",
       "\n",
       "ESTU_FECHANACIMIENTO    22  \n",
       "FAMI_ESTRATOVIVIENDA        \n",
       "Estrato 1             2546  \n",
       "Estrato 2             1791  \n",
       "Estrato 3              752  \n",
       "Estrato 4              208  \n",
       "Estrato 5               86  \n",
       "Estrato 6               51  \n",
       "Sin Estrato            377  "
      ]
     },
     "execution_count": 66,
     "metadata": {},
     "output_type": "execute_result"
    }
   ],
   "source": [
    "pd.crosstab(data['FAMI_ESTRATOVIVIENDA'], [data['ESTU_FECHANACIMIENTO']])"
   ]
  },
  {
   "cell_type": "code",
   "execution_count": 67,
   "metadata": {},
   "outputs": [
    {
     "data": {
      "text/html": [
       "<div>\n",
       "<style scoped>\n",
       "    .dataframe tbody tr th:only-of-type {\n",
       "        vertical-align: middle;\n",
       "    }\n",
       "\n",
       "    .dataframe tbody tr th {\n",
       "        vertical-align: top;\n",
       "    }\n",
       "\n",
       "    .dataframe thead th {\n",
       "        text-align: right;\n",
       "    }\n",
       "</style>\n",
       "<table border=\"1\" class=\"dataframe\">\n",
       "  <thead>\n",
       "    <tr style=\"text-align: right;\">\n",
       "      <th>FAMI_NUMLIBROS</th>\n",
       "      <th>0 A 10 LIBROS</th>\n",
       "      <th>11 A 25 LIBROS</th>\n",
       "      <th>26 A 100 LIBROS</th>\n",
       "      <th>MÁS DE 100 LIBROS</th>\n",
       "    </tr>\n",
       "    <tr>\n",
       "      <th>FAMI_ESTRATOVIVIENDA</th>\n",
       "      <th></th>\n",
       "      <th></th>\n",
       "      <th></th>\n",
       "      <th></th>\n",
       "    </tr>\n",
       "  </thead>\n",
       "  <tbody>\n",
       "    <tr>\n",
       "      <th>Estrato 1</th>\n",
       "      <td>174245</td>\n",
       "      <td>100405</td>\n",
       "      <td>49249</td>\n",
       "      <td>13503</td>\n",
       "    </tr>\n",
       "    <tr>\n",
       "      <th>Estrato 2</th>\n",
       "      <td>143552</td>\n",
       "      <td>123065</td>\n",
       "      <td>81788</td>\n",
       "      <td>23501</td>\n",
       "    </tr>\n",
       "    <tr>\n",
       "      <th>Estrato 3</th>\n",
       "      <td>58937</td>\n",
       "      <td>65993</td>\n",
       "      <td>60582</td>\n",
       "      <td>22549</td>\n",
       "    </tr>\n",
       "    <tr>\n",
       "      <th>Estrato 4</th>\n",
       "      <td>10182</td>\n",
       "      <td>13097</td>\n",
       "      <td>15907</td>\n",
       "      <td>8587</td>\n",
       "    </tr>\n",
       "    <tr>\n",
       "      <th>Estrato 5</th>\n",
       "      <td>3334</td>\n",
       "      <td>3948</td>\n",
       "      <td>5215</td>\n",
       "      <td>3249</td>\n",
       "    </tr>\n",
       "    <tr>\n",
       "      <th>Estrato 6</th>\n",
       "      <td>1834</td>\n",
       "      <td>1831</td>\n",
       "      <td>2211</td>\n",
       "      <td>1689</td>\n",
       "    </tr>\n",
       "    <tr>\n",
       "      <th>Sin Estrato</th>\n",
       "      <td>15009</td>\n",
       "      <td>7053</td>\n",
       "      <td>3265</td>\n",
       "      <td>1539</td>\n",
       "    </tr>\n",
       "  </tbody>\n",
       "</table>\n",
       "</div>"
      ],
      "text/plain": [
       "FAMI_NUMLIBROS        0 A 10 LIBROS  11 A 25 LIBROS  26 A 100 LIBROS  \\\n",
       "FAMI_ESTRATOVIVIENDA                                                   \n",
       "Estrato 1                    174245          100405            49249   \n",
       "Estrato 2                    143552          123065            81788   \n",
       "Estrato 3                     58937           65993            60582   \n",
       "Estrato 4                     10182           13097            15907   \n",
       "Estrato 5                      3334            3948             5215   \n",
       "Estrato 6                      1834            1831             2211   \n",
       "Sin Estrato                   15009            7053             3265   \n",
       "\n",
       "FAMI_NUMLIBROS        MÁS DE 100 LIBROS  \n",
       "FAMI_ESTRATOVIVIENDA                     \n",
       "Estrato 1                         13503  \n",
       "Estrato 2                         23501  \n",
       "Estrato 3                         22549  \n",
       "Estrato 4                          8587  \n",
       "Estrato 5                          3249  \n",
       "Estrato 6                          1689  \n",
       "Sin Estrato                        1539  "
      ]
     },
     "execution_count": 67,
     "metadata": {},
     "output_type": "execute_result"
    }
   ],
   "source": [
    "pd.crosstab(data['FAMI_ESTRATOVIVIENDA'], [data['FAMI_NUMLIBROS']])"
   ]
  },
  {
   "cell_type": "markdown",
   "metadata": {},
   "source": [
    "## Diagramas de dispersion"
   ]
  },
  {
   "cell_type": "code",
   "execution_count": 68,
   "metadata": {},
   "outputs": [
    {
     "data": {
      "text/plain": [
       "Text(0, 0.5, 'ESTU_INSE_INDIVIDUAL')"
      ]
     },
     "execution_count": 68,
     "metadata": {},
     "output_type": "execute_result"
    },
    {
     "data": {
      "image/png": "[encoded data removed]",
      "text/plain": [
       "<Figure size 432x288 with 1 Axes>"
      ]
     },
     "metadata": {
      "needs_background": "light"
     },
     "output_type": "display_data"
    }
   ],
   "source": [
    "colors = {'M':'r', 'F':'b'}\n",
    "fig, ax = plt.subplots()\n",
    "for i in range(1000000):\n",
    "    if data['PUNT_GLOBAL'][i] > 420:\n",
    "        ax.scatter(data['PUNT_GLOBAL'][i], data['ESTU_INSE_INDIVIDUAL'][i],color=colors[data['ESTU_GENERO'][i]])\n",
    "ax.set_title('Iris Dataset')\n",
    "ax.set_xlabel('PUNT_GLOBAL')\n",
    "ax.set_ylabel('ESTU_INSE_INDIVIDUAL')"
   ]
  },
  {
   "cell_type": "code",
   "execution_count": 69,
   "metadata": {},
   "outputs": [
    {
     "data": {
      "text/plain": [
       "Text(0, 0.5, 'ESTU_INSE_INDIVIDUAL')"
      ]
     },
     "execution_count": 69,
     "metadata": {},
     "output_type": "execute_result"
    },
    {
     "data": {
      "image/png": "[encoded data removed]",
      "text/plain": [
       "<Figure size 432x288 with 1 Axes>"
      ]
     },
     "metadata": {
      "needs_background": "light"
     },
     "output_type": "display_data"
    }
   ],
   "source": [
    "colors = {'M':'r', 'F':'b'}\n",
    "fig, ax = plt.subplots()\n",
    "for i in range(1000000):\n",
    "    if data['PUNT_GLOBAL'][i] < 150:\n",
    "        ax.scatter(data['PUNT_GLOBAL'][i], data['ESTU_INSE_INDIVIDUAL'][i],color=colors[data['ESTU_GENERO'][i]])\n",
    "ax.set_title('Iris Dataset')\n",
    "ax.set_xlabel('PUNT_GLOBAL')\n",
    "ax.set_ylabel('ESTU_INSE_INDIVIDUAL')"
   ]
  },
  {
   "cell_type": "markdown",
   "metadata": {},
   "source": [
    "# Entropia"
   ]
  },
  {
   "cell_type": "code",
   "execution_count": 70,
   "metadata": {},
   "outputs": [],
   "source": [
    "columnEval = [\"FAMI_TIENESERVICIOTV\",\"FAMI_TIENECOMPUTADOR\",\"FAMI_TIENEAUTOMOVIL\",\"FAMI_TIENEMOTOCICLETA\",\"FAMI_TIENECONSOLAVIDEOJUEGOS\"]"
   ]
  },
  {
   "cell_type": "code",
   "execution_count": 71,
   "metadata": {},
   "outputs": [],
   "source": [
    "def EntropySum(n):\n",
    "    if n == 0:\n",
    "        return 0\n",
    "    if n == 1:\n",
    "        return 0\n",
    "    else:\n",
    "        return n*math.log(n,2)+(1-n)*math.log(1-n,2)\n",
    "\n",
    "def compare(i,j,colPass):\n",
    "    count = 0\n",
    "    for col in columnEval:\n",
    "        if data.iloc[i][col] == data.iloc[j][col]:\n",
    "            if col != colPass:\n",
    "                count+=1\n",
    "    return count"
   ]
  },
  {
   "cell_type": "code",
   "execution_count": 72,
   "metadata": {},
   "outputs": [
    {
     "data": {
      "text/plain": [
       "'\\nfor i in range(dataSize):\\n    for j in range(i+1,dataSize):\\n        result = compare(i, j, \"\")\\n        entropy += EntropySum(result/data.shape[1])\\n        #if j%100 == 0:\\n        #    print(\"R\",i,j,\"=\",result)\\n    print(\"R\",i,j,\"=\",entropy)\\nprint(\"EntropyTotal\",entropy*-1)\\n'"
      ]
     },
     "execution_count": 72,
     "metadata": {},
     "output_type": "execute_result"
    }
   ],
   "source": [
    "entropy = 0\n",
    "dataSize = 1000 #data.shape[0]\n",
    "\n",
    "\"\"\"\n",
    "for i in range(dataSize):\n",
    "    for j in range(i+1,dataSize):\n",
    "        result = compare(i, j, \"\")\n",
    "        entropy += EntropySum(result/data.shape[1])\n",
    "        #if j%100 == 0:\n",
    "        #    print(\"R\",i,j,\"=\",result)\n",
    "    print(\"R\",i,j,\"=\",entropy)\n",
    "print(\"EntropyTotal\",entropy*-1)\n",
    "\"\"\"\n"
   ]
  },
  {
   "cell_type": "markdown",
   "metadata": {},
   "source": [
    "## crear csv para k-modes transformar todos los datos en categoricos"
   ]
  },
  {
   "cell_type": "code",
   "execution_count": 73,
   "metadata": {},
   "outputs": [
    {
     "data": {
      "text/plain": [
       "PUNT_GLOBAL\n",
       "0       2\n",
       "17      1\n",
       "36      1\n",
       "52      1\n",
       "58      1\n",
       "78      1\n",
       "85      1\n",
       "92      4\n",
       "93      2\n",
       "95      2\n",
       "96      1\n",
       "97      1\n",
       "98      1\n",
       "101     1\n",
       "102     1\n",
       "104     2\n",
       "105     2\n",
       "106     1\n",
       "107     2\n",
       "108     2\n",
       "109     2\n",
       "110     2\n",
       "111     1\n",
       "112     2\n",
       "113     4\n",
       "114     2\n",
       "116     1\n",
       "117     1\n",
       "118     1\n",
       "119     1\n",
       "       ..\n",
       "439     7\n",
       "440     7\n",
       "441    14\n",
       "442     9\n",
       "443    11\n",
       "444    11\n",
       "445    11\n",
       "446    10\n",
       "447     3\n",
       "448     4\n",
       "449     6\n",
       "451     2\n",
       "452     2\n",
       "453     5\n",
       "454     2\n",
       "455     1\n",
       "457     1\n",
       "459     1\n",
       "460     3\n",
       "462     2\n",
       "463     4\n",
       "465     2\n",
       "468     4\n",
       "469     1\n",
       "470     2\n",
       "471     2\n",
       "472     1\n",
       "473     1\n",
       "476     2\n",
       "478     1\n",
       "Length: 379, dtype: int64"
      ]
     },
     "execution_count": 73,
     "metadata": {},
     "output_type": "execute_result"
    }
   ],
   "source": [
    "data.groupby(\"PUNT_GLOBAL\").size()"
   ]
  },
  {
   "cell_type": "code",
   "execution_count": 99,
   "metadata": {},
   "outputs": [],
   "source": [
    "data[\"ESTU_INSE_INDIVIDUAL\"] = data[\"ESTU_INSE_INDIVIDUAL\"].fillna(50.0)"
   ]
  },
  {
   "cell_type": "code",
   "execution_count": 119,
   "metadata": {},
   "outputs": [],
   "source": [
    "data[\"PUNT_INGLES\"] = data[\"PUNT_INGLES\"].fillna(50.0)"
   ]
  },
  {
   "cell_type": "code",
   "execution_count": 74,
   "metadata": {},
   "outputs": [],
   "source": [
    "data[\"PUNT_GLOBAL\"] = data.apply(lambda x: puntajeGlobalCategorico(x[\"PUNT_GLOBAL\"]),axis=1 )"
   ]
  },
  {
   "cell_type": "code",
   "execution_count": 105,
   "metadata": {},
   "outputs": [],
   "source": [
    "data[\"PUNT_LECTURA_CRITICA\"] = data.apply(lambda x: puntajeCategorico(x[\"PUNT_LECTURA_CRITICA\"]),axis=1 )"
   ]
  },
  {
   "cell_type": "code",
   "execution_count": 107,
   "metadata": {},
   "outputs": [],
   "source": [
    "data[\"PUNT_MATEMATICAS\"] = data.apply(lambda x: puntajeCategorico(x[\"PUNT_MATEMATICAS\"]),axis=1 )"
   ]
  },
  {
   "cell_type": "code",
   "execution_count": 109,
   "metadata": {},
   "outputs": [],
   "source": [
    "data[\"PUNT_C_NATURALES\"] = data.apply(lambda x: puntajeCategorico(x[\"PUNT_C_NATURALES\"]),axis=1 )"
   ]
  },
  {
   "cell_type": "code",
   "execution_count": 112,
   "metadata": {},
   "outputs": [],
   "source": [
    "data[\"PUNT_SOCIALES_CIUDADANAS\"] = data.apply(lambda x: puntajeCategorico(x[\"PUNT_SOCIALES_CIUDADANAS\"]),axis=1 )"
   ]
  },
  {
   "cell_type": "code",
   "execution_count": 121,
   "metadata": {},
   "outputs": [],
   "source": [
    "data[\"PUNT_INGLES\"] = data.apply(lambda x: puntajeCategorico(x[\"PUNT_INGLES\"]),axis=1 )"
   ]
  },
  {
   "cell_type": "code",
   "execution_count": 126,
   "metadata": {},
   "outputs": [],
   "source": [
    "data[\"ESTU_INSE_INDIVIDUAL\"] = data.apply(lambda x: inseIndividualCategorico(x[\"ESTU_INSE_INDIVIDUAL\"]),axis=1 ) "
   ]
  },
  {
   "cell_type": "code",
   "execution_count": 127,
   "metadata": {},
   "outputs": [
    {
     "data": {
      "text/plain": [
       "ESTU_INSE_INDIVIDUAL\n",
       "3         15\n",
       "4        147\n",
       "5       1181\n",
       "6       8142\n",
       "7      36870\n",
       "8      97511\n",
       "9     170400\n",
       "10    225940\n",
       "11    201013\n",
       "12    137467\n",
       "13     73095\n",
       "14     37439\n",
       "15     17717\n",
       "16      6360\n",
       "17      2022\n",
       "dtype: int64"
      ]
     },
     "execution_count": 127,
     "metadata": {},
     "output_type": "execute_result"
    }
   ],
   "source": [
    "data.groupby(\"ESTU_INSE_INDIVIDUAL\").size()"
   ]
  },
  {
   "cell_type": "code",
   "execution_count": 85,
   "metadata": {},
   "outputs": [
    {
     "data": {
      "text/plain": [
       "ESTU_NSE_INDIVIDUAL\n",
       "NSE1    164569\n",
       "NSE2    394557\n",
       "NSE3    374915\n",
       "NSE4     81278\n",
       "dtype: int64"
      ]
     },
     "execution_count": 85,
     "metadata": {},
     "output_type": "execute_result"
    }
   ],
   "source": [
    "data.groupby(\"ESTU_NSE_INDIVIDUAL\").size()"
   ]
  },
  {
   "cell_type": "code",
   "execution_count": 76,
   "metadata": {},
   "outputs": [
    {
     "data": {
      "text/html": [
       "<div>\n",
       "<style scoped>\n",
       "    .dataframe tbody tr th:only-of-type {\n",
       "        vertical-align: middle;\n",
       "    }\n",
       "\n",
       "    .dataframe tbody tr th {\n",
       "        vertical-align: top;\n",
       "    }\n",
       "\n",
       "    .dataframe thead th {\n",
       "        text-align: right;\n",
       "    }\n",
       "</style>\n",
       "<table border=\"1\" class=\"dataframe\">\n",
       "  <thead>\n",
       "    <tr style=\"text-align: right;\">\n",
       "      <th></th>\n",
       "      <th>ELECTRODOMESTICOS</th>\n",
       "      <th>ESTU_GENERO</th>\n",
       "      <th>ESTU_FECHANACIMIENTO</th>\n",
       "      <th>PERIODO</th>\n",
       "      <th>ESTU_DEPTO_RESIDE</th>\n",
       "      <th>FAMI_ESTRATOVIVIENDA</th>\n",
       "      <th>FAMI_PERSONASHOGAR</th>\n",
       "      <th>FAMI_CUARTOSHOGAR</th>\n",
       "      <th>FAMI_EDUCACIONPADRE</th>\n",
       "      <th>FAMI_EDUCACIONMADRE</th>\n",
       "      <th>...</th>\n",
       "      <th>COLE_JORNADA</th>\n",
       "      <th>PUNT_LECTURA_CRITICA</th>\n",
       "      <th>PUNT_MATEMATICAS</th>\n",
       "      <th>PUNT_C_NATURALES</th>\n",
       "      <th>PUNT_SOCIALES_CIUDADANAS</th>\n",
       "      <th>PUNT_INGLES</th>\n",
       "      <th>PUNT_GLOBAL</th>\n",
       "      <th>ESTU_NSE_ESTABLECIMIENTO</th>\n",
       "      <th>ESTU_INSE_INDIVIDUAL</th>\n",
       "      <th>ESTU_NSE_INDIVIDUAL</th>\n",
       "    </tr>\n",
       "  </thead>\n",
       "  <tbody>\n",
       "    <tr>\n",
       "      <th>0</th>\n",
       "      <td>10010</td>\n",
       "      <td>M</td>\n",
       "      <td>16</td>\n",
       "      <td>20182</td>\n",
       "      <td>ATLANTICO</td>\n",
       "      <td>Estrato 2</td>\n",
       "      <td>7 a 8</td>\n",
       "      <td>Cuatro</td>\n",
       "      <td>No sabe</td>\n",
       "      <td>No sabe</td>\n",
       "      <td>...</td>\n",
       "      <td>MAÑANA</td>\n",
       "      <td>63</td>\n",
       "      <td>69</td>\n",
       "      <td>54</td>\n",
       "      <td>57</td>\n",
       "      <td>65.0</td>\n",
       "      <td>7</td>\n",
       "      <td>2.0</td>\n",
       "      <td>53.0</td>\n",
       "      <td>NSE3</td>\n",
       "    </tr>\n",
       "    <tr>\n",
       "      <th>1</th>\n",
       "      <td>10010</td>\n",
       "      <td>M</td>\n",
       "      <td>17</td>\n",
       "      <td>20182</td>\n",
       "      <td>CORDOBA</td>\n",
       "      <td>Estrato 1</td>\n",
       "      <td>5 a 6</td>\n",
       "      <td>Dos</td>\n",
       "      <td>Secundaria (Bachillerato) completa</td>\n",
       "      <td>Primaria completa</td>\n",
       "      <td>...</td>\n",
       "      <td>UNICA</td>\n",
       "      <td>54</td>\n",
       "      <td>50</td>\n",
       "      <td>50</td>\n",
       "      <td>40</td>\n",
       "      <td>48.0</td>\n",
       "      <td>5</td>\n",
       "      <td>2.0</td>\n",
       "      <td>45.0</td>\n",
       "      <td>NSE2</td>\n",
       "    </tr>\n",
       "    <tr>\n",
       "      <th>2</th>\n",
       "      <td>0</td>\n",
       "      <td>M</td>\n",
       "      <td>16</td>\n",
       "      <td>20182</td>\n",
       "      <td>VALLE</td>\n",
       "      <td>Estrato 2</td>\n",
       "      <td>1 a 2</td>\n",
       "      <td>Dos</td>\n",
       "      <td>No sabe</td>\n",
       "      <td>Técnica o tecnológica incompleta</td>\n",
       "      <td>...</td>\n",
       "      <td>MAÑANA</td>\n",
       "      <td>59</td>\n",
       "      <td>43</td>\n",
       "      <td>46</td>\n",
       "      <td>45</td>\n",
       "      <td>47.0</td>\n",
       "      <td>5</td>\n",
       "      <td>2.0</td>\n",
       "      <td>45.0</td>\n",
       "      <td>NSE2</td>\n",
       "    </tr>\n",
       "    <tr>\n",
       "      <th>3</th>\n",
       "      <td>11101</td>\n",
       "      <td>M</td>\n",
       "      <td>17</td>\n",
       "      <td>20182</td>\n",
       "      <td>BOYACA</td>\n",
       "      <td>Estrato 3</td>\n",
       "      <td>3 a 4</td>\n",
       "      <td>Tres</td>\n",
       "      <td>No sabe</td>\n",
       "      <td>Educación profesional completa</td>\n",
       "      <td>...</td>\n",
       "      <td>MAÑANA</td>\n",
       "      <td>61</td>\n",
       "      <td>60</td>\n",
       "      <td>60</td>\n",
       "      <td>67</td>\n",
       "      <td>63.0</td>\n",
       "      <td>7</td>\n",
       "      <td>3.0</td>\n",
       "      <td>74.0</td>\n",
       "      <td>NSE4</td>\n",
       "    </tr>\n",
       "    <tr>\n",
       "      <th>4</th>\n",
       "      <td>10000</td>\n",
       "      <td>M</td>\n",
       "      <td>19</td>\n",
       "      <td>20182</td>\n",
       "      <td>BOGOTA</td>\n",
       "      <td>Estrato 2</td>\n",
       "      <td>7 a 8</td>\n",
       "      <td>Tres</td>\n",
       "      <td>No sabe</td>\n",
       "      <td>No sabe</td>\n",
       "      <td>...</td>\n",
       "      <td>COMPLETA</td>\n",
       "      <td>56</td>\n",
       "      <td>51</td>\n",
       "      <td>48</td>\n",
       "      <td>49</td>\n",
       "      <td>56.0</td>\n",
       "      <td>6</td>\n",
       "      <td>3.0</td>\n",
       "      <td>49.0</td>\n",
       "      <td>NSE2</td>\n",
       "    </tr>\n",
       "  </tbody>\n",
       "</table>\n",
       "<p>5 rows × 31 columns</p>\n",
       "</div>"
      ],
      "text/plain": [
       "   ELECTRODOMESTICOS ESTU_GENERO  ESTU_FECHANACIMIENTO  PERIODO  \\\n",
       "0              10010           M                    16    20182   \n",
       "1              10010           M                    17    20182   \n",
       "2                  0           M                    16    20182   \n",
       "3              11101           M                    17    20182   \n",
       "4              10000           M                    19    20182   \n",
       "\n",
       "  ESTU_DEPTO_RESIDE FAMI_ESTRATOVIVIENDA FAMI_PERSONASHOGAR FAMI_CUARTOSHOGAR  \\\n",
       "0         ATLANTICO            Estrato 2              7 a 8            Cuatro   \n",
       "1           CORDOBA            Estrato 1              5 a 6               Dos   \n",
       "2             VALLE            Estrato 2              1 a 2               Dos   \n",
       "3            BOYACA            Estrato 3              3 a 4              Tres   \n",
       "4            BOGOTA            Estrato 2              7 a 8              Tres   \n",
       "\n",
       "                  FAMI_EDUCACIONPADRE               FAMI_EDUCACIONMADRE  ...  \\\n",
       "0                             No sabe                           No sabe  ...   \n",
       "1  Secundaria (Bachillerato) completa                 Primaria completa  ...   \n",
       "2                             No sabe  Técnica o tecnológica incompleta  ...   \n",
       "3                             No sabe    Educación profesional completa  ...   \n",
       "4                             No sabe                           No sabe  ...   \n",
       "\n",
       "  COLE_JORNADA PUNT_LECTURA_CRITICA PUNT_MATEMATICAS PUNT_C_NATURALES  \\\n",
       "0       MAÑANA                   63               69               54   \n",
       "1        UNICA                   54               50               50   \n",
       "2       MAÑANA                   59               43               46   \n",
       "3       MAÑANA                   61               60               60   \n",
       "4     COMPLETA                   56               51               48   \n",
       "\n",
       "  PUNT_SOCIALES_CIUDADANAS PUNT_INGLES PUNT_GLOBAL ESTU_NSE_ESTABLECIMIENTO  \\\n",
       "0                       57        65.0           7                      2.0   \n",
       "1                       40        48.0           5                      2.0   \n",
       "2                       45        47.0           5                      2.0   \n",
       "3                       67        63.0           7                      3.0   \n",
       "4                       49        56.0           6                      3.0   \n",
       "\n",
       "  ESTU_INSE_INDIVIDUAL ESTU_NSE_INDIVIDUAL  \n",
       "0                 53.0                NSE3  \n",
       "1                 45.0                NSE2  \n",
       "2                 45.0                NSE2  \n",
       "3                 74.0                NSE4  \n",
       "4                 49.0                NSE2  \n",
       "\n",
       "[5 rows x 31 columns]"
      ]
     },
     "execution_count": 76,
     "metadata": {},
     "output_type": "execute_result"
    }
   ],
   "source": [
    "data.head()"
   ]
  },
  {
   "cell_type": "code",
   "execution_count": 103,
   "metadata": {},
   "outputs": [
    {
     "data": {
      "text/plain": [
       "Index(['ELECTRODOMESTICOS', 'ESTU_GENERO', 'ESTU_FECHANACIMIENTO', 'PERIODO',\n",
       "       'ESTU_DEPTO_RESIDE', 'FAMI_ESTRATOVIVIENDA', 'FAMI_PERSONASHOGAR',\n",
       "       'FAMI_CUARTOSHOGAR', 'FAMI_EDUCACIONPADRE', 'FAMI_EDUCACIONMADRE',\n",
       "       'FAMI_TRABAJOLABORPADRE', 'FAMI_TRABAJOLABORMADRE', 'FAMI_NUMLIBROS',\n",
       "       'FAMI_COMELECHEDERIVADOS', 'FAMI_COMECARNEPESCADOHUEVO',\n",
       "       'FAMI_COMECEREALFRUTOSLEGUMBRE', 'ESTU_DEDICACIONLECTURADIARIA',\n",
       "       'ESTU_DEDICACIONINTERNET', 'COLE_NATURALEZA', 'COLE_CARACTER',\n",
       "       'COLE_AREA_UBICACION', 'COLE_JORNADA', 'PUNT_LECTURA_CRITICA',\n",
       "       'PUNT_MATEMATICAS', 'PUNT_C_NATURALES', 'PUNT_SOCIALES_CIUDADANAS',\n",
       "       'PUNT_INGLES', 'PUNT_GLOBAL', 'ESTU_NSE_ESTABLECIMIENTO',\n",
       "       'ESTU_INSE_INDIVIDUAL', 'ESTU_NSE_INDIVIDUAL'],\n",
       "      dtype='object')"
      ]
     },
     "execution_count": 103,
     "metadata": {},
     "output_type": "execute_result"
    }
   ],
   "source": [
    "data.columns"
   ]
  },
  {
   "cell_type": "markdown",
   "metadata": {},
   "source": [
    "'ELECTRODOMESTICOS', 'ESTU_GENERO', 'ESTU_FECHANACIMIENTO',\n",
    "       'ESTU_DEPTO_RESIDE', 'FAMI_ESTRATOVIVIENDA', 'FAMI_PERSONASHOGAR',\n",
    "       'FAMI_CUARTOSHOGAR', 'FAMI_EDUCACIONPADRE', 'FAMI_EDUCACIONMADRE',\n",
    "       'FAMI_TRABAJOLABORPADRE', 'FAMI_TRABAJOLABORMADRE', 'FAMI_NUMLIBROS',\n",
    "        'ESTU_DEDICACIONLECTURADIARIA',\n",
    "       'ESTU_DEDICACIONINTERNET', 'COLE_NATURALEZA', 'COLE_CARACTER',\n",
    "       'COLE_AREA_UBICACION', 'COLE_JORNADA',\n",
    "       'PUNT_GLOBAL', 'ESTU_NSE_ESTABLECIMIENTO',\n",
    "       'ESTU_INSE_INDIVIDUAL', 'ESTU_NSE_INDIVIDUAL'"
   ]
  },
  {
   "cell_type": "code",
   "execution_count": 78,
   "metadata": {},
   "outputs": [],
   "source": [
    "#dropData =data.drop(columns=['FAMI_COMELECHEDERIVADOS','PERIODO','PUNT_INGLES','FAMI_COMECARNEPESCADOHUEVO','PUNT_LECTURA_CRITICA','PUNT_C_NATURALES','PUNT_MATEMATICAS','PUNT_SOCIALES_CIUDADANAS','FAMI_COMECEREALFRUTOSLEGUMBRE'])"
   ]
  },
  {
   "cell_type": "code",
   "execution_count": 79,
   "metadata": {},
   "outputs": [
    {
     "data": {
      "text/plain": [
       "22"
      ]
     },
     "execution_count": 79,
     "metadata": {},
     "output_type": "execute_result"
    }
   ],
   "source": [
    "arr = ['ELECTRODOMESTICOS', 'ESTU_GENERO', 'ESTU_FECHANACIMIENTO',\n",
    "       'ESTU_DEPTO_RESIDE', 'FAMI_ESTRATOVIVIENDA', 'FAMI_PERSONASHOGAR',\n",
    "       'FAMI_CUARTOSHOGAR', 'FAMI_EDUCACIONPADRE', 'FAMI_EDUCACIONMADRE',\n",
    "       'FAMI_TRABAJOLABORPADRE', 'FAMI_TRABAJOLABORMADRE', 'FAMI_NUMLIBROS',\n",
    "       'ESTU_DEDICACIONLECTURADIARIA',\n",
    "       'ESTU_DEDICACIONINTERNET', 'COLE_NATURALEZA', 'COLE_CARACTER',\n",
    "       'COLE_AREA_UBICACION', 'COLE_JORNADA',\n",
    "       'PUNT_GLOBAL', 'ESTU_NSE_ESTABLECIMIENTO',\n",
    "       'ESTU_INSE_INDIVIDUAL', 'ESTU_NSE_INDIVIDUAL']\n",
    "len(arr)"
   ]
  },
  {
   "cell_type": "code",
   "execution_count": 80,
   "metadata": {},
   "outputs": [],
   "source": [
    "#dropData.to_csv('kModesData.csv',header=True,index=False)"
   ]
  },
  {
   "cell_type": "code",
   "execution_count": 129,
   "metadata": {},
   "outputs": [],
   "source": [
    "data.to_csv('kModesData.csv',header=True,index=False)"
   ]
  },
  {
   "cell_type": "code",
   "execution_count": null,
   "metadata": {},
   "outputs": [],
   "source": []
  }
 ],
 "metadata": {
  "kernelspec": {
   "display_name": "Python 3",
   "language": "python",
   "name": "python3"
  },
  "language_info": {
   "codemirror_mode": {
    "name": "ipython",
    "version": 3
   },
   "file_extension": ".py",
   "mimetype": "text/x-python",
   "name": "python",
   "nbconvert_exporter": "python",
   "pygments_lexer": "ipython3",
   "version": "3.7.3"
  }
 },
 "nbformat": 4,
 "nbformat_minor": 2
}
