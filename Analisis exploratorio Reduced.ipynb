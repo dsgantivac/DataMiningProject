{
 "cells": [
  {
   "cell_type": "code",
   "execution_count": 45,
   "metadata": {},
   "outputs": [],
   "source": [
    "import pandas as pd\n",
    "import matplotlib.pyplot as plt \n",
    "import math\n",
    "from collections import Counter\n",
    "import random\n",
    "path = \"./Datasets/Saber_reducido.csv\""
   ]
  },
  {
   "cell_type": "code",
   "execution_count": 17,
   "metadata": {},
   "outputs": [],
   "source": [
    "Keys = [\"ESTU_GENERO\",\"ESTU_FECHANACIMIENTO\",\"PERIODO\",\"ESTU_DEPTO_RESIDE\",\"FAMI_ESTRATOVIVIENDA\",\"FAMI_PERSONASHOGAR\",\"FAMI_CUARTOSHOGAR\",\"FAMI_EDUCACIONPADRE\",\"FAMI_EDUCACIONMADRE\",\"FAMI_TRABAJOLABORPADRE\",\"FAMI_TRABAJOLABORMADRE\",\"FAMI_TIENESERVICIOTV\",\"FAMI_TIENECOMPUTADOR\",\"FAMI_TIENEAUTOMOVIL\",\"FAMI_TIENEMOTOCICLETA\",\"FAMI_TIENECONSOLAVIDEOJUEGOS\",\"FAMI_NUMLIBROS\",\"FAMI_COMELECHEDERIVADOS\",\"FAMI_COMECARNEPESCADOHUEVO\",\"FAMI_COMECEREALFRUTOSLEGUMBRE\",\"FAMI_SITUACIONECONOMICA\",\"ESTU_DEDICACIONLECTURADIARIA\",\"ESTU_DEDICACIONINTERNET\",\"COLE_NOMBRE_ESTABLECIMIENTO\",\"COLE_NATURALEZA\",\"COLE_CARACTER\",\"COLE_AREA_UBICACION\",\"COLE_JORNADA\",\"PUNT_LECTURA_CRITICA\",\"PERCENTIL_LECTURA_CRITICA\",\"PUNT_MATEMATICAS\",\"PERCENTIL_MATEMATICAS\",\"PUNT_C_NATURALES\",\"PERCENTIL_C_NATURALES\",\"PUNT_SOCIALES_CIUDADANAS\",\"PERCENTIL_SOCIALES_CIUDADANAS\",\"PUNT_INGLES\",\"PERCENTIL_INGLES\",\"PUNT_GLOBAL\",\"PERCENTIL_GLOBAL\",\"ESTU_NSE_ESTABLECIMIENTO\",\"ESTU_INSE_INDIVIDUAL\",\"ESTU_NSE_INDIVIDUAL\"]"
   ]
  },
  {
   "cell_type": "code",
   "execution_count": 18,
   "metadata": {},
   "outputs": [
    {
     "name": "stdout",
     "output_type": "stream",
     "text": [
      "ESTU_DEDICACIONLECTURADIARIA\n",
      "COLE_NATURALEZA\n"
     ]
    }
   ],
   "source": [
    "tmp = [\"ESTU_GENERO\",\"ESTU_FECHANACIMIENTO\",\"PERIODO\",\"ESTU_DEPTO_RESIDE\",\"FAMI_ESTRATOVIVIENDA\",\"FAMI_PERSONASHOGAR\",\"FAMI_CUARTOSHOGAR\",\"FAMI_EDUCACIONPADRE\",\"FAMI_EDUCACIONMADRE\",\"FAMI_TRABAJOLABORPADRE\",\"FAMI_TRABAJOLABORMADRE\",\"FAMI_TIENESERVICIOTV\",\"FAMI_TIENECOMPUTADOR\",\"FAMI_TIENEAUTOMOVIL\",\"FAMI_TIENEMOTOCICLETA\",\"FAMI_TIENECONSOLAVIDEOJUEGOS\",\"FAMI_NUMLIBROS\",\"FAMI_COMELECHEDERIVADOS\",\"FAMI_COMECARNEPESCADOHUEVO\",\"FAMI_COMECEREALFRUTOSLEGUMBRE\",\"FAMI_SITUACIONECONOMICA\",\"ESTU_DEDICACIONLECTURADIARIA \",\"ESTU_DEDICACIONINTERNET\",\"COLE_NOMBRE_ESTABLECIMIENTO\",\"COLE_NATURALEZA COLE_BILINGUE\",\"COLE_CARACTER\",\"COLE_AREA_UBICACION\",\"COLE_JORNADA\",\"PUNT_LECTURA_CRITICA\",\"PERCENTIL_LECTURA_CRITICA\",\"PUNT_MATEMATICAS\",\"PERCENTIL_MATEMATICAS\",\"PUNT_C_NATURALES\",\"PERCENTIL_C_NATURALES\",\"PUNT_SOCIALES_CIUDADANAS\",\"PERCENTIL_SOCIALES_CIUDADANAS\",\"PUNT_INGLES\",\"PERCENTIL_INGLES\",\"PUNT_GLOBAL\",\"PERCENTIL_GLOBAL\",\"ESTU_NSE_ESTABLECIMIENTO\",\"ESTU_INSE_INDIVIDUAL\",\"ESTU_NSE_INDIVIDUAL\",\n",
    "]\n",
    "\n",
    "for element in Keys:\n",
    "    if element not in tmp:\n",
    "        print(element)\n"
   ]
  },
  {
   "cell_type": "code",
   "execution_count": 52,
   "metadata": {},
   "outputs": [],
   "source": [
    "data = pd.read_csv(path, low_memory=False)"
   ]
  },
  {
   "cell_type": "code",
   "execution_count": 53,
   "metadata": {},
   "outputs": [
    {
     "data": {
      "text/html": [
       "<div>\n",
       "<style scoped>\n",
       "    .dataframe tbody tr th:only-of-type {\n",
       "        vertical-align: middle;\n",
       "    }\n",
       "\n",
       "    .dataframe tbody tr th {\n",
       "        vertical-align: top;\n",
       "    }\n",
       "\n",
       "    .dataframe thead th {\n",
       "        text-align: right;\n",
       "    }\n",
       "</style>\n",
       "<table border=\"1\" class=\"dataframe\">\n",
       "  <thead>\n",
       "    <tr style=\"text-align: right;\">\n",
       "      <th></th>\n",
       "      <th>ESTU_GENERO</th>\n",
       "      <th>ESTU_FECHANACIMIENTO</th>\n",
       "      <th>PERIODO</th>\n",
       "      <th>ESTU_DEPTO_RESIDE</th>\n",
       "      <th>FAMI_ESTRATOVIVIENDA</th>\n",
       "      <th>FAMI_PERSONASHOGAR</th>\n",
       "      <th>FAMI_CUARTOSHOGAR</th>\n",
       "      <th>FAMI_EDUCACIONPADRE</th>\n",
       "      <th>FAMI_EDUCACIONMADRE</th>\n",
       "      <th>FAMI_TRABAJOLABORPADRE</th>\n",
       "      <th>...</th>\n",
       "      <th>PERCENTIL_C_NATURALES</th>\n",
       "      <th>PUNT_SOCIALES_CIUDADANAS</th>\n",
       "      <th>PERCENTIL_SOCIALES_CIUDADANAS</th>\n",
       "      <th>PUNT_INGLES</th>\n",
       "      <th>PERCENTIL_INGLES</th>\n",
       "      <th>PUNT_GLOBAL</th>\n",
       "      <th>PERCENTIL_GLOBAL</th>\n",
       "      <th>ESTU_NSE_ESTABLECIMIENTO</th>\n",
       "      <th>ESTU_INSE_INDIVIDUAL</th>\n",
       "      <th>ESTU_NSE_INDIVIDUAL</th>\n",
       "    </tr>\n",
       "  </thead>\n",
       "  <tbody>\n",
       "    <tr>\n",
       "      <th>0</th>\n",
       "      <td>M</td>\n",
       "      <td>16</td>\n",
       "      <td>20182</td>\n",
       "      <td>ATLANTICO</td>\n",
       "      <td>Estrato 2</td>\n",
       "      <td>7 a 8</td>\n",
       "      <td>Cuatro</td>\n",
       "      <td>No sabe</td>\n",
       "      <td>No sabe</td>\n",
       "      <td>Es vendedor o trabaja en atención al público</td>\n",
       "      <td>...</td>\n",
       "      <td>67</td>\n",
       "      <td>57</td>\n",
       "      <td>76</td>\n",
       "      <td>65.0</td>\n",
       "      <td>90</td>\n",
       "      <td>305</td>\n",
       "      <td>85</td>\n",
       "      <td>2.0</td>\n",
       "      <td>53.169929</td>\n",
       "      <td>NSE3</td>\n",
       "    </tr>\n",
       "    <tr>\n",
       "      <th>1</th>\n",
       "      <td>M</td>\n",
       "      <td>17</td>\n",
       "      <td>20182</td>\n",
       "      <td>CORDOBA</td>\n",
       "      <td>Estrato 1</td>\n",
       "      <td>5 a 6</td>\n",
       "      <td>Dos</td>\n",
       "      <td>Secundaria (Bachillerato) completa</td>\n",
       "      <td>Primaria completa</td>\n",
       "      <td>Trabaja por cuenta propia (por ejemplo plomero...</td>\n",
       "      <td>...</td>\n",
       "      <td>53</td>\n",
       "      <td>40</td>\n",
       "      <td>28</td>\n",
       "      <td>48.0</td>\n",
       "      <td>46</td>\n",
       "      <td>242</td>\n",
       "      <td>46</td>\n",
       "      <td>2.0</td>\n",
       "      <td>45.062853</td>\n",
       "      <td>NSE2</td>\n",
       "    </tr>\n",
       "    <tr>\n",
       "      <th>2</th>\n",
       "      <td>M</td>\n",
       "      <td>16</td>\n",
       "      <td>20182</td>\n",
       "      <td>VALLE</td>\n",
       "      <td>Estrato 2</td>\n",
       "      <td>1 a 2</td>\n",
       "      <td>Dos</td>\n",
       "      <td>No sabe</td>\n",
       "      <td>Técnica o tecnológica incompleta</td>\n",
       "      <td>No sabe</td>\n",
       "      <td>...</td>\n",
       "      <td>40</td>\n",
       "      <td>45</td>\n",
       "      <td>43</td>\n",
       "      <td>47.0</td>\n",
       "      <td>42</td>\n",
       "      <td>241</td>\n",
       "      <td>45</td>\n",
       "      <td>2.0</td>\n",
       "      <td>44.806936</td>\n",
       "      <td>NSE2</td>\n",
       "    </tr>\n",
       "    <tr>\n",
       "      <th>3</th>\n",
       "      <td>M</td>\n",
       "      <td>17</td>\n",
       "      <td>20182</td>\n",
       "      <td>BOYACA</td>\n",
       "      <td>Estrato 3</td>\n",
       "      <td>3 a 4</td>\n",
       "      <td>Tres</td>\n",
       "      <td>No sabe</td>\n",
       "      <td>Educación profesional completa</td>\n",
       "      <td>No sabe</td>\n",
       "      <td>...</td>\n",
       "      <td>84</td>\n",
       "      <td>67</td>\n",
       "      <td>94</td>\n",
       "      <td>63.0</td>\n",
       "      <td>86</td>\n",
       "      <td>310</td>\n",
       "      <td>87</td>\n",
       "      <td>3.0</td>\n",
       "      <td>73.630225</td>\n",
       "      <td>NSE4</td>\n",
       "    </tr>\n",
       "    <tr>\n",
       "      <th>4</th>\n",
       "      <td>M</td>\n",
       "      <td>19</td>\n",
       "      <td>20182</td>\n",
       "      <td>BOGOTA</td>\n",
       "      <td>Estrato 2</td>\n",
       "      <td>7 a 8</td>\n",
       "      <td>Tres</td>\n",
       "      <td>No sabe</td>\n",
       "      <td>No sabe</td>\n",
       "      <td>No aplica</td>\n",
       "      <td>...</td>\n",
       "      <td>45</td>\n",
       "      <td>49</td>\n",
       "      <td>55</td>\n",
       "      <td>56.0</td>\n",
       "      <td>71</td>\n",
       "      <td>257</td>\n",
       "      <td>57</td>\n",
       "      <td>3.0</td>\n",
       "      <td>49.391007</td>\n",
       "      <td>NSE2</td>\n",
       "    </tr>\n",
       "  </tbody>\n",
       "</table>\n",
       "<p>5 rows × 43 columns</p>\n",
       "</div>"
      ],
      "text/plain": [
       "  ESTU_GENERO  ESTU_FECHANACIMIENTO  PERIODO ESTU_DEPTO_RESIDE  \\\n",
       "0           M                    16    20182         ATLANTICO   \n",
       "1           M                    17    20182           CORDOBA   \n",
       "2           M                    16    20182             VALLE   \n",
       "3           M                    17    20182            BOYACA   \n",
       "4           M                    19    20182            BOGOTA   \n",
       "\n",
       "  FAMI_ESTRATOVIVIENDA FAMI_PERSONASHOGAR FAMI_CUARTOSHOGAR  \\\n",
       "0            Estrato 2              7 a 8            Cuatro   \n",
       "1            Estrato 1              5 a 6               Dos   \n",
       "2            Estrato 2              1 a 2               Dos   \n",
       "3            Estrato 3              3 a 4              Tres   \n",
       "4            Estrato 2              7 a 8              Tres   \n",
       "\n",
       "                  FAMI_EDUCACIONPADRE               FAMI_EDUCACIONMADRE  \\\n",
       "0                             No sabe                           No sabe   \n",
       "1  Secundaria (Bachillerato) completa                 Primaria completa   \n",
       "2                             No sabe  Técnica o tecnológica incompleta   \n",
       "3                             No sabe    Educación profesional completa   \n",
       "4                             No sabe                           No sabe   \n",
       "\n",
       "                              FAMI_TRABAJOLABORPADRE  ...  \\\n",
       "0       Es vendedor o trabaja en atención al público  ...   \n",
       "1  Trabaja por cuenta propia (por ejemplo plomero...  ...   \n",
       "2                                            No sabe  ...   \n",
       "3                                            No sabe  ...   \n",
       "4                                          No aplica  ...   \n",
       "\n",
       "  PERCENTIL_C_NATURALES PUNT_SOCIALES_CIUDADANAS  \\\n",
       "0                    67                       57   \n",
       "1                    53                       40   \n",
       "2                    40                       45   \n",
       "3                    84                       67   \n",
       "4                    45                       49   \n",
       "\n",
       "  PERCENTIL_SOCIALES_CIUDADANAS PUNT_INGLES PERCENTIL_INGLES PUNT_GLOBAL  \\\n",
       "0                            76        65.0               90         305   \n",
       "1                            28        48.0               46         242   \n",
       "2                            43        47.0               42         241   \n",
       "3                            94        63.0               86         310   \n",
       "4                            55        56.0               71         257   \n",
       "\n",
       "  PERCENTIL_GLOBAL ESTU_NSE_ESTABLECIMIENTO ESTU_INSE_INDIVIDUAL  \\\n",
       "0               85                      2.0            53.169929   \n",
       "1               46                      2.0            45.062853   \n",
       "2               45                      2.0            44.806936   \n",
       "3               87                      3.0            73.630225   \n",
       "4               57                      3.0            49.391007   \n",
       "\n",
       "  ESTU_NSE_INDIVIDUAL  \n",
       "0                NSE3  \n",
       "1                NSE2  \n",
       "2                NSE2  \n",
       "3                NSE4  \n",
       "4                NSE2  \n",
       "\n",
       "[5 rows x 43 columns]"
      ]
     },
     "execution_count": 53,
     "metadata": {},
     "output_type": "execute_result"
    }
   ],
   "source": [
    "data.head()"
   ]
  },
  {
   "cell_type": "code",
   "execution_count": 60,
   "metadata": {
    "scrolled": false
   },
   "outputs": [
    {
     "data": {
      "text/plain": [
       "ESTU_GENERO                                                                      M\n",
       "ESTU_FECHANACIMIENTO                                                            16\n",
       "PERIODO                                                                      20182\n",
       "ESTU_DEPTO_RESIDE                                                        ATLANTICO\n",
       "FAMI_ESTRATOVIVIENDA                                                     Estrato 2\n",
       "FAMI_PERSONASHOGAR                                                           7 a 8\n",
       "FAMI_CUARTOSHOGAR                                                           Cuatro\n",
       "FAMI_EDUCACIONPADRE                                                        No sabe\n",
       "FAMI_EDUCACIONMADRE                                                        No sabe\n",
       "FAMI_TRABAJOLABORPADRE                Es vendedor o trabaja en atención al público\n",
       "FAMI_TRABAJOLABORMADRE                Es vendedor o trabaja en atención al público\n",
       "FAMI_TIENESERVICIOTV                                                            Si\n",
       "FAMI_TIENECOMPUTADOR                                                            No\n",
       "FAMI_TIENEAUTOMOVIL                                                             No\n",
       "FAMI_TIENEMOTOCICLETA                                                           Si\n",
       "FAMI_TIENECONSOLAVIDEOJUEGOS                                                    No\n",
       "FAMI_NUMLIBROS                                                     26 A 100 LIBROS\n",
       "FAMI_COMELECHEDERIVADOS                                Todos o casi todos los días\n",
       "FAMI_COMECARNEPESCADOHUEVO                             Todos o casi todos los días\n",
       "FAMI_COMECEREALFRUTOSLEGUMBRE                               1 o 2 veces por semana\n",
       "FAMI_SITUACIONECONOMICA                                                      Igual\n",
       "ESTU_DEDICACIONLECTURADIARIA                                    30 minutos o menos\n",
       "ESTU_DEDICACIONINTERNET                                             Más de 3 horas\n",
       "COLE_NOMBRE_ESTABLECIMIENTO      INSTITUCION EDUCATIVA DISTRITAL PARA EL DESARR...\n",
       "COLE_NATURALEZA                                                            OFICIAL\n",
       "COLE_CARACTER                                                            ACADÉMICO\n",
       "COLE_AREA_UBICACION                                                         URBANO\n",
       "COLE_JORNADA                                                                MAÑANA\n",
       "PUNT_LECTURA_CRITICA                                                            63\n",
       "PERCENTIL_LECTURA_CRITICA                                                       84\n",
       "PUNT_MATEMATICAS                                                                69\n",
       "PERCENTIL_MATEMATICAS                                                           95\n",
       "PUNT_C_NATURALES                                                                54\n",
       "PERCENTIL_C_NATURALES                                                           67\n",
       "PUNT_SOCIALES_CIUDADANAS                                                        57\n",
       "PERCENTIL_SOCIALES_CIUDADANAS                                                   76\n",
       "PUNT_INGLES                                                                     65\n",
       "PERCENTIL_INGLES                                                                90\n",
       "PUNT_GLOBAL                                                                    305\n",
       "PERCENTIL_GLOBAL                                                                85\n",
       "ESTU_NSE_ESTABLECIMIENTO                                                         2\n",
       "ESTU_INSE_INDIVIDUAL                                                       53.1699\n",
       "ESTU_NSE_INDIVIDUAL                                                           NSE3\n",
       "Name: 0, dtype: object"
      ]
     },
     "execution_count": 60,
     "metadata": {},
     "output_type": "execute_result"
    }
   ],
   "source": [
    "data.iloc[0]"
   ]
  },
  {
   "cell_type": "code",
   "execution_count": 65,
   "metadata": {},
   "outputs": [
    {
     "data": {
      "text/plain": [
       "<matplotlib.axes._subplots.AxesSubplot at 0x22380ebfd68>"
      ]
     },
     "execution_count": 65,
     "metadata": {},
     "output_type": "execute_result"
    },
    {
     "data": {
      "image/png": "[encoded data removed]",
      "text/plain": [
       "<Figure size 432x288 with 1 Axes>"
      ]
     },
     "metadata": {
      "needs_background": "light"
     },
     "output_type": "display_data"
    }
   ],
   "source": [
    "tmp = data[data[\"COLE_JORNADA\"] == \"MAÑANA\"]\n",
    "tmp[\"PUNT_GLOBAL\"].hist(bins = 500)"
   ]
  },
  {
   "cell_type": "code",
   "execution_count": 66,
   "metadata": {},
   "outputs": [
    {
     "data": {
      "text/plain": [
       "<matplotlib.axes._subplots.AxesSubplot at 0x22380bfa630>"
      ]
     },
     "execution_count": 66,
     "metadata": {},
     "output_type": "execute_result"
    },
    {
     "data": {
      "image/png": "[encoded data removed]",
      "text/plain": [
       "<Figure size 432x288 with 1 Axes>"
      ]
     },
     "metadata": {
      "needs_background": "light"
     },
     "output_type": "display_data"
    }
   ],
   "source": [
    "tmp = data[data[\"COLE_JORNADA\"] == \"TARDE\"]\n",
    "tmp[\"PUNT_GLOBAL\"].hist(bins = 500)"
   ]
  },
  {
   "cell_type": "code",
   "execution_count": 67,
   "metadata": {},
   "outputs": [
    {
     "data": {
      "text/plain": [
       "<matplotlib.axes._subplots.AxesSubplot at 0x223838b6a90>"
      ]
     },
     "execution_count": 67,
     "metadata": {},
     "output_type": "execute_result"
    },
    {
     "data": {
      "image/png": "[encoded data removed]",
      "text/plain": [
       "<Figure size 432x288 with 1 Axes>"
      ]
     },
     "metadata": {
      "needs_background": "light"
     },
     "output_type": "display_data"
    }
   ],
   "source": [
    "tmp = data[data[\"COLE_JORNADA\"] == \"NOCHE\"]\n",
    "tmp[\"PUNT_GLOBAL\"].hist(bins = 500)"
   ]
  },
  {
   "cell_type": "code",
   "execution_count": 68,
   "metadata": {},
   "outputs": [
    {
     "data": {
      "text/plain": [
       "<matplotlib.axes._subplots.AxesSubplot at 0x22383426f98>"
      ]
     },
     "execution_count": 68,
     "metadata": {},
     "output_type": "execute_result"
    },
    {
     "data": {
      "image/png": "[encoded data removed]",
      "text/plain": [
       "<Figure size 432x288 with 1 Axes>"
      ]
     },
     "metadata": {
      "needs_background": "light"
     },
     "output_type": "display_data"
    }
   ],
   "source": [
    "tmp = data[data[\"COLE_JORNADA\"] == \"COMPLETA\"]\n",
    "tmp[\"PUNT_GLOBAL\"].hist(bins = 500)"
   ]
  },
  {
   "cell_type": "markdown",
   "metadata": {},
   "source": [
    "## tabla de contingencia"
   ]
  },
  {
   "cell_type": "code",
   "execution_count": 70,
   "metadata": {},
   "outputs": [
    {
     "data": {
      "text/html": [
       "<div>\n",
       "<style scoped>\n",
       "    .dataframe tbody tr th:only-of-type {\n",
       "        vertical-align: middle;\n",
       "    }\n",
       "\n",
       "    .dataframe tbody tr th {\n",
       "        vertical-align: top;\n",
       "    }\n",
       "\n",
       "    .dataframe thead th {\n",
       "        text-align: right;\n",
       "    }\n",
       "</style>\n",
       "<table border=\"1\" class=\"dataframe\">\n",
       "  <thead>\n",
       "    <tr style=\"text-align: right;\">\n",
       "      <th>FAMI_TIENECOMPUTADOR</th>\n",
       "      <th>-</th>\n",
       "      <th>No</th>\n",
       "      <th>Si</th>\n",
       "    </tr>\n",
       "    <tr>\n",
       "      <th>FAMI_TIENESERVICIOTV</th>\n",
       "      <th></th>\n",
       "      <th></th>\n",
       "      <th></th>\n",
       "    </tr>\n",
       "  </thead>\n",
       "  <tbody>\n",
       "    <tr>\n",
       "      <th>-</th>\n",
       "      <td>14817</td>\n",
       "      <td>22715</td>\n",
       "      <td>21784</td>\n",
       "    </tr>\n",
       "    <tr>\n",
       "      <th>No</th>\n",
       "      <td>3099</td>\n",
       "      <td>159076</td>\n",
       "      <td>83929</td>\n",
       "    </tr>\n",
       "    <tr>\n",
       "      <th>Si</th>\n",
       "      <td>8278</td>\n",
       "      <td>253511</td>\n",
       "      <td>509344</td>\n",
       "    </tr>\n",
       "  </tbody>\n",
       "</table>\n",
       "</div>"
      ],
      "text/plain": [
       "FAMI_TIENECOMPUTADOR      -      No      Si\n",
       "FAMI_TIENESERVICIOTV                       \n",
       "-                     14817   22715   21784\n",
       "No                     3099  159076   83929\n",
       "Si                     8278  253511  509344"
      ]
     },
     "execution_count": 70,
     "metadata": {},
     "output_type": "execute_result"
    }
   ],
   "source": [
    "pd.crosstab(data['FAMI_TIENESERVICIOTV'], [data['FAMI_TIENECOMPUTADOR']])"
   ]
  },
  {
   "cell_type": "code",
   "execution_count": 61,
   "metadata": {},
   "outputs": [
    {
     "data": {
      "text/plain": [
       "COLE_JORNADA\n",
       "COMPLETA    192130\n",
       "MAÑANA      546387\n",
       "NOCHE        58073\n",
       "SABATINA     66346\n",
       "TARDE       137728\n",
       "UNICA        75889\n",
       "dtype: int64"
      ]
     },
     "execution_count": 61,
     "metadata": {},
     "output_type": "execute_result"
    }
   ],
   "source": [
    "data.groupby(\"COLE_JORNADA\").size()"
   ]
  },
  {
   "cell_type": "code",
   "execution_count": 54,
   "metadata": {},
   "outputs": [
    {
     "data": {
      "text/plain": [
       "FAMI_ESTRATOVIVIENDA\n",
       "Estrato 1      33.376062\n",
       "Estrato 2      36.522958\n",
       "Estrato 3      20.296260\n",
       "Estrato 4       4.685510\n",
       "Estrato 5       1.574655\n",
       "Estrato 6       0.785934\n",
       "Sin Estrato     2.758619\n",
       "dtype: float64"
      ]
     },
     "execution_count": 54,
     "metadata": {},
     "output_type": "execute_result"
    }
   ],
   "source": [
    "data.groupby(\"FAMI_ESTRATOVIVIENDA\").size()/data.shape[0] * 100"
   ]
  },
  {
   "cell_type": "code",
   "execution_count": 55,
   "metadata": {},
   "outputs": [
    {
     "data": {
      "text/plain": [
       "ESTU_FECHANACIMIENTO\n",
       "14     0.132553\n",
       "15     3.585889\n",
       "16    35.857872\n",
       "17    32.480983\n",
       "18    16.293578\n",
       "19     6.157895\n",
       "20     2.091026\n",
       "21     0.947747\n",
       "22     0.571175\n",
       "23     0.398030\n",
       "24     0.312850\n",
       "25     0.255073\n",
       "26     0.214574\n",
       "27     0.204077\n",
       "28     0.190330\n",
       "29     0.165343\n",
       "30     0.141006\n",
       "dtype: float64"
      ]
     },
     "execution_count": 55,
     "metadata": {},
     "output_type": "execute_result"
    }
   ],
   "source": [
    "data.groupby(\"ESTU_FECHANACIMIENTO\").size()/data.shape[0] * 100"
   ]
  },
  {
   "cell_type": "code",
   "execution_count": 56,
   "metadata": {},
   "outputs": [
    {
     "data": {
      "text/plain": [
       "(1076553, 43)"
      ]
     },
     "execution_count": 56,
     "metadata": {},
     "output_type": "execute_result"
    }
   ],
   "source": [
    "data.shape"
   ]
  },
  {
   "cell_type": "code",
   "execution_count": null,
   "metadata": {},
   "outputs": [],
   "source": []
  },
  {
   "cell_type": "markdown",
   "metadata": {},
   "source": [
    "# Entropia"
   ]
  },
  {
   "cell_type": "code",
   "execution_count": 57,
   "metadata": {},
   "outputs": [],
   "source": [
    "columnEval = [\"FAMI_TIENESERVICIOTV\",\"FAMI_TIENECOMPUTADOR\",\"FAMI_TIENEAUTOMOVIL\",\"FAMI_TIENEMOTOCICLETA\",\"FAMI_TIENECONSOLAVIDEOJUEGOS\"]"
   ]
  },
  {
   "cell_type": "code",
   "execution_count": 58,
   "metadata": {},
   "outputs": [],
   "source": [
    "def EntropySum(n):\n",
    "    if n == 0:\n",
    "        return 0\n",
    "    if n == 1:\n",
    "        return 0\n",
    "    else:\n",
    "        return n*math.log(n,2)+(1-n)*math.log(1-n,2)\n",
    "\n",
    "def compare(i,j,colPass):\n",
    "    count = 0\n",
    "    for col in columnEval:\n",
    "        if data.iloc[i][col] == data.iloc[j][col]:\n",
    "            if col != colPass:\n",
    "                count+=1\n",
    "    return count"
   ]
  },
  {
   "cell_type": "code",
   "execution_count": 59,
   "metadata": {},
   "outputs": [
    {
     "name": "stdout",
     "output_type": "stream",
     "text": [
      "R 0 999 = -358.5463512958228\n",
      "R 1 999 = -716.5741328598598\n",
      "R 2 999 = -1046.7080247594854\n",
      "R 3 999 = -1299.5513813542598\n",
      "R 4 999 = -1666.3467467907333\n",
      "R 5 999 = -1986.6040180438963\n",
      "R 6 999 = -2304.4550961115096\n",
      "R 7 999 = -2556.349143324247\n",
      "R 8 999 = -2911.916581958015\n",
      "R 9 999 = -3228.8026089469367\n",
      "R 10 999 = -3583.4049965020195\n",
      "R 11 999 = -3947.340848199213\n",
      "R 12 999 = -4265.013497552406\n",
      "R 13 999 = -4618.285778839127\n",
      "R 14 999 = -4930.1745818340905\n",
      "R 15 999 = -5283.570625021381\n",
      "R 16 999 = -5646.227787860593\n",
      "R 17 999 = -5956.786484587232\n",
      "R 18 999 = -6308.852421506197\n",
      "R 19 999 = -6504.788848259677\n",
      "R 20 999 = -6818.213032351571\n",
      "R 21 999 = -7131.118646711677\n",
      "R 22 999 = -7481.776553456888\n",
      "R 23 999 = -7784.396545945944\n",
      "R 24 999 = -8111.906888290234\n",
      "R 25 999 = -8433.925030419494\n",
      "R 26 999 = -8783.062867466297\n",
      "R 27 999 = -8819.686613545917\n",
      "R 28 999 = -9135.19338641528\n",
      "R 29 999 = -9408.344660283145\n",
      "R 30 999 = -9765.541909569703\n",
      "R 31 999 = -10122.220589124474\n",
      "R 32 999 = -10421.906646220803\n",
      "R 33 999 = -10716.679877697008\n",
      "R 34 999 = -11010.934539441425\n",
      "R 35 999 = -11072.107849996382\n",
      "R 36 999 = -11427.938849789936\n",
      "R 37 999 = -11746.33579895948\n",
      "R 38 999 = -12053.843836535443\n",
      "R 39 999 = -12284.603370205514\n",
      "R 40 999 = -12602.116694453629\n",
      "R 41 999 = -12955.423694461682\n",
      "R 42 999 = -12990.923039399931\n",
      "R 43 999 = -13234.604953566442\n",
      "R 44 999 = -13550.993876673187\n",
      "R 45 999 = -13853.425454210459\n",
      "R 46 999 = -14169.024417997907\n",
      "R 47 999 = -14478.892126303119\n",
      "R 48 999 = -14830.484817756098\n",
      "R 49 999 = -15132.179576702943\n",
      "R 50 999 = -15436.185885897801\n",
      "R 51 999 = -15786.542136684588\n",
      "R 52 999 = -15821.522911891048\n",
      "R 53 999 = -16162.196641148106\n",
      "R 54 999 = -16502.351800673332\n",
      "R 55 999 = -16815.076379050643\n",
      "R 56 999 = -17154.06282065205\n",
      "R 57 999 = -17453.360288903135\n",
      "R 58 999 = -17754.794215642793\n",
      "R 59 999 = -18042.241002816387\n",
      "R 60 999 = -18388.98098992117\n",
      "R 61 999 = -18726.358061864335\n",
      "R 62 999 = -19036.60392338872\n",
      "R 63 999 = -19300.02161671662\n",
      "R 64 999 = -19636.337339752983\n",
      "R 65 999 = -19981.110775812293\n",
      "R 66 999 = -20293.625521299276\n",
      "R 67 999 = -20531.133373445988\n",
      "R 68 999 = -20865.929026783775\n",
      "R 69 999 = -21200.206110389776\n",
      "R 70 999 = -21450.101098878957\n",
      "R 71 999 = -21682.442148074144\n",
      "R 72 999 = -22015.55661605866\n",
      "R 73 999 = -22309.482907081285\n",
      "R 74 999 = -22641.807415746505\n",
      "R 75 999 = -22973.61335467994\n",
      "R 76 999 = -23266.478296795758\n",
      "R 77 999 = -23556.08966205737\n",
      "R 78 999 = -23896.20628957079\n",
      "R 79 999 = -24226.447267711344\n",
      "R 80 999 = -24520.428223357696\n",
      "R 81 999 = -24754.1651397009\n",
      "R 82 999 = -24973.710672650028\n",
      "R 83 999 = -25312.037099349756\n",
      "R 84 999 = -25590.70107860823\n",
      "R 85 999 = -25928.14388038653\n",
      "R 86 999 = -26159.820580082134\n",
      "R 87 999 = -26462.60374833581\n",
      "R 88 999 = -26746.141771057293\n",
      "R 89 999 = -27072.61540109392\n",
      "R 90 999 = -27398.570461398762\n",
      "R 91 999 = -27642.421681598174\n",
      "R 92 999 = -27699.793208786927\n",
      "R 93 999 = -27979.42477514001\n",
      "R 94 999 = -28092.246320268947\n",
      "R 95 999 = -28322.112231282183\n",
      "R 96 999 = -28615.524659954262\n",
      "R 97 999 = -28949.64590490694\n",
      "R 98 999 = -29224.567615530563\n",
      "R 99 999 = -29513.37959682357\n",
      "R 100 999 = -29546.630139478915\n",
      "R 101 999 = -29761.05305313897\n",
      "R 102 999 = -30060.037304447564\n",
      "R 103 999 = -30287.983019479598\n",
      "R 104 999 = -30575.670599631238\n",
      "R 105 999 = -30907.02435324667\n",
      "R 106 999 = -31190.93044021439\n",
      "R 107 999 = -31223.662413137947\n",
      "R 108 999 = -31554.051115674694\n",
      "R 109 999 = -31766.441793828722\n",
      "R 110 999 = -32087.09504422439\n",
      "R 111 999 = -32312.739766388877\n",
      "R 112 999 = -32632.715096990072\n",
      "R 113 999 = -32914.30181716734\n",
      "R 114 999 = -33163.45552217047\n",
      "R 115 999 = -33373.701925293244\n",
      "R 116 999 = -33405.91532848499\n",
      "R 117 999 = -33723.59974668199\n",
      "R 118 999 = -33932.96252488333\n",
      "R 119 999 = -34249.763318158904\n",
      "R 120 999 = -34525.30367966485\n",
      "R 121 999 = -34841.220848018995\n",
      "R 122 999 = -34872.75633141627\n",
      "R 123 999 = -35198.294759724544\n",
      "R 124 999 = -35481.14685187103\n",
      "R 125 999 = -35807.06218370256\n",
      "R 126 999 = -36041.47275700877\n",
      "R 127 999 = -36355.329708715304\n",
      "R 128 999 = -36636.56806556108\n",
      "R 129 999 = -36667.584979226565\n",
      "R 130 999 = -36901.15049829137\n",
      "R 131 999 = -37194.54427834435\n",
      "R 132 999 = -37485.73235003311\n",
      "R 133 999 = -37809.26876509166\n",
      "R 134 999 = -38132.28661041843\n",
      "R 135 999 = -38396.03112410316\n",
      "R 136 999 = -38685.64831330366\n",
      "R 137 999 = -38996.17215880829\n",
      "R 138 999 = -39026.67050274199\n",
      "R 139 999 = -39304.40066162647\n",
      "R 140 999 = -39625.45195590776\n",
      "R 141 999 = -39913.38622309518\n",
      "R 142 999 = -40233.47246629779\n",
      "R 143 999 = -40451.99854423181\n",
      "R 144 999 = -40770.264328147394\n",
      "R 145 999 = -41049.162687144\n",
      "R 146 999 = -41357.86628517839\n",
      "R 147 999 = -41643.49955949826\n",
      "R 148 999 = -41961.009917994\n",
      "R 149 999 = -42114.465957237226\n",
      "R 150 999 = -42399.13418047842\n",
      "R 151 999 = -42715.679487895475\n",
      "R 152 999 = -43030.91416856423\n",
      "R 153 999 = -43303.856560489345\n",
      "R 154 999 = -43608.79738916075\n",
      "R 155 999 = -43638.45846323729\n",
      "R 156 999 = -43900.15700315316\n",
      "R 157 999 = -44214.560667765356\n",
      "R 158 999 = -44489.110381609324\n",
      "R 159 999 = -44757.22804094102\n",
      "R 160 999 = -45028.153912954214\n",
      "R 161 999 = -45309.05478809149\n",
      "R 162 999 = -45611.939857524674\n",
      "R 163 999 = -45913.737543424424\n",
      "R 164 999 = -46185.874224876025\n",
      "R 165 999 = -46496.43635530219\n",
      "R 166 999 = -46775.452105551245\n",
      "R 167 999 = -47075.56686943791\n",
      "R 168 999 = -47287.96874266834\n",
      "R 169 999 = -47486.338011499116\n",
      "R 170 999 = -47515.480515843876\n",
      "R 171 999 = -47795.41573444461\n",
      "R 172 999 = -48073.03569396479\n",
      "R 173 999 = -48329.519774488894\n",
      "R 174 999 = -48627.478023899836\n",
      "R 175 999 = -48861.57049961559\n",
      "R 176 999 = -49124.41064732096\n",
      "R 177 999 = -49431.80431993491\n",
      "R 178 999 = -49737.70613956337\n",
      "R 179 999 = -50043.089389460045\n",
      "R 180 999 = -50238.824093627045\n",
      "R 181 999 = -50505.48979777024\n",
      "R 182 999 = -50781.34160036767\n",
      "R 183 999 = -50809.96553498064\n",
      "R 184 999 = -51070.027595104\n",
      "R 185 999 = -51264.44793469938\n",
      "R 186 999 = -51523.626369901314\n",
      "R 187 999 = -51827.92325480789\n",
      "R 188 999 = -52131.70156998267\n",
      "R 189 999 = -52404.11843953014\n",
      "R 190 999 = -52661.77680503349\n",
      "R 191 999 = -52962.68970756271\n",
      "R 192 999 = -53219.648483813864\n",
      "R 193 999 = -53519.5963352644\n",
      "R 194 999 = -53820.78652628743\n",
      "R 195 999 = -54121.458147578676\n",
      "R 196 999 = -54391.19059514627\n",
      "R 197 999 = -54690.89716535883\n",
      "R 198 999 = -54719.00253024002\n",
      "R 199 999 = -55018.19053072079\n",
      "R 200 999 = -55316.85996146978\n",
      "R 201 999 = -55561.274994110034\n",
      "R 202 999 = -55857.74175871503\n",
      "R 203 999 = -56115.92685476262\n",
      "R 204 999 = -56411.60366004832\n",
      "R 205 999 = -56678.14215205458\n",
      "R 206 999 = -56964.83052390945\n",
      "R 207 999 = -57214.79322208969\n",
      "R 208 999 = -57456.717298432144\n",
      "R 209 999 = -57722.03509146892\n",
      "R 210 999 = -57922.51119801139\n",
      "R 211 999 = -58163.92179138578\n",
      "R 212 999 = -58458.19966869859\n",
      "R 213 999 = -58646.064193914346\n",
      "R 214 999 = -58889.92318899653\n",
      "R 215 999 = -58917.35063408325\n",
      "R 216 999 = -59210.58553641194\n",
      "R 217 999 = -59474.942426930065\n",
      "R 218 999 = -59765.58162678353\n",
      "R 219 999 = -59792.49050213846\n",
      "R 220 999 = -60040.65423102963\n",
      "R 221 999 = -60279.20267843878\n",
      "R 222 999 = -60570.471029722\n",
      "R 223 999 = -60859.33364196025\n",
      "R 224 999 = -61055.58104738104\n",
      "R 225 999 = -61185.71035503525\n",
      "R 226 999 = -61473.52999228938\n",
      "R 227 999 = -61657.59560056007\n",
      "R 228 999 = -61947.021679767524\n",
      "R 229 999 = -62235.929189243194\n",
      "R 230 999 = -62411.918073622444\n",
      "R 231 999 = -62605.65614882275\n",
      "R 232 999 = -62848.97223571194\n",
      "R 233 999 = -63099.91459244678\n",
      "R 234 999 = -63333.82191237224\n",
      "R 235 999 = -63584.53930153706\n",
      "R 236 999 = -63860.588106135205\n",
      "R 237 999 = -64136.118341001566\n",
      "R 238 999 = -64411.13000613614\n",
      "R 239 999 = -64436.93022204641\n",
      "R 240 999 = -64694.640843420675\n",
      "R 241 999 = -64942.742175409534\n",
      "R 242 999 = -65227.520783843465\n",
      "R 243 999 = -65501.01237927946\n",
      "R 244 999 = -65757.04007864156\n",
      "R 245 999 = -65984.00450267649\n",
      "R 246 999 = -66256.43474920628\n",
      "R 247 999 = -66502.11080935883\n",
      "R 248 999 = -66731.60987867873\n",
      "R 249 999 = -66966.45857469023\n",
      "R 250 999 = -67200.78870096993\n",
      "R 251 999 = -67378.40188264215\n",
      "R 252 999 = -67403.52417875851\n",
      "R 253 999 = -67673.52915345105\n",
      "R 254 999 = -67951.4638127182\n",
      "R 255 999 = -68223.17824810356\n",
      "R 256 999 = -68500.22928244928\n",
      "R 257 999 = -68742.871607129\n",
      "R 258 999 = -68931.59457552199\n",
      "R 259 999 = -69106.98555825792\n",
      "R 260 999 = -69382.70385410932\n",
      "R 261 999 = -69613.63518972656\n",
      "R 262 999 = -69864.66900649492\n",
      "R 263 999 = -70049.39073665484\n",
      "R 264 999 = -70273.51512649444\n"
     ]
    },
    {
     "name": "stdout",
     "output_type": "stream",
     "text": [
      "R 265 999 = -70497.12094660226\n",
      "R 266 999 = -70694.28670768606\n",
      "R 267 999 = -70970.85940300027\n",
      "R 268 999 = -71243.81535296635\n",
      "R 269 999 = -71475.72843117914\n",
      "R 270 999 = -71741.94390811451\n",
      "R 271 999 = -72013.56975181226\n",
      "R 272 999 = -72234.5336384009\n",
      "R 273 999 = -72470.87491636454\n",
      "R 274 999 = -72670.24703387618\n",
      "R 275 999 = -72898.69261539991\n",
      "R 276 999 = -73137.97629633723\n",
      "R 277 999 = -73410.52512563088\n",
      "R 278 999 = -73656.42408366528\n",
      "R 279 999 = -73884.86918450323\n",
      "R 280 999 = -74129.97818321832\n",
      "R 281 999 = -74310.4895355886\n",
      "R 282 999 = -74528.64376575404\n",
      "R 283 999 = -74755.4059445789\n",
      "R 284 999 = -75025.27035189267\n",
      "R 285 999 = -75294.61618947465\n",
      "R 286 999 = -75552.30507882171\n",
      "R 287 999 = -75809.47539843697\n",
      "R 288 999 = -75987.5710861889\n",
      "R 289 999 = -76154.33765559878\n",
      "R 290 999 = -76396.7429029377\n",
      "R 291 999 = -76620.44336514815\n",
      "R 292 999 = -76644.40969128195\n",
      "R 293 999 = -76907.75178340131\n",
      "R 294 999 = -77165.89008391107\n",
      "R 295 999 = -77389.472970026\n",
      "R 296 999 = -77646.64621945708\n",
      "R 297 999 = -77903.30089915635\n",
      "R 298 999 = -78078.98259904228\n",
      "R 299 999 = -78317.42937837323\n",
      "R 300 999 = -78556.61355903505\n",
      "R 301 999 = -78820.23453361794\n",
      "R 302 999 = -79072.1895238156\n",
      "R 303 999 = -79262.62097191335\n",
      "R 304 999 = -79513.7860027917\n",
      "R 305 999 = -79687.54487447043\n",
      "R 306 999 = -79770.72958136661\n",
      "R 307 999 = -80007.8815265224\n",
      "R 308 999 = -80235.32395722637\n",
      "R 309 999 = -80487.82953646177\n",
      "R 310 999 = -80739.81654596537\n",
      "R 311 999 = -80958.59506521968\n",
      "R 312 999 = -81218.19567603382\n",
      "R 313 999 = -81390.08070679559\n"
     ]
    },
    {
     "ename": "KeyboardInterrupt",
     "evalue": "",
     "output_type": "error",
     "traceback": [
      "\u001b[1;31m---------------------------------------------------------------------------\u001b[0m",
      "\u001b[1;31mKeyboardInterrupt\u001b[0m                         Traceback (most recent call last)",
      "\u001b[1;32m<ipython-input-59-bc5807afbc12>\u001b[0m in \u001b[0;36m<module>\u001b[1;34m\u001b[0m\n\u001b[0;32m      3\u001b[0m \u001b[1;32mfor\u001b[0m \u001b[0mi\u001b[0m \u001b[1;32min\u001b[0m \u001b[0mrange\u001b[0m\u001b[1;33m(\u001b[0m\u001b[0mdataSize\u001b[0m\u001b[1;33m)\u001b[0m\u001b[1;33m:\u001b[0m\u001b[1;33m\u001b[0m\u001b[1;33m\u001b[0m\u001b[0m\n\u001b[0;32m      4\u001b[0m     \u001b[1;32mfor\u001b[0m \u001b[0mj\u001b[0m \u001b[1;32min\u001b[0m \u001b[0mrange\u001b[0m\u001b[1;33m(\u001b[0m\u001b[0mi\u001b[0m\u001b[1;33m+\u001b[0m\u001b[1;36m1\u001b[0m\u001b[1;33m,\u001b[0m\u001b[0mdataSize\u001b[0m\u001b[1;33m)\u001b[0m\u001b[1;33m:\u001b[0m\u001b[1;33m\u001b[0m\u001b[1;33m\u001b[0m\u001b[0m\n\u001b[1;32m----> 5\u001b[1;33m         \u001b[0mresult\u001b[0m \u001b[1;33m=\u001b[0m \u001b[0mcompare\u001b[0m\u001b[1;33m(\u001b[0m\u001b[0mi\u001b[0m\u001b[1;33m,\u001b[0m \u001b[0mj\u001b[0m\u001b[1;33m,\u001b[0m \u001b[1;34m\"\"\u001b[0m\u001b[1;33m)\u001b[0m\u001b[1;33m\u001b[0m\u001b[1;33m\u001b[0m\u001b[0m\n\u001b[0m\u001b[0;32m      6\u001b[0m         \u001b[0mentropy\u001b[0m \u001b[1;33m+=\u001b[0m \u001b[0mEntropySum\u001b[0m\u001b[1;33m(\u001b[0m\u001b[0mresult\u001b[0m\u001b[1;33m/\u001b[0m\u001b[0mdata\u001b[0m\u001b[1;33m.\u001b[0m\u001b[0mshape\u001b[0m\u001b[1;33m[\u001b[0m\u001b[1;36m1\u001b[0m\u001b[1;33m]\u001b[0m\u001b[1;33m)\u001b[0m\u001b[1;33m\u001b[0m\u001b[1;33m\u001b[0m\u001b[0m\n\u001b[0;32m      7\u001b[0m         \u001b[1;31m#if j%100 == 0:\u001b[0m\u001b[1;33m\u001b[0m\u001b[1;33m\u001b[0m\u001b[1;33m\u001b[0m\u001b[0m\n",
      "\u001b[1;32m<ipython-input-58-153e54202c00>\u001b[0m in \u001b[0;36mcompare\u001b[1;34m(i, j, colPass)\u001b[0m\n\u001b[0;32m     10\u001b[0m     \u001b[0mcount\u001b[0m \u001b[1;33m=\u001b[0m \u001b[1;36m0\u001b[0m\u001b[1;33m\u001b[0m\u001b[1;33m\u001b[0m\u001b[0m\n\u001b[0;32m     11\u001b[0m     \u001b[1;32mfor\u001b[0m \u001b[0mcol\u001b[0m \u001b[1;32min\u001b[0m \u001b[0mcolumnEval\u001b[0m\u001b[1;33m:\u001b[0m\u001b[1;33m\u001b[0m\u001b[1;33m\u001b[0m\u001b[0m\n\u001b[1;32m---> 12\u001b[1;33m         \u001b[1;32mif\u001b[0m \u001b[0mdata\u001b[0m\u001b[1;33m.\u001b[0m\u001b[0miloc\u001b[0m\u001b[1;33m[\u001b[0m\u001b[0mi\u001b[0m\u001b[1;33m]\u001b[0m\u001b[1;33m[\u001b[0m\u001b[0mcol\u001b[0m\u001b[1;33m]\u001b[0m \u001b[1;33m==\u001b[0m \u001b[0mdata\u001b[0m\u001b[1;33m.\u001b[0m\u001b[0miloc\u001b[0m\u001b[1;33m[\u001b[0m\u001b[0mj\u001b[0m\u001b[1;33m]\u001b[0m\u001b[1;33m[\u001b[0m\u001b[0mcol\u001b[0m\u001b[1;33m]\u001b[0m\u001b[1;33m:\u001b[0m\u001b[1;33m\u001b[0m\u001b[1;33m\u001b[0m\u001b[0m\n\u001b[0m\u001b[0;32m     13\u001b[0m             \u001b[1;32mif\u001b[0m \u001b[0mcol\u001b[0m \u001b[1;33m!=\u001b[0m \u001b[0mcolPass\u001b[0m\u001b[1;33m:\u001b[0m\u001b[1;33m\u001b[0m\u001b[1;33m\u001b[0m\u001b[0m\n\u001b[0;32m     14\u001b[0m                 \u001b[0mcount\u001b[0m\u001b[1;33m+=\u001b[0m\u001b[1;36m1\u001b[0m\u001b[1;33m\u001b[0m\u001b[1;33m\u001b[0m\u001b[0m\n",
      "\u001b[1;32m~\\Anaconda3\\lib\\site-packages\\pandas\\core\\indexing.py\u001b[0m in \u001b[0;36m__getitem__\u001b[1;34m(self, key)\u001b[0m\n\u001b[0;32m   1498\u001b[0m \u001b[1;33m\u001b[0m\u001b[0m\n\u001b[0;32m   1499\u001b[0m             \u001b[0mmaybe_callable\u001b[0m \u001b[1;33m=\u001b[0m \u001b[0mcom\u001b[0m\u001b[1;33m.\u001b[0m\u001b[0mapply_if_callable\u001b[0m\u001b[1;33m(\u001b[0m\u001b[0mkey\u001b[0m\u001b[1;33m,\u001b[0m \u001b[0mself\u001b[0m\u001b[1;33m.\u001b[0m\u001b[0mobj\u001b[0m\u001b[1;33m)\u001b[0m\u001b[1;33m\u001b[0m\u001b[1;33m\u001b[0m\u001b[0m\n\u001b[1;32m-> 1500\u001b[1;33m             \u001b[1;32mreturn\u001b[0m \u001b[0mself\u001b[0m\u001b[1;33m.\u001b[0m\u001b[0m_getitem_axis\u001b[0m\u001b[1;33m(\u001b[0m\u001b[0mmaybe_callable\u001b[0m\u001b[1;33m,\u001b[0m \u001b[0maxis\u001b[0m\u001b[1;33m=\u001b[0m\u001b[0maxis\u001b[0m\u001b[1;33m)\u001b[0m\u001b[1;33m\u001b[0m\u001b[1;33m\u001b[0m\u001b[0m\n\u001b[0m\u001b[0;32m   1501\u001b[0m \u001b[1;33m\u001b[0m\u001b[0m\n\u001b[0;32m   1502\u001b[0m     \u001b[1;32mdef\u001b[0m \u001b[0m_is_scalar_access\u001b[0m\u001b[1;33m(\u001b[0m\u001b[0mself\u001b[0m\u001b[1;33m,\u001b[0m \u001b[0mkey\u001b[0m\u001b[1;33m)\u001b[0m\u001b[1;33m:\u001b[0m\u001b[1;33m\u001b[0m\u001b[1;33m\u001b[0m\u001b[0m\n",
      "\u001b[1;32m~\\Anaconda3\\lib\\site-packages\\pandas\\core\\indexing.py\u001b[0m in \u001b[0;36m_getitem_axis\u001b[1;34m(self, key, axis)\u001b[0m\n\u001b[0;32m   2230\u001b[0m             \u001b[0mself\u001b[0m\u001b[1;33m.\u001b[0m\u001b[0m_validate_integer\u001b[0m\u001b[1;33m(\u001b[0m\u001b[0mkey\u001b[0m\u001b[1;33m,\u001b[0m \u001b[0maxis\u001b[0m\u001b[1;33m)\u001b[0m\u001b[1;33m\u001b[0m\u001b[1;33m\u001b[0m\u001b[0m\n\u001b[0;32m   2231\u001b[0m \u001b[1;33m\u001b[0m\u001b[0m\n\u001b[1;32m-> 2232\u001b[1;33m             \u001b[1;32mreturn\u001b[0m \u001b[0mself\u001b[0m\u001b[1;33m.\u001b[0m\u001b[0m_get_loc\u001b[0m\u001b[1;33m(\u001b[0m\u001b[0mkey\u001b[0m\u001b[1;33m,\u001b[0m \u001b[0maxis\u001b[0m\u001b[1;33m=\u001b[0m\u001b[0maxis\u001b[0m\u001b[1;33m)\u001b[0m\u001b[1;33m\u001b[0m\u001b[1;33m\u001b[0m\u001b[0m\n\u001b[0m\u001b[0;32m   2233\u001b[0m \u001b[1;33m\u001b[0m\u001b[0m\n\u001b[0;32m   2234\u001b[0m     \u001b[1;32mdef\u001b[0m \u001b[0m_convert_to_indexer\u001b[0m\u001b[1;33m(\u001b[0m\u001b[0mself\u001b[0m\u001b[1;33m,\u001b[0m \u001b[0mobj\u001b[0m\u001b[1;33m,\u001b[0m \u001b[0maxis\u001b[0m\u001b[1;33m=\u001b[0m\u001b[1;32mNone\u001b[0m\u001b[1;33m,\u001b[0m \u001b[0mis_setter\u001b[0m\u001b[1;33m=\u001b[0m\u001b[1;32mFalse\u001b[0m\u001b[1;33m)\u001b[0m\u001b[1;33m:\u001b[0m\u001b[1;33m\u001b[0m\u001b[1;33m\u001b[0m\u001b[0m\n",
      "\u001b[1;32m~\\Anaconda3\\lib\\site-packages\\pandas\\core\\indexing.py\u001b[0m in \u001b[0;36m_get_loc\u001b[1;34m(self, key, axis)\u001b[0m\n\u001b[0;32m    144\u001b[0m         \u001b[1;32mif\u001b[0m \u001b[0maxis\u001b[0m \u001b[1;32mis\u001b[0m \u001b[1;32mNone\u001b[0m\u001b[1;33m:\u001b[0m\u001b[1;33m\u001b[0m\u001b[1;33m\u001b[0m\u001b[0m\n\u001b[0;32m    145\u001b[0m             \u001b[0maxis\u001b[0m \u001b[1;33m=\u001b[0m \u001b[0mself\u001b[0m\u001b[1;33m.\u001b[0m\u001b[0maxis\u001b[0m\u001b[1;33m\u001b[0m\u001b[1;33m\u001b[0m\u001b[0m\n\u001b[1;32m--> 146\u001b[1;33m         \u001b[1;32mreturn\u001b[0m \u001b[0mself\u001b[0m\u001b[1;33m.\u001b[0m\u001b[0mobj\u001b[0m\u001b[1;33m.\u001b[0m\u001b[0m_ixs\u001b[0m\u001b[1;33m(\u001b[0m\u001b[0mkey\u001b[0m\u001b[1;33m,\u001b[0m \u001b[0maxis\u001b[0m\u001b[1;33m=\u001b[0m\u001b[0maxis\u001b[0m\u001b[1;33m)\u001b[0m\u001b[1;33m\u001b[0m\u001b[1;33m\u001b[0m\u001b[0m\n\u001b[0m\u001b[0;32m    147\u001b[0m \u001b[1;33m\u001b[0m\u001b[0m\n\u001b[0;32m    148\u001b[0m     \u001b[1;32mdef\u001b[0m \u001b[0m_slice\u001b[0m\u001b[1;33m(\u001b[0m\u001b[0mself\u001b[0m\u001b[1;33m,\u001b[0m \u001b[0mobj\u001b[0m\u001b[1;33m,\u001b[0m \u001b[0maxis\u001b[0m\u001b[1;33m=\u001b[0m\u001b[1;32mNone\u001b[0m\u001b[1;33m,\u001b[0m \u001b[0mkind\u001b[0m\u001b[1;33m=\u001b[0m\u001b[1;32mNone\u001b[0m\u001b[1;33m)\u001b[0m\u001b[1;33m:\u001b[0m\u001b[1;33m\u001b[0m\u001b[1;33m\u001b[0m\u001b[0m\n",
      "\u001b[1;32m~\\Anaconda3\\lib\\site-packages\\pandas\\core\\frame.py\u001b[0m in \u001b[0;36m_ixs\u001b[1;34m(self, i, axis)\u001b[0m\n\u001b[0;32m   2859\u001b[0m                                                       \u001b[0mindex\u001b[0m\u001b[1;33m=\u001b[0m\u001b[0mself\u001b[0m\u001b[1;33m.\u001b[0m\u001b[0mcolumns\u001b[0m\u001b[1;33m,\u001b[0m\u001b[1;33m\u001b[0m\u001b[1;33m\u001b[0m\u001b[0m\n\u001b[0;32m   2860\u001b[0m                                                       \u001b[0mname\u001b[0m\u001b[1;33m=\u001b[0m\u001b[0mself\u001b[0m\u001b[1;33m.\u001b[0m\u001b[0mindex\u001b[0m\u001b[1;33m[\u001b[0m\u001b[0mi\u001b[0m\u001b[1;33m]\u001b[0m\u001b[1;33m,\u001b[0m\u001b[1;33m\u001b[0m\u001b[1;33m\u001b[0m\u001b[0m\n\u001b[1;32m-> 2861\u001b[1;33m                                                       dtype=new_values.dtype)\n\u001b[0m\u001b[0;32m   2862\u001b[0m                 \u001b[0mresult\u001b[0m\u001b[1;33m.\u001b[0m\u001b[0m_set_is_copy\u001b[0m\u001b[1;33m(\u001b[0m\u001b[0mself\u001b[0m\u001b[1;33m,\u001b[0m \u001b[0mcopy\u001b[0m\u001b[1;33m=\u001b[0m\u001b[0mcopy\u001b[0m\u001b[1;33m)\u001b[0m\u001b[1;33m\u001b[0m\u001b[1;33m\u001b[0m\u001b[0m\n\u001b[0;32m   2863\u001b[0m                 \u001b[1;32mreturn\u001b[0m \u001b[0mresult\u001b[0m\u001b[1;33m\u001b[0m\u001b[1;33m\u001b[0m\u001b[0m\n",
      "\u001b[1;32m~\\Anaconda3\\lib\\site-packages\\pandas\\core\\series.py\u001b[0m in \u001b[0;36m__init__\u001b[1;34m(self, data, index, dtype, name, copy, fastpath)\u001b[0m\n\u001b[0;32m    260\u001b[0m             \u001b[1;32melse\u001b[0m\u001b[1;33m:\u001b[0m\u001b[1;33m\u001b[0m\u001b[1;33m\u001b[0m\u001b[0m\n\u001b[0;32m    261\u001b[0m                 data = sanitize_array(data, index, dtype, copy,\n\u001b[1;32m--> 262\u001b[1;33m                                       raise_cast_failure=True)\n\u001b[0m\u001b[0;32m    263\u001b[0m \u001b[1;33m\u001b[0m\u001b[0m\n\u001b[0;32m    264\u001b[0m                 \u001b[0mdata\u001b[0m \u001b[1;33m=\u001b[0m \u001b[0mSingleBlockManager\u001b[0m\u001b[1;33m(\u001b[0m\u001b[0mdata\u001b[0m\u001b[1;33m,\u001b[0m \u001b[0mindex\u001b[0m\u001b[1;33m,\u001b[0m \u001b[0mfastpath\u001b[0m\u001b[1;33m=\u001b[0m\u001b[1;32mTrue\u001b[0m\u001b[1;33m)\u001b[0m\u001b[1;33m\u001b[0m\u001b[1;33m\u001b[0m\u001b[0m\n",
      "\u001b[1;32m~\\Anaconda3\\lib\\site-packages\\pandas\\core\\internals\\construction.py\u001b[0m in \u001b[0;36msanitize_array\u001b[1;34m(data, index, dtype, copy, raise_cast_failure)\u001b[0m\n\u001b[0;32m    570\u001b[0m                         \u001b[0msubarr\u001b[0m \u001b[1;33m=\u001b[0m \u001b[0mdata\u001b[0m\u001b[1;33m.\u001b[0m\u001b[0mcopy\u001b[0m\u001b[1;33m(\u001b[0m\u001b[1;33m)\u001b[0m\u001b[1;33m\u001b[0m\u001b[1;33m\u001b[0m\u001b[0m\n\u001b[0;32m    571\u001b[0m             \u001b[1;32melse\u001b[0m\u001b[1;33m:\u001b[0m\u001b[1;33m\u001b[0m\u001b[1;33m\u001b[0m\u001b[0m\n\u001b[1;32m--> 572\u001b[1;33m                 \u001b[0msubarr\u001b[0m \u001b[1;33m=\u001b[0m \u001b[0m_try_cast\u001b[0m\u001b[1;33m(\u001b[0m\u001b[0mdata\u001b[0m\u001b[1;33m,\u001b[0m \u001b[1;32mTrue\u001b[0m\u001b[1;33m,\u001b[0m \u001b[0mdtype\u001b[0m\u001b[1;33m,\u001b[0m \u001b[0mcopy\u001b[0m\u001b[1;33m,\u001b[0m \u001b[0mraise_cast_failure\u001b[0m\u001b[1;33m)\u001b[0m\u001b[1;33m\u001b[0m\u001b[1;33m\u001b[0m\u001b[0m\n\u001b[0m\u001b[0;32m    573\u001b[0m         \u001b[1;32melif\u001b[0m \u001b[0misinstance\u001b[0m\u001b[1;33m(\u001b[0m\u001b[0mdata\u001b[0m\u001b[1;33m,\u001b[0m \u001b[0mIndex\u001b[0m\u001b[1;33m)\u001b[0m\u001b[1;33m:\u001b[0m\u001b[1;33m\u001b[0m\u001b[1;33m\u001b[0m\u001b[0m\n\u001b[0;32m    574\u001b[0m             \u001b[1;31m# don't coerce Index types\u001b[0m\u001b[1;33m\u001b[0m\u001b[1;33m\u001b[0m\u001b[1;33m\u001b[0m\u001b[0m\n",
      "\u001b[1;32m~\\Anaconda3\\lib\\site-packages\\pandas\\core\\internals\\construction.py\u001b[0m in \u001b[0;36m_try_cast\u001b[1;34m(arr, take_fast_path, dtype, copy, raise_cast_failure)\u001b[0m\n\u001b[0;32m    698\u001b[0m         \u001b[1;31m# Take care in creating object arrays (but iterators are not\u001b[0m\u001b[1;33m\u001b[0m\u001b[1;33m\u001b[0m\u001b[1;33m\u001b[0m\u001b[0m\n\u001b[0;32m    699\u001b[0m         \u001b[1;31m# supported):\u001b[0m\u001b[1;33m\u001b[0m\u001b[1;33m\u001b[0m\u001b[1;33m\u001b[0m\u001b[0m\n\u001b[1;32m--> 700\u001b[1;33m         if is_object_dtype(dtype) and (is_list_like(subarr) and\n\u001b[0m\u001b[0;32m    701\u001b[0m                                        not (is_iterator(subarr) or\n\u001b[0;32m    702\u001b[0m                                        isinstance(subarr, np.ndarray))):\n",
      "\u001b[1;32m~\\Anaconda3\\lib\\site-packages\\pandas\\core\\dtypes\\inference.py\u001b[0m in \u001b[0;36mis_list_like\u001b[1;34m(obj, allow_sets)\u001b[0m\n\u001b[0;32m    291\u001b[0m     \"\"\"\n\u001b[0;32m    292\u001b[0m \u001b[1;33m\u001b[0m\u001b[0m\n\u001b[1;32m--> 293\u001b[1;33m     return (isinstance(obj, compat.Iterable)\n\u001b[0m\u001b[0;32m    294\u001b[0m             \u001b[1;31m# we do not count strings/unicode/bytes as list-like\u001b[0m\u001b[1;33m\u001b[0m\u001b[1;33m\u001b[0m\u001b[1;33m\u001b[0m\u001b[0m\n\u001b[0;32m    295\u001b[0m             \u001b[1;32mand\u001b[0m \u001b[1;32mnot\u001b[0m \u001b[0misinstance\u001b[0m\u001b[1;33m(\u001b[0m\u001b[0mobj\u001b[0m\u001b[1;33m,\u001b[0m \u001b[0mstring_and_binary_types\u001b[0m\u001b[1;33m)\u001b[0m\u001b[1;33m\u001b[0m\u001b[1;33m\u001b[0m\u001b[0m\n",
      "\u001b[1;32m~\\Anaconda3\\lib\\abc.py\u001b[0m in \u001b[0;36m__instancecheck__\u001b[1;34m(cls, instance)\u001b[0m\n\u001b[0;32m    137\u001b[0m         \u001b[1;32mdef\u001b[0m \u001b[0m__instancecheck__\u001b[0m\u001b[1;33m(\u001b[0m\u001b[0mcls\u001b[0m\u001b[1;33m,\u001b[0m \u001b[0minstance\u001b[0m\u001b[1;33m)\u001b[0m\u001b[1;33m:\u001b[0m\u001b[1;33m\u001b[0m\u001b[1;33m\u001b[0m\u001b[0m\n\u001b[0;32m    138\u001b[0m             \u001b[1;34m\"\"\"Override for isinstance(instance, cls).\"\"\"\u001b[0m\u001b[1;33m\u001b[0m\u001b[1;33m\u001b[0m\u001b[0m\n\u001b[1;32m--> 139\u001b[1;33m             \u001b[1;32mreturn\u001b[0m \u001b[0m_abc_instancecheck\u001b[0m\u001b[1;33m(\u001b[0m\u001b[0mcls\u001b[0m\u001b[1;33m,\u001b[0m \u001b[0minstance\u001b[0m\u001b[1;33m)\u001b[0m\u001b[1;33m\u001b[0m\u001b[1;33m\u001b[0m\u001b[0m\n\u001b[0m\u001b[0;32m    140\u001b[0m \u001b[1;33m\u001b[0m\u001b[0m\n\u001b[0;32m    141\u001b[0m         \u001b[1;32mdef\u001b[0m \u001b[0m__subclasscheck__\u001b[0m\u001b[1;33m(\u001b[0m\u001b[0mcls\u001b[0m\u001b[1;33m,\u001b[0m \u001b[0msubclass\u001b[0m\u001b[1;33m)\u001b[0m\u001b[1;33m:\u001b[0m\u001b[1;33m\u001b[0m\u001b[1;33m\u001b[0m\u001b[0m\n",
      "\u001b[1;31mKeyboardInterrupt\u001b[0m: "
     ]
    }
   ],
   "source": [
    "entropy = 0\n",
    "dataSize = 1000 #data.shape[0]\n",
    "for i in range(dataSize):\n",
    "    for j in range(i+1,dataSize):\n",
    "        result = compare(i, j, \"\")\n",
    "        entropy += EntropySum(result/data.shape[1])\n",
    "        #if j%100 == 0:\n",
    "        #    print(\"R\",i,j,\"=\",result)\n",
    "    print(\"R\",i,j,\"=\",entropy)\n",
    "print(\"EntropyTotal\",entropy*-1)"
   ]
  },
  {
   "cell_type": "code",
   "execution_count": null,
   "metadata": {},
   "outputs": [],
   "source": []
  }
 ],
 "metadata": {
  "kernelspec": {
   "display_name": "Python 3",
   "language": "python",
   "name": "python3"
  },
  "language_info": {
   "codemirror_mode": {
    "name": "ipython",
    "version": 3
   },
   "file_extension": ".py",
   "mimetype": "text/x-python",
   "name": "python",
   "nbconvert_exporter": "python",
   "pygments_lexer": "ipython3",
   "version": "3.7.3"
  }
 },
 "nbformat": 4,
 "nbformat_minor": 2
}
