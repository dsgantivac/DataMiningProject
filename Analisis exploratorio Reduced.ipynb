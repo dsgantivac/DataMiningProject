{
 "cells": [
  {
   "cell_type": "code",
   "execution_count": 1,
   "metadata": {},
   "outputs": [],
   "source": [
    "import pandas as pd\n",
    "import matplotlib.pyplot as plt \n",
    "import math\n",
    "from collections import Counter\n",
    "import random\n",
    "path = \"./Datasets/Saber_reducido.csv\""
   ]
  },
  {
   "cell_type": "code",
   "execution_count": 2,
   "metadata": {},
   "outputs": [],
   "source": [
    "Keys = [\"ESTU_GENERO\",\"ESTU_FECHANACIMIENTO\",\"PERIODO\",\"ESTU_DEPTO_RESIDE\",\"FAMI_ESTRATOVIVIENDA\",\"FAMI_PERSONASHOGAR\",\"FAMI_CUARTOSHOGAR\",\"FAMI_EDUCACIONPADRE\",\"FAMI_EDUCACIONMADRE\",\"FAMI_TRABAJOLABORPADRE\",\"FAMI_TRABAJOLABORMADRE\",\"FAMI_TIENESERVICIOTV\",\"FAMI_TIENECOMPUTADOR\",\"FAMI_TIENEAUTOMOVIL\",\"FAMI_TIENEMOTOCICLETA\",\"FAMI_TIENECONSOLAVIDEOJUEGOS\",\"FAMI_NUMLIBROS\",\"FAMI_COMELECHEDERIVADOS\",\"FAMI_COMECARNEPESCADOHUEVO\",\"FAMI_COMECEREALFRUTOSLEGUMBRE\",\"FAMI_SITUACIONECONOMICA\",\"ESTU_DEDICACIONLECTURADIARIA\",\"ESTU_DEDICACIONINTERNET\",\"COLE_NOMBRE_ESTABLECIMIENTO\",\"COLE_NATURALEZA\",\"COLE_CARACTER\",\"COLE_AREA_UBICACION\",\"COLE_JORNADA\",\"PUNT_LECTURA_CRITICA\",\"PERCENTIL_LECTURA_CRITICA\",\"PUNT_MATEMATICAS\",\"PERCENTIL_MATEMATICAS\",\"PUNT_C_NATURALES\",\"PERCENTIL_C_NATURALES\",\"PUNT_SOCIALES_CIUDADANAS\",\"PERCENTIL_SOCIALES_CIUDADANAS\",\"PUNT_INGLES\",\"PERCENTIL_INGLES\",\"PUNT_GLOBAL\",\"PERCENTIL_GLOBAL\",\"ESTU_NSE_ESTABLECIMIENTO\",\"ESTU_INSE_INDIVIDUAL\",\"ESTU_NSE_INDIVIDUAL\"]"
   ]
  },
  {
   "cell_type": "code",
   "execution_count": 3,
   "metadata": {},
   "outputs": [
    {
     "name": "stdout",
     "output_type": "stream",
     "text": [
      "ESTU_DEDICACIONLECTURADIARIA\n",
      "COLE_NATURALEZA\n"
     ]
    }
   ],
   "source": [
    "tmp = [\"ESTU_GENERO\",\"ESTU_FECHANACIMIENTO\",\"PERIODO\",\"ESTU_DEPTO_RESIDE\",\"FAMI_ESTRATOVIVIENDA\",\"FAMI_PERSONASHOGAR\",\"FAMI_CUARTOSHOGAR\",\"FAMI_EDUCACIONPADRE\",\"FAMI_EDUCACIONMADRE\",\"FAMI_TRABAJOLABORPADRE\",\"FAMI_TRABAJOLABORMADRE\",\"FAMI_TIENESERVICIOTV\",\"FAMI_TIENECOMPUTADOR\",\"FAMI_TIENEAUTOMOVIL\",\"FAMI_TIENEMOTOCICLETA\",\"FAMI_TIENECONSOLAVIDEOJUEGOS\",\"FAMI_NUMLIBROS\",\"FAMI_COMELECHEDERIVADOS\",\"FAMI_COMECARNEPESCADOHUEVO\",\"FAMI_COMECEREALFRUTOSLEGUMBRE\",\"FAMI_SITUACIONECONOMICA\",\"ESTU_DEDICACIONLECTURADIARIA \",\"ESTU_DEDICACIONINTERNET\",\"COLE_NOMBRE_ESTABLECIMIENTO\",\"COLE_NATURALEZA COLE_BILINGUE\",\"COLE_CARACTER\",\"COLE_AREA_UBICACION\",\"COLE_JORNADA\",\"PUNT_LECTURA_CRITICA\",\"PERCENTIL_LECTURA_CRITICA\",\"PUNT_MATEMATICAS\",\"PERCENTIL_MATEMATICAS\",\"PUNT_C_NATURALES\",\"PERCENTIL_C_NATURALES\",\"PUNT_SOCIALES_CIUDADANAS\",\"PERCENTIL_SOCIALES_CIUDADANAS\",\"PUNT_INGLES\",\"PERCENTIL_INGLES\",\"PUNT_GLOBAL\",\"PERCENTIL_GLOBAL\",\"ESTU_NSE_ESTABLECIMIENTO\",\"ESTU_INSE_INDIVIDUAL\",\"ESTU_NSE_INDIVIDUAL\",\n",
    "]\n",
    "\n",
    "for element in Keys:\n",
    "    if element not in tmp:\n",
    "        print(element)\n"
   ]
  },
  {
   "cell_type": "code",
   "execution_count": 5,
   "metadata": {},
   "outputs": [],
   "source": [
    "data = pd.read_csv(path, low_memory=False)"
   ]
  },
  {
   "cell_type": "code",
   "execution_count": 6,
   "metadata": {},
   "outputs": [
    {
     "data": {
      "text/html": [
       "<div>\n",
       "<style scoped>\n",
       "    .dataframe tbody tr th:only-of-type {\n",
       "        vertical-align: middle;\n",
       "    }\n",
       "\n",
       "    .dataframe tbody tr th {\n",
       "        vertical-align: top;\n",
       "    }\n",
       "\n",
       "    .dataframe thead th {\n",
       "        text-align: right;\n",
       "    }\n",
       "</style>\n",
       "<table border=\"1\" class=\"dataframe\">\n",
       "  <thead>\n",
       "    <tr style=\"text-align: right;\">\n",
       "      <th></th>\n",
       "      <th>ESTU_GENERO</th>\n",
       "      <th>ESTU_FECHANACIMIENTO</th>\n",
       "      <th>PERIODO</th>\n",
       "      <th>ESTU_DEPTO_RESIDE</th>\n",
       "      <th>FAMI_ESTRATOVIVIENDA</th>\n",
       "      <th>FAMI_PERSONASHOGAR</th>\n",
       "      <th>FAMI_CUARTOSHOGAR</th>\n",
       "      <th>FAMI_EDUCACIONPADRE</th>\n",
       "      <th>FAMI_EDUCACIONMADRE</th>\n",
       "      <th>FAMI_TRABAJOLABORPADRE</th>\n",
       "      <th>...</th>\n",
       "      <th>COLE_JORNADA</th>\n",
       "      <th>PUNT_LECTURA_CRITICA</th>\n",
       "      <th>PUNT_MATEMATICAS</th>\n",
       "      <th>PUNT_C_NATURALES</th>\n",
       "      <th>PUNT_SOCIALES_CIUDADANAS</th>\n",
       "      <th>PUNT_INGLES</th>\n",
       "      <th>PUNT_GLOBAL</th>\n",
       "      <th>ESTU_NSE_ESTABLECIMIENTO</th>\n",
       "      <th>ESTU_INSE_INDIVIDUAL</th>\n",
       "      <th>ESTU_NSE_INDIVIDUAL</th>\n",
       "    </tr>\n",
       "  </thead>\n",
       "  <tbody>\n",
       "    <tr>\n",
       "      <th>0</th>\n",
       "      <td>M</td>\n",
       "      <td>16</td>\n",
       "      <td>20182</td>\n",
       "      <td>ATLANTICO</td>\n",
       "      <td>Estrato 2</td>\n",
       "      <td>7 a 8</td>\n",
       "      <td>Cuatro</td>\n",
       "      <td>No sabe</td>\n",
       "      <td>No sabe</td>\n",
       "      <td>Es vendedor o trabaja en atención al público</td>\n",
       "      <td>...</td>\n",
       "      <td>MAÑANA</td>\n",
       "      <td>63</td>\n",
       "      <td>69</td>\n",
       "      <td>54</td>\n",
       "      <td>57</td>\n",
       "      <td>65.0</td>\n",
       "      <td>305</td>\n",
       "      <td>2.0</td>\n",
       "      <td>53.169929</td>\n",
       "      <td>NSE3</td>\n",
       "    </tr>\n",
       "    <tr>\n",
       "      <th>1</th>\n",
       "      <td>M</td>\n",
       "      <td>17</td>\n",
       "      <td>20182</td>\n",
       "      <td>CORDOBA</td>\n",
       "      <td>Estrato 1</td>\n",
       "      <td>5 a 6</td>\n",
       "      <td>Dos</td>\n",
       "      <td>Secundaria (Bachillerato) completa</td>\n",
       "      <td>Primaria completa</td>\n",
       "      <td>Trabaja por cuenta propia (por ejemplo plomero...</td>\n",
       "      <td>...</td>\n",
       "      <td>UNICA</td>\n",
       "      <td>54</td>\n",
       "      <td>50</td>\n",
       "      <td>50</td>\n",
       "      <td>40</td>\n",
       "      <td>48.0</td>\n",
       "      <td>242</td>\n",
       "      <td>2.0</td>\n",
       "      <td>45.062853</td>\n",
       "      <td>NSE2</td>\n",
       "    </tr>\n",
       "    <tr>\n",
       "      <th>2</th>\n",
       "      <td>M</td>\n",
       "      <td>16</td>\n",
       "      <td>20182</td>\n",
       "      <td>VALLE</td>\n",
       "      <td>Estrato 2</td>\n",
       "      <td>1 a 2</td>\n",
       "      <td>Dos</td>\n",
       "      <td>No sabe</td>\n",
       "      <td>Técnica o tecnológica incompleta</td>\n",
       "      <td>No sabe</td>\n",
       "      <td>...</td>\n",
       "      <td>MAÑANA</td>\n",
       "      <td>59</td>\n",
       "      <td>43</td>\n",
       "      <td>46</td>\n",
       "      <td>45</td>\n",
       "      <td>47.0</td>\n",
       "      <td>241</td>\n",
       "      <td>2.0</td>\n",
       "      <td>44.806936</td>\n",
       "      <td>NSE2</td>\n",
       "    </tr>\n",
       "    <tr>\n",
       "      <th>3</th>\n",
       "      <td>M</td>\n",
       "      <td>17</td>\n",
       "      <td>20182</td>\n",
       "      <td>BOYACA</td>\n",
       "      <td>Estrato 3</td>\n",
       "      <td>3 a 4</td>\n",
       "      <td>Tres</td>\n",
       "      <td>No sabe</td>\n",
       "      <td>Educación profesional completa</td>\n",
       "      <td>No sabe</td>\n",
       "      <td>...</td>\n",
       "      <td>MAÑANA</td>\n",
       "      <td>61</td>\n",
       "      <td>60</td>\n",
       "      <td>60</td>\n",
       "      <td>67</td>\n",
       "      <td>63.0</td>\n",
       "      <td>310</td>\n",
       "      <td>3.0</td>\n",
       "      <td>73.630225</td>\n",
       "      <td>NSE4</td>\n",
       "    </tr>\n",
       "    <tr>\n",
       "      <th>4</th>\n",
       "      <td>M</td>\n",
       "      <td>19</td>\n",
       "      <td>20182</td>\n",
       "      <td>BOGOTA</td>\n",
       "      <td>Estrato 2</td>\n",
       "      <td>7 a 8</td>\n",
       "      <td>Tres</td>\n",
       "      <td>No sabe</td>\n",
       "      <td>No sabe</td>\n",
       "      <td>No aplica</td>\n",
       "      <td>...</td>\n",
       "      <td>COMPLETA</td>\n",
       "      <td>56</td>\n",
       "      <td>51</td>\n",
       "      <td>48</td>\n",
       "      <td>49</td>\n",
       "      <td>56.0</td>\n",
       "      <td>257</td>\n",
       "      <td>3.0</td>\n",
       "      <td>49.391007</td>\n",
       "      <td>NSE2</td>\n",
       "    </tr>\n",
       "  </tbody>\n",
       "</table>\n",
       "<p>5 rows × 36 columns</p>\n",
       "</div>"
      ],
      "text/plain": [
       "  ESTU_GENERO  ESTU_FECHANACIMIENTO  PERIODO ESTU_DEPTO_RESIDE  \\\n",
       "0           M                    16    20182         ATLANTICO   \n",
       "1           M                    17    20182           CORDOBA   \n",
       "2           M                    16    20182             VALLE   \n",
       "3           M                    17    20182            BOYACA   \n",
       "4           M                    19    20182            BOGOTA   \n",
       "\n",
       "  FAMI_ESTRATOVIVIENDA FAMI_PERSONASHOGAR FAMI_CUARTOSHOGAR  \\\n",
       "0            Estrato 2              7 a 8            Cuatro   \n",
       "1            Estrato 1              5 a 6               Dos   \n",
       "2            Estrato 2              1 a 2               Dos   \n",
       "3            Estrato 3              3 a 4              Tres   \n",
       "4            Estrato 2              7 a 8              Tres   \n",
       "\n",
       "                  FAMI_EDUCACIONPADRE               FAMI_EDUCACIONMADRE  \\\n",
       "0                             No sabe                           No sabe   \n",
       "1  Secundaria (Bachillerato) completa                 Primaria completa   \n",
       "2                             No sabe  Técnica o tecnológica incompleta   \n",
       "3                             No sabe    Educación profesional completa   \n",
       "4                             No sabe                           No sabe   \n",
       "\n",
       "                              FAMI_TRABAJOLABORPADRE  ... COLE_JORNADA  \\\n",
       "0       Es vendedor o trabaja en atención al público  ...       MAÑANA   \n",
       "1  Trabaja por cuenta propia (por ejemplo plomero...  ...        UNICA   \n",
       "2                                            No sabe  ...       MAÑANA   \n",
       "3                                            No sabe  ...       MAÑANA   \n",
       "4                                          No aplica  ...     COMPLETA   \n",
       "\n",
       "  PUNT_LECTURA_CRITICA PUNT_MATEMATICAS PUNT_C_NATURALES  \\\n",
       "0                   63               69               54   \n",
       "1                   54               50               50   \n",
       "2                   59               43               46   \n",
       "3                   61               60               60   \n",
       "4                   56               51               48   \n",
       "\n",
       "  PUNT_SOCIALES_CIUDADANAS PUNT_INGLES PUNT_GLOBAL ESTU_NSE_ESTABLECIMIENTO  \\\n",
       "0                       57        65.0         305                      2.0   \n",
       "1                       40        48.0         242                      2.0   \n",
       "2                       45        47.0         241                      2.0   \n",
       "3                       67        63.0         310                      3.0   \n",
       "4                       49        56.0         257                      3.0   \n",
       "\n",
       "  ESTU_INSE_INDIVIDUAL ESTU_NSE_INDIVIDUAL  \n",
       "0            53.169929                NSE3  \n",
       "1            45.062853                NSE2  \n",
       "2            44.806936                NSE2  \n",
       "3            73.630225                NSE4  \n",
       "4            49.391007                NSE2  \n",
       "\n",
       "[5 rows x 36 columns]"
      ]
     },
     "execution_count": 6,
     "metadata": {},
     "output_type": "execute_result"
    }
   ],
   "source": [
    "data.head()"
   ]
  },
  {
   "cell_type": "code",
   "execution_count": 7,
   "metadata": {
    "scrolled": false
   },
   "outputs": [
    {
     "data": {
      "text/plain": [
       "ESTU_GENERO                                                                      M\n",
       "ESTU_FECHANACIMIENTO                                                            16\n",
       "PERIODO                                                                      20182\n",
       "ESTU_DEPTO_RESIDE                                                        ATLANTICO\n",
       "FAMI_ESTRATOVIVIENDA                                                     Estrato 2\n",
       "FAMI_PERSONASHOGAR                                                           7 a 8\n",
       "FAMI_CUARTOSHOGAR                                                           Cuatro\n",
       "FAMI_EDUCACIONPADRE                                                        No sabe\n",
       "FAMI_EDUCACIONMADRE                                                        No sabe\n",
       "FAMI_TRABAJOLABORPADRE                Es vendedor o trabaja en atención al público\n",
       "FAMI_TRABAJOLABORMADRE                Es vendedor o trabaja en atención al público\n",
       "FAMI_TIENESERVICIOTV                                                            Si\n",
       "FAMI_TIENECOMPUTADOR                                                            No\n",
       "FAMI_TIENEAUTOMOVIL                                                             No\n",
       "FAMI_TIENEMOTOCICLETA                                                           Si\n",
       "FAMI_TIENECONSOLAVIDEOJUEGOS                                                    No\n",
       "FAMI_NUMLIBROS                                                     26 A 100 LIBROS\n",
       "FAMI_COMELECHEDERIVADOS                                Todos o casi todos los días\n",
       "FAMI_COMECARNEPESCADOHUEVO                             Todos o casi todos los días\n",
       "FAMI_COMECEREALFRUTOSLEGUMBRE                               1 o 2 veces por semana\n",
       "ESTU_DEDICACIONLECTURADIARIA                                    30 minutos o menos\n",
       "ESTU_DEDICACIONINTERNET                                             Más de 3 horas\n",
       "COLE_NOMBRE_ESTABLECIMIENTO      INSTITUCION EDUCATIVA DISTRITAL PARA EL DESARR...\n",
       "COLE_NATURALEZA                                                            OFICIAL\n",
       "COLE_CARACTER                                                            ACADÉMICO\n",
       "COLE_AREA_UBICACION                                                         URBANO\n",
       "COLE_JORNADA                                                                MAÑANA\n",
       "PUNT_LECTURA_CRITICA                                                            63\n",
       "PUNT_MATEMATICAS                                                                69\n",
       "PUNT_C_NATURALES                                                                54\n",
       "PUNT_SOCIALES_CIUDADANAS                                                        57\n",
       "PUNT_INGLES                                                                     65\n",
       "PUNT_GLOBAL                                                                    305\n",
       "ESTU_NSE_ESTABLECIMIENTO                                                         2\n",
       "ESTU_INSE_INDIVIDUAL                                                       53.1699\n",
       "ESTU_NSE_INDIVIDUAL                                                           NSE3\n",
       "Name: 0, dtype: object"
      ]
     },
     "execution_count": 7,
     "metadata": {},
     "output_type": "execute_result"
    }
   ],
   "source": [
    "data.iloc[0]"
   ]
  },
  {
   "cell_type": "markdown",
   "metadata": {},
   "source": [
    "## Histogramas"
   ]
  },
  {
   "cell_type": "code",
   "execution_count": null,
   "metadata": {},
   "outputs": [],
   "source": [
    "data.groupby(\"COLE_JORNADA\").size()"
   ]
  },
  {
   "cell_type": "code",
   "execution_count": 11,
   "metadata": {},
   "outputs": [
    {
     "data": {
      "text/plain": [
       "FAMI_ESTRATOVIVIENDA\n",
       "Estrato 1      33.389810\n",
       "Estrato 2      36.512740\n",
       "Estrato 3      20.299233\n",
       "Estrato 4       4.685417\n",
       "Estrato 5       1.571219\n",
       "Estrato 6       0.782219\n",
       "Sin Estrato     2.759363\n",
       "dtype: float64"
      ]
     },
     "execution_count": 11,
     "metadata": {},
     "output_type": "execute_result"
    }
   ],
   "source": [
    "data.groupby(\"FAMI_ESTRATOVIVIENDA\").size()/data.shape[0] * 100"
   ]
  },
  {
   "cell_type": "code",
   "execution_count": 8,
   "metadata": {},
   "outputs": [
    {
     "data": {
      "text/plain": [
       "<matplotlib.axes._subplots.AxesSubplot at 0x1ab0069d588>"
      ]
     },
     "execution_count": 8,
     "metadata": {},
     "output_type": "execute_result"
    },
    {
     "data": {
      "image/png": "[encoded data removed]",
      "text/plain": [
       "<Figure size 432x288 with 1 Axes>"
      ]
     },
     "metadata": {
      "needs_background": "light"
     },
     "output_type": "display_data"
    }
   ],
   "source": [
    "data['FAMI_ESTRATOVIVIENDA'].value_counts().plot(kind='bar')"
   ]
  },
  {
   "cell_type": "code",
   "execution_count": 10,
   "metadata": {},
   "outputs": [
    {
     "data": {
      "text/plain": [
       "ESTU_FECHANACIMIENTO\n",
       "14      1427\n",
       "15     38604\n",
       "16    386029\n",
       "17    349675\n",
       "18    175409\n",
       "19     66293\n",
       "20     22511\n",
       "21     10203\n",
       "22      6149\n",
       "23      4285\n",
       "24      3368\n",
       "25      2746\n",
       "26      2310\n",
       "27      2197\n",
       "28      2049\n",
       "29      1780\n",
       "30      1518\n",
       "dtype: int64"
      ]
     },
     "execution_count": 10,
     "metadata": {},
     "output_type": "execute_result"
    }
   ],
   "source": [
    "data.groupby(\"ESTU_FECHANACIMIENTO\").size()"
   ]
  },
  {
   "cell_type": "code",
   "execution_count": 9,
   "metadata": {},
   "outputs": [
    {
     "name": "stdout",
     "output_type": "stream",
     "text": [
      "<class 'matplotlib.axes._subplots.AxesSubplot'>\n"
     ]
    },
    {
     "data": {
      "image/png": "[encoded data removed]",
      "text/plain": [
       "<Figure size 432x288 with 1 Axes>"
      ]
     },
     "metadata": {
      "needs_background": "light"
     },
     "output_type": "display_data"
    }
   ],
   "source": [
    "hist = data[\"ESTU_FECHANACIMIENTO\"].hist()\n",
    "hist.set_xlabel(\"Edad\")\n",
    "print(type(hist))"
   ]
  },
  {
   "cell_type": "code",
   "execution_count": 12,
   "metadata": {},
   "outputs": [
    {
     "data": {
      "text/plain": [
       "<matplotlib.axes._subplots.AxesSubplot at 0x1ab0083acc0>"
      ]
     },
     "execution_count": 12,
     "metadata": {},
     "output_type": "execute_result"
    },
    {
     "data": {
      "image/png": "[encoded data removed]",
      "text/plain": [
       "<Figure size 432x288 with 1 Axes>"
      ]
     },
     "metadata": {
      "needs_background": "light"
     },
     "output_type": "display_data"
    }
   ],
   "source": [
    "data['ESTU_GENERO'].value_counts().plot(kind='bar')"
   ]
  },
  {
   "cell_type": "code",
   "execution_count": 22,
   "metadata": {},
   "outputs": [
    {
     "name": "stdout",
     "output_type": "stream",
     "text": [
      "min 12.53886749\n",
      "max 84.83636609\n"
     ]
    }
   ],
   "source": [
    "#data.groupby(\"ESTU_INSE_INDIVIDUAL\").size()\n",
    "print(\"min\",data[\"ESTU_INSE_INDIVIDUAL\"].min())\n",
    "print(\"max\",data[\"ESTU_INSE_INDIVIDUAL\"].max())\n"
   ]
  },
  {
   "cell_type": "code",
   "execution_count": 25,
   "metadata": {},
   "outputs": [
    {
     "data": {
      "text/plain": [
       "<matplotlib.axes._subplots.AxesSubplot at 0x1ab340e3588>"
      ]
     },
     "execution_count": 25,
     "metadata": {},
     "output_type": "execute_result"
    },
    {
     "data": {
      "image/png": "[encoded data removed]",
      "text/plain": [
       "<Figure size 432x288 with 1 Axes>"
      ]
     },
     "metadata": {
      "needs_background": "light"
     },
     "output_type": "display_data"
    }
   ],
   "source": [
    "data['ESTU_INSE_INDIVIDUAL'].hist(bins = 100)"
   ]
  },
  {
   "cell_type": "code",
   "execution_count": 27,
   "metadata": {},
   "outputs": [
    {
     "data": {
      "text/plain": [
       "<matplotlib.axes._subplots.AxesSubplot at 0x1ab342fafd0>"
      ]
     },
     "execution_count": 27,
     "metadata": {},
     "output_type": "execute_result"
    },
    {
     "data": {
      "image/png": "[encoded data removed]",
      "text/plain": [
       "<Figure size 432x288 with 1 Axes>"
      ]
     },
     "metadata": {
      "needs_background": "light"
     },
     "output_type": "display_data"
    }
   ],
   "source": [
    "data[\"ESTU_NSE_INDIVIDUAL\"].value_counts().plot(kind ='bar')"
   ]
  },
  {
   "cell_type": "code",
   "execution_count": null,
   "metadata": {},
   "outputs": [],
   "source": [
    "data.shape"
   ]
  },
  {
   "cell_type": "code",
   "execution_count": null,
   "metadata": {},
   "outputs": [],
   "source": [
    "#print(data.PUNT_GLOBAL.corr(data.ESTU_NSE_INDIVIDUAL, method=\"pearson\"))"
   ]
  },
  {
   "cell_type": "markdown",
   "metadata": {},
   "source": [
    "## Diagramas de caja"
   ]
  },
  {
   "cell_type": "code",
   "execution_count": 35,
   "metadata": {},
   "outputs": [
    {
     "data": {
      "text/plain": [
       "Text(0.5, 0, 'Edad')"
      ]
     },
     "execution_count": 35,
     "metadata": {},
     "output_type": "execute_result"
    },
    {
     "data": {
      "image/png": "[encoded data removed]",
      "text/plain": [
       "<Figure size 432x288 with 1 Axes>"
      ]
     },
     "metadata": {
      "needs_background": "light"
     },
     "output_type": "display_data"
    }
   ],
   "source": [
    "hist = data.boxplot(column=['ESTU_FECHANACIMIENTO'])\n",
    "hist.set_xlabel(\"Edad\")"
   ]
  },
  {
   "cell_type": "code",
   "execution_count": 31,
   "metadata": {},
   "outputs": [
    {
     "data": {
      "text/plain": [
       "ESTU_FECHANACIMIENTO\n",
       "23    0.398030\n",
       "24    0.312850\n",
       "25    0.255073\n",
       "26    0.214574\n",
       "27    0.204077\n",
       "28    0.190330\n",
       "29    0.165343\n",
       "30    0.141006\n",
       "dtype: float64"
      ]
     },
     "execution_count": 31,
     "metadata": {},
     "output_type": "execute_result"
    }
   ],
   "source": [
    "dataAge = data[data['ESTU_FECHANACIMIENTO'] > 22]\n",
    "dataAge.groupby(\"ESTU_FECHANACIMIENTO\").size()/data.shape[0]*100"
   ]
  },
  {
   "cell_type": "code",
   "execution_count": null,
   "metadata": {},
   "outputs": [],
   "source": []
  },
  {
   "cell_type": "markdown",
   "metadata": {},
   "source": [
    "## tabla de contingencia"
   ]
  },
  {
   "cell_type": "code",
   "execution_count": 38,
   "metadata": {},
   "outputs": [
    {
     "data": {
      "text/html": [
       "<div>\n",
       "<style scoped>\n",
       "    .dataframe tbody tr th:only-of-type {\n",
       "        vertical-align: middle;\n",
       "    }\n",
       "\n",
       "    .dataframe tbody tr th {\n",
       "        vertical-align: top;\n",
       "    }\n",
       "\n",
       "    .dataframe thead th {\n",
       "        text-align: right;\n",
       "    }\n",
       "</style>\n",
       "<table border=\"1\" class=\"dataframe\">\n",
       "  <thead>\n",
       "    <tr style=\"text-align: right;\">\n",
       "      <th>FAMI_TIENECOMPUTADOR</th>\n",
       "      <th>-</th>\n",
       "      <th>No</th>\n",
       "      <th>Si</th>\n",
       "    </tr>\n",
       "    <tr>\n",
       "      <th>FAMI_TIENESERVICIOTV</th>\n",
       "      <th></th>\n",
       "      <th></th>\n",
       "      <th></th>\n",
       "    </tr>\n",
       "  </thead>\n",
       "  <tbody>\n",
       "    <tr>\n",
       "      <th>-</th>\n",
       "      <td>1.376337</td>\n",
       "      <td>2.109975</td>\n",
       "      <td>2.023495</td>\n",
       "    </tr>\n",
       "    <tr>\n",
       "      <th>No</th>\n",
       "      <td>0.287863</td>\n",
       "      <td>14.776421</td>\n",
       "      <td>7.796086</td>\n",
       "    </tr>\n",
       "    <tr>\n",
       "      <th>Si</th>\n",
       "      <td>0.768936</td>\n",
       "      <td>23.548399</td>\n",
       "      <td>47.312487</td>\n",
       "    </tr>\n",
       "  </tbody>\n",
       "</table>\n",
       "</div>"
      ],
      "text/plain": [
       "FAMI_TIENECOMPUTADOR         -         No         Si\n",
       "FAMI_TIENESERVICIOTV                                \n",
       "-                     1.376337   2.109975   2.023495\n",
       "No                    0.287863  14.776421   7.796086\n",
       "Si                    0.768936  23.548399  47.312487"
      ]
     },
     "execution_count": 38,
     "metadata": {},
     "output_type": "execute_result"
    }
   ],
   "source": [
    "pd.crosstab(data['FAMI_TIENESERVICIOTV'], [data['FAMI_TIENECOMPUTADOR']])/data.shape[0]*100"
   ]
  },
  {
   "cell_type": "code",
   "execution_count": 39,
   "metadata": {},
   "outputs": [
    {
     "data": {
      "text/html": [
       "<div>\n",
       "<style scoped>\n",
       "    .dataframe tbody tr th:only-of-type {\n",
       "        vertical-align: middle;\n",
       "    }\n",
       "\n",
       "    .dataframe tbody tr th {\n",
       "        vertical-align: top;\n",
       "    }\n",
       "\n",
       "    .dataframe thead th {\n",
       "        text-align: right;\n",
       "    }\n",
       "</style>\n",
       "<table border=\"1\" class=\"dataframe\">\n",
       "  <thead>\n",
       "    <tr style=\"text-align: right;\">\n",
       "      <th>FAMI_EDUCACIONMADRE</th>\n",
       "      <th>-</th>\n",
       "      <th>Educación profesional completa</th>\n",
       "      <th>Educación profesional incompleta</th>\n",
       "      <th>Ninguno</th>\n",
       "      <th>No Aplica</th>\n",
       "      <th>No sabe</th>\n",
       "      <th>Postgrado</th>\n",
       "      <th>Primaria completa</th>\n",
       "      <th>Primaria incompleta</th>\n",
       "      <th>Secundaria (Bachillerato) completa</th>\n",
       "      <th>Secundaria (Bachillerato) incompleta</th>\n",
       "      <th>Técnica o tecnológica completa</th>\n",
       "      <th>Técnica o tecnológica incompleta</th>\n",
       "    </tr>\n",
       "    <tr>\n",
       "      <th>FAMI_EDUCACIONPADRE</th>\n",
       "      <th></th>\n",
       "      <th></th>\n",
       "      <th></th>\n",
       "      <th></th>\n",
       "      <th></th>\n",
       "      <th></th>\n",
       "      <th></th>\n",
       "      <th></th>\n",
       "      <th></th>\n",
       "      <th></th>\n",
       "      <th></th>\n",
       "      <th></th>\n",
       "      <th></th>\n",
       "    </tr>\n",
       "  </thead>\n",
       "  <tbody>\n",
       "    <tr>\n",
       "      <th>-</th>\n",
       "      <td>4.883550</td>\n",
       "      <td>0.019135</td>\n",
       "      <td>0.004459</td>\n",
       "      <td>0.006224</td>\n",
       "      <td>0.000650</td>\n",
       "      <td>0.002972</td>\n",
       "      <td>0.002415</td>\n",
       "      <td>0.031675</td>\n",
       "      <td>0.044401</td>\n",
       "      <td>0.066601</td>\n",
       "      <td>0.038177</td>\n",
       "      <td>0.023780</td>\n",
       "      <td>0.008174</td>\n",
       "    </tr>\n",
       "    <tr>\n",
       "      <th>Educación profesional completa</th>\n",
       "      <td>0.017370</td>\n",
       "      <td>3.796190</td>\n",
       "      <td>0.512190</td>\n",
       "      <td>0.019600</td>\n",
       "      <td>0.012819</td>\n",
       "      <td>0.102178</td>\n",
       "      <td>0.417072</td>\n",
       "      <td>0.143421</td>\n",
       "      <td>0.156147</td>\n",
       "      <td>1.383304</td>\n",
       "      <td>0.442245</td>\n",
       "      <td>1.219448</td>\n",
       "      <td>0.249407</td>\n",
       "    </tr>\n",
       "    <tr>\n",
       "      <th>Educación profesional incompleta</th>\n",
       "      <td>0.004923</td>\n",
       "      <td>0.421252</td>\n",
       "      <td>0.319910</td>\n",
       "      <td>0.007896</td>\n",
       "      <td>0.006781</td>\n",
       "      <td>0.021457</td>\n",
       "      <td>0.089452</td>\n",
       "      <td>0.046352</td>\n",
       "      <td>0.041800</td>\n",
       "      <td>0.359852</td>\n",
       "      <td>0.148623</td>\n",
       "      <td>0.290929</td>\n",
       "      <td>0.097534</td>\n",
       "    </tr>\n",
       "    <tr>\n",
       "      <th>Ninguno</th>\n",
       "      <td>0.021364</td>\n",
       "      <td>0.050160</td>\n",
       "      <td>0.019878</td>\n",
       "      <td>0.890992</td>\n",
       "      <td>0.007803</td>\n",
       "      <td>0.027124</td>\n",
       "      <td>0.007431</td>\n",
       "      <td>0.468625</td>\n",
       "      <td>1.033762</td>\n",
       "      <td>0.383260</td>\n",
       "      <td>0.417258</td>\n",
       "      <td>0.066787</td>\n",
       "      <td>0.045609</td>\n",
       "    </tr>\n",
       "    <tr>\n",
       "      <th>No Aplica</th>\n",
       "      <td>0.001951</td>\n",
       "      <td>0.100042</td>\n",
       "      <td>0.026473</td>\n",
       "      <td>0.013562</td>\n",
       "      <td>0.047373</td>\n",
       "      <td>0.017184</td>\n",
       "      <td>0.026659</td>\n",
       "      <td>0.087409</td>\n",
       "      <td>0.121406</td>\n",
       "      <td>0.221169</td>\n",
       "      <td>0.130788</td>\n",
       "      <td>0.109702</td>\n",
       "      <td>0.032418</td>\n",
       "    </tr>\n",
       "    <tr>\n",
       "      <th>No sabe</th>\n",
       "      <td>0.011797</td>\n",
       "      <td>0.560585</td>\n",
       "      <td>0.143885</td>\n",
       "      <td>0.053597</td>\n",
       "      <td>0.013562</td>\n",
       "      <td>0.906783</td>\n",
       "      <td>0.097534</td>\n",
       "      <td>0.475035</td>\n",
       "      <td>0.648551</td>\n",
       "      <td>1.357202</td>\n",
       "      <td>0.818446</td>\n",
       "      <td>0.577491</td>\n",
       "      <td>0.155589</td>\n",
       "    </tr>\n",
       "    <tr>\n",
       "      <th>Postgrado</th>\n",
       "      <td>0.002136</td>\n",
       "      <td>0.481165</td>\n",
       "      <td>0.081742</td>\n",
       "      <td>0.002415</td>\n",
       "      <td>0.004737</td>\n",
       "      <td>0.019042</td>\n",
       "      <td>0.726300</td>\n",
       "      <td>0.013655</td>\n",
       "      <td>0.012912</td>\n",
       "      <td>0.123450</td>\n",
       "      <td>0.035762</td>\n",
       "      <td>0.157261</td>\n",
       "      <td>0.032233</td>\n",
       "    </tr>\n",
       "    <tr>\n",
       "      <th>Primaria completa</th>\n",
       "      <td>0.026288</td>\n",
       "      <td>0.272351</td>\n",
       "      <td>0.075333</td>\n",
       "      <td>0.218475</td>\n",
       "      <td>0.008824</td>\n",
       "      <td>0.067530</td>\n",
       "      <td>0.034183</td>\n",
       "      <td>3.503590</td>\n",
       "      <td>1.789322</td>\n",
       "      <td>2.273738</td>\n",
       "      <td>1.641257</td>\n",
       "      <td>0.466303</td>\n",
       "      <td>0.166643</td>\n",
       "    </tr>\n",
       "    <tr>\n",
       "      <th>Primaria incompleta</th>\n",
       "      <td>0.040593</td>\n",
       "      <td>0.332171</td>\n",
       "      <td>0.096047</td>\n",
       "      <td>0.600714</td>\n",
       "      <td>0.014398</td>\n",
       "      <td>0.107658</td>\n",
       "      <td>0.035948</td>\n",
       "      <td>2.985083</td>\n",
       "      <td>8.199503</td>\n",
       "      <td>2.929071</td>\n",
       "      <td>2.962232</td>\n",
       "      <td>0.586873</td>\n",
       "      <td>0.214109</td>\n",
       "    </tr>\n",
       "    <tr>\n",
       "      <th>Secundaria (Bachillerato) completa</th>\n",
       "      <td>0.047002</td>\n",
       "      <td>1.695690</td>\n",
       "      <td>0.439365</td>\n",
       "      <td>0.127815</td>\n",
       "      <td>0.019971</td>\n",
       "      <td>0.178440</td>\n",
       "      <td>0.212809</td>\n",
       "      <td>1.377452</td>\n",
       "      <td>1.296081</td>\n",
       "      <td>9.666872</td>\n",
       "      <td>2.771717</td>\n",
       "      <td>2.347400</td>\n",
       "      <td>0.759647</td>\n",
       "    </tr>\n",
       "    <tr>\n",
       "      <th>Secundaria (Bachillerato) incompleta</th>\n",
       "      <td>0.033254</td>\n",
       "      <td>0.706700</td>\n",
       "      <td>0.213273</td>\n",
       "      <td>0.161163</td>\n",
       "      <td>0.011332</td>\n",
       "      <td>0.108773</td>\n",
       "      <td>0.089731</td>\n",
       "      <td>1.306763</td>\n",
       "      <td>1.564809</td>\n",
       "      <td>3.468942</td>\n",
       "      <td>4.573672</td>\n",
       "      <td>1.070268</td>\n",
       "      <td>0.398308</td>\n",
       "    </tr>\n",
       "    <tr>\n",
       "      <th>Técnica o tecnológica completa</th>\n",
       "      <td>0.014212</td>\n",
       "      <td>0.971341</td>\n",
       "      <td>0.256002</td>\n",
       "      <td>0.015977</td>\n",
       "      <td>0.010589</td>\n",
       "      <td>0.067995</td>\n",
       "      <td>0.150666</td>\n",
       "      <td>0.179740</td>\n",
       "      <td>0.162370</td>\n",
       "      <td>1.521523</td>\n",
       "      <td>0.525566</td>\n",
       "      <td>2.178063</td>\n",
       "      <td>0.343690</td>\n",
       "    </tr>\n",
       "    <tr>\n",
       "      <th>Técnica o tecnológica incompleta</th>\n",
       "      <td>0.007617</td>\n",
       "      <td>0.204635</td>\n",
       "      <td>0.092239</td>\n",
       "      <td>0.014119</td>\n",
       "      <td>0.005109</td>\n",
       "      <td>0.019507</td>\n",
       "      <td>0.037527</td>\n",
       "      <td>0.092146</td>\n",
       "      <td>0.080628</td>\n",
       "      <td>0.494820</td>\n",
       "      <td>0.222562</td>\n",
       "      <td>0.299289</td>\n",
       "      <td>0.387162</td>\n",
       "    </tr>\n",
       "  </tbody>\n",
       "</table>\n",
       "</div>"
      ],
      "text/plain": [
       "FAMI_EDUCACIONMADRE                          -  \\\n",
       "FAMI_EDUCACIONPADRE                              \n",
       "-                                     4.883550   \n",
       "Educación profesional completa        0.017370   \n",
       "Educación profesional incompleta      0.004923   \n",
       "Ninguno                               0.021364   \n",
       "No Aplica                             0.001951   \n",
       "No sabe                               0.011797   \n",
       "Postgrado                             0.002136   \n",
       "Primaria completa                     0.026288   \n",
       "Primaria incompleta                   0.040593   \n",
       "Secundaria (Bachillerato) completa    0.047002   \n",
       "Secundaria (Bachillerato) incompleta  0.033254   \n",
       "Técnica o tecnológica completa        0.014212   \n",
       "Técnica o tecnológica incompleta      0.007617   \n",
       "\n",
       "FAMI_EDUCACIONMADRE                   Educación profesional completa  \\\n",
       "FAMI_EDUCACIONPADRE                                                    \n",
       "-                                                           0.019135   \n",
       "Educación profesional completa                              3.796190   \n",
       "Educación profesional incompleta                            0.421252   \n",
       "Ninguno                                                     0.050160   \n",
       "No Aplica                                                   0.100042   \n",
       "No sabe                                                     0.560585   \n",
       "Postgrado                                                   0.481165   \n",
       "Primaria completa                                           0.272351   \n",
       "Primaria incompleta                                         0.332171   \n",
       "Secundaria (Bachillerato) completa                          1.695690   \n",
       "Secundaria (Bachillerato) incompleta                        0.706700   \n",
       "Técnica o tecnológica completa                              0.971341   \n",
       "Técnica o tecnológica incompleta                            0.204635   \n",
       "\n",
       "FAMI_EDUCACIONMADRE                   Educación profesional incompleta  \\\n",
       "FAMI_EDUCACIONPADRE                                                      \n",
       "-                                                             0.004459   \n",
       "Educación profesional completa                                0.512190   \n",
       "Educación profesional incompleta                              0.319910   \n",
       "Ninguno                                                       0.019878   \n",
       "No Aplica                                                     0.026473   \n",
       "No sabe                                                       0.143885   \n",
       "Postgrado                                                     0.081742   \n",
       "Primaria completa                                             0.075333   \n",
       "Primaria incompleta                                           0.096047   \n",
       "Secundaria (Bachillerato) completa                            0.439365   \n",
       "Secundaria (Bachillerato) incompleta                          0.213273   \n",
       "Técnica o tecnológica completa                                0.256002   \n",
       "Técnica o tecnológica incompleta                              0.092239   \n",
       "\n",
       "FAMI_EDUCACIONMADRE                    Ninguno  No Aplica   No sabe  \\\n",
       "FAMI_EDUCACIONPADRE                                                   \n",
       "-                                     0.006224   0.000650  0.002972   \n",
       "Educación profesional completa        0.019600   0.012819  0.102178   \n",
       "Educación profesional incompleta      0.007896   0.006781  0.021457   \n",
       "Ninguno                               0.890992   0.007803  0.027124   \n",
       "No Aplica                             0.013562   0.047373  0.017184   \n",
       "No sabe                               0.053597   0.013562  0.906783   \n",
       "Postgrado                             0.002415   0.004737  0.019042   \n",
       "Primaria completa                     0.218475   0.008824  0.067530   \n",
       "Primaria incompleta                   0.600714   0.014398  0.107658   \n",
       "Secundaria (Bachillerato) completa    0.127815   0.019971  0.178440   \n",
       "Secundaria (Bachillerato) incompleta  0.161163   0.011332  0.108773   \n",
       "Técnica o tecnológica completa        0.015977   0.010589  0.067995   \n",
       "Técnica o tecnológica incompleta      0.014119   0.005109  0.019507   \n",
       "\n",
       "FAMI_EDUCACIONMADRE                   Postgrado  Primaria completa  \\\n",
       "FAMI_EDUCACIONPADRE                                                  \n",
       "-                                      0.002415           0.031675   \n",
       "Educación profesional completa         0.417072           0.143421   \n",
       "Educación profesional incompleta       0.089452           0.046352   \n",
       "Ninguno                                0.007431           0.468625   \n",
       "No Aplica                              0.026659           0.087409   \n",
       "No sabe                                0.097534           0.475035   \n",
       "Postgrado                              0.726300           0.013655   \n",
       "Primaria completa                      0.034183           3.503590   \n",
       "Primaria incompleta                    0.035948           2.985083   \n",
       "Secundaria (Bachillerato) completa     0.212809           1.377452   \n",
       "Secundaria (Bachillerato) incompleta   0.089731           1.306763   \n",
       "Técnica o tecnológica completa         0.150666           0.179740   \n",
       "Técnica o tecnológica incompleta       0.037527           0.092146   \n",
       "\n",
       "FAMI_EDUCACIONMADRE                   Primaria incompleta  \\\n",
       "FAMI_EDUCACIONPADRE                                         \n",
       "-                                                0.044401   \n",
       "Educación profesional completa                   0.156147   \n",
       "Educación profesional incompleta                 0.041800   \n",
       "Ninguno                                          1.033762   \n",
       "No Aplica                                        0.121406   \n",
       "No sabe                                          0.648551   \n",
       "Postgrado                                        0.012912   \n",
       "Primaria completa                                1.789322   \n",
       "Primaria incompleta                              8.199503   \n",
       "Secundaria (Bachillerato) completa               1.296081   \n",
       "Secundaria (Bachillerato) incompleta             1.564809   \n",
       "Técnica o tecnológica completa                   0.162370   \n",
       "Técnica o tecnológica incompleta                 0.080628   \n",
       "\n",
       "FAMI_EDUCACIONMADRE                   Secundaria (Bachillerato) completa  \\\n",
       "FAMI_EDUCACIONPADRE                                                        \n",
       "-                                                               0.066601   \n",
       "Educación profesional completa                                  1.383304   \n",
       "Educación profesional incompleta                                0.359852   \n",
       "Ninguno                                                         0.383260   \n",
       "No Aplica                                                       0.221169   \n",
       "No sabe                                                         1.357202   \n",
       "Postgrado                                                       0.123450   \n",
       "Primaria completa                                               2.273738   \n",
       "Primaria incompleta                                             2.929071   \n",
       "Secundaria (Bachillerato) completa                              9.666872   \n",
       "Secundaria (Bachillerato) incompleta                            3.468942   \n",
       "Técnica o tecnológica completa                                  1.521523   \n",
       "Técnica o tecnológica incompleta                                0.494820   \n",
       "\n",
       "FAMI_EDUCACIONMADRE                   Secundaria (Bachillerato) incompleta  \\\n",
       "FAMI_EDUCACIONPADRE                                                          \n",
       "-                                                                 0.038177   \n",
       "Educación profesional completa                                    0.442245   \n",
       "Educación profesional incompleta                                  0.148623   \n",
       "Ninguno                                                           0.417258   \n",
       "No Aplica                                                         0.130788   \n",
       "No sabe                                                           0.818446   \n",
       "Postgrado                                                         0.035762   \n",
       "Primaria completa                                                 1.641257   \n",
       "Primaria incompleta                                               2.962232   \n",
       "Secundaria (Bachillerato) completa                                2.771717   \n",
       "Secundaria (Bachillerato) incompleta                              4.573672   \n",
       "Técnica o tecnológica completa                                    0.525566   \n",
       "Técnica o tecnológica incompleta                                  0.222562   \n",
       "\n",
       "FAMI_EDUCACIONMADRE                   Técnica o tecnológica completa  \\\n",
       "FAMI_EDUCACIONPADRE                                                    \n",
       "-                                                           0.023780   \n",
       "Educación profesional completa                              1.219448   \n",
       "Educación profesional incompleta                            0.290929   \n",
       "Ninguno                                                     0.066787   \n",
       "No Aplica                                                   0.109702   \n",
       "No sabe                                                     0.577491   \n",
       "Postgrado                                                   0.157261   \n",
       "Primaria completa                                           0.466303   \n",
       "Primaria incompleta                                         0.586873   \n",
       "Secundaria (Bachillerato) completa                          2.347400   \n",
       "Secundaria (Bachillerato) incompleta                        1.070268   \n",
       "Técnica o tecnológica completa                              2.178063   \n",
       "Técnica o tecnológica incompleta                            0.299289   \n",
       "\n",
       "FAMI_EDUCACIONMADRE                   Técnica o tecnológica incompleta  \n",
       "FAMI_EDUCACIONPADRE                                                     \n",
       "-                                                             0.008174  \n",
       "Educación profesional completa                                0.249407  \n",
       "Educación profesional incompleta                              0.097534  \n",
       "Ninguno                                                       0.045609  \n",
       "No Aplica                                                     0.032418  \n",
       "No sabe                                                       0.155589  \n",
       "Postgrado                                                     0.032233  \n",
       "Primaria completa                                             0.166643  \n",
       "Primaria incompleta                                           0.214109  \n",
       "Secundaria (Bachillerato) completa                            0.759647  \n",
       "Secundaria (Bachillerato) incompleta                          0.398308  \n",
       "Técnica o tecnológica completa                                0.343690  \n",
       "Técnica o tecnológica incompleta                              0.387162  "
      ]
     },
     "execution_count": 39,
     "metadata": {},
     "output_type": "execute_result"
    }
   ],
   "source": [
    "pd.crosstab(data['FAMI_EDUCACIONPADRE'], [data['FAMI_EDUCACIONMADRE']])/data.shape[0]*100"
   ]
  },
  {
   "cell_type": "markdown",
   "metadata": {},
   "source": [
    "# Entropia"
   ]
  },
  {
   "cell_type": "code",
   "execution_count": null,
   "metadata": {},
   "outputs": [],
   "source": [
    "columnEval = [\"FAMI_TIENESERVICIOTV\",\"FAMI_TIENECOMPUTADOR\",\"FAMI_TIENEAUTOMOVIL\",\"FAMI_TIENEMOTOCICLETA\",\"FAMI_TIENECONSOLAVIDEOJUEGOS\"]"
   ]
  },
  {
   "cell_type": "code",
   "execution_count": null,
   "metadata": {},
   "outputs": [],
   "source": [
    "def EntropySum(n):\n",
    "    if n == 0:\n",
    "        return 0\n",
    "    if n == 1:\n",
    "        return 0\n",
    "    else:\n",
    "        return n*math.log(n,2)+(1-n)*math.log(1-n,2)\n",
    "\n",
    "def compare(i,j,colPass):\n",
    "    count = 0\n",
    "    for col in columnEval:\n",
    "        if data.iloc[i][col] == data.iloc[j][col]:\n",
    "            if col != colPass:\n",
    "                count+=1\n",
    "    return count"
   ]
  },
  {
   "cell_type": "code",
   "execution_count": null,
   "metadata": {},
   "outputs": [],
   "source": [
    "entropy = 0\n",
    "dataSize = 1000 #data.shape[0]\n",
    "for i in range(dataSize):\n",
    "    for j in range(i+1,dataSize):\n",
    "        result = compare(i, j, \"\")\n",
    "        entropy += EntropySum(result/data.shape[1])\n",
    "        #if j%100 == 0:\n",
    "        #    print(\"R\",i,j,\"=\",result)\n",
    "    print(\"R\",i,j,\"=\",entropy)\n",
    "print(\"EntropyTotal\",entropy*-1)"
   ]
  },
  {
   "cell_type": "code",
   "execution_count": null,
   "metadata": {},
   "outputs": [],
   "source": []
  }
 ],
 "metadata": {
  "kernelspec": {
   "display_name": "Python 3",
   "language": "python",
   "name": "python3"
  },
  "language_info": {
   "codemirror_mode": {
    "name": "ipython",
    "version": 3
   },
   "file_extension": ".py",
   "mimetype": "text/x-python",
   "name": "python",
   "nbconvert_exporter": "python",
   "pygments_lexer": "ipython3",
   "version": "3.7.3"
  }
 },
 "nbformat": 4,
 "nbformat_minor": 2
}
