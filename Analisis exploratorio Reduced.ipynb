{
 "cells": [
  {
   "cell_type": "code",
   "execution_count": 7,
   "metadata": {},
   "outputs": [],
   "source": [
    "import pandas as pd\n",
    "import matplotlib.pyplot as plt \n",
    "import math\n",
    "from collections import Counter\n",
    "from random import random\n",
    "path = \"./Datasets/Saber_reducido.csv\""
   ]
  },
  {
   "cell_type": "code",
   "execution_count": 8,
   "metadata": {},
   "outputs": [],
   "source": [
    "def pertenece(a, b):\n",
    "    for i in range(1,len(b)):\n",
    "        if a>= b[i-1] and a<= b[i]:\n",
    "            return i-1\n",
    "\n",
    "def reemplazoGeneralizado(data):\n",
    "    columns = [\"ELECTRODOMESTICOS\",\"ESTU_GENERO\", \"ESTU_FECHANACIMIENTO\", \"PERIODO\", \"ESTU_DEPTO_RESIDE\", \"FAMI_ESTRATOVIVIENDA\", \"FAMI_PERSONASHOGAR\", \"FAMI_CUARTOSHOGAR\", \"FAMI_EDUCACIONPADRE\", \"FAMI_EDUCACIONMADRE\", \"FAMI_TRABAJOLABORPADRE\", \"FAMI_TRABAJOLABORMADRE\", \"FAMI_NUMLIBROS\", \"FAMI_COMELECHEDERIVADOS\", \"FAMI_COMECARNEPESCADOHUEVO\", \"FAMI_COMECEREALFRUTOSLEGUMBRE\", \"ESTU_DEDICACIONLECTURADIARIA\", \"ESTU_DEDICACIONINTERNET\", \"COLE_NATURALEZA\", \"COLE_CARACTER\", \"COLE_AREA_UBICACION\", \"COLE_JORNADA\",\"ESTU_NSE_INDIVIDUAL\"]\n",
    "    for c in columns:\n",
    "        aux4 =0\n",
    "        reemplazables = []\n",
    "        if '-' in data.groupby(c).count().index:\n",
    "            reemplazables.append(data.groupby(c).get_group('-').index.values)\n",
    "        opciones = []\n",
    "        porcentajes = [0]\n",
    "        opciones.append(list(data.groupby(c).size().axes[0]))\n",
    "        aux = len(opciones[0])\n",
    "        if '-' in opciones[0]:\n",
    "            opciones[0].remove('-')\n",
    "            aux = aux-1\n",
    "            aux2 = (data.groupby(c).size()['-']/data.shape[0])/aux\n",
    "        else:\n",
    "            continue\n",
    "        for i in range(aux):\n",
    "            aux3 = porcentajes.pop()\n",
    "            porcentajes.append(aux3)\n",
    "            a= float(data.groupby(c).size()[opciones[0][i]]/data.shape[0])+aux2+aux3\n",
    "            porcentajes.append(a)\n",
    "        if len(reemplazables) > 0:   \n",
    "            for r in reemplazables[0]:\n",
    "                randNumber = random()\n",
    "                for j in range(len(opciones[0])):\n",
    "                    lugar = pertenece(randNumber, porcentajes)\n",
    "                    data.at[r, c] = opciones[0][lugar]"
   ]
  },
  {
   "cell_type": "code",
   "execution_count": 9,
   "metadata": {},
   "outputs": [],
   "source": [
    "Keys = [\"ELECTRODOMESTICOS\",\"ESTU_GENERO\", \"ESTU_FECHANACIMIENTO\", \"PERIODO\", \"ESTU_DEPTO_RESIDE\", \"FAMI_ESTRATOVIVIENDA\", \"FAMI_PERSONASHOGAR\", \"FAMI_CUARTOSHOGAR\", \"FAMI_EDUCACIONPADRE\", \"FAMI_EDUCACIONMADRE\", \"FAMI_TRABAJOLABORPADRE\", \"FAMI_TRABAJOLABORMADRE\", \"FAMI_NUMLIBROS\", \"FAMI_COMELECHEDERIVADOS\", \"FAMI_COMECARNEPESCADOHUEVO\", \"FAMI_COMECEREALFRUTOSLEGUMBRE\", \"ESTU_DEDICACIONLECTURADIARIA\", \"ESTU_DEDICACIONINTERNET\", \"COLE_NATURALEZA\", \"COLE_CARACTER\", \"COLE_AREA_UBICACION\", \"COLE_JORNADA\", \"PUNT_LECTURA_CRITICA\", \"PUNT_MATEMATICAS\", \"PUNT_C_NATURALES\", \"PUNT_SOCIALES_CIUDADANAS\", \"PUNT_INGLES\", \"PUNT_GLOBAL\", \"ESTU_NSE_ESTABLECIMIENTO\", \"ESTU_INSE_INDIVIDUAL\", \"ESTU_NSE_INDIVIDUAL\"]"
   ]
  },
  {
   "cell_type": "code",
   "execution_count": 3,
   "metadata": {},
   "outputs": [
    {
     "name": "stdout",
     "output_type": "stream",
     "text": [
      "ESTU_DEDICACIONLECTURADIARIA\n",
      "COLE_NATURALEZA\n"
     ]
    }
   ],
   "source": [
    "tmp = [\"ESTU_GENERO\",\"ESTU_FECHANACIMIENTO\",\"PERIODO\",\"ESTU_DEPTO_RESIDE\",\"FAMI_ESTRATOVIVIENDA\",\"FAMI_PERSONASHOGAR\",\"FAMI_CUARTOSHOGAR\",\"FAMI_EDUCACIONPADRE\",\"FAMI_EDUCACIONMADRE\",\"FAMI_TRABAJOLABORPADRE\",\"FAMI_TRABAJOLABORMADRE\",\"FAMI_TIENESERVICIOTV\",\"FAMI_TIENECOMPUTADOR\",\"FAMI_TIENEAUTOMOVIL\",\"FAMI_TIENEMOTOCICLETA\",\"FAMI_TIENECONSOLAVIDEOJUEGOS\",\"FAMI_NUMLIBROS\",\"FAMI_COMELECHEDERIVADOS\",\"FAMI_COMECARNEPESCADOHUEVO\",\"FAMI_COMECEREALFRUTOSLEGUMBRE\",\"FAMI_SITUACIONECONOMICA\",\"ESTU_DEDICACIONLECTURADIARIA \",\"ESTU_DEDICACIONINTERNET\",\"COLE_NOMBRE_ESTABLECIMIENTO\",\"COLE_NATURALEZA COLE_BILINGUE\",\"COLE_CARACTER\",\"COLE_AREA_UBICACION\",\"COLE_JORNADA\",\"PUNT_LECTURA_CRITICA\",\"PERCENTIL_LECTURA_CRITICA\",\"PUNT_MATEMATICAS\",\"PERCENTIL_MATEMATICAS\",\"PUNT_C_NATURALES\",\"PERCENTIL_C_NATURALES\",\"PUNT_SOCIALES_CIUDADANAS\",\"PERCENTIL_SOCIALES_CIUDADANAS\",\"PUNT_INGLES\",\"PERCENTIL_INGLES\",\"PUNT_GLOBAL\",\"PERCENTIL_GLOBAL\",\"ESTU_NSE_ESTABLECIMIENTO\",\"ESTU_INSE_INDIVIDUAL\",\"ESTU_NSE_INDIVIDUAL\",\n",
    "]\n",
    "\n",
    "for element in Keys:\n",
    "    if element not in tmp:\n",
    "        print(element)\n"
   ]
  },
  {
   "cell_type": "code",
   "execution_count": 4,
   "metadata": {},
   "outputs": [],
   "source": [
    "data = pd.read_csv(path, low_memory=False)"
   ]
  },
  {
   "cell_type": "code",
   "execution_count": 10,
   "metadata": {},
   "outputs": [],
   "source": [
    "reemplazoGeneralizado(data)"
   ]
  },
  {
   "cell_type": "code",
   "execution_count": 122,
   "metadata": {},
   "outputs": [
    {
     "data": {
      "text/html": [
       "<div>\n",
       "<style scoped>\n",
       "    .dataframe tbody tr th:only-of-type {\n",
       "        vertical-align: middle;\n",
       "    }\n",
       "\n",
       "    .dataframe tbody tr th {\n",
       "        vertical-align: top;\n",
       "    }\n",
       "\n",
       "    .dataframe thead th {\n",
       "        text-align: right;\n",
       "    }\n",
       "</style>\n",
       "<table border=\"1\" class=\"dataframe\">\n",
       "  <thead>\n",
       "    <tr style=\"text-align: right;\">\n",
       "      <th></th>\n",
       "      <th>ELECTRODOMESTICOS</th>\n",
       "      <th>ESTU_GENERO</th>\n",
       "      <th>ESTU_FECHANACIMIENTO</th>\n",
       "      <th>PERIODO</th>\n",
       "      <th>ESTU_DEPTO_RESIDE</th>\n",
       "      <th>FAMI_ESTRATOVIVIENDA</th>\n",
       "      <th>FAMI_PERSONASHOGAR</th>\n",
       "      <th>FAMI_CUARTOSHOGAR</th>\n",
       "      <th>FAMI_EDUCACIONPADRE</th>\n",
       "      <th>FAMI_EDUCACIONMADRE</th>\n",
       "      <th>...</th>\n",
       "      <th>COLE_JORNADA</th>\n",
       "      <th>PUNT_LECTURA_CRITICA</th>\n",
       "      <th>PUNT_MATEMATICAS</th>\n",
       "      <th>PUNT_C_NATURALES</th>\n",
       "      <th>PUNT_SOCIALES_CIUDADANAS</th>\n",
       "      <th>PUNT_INGLES</th>\n",
       "      <th>PUNT_GLOBAL</th>\n",
       "      <th>ESTU_NSE_ESTABLECIMIENTO</th>\n",
       "      <th>ESTU_INSE_INDIVIDUAL</th>\n",
       "      <th>ESTU_NSE_INDIVIDUAL</th>\n",
       "    </tr>\n",
       "  </thead>\n",
       "  <tbody>\n",
       "    <tr>\n",
       "      <th>0</th>\n",
       "      <td>10010</td>\n",
       "      <td>M</td>\n",
       "      <td>16</td>\n",
       "      <td>20182</td>\n",
       "      <td>ATLANTICO</td>\n",
       "      <td>Estrato 2</td>\n",
       "      <td>7 a 8</td>\n",
       "      <td>Cuatro</td>\n",
       "      <td>No sabe</td>\n",
       "      <td>No sabe</td>\n",
       "      <td>...</td>\n",
       "      <td>MAÑANA</td>\n",
       "      <td>63</td>\n",
       "      <td>69</td>\n",
       "      <td>54</td>\n",
       "      <td>57</td>\n",
       "      <td>65.0</td>\n",
       "      <td>305</td>\n",
       "      <td>2.0</td>\n",
       "      <td>53.169929</td>\n",
       "      <td>NSE3</td>\n",
       "    </tr>\n",
       "    <tr>\n",
       "      <th>1</th>\n",
       "      <td>10010</td>\n",
       "      <td>M</td>\n",
       "      <td>17</td>\n",
       "      <td>20182</td>\n",
       "      <td>CORDOBA</td>\n",
       "      <td>Estrato 1</td>\n",
       "      <td>5 a 6</td>\n",
       "      <td>Dos</td>\n",
       "      <td>Secundaria (Bachillerato) completa</td>\n",
       "      <td>Primaria completa</td>\n",
       "      <td>...</td>\n",
       "      <td>UNICA</td>\n",
       "      <td>54</td>\n",
       "      <td>50</td>\n",
       "      <td>50</td>\n",
       "      <td>40</td>\n",
       "      <td>48.0</td>\n",
       "      <td>242</td>\n",
       "      <td>2.0</td>\n",
       "      <td>45.062853</td>\n",
       "      <td>NSE2</td>\n",
       "    </tr>\n",
       "    <tr>\n",
       "      <th>2</th>\n",
       "      <td>0</td>\n",
       "      <td>M</td>\n",
       "      <td>16</td>\n",
       "      <td>20182</td>\n",
       "      <td>VALLE</td>\n",
       "      <td>Estrato 2</td>\n",
       "      <td>1 a 2</td>\n",
       "      <td>Dos</td>\n",
       "      <td>No sabe</td>\n",
       "      <td>Técnica o tecnológica incompleta</td>\n",
       "      <td>...</td>\n",
       "      <td>MAÑANA</td>\n",
       "      <td>59</td>\n",
       "      <td>43</td>\n",
       "      <td>46</td>\n",
       "      <td>45</td>\n",
       "      <td>47.0</td>\n",
       "      <td>241</td>\n",
       "      <td>2.0</td>\n",
       "      <td>44.806936</td>\n",
       "      <td>NSE2</td>\n",
       "    </tr>\n",
       "    <tr>\n",
       "      <th>3</th>\n",
       "      <td>11101</td>\n",
       "      <td>M</td>\n",
       "      <td>17</td>\n",
       "      <td>20182</td>\n",
       "      <td>BOYACA</td>\n",
       "      <td>Estrato 3</td>\n",
       "      <td>3 a 4</td>\n",
       "      <td>Tres</td>\n",
       "      <td>No sabe</td>\n",
       "      <td>Educación profesional completa</td>\n",
       "      <td>...</td>\n",
       "      <td>MAÑANA</td>\n",
       "      <td>61</td>\n",
       "      <td>60</td>\n",
       "      <td>60</td>\n",
       "      <td>67</td>\n",
       "      <td>63.0</td>\n",
       "      <td>310</td>\n",
       "      <td>3.0</td>\n",
       "      <td>73.630225</td>\n",
       "      <td>NSE4</td>\n",
       "    </tr>\n",
       "    <tr>\n",
       "      <th>4</th>\n",
       "      <td>10000</td>\n",
       "      <td>M</td>\n",
       "      <td>19</td>\n",
       "      <td>20182</td>\n",
       "      <td>BOGOTA</td>\n",
       "      <td>Estrato 2</td>\n",
       "      <td>7 a 8</td>\n",
       "      <td>Tres</td>\n",
       "      <td>No sabe</td>\n",
       "      <td>No sabe</td>\n",
       "      <td>...</td>\n",
       "      <td>COMPLETA</td>\n",
       "      <td>56</td>\n",
       "      <td>51</td>\n",
       "      <td>48</td>\n",
       "      <td>49</td>\n",
       "      <td>56.0</td>\n",
       "      <td>257</td>\n",
       "      <td>3.0</td>\n",
       "      <td>49.391007</td>\n",
       "      <td>NSE2</td>\n",
       "    </tr>\n",
       "  </tbody>\n",
       "</table>\n",
       "<p>5 rows × 31 columns</p>\n",
       "</div>"
      ],
      "text/plain": [
       "   ELECTRODOMESTICOS ESTU_GENERO  ESTU_FECHANACIMIENTO  PERIODO  \\\n",
       "0              10010           M                    16    20182   \n",
       "1              10010           M                    17    20182   \n",
       "2                  0           M                    16    20182   \n",
       "3              11101           M                    17    20182   \n",
       "4              10000           M                    19    20182   \n",
       "\n",
       "  ESTU_DEPTO_RESIDE FAMI_ESTRATOVIVIENDA FAMI_PERSONASHOGAR FAMI_CUARTOSHOGAR  \\\n",
       "0         ATLANTICO            Estrato 2              7 a 8            Cuatro   \n",
       "1           CORDOBA            Estrato 1              5 a 6               Dos   \n",
       "2             VALLE            Estrato 2              1 a 2               Dos   \n",
       "3            BOYACA            Estrato 3              3 a 4              Tres   \n",
       "4            BOGOTA            Estrato 2              7 a 8              Tres   \n",
       "\n",
       "                  FAMI_EDUCACIONPADRE               FAMI_EDUCACIONMADRE  ...  \\\n",
       "0                             No sabe                           No sabe  ...   \n",
       "1  Secundaria (Bachillerato) completa                 Primaria completa  ...   \n",
       "2                             No sabe  Técnica o tecnológica incompleta  ...   \n",
       "3                             No sabe    Educación profesional completa  ...   \n",
       "4                             No sabe                           No sabe  ...   \n",
       "\n",
       "  COLE_JORNADA PUNT_LECTURA_CRITICA PUNT_MATEMATICAS PUNT_C_NATURALES  \\\n",
       "0       MAÑANA                   63               69               54   \n",
       "1        UNICA                   54               50               50   \n",
       "2       MAÑANA                   59               43               46   \n",
       "3       MAÑANA                   61               60               60   \n",
       "4     COMPLETA                   56               51               48   \n",
       "\n",
       "  PUNT_SOCIALES_CIUDADANAS PUNT_INGLES PUNT_GLOBAL ESTU_NSE_ESTABLECIMIENTO  \\\n",
       "0                       57        65.0         305                      2.0   \n",
       "1                       40        48.0         242                      2.0   \n",
       "2                       45        47.0         241                      2.0   \n",
       "3                       67        63.0         310                      3.0   \n",
       "4                       49        56.0         257                      3.0   \n",
       "\n",
       "  ESTU_INSE_INDIVIDUAL ESTU_NSE_INDIVIDUAL  \n",
       "0            53.169929                NSE3  \n",
       "1            45.062853                NSE2  \n",
       "2            44.806936                NSE2  \n",
       "3            73.630225                NSE4  \n",
       "4            49.391007                NSE2  \n",
       "\n",
       "[5 rows x 31 columns]"
      ]
     },
     "execution_count": 122,
     "metadata": {},
     "output_type": "execute_result"
    }
   ],
   "source": [
    "data.head()"
   ]
  },
  {
   "cell_type": "code",
   "execution_count": 123,
   "metadata": {
    "scrolled": false
   },
   "outputs": [
    {
     "data": {
      "text/plain": [
       "ELECTRODOMESTICOS                                                       10010\n",
       "ESTU_GENERO                                                                 M\n",
       "ESTU_FECHANACIMIENTO                                                       16\n",
       "PERIODO                                                                 20182\n",
       "ESTU_DEPTO_RESIDE                                                   ATLANTICO\n",
       "FAMI_ESTRATOVIVIENDA                                                Estrato 2\n",
       "FAMI_PERSONASHOGAR                                                      7 a 8\n",
       "FAMI_CUARTOSHOGAR                                                      Cuatro\n",
       "FAMI_EDUCACIONPADRE                                                   No sabe\n",
       "FAMI_EDUCACIONMADRE                                                   No sabe\n",
       "FAMI_TRABAJOLABORPADRE           Es vendedor o trabaja en atención al público\n",
       "FAMI_TRABAJOLABORMADRE           Es vendedor o trabaja en atención al público\n",
       "FAMI_NUMLIBROS                                                26 A 100 LIBROS\n",
       "FAMI_COMELECHEDERIVADOS                           Todos o casi todos los días\n",
       "FAMI_COMECARNEPESCADOHUEVO                        Todos o casi todos los días\n",
       "FAMI_COMECEREALFRUTOSLEGUMBRE                          1 o 2 veces por semana\n",
       "ESTU_DEDICACIONLECTURADIARIA                               30 minutos o menos\n",
       "ESTU_DEDICACIONINTERNET                                        Más de 3 horas\n",
       "COLE_NATURALEZA                                                       OFICIAL\n",
       "COLE_CARACTER                                                       ACADÉMICO\n",
       "COLE_AREA_UBICACION                                                    URBANO\n",
       "COLE_JORNADA                                                           MAÑANA\n",
       "PUNT_LECTURA_CRITICA                                                       63\n",
       "PUNT_MATEMATICAS                                                           69\n",
       "PUNT_C_NATURALES                                                           54\n",
       "PUNT_SOCIALES_CIUDADANAS                                                   57\n",
       "PUNT_INGLES                                                                65\n",
       "PUNT_GLOBAL                                                               305\n",
       "ESTU_NSE_ESTABLECIMIENTO                                                    2\n",
       "ESTU_INSE_INDIVIDUAL                                                  53.1699\n",
       "ESTU_NSE_INDIVIDUAL                                                      NSE3\n",
       "Name: 0, dtype: object"
      ]
     },
     "execution_count": 123,
     "metadata": {},
     "output_type": "execute_result"
    }
   ],
   "source": [
    "data.iloc[0]"
   ]
  },
  {
   "cell_type": "code",
   "execution_count": null,
   "metadata": {},
   "outputs": [],
   "source": []
  },
  {
   "cell_type": "code",
   "execution_count": 185,
   "metadata": {},
   "outputs": [
    {
     "data": {
      "text/plain": [
       "ESTU_NSE_INDIVIDUAL\n",
       "-        21940\n",
       "NSE1    160992\n",
       "NSE2    386030\n",
       "NSE3    366929\n",
       "NSE4     79428\n",
       "dtype: int64"
      ]
     },
     "execution_count": 185,
     "metadata": {},
     "output_type": "execute_result"
    }
   ],
   "source": [
    "data.groupby(\"ESTU_NSE_INDIVIDUAL\").size()  "
   ]
  },
  {
   "cell_type": "code",
   "execution_count": 97,
   "metadata": {},
   "outputs": [
    {
     "data": {
      "text/plain": [
       "pandas.core.series.Series"
      ]
     },
     "execution_count": 97,
     "metadata": {},
     "output_type": "execute_result"
    }
   ],
   "source": [
    "type(data.groupby(\"FAMI_NUMLIBROS\").size())"
   ]
  },
  {
   "cell_type": "code",
   "execution_count": 106,
   "metadata": {},
   "outputs": [
    {
     "data": {
      "text/plain": [
       "array([ 548477,  608990,  869415,  950709, 1029787], dtype=int64)"
      ]
     },
     "execution_count": 106,
     "metadata": {},
     "output_type": "execute_result"
    }
   ],
   "source": [
    "data.groupby(\"ESTU_GENERO\").get_group('-').index.values"
   ]
  },
  {
   "cell_type": "code",
   "execution_count": null,
   "metadata": {},
   "outputs": [],
   "source": []
  },
  {
   "cell_type": "code",
   "execution_count": 14,
   "metadata": {},
   "outputs": [
    {
     "data": {
      "text/plain": [
       "FAMI_TRABAJOLABORMADRE\n",
       "Es agricultor, pesquero o jornalero                                                                      28836\n",
       "Es dueño de un negocio grande, tiene un cargo de nivel directivo o gerencial                             15201\n",
       "Es dueño de un negocio pequeño (tiene pocos empleados o no tiene, por ejemplo tienda, papelería, etc     87756\n",
       "Es operario de máquinas o conduce vehículos (taxita, chofer)                                             16736\n",
       "Es vendedor o trabaja en atención al público                                                             79004\n",
       "No aplica                                                                                                48273\n",
       "No sabe                                                                                                  25129\n",
       "Pensionado                                                                                                6691\n",
       "Tiene un trabajo de tipo auxiliar administrativo (por ejemplo, secretario o asistente)                   86575\n",
       "Trabaja como personal de limpieza, mantenimiento, seguridad o construcción                               88284\n",
       "Trabaja como profesional (por ejemplo médico, abogado, ingeniero)                                        78998\n",
       "Trabaja en el hogar, no trabaja o estudia                                                               423012\n",
       "Trabaja por cuenta propia (por ejemplo plomero, electricista)                                            30824\n",
       "dtype: int64"
      ]
     },
     "execution_count": 14,
     "metadata": {},
     "output_type": "execute_result"
    }
   ],
   "source": [
    "data.groupby(\"FAMI_TRABAJOLABORMADRE\").size() "
   ]
  },
  {
   "cell_type": "code",
   "execution_count": 13,
   "metadata": {},
   "outputs": [
    {
     "data": {
      "text/plain": [
       "FAMI_EDUCACIONMADRE\n",
       "Educación profesional completa          104911\n",
       "Educación profesional incompleta         24840\n",
       "Ninguno                                  21274\n",
       "No Aplica                                 1784\n",
       "No sabe                                  17689\n",
       "Postgrado                                21297\n",
       "Primaria completa                       112486\n",
       "Primaria incompleta                     158239\n",
       "Secundaria (Bachillerato) completa      261793\n",
       "Secundaria (Bachillerato) incompleta    157272\n",
       "Técnica o tecnológica completa          102563\n",
       "Técnica o tecnológica incompleta         31171\n",
       "dtype: int64"
      ]
     },
     "execution_count": 13,
     "metadata": {},
     "output_type": "execute_result"
    }
   ],
   "source": [
    "data.groupby(\"FAMI_EDUCACIONMADRE\").size()"
   ]
  },
  {
   "cell_type": "code",
   "execution_count": 12,
   "metadata": {},
   "outputs": [
    {
     "data": {
      "text/plain": [
       "FAMI_EDUCACIONPADRE\n",
       "Educación profesional completa           92451\n",
       "Educación profesional incompleta         20191\n",
       "Ninguno                                  34380\n",
       "No Aplica                                10207\n",
       "No sabe                                  62908\n",
       "Postgrado                                18757\n",
       "Primaria completa                       111425\n",
       "Primaria incompleta                     201070\n",
       "Secundaria (Bachillerato) completa      226020\n",
       "Secundaria (Bachillerato) incompleta    146955\n",
       "Técnica o tecnológica completa           69852\n",
       "Técnica o tecnológica incompleta         21103\n",
       "dtype: int64"
      ]
     },
     "execution_count": 12,
     "metadata": {},
     "output_type": "execute_result"
    }
   ],
   "source": [
    "data.groupby(\"FAMI_EDUCACIONPADRE\").size()"
   ]
  },
  {
   "cell_type": "code",
   "execution_count": 11,
   "metadata": {},
   "outputs": [
    {
     "data": {
      "text/plain": [
       "FAMI_CUARTOSHOGAR\n",
       "Cinco          41010\n",
       "Cuatro        134533\n",
       "Dos           365560\n",
       "Seis o mas     21823\n",
       "Tres          399555\n",
       "Uno            52838\n",
       "dtype: int64"
      ]
     },
     "execution_count": 11,
     "metadata": {},
     "output_type": "execute_result"
    }
   ],
   "source": [
    "data.groupby(\"FAMI_CUARTOSHOGAR\").size()"
   ]
  },
  {
   "cell_type": "code",
   "execution_count": 79,
   "metadata": {},
   "outputs": [
    {
     "data": {
      "text/plain": [
       "FAMI_PERSONASHOGAR\n",
       "-           27460\n",
       "1 a 2       74408\n",
       "3 a 4      490759\n",
       "5 a 6      337252\n",
       "7 a 8       90041\n",
       "9 o más     36380\n",
       "dtype: int64"
      ]
     },
     "execution_count": 79,
     "metadata": {},
     "output_type": "execute_result"
    }
   ],
   "source": [
    "data.groupby(\"FAMI_PERSONASHOGAR\").size()"
   ]
  },
  {
   "cell_type": "markdown",
   "metadata": {},
   "source": [
    "## Histogramas"
   ]
  },
  {
   "cell_type": "code",
   "execution_count": 62,
   "metadata": {},
   "outputs": [
    {
     "data": {
      "text/plain": [
       "COLE_JORNADA\n",
       "COMPLETA    191426\n",
       "MAÑANA      544050\n",
       "NOCHE        51132\n",
       "SABATINA     56621\n",
       "TARDE       137263\n",
       "UNICA        75808\n",
       "dtype: int64"
      ]
     },
     "execution_count": 62,
     "metadata": {},
     "output_type": "execute_result"
    }
   ],
   "source": [
    "data.groupby(\"COLE_JORNADA\").size()"
   ]
  },
  {
   "cell_type": "code",
   "execution_count": 63,
   "metadata": {},
   "outputs": [
    {
     "data": {
      "text/plain": [
       "FAMI_ESTRATOVIVIENDA\n",
       "Estrato 1      33.156395\n",
       "Estrato 2      36.604090\n",
       "Estrato 3      20.448073\n",
       "Estrato 4       4.727066\n",
       "Estrato 5       1.578339\n",
       "Estrato 6       0.775821\n",
       "Sin Estrato     2.710215\n",
       "dtype: float64"
      ]
     },
     "execution_count": 63,
     "metadata": {},
     "output_type": "execute_result"
    }
   ],
   "source": [
    "data.groupby(\"FAMI_ESTRATOVIVIENDA\").size()/data.shape[0] * 100"
   ]
  },
  {
   "cell_type": "code",
   "execution_count": 15,
   "metadata": {},
   "outputs": [
    {
     "data": {
      "text/plain": [
       "<matplotlib.axes._subplots.AxesSubplot at 0x29f00aa2588>"
      ]
     },
     "execution_count": 15,
     "metadata": {},
     "output_type": "execute_result"
    },
    {
     "data": {
      "image/png": "[encoded data removed]",
      "text/plain": [
       "<Figure size 432x288 with 1 Axes>"
      ]
     },
     "metadata": {
      "needs_background": "light"
     },
     "output_type": "display_data"
    }
   ],
   "source": [
    "data['FAMI_ESTRATOVIVIENDA'].value_counts().plot(kind='bar')"
   ]
  },
  {
   "cell_type": "code",
   "execution_count": 113,
   "metadata": {},
   "outputs": [
    {
     "data": {
      "text/plain": [
       "ESTU_FECHANACIMIENTO\n",
       "14      1425\n",
       "15     38438\n",
       "16    384236\n",
       "17    347952\n",
       "18    174470\n",
       "19     65969\n",
       "20     22400\n",
       "21     10148\n",
       "22      6127\n",
       "dtype: int64"
      ]
     },
     "execution_count": 113,
     "metadata": {},
     "output_type": "execute_result"
    }
   ],
   "source": [
    "data.groupby(\"ESTU_FECHANACIMIENTO\").size()"
   ]
  },
  {
   "cell_type": "code",
   "execution_count": 16,
   "metadata": {},
   "outputs": [
    {
     "name": "stdout",
     "output_type": "stream",
     "text": [
      "<class 'matplotlib.axes._subplots.AxesSubplot'>\n"
     ]
    },
    {
     "data": {
      "image/png": "[encoded data removed]",
      "text/plain": [
       "<Figure size 432x288 with 1 Axes>"
      ]
     },
     "metadata": {
      "needs_background": "light"
     },
     "output_type": "display_data"
    }
   ],
   "source": [
    "hist = data[\"ESTU_FECHANACIMIENTO\"].hist()\n",
    "hist.set_xlabel(\"Edad\")\n",
    "print(type(hist))"
   ]
  },
  {
   "cell_type": "code",
   "execution_count": 17,
   "metadata": {},
   "outputs": [
    {
     "data": {
      "text/plain": [
       "<matplotlib.axes._subplots.AxesSubplot at 0x29f00b52e80>"
      ]
     },
     "execution_count": 17,
     "metadata": {},
     "output_type": "execute_result"
    },
    {
     "data": {
      "image/png": "[encoded data removed]",
      "text/plain": [
       "<Figure size 432x288 with 1 Axes>"
      ]
     },
     "metadata": {
      "needs_background": "light"
     },
     "output_type": "display_data"
    }
   ],
   "source": [
    "data['ESTU_GENERO'].value_counts().plot(kind='bar')"
   ]
  },
  {
   "cell_type": "code",
   "execution_count": 18,
   "metadata": {},
   "outputs": [
    {
     "name": "stdout",
     "output_type": "stream",
     "text": [
      "min 12.53886749\n",
      "max 84.83636609\n"
     ]
    }
   ],
   "source": [
    "#data.groupby(\"ESTU_INSE_INDIVIDUAL\").size()\n",
    "print(\"min\",data[\"ESTU_INSE_INDIVIDUAL\"].min())\n",
    "print(\"max\",data[\"ESTU_INSE_INDIVIDUAL\"].max())\n"
   ]
  },
  {
   "cell_type": "code",
   "execution_count": 117,
   "metadata": {},
   "outputs": [
    {
     "data": {
      "text/plain": [
       "<matplotlib.axes._subplots.AxesSubplot at 0x1ab0542fbe0>"
      ]
     },
     "execution_count": 117,
     "metadata": {},
     "output_type": "execute_result"
    },
    {
     "data": {
      "image/png": "[encoded data removed]",
      "text/plain": [
       "<Figure size 432x288 with 1 Axes>"
      ]
     },
     "metadata": {
      "needs_background": "light"
     },
     "output_type": "display_data"
    }
   ],
   "source": [
    "data['ESTU_INSE_INDIVIDUAL'].hist(bins = 100)"
   ]
  },
  {
   "cell_type": "code",
   "execution_count": 19,
   "metadata": {},
   "outputs": [
    {
     "data": {
      "text/plain": [
       "<matplotlib.axes._subplots.AxesSubplot at 0x29f00c5b240>"
      ]
     },
     "execution_count": 19,
     "metadata": {},
     "output_type": "execute_result"
    },
    {
     "data": {
      "image/png": "[encoded data removed]",
      "text/plain": [
       "<Figure size 432x288 with 1 Axes>"
      ]
     },
     "metadata": {
      "needs_background": "light"
     },
     "output_type": "display_data"
    }
   ],
   "source": [
    "data[\"ESTU_NSE_INDIVIDUAL\"].value_counts().plot(kind ='bar')"
   ]
  },
  {
   "cell_type": "code",
   "execution_count": 20,
   "metadata": {},
   "outputs": [
    {
     "data": {
      "text/plain": [
       "ESTU_NSE_INDIVIDUAL\n",
       "NSE1    164587\n",
       "NSE2    394538\n",
       "NSE3    374892\n",
       "NSE4     81302\n",
       "dtype: int64"
      ]
     },
     "execution_count": 20,
     "metadata": {},
     "output_type": "execute_result"
    }
   ],
   "source": [
    "data.groupby(\"ESTU_NSE_INDIVIDUAL\").size()"
   ]
  },
  {
   "cell_type": "code",
   "execution_count": 137,
   "metadata": {},
   "outputs": [
    {
     "name": "stdout",
     "output_type": "stream",
     "text": [
      "72076\n",
      "545146\n",
      "351248\n",
      "45744\n"
     ]
    }
   ],
   "source": [
    "n = len(data.groupby(\"ESTU_NSE_ESTABLECIMIENTO\").size())\n",
    "for i in range(1,n+1):\n",
    "    print(data.groupby(\"ESTU_NSE_ESTABLECIMIENTO\").size()[i])"
   ]
  },
  {
   "cell_type": "code",
   "execution_count": 21,
   "metadata": {},
   "outputs": [
    {
     "data": {
      "text/plain": [
       "<matplotlib.axes._subplots.AxesSubplot at 0x29f00cb7da0>"
      ]
     },
     "execution_count": 21,
     "metadata": {},
     "output_type": "execute_result"
    },
    {
     "data": {
      "image/png": "[encoded data removed]",
      "text/plain": [
       "<Figure size 432x288 with 1 Axes>"
      ]
     },
     "metadata": {
      "needs_background": "light"
     },
     "output_type": "display_data"
    }
   ],
   "source": [
    "data[\"PUNT_GLOBAL\"].hist(bins = 100)"
   ]
  },
  {
   "cell_type": "code",
   "execution_count": 22,
   "metadata": {},
   "outputs": [
    {
     "data": {
      "text/plain": [
       "<matplotlib.axes._subplots.AxesSubplot at 0x29f00def0b8>"
      ]
     },
     "execution_count": 22,
     "metadata": {},
     "output_type": "execute_result"
    },
    {
     "data": {
      "image/png": "[encoded data removed]",
      "text/plain": [
       "<Figure size 432x288 with 1 Axes>"
      ]
     },
     "metadata": {
      "needs_background": "light"
     },
     "output_type": "display_data"
    }
   ],
   "source": [
    "data[\"PUNT_INGLES\"].hist(bins = 100)"
   ]
  },
  {
   "cell_type": "code",
   "execution_count": 145,
   "metadata": {},
   "outputs": [
    {
     "data": {
      "text/plain": [
       "<matplotlib.axes._subplots.AxesSubplot at 0x1ab0830f048>"
      ]
     },
     "execution_count": 145,
     "metadata": {},
     "output_type": "execute_result"
    },
    {
     "data": {
      "image/png": "[encoded data removed]",
      "text/plain": [
       "<Figure size 432x288 with 1 Axes>"
      ]
     },
     "metadata": {
      "needs_background": "light"
     },
     "output_type": "display_data"
    }
   ],
   "source": [
    "data[\"PUNT_SOCIALES_CIUDADANAS\"].hist(bins = 100)"
   ]
  },
  {
   "cell_type": "code",
   "execution_count": 146,
   "metadata": {},
   "outputs": [
    {
     "data": {
      "text/plain": [
       "<matplotlib.axes._subplots.AxesSubplot at 0x1ab093a1c88>"
      ]
     },
     "execution_count": 146,
     "metadata": {},
     "output_type": "execute_result"
    },
    {
     "data": {
      "image/png": "[encoded data removed]",
      "text/plain": [
       "<Figure size 432x288 with 1 Axes>"
      ]
     },
     "metadata": {
      "needs_background": "light"
     },
     "output_type": "display_data"
    }
   ],
   "source": [
    "data[\"PUNT_C_NATURALES\"].hist(bins = 100)"
   ]
  },
  {
   "cell_type": "code",
   "execution_count": 149,
   "metadata": {},
   "outputs": [
    {
     "data": {
      "text/plain": [
       "<matplotlib.axes._subplots.AxesSubplot at 0x1ab096e7a58>"
      ]
     },
     "execution_count": 149,
     "metadata": {},
     "output_type": "execute_result"
    },
    {
     "data": {
      "image/png": "[encoded data removed]",
      "text/plain": [
       "<Figure size 432x288 with 1 Axes>"
      ]
     },
     "metadata": {
      "needs_background": "light"
     },
     "output_type": "display_data"
    }
   ],
   "source": [
    "data[\"PERIODO\"].value_counts().plot(kind ='bar')"
   ]
  },
  {
   "cell_type": "code",
   "execution_count": 23,
   "metadata": {},
   "outputs": [
    {
     "data": {
      "text/plain": [
       "<matplotlib.axes._subplots.AxesSubplot at 0x29f00e16eb8>"
      ]
     },
     "execution_count": 23,
     "metadata": {},
     "output_type": "execute_result"
    },
    {
     "data": {
      "image/png": "[encoded data removed]",
      "text/plain": [
       "<Figure size 432x288 with 1 Axes>"
      ]
     },
     "metadata": {
      "needs_background": "light"
     },
     "output_type": "display_data"
    }
   ],
   "source": [
    "data[\"ESTU_DEPTO_RESIDE\"].value_counts().plot(kind ='bar')"
   ]
  },
  {
   "cell_type": "code",
   "execution_count": 24,
   "metadata": {},
   "outputs": [
    {
     "data": {
      "text/plain": [
       "<matplotlib.axes._subplots.AxesSubplot at 0x29f010a54a8>"
      ]
     },
     "execution_count": 24,
     "metadata": {},
     "output_type": "execute_result"
    },
    {
     "data": {
      "image/png": "[encoded data removed]",
      "text/plain": [
       "<Figure size 432x288 with 1 Axes>"
      ]
     },
     "metadata": {
      "needs_background": "light"
     },
     "output_type": "display_data"
    }
   ],
   "source": [
    "data[\"FAMI_PERSONASHOGAR\"].value_counts().plot(kind ='bar')"
   ]
  },
  {
   "cell_type": "code",
   "execution_count": 25,
   "metadata": {},
   "outputs": [
    {
     "data": {
      "text/plain": [
       "<matplotlib.axes._subplots.AxesSubplot at 0x29f010e5b38>"
      ]
     },
     "execution_count": 25,
     "metadata": {},
     "output_type": "execute_result"
    },
    {
     "data": {
      "image/png": "[encoded data removed]",
      "text/plain": [
       "<Figure size 432x288 with 1 Axes>"
      ]
     },
     "metadata": {
      "needs_background": "light"
     },
     "output_type": "display_data"
    }
   ],
   "source": [
    "data[\"FAMI_CUARTOSHOGAR\"].value_counts().plot(kind ='bar')"
   ]
  },
  {
   "cell_type": "code",
   "execution_count": 154,
   "metadata": {},
   "outputs": [
    {
     "data": {
      "text/plain": [
       "<matplotlib.axes._subplots.AxesSubplot at 0x1ab09913780>"
      ]
     },
     "execution_count": 154,
     "metadata": {},
     "output_type": "execute_result"
    },
    {
     "data": {
      "image/png": "[encoded data removed]",
      "text/plain": [
       "<Figure size 432x288 with 1 Axes>"
      ]
     },
     "metadata": {
      "needs_background": "light"
     },
     "output_type": "display_data"
    }
   ],
   "source": [
    "data[\"FAMI_EDUCACIONPADRE\"].value_counts().plot(kind ='bar')"
   ]
  },
  {
   "cell_type": "code",
   "execution_count": 155,
   "metadata": {},
   "outputs": [
    {
     "data": {
      "text/plain": [
       "<matplotlib.axes._subplots.AxesSubplot at 0x1ab0989bef0>"
      ]
     },
     "execution_count": 155,
     "metadata": {},
     "output_type": "execute_result"
    },
    {
     "data": {
      "image/png": "[encoded data removed]",
      "text/plain": [
       "<Figure size 432x288 with 1 Axes>"
      ]
     },
     "metadata": {
      "needs_background": "light"
     },
     "output_type": "display_data"
    }
   ],
   "source": [
    "data[\"FAMI_EDUCACIONMADRE\"].value_counts().plot(kind ='bar')"
   ]
  },
  {
   "cell_type": "code",
   "execution_count": 26,
   "metadata": {},
   "outputs": [
    {
     "data": {
      "text/plain": [
       "<matplotlib.axes._subplots.AxesSubplot at 0x29f0116bf60>"
      ]
     },
     "execution_count": 26,
     "metadata": {},
     "output_type": "execute_result"
    },
    {
     "data": {
      "image/png": "[encoded data removed]",
      "text/plain": [
       "<Figure size 432x288 with 1 Axes>"
      ]
     },
     "metadata": {
      "needs_background": "light"
     },
     "output_type": "display_data"
    }
   ],
   "source": [
    "data[\"FAMI_TRABAJOLABORPADRE\"].value_counts().plot(kind ='bar')\n"
   ]
  },
  {
   "cell_type": "code",
   "execution_count": 27,
   "metadata": {},
   "outputs": [
    {
     "data": {
      "text/plain": [
       "<matplotlib.axes._subplots.AxesSubplot at 0x29f012172e8>"
      ]
     },
     "execution_count": 27,
     "metadata": {},
     "output_type": "execute_result"
    },
    {
     "data": {
      "image/png": "[encoded data removed]",
      "text/plain": [
       "<Figure size 432x288 with 1 Axes>"
      ]
     },
     "metadata": {
      "needs_background": "light"
     },
     "output_type": "display_data"
    }
   ],
   "source": [
    "data[\"FAMI_TRABAJOLABORMADRE\"].value_counts().plot(kind ='bar')"
   ]
  },
  {
   "cell_type": "code",
   "execution_count": 160,
   "metadata": {},
   "outputs": [
    {
     "data": {
      "text/plain": [
       "<matplotlib.axes._subplots.AxesSubplot at 0x1ab0a55e908>"
      ]
     },
     "execution_count": 160,
     "metadata": {},
     "output_type": "execute_result"
    },
    {
     "data": {
      "image/png": "[encoded data removed]",
      "text/plain": [
       "<Figure size 432x288 with 1 Axes>"
      ]
     },
     "metadata": {
      "needs_background": "light"
     },
     "output_type": "display_data"
    }
   ],
   "source": [
    "data[\"FAMI_NUMLIBROS\"].value_counts().plot(kind ='bar')"
   ]
  },
  {
   "cell_type": "code",
   "execution_count": 161,
   "metadata": {},
   "outputs": [
    {
     "data": {
      "text/plain": [
       "<matplotlib.axes._subplots.AxesSubplot at 0x1ab0a724438>"
      ]
     },
     "execution_count": 161,
     "metadata": {},
     "output_type": "execute_result"
    },
    {
     "data": {
      "image/png": "[encoded data removed]",
      "text/plain": [
       "<Figure size 432x288 with 1 Axes>"
      ]
     },
     "metadata": {
      "needs_background": "light"
     },
     "output_type": "display_data"
    }
   ],
   "source": [
    "data[\"FAMI_COMELECHEDERIVADOS\"].value_counts().plot(kind ='bar')"
   ]
  },
  {
   "cell_type": "code",
   "execution_count": 162,
   "metadata": {},
   "outputs": [
    {
     "data": {
      "text/plain": [
       "<matplotlib.axes._subplots.AxesSubplot at 0x1ab0a780518>"
      ]
     },
     "execution_count": 162,
     "metadata": {},
     "output_type": "execute_result"
    },
    {
     "data": {
      "image/png": "[encoded data removed]",
      "text/plain": [
       "<Figure size 432x288 with 1 Axes>"
      ]
     },
     "metadata": {
      "needs_background": "light"
     },
     "output_type": "display_data"
    }
   ],
   "source": [
    "data[\"FAMI_COMECARNEPESCADOHUEVO\"].value_counts().plot(kind ='bar')"
   ]
  },
  {
   "cell_type": "code",
   "execution_count": 28,
   "metadata": {},
   "outputs": [
    {
     "data": {
      "text/plain": [
       "<matplotlib.axes._subplots.AxesSubplot at 0x29f0124e320>"
      ]
     },
     "execution_count": 28,
     "metadata": {},
     "output_type": "execute_result"
    },
    {
     "data": {
      "image/png": "[encoded data removed]",
      "text/plain": [
       "<Figure size 432x288 with 1 Axes>"
      ]
     },
     "metadata": {
      "needs_background": "light"
     },
     "output_type": "display_data"
    }
   ],
   "source": [
    "data[\"FAMI_COMECEREALFRUTOSLEGUMBRE\"].value_counts().plot(kind ='bar')"
   ]
  },
  {
   "cell_type": "code",
   "execution_count": 29,
   "metadata": {},
   "outputs": [
    {
     "data": {
      "text/plain": [
       "<matplotlib.axes._subplots.AxesSubplot at 0x29f015dc438>"
      ]
     },
     "execution_count": 29,
     "metadata": {},
     "output_type": "execute_result"
    },
    {
     "data": {
      "image/png": "[encoded data removed]",
      "text/plain": [
       "<Figure size 432x288 with 1 Axes>"
      ]
     },
     "metadata": {
      "needs_background": "light"
     },
     "output_type": "display_data"
    }
   ],
   "source": [
    "data[\"ESTU_DEDICACIONLECTURADIARIA\"].value_counts().plot(kind ='bar')"
   ]
  },
  {
   "cell_type": "code",
   "execution_count": 30,
   "metadata": {},
   "outputs": [
    {
     "data": {
      "text/plain": [
       "<matplotlib.axes._subplots.AxesSubplot at 0x29f01649278>"
      ]
     },
     "execution_count": 30,
     "metadata": {},
     "output_type": "execute_result"
    },
    {
     "data": {
      "image/png": "[encoded data removed]",
      "text/plain": [
       "<Figure size 432x288 with 1 Axes>"
      ]
     },
     "metadata": {
      "needs_background": "light"
     },
     "output_type": "display_data"
    }
   ],
   "source": [
    "data[\"ESTU_DEDICACIONINTERNET\"].value_counts().plot(kind ='bar')"
   ]
  },
  {
   "cell_type": "code",
   "execution_count": 166,
   "metadata": {},
   "outputs": [
    {
     "data": {
      "text/plain": [
       "<matplotlib.axes._subplots.AxesSubplot at 0x1ab0a921828>"
      ]
     },
     "execution_count": 166,
     "metadata": {},
     "output_type": "execute_result"
    },
    {
     "data": {
      "image/png": "[encoded data removed]",
      "text/plain": [
       "<Figure size 432x288 with 1 Axes>"
      ]
     },
     "metadata": {
      "needs_background": "light"
     },
     "output_type": "display_data"
    }
   ],
   "source": [
    "data[\"COLE_NATURALEZA\"].value_counts().plot(kind ='bar')"
   ]
  },
  {
   "cell_type": "code",
   "execution_count": 31,
   "metadata": {},
   "outputs": [
    {
     "data": {
      "text/plain": [
       "<matplotlib.axes._subplots.AxesSubplot at 0x29f015dc550>"
      ]
     },
     "execution_count": 31,
     "metadata": {},
     "output_type": "execute_result"
    },
    {
     "data": {
      "image/png": "[encoded data removed]",
      "text/plain": [
       "<Figure size 432x288 with 1 Axes>"
      ]
     },
     "metadata": {
      "needs_background": "light"
     },
     "output_type": "display_data"
    }
   ],
   "source": [
    "data[\"COLE_CARACTER\"].value_counts().plot(kind ='bar')"
   ]
  },
  {
   "cell_type": "code",
   "execution_count": 168,
   "metadata": {},
   "outputs": [
    {
     "data": {
      "text/plain": [
       "<matplotlib.axes._subplots.AxesSubplot at 0x1ab0a9fd160>"
      ]
     },
     "execution_count": 168,
     "metadata": {},
     "output_type": "execute_result"
    },
    {
     "data": {
      "image/png": "[encoded data removed]",
      "text/plain": [
       "<Figure size 432x288 with 1 Axes>"
      ]
     },
     "metadata": {
      "needs_background": "light"
     },
     "output_type": "display_data"
    }
   ],
   "source": [
    "data[\"COLE_AREA_UBICACION\"].value_counts().plot(kind ='bar')"
   ]
  },
  {
   "cell_type": "code",
   "execution_count": 169,
   "metadata": {},
   "outputs": [
    {
     "data": {
      "text/plain": [
       "<matplotlib.axes._subplots.AxesSubplot at 0x1ab0aa6aeb8>"
      ]
     },
     "execution_count": 169,
     "metadata": {},
     "output_type": "execute_result"
    },
    {
     "data": {
      "image/png": "[encoded data removed]",
      "text/plain": [
       "<Figure size 432x288 with 1 Axes>"
      ]
     },
     "metadata": {
      "needs_background": "light"
     },
     "output_type": "display_data"
    }
   ],
   "source": [
    "data[\"COLE_JORNADA\"].value_counts().plot(kind ='bar')"
   ]
  },
  {
   "cell_type": "code",
   "execution_count": 176,
   "metadata": {},
   "outputs": [
    {
     "data": {
      "text/plain": [
       "<matplotlib.axes._subplots.AxesSubplot at 0x1ab0b4da2b0>"
      ]
     },
     "execution_count": 176,
     "metadata": {},
     "output_type": "execute_result"
    },
    {
     "data": {
      "image/png": "[encoded data removed]",
      "text/plain": [
       "<Figure size 432x288 with 1 Axes>"
      ]
     },
     "metadata": {
      "needs_background": "light"
     },
     "output_type": "display_data"
    }
   ],
   "source": [
    "data[\"PUNT_LECTURA_CRITICA\"].hist()"
   ]
  },
  {
   "cell_type": "code",
   "execution_count": 180,
   "metadata": {},
   "outputs": [
    {
     "data": {
      "text/plain": [
       "<matplotlib.axes._subplots.AxesSubplot at 0x1ab0b508278>"
      ]
     },
     "execution_count": 180,
     "metadata": {},
     "output_type": "execute_result"
    },
    {
     "data": {
      "image/png": "[encoded data removed]",
      "text/plain": [
       "<Figure size 432x288 with 1 Axes>"
      ]
     },
     "metadata": {
      "needs_background": "light"
     },
     "output_type": "display_data"
    }
   ],
   "source": [
    "data[\"PUNT_MATEMATICAS\"].hist(bins = 100)"
   ]
  },
  {
   "cell_type": "code",
   "execution_count": 179,
   "metadata": {},
   "outputs": [
    {
     "data": {
      "text/plain": [
       "PUNT_MATEMATICAS\n",
       "0          6\n",
       "15        11\n",
       "16        21\n",
       "17        77\n",
       "18       147\n",
       "19       260\n",
       "20       413\n",
       "21       707\n",
       "22      1006\n",
       "23      1530\n",
       "24      2189\n",
       "25      2874\n",
       "26      3623\n",
       "27      4589\n",
       "28      5628\n",
       "29      6930\n",
       "30      8411\n",
       "31      9926\n",
       "32     11642\n",
       "33     13301\n",
       "34     14968\n",
       "35     16488\n",
       "36     18272\n",
       "37     20024\n",
       "38     21938\n",
       "39     23150\n",
       "40     24453\n",
       "41     25772\n",
       "42     27210\n",
       "43     28068\n",
       "       ...  \n",
       "59     26933\n",
       "60     25288\n",
       "61     24149\n",
       "62     22502\n",
       "63     20927\n",
       "64     19414\n",
       "65     17402\n",
       "66     15844\n",
       "67     14263\n",
       "68     12690\n",
       "69     10888\n",
       "70      9628\n",
       "71      8272\n",
       "72      7350\n",
       "73      6181\n",
       "74      5307\n",
       "75      4317\n",
       "76      3574\n",
       "77      2830\n",
       "78      2329\n",
       "79      1866\n",
       "80      1459\n",
       "81      1197\n",
       "82       925\n",
       "83       660\n",
       "84       516\n",
       "85       391\n",
       "86        67\n",
       "87         5\n",
       "100      790\n",
       "Length: 75, dtype: int64"
      ]
     },
     "execution_count": 179,
     "metadata": {},
     "output_type": "execute_result"
    }
   ],
   "source": [
    "data.groupby(\"PUNT_MATEMATICAS\").size()"
   ]
  },
  {
   "cell_type": "code",
   "execution_count": null,
   "metadata": {},
   "outputs": [],
   "source": []
  },
  {
   "cell_type": "code",
   "execution_count": null,
   "metadata": {},
   "outputs": [],
   "source": []
  },
  {
   "cell_type": "code",
   "execution_count": 157,
   "metadata": {},
   "outputs": [
    {
     "name": "stdout",
     "output_type": "stream",
     "text": [
      "data[\"FAMI_TRABAJOLABORPADRE\"].value_counts().plot(kind ='bar')\n",
      "data[\"FAMI_TRABAJOLABORMADRE\"].value_counts().plot(kind ='bar')\n",
      "data[\"FAMI_NUMLIBROS\"].value_counts().plot(kind ='bar')\n",
      "data[\"FAMI_COMELECHEDERIVADOS\"].value_counts().plot(kind ='bar')\n",
      "data[\"FAMI_COMECARNEPESCADOHUEVO\"].value_counts().plot(kind ='bar')\n",
      "data[\"FAMI_COMECEREALFRUTOSLEGUMBRE\"].value_counts().plot(kind ='bar')\n",
      "data[\"ESTU_DEDICACIONLECTURADIARIA\"].value_counts().plot(kind ='bar')\n",
      "data[\"ESTU_DEDICACIONINTERNET\"].value_counts().plot(kind ='bar')\n",
      "data[\"COLE_NATURALEZA\"].value_counts().plot(kind ='bar')\n",
      "data[\"COLE_CARACTER\"].value_counts().plot(kind ='bar')\n",
      "data[\"COLE_AREA_UBICACION\"].value_counts().plot(kind ='bar')\n",
      "data[\"COLE_JORNADA\"].value_counts().plot(kind ='bar')\n",
      "data[\"PUNT_LECTURA_CRITICA\"].value_counts().plot(kind ='bar')\n",
      "data[\"PUNT_MATEMATICAS\"].value_counts().plot(kind ='bar')\n"
     ]
    }
   ],
   "source": [
    "arr = [\"FAMI_TRABAJOLABORPADRE\",\n",
    "\"FAMI_TRABAJOLABORMADRE\",\n",
    "\"FAMI_NUMLIBROS\",\n",
    "\"FAMI_COMELECHEDERIVADOS\",\n",
    "\"FAMI_COMECARNEPESCADOHUEVO\",\n",
    "\"FAMI_COMECEREALFRUTOSLEGUMBRE\",\n",
    "\"ESTU_DEDICACIONLECTURADIARIA\",\n",
    "\"ESTU_DEDICACIONINTERNET\",\n",
    "\"COLE_NATURALEZA\",\n",
    "\"COLE_CARACTER\",\n",
    "\"COLE_AREA_UBICACION\",\n",
    "\"COLE_JORNADA\",\n",
    "\"PUNT_LECTURA_CRITICA\",\n",
    "\"PUNT_MATEMATICAS\"\n",
    "]\n",
    "for element in arr:\n",
    "    print(\"data[\\\"\"+element+\"\\\"].value_counts().plot(kind ='bar')\")"
   ]
  },
  {
   "cell_type": "code",
   "execution_count": 32,
   "metadata": {},
   "outputs": [
    {
     "data": {
      "text/plain": [
       "<matplotlib.axes._subplots.AxesSubplot at 0x29f0170e4a8>"
      ]
     },
     "execution_count": 32,
     "metadata": {},
     "output_type": "execute_result"
    },
    {
     "data": {
      "image/png": "[encoded data removed]",
      "text/plain": [
       "<Figure size 432x288 with 1 Axes>"
      ]
     },
     "metadata": {
      "needs_background": "light"
     },
     "output_type": "display_data"
    }
   ],
   "source": [
    "data[\"ESTU_NSE_ESTABLECIMIENTO\"].value_counts().plot(kind ='bar')"
   ]
  },
  {
   "cell_type": "code",
   "execution_count": 124,
   "metadata": {},
   "outputs": [
    {
     "data": {
      "text/plain": [
       "<matplotlib.axes._subplots.AxesSubplot at 0x1ab056f5a20>"
      ]
     },
     "execution_count": 124,
     "metadata": {},
     "output_type": "execute_result"
    },
    {
     "data": {
      "image/png": "[encoded data removed]",
      "text/plain": [
       "<Figure size 432x288 with 1 Axes>"
      ]
     },
     "metadata": {
      "needs_background": "light"
     },
     "output_type": "display_data"
    }
   ],
   "source": [
    "data[\"ELECTRODOMESTICOS\"].value_counts().plot(kind ='bar')"
   ]
  },
  {
   "cell_type": "code",
   "execution_count": 125,
   "metadata": {},
   "outputs": [
    {
     "data": {
      "text/plain": [
       "ELECTRODOMESTICOS\n",
       "11000    14.087395\n",
       "10000    12.695222\n",
       "0        11.784966\n",
       "11010     9.678732\n",
       "10010     7.873683\n",
       "11101     5.564458\n",
       "11100     5.365407\n",
       "10        5.284349\n",
       "11001     4.715168\n",
       "1000      4.273238\n",
       "11011     3.668896\n",
       "11110     3.372044\n",
       "11111     3.341314\n",
       "1010      2.773611\n",
       "10001     1.161901\n",
       "10100     1.081335\n",
       "10110     0.959994\n",
       "10011     0.912915\n",
       "1100      0.755231\n",
       "1001      0.650140\n",
       "dtype: float64"
      ]
     },
     "execution_count": 125,
     "metadata": {},
     "output_type": "execute_result"
    }
   ],
   "source": [
    "data.groupby(\"ELECTRODOMESTICOS\").size().sort_values(ascending=False)/data.shape[0]*100"
   ]
  },
  {
   "cell_type": "code",
   "execution_count": 55,
   "metadata": {},
   "outputs": [
    {
     "data": {
      "text/plain": [
       "0.8370729999999998"
      ]
     },
     "execution_count": 55,
     "metadata": {},
     "output_type": "execute_result"
    }
   ],
   "source": [
    "0.274922+0.230995+0.211966+0.062861+0.056329"
   ]
  },
  {
   "cell_type": "code",
   "execution_count": 56,
   "metadata": {},
   "outputs": [
    {
     "data": {
      "text/plain": [
       "3.83783"
      ]
     },
     "execution_count": 56,
     "metadata": {},
     "output_type": "execute_result"
    }
   ],
   "source": [
    "0.557512+0.507337+0.475717+0.425447+0.409827+0.335889+0.289028+0.274922+0.230995+0.211966+0.062861+0.056329"
   ]
  },
  {
   "cell_type": "code",
   "execution_count": 58,
   "metadata": {},
   "outputs": [
    {
     "data": {
      "text/plain": [
       "40538.998289999996"
      ]
     },
     "execution_count": 58,
     "metadata": {},
     "output_type": "execute_result"
    }
   ],
   "source": [
    "3.83783*data.shape[0]/100"
   ]
  },
  {
   "cell_type": "code",
   "execution_count": 72,
   "metadata": {},
   "outputs": [
    {
     "data": {
      "text/plain": [
       "(1056300, 31)"
      ]
     },
     "execution_count": 72,
     "metadata": {},
     "output_type": "execute_result"
    }
   ],
   "source": [
    "data.shape"
   ]
  },
  {
   "cell_type": "code",
   "execution_count": 107,
   "metadata": {},
   "outputs": [
    {
     "name": "stdout",
     "output_type": "stream",
     "text": [
      "0.4294009306324509\n"
     ]
    }
   ],
   "source": [
    "print(data.PUNT_GLOBAL.corr(data.ESTU_INSE_INDIVIDUAL, method=\"pearson\"))"
   ]
  },
  {
   "cell_type": "code",
   "execution_count": 109,
   "metadata": {},
   "outputs": [
    {
     "data": {
      "text/html": [
       "<div>\n",
       "<style scoped>\n",
       "    .dataframe tbody tr th:only-of-type {\n",
       "        vertical-align: middle;\n",
       "    }\n",
       "\n",
       "    .dataframe tbody tr th {\n",
       "        vertical-align: top;\n",
       "    }\n",
       "\n",
       "    .dataframe thead th {\n",
       "        text-align: right;\n",
       "    }\n",
       "</style>\n",
       "<table border=\"1\" class=\"dataframe\">\n",
       "  <thead>\n",
       "    <tr style=\"text-align: right;\">\n",
       "      <th></th>\n",
       "      <th>ELECTRODOMESTICOS</th>\n",
       "      <th>ESTU_FECHANACIMIENTO</th>\n",
       "      <th>PERIODO</th>\n",
       "      <th>PUNT_LECTURA_CRITICA</th>\n",
       "      <th>PUNT_MATEMATICAS</th>\n",
       "      <th>PUNT_C_NATURALES</th>\n",
       "      <th>PUNT_SOCIALES_CIUDADANAS</th>\n",
       "      <th>PUNT_INGLES</th>\n",
       "      <th>PUNT_GLOBAL</th>\n",
       "      <th>ESTU_NSE_ESTABLECIMIENTO</th>\n",
       "      <th>ESTU_INSE_INDIVIDUAL</th>\n",
       "    </tr>\n",
       "  </thead>\n",
       "  <tbody>\n",
       "    <tr>\n",
       "      <th>ELECTRODOMESTICOS</th>\n",
       "      <td>1.000000</td>\n",
       "      <td>-0.132771</td>\n",
       "      <td>0.005795</td>\n",
       "      <td>0.166557</td>\n",
       "      <td>0.167326</td>\n",
       "      <td>0.170000</td>\n",
       "      <td>0.154711</td>\n",
       "      <td>0.207319</td>\n",
       "      <td>0.187009</td>\n",
       "      <td>0.299027</td>\n",
       "      <td>0.493738</td>\n",
       "    </tr>\n",
       "    <tr>\n",
       "      <th>ESTU_FECHANACIMIENTO</th>\n",
       "      <td>-0.132771</td>\n",
       "      <td>1.000000</td>\n",
       "      <td>-0.003653</td>\n",
       "      <td>-0.264884</td>\n",
       "      <td>-0.303546</td>\n",
       "      <td>-0.290263</td>\n",
       "      <td>-0.245416</td>\n",
       "      <td>-0.266743</td>\n",
       "      <td>-0.306775</td>\n",
       "      <td>-0.151768</td>\n",
       "      <td>-0.227964</td>\n",
       "    </tr>\n",
       "    <tr>\n",
       "      <th>PERIODO</th>\n",
       "      <td>0.005795</td>\n",
       "      <td>-0.003653</td>\n",
       "      <td>1.000000</td>\n",
       "      <td>-0.032783</td>\n",
       "      <td>0.005460</td>\n",
       "      <td>-0.083097</td>\n",
       "      <td>-0.089231</td>\n",
       "      <td>0.047297</td>\n",
       "      <td>-0.046033</td>\n",
       "      <td>0.023115</td>\n",
       "      <td>-0.017222</td>\n",
       "    </tr>\n",
       "    <tr>\n",
       "      <th>PUNT_LECTURA_CRITICA</th>\n",
       "      <td>0.166557</td>\n",
       "      <td>-0.264884</td>\n",
       "      <td>-0.032783</td>\n",
       "      <td>1.000000</td>\n",
       "      <td>0.737252</td>\n",
       "      <td>0.749610</td>\n",
       "      <td>0.802158</td>\n",
       "      <td>0.660216</td>\n",
       "      <td>0.895998</td>\n",
       "      <td>0.382037</td>\n",
       "      <td>0.384147</td>\n",
       "    </tr>\n",
       "    <tr>\n",
       "      <th>PUNT_MATEMATICAS</th>\n",
       "      <td>0.167326</td>\n",
       "      <td>-0.303546</td>\n",
       "      <td>0.005460</td>\n",
       "      <td>0.737252</td>\n",
       "      <td>1.000000</td>\n",
       "      <td>0.798273</td>\n",
       "      <td>0.744886</td>\n",
       "      <td>0.662650</td>\n",
       "      <td>0.904419</td>\n",
       "      <td>0.373221</td>\n",
       "      <td>0.377802</td>\n",
       "    </tr>\n",
       "    <tr>\n",
       "      <th>PUNT_C_NATURALES</th>\n",
       "      <td>0.170000</td>\n",
       "      <td>-0.290263</td>\n",
       "      <td>-0.083097</td>\n",
       "      <td>0.749610</td>\n",
       "      <td>0.798273</td>\n",
       "      <td>1.000000</td>\n",
       "      <td>0.798105</td>\n",
       "      <td>0.680685</td>\n",
       "      <td>0.915591</td>\n",
       "      <td>0.359810</td>\n",
       "      <td>0.370571</td>\n",
       "    </tr>\n",
       "    <tr>\n",
       "      <th>PUNT_SOCIALES_CIUDADANAS</th>\n",
       "      <td>0.154711</td>\n",
       "      <td>-0.245416</td>\n",
       "      <td>-0.089231</td>\n",
       "      <td>0.802158</td>\n",
       "      <td>0.744886</td>\n",
       "      <td>0.798105</td>\n",
       "      <td>1.000000</td>\n",
       "      <td>0.669509</td>\n",
       "      <td>0.918097</td>\n",
       "      <td>0.370207</td>\n",
       "      <td>0.375087</td>\n",
       "    </tr>\n",
       "    <tr>\n",
       "      <th>PUNT_INGLES</th>\n",
       "      <td>0.207319</td>\n",
       "      <td>-0.266743</td>\n",
       "      <td>0.047297</td>\n",
       "      <td>0.660216</td>\n",
       "      <td>0.662650</td>\n",
       "      <td>0.680685</td>\n",
       "      <td>0.669509</td>\n",
       "      <td>1.000000</td>\n",
       "      <td>0.774029</td>\n",
       "      <td>0.470131</td>\n",
       "      <td>0.484501</td>\n",
       "    </tr>\n",
       "    <tr>\n",
       "      <th>PUNT_GLOBAL</th>\n",
       "      <td>0.187009</td>\n",
       "      <td>-0.306775</td>\n",
       "      <td>-0.046033</td>\n",
       "      <td>0.895998</td>\n",
       "      <td>0.904419</td>\n",
       "      <td>0.915591</td>\n",
       "      <td>0.918097</td>\n",
       "      <td>0.774029</td>\n",
       "      <td>1.000000</td>\n",
       "      <td>0.422414</td>\n",
       "      <td>0.429401</td>\n",
       "    </tr>\n",
       "    <tr>\n",
       "      <th>ESTU_NSE_ESTABLECIMIENTO</th>\n",
       "      <td>0.299027</td>\n",
       "      <td>-0.151768</td>\n",
       "      <td>0.023115</td>\n",
       "      <td>0.382037</td>\n",
       "      <td>0.373221</td>\n",
       "      <td>0.359810</td>\n",
       "      <td>0.370207</td>\n",
       "      <td>0.470131</td>\n",
       "      <td>0.422414</td>\n",
       "      <td>1.000000</td>\n",
       "      <td>0.627401</td>\n",
       "    </tr>\n",
       "    <tr>\n",
       "      <th>ESTU_INSE_INDIVIDUAL</th>\n",
       "      <td>0.493738</td>\n",
       "      <td>-0.227964</td>\n",
       "      <td>-0.017222</td>\n",
       "      <td>0.384147</td>\n",
       "      <td>0.377802</td>\n",
       "      <td>0.370571</td>\n",
       "      <td>0.375087</td>\n",
       "      <td>0.484501</td>\n",
       "      <td>0.429401</td>\n",
       "      <td>0.627401</td>\n",
       "      <td>1.000000</td>\n",
       "    </tr>\n",
       "  </tbody>\n",
       "</table>\n",
       "</div>"
      ],
      "text/plain": [
       "                          ELECTRODOMESTICOS  ESTU_FECHANACIMIENTO   PERIODO  \\\n",
       "ELECTRODOMESTICOS                  1.000000             -0.132771  0.005795   \n",
       "ESTU_FECHANACIMIENTO              -0.132771              1.000000 -0.003653   \n",
       "PERIODO                            0.005795             -0.003653  1.000000   \n",
       "PUNT_LECTURA_CRITICA               0.166557             -0.264884 -0.032783   \n",
       "PUNT_MATEMATICAS                   0.167326             -0.303546  0.005460   \n",
       "PUNT_C_NATURALES                   0.170000             -0.290263 -0.083097   \n",
       "PUNT_SOCIALES_CIUDADANAS           0.154711             -0.245416 -0.089231   \n",
       "PUNT_INGLES                        0.207319             -0.266743  0.047297   \n",
       "PUNT_GLOBAL                        0.187009             -0.306775 -0.046033   \n",
       "ESTU_NSE_ESTABLECIMIENTO           0.299027             -0.151768  0.023115   \n",
       "ESTU_INSE_INDIVIDUAL               0.493738             -0.227964 -0.017222   \n",
       "\n",
       "                          PUNT_LECTURA_CRITICA  PUNT_MATEMATICAS  \\\n",
       "ELECTRODOMESTICOS                     0.166557          0.167326   \n",
       "ESTU_FECHANACIMIENTO                 -0.264884         -0.303546   \n",
       "PERIODO                              -0.032783          0.005460   \n",
       "PUNT_LECTURA_CRITICA                  1.000000          0.737252   \n",
       "PUNT_MATEMATICAS                      0.737252          1.000000   \n",
       "PUNT_C_NATURALES                      0.749610          0.798273   \n",
       "PUNT_SOCIALES_CIUDADANAS              0.802158          0.744886   \n",
       "PUNT_INGLES                           0.660216          0.662650   \n",
       "PUNT_GLOBAL                           0.895998          0.904419   \n",
       "ESTU_NSE_ESTABLECIMIENTO              0.382037          0.373221   \n",
       "ESTU_INSE_INDIVIDUAL                  0.384147          0.377802   \n",
       "\n",
       "                          PUNT_C_NATURALES  PUNT_SOCIALES_CIUDADANAS  \\\n",
       "ELECTRODOMESTICOS                 0.170000                  0.154711   \n",
       "ESTU_FECHANACIMIENTO             -0.290263                 -0.245416   \n",
       "PERIODO                          -0.083097                 -0.089231   \n",
       "PUNT_LECTURA_CRITICA              0.749610                  0.802158   \n",
       "PUNT_MATEMATICAS                  0.798273                  0.744886   \n",
       "PUNT_C_NATURALES                  1.000000                  0.798105   \n",
       "PUNT_SOCIALES_CIUDADANAS          0.798105                  1.000000   \n",
       "PUNT_INGLES                       0.680685                  0.669509   \n",
       "PUNT_GLOBAL                       0.915591                  0.918097   \n",
       "ESTU_NSE_ESTABLECIMIENTO          0.359810                  0.370207   \n",
       "ESTU_INSE_INDIVIDUAL              0.370571                  0.375087   \n",
       "\n",
       "                          PUNT_INGLES  PUNT_GLOBAL  ESTU_NSE_ESTABLECIMIENTO  \\\n",
       "ELECTRODOMESTICOS            0.207319     0.187009                  0.299027   \n",
       "ESTU_FECHANACIMIENTO        -0.266743    -0.306775                 -0.151768   \n",
       "PERIODO                      0.047297    -0.046033                  0.023115   \n",
       "PUNT_LECTURA_CRITICA         0.660216     0.895998                  0.382037   \n",
       "PUNT_MATEMATICAS             0.662650     0.904419                  0.373221   \n",
       "PUNT_C_NATURALES             0.680685     0.915591                  0.359810   \n",
       "PUNT_SOCIALES_CIUDADANAS     0.669509     0.918097                  0.370207   \n",
       "PUNT_INGLES                  1.000000     0.774029                  0.470131   \n",
       "PUNT_GLOBAL                  0.774029     1.000000                  0.422414   \n",
       "ESTU_NSE_ESTABLECIMIENTO     0.470131     0.422414                  1.000000   \n",
       "ESTU_INSE_INDIVIDUAL         0.484501     0.429401                  0.627401   \n",
       "\n",
       "                          ESTU_INSE_INDIVIDUAL  \n",
       "ELECTRODOMESTICOS                     0.493738  \n",
       "ESTU_FECHANACIMIENTO                 -0.227964  \n",
       "PERIODO                              -0.017222  \n",
       "PUNT_LECTURA_CRITICA                  0.384147  \n",
       "PUNT_MATEMATICAS                      0.377802  \n",
       "PUNT_C_NATURALES                      0.370571  \n",
       "PUNT_SOCIALES_CIUDADANAS              0.375087  \n",
       "PUNT_INGLES                           0.484501  \n",
       "PUNT_GLOBAL                           0.429401  \n",
       "ESTU_NSE_ESTABLECIMIENTO              0.627401  \n",
       "ESTU_INSE_INDIVIDUAL                  1.000000  "
      ]
     },
     "execution_count": 109,
     "metadata": {},
     "output_type": "execute_result"
    }
   ],
   "source": [
    "data.corr(method=\"pearson\")"
   ]
  },
  {
   "cell_type": "markdown",
   "metadata": {},
   "source": [
    "## Diagramas de caja"
   ]
  },
  {
   "cell_type": "code",
   "execution_count": 47,
   "metadata": {},
   "outputs": [
    {
     "data": {
      "text/plain": [
       "Text(0.5, 0, 'Edad')"
      ]
     },
     "execution_count": 47,
     "metadata": {},
     "output_type": "execute_result"
    },
    {
     "data": {
      "image/png": "[encoded data removed]",
      "text/plain": [
       "<Figure size 432x288 with 1 Axes>"
      ]
     },
     "metadata": {
      "needs_background": "light"
     },
     "output_type": "display_data"
    }
   ],
   "source": [
    "hist = data.boxplot(column=['ESTU_FECHANACIMIENTO'])\n",
    "hist.set_xlabel(\"Edad\")"
   ]
  },
  {
   "cell_type": "code",
   "execution_count": 31,
   "metadata": {},
   "outputs": [
    {
     "data": {
      "text/plain": [
       "ESTU_FECHANACIMIENTO\n",
       "23    0.398030\n",
       "24    0.312850\n",
       "25    0.255073\n",
       "26    0.214574\n",
       "27    0.204077\n",
       "28    0.190330\n",
       "29    0.165343\n",
       "30    0.141006\n",
       "dtype: float64"
      ]
     },
     "execution_count": 31,
     "metadata": {},
     "output_type": "execute_result"
    }
   ],
   "source": [
    "dataAge = data[data['ESTU_FECHANACIMIENTO'] > 22]\n",
    "dataAge.groupby(\"ESTU_FECHANACIMIENTO\").size()/data.shape[0]*100"
   ]
  },
  {
   "cell_type": "code",
   "execution_count": null,
   "metadata": {},
   "outputs": [],
   "source": []
  },
  {
   "cell_type": "markdown",
   "metadata": {},
   "source": [
    "## tabla de contingencia"
   ]
  },
  {
   "cell_type": "code",
   "execution_count": 38,
   "metadata": {},
   "outputs": [
    {
     "data": {
      "text/html": [
       "<div>\n",
       "<style scoped>\n",
       "    .dataframe tbody tr th:only-of-type {\n",
       "        vertical-align: middle;\n",
       "    }\n",
       "\n",
       "    .dataframe tbody tr th {\n",
       "        vertical-align: top;\n",
       "    }\n",
       "\n",
       "    .dataframe thead th {\n",
       "        text-align: right;\n",
       "    }\n",
       "</style>\n",
       "<table border=\"1\" class=\"dataframe\">\n",
       "  <thead>\n",
       "    <tr style=\"text-align: right;\">\n",
       "      <th>FAMI_TIENECOMPUTADOR</th>\n",
       "      <th>-</th>\n",
       "      <th>No</th>\n",
       "      <th>Si</th>\n",
       "    </tr>\n",
       "    <tr>\n",
       "      <th>FAMI_TIENESERVICIOTV</th>\n",
       "      <th></th>\n",
       "      <th></th>\n",
       "      <th></th>\n",
       "    </tr>\n",
       "  </thead>\n",
       "  <tbody>\n",
       "    <tr>\n",
       "      <th>-</th>\n",
       "      <td>1.376337</td>\n",
       "      <td>2.109975</td>\n",
       "      <td>2.023495</td>\n",
       "    </tr>\n",
       "    <tr>\n",
       "      <th>No</th>\n",
       "      <td>0.287863</td>\n",
       "      <td>14.776421</td>\n",
       "      <td>7.796086</td>\n",
       "    </tr>\n",
       "    <tr>\n",
       "      <th>Si</th>\n",
       "      <td>0.768936</td>\n",
       "      <td>23.548399</td>\n",
       "      <td>47.312487</td>\n",
       "    </tr>\n",
       "  </tbody>\n",
       "</table>\n",
       "</div>"
      ],
      "text/plain": [
       "FAMI_TIENECOMPUTADOR         -         No         Si\n",
       "FAMI_TIENESERVICIOTV                                \n",
       "-                     1.376337   2.109975   2.023495\n",
       "No                    0.287863  14.776421   7.796086\n",
       "Si                    0.768936  23.548399  47.312487"
      ]
     },
     "execution_count": 38,
     "metadata": {},
     "output_type": "execute_result"
    }
   ],
   "source": [
    "pd.crosstab(data['FAMI_TIENESERVICIOTV'], [data['FAMI_TIENECOMPUTADOR']],[data['FAMI_TIENEAUTOMOVIL']] )/data.shape[0]*100"
   ]
  },
  {
   "cell_type": "code",
   "execution_count": 39,
   "metadata": {},
   "outputs": [
    {
     "data": {
      "text/html": [
       "<div>\n",
       "<style scoped>\n",
       "    .dataframe tbody tr th:only-of-type {\n",
       "        vertical-align: middle;\n",
       "    }\n",
       "\n",
       "    .dataframe tbody tr th {\n",
       "        vertical-align: top;\n",
       "    }\n",
       "\n",
       "    .dataframe thead th {\n",
       "        text-align: right;\n",
       "    }\n",
       "</style>\n",
       "<table border=\"1\" class=\"dataframe\">\n",
       "  <thead>\n",
       "    <tr style=\"text-align: right;\">\n",
       "      <th>FAMI_EDUCACIONMADRE</th>\n",
       "      <th>-</th>\n",
       "      <th>Educación profesional completa</th>\n",
       "      <th>Educación profesional incompleta</th>\n",
       "      <th>Ninguno</th>\n",
       "      <th>No Aplica</th>\n",
       "      <th>No sabe</th>\n",
       "      <th>Postgrado</th>\n",
       "      <th>Primaria completa</th>\n",
       "      <th>Primaria incompleta</th>\n",
       "      <th>Secundaria (Bachillerato) completa</th>\n",
       "      <th>Secundaria (Bachillerato) incompleta</th>\n",
       "      <th>Técnica o tecnológica completa</th>\n",
       "      <th>Técnica o tecnológica incompleta</th>\n",
       "    </tr>\n",
       "    <tr>\n",
       "      <th>FAMI_EDUCACIONPADRE</th>\n",
       "      <th></th>\n",
       "      <th></th>\n",
       "      <th></th>\n",
       "      <th></th>\n",
       "      <th></th>\n",
       "      <th></th>\n",
       "      <th></th>\n",
       "      <th></th>\n",
       "      <th></th>\n",
       "      <th></th>\n",
       "      <th></th>\n",
       "      <th></th>\n",
       "      <th></th>\n",
       "    </tr>\n",
       "  </thead>\n",
       "  <tbody>\n",
       "    <tr>\n",
       "      <th>-</th>\n",
       "      <td>4.883550</td>\n",
       "      <td>0.019135</td>\n",
       "      <td>0.004459</td>\n",
       "      <td>0.006224</td>\n",
       "      <td>0.000650</td>\n",
       "      <td>0.002972</td>\n",
       "      <td>0.002415</td>\n",
       "      <td>0.031675</td>\n",
       "      <td>0.044401</td>\n",
       "      <td>0.066601</td>\n",
       "      <td>0.038177</td>\n",
       "      <td>0.023780</td>\n",
       "      <td>0.008174</td>\n",
       "    </tr>\n",
       "    <tr>\n",
       "      <th>Educación profesional completa</th>\n",
       "      <td>0.017370</td>\n",
       "      <td>3.796190</td>\n",
       "      <td>0.512190</td>\n",
       "      <td>0.019600</td>\n",
       "      <td>0.012819</td>\n",
       "      <td>0.102178</td>\n",
       "      <td>0.417072</td>\n",
       "      <td>0.143421</td>\n",
       "      <td>0.156147</td>\n",
       "      <td>1.383304</td>\n",
       "      <td>0.442245</td>\n",
       "      <td>1.219448</td>\n",
       "      <td>0.249407</td>\n",
       "    </tr>\n",
       "    <tr>\n",
       "      <th>Educación profesional incompleta</th>\n",
       "      <td>0.004923</td>\n",
       "      <td>0.421252</td>\n",
       "      <td>0.319910</td>\n",
       "      <td>0.007896</td>\n",
       "      <td>0.006781</td>\n",
       "      <td>0.021457</td>\n",
       "      <td>0.089452</td>\n",
       "      <td>0.046352</td>\n",
       "      <td>0.041800</td>\n",
       "      <td>0.359852</td>\n",
       "      <td>0.148623</td>\n",
       "      <td>0.290929</td>\n",
       "      <td>0.097534</td>\n",
       "    </tr>\n",
       "    <tr>\n",
       "      <th>Ninguno</th>\n",
       "      <td>0.021364</td>\n",
       "      <td>0.050160</td>\n",
       "      <td>0.019878</td>\n",
       "      <td>0.890992</td>\n",
       "      <td>0.007803</td>\n",
       "      <td>0.027124</td>\n",
       "      <td>0.007431</td>\n",
       "      <td>0.468625</td>\n",
       "      <td>1.033762</td>\n",
       "      <td>0.383260</td>\n",
       "      <td>0.417258</td>\n",
       "      <td>0.066787</td>\n",
       "      <td>0.045609</td>\n",
       "    </tr>\n",
       "    <tr>\n",
       "      <th>No Aplica</th>\n",
       "      <td>0.001951</td>\n",
       "      <td>0.100042</td>\n",
       "      <td>0.026473</td>\n",
       "      <td>0.013562</td>\n",
       "      <td>0.047373</td>\n",
       "      <td>0.017184</td>\n",
       "      <td>0.026659</td>\n",
       "      <td>0.087409</td>\n",
       "      <td>0.121406</td>\n",
       "      <td>0.221169</td>\n",
       "      <td>0.130788</td>\n",
       "      <td>0.109702</td>\n",
       "      <td>0.032418</td>\n",
       "    </tr>\n",
       "    <tr>\n",
       "      <th>No sabe</th>\n",
       "      <td>0.011797</td>\n",
       "      <td>0.560585</td>\n",
       "      <td>0.143885</td>\n",
       "      <td>0.053597</td>\n",
       "      <td>0.013562</td>\n",
       "      <td>0.906783</td>\n",
       "      <td>0.097534</td>\n",
       "      <td>0.475035</td>\n",
       "      <td>0.648551</td>\n",
       "      <td>1.357202</td>\n",
       "      <td>0.818446</td>\n",
       "      <td>0.577491</td>\n",
       "      <td>0.155589</td>\n",
       "    </tr>\n",
       "    <tr>\n",
       "      <th>Postgrado</th>\n",
       "      <td>0.002136</td>\n",
       "      <td>0.481165</td>\n",
       "      <td>0.081742</td>\n",
       "      <td>0.002415</td>\n",
       "      <td>0.004737</td>\n",
       "      <td>0.019042</td>\n",
       "      <td>0.726300</td>\n",
       "      <td>0.013655</td>\n",
       "      <td>0.012912</td>\n",
       "      <td>0.123450</td>\n",
       "      <td>0.035762</td>\n",
       "      <td>0.157261</td>\n",
       "      <td>0.032233</td>\n",
       "    </tr>\n",
       "    <tr>\n",
       "      <th>Primaria completa</th>\n",
       "      <td>0.026288</td>\n",
       "      <td>0.272351</td>\n",
       "      <td>0.075333</td>\n",
       "      <td>0.218475</td>\n",
       "      <td>0.008824</td>\n",
       "      <td>0.067530</td>\n",
       "      <td>0.034183</td>\n",
       "      <td>3.503590</td>\n",
       "      <td>1.789322</td>\n",
       "      <td>2.273738</td>\n",
       "      <td>1.641257</td>\n",
       "      <td>0.466303</td>\n",
       "      <td>0.166643</td>\n",
       "    </tr>\n",
       "    <tr>\n",
       "      <th>Primaria incompleta</th>\n",
       "      <td>0.040593</td>\n",
       "      <td>0.332171</td>\n",
       "      <td>0.096047</td>\n",
       "      <td>0.600714</td>\n",
       "      <td>0.014398</td>\n",
       "      <td>0.107658</td>\n",
       "      <td>0.035948</td>\n",
       "      <td>2.985083</td>\n",
       "      <td>8.199503</td>\n",
       "      <td>2.929071</td>\n",
       "      <td>2.962232</td>\n",
       "      <td>0.586873</td>\n",
       "      <td>0.214109</td>\n",
       "    </tr>\n",
       "    <tr>\n",
       "      <th>Secundaria (Bachillerato) completa</th>\n",
       "      <td>0.047002</td>\n",
       "      <td>1.695690</td>\n",
       "      <td>0.439365</td>\n",
       "      <td>0.127815</td>\n",
       "      <td>0.019971</td>\n",
       "      <td>0.178440</td>\n",
       "      <td>0.212809</td>\n",
       "      <td>1.377452</td>\n",
       "      <td>1.296081</td>\n",
       "      <td>9.666872</td>\n",
       "      <td>2.771717</td>\n",
       "      <td>2.347400</td>\n",
       "      <td>0.759647</td>\n",
       "    </tr>\n",
       "    <tr>\n",
       "      <th>Secundaria (Bachillerato) incompleta</th>\n",
       "      <td>0.033254</td>\n",
       "      <td>0.706700</td>\n",
       "      <td>0.213273</td>\n",
       "      <td>0.161163</td>\n",
       "      <td>0.011332</td>\n",
       "      <td>0.108773</td>\n",
       "      <td>0.089731</td>\n",
       "      <td>1.306763</td>\n",
       "      <td>1.564809</td>\n",
       "      <td>3.468942</td>\n",
       "      <td>4.573672</td>\n",
       "      <td>1.070268</td>\n",
       "      <td>0.398308</td>\n",
       "    </tr>\n",
       "    <tr>\n",
       "      <th>Técnica o tecnológica completa</th>\n",
       "      <td>0.014212</td>\n",
       "      <td>0.971341</td>\n",
       "      <td>0.256002</td>\n",
       "      <td>0.015977</td>\n",
       "      <td>0.010589</td>\n",
       "      <td>0.067995</td>\n",
       "      <td>0.150666</td>\n",
       "      <td>0.179740</td>\n",
       "      <td>0.162370</td>\n",
       "      <td>1.521523</td>\n",
       "      <td>0.525566</td>\n",
       "      <td>2.178063</td>\n",
       "      <td>0.343690</td>\n",
       "    </tr>\n",
       "    <tr>\n",
       "      <th>Técnica o tecnológica incompleta</th>\n",
       "      <td>0.007617</td>\n",
       "      <td>0.204635</td>\n",
       "      <td>0.092239</td>\n",
       "      <td>0.014119</td>\n",
       "      <td>0.005109</td>\n",
       "      <td>0.019507</td>\n",
       "      <td>0.037527</td>\n",
       "      <td>0.092146</td>\n",
       "      <td>0.080628</td>\n",
       "      <td>0.494820</td>\n",
       "      <td>0.222562</td>\n",
       "      <td>0.299289</td>\n",
       "      <td>0.387162</td>\n",
       "    </tr>\n",
       "  </tbody>\n",
       "</table>\n",
       "</div>"
      ],
      "text/plain": [
       "FAMI_EDUCACIONMADRE                          -  \\\n",
       "FAMI_EDUCACIONPADRE                              \n",
       "-                                     4.883550   \n",
       "Educación profesional completa        0.017370   \n",
       "Educación profesional incompleta      0.004923   \n",
       "Ninguno                               0.021364   \n",
       "No Aplica                             0.001951   \n",
       "No sabe                               0.011797   \n",
       "Postgrado                             0.002136   \n",
       "Primaria completa                     0.026288   \n",
       "Primaria incompleta                   0.040593   \n",
       "Secundaria (Bachillerato) completa    0.047002   \n",
       "Secundaria (Bachillerato) incompleta  0.033254   \n",
       "Técnica o tecnológica completa        0.014212   \n",
       "Técnica o tecnológica incompleta      0.007617   \n",
       "\n",
       "FAMI_EDUCACIONMADRE                   Educación profesional completa  \\\n",
       "FAMI_EDUCACIONPADRE                                                    \n",
       "-                                                           0.019135   \n",
       "Educación profesional completa                              3.796190   \n",
       "Educación profesional incompleta                            0.421252   \n",
       "Ninguno                                                     0.050160   \n",
       "No Aplica                                                   0.100042   \n",
       "No sabe                                                     0.560585   \n",
       "Postgrado                                                   0.481165   \n",
       "Primaria completa                                           0.272351   \n",
       "Primaria incompleta                                         0.332171   \n",
       "Secundaria (Bachillerato) completa                          1.695690   \n",
       "Secundaria (Bachillerato) incompleta                        0.706700   \n",
       "Técnica o tecnológica completa                              0.971341   \n",
       "Técnica o tecnológica incompleta                            0.204635   \n",
       "\n",
       "FAMI_EDUCACIONMADRE                   Educación profesional incompleta  \\\n",
       "FAMI_EDUCACIONPADRE                                                      \n",
       "-                                                             0.004459   \n",
       "Educación profesional completa                                0.512190   \n",
       "Educación profesional incompleta                              0.319910   \n",
       "Ninguno                                                       0.019878   \n",
       "No Aplica                                                     0.026473   \n",
       "No sabe                                                       0.143885   \n",
       "Postgrado                                                     0.081742   \n",
       "Primaria completa                                             0.075333   \n",
       "Primaria incompleta                                           0.096047   \n",
       "Secundaria (Bachillerato) completa                            0.439365   \n",
       "Secundaria (Bachillerato) incompleta                          0.213273   \n",
       "Técnica o tecnológica completa                                0.256002   \n",
       "Técnica o tecnológica incompleta                              0.092239   \n",
       "\n",
       "FAMI_EDUCACIONMADRE                    Ninguno  No Aplica   No sabe  \\\n",
       "FAMI_EDUCACIONPADRE                                                   \n",
       "-                                     0.006224   0.000650  0.002972   \n",
       "Educación profesional completa        0.019600   0.012819  0.102178   \n",
       "Educación profesional incompleta      0.007896   0.006781  0.021457   \n",
       "Ninguno                               0.890992   0.007803  0.027124   \n",
       "No Aplica                             0.013562   0.047373  0.017184   \n",
       "No sabe                               0.053597   0.013562  0.906783   \n",
       "Postgrado                             0.002415   0.004737  0.019042   \n",
       "Primaria completa                     0.218475   0.008824  0.067530   \n",
       "Primaria incompleta                   0.600714   0.014398  0.107658   \n",
       "Secundaria (Bachillerato) completa    0.127815   0.019971  0.178440   \n",
       "Secundaria (Bachillerato) incompleta  0.161163   0.011332  0.108773   \n",
       "Técnica o tecnológica completa        0.015977   0.010589  0.067995   \n",
       "Técnica o tecnológica incompleta      0.014119   0.005109  0.019507   \n",
       "\n",
       "FAMI_EDUCACIONMADRE                   Postgrado  Primaria completa  \\\n",
       "FAMI_EDUCACIONPADRE                                                  \n",
       "-                                      0.002415           0.031675   \n",
       "Educación profesional completa         0.417072           0.143421   \n",
       "Educación profesional incompleta       0.089452           0.046352   \n",
       "Ninguno                                0.007431           0.468625   \n",
       "No Aplica                              0.026659           0.087409   \n",
       "No sabe                                0.097534           0.475035   \n",
       "Postgrado                              0.726300           0.013655   \n",
       "Primaria completa                      0.034183           3.503590   \n",
       "Primaria incompleta                    0.035948           2.985083   \n",
       "Secundaria (Bachillerato) completa     0.212809           1.377452   \n",
       "Secundaria (Bachillerato) incompleta   0.089731           1.306763   \n",
       "Técnica o tecnológica completa         0.150666           0.179740   \n",
       "Técnica o tecnológica incompleta       0.037527           0.092146   \n",
       "\n",
       "FAMI_EDUCACIONMADRE                   Primaria incompleta  \\\n",
       "FAMI_EDUCACIONPADRE                                         \n",
       "-                                                0.044401   \n",
       "Educación profesional completa                   0.156147   \n",
       "Educación profesional incompleta                 0.041800   \n",
       "Ninguno                                          1.033762   \n",
       "No Aplica                                        0.121406   \n",
       "No sabe                                          0.648551   \n",
       "Postgrado                                        0.012912   \n",
       "Primaria completa                                1.789322   \n",
       "Primaria incompleta                              8.199503   \n",
       "Secundaria (Bachillerato) completa               1.296081   \n",
       "Secundaria (Bachillerato) incompleta             1.564809   \n",
       "Técnica o tecnológica completa                   0.162370   \n",
       "Técnica o tecnológica incompleta                 0.080628   \n",
       "\n",
       "FAMI_EDUCACIONMADRE                   Secundaria (Bachillerato) completa  \\\n",
       "FAMI_EDUCACIONPADRE                                                        \n",
       "-                                                               0.066601   \n",
       "Educación profesional completa                                  1.383304   \n",
       "Educación profesional incompleta                                0.359852   \n",
       "Ninguno                                                         0.383260   \n",
       "No Aplica                                                       0.221169   \n",
       "No sabe                                                         1.357202   \n",
       "Postgrado                                                       0.123450   \n",
       "Primaria completa                                               2.273738   \n",
       "Primaria incompleta                                             2.929071   \n",
       "Secundaria (Bachillerato) completa                              9.666872   \n",
       "Secundaria (Bachillerato) incompleta                            3.468942   \n",
       "Técnica o tecnológica completa                                  1.521523   \n",
       "Técnica o tecnológica incompleta                                0.494820   \n",
       "\n",
       "FAMI_EDUCACIONMADRE                   Secundaria (Bachillerato) incompleta  \\\n",
       "FAMI_EDUCACIONPADRE                                                          \n",
       "-                                                                 0.038177   \n",
       "Educación profesional completa                                    0.442245   \n",
       "Educación profesional incompleta                                  0.148623   \n",
       "Ninguno                                                           0.417258   \n",
       "No Aplica                                                         0.130788   \n",
       "No sabe                                                           0.818446   \n",
       "Postgrado                                                         0.035762   \n",
       "Primaria completa                                                 1.641257   \n",
       "Primaria incompleta                                               2.962232   \n",
       "Secundaria (Bachillerato) completa                                2.771717   \n",
       "Secundaria (Bachillerato) incompleta                              4.573672   \n",
       "Técnica o tecnológica completa                                    0.525566   \n",
       "Técnica o tecnológica incompleta                                  0.222562   \n",
       "\n",
       "FAMI_EDUCACIONMADRE                   Técnica o tecnológica completa  \\\n",
       "FAMI_EDUCACIONPADRE                                                    \n",
       "-                                                           0.023780   \n",
       "Educación profesional completa                              1.219448   \n",
       "Educación profesional incompleta                            0.290929   \n",
       "Ninguno                                                     0.066787   \n",
       "No Aplica                                                   0.109702   \n",
       "No sabe                                                     0.577491   \n",
       "Postgrado                                                   0.157261   \n",
       "Primaria completa                                           0.466303   \n",
       "Primaria incompleta                                         0.586873   \n",
       "Secundaria (Bachillerato) completa                          2.347400   \n",
       "Secundaria (Bachillerato) incompleta                        1.070268   \n",
       "Técnica o tecnológica completa                              2.178063   \n",
       "Técnica o tecnológica incompleta                            0.299289   \n",
       "\n",
       "FAMI_EDUCACIONMADRE                   Técnica o tecnológica incompleta  \n",
       "FAMI_EDUCACIONPADRE                                                     \n",
       "-                                                             0.008174  \n",
       "Educación profesional completa                                0.249407  \n",
       "Educación profesional incompleta                              0.097534  \n",
       "Ninguno                                                       0.045609  \n",
       "No Aplica                                                     0.032418  \n",
       "No sabe                                                       0.155589  \n",
       "Postgrado                                                     0.032233  \n",
       "Primaria completa                                             0.166643  \n",
       "Primaria incompleta                                           0.214109  \n",
       "Secundaria (Bachillerato) completa                            0.759647  \n",
       "Secundaria (Bachillerato) incompleta                          0.398308  \n",
       "Técnica o tecnológica completa                                0.343690  \n",
       "Técnica o tecnológica incompleta                              0.387162  "
      ]
     },
     "execution_count": 39,
     "metadata": {},
     "output_type": "execute_result"
    }
   ],
   "source": [
    "pd.crosstab(data['FAMI_EDUCACIONPADRE'], [data['FAMI_EDUCACIONMADRE']])/data.shape[0]*100"
   ]
  },
  {
   "cell_type": "markdown",
   "metadata": {},
   "source": [
    "# Entropia"
   ]
  },
  {
   "cell_type": "code",
   "execution_count": null,
   "metadata": {},
   "outputs": [],
   "source": [
    "columnEval = [\"FAMI_TIENESERVICIOTV\",\"FAMI_TIENECOMPUTADOR\",\"FAMI_TIENEAUTOMOVIL\",\"FAMI_TIENEMOTOCICLETA\",\"FAMI_TIENECONSOLAVIDEOJUEGOS\"]"
   ]
  },
  {
   "cell_type": "code",
   "execution_count": null,
   "metadata": {},
   "outputs": [],
   "source": [
    "def EntropySum(n):\n",
    "    if n == 0:\n",
    "        return 0\n",
    "    if n == 1:\n",
    "        return 0\n",
    "    else:\n",
    "        return n*math.log(n,2)+(1-n)*math.log(1-n,2)\n",
    "\n",
    "def compare(i,j,colPass):\n",
    "    count = 0\n",
    "    for col in columnEval:\n",
    "        if data.iloc[i][col] == data.iloc[j][col]:\n",
    "            if col != colPass:\n",
    "                count+=1\n",
    "    return count"
   ]
  },
  {
   "cell_type": "code",
   "execution_count": null,
   "metadata": {},
   "outputs": [],
   "source": [
    "entropy = 0\n",
    "dataSize = 1000 #data.shape[0]\n",
    "for i in range(dataSize):\n",
    "    for j in range(i+1,dataSize):\n",
    "        result = compare(i, j, \"\")\n",
    "        entropy += EntropySum(result/data.shape[1])\n",
    "        #if j%100 == 0:\n",
    "        #    print(\"R\",i,j,\"=\",result)\n",
    "    print(\"R\",i,j,\"=\",entropy)\n",
    "print(\"EntropyTotal\",entropy*-1)"
   ]
  },
  {
   "cell_type": "code",
   "execution_count": null,
   "metadata": {},
   "outputs": [],
   "source": []
  }
 ],
 "metadata": {
  "kernelspec": {
   "display_name": "Python 3",
   "language": "python",
   "name": "python3"
  },
  "language_info": {
   "codemirror_mode": {
    "name": "ipython",
    "version": 3
   },
   "file_extension": ".py",
   "mimetype": "text/x-python",
   "name": "python",
   "nbconvert_exporter": "python",
   "pygments_lexer": "ipython3",
   "version": "3.7.3"
  }
 },
 "nbformat": 4,
 "nbformat_minor": 2
}
