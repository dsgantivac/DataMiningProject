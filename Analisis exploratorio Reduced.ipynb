{
 "cells": [
  {
   "cell_type": "markdown",
   "metadata": {},
   "source": [
    "# Análisis  de los datos reducidos"
   ]
  },
  {
   "cell_type": "code",
   "execution_count": 1,
   "metadata": {},
   "outputs": [],
   "source": [
    "import pandas as pd\n",
    "import matplotlib.pyplot as plt \n",
    "import math\n",
    "from collections import Counter\n",
    "from random import random\n",
    "path = \"./Datasets/Saber_reducido.csv\""
   ]
  },
  {
   "cell_type": "code",
   "execution_count": 2,
   "metadata": {},
   "outputs": [],
   "source": [
    "def pertenece(a, b):\n",
    "    for i in range(1,len(b)):\n",
    "        if a>= b[i-1] and a<= b[i]:\n",
    "            return i-1\n",
    "\n",
    "def reemplazoGeneralizado(data):\n",
    "    columns = [\"ELECTRODOMESTICOS\",\"ESTU_GENERO\", \"ESTU_FECHANACIMIENTO\", \"PERIODO\", \"ESTU_DEPTO_RESIDE\", \"FAMI_ESTRATOVIVIENDA\", \"FAMI_PERSONASHOGAR\", \"FAMI_CUARTOSHOGAR\", \"FAMI_EDUCACIONPADRE\", \"FAMI_EDUCACIONMADRE\", \"FAMI_TRABAJOLABORPADRE\", \"FAMI_TRABAJOLABORMADRE\", \"FAMI_NUMLIBROS\", \"FAMI_COMELECHEDERIVADOS\", \"FAMI_COMECARNEPESCADOHUEVO\", \"FAMI_COMECEREALFRUTOSLEGUMBRE\", \"ESTU_DEDICACIONLECTURADIARIA\", \"ESTU_DEDICACIONINTERNET\", \"COLE_NATURALEZA\", \"COLE_CARACTER\", \"COLE_AREA_UBICACION\", \"COLE_JORNADA\",\"ESTU_NSE_INDIVIDUAL\"]\n",
    "    for c in columns:\n",
    "        aux4 =0\n",
    "        reemplazables = []\n",
    "        if '-' in data.groupby(c).count().index:\n",
    "            reemplazables.append(data.groupby(c).get_group('-').index.values)\n",
    "        opciones = []\n",
    "        porcentajes = [0]\n",
    "        opciones.append(list(data.groupby(c).size().axes[0]))\n",
    "        aux = len(opciones[0])\n",
    "        if '-' in opciones[0]:\n",
    "            opciones[0].remove('-')\n",
    "            aux = aux-1\n",
    "            aux2 = (data.groupby(c).size()['-']/data.shape[0])/aux\n",
    "        else:\n",
    "            continue\n",
    "        for i in range(aux):\n",
    "            aux3 = porcentajes.pop()\n",
    "            porcentajes.append(aux3)\n",
    "            a= float(data.groupby(c).size()[opciones[0][i]]/data.shape[0])+aux2+aux3\n",
    "            porcentajes.append(a)\n",
    "        if len(reemplazables) > 0:   \n",
    "            for r in reemplazables[0]:\n",
    "                randNumber = random()\n",
    "                for j in range(len(opciones[0])):\n",
    "                    lugar = pertenece(randNumber, porcentajes)\n",
    "                    data.at[r, c] = opciones[0][lugar]\n",
    "                                        \n"
   ]
  },
  {
   "cell_type": "code",
   "execution_count": 3,
   "metadata": {},
   "outputs": [],
   "source": [
    "Keys = [\"ELECTRODOMESTICOS\",\"ESTU_GENERO\", \"ESTU_FECHANACIMIENTO\", \"PERIODO\", \"ESTU_DEPTO_RESIDE\", \"FAMI_ESTRATOVIVIENDA\", \"FAMI_PERSONASHOGAR\", \"FAMI_CUARTOSHOGAR\", \"FAMI_EDUCACIONPADRE\", \"FAMI_EDUCACIONMADRE\", \"FAMI_TRABAJOLABORPADRE\", \"FAMI_TRABAJOLABORMADRE\", \"FAMI_NUMLIBROS\", \"FAMI_COMELECHEDERIVADOS\", \"FAMI_COMECARNEPESCADOHUEVO\", \"FAMI_COMECEREALFRUTOSLEGUMBRE\", \"ESTU_DEDICACIONLECTURADIARIA\", \"ESTU_DEDICACIONINTERNET\", \"COLE_NATURALEZA\", \"COLE_CARACTER\", \"COLE_AREA_UBICACION\", \"COLE_JORNADA\", \"PUNT_LECTURA_CRITICA\", \"PUNT_MATEMATICAS\", \"PUNT_C_NATURALES\", \"PUNT_SOCIALES_CIUDADANAS\", \"PUNT_INGLES\", \"PUNT_GLOBAL\", \"ESTU_NSE_ESTABLECIMIENTO\", \"ESTU_INSE_INDIVIDUAL\", \"ESTU_NSE_INDIVIDUAL\"]"
   ]
  },
  {
   "cell_type": "code",
   "execution_count": 4,
   "metadata": {},
   "outputs": [
    {
     "name": "stdout",
     "output_type": "stream",
     "text": [
      "ELECTRODOMESTICOS\n",
      "ESTU_DEDICACIONLECTURADIARIA\n",
      "COLE_NATURALEZA\n"
     ]
    }
   ],
   "source": [
    "tmp = [\"ESTU_GENERO\",\"ESTU_FECHANACIMIENTO\",\"PERIODO\",\"ESTU_DEPTO_RESIDE\",\"FAMI_ESTRATOVIVIENDA\",\"FAMI_PERSONASHOGAR\",\"FAMI_CUARTOSHOGAR\",\"FAMI_EDUCACIONPADRE\",\"FAMI_EDUCACIONMADRE\",\"FAMI_TRABAJOLABORPADRE\",\"FAMI_TRABAJOLABORMADRE\",\"FAMI_TIENESERVICIOTV\",\"FAMI_TIENECOMPUTADOR\",\"FAMI_TIENEAUTOMOVIL\",\"FAMI_TIENEMOTOCICLETA\",\"FAMI_TIENECONSOLAVIDEOJUEGOS\",\"FAMI_NUMLIBROS\",\"FAMI_COMELECHEDERIVADOS\",\"FAMI_COMECARNEPESCADOHUEVO\",\"FAMI_COMECEREALFRUTOSLEGUMBRE\",\"FAMI_SITUACIONECONOMICA\",\"ESTU_DEDICACIONLECTURADIARIA \",\"ESTU_DEDICACIONINTERNET\",\"COLE_NOMBRE_ESTABLECIMIENTO\",\"COLE_NATURALEZA COLE_BILINGUE\",\"COLE_CARACTER\",\"COLE_AREA_UBICACION\",\"COLE_JORNADA\",\"PUNT_LECTURA_CRITICA\",\"PERCENTIL_LECTURA_CRITICA\",\"PUNT_MATEMATICAS\",\"PERCENTIL_MATEMATICAS\",\"PUNT_C_NATURALES\",\"PERCENTIL_C_NATURALES\",\"PUNT_SOCIALES_CIUDADANAS\",\"PERCENTIL_SOCIALES_CIUDADANAS\",\"PUNT_INGLES\",\"PERCENTIL_INGLES\",\"PUNT_GLOBAL\",\"PERCENTIL_GLOBAL\",\"ESTU_NSE_ESTABLECIMIENTO\",\"ESTU_INSE_INDIVIDUAL\",\"ESTU_NSE_INDIVIDUAL\",\n",
    "]\n",
    "\n",
    "for element in Keys:\n",
    "    if element not in tmp:\n",
    "        print(element)\n"
   ]
  },
  {
   "cell_type": "code",
   "execution_count": 5,
   "metadata": {},
   "outputs": [],
   "source": [
    "data = pd.read_csv(path, low_memory=False)"
   ]
  },
  {
   "cell_type": "code",
   "execution_count": 6,
   "metadata": {},
   "outputs": [],
   "source": [
    "reemplazoGeneralizado(data)"
   ]
  },
  {
   "cell_type": "markdown",
   "metadata": {},
   "source": [
    "## Discretizacion ESTU_INSE_INDIVIDUAL"
   ]
  },
  {
   "cell_type": "code",
   "execution_count": 107,
   "metadata": {},
   "outputs": [],
   "source": [
    "# to integer\n",
    "data['ESTU_INSE_INDIVIDUAL'] = data.apply(lambda x: round(x['ESTU_INSE_INDIVIDUAL'], 0),axis=1)"
   ]
  },
  {
   "cell_type": "code",
   "execution_count": 7,
   "metadata": {},
   "outputs": [
    {
     "data": {
      "text/html": [
       "<div>\n",
       "<style scoped>\n",
       "    .dataframe tbody tr th:only-of-type {\n",
       "        vertical-align: middle;\n",
       "    }\n",
       "\n",
       "    .dataframe tbody tr th {\n",
       "        vertical-align: top;\n",
       "    }\n",
       "\n",
       "    .dataframe thead th {\n",
       "        text-align: right;\n",
       "    }\n",
       "</style>\n",
       "<table border=\"1\" class=\"dataframe\">\n",
       "  <thead>\n",
       "    <tr style=\"text-align: right;\">\n",
       "      <th></th>\n",
       "      <th>ELECTRODOMESTICOS</th>\n",
       "      <th>ESTU_GENERO</th>\n",
       "      <th>ESTU_FECHANACIMIENTO</th>\n",
       "      <th>PERIODO</th>\n",
       "      <th>ESTU_DEPTO_RESIDE</th>\n",
       "      <th>FAMI_ESTRATOVIVIENDA</th>\n",
       "      <th>FAMI_PERSONASHOGAR</th>\n",
       "      <th>FAMI_CUARTOSHOGAR</th>\n",
       "      <th>FAMI_EDUCACIONPADRE</th>\n",
       "      <th>FAMI_EDUCACIONMADRE</th>\n",
       "      <th>...</th>\n",
       "      <th>COLE_JORNADA</th>\n",
       "      <th>PUNT_LECTURA_CRITICA</th>\n",
       "      <th>PUNT_MATEMATICAS</th>\n",
       "      <th>PUNT_C_NATURALES</th>\n",
       "      <th>PUNT_SOCIALES_CIUDADANAS</th>\n",
       "      <th>PUNT_INGLES</th>\n",
       "      <th>PUNT_GLOBAL</th>\n",
       "      <th>ESTU_NSE_ESTABLECIMIENTO</th>\n",
       "      <th>ESTU_INSE_INDIVIDUAL</th>\n",
       "      <th>ESTU_NSE_INDIVIDUAL</th>\n",
       "    </tr>\n",
       "  </thead>\n",
       "  <tbody>\n",
       "    <tr>\n",
       "      <th>0</th>\n",
       "      <td>10010</td>\n",
       "      <td>M</td>\n",
       "      <td>16</td>\n",
       "      <td>20182</td>\n",
       "      <td>ATLANTICO</td>\n",
       "      <td>Estrato 2</td>\n",
       "      <td>7 a 8</td>\n",
       "      <td>Cuatro</td>\n",
       "      <td>No sabe</td>\n",
       "      <td>No sabe</td>\n",
       "      <td>...</td>\n",
       "      <td>MAÑANA</td>\n",
       "      <td>63</td>\n",
       "      <td>69</td>\n",
       "      <td>54</td>\n",
       "      <td>57</td>\n",
       "      <td>65.0</td>\n",
       "      <td>305</td>\n",
       "      <td>2.0</td>\n",
       "      <td>53.169929</td>\n",
       "      <td>NSE3</td>\n",
       "    </tr>\n",
       "    <tr>\n",
       "      <th>1</th>\n",
       "      <td>10010</td>\n",
       "      <td>M</td>\n",
       "      <td>17</td>\n",
       "      <td>20182</td>\n",
       "      <td>CORDOBA</td>\n",
       "      <td>Estrato 1</td>\n",
       "      <td>5 a 6</td>\n",
       "      <td>Dos</td>\n",
       "      <td>Secundaria (Bachillerato) completa</td>\n",
       "      <td>Primaria completa</td>\n",
       "      <td>...</td>\n",
       "      <td>UNICA</td>\n",
       "      <td>54</td>\n",
       "      <td>50</td>\n",
       "      <td>50</td>\n",
       "      <td>40</td>\n",
       "      <td>48.0</td>\n",
       "      <td>242</td>\n",
       "      <td>2.0</td>\n",
       "      <td>45.062853</td>\n",
       "      <td>NSE2</td>\n",
       "    </tr>\n",
       "    <tr>\n",
       "      <th>2</th>\n",
       "      <td>0</td>\n",
       "      <td>M</td>\n",
       "      <td>16</td>\n",
       "      <td>20182</td>\n",
       "      <td>VALLE</td>\n",
       "      <td>Estrato 2</td>\n",
       "      <td>1 a 2</td>\n",
       "      <td>Dos</td>\n",
       "      <td>No sabe</td>\n",
       "      <td>Técnica o tecnológica incompleta</td>\n",
       "      <td>...</td>\n",
       "      <td>MAÑANA</td>\n",
       "      <td>59</td>\n",
       "      <td>43</td>\n",
       "      <td>46</td>\n",
       "      <td>45</td>\n",
       "      <td>47.0</td>\n",
       "      <td>241</td>\n",
       "      <td>2.0</td>\n",
       "      <td>44.806936</td>\n",
       "      <td>NSE2</td>\n",
       "    </tr>\n",
       "    <tr>\n",
       "      <th>3</th>\n",
       "      <td>11101</td>\n",
       "      <td>M</td>\n",
       "      <td>17</td>\n",
       "      <td>20182</td>\n",
       "      <td>BOYACA</td>\n",
       "      <td>Estrato 3</td>\n",
       "      <td>3 a 4</td>\n",
       "      <td>Tres</td>\n",
       "      <td>No sabe</td>\n",
       "      <td>Educación profesional completa</td>\n",
       "      <td>...</td>\n",
       "      <td>MAÑANA</td>\n",
       "      <td>61</td>\n",
       "      <td>60</td>\n",
       "      <td>60</td>\n",
       "      <td>67</td>\n",
       "      <td>63.0</td>\n",
       "      <td>310</td>\n",
       "      <td>3.0</td>\n",
       "      <td>73.630225</td>\n",
       "      <td>NSE4</td>\n",
       "    </tr>\n",
       "    <tr>\n",
       "      <th>4</th>\n",
       "      <td>10000</td>\n",
       "      <td>M</td>\n",
       "      <td>19</td>\n",
       "      <td>20182</td>\n",
       "      <td>BOGOTA</td>\n",
       "      <td>Estrato 2</td>\n",
       "      <td>7 a 8</td>\n",
       "      <td>Tres</td>\n",
       "      <td>No sabe</td>\n",
       "      <td>No sabe</td>\n",
       "      <td>...</td>\n",
       "      <td>COMPLETA</td>\n",
       "      <td>56</td>\n",
       "      <td>51</td>\n",
       "      <td>48</td>\n",
       "      <td>49</td>\n",
       "      <td>56.0</td>\n",
       "      <td>257</td>\n",
       "      <td>3.0</td>\n",
       "      <td>49.391007</td>\n",
       "      <td>NSE2</td>\n",
       "    </tr>\n",
       "  </tbody>\n",
       "</table>\n",
       "<p>5 rows × 31 columns</p>\n",
       "</div>"
      ],
      "text/plain": [
       "   ELECTRODOMESTICOS ESTU_GENERO  ESTU_FECHANACIMIENTO  PERIODO  \\\n",
       "0              10010           M                    16    20182   \n",
       "1              10010           M                    17    20182   \n",
       "2                  0           M                    16    20182   \n",
       "3              11101           M                    17    20182   \n",
       "4              10000           M                    19    20182   \n",
       "\n",
       "  ESTU_DEPTO_RESIDE FAMI_ESTRATOVIVIENDA FAMI_PERSONASHOGAR FAMI_CUARTOSHOGAR  \\\n",
       "0         ATLANTICO            Estrato 2              7 a 8            Cuatro   \n",
       "1           CORDOBA            Estrato 1              5 a 6               Dos   \n",
       "2             VALLE            Estrato 2              1 a 2               Dos   \n",
       "3            BOYACA            Estrato 3              3 a 4              Tres   \n",
       "4            BOGOTA            Estrato 2              7 a 8              Tres   \n",
       "\n",
       "                  FAMI_EDUCACIONPADRE               FAMI_EDUCACIONMADRE  ...  \\\n",
       "0                             No sabe                           No sabe  ...   \n",
       "1  Secundaria (Bachillerato) completa                 Primaria completa  ...   \n",
       "2                             No sabe  Técnica o tecnológica incompleta  ...   \n",
       "3                             No sabe    Educación profesional completa  ...   \n",
       "4                             No sabe                           No sabe  ...   \n",
       "\n",
       "  COLE_JORNADA PUNT_LECTURA_CRITICA PUNT_MATEMATICAS PUNT_C_NATURALES  \\\n",
       "0       MAÑANA                   63               69               54   \n",
       "1        UNICA                   54               50               50   \n",
       "2       MAÑANA                   59               43               46   \n",
       "3       MAÑANA                   61               60               60   \n",
       "4     COMPLETA                   56               51               48   \n",
       "\n",
       "  PUNT_SOCIALES_CIUDADANAS PUNT_INGLES PUNT_GLOBAL ESTU_NSE_ESTABLECIMIENTO  \\\n",
       "0                       57        65.0         305                      2.0   \n",
       "1                       40        48.0         242                      2.0   \n",
       "2                       45        47.0         241                      2.0   \n",
       "3                       67        63.0         310                      3.0   \n",
       "4                       49        56.0         257                      3.0   \n",
       "\n",
       "  ESTU_INSE_INDIVIDUAL ESTU_NSE_INDIVIDUAL  \n",
       "0            53.169929                NSE3  \n",
       "1            45.062853                NSE2  \n",
       "2            44.806936                NSE2  \n",
       "3            73.630225                NSE4  \n",
       "4            49.391007                NSE2  \n",
       "\n",
       "[5 rows x 31 columns]"
      ]
     },
     "execution_count": 7,
     "metadata": {},
     "output_type": "execute_result"
    }
   ],
   "source": [
    "data.head()"
   ]
  },
  {
   "cell_type": "code",
   "execution_count": 8,
   "metadata": {
    "scrolled": false
   },
   "outputs": [
    {
     "data": {
      "text/plain": [
       "ELECTRODOMESTICOS                                                       10010\n",
       "ESTU_GENERO                                                                 M\n",
       "ESTU_FECHANACIMIENTO                                                       16\n",
       "PERIODO                                                                 20182\n",
       "ESTU_DEPTO_RESIDE                                                   ATLANTICO\n",
       "FAMI_ESTRATOVIVIENDA                                                Estrato 2\n",
       "FAMI_PERSONASHOGAR                                                      7 a 8\n",
       "FAMI_CUARTOSHOGAR                                                      Cuatro\n",
       "FAMI_EDUCACIONPADRE                                                   No sabe\n",
       "FAMI_EDUCACIONMADRE                                                   No sabe\n",
       "FAMI_TRABAJOLABORPADRE           Es vendedor o trabaja en atención al público\n",
       "FAMI_TRABAJOLABORMADRE           Es vendedor o trabaja en atención al público\n",
       "FAMI_NUMLIBROS                                                26 A 100 LIBROS\n",
       "FAMI_COMELECHEDERIVADOS                           Todos o casi todos los días\n",
       "FAMI_COMECARNEPESCADOHUEVO                        Todos o casi todos los días\n",
       "FAMI_COMECEREALFRUTOSLEGUMBRE                          1 o 2 veces por semana\n",
       "ESTU_DEDICACIONLECTURADIARIA                               30 minutos o menos\n",
       "ESTU_DEDICACIONINTERNET                                        Más de 3 horas\n",
       "COLE_NATURALEZA                                                       OFICIAL\n",
       "COLE_CARACTER                                                       ACADÉMICO\n",
       "COLE_AREA_UBICACION                                                    URBANO\n",
       "COLE_JORNADA                                                           MAÑANA\n",
       "PUNT_LECTURA_CRITICA                                                       63\n",
       "PUNT_MATEMATICAS                                                           69\n",
       "PUNT_C_NATURALES                                                           54\n",
       "PUNT_SOCIALES_CIUDADANAS                                                   57\n",
       "PUNT_INGLES                                                                65\n",
       "PUNT_GLOBAL                                                               305\n",
       "ESTU_NSE_ESTABLECIMIENTO                                                    2\n",
       "ESTU_INSE_INDIVIDUAL                                                  53.1699\n",
       "ESTU_NSE_INDIVIDUAL                                                      NSE3\n",
       "Name: 0, dtype: object"
      ]
     },
     "execution_count": 8,
     "metadata": {},
     "output_type": "execute_result"
    }
   ],
   "source": [
    "data.iloc[0]"
   ]
  },
  {
   "cell_type": "code",
   "execution_count": null,
   "metadata": {},
   "outputs": [],
   "source": []
  },
  {
   "cell_type": "code",
   "execution_count": 9,
   "metadata": {},
   "outputs": [
    {
     "data": {
      "text/plain": [
       "ESTU_NSE_INDIVIDUAL\n",
       "NSE1    164551\n",
       "NSE2    394459\n",
       "NSE3    375077\n",
       "NSE4     81232\n",
       "dtype: int64"
      ]
     },
     "execution_count": 9,
     "metadata": {},
     "output_type": "execute_result"
    }
   ],
   "source": [
    "data.groupby(\"ESTU_NSE_INDIVIDUAL\").size()  "
   ]
  },
  {
   "cell_type": "code",
   "execution_count": 10,
   "metadata": {},
   "outputs": [
    {
     "data": {
      "text/plain": [
       "pandas.core.series.Series"
      ]
     },
     "execution_count": 10,
     "metadata": {},
     "output_type": "execute_result"
    }
   ],
   "source": [
    "type(data.groupby(\"FAMI_NUMLIBROS\").size())"
   ]
  },
  {
   "cell_type": "code",
   "execution_count": 12,
   "metadata": {},
   "outputs": [],
   "source": [
    "#data.groupby(\"ESTU_GENERO\").get_group('-').index.values"
   ]
  },
  {
   "cell_type": "code",
   "execution_count": 14,
   "metadata": {},
   "outputs": [
    {
     "data": {
      "text/plain": [
       "FAMI_TRABAJOLABORMADRE\n",
       "Es agricultor, pesquero o jornalero                                                                      28818\n",
       "Es dueño de un negocio grande, tiene un cargo de nivel directivo o gerencial                             15211\n",
       "Es dueño de un negocio pequeño (tiene pocos empleados o no tiene, por ejemplo tienda, papelería, etc     87618\n",
       "Es operario de máquinas o conduce vehículos (taxita, chofer)                                             16755\n",
       "Es vendedor o trabaja en atención al público                                                             78918\n",
       "No aplica                                                                                                48302\n",
       "No sabe                                                                                                  25125\n",
       "Pensionado                                                                                                6710\n",
       "Tiene un trabajo de tipo auxiliar administrativo (por ejemplo, secretario o asistente)                   86703\n",
       "Trabaja como personal de limpieza, mantenimiento, seguridad o construcción                               88479\n",
       "Trabaja como profesional (por ejemplo médico, abogado, ingeniero)                                        78999\n",
       "Trabaja en el hogar, no trabaja o estudia                                                               422844\n",
       "Trabaja por cuenta propia (por ejemplo plomero, electricista)                                            30837\n",
       "dtype: int64"
      ]
     },
     "execution_count": 14,
     "metadata": {},
     "output_type": "execute_result"
    }
   ],
   "source": [
    "data.groupby(\"FAMI_TRABAJOLABORMADRE\").size() "
   ]
  },
  {
   "cell_type": "code",
   "execution_count": 15,
   "metadata": {},
   "outputs": [
    {
     "data": {
      "text/plain": [
       "FAMI_EDUCACIONMADRE\n",
       "Educación profesional completa          104941\n",
       "Educación profesional incompleta         24842\n",
       "Ninguno                                  21258\n",
       "No Aplica                                 1802\n",
       "No sabe                                  17679\n",
       "Postgrado                                21283\n",
       "Primaria completa                       112588\n",
       "Primaria incompleta                     158068\n",
       "Secundaria (Bachillerato) completa      261750\n",
       "Secundaria (Bachillerato) incompleta    157364\n",
       "Técnica o tecnológica completa          102512\n",
       "Técnica o tecnológica incompleta         31232\n",
       "dtype: int64"
      ]
     },
     "execution_count": 15,
     "metadata": {},
     "output_type": "execute_result"
    }
   ],
   "source": [
    "data.groupby(\"FAMI_EDUCACIONMADRE\").size()"
   ]
  },
  {
   "cell_type": "code",
   "execution_count": 16,
   "metadata": {},
   "outputs": [
    {
     "data": {
      "text/plain": [
       "FAMI_EDUCACIONPADRE\n",
       "Educación profesional completa           92498\n",
       "Educación profesional incompleta         20238\n",
       "Ninguno                                  34496\n",
       "No Aplica                                10236\n",
       "No sabe                                  62911\n",
       "Postgrado                                18637\n",
       "Primaria completa                       111526\n",
       "Primaria incompleta                     201065\n",
       "Secundaria (Bachillerato) completa      226130\n",
       "Secundaria (Bachillerato) incompleta    146656\n",
       "Técnica o tecnológica completa           69813\n",
       "Técnica o tecnológica incompleta         21113\n",
       "dtype: int64"
      ]
     },
     "execution_count": 16,
     "metadata": {},
     "output_type": "execute_result"
    }
   ],
   "source": [
    "data.groupby(\"FAMI_EDUCACIONPADRE\").size()"
   ]
  },
  {
   "cell_type": "code",
   "execution_count": 17,
   "metadata": {},
   "outputs": [
    {
     "data": {
      "text/plain": [
       "FAMI_CUARTOSHOGAR\n",
       "Cinco          40978\n",
       "Cuatro        134543\n",
       "Dos           365413\n",
       "Seis o mas     21844\n",
       "Tres          399652\n",
       "Uno            52889\n",
       "dtype: int64"
      ]
     },
     "execution_count": 17,
     "metadata": {},
     "output_type": "execute_result"
    }
   ],
   "source": [
    "data.groupby(\"FAMI_CUARTOSHOGAR\").size()"
   ]
  },
  {
   "cell_type": "code",
   "execution_count": 18,
   "metadata": {},
   "outputs": [
    {
     "data": {
      "text/plain": [
       "FAMI_PERSONASHOGAR\n",
       "1 a 2       73752\n",
       "3 a 4      485190\n",
       "5 a 6      332268\n",
       "7 a 8       88592\n",
       "9 o más     35517\n",
       "dtype: int64"
      ]
     },
     "execution_count": 18,
     "metadata": {},
     "output_type": "execute_result"
    }
   ],
   "source": [
    "data.groupby(\"FAMI_PERSONASHOGAR\").size()"
   ]
  },
  {
   "cell_type": "markdown",
   "metadata": {},
   "source": [
    "## Histogramas"
   ]
  },
  {
   "cell_type": "code",
   "execution_count": 19,
   "metadata": {},
   "outputs": [
    {
     "data": {
      "text/plain": [
       "COLE_JORNADA\n",
       "COMPLETA    184979\n",
       "MAÑANA      523472\n",
       "NOCHE        48127\n",
       "SABATINA     53347\n",
       "TARDE       132572\n",
       "UNICA        72822\n",
       "dtype: int64"
      ]
     },
     "execution_count": 19,
     "metadata": {},
     "output_type": "execute_result"
    }
   ],
   "source": [
    "data.groupby(\"COLE_JORNADA\").size()"
   ]
  },
  {
   "cell_type": "code",
   "execution_count": 20,
   "metadata": {},
   "outputs": [
    {
     "data": {
      "text/plain": [
       "FAMI_ESTRATOVIVIENDA\n",
       "Estrato 1      33.231132\n",
       "Estrato 2      36.629473\n",
       "Estrato 3      20.492180\n",
       "Estrato 4       4.705221\n",
       "Estrato 5       1.550843\n",
       "Estrato 6       0.745086\n",
       "Sin Estrato     2.646065\n",
       "dtype: float64"
      ]
     },
     "execution_count": 20,
     "metadata": {},
     "output_type": "execute_result"
    }
   ],
   "source": [
    "data.groupby(\"FAMI_ESTRATOVIVIENDA\").size()/data.shape[0] * 100"
   ]
  },
  {
   "cell_type": "code",
   "execution_count": 21,
   "metadata": {},
   "outputs": [
    {
     "data": {
      "text/plain": [
       "<matplotlib.axes._subplots.AxesSubplot at 0x1e087822b38>"
      ]
     },
     "execution_count": 21,
     "metadata": {},
     "output_type": "execute_result"
    },
    {
     "data": {
      "image/png": "[encoded data removed]",
      "text/plain": [
       "<Figure size 432x288 with 1 Axes>"
      ]
     },
     "metadata": {
      "needs_background": "light"
     },
     "output_type": "display_data"
    }
   ],
   "source": [
    "data['FAMI_ESTRATOVIVIENDA'].value_counts().plot(kind='bar')"
   ]
  },
  {
   "cell_type": "code",
   "execution_count": 22,
   "metadata": {},
   "outputs": [
    {
     "data": {
      "text/plain": [
       "ESTU_FECHANACIMIENTO\n",
       "14      1376\n",
       "15     37302\n",
       "16    373165\n",
       "17    336231\n",
       "18    167616\n",
       "19     63029\n",
       "20     21248\n",
       "21      9541\n",
       "22      5811\n",
       "dtype: int64"
      ]
     },
     "execution_count": 22,
     "metadata": {},
     "output_type": "execute_result"
    }
   ],
   "source": [
    "data.groupby(\"ESTU_FECHANACIMIENTO\").size()"
   ]
  },
  {
   "cell_type": "code",
   "execution_count": 23,
   "metadata": {},
   "outputs": [
    {
     "name": "stdout",
     "output_type": "stream",
     "text": [
      "<class 'matplotlib.axes._subplots.AxesSubplot'>\n"
     ]
    },
    {
     "data": {
      "image/png": "[encoded data removed]",
      "text/plain": [
       "<Figure size 432x288 with 1 Axes>"
      ]
     },
     "metadata": {
      "needs_background": "light"
     },
     "output_type": "display_data"
    }
   ],
   "source": [
    "hist = data[\"ESTU_FECHANACIMIENTO\"].hist()\n",
    "hist.set_xlabel(\"Edad\")\n",
    "print(type(hist))"
   ]
  },
  {
   "cell_type": "code",
   "execution_count": 24,
   "metadata": {},
   "outputs": [
    {
     "data": {
      "text/plain": [
       "<matplotlib.axes._subplots.AxesSubplot at 0x1e08792c3c8>"
      ]
     },
     "execution_count": 24,
     "metadata": {},
     "output_type": "execute_result"
    },
    {
     "data": {
      "image/png": "[encoded data removed]",
      "text/plain": [
       "<Figure size 432x288 with 1 Axes>"
      ]
     },
     "metadata": {
      "needs_background": "light"
     },
     "output_type": "display_data"
    }
   ],
   "source": [
    "data['ESTU_GENERO'].value_counts().plot(kind='bar')"
   ]
  },
  {
   "cell_type": "code",
   "execution_count": 25,
   "metadata": {},
   "outputs": [
    {
     "name": "stdout",
     "output_type": "stream",
     "text": [
      "min 12.53886749\n",
      "max 84.83636609\n"
     ]
    }
   ],
   "source": [
    "#data.groupby(\"ESTU_INSE_INDIVIDUAL\").size()\n",
    "print(\"min\",data[\"ESTU_INSE_INDIVIDUAL\"].min())\n",
    "print(\"max\",data[\"ESTU_INSE_INDIVIDUAL\"].max())\n"
   ]
  },
  {
   "cell_type": "code",
   "execution_count": 26,
   "metadata": {},
   "outputs": [
    {
     "data": {
      "text/plain": [
       "<matplotlib.axes._subplots.AxesSubplot at 0x1e087a56400>"
      ]
     },
     "execution_count": 26,
     "metadata": {},
     "output_type": "execute_result"
    },
    {
     "data": {
      "image/png": "[encoded data removed]",
      "text/plain": [
       "<Figure size 432x288 with 1 Axes>"
      ]
     },
     "metadata": {
      "needs_background": "light"
     },
     "output_type": "display_data"
    }
   ],
   "source": [
    "data['ESTU_INSE_INDIVIDUAL'].hist(bins = 100)"
   ]
  },
  {
   "cell_type": "code",
   "execution_count": 27,
   "metadata": {},
   "outputs": [
    {
     "data": {
      "text/plain": [
       "<matplotlib.axes._subplots.AxesSubplot at 0x1e087bcc9e8>"
      ]
     },
     "execution_count": 27,
     "metadata": {},
     "output_type": "execute_result"
    },
    {
     "data": {
      "image/png": "[encoded data removed]",
      "text/plain": [
       "<Figure size 432x288 with 1 Axes>"
      ]
     },
     "metadata": {
      "needs_background": "light"
     },
     "output_type": "display_data"
    }
   ],
   "source": [
    "data[\"ESTU_NSE_INDIVIDUAL\"].value_counts().plot(kind ='bar')"
   ]
  },
  {
   "cell_type": "code",
   "execution_count": 28,
   "metadata": {},
   "outputs": [
    {
     "data": {
      "text/plain": [
       "ESTU_NSE_INDIVIDUAL\n",
       "NSE1    164551\n",
       "NSE2    394459\n",
       "NSE3    375077\n",
       "NSE4     81232\n",
       "dtype: int64"
      ]
     },
     "execution_count": 28,
     "metadata": {},
     "output_type": "execute_result"
    }
   ],
   "source": [
    "data.groupby(\"ESTU_NSE_INDIVIDUAL\").size()"
   ]
  },
  {
   "cell_type": "code",
   "execution_count": 29,
   "metadata": {},
   "outputs": [
    {
     "name": "stdout",
     "output_type": "stream",
     "text": [
      "72076\n",
      "545146\n",
      "351248\n",
      "45744\n"
     ]
    }
   ],
   "source": [
    "n = len(data.groupby(\"ESTU_NSE_ESTABLECIMIENTO\").size())\n",
    "for i in range(1,n+1):\n",
    "    print(data.groupby(\"ESTU_NSE_ESTABLECIMIENTO\").size()[i])"
   ]
  },
  {
   "cell_type": "code",
   "execution_count": 30,
   "metadata": {},
   "outputs": [
    {
     "data": {
      "text/plain": [
       "<matplotlib.axes._subplots.AxesSubplot at 0x1e087c32a20>"
      ]
     },
     "execution_count": 30,
     "metadata": {},
     "output_type": "execute_result"
    },
    {
     "data": {
      "image/png": "[encoded data removed]",
      "text/plain": [
       "<Figure size 432x288 with 1 Axes>"
      ]
     },
     "metadata": {
      "needs_background": "light"
     },
     "output_type": "display_data"
    }
   ],
   "source": [
    "data[\"PUNT_GLOBAL\"].hist(bins = 100)"
   ]
  },
  {
   "cell_type": "code",
   "execution_count": 31,
   "metadata": {},
   "outputs": [
    {
     "data": {
      "text/plain": [
       "<matplotlib.axes._subplots.AxesSubplot at 0x1e087db1a58>"
      ]
     },
     "execution_count": 31,
     "metadata": {},
     "output_type": "execute_result"
    },
    {
     "data": {
      "image/png": "[encoded data removed]",
      "text/plain": [
       "<Figure size 432x288 with 1 Axes>"
      ]
     },
     "metadata": {
      "needs_background": "light"
     },
     "output_type": "display_data"
    }
   ],
   "source": [
    "data[\"PUNT_INGLES\"].hist(bins = 100)"
   ]
  },
  {
   "cell_type": "code",
   "execution_count": 32,
   "metadata": {},
   "outputs": [
    {
     "data": {
      "text/plain": [
       "<matplotlib.axes._subplots.AxesSubplot at 0x1e087efe358>"
      ]
     },
     "execution_count": 32,
     "metadata": {},
     "output_type": "execute_result"
    },
    {
     "data": {
      "image/png": "[encoded data removed]",
      "text/plain": [
       "<Figure size 432x288 with 1 Axes>"
      ]
     },
     "metadata": {
      "needs_background": "light"
     },
     "output_type": "display_data"
    }
   ],
   "source": [
    "data[\"PUNT_SOCIALES_CIUDADANAS\"].hist(bins = 100)"
   ]
  },
  {
   "cell_type": "code",
   "execution_count": 33,
   "metadata": {},
   "outputs": [
    {
     "data": {
      "text/plain": [
       "<matplotlib.axes._subplots.AxesSubplot at 0x1e087f8c908>"
      ]
     },
     "execution_count": 33,
     "metadata": {},
     "output_type": "execute_result"
    },
    {
     "data": {
      "image/png": "[encoded data removed]",
      "text/plain": [
       "<Figure size 432x288 with 1 Axes>"
      ]
     },
     "metadata": {
      "needs_background": "light"
     },
     "output_type": "display_data"
    }
   ],
   "source": [
    "data[\"PUNT_C_NATURALES\"].hist(bins = 100)"
   ]
  },
  {
   "cell_type": "code",
   "execution_count": 34,
   "metadata": {},
   "outputs": [
    {
     "data": {
      "text/plain": [
       "<matplotlib.axes._subplots.AxesSubplot at 0x1e08991bcc0>"
      ]
     },
     "execution_count": 34,
     "metadata": {},
     "output_type": "execute_result"
    },
    {
     "data": {
      "image/png": "[encoded data removed]",
      "text/plain": [
       "<Figure size 432x288 with 1 Axes>"
      ]
     },
     "metadata": {
      "needs_background": "light"
     },
     "output_type": "display_data"
    }
   ],
   "source": [
    "data[\"PERIODO\"].value_counts().plot(kind ='bar')"
   ]
  },
  {
   "cell_type": "code",
   "execution_count": 35,
   "metadata": {},
   "outputs": [
    {
     "data": {
      "text/plain": [
       "<matplotlib.axes._subplots.AxesSubplot at 0x1e089979e10>"
      ]
     },
     "execution_count": 35,
     "metadata": {},
     "output_type": "execute_result"
    },
    {
     "data": {
      "image/png": "[encoded data removed]",
      "text/plain": [
       "<Figure size 432x288 with 1 Axes>"
      ]
     },
     "metadata": {
      "needs_background": "light"
     },
     "output_type": "display_data"
    }
   ],
   "source": [
    "data[\"ESTU_DEPTO_RESIDE\"].value_counts().plot(kind ='bar')"
   ]
  },
  {
   "cell_type": "code",
   "execution_count": 36,
   "metadata": {},
   "outputs": [
    {
     "data": {
      "text/plain": [
       "<matplotlib.axes._subplots.AxesSubplot at 0x1e089a84d30>"
      ]
     },
     "execution_count": 36,
     "metadata": {},
     "output_type": "execute_result"
    },
    {
     "data": {
      "image/png": "[encoded data removed]",
      "text/plain": [
       "<Figure size 432x288 with 1 Axes>"
      ]
     },
     "metadata": {
      "needs_background": "light"
     },
     "output_type": "display_data"
    }
   ],
   "source": [
    "data[\"FAMI_PERSONASHOGAR\"].value_counts().plot(kind ='bar')"
   ]
  },
  {
   "cell_type": "code",
   "execution_count": 37,
   "metadata": {},
   "outputs": [
    {
     "data": {
      "text/plain": [
       "<matplotlib.axes._subplots.AxesSubplot at 0x1e089ae64e0>"
      ]
     },
     "execution_count": 37,
     "metadata": {},
     "output_type": "execute_result"
    },
    {
     "data": {
      "image/png": "[encoded data removed]",
      "text/plain": [
       "<Figure size 432x288 with 1 Axes>"
      ]
     },
     "metadata": {
      "needs_background": "light"
     },
     "output_type": "display_data"
    }
   ],
   "source": [
    "data[\"FAMI_CUARTOSHOGAR\"].value_counts().plot(kind ='bar')"
   ]
  },
  {
   "cell_type": "code",
   "execution_count": 38,
   "metadata": {},
   "outputs": [
    {
     "data": {
      "text/plain": [
       "<matplotlib.axes._subplots.AxesSubplot at 0x1e089b45c88>"
      ]
     },
     "execution_count": 38,
     "metadata": {},
     "output_type": "execute_result"
    },
    {
     "data": {
      "image/png": "[encoded data removed]",
      "text/plain": [
       "<Figure size 432x288 with 1 Axes>"
      ]
     },
     "metadata": {
      "needs_background": "light"
     },
     "output_type": "display_data"
    }
   ],
   "source": [
    "data[\"FAMI_EDUCACIONPADRE\"].value_counts().plot(kind ='bar')"
   ]
  },
  {
   "cell_type": "code",
   "execution_count": 39,
   "metadata": {},
   "outputs": [
    {
     "data": {
      "text/plain": [
       "<matplotlib.axes._subplots.AxesSubplot at 0x1e089bddba8>"
      ]
     },
     "execution_count": 39,
     "metadata": {},
     "output_type": "execute_result"
    },
    {
     "data": {
      "image/png": "[encoded data removed]",
      "text/plain": [
       "<Figure size 432x288 with 1 Axes>"
      ]
     },
     "metadata": {
      "needs_background": "light"
     },
     "output_type": "display_data"
    }
   ],
   "source": [
    "data[\"FAMI_EDUCACIONMADRE\"].value_counts().plot(kind ='bar')"
   ]
  },
  {
   "cell_type": "code",
   "execution_count": 40,
   "metadata": {},
   "outputs": [
    {
     "data": {
      "text/plain": [
       "<matplotlib.axes._subplots.AxesSubplot at 0x1e089c6b550>"
      ]
     },
     "execution_count": 40,
     "metadata": {},
     "output_type": "execute_result"
    },
    {
     "data": {
      "image/png": "[encoded data removed]",
      "text/plain": [
       "<Figure size 432x288 with 1 Axes>"
      ]
     },
     "metadata": {
      "needs_background": "light"
     },
     "output_type": "display_data"
    }
   ],
   "source": [
    "data[\"FAMI_TRABAJOLABORPADRE\"].value_counts().plot(kind ='bar')\n"
   ]
  },
  {
   "cell_type": "code",
   "execution_count": 41,
   "metadata": {},
   "outputs": [
    {
     "data": {
      "text/plain": [
       "<matplotlib.axes._subplots.AxesSubplot at 0x1e089cf5fd0>"
      ]
     },
     "execution_count": 41,
     "metadata": {},
     "output_type": "execute_result"
    },
    {
     "data": {
      "image/png": "[encoded data removed]",
      "text/plain": [
       "<Figure size 432x288 with 1 Axes>"
      ]
     },
     "metadata": {
      "needs_background": "light"
     },
     "output_type": "display_data"
    }
   ],
   "source": [
    "data[\"FAMI_TRABAJOLABORMADRE\"].value_counts().plot(kind ='bar')"
   ]
  },
  {
   "cell_type": "code",
   "execution_count": 42,
   "metadata": {},
   "outputs": [
    {
     "data": {
      "text/plain": [
       "<matplotlib.axes._subplots.AxesSubplot at 0x1e089ec0b38>"
      ]
     },
     "execution_count": 42,
     "metadata": {},
     "output_type": "execute_result"
    },
    {
     "data": {
      "image/png": "[encoded data removed]",
      "text/plain": [
       "<Figure size 432x288 with 1 Axes>"
      ]
     },
     "metadata": {
      "needs_background": "light"
     },
     "output_type": "display_data"
    }
   ],
   "source": [
    "data[\"FAMI_NUMLIBROS\"].value_counts().plot(kind ='bar')"
   ]
  },
  {
   "cell_type": "code",
   "execution_count": 43,
   "metadata": {},
   "outputs": [
    {
     "data": {
      "text/plain": [
       "<matplotlib.axes._subplots.AxesSubplot at 0x1e08a077208>"
      ]
     },
     "execution_count": 43,
     "metadata": {},
     "output_type": "execute_result"
    },
    {
     "data": {
      "image/png": "[encoded data removed]",
      "text/plain": [
       "<Figure size 432x288 with 1 Axes>"
      ]
     },
     "metadata": {
      "needs_background": "light"
     },
     "output_type": "display_data"
    }
   ],
   "source": [
    "data[\"FAMI_COMELECHEDERIVADOS\"].value_counts().plot(kind ='bar')"
   ]
  },
  {
   "cell_type": "code",
   "execution_count": 44,
   "metadata": {},
   "outputs": [
    {
     "data": {
      "text/plain": [
       "<matplotlib.axes._subplots.AxesSubplot at 0x1e08a077518>"
      ]
     },
     "execution_count": 44,
     "metadata": {},
     "output_type": "execute_result"
    },
    {
     "data": {
      "image/png": "[encoded data removed]",
      "text/plain": [
       "<Figure size 432x288 with 1 Axes>"
      ]
     },
     "metadata": {
      "needs_background": "light"
     },
     "output_type": "display_data"
    }
   ],
   "source": [
    "data[\"FAMI_COMECARNEPESCADOHUEVO\"].value_counts().plot(kind ='bar')"
   ]
  },
  {
   "cell_type": "code",
   "execution_count": 45,
   "metadata": {},
   "outputs": [
    {
     "data": {
      "text/plain": [
       "<matplotlib.axes._subplots.AxesSubplot at 0x1e08a2768d0>"
      ]
     },
     "execution_count": 45,
     "metadata": {},
     "output_type": "execute_result"
    },
    {
     "data": {
      "image/png": "[encoded data removed]",
      "text/plain": [
       "<Figure size 432x288 with 1 Axes>"
      ]
     },
     "metadata": {
      "needs_background": "light"
     },
     "output_type": "display_data"
    }
   ],
   "source": [
    "data[\"FAMI_COMECEREALFRUTOSLEGUMBRE\"].value_counts().plot(kind ='bar')"
   ]
  },
  {
   "cell_type": "code",
   "execution_count": 46,
   "metadata": {},
   "outputs": [
    {
     "data": {
      "text/plain": [
       "<matplotlib.axes._subplots.AxesSubplot at 0x1e08a2cffd0>"
      ]
     },
     "execution_count": 46,
     "metadata": {},
     "output_type": "execute_result"
    },
    {
     "data": {
      "image/png": "[encoded data removed]",
      "text/plain": [
       "<Figure size 432x288 with 1 Axes>"
      ]
     },
     "metadata": {
      "needs_background": "light"
     },
     "output_type": "display_data"
    }
   ],
   "source": [
    "data[\"ESTU_DEDICACIONLECTURADIARIA\"].value_counts().plot(kind ='bar')"
   ]
  },
  {
   "cell_type": "code",
   "execution_count": 47,
   "metadata": {},
   "outputs": [
    {
     "data": {
      "text/plain": [
       "<matplotlib.axes._subplots.AxesSubplot at 0x1e08a347320>"
      ]
     },
     "execution_count": 47,
     "metadata": {},
     "output_type": "execute_result"
    },
    {
     "data": {
      "image/png": "[encoded data removed]",
      "text/plain": [
       "<Figure size 432x288 with 1 Axes>"
      ]
     },
     "metadata": {
      "needs_background": "light"
     },
     "output_type": "display_data"
    }
   ],
   "source": [
    "data[\"ESTU_DEDICACIONINTERNET\"].value_counts().plot(kind ='bar')"
   ]
  },
  {
   "cell_type": "code",
   "execution_count": 48,
   "metadata": {},
   "outputs": [
    {
     "data": {
      "text/plain": [
       "<matplotlib.axes._subplots.AxesSubplot at 0x1e08b363208>"
      ]
     },
     "execution_count": 48,
     "metadata": {},
     "output_type": "execute_result"
    },
    {
     "data": {
      "image/png": "[encoded data removed]",
      "text/plain": [
       "<Figure size 432x288 with 1 Axes>"
      ]
     },
     "metadata": {
      "needs_background": "light"
     },
     "output_type": "display_data"
    }
   ],
   "source": [
    "data[\"COLE_NATURALEZA\"].value_counts().plot(kind ='bar')"
   ]
  },
  {
   "cell_type": "code",
   "execution_count": 49,
   "metadata": {},
   "outputs": [
    {
     "data": {
      "text/plain": [
       "<matplotlib.axes._subplots.AxesSubplot at 0x1e08a337a20>"
      ]
     },
     "execution_count": 49,
     "metadata": {},
     "output_type": "execute_result"
    },
    {
     "data": {
      "image/png": "[encoded data removed]",
      "text/plain": [
       "<Figure size 432x288 with 1 Axes>"
      ]
     },
     "metadata": {
      "needs_background": "light"
     },
     "output_type": "display_data"
    }
   ],
   "source": [
    "data[\"COLE_CARACTER\"].value_counts().plot(kind ='bar')"
   ]
  },
  {
   "cell_type": "code",
   "execution_count": 50,
   "metadata": {},
   "outputs": [
    {
     "data": {
      "text/plain": [
       "<matplotlib.axes._subplots.AxesSubplot at 0x1e08b41e2b0>"
      ]
     },
     "execution_count": 50,
     "metadata": {},
     "output_type": "execute_result"
    },
    {
     "data": {
      "image/png": "[encoded data removed]",
      "text/plain": [
       "<Figure size 432x288 with 1 Axes>"
      ]
     },
     "metadata": {
      "needs_background": "light"
     },
     "output_type": "display_data"
    }
   ],
   "source": [
    "data[\"COLE_AREA_UBICACION\"].value_counts().plot(kind ='bar')"
   ]
  },
  {
   "cell_type": "code",
   "execution_count": 51,
   "metadata": {},
   "outputs": [
    {
     "data": {
      "text/plain": [
       "<matplotlib.axes._subplots.AxesSubplot at 0x1e08b48a5f8>"
      ]
     },
     "execution_count": 51,
     "metadata": {},
     "output_type": "execute_result"
    },
    {
     "data": {
      "image/png": "[encoded data removed]",
      "text/plain": [
       "<Figure size 432x288 with 1 Axes>"
      ]
     },
     "metadata": {
      "needs_background": "light"
     },
     "output_type": "display_data"
    }
   ],
   "source": [
    "data[\"COLE_JORNADA\"].value_counts().plot(kind ='bar')"
   ]
  },
  {
   "cell_type": "code",
   "execution_count": 52,
   "metadata": {},
   "outputs": [
    {
     "data": {
      "text/plain": [
       "<matplotlib.axes._subplots.AxesSubplot at 0x1e08b4ebf98>"
      ]
     },
     "execution_count": 52,
     "metadata": {},
     "output_type": "execute_result"
    },
    {
     "data": {
      "image/png": "[encoded data removed]",
      "text/plain": [
       "<Figure size 432x288 with 1 Axes>"
      ]
     },
     "metadata": {
      "needs_background": "light"
     },
     "output_type": "display_data"
    }
   ],
   "source": [
    "data[\"PUNT_LECTURA_CRITICA\"].hist()"
   ]
  },
  {
   "cell_type": "code",
   "execution_count": 53,
   "metadata": {},
   "outputs": [
    {
     "data": {
      "text/plain": [
       "<matplotlib.axes._subplots.AxesSubplot at 0x1e08b576978>"
      ]
     },
     "execution_count": 53,
     "metadata": {},
     "output_type": "execute_result"
    },
    {
     "data": {
      "image/png": "[encoded data removed]",
      "text/plain": [
       "<Figure size 432x288 with 1 Axes>"
      ]
     },
     "metadata": {
      "needs_background": "light"
     },
     "output_type": "display_data"
    }
   ],
   "source": [
    "data[\"PUNT_MATEMATICAS\"].hist(bins = 100)"
   ]
  },
  {
   "cell_type": "code",
   "execution_count": 54,
   "metadata": {},
   "outputs": [
    {
     "data": {
      "text/plain": [
       "PUNT_MATEMATICAS\n",
       "0          6\n",
       "15        11\n",
       "16        21\n",
       "17        77\n",
       "18       147\n",
       "19       260\n",
       "20       413\n",
       "21       707\n",
       "22      1006\n",
       "23      1530\n",
       "24      2189\n",
       "25      2874\n",
       "26      3623\n",
       "27      4589\n",
       "28      5628\n",
       "29      6930\n",
       "30      8411\n",
       "31      9926\n",
       "32     11642\n",
       "33     13301\n",
       "34     14968\n",
       "35     16488\n",
       "36     18272\n",
       "37     20024\n",
       "38     21938\n",
       "39     23150\n",
       "40     24453\n",
       "41     25772\n",
       "42     27210\n",
       "43     28068\n",
       "       ...  \n",
       "59     26933\n",
       "60     25288\n",
       "61     24149\n",
       "62     22502\n",
       "63     20927\n",
       "64     19414\n",
       "65     17402\n",
       "66     15844\n",
       "67     14263\n",
       "68     12690\n",
       "69     10888\n",
       "70      9628\n",
       "71      8272\n",
       "72      7350\n",
       "73      6181\n",
       "74      5307\n",
       "75      4317\n",
       "76      3574\n",
       "77      2830\n",
       "78      2329\n",
       "79      1866\n",
       "80      1459\n",
       "81      1197\n",
       "82       925\n",
       "83       660\n",
       "84       516\n",
       "85       391\n",
       "86        67\n",
       "87         5\n",
       "100      790\n",
       "Length: 75, dtype: int64"
      ]
     },
     "execution_count": 54,
     "metadata": {},
     "output_type": "execute_result"
    }
   ],
   "source": [
    "data.groupby(\"PUNT_MATEMATICAS\").size()"
   ]
  },
  {
   "cell_type": "code",
   "execution_count": 56,
   "metadata": {},
   "outputs": [
    {
     "data": {
      "text/plain": [
       "<matplotlib.axes._subplots.AxesSubplot at 0x1e08be71ba8>"
      ]
     },
     "execution_count": 56,
     "metadata": {},
     "output_type": "execute_result"
    },
    {
     "data": {
      "image/png": "[encoded data removed]",
      "text/plain": [
       "<Figure size 432x288 with 1 Axes>"
      ]
     },
     "metadata": {
      "needs_background": "light"
     },
     "output_type": "display_data"
    }
   ],
   "source": [
    "data[\"ESTU_NSE_ESTABLECIMIENTO\"].value_counts().plot(kind ='bar')"
   ]
  },
  {
   "cell_type": "code",
   "execution_count": 57,
   "metadata": {},
   "outputs": [
    {
     "data": {
      "text/plain": [
       "<matplotlib.axes._subplots.AxesSubplot at 0x1e08b6450f0>"
      ]
     },
     "execution_count": 57,
     "metadata": {},
     "output_type": "execute_result"
    },
    {
     "data": {
      "image/png": "[encoded data removed]",
      "text/plain": [
       "<Figure size 432x288 with 1 Axes>"
      ]
     },
     "metadata": {
      "needs_background": "light"
     },
     "output_type": "display_data"
    }
   ],
   "source": [
    "data[\"ELECTRODOMESTICOS\"].value_counts().plot(kind ='bar')"
   ]
  },
  {
   "cell_type": "code",
   "execution_count": 58,
   "metadata": {},
   "outputs": [
    {
     "data": {
      "text/plain": [
       "ELECTRODOMESTICOS\n",
       "11000    14.087395\n",
       "10000    12.695222\n",
       "0        11.784966\n",
       "11010     9.678732\n",
       "10010     7.873683\n",
       "11101     5.564458\n",
       "11100     5.365407\n",
       "10        5.284349\n",
       "11001     4.715168\n",
       "1000      4.273238\n",
       "11011     3.668896\n",
       "11110     3.372044\n",
       "11111     3.341314\n",
       "1010      2.773611\n",
       "10001     1.161901\n",
       "10100     1.081335\n",
       "10110     0.959994\n",
       "10011     0.912915\n",
       "1100      0.755231\n",
       "1001      0.650140\n",
       "dtype: float64"
      ]
     },
     "execution_count": 58,
     "metadata": {},
     "output_type": "execute_result"
    }
   ],
   "source": [
    "data.groupby(\"ELECTRODOMESTICOS\").size().sort_values(ascending=False)/data.shape[0]*100"
   ]
  },
  {
   "cell_type": "code",
   "execution_count": 59,
   "metadata": {},
   "outputs": [
    {
     "data": {
      "text/plain": [
       "(1015319, 31)"
      ]
     },
     "execution_count": 59,
     "metadata": {},
     "output_type": "execute_result"
    }
   ],
   "source": [
    "data.shape"
   ]
  },
  {
   "cell_type": "markdown",
   "metadata": {},
   "source": [
    "## Correlacion de pearson"
   ]
  },
  {
   "cell_type": "code",
   "execution_count": 60,
   "metadata": {},
   "outputs": [
    {
     "name": "stdout",
     "output_type": "stream",
     "text": [
      "0.43500586121610446\n"
     ]
    }
   ],
   "source": [
    "print(data.PUNT_GLOBAL.corr(data.ESTU_INSE_INDIVIDUAL, method=\"pearson\"))"
   ]
  },
  {
   "cell_type": "code",
   "execution_count": 61,
   "metadata": {},
   "outputs": [
    {
     "data": {
      "text/html": [
       "<div>\n",
       "<style scoped>\n",
       "    .dataframe tbody tr th:only-of-type {\n",
       "        vertical-align: middle;\n",
       "    }\n",
       "\n",
       "    .dataframe tbody tr th {\n",
       "        vertical-align: top;\n",
       "    }\n",
       "\n",
       "    .dataframe thead th {\n",
       "        text-align: right;\n",
       "    }\n",
       "</style>\n",
       "<table border=\"1\" class=\"dataframe\">\n",
       "  <thead>\n",
       "    <tr style=\"text-align: right;\">\n",
       "      <th></th>\n",
       "      <th>ELECTRODOMESTICOS</th>\n",
       "      <th>ESTU_FECHANACIMIENTO</th>\n",
       "      <th>PERIODO</th>\n",
       "      <th>PUNT_LECTURA_CRITICA</th>\n",
       "      <th>PUNT_MATEMATICAS</th>\n",
       "      <th>PUNT_C_NATURALES</th>\n",
       "      <th>PUNT_SOCIALES_CIUDADANAS</th>\n",
       "      <th>PUNT_INGLES</th>\n",
       "      <th>PUNT_GLOBAL</th>\n",
       "      <th>ESTU_NSE_ESTABLECIMIENTO</th>\n",
       "      <th>ESTU_INSE_INDIVIDUAL</th>\n",
       "    </tr>\n",
       "  </thead>\n",
       "  <tbody>\n",
       "    <tr>\n",
       "      <th>ELECTRODOMESTICOS</th>\n",
       "      <td>1.000000</td>\n",
       "      <td>-0.131716</td>\n",
       "      <td>0.006306</td>\n",
       "      <td>0.161448</td>\n",
       "      <td>0.163551</td>\n",
       "      <td>0.163479</td>\n",
       "      <td>0.148608</td>\n",
       "      <td>0.205841</td>\n",
       "      <td>0.181479</td>\n",
       "      <td>0.307328</td>\n",
       "      <td>0.519364</td>\n",
       "    </tr>\n",
       "    <tr>\n",
       "      <th>ESTU_FECHANACIMIENTO</th>\n",
       "      <td>-0.131716</td>\n",
       "      <td>1.000000</td>\n",
       "      <td>-0.003332</td>\n",
       "      <td>-0.262915</td>\n",
       "      <td>-0.301661</td>\n",
       "      <td>-0.288391</td>\n",
       "      <td>-0.243595</td>\n",
       "      <td>-0.265464</td>\n",
       "      <td>-0.304825</td>\n",
       "      <td>-0.150855</td>\n",
       "      <td>-0.230158</td>\n",
       "    </tr>\n",
       "    <tr>\n",
       "      <th>PERIODO</th>\n",
       "      <td>0.006306</td>\n",
       "      <td>-0.003332</td>\n",
       "      <td>1.000000</td>\n",
       "      <td>-0.033390</td>\n",
       "      <td>0.004813</td>\n",
       "      <td>-0.084233</td>\n",
       "      <td>-0.089920</td>\n",
       "      <td>0.046766</td>\n",
       "      <td>-0.046865</td>\n",
       "      <td>0.022286</td>\n",
       "      <td>-0.018594</td>\n",
       "    </tr>\n",
       "    <tr>\n",
       "      <th>PUNT_LECTURA_CRITICA</th>\n",
       "      <td>0.161448</td>\n",
       "      <td>-0.262915</td>\n",
       "      <td>-0.033390</td>\n",
       "      <td>1.000000</td>\n",
       "      <td>0.735875</td>\n",
       "      <td>0.749057</td>\n",
       "      <td>0.801586</td>\n",
       "      <td>0.659955</td>\n",
       "      <td>0.895540</td>\n",
       "      <td>0.382571</td>\n",
       "      <td>0.388588</td>\n",
       "    </tr>\n",
       "    <tr>\n",
       "      <th>PUNT_MATEMATICAS</th>\n",
       "      <td>0.163551</td>\n",
       "      <td>-0.301661</td>\n",
       "      <td>0.004813</td>\n",
       "      <td>0.735875</td>\n",
       "      <td>1.000000</td>\n",
       "      <td>0.797961</td>\n",
       "      <td>0.743861</td>\n",
       "      <td>0.662148</td>\n",
       "      <td>0.903941</td>\n",
       "      <td>0.373868</td>\n",
       "      <td>0.382591</td>\n",
       "    </tr>\n",
       "    <tr>\n",
       "      <th>PUNT_C_NATURALES</th>\n",
       "      <td>0.163479</td>\n",
       "      <td>-0.288391</td>\n",
       "      <td>-0.084233</td>\n",
       "      <td>0.749057</td>\n",
       "      <td>0.797961</td>\n",
       "      <td>1.000000</td>\n",
       "      <td>0.797822</td>\n",
       "      <td>0.680637</td>\n",
       "      <td>0.915557</td>\n",
       "      <td>0.360940</td>\n",
       "      <td>0.376359</td>\n",
       "    </tr>\n",
       "    <tr>\n",
       "      <th>PUNT_SOCIALES_CIUDADANAS</th>\n",
       "      <td>0.148608</td>\n",
       "      <td>-0.243595</td>\n",
       "      <td>-0.089920</td>\n",
       "      <td>0.801586</td>\n",
       "      <td>0.743861</td>\n",
       "      <td>0.797822</td>\n",
       "      <td>1.000000</td>\n",
       "      <td>0.669289</td>\n",
       "      <td>0.917890</td>\n",
       "      <td>0.370963</td>\n",
       "      <td>0.379762</td>\n",
       "    </tr>\n",
       "    <tr>\n",
       "      <th>PUNT_INGLES</th>\n",
       "      <td>0.205841</td>\n",
       "      <td>-0.265464</td>\n",
       "      <td>0.046766</td>\n",
       "      <td>0.659955</td>\n",
       "      <td>0.662148</td>\n",
       "      <td>0.680637</td>\n",
       "      <td>0.669289</td>\n",
       "      <td>1.000000</td>\n",
       "      <td>0.774099</td>\n",
       "      <td>0.471297</td>\n",
       "      <td>0.488992</td>\n",
       "    </tr>\n",
       "    <tr>\n",
       "      <th>PUNT_GLOBAL</th>\n",
       "      <td>0.181479</td>\n",
       "      <td>-0.304825</td>\n",
       "      <td>-0.046865</td>\n",
       "      <td>0.895540</td>\n",
       "      <td>0.903941</td>\n",
       "      <td>0.915557</td>\n",
       "      <td>0.917890</td>\n",
       "      <td>0.774099</td>\n",
       "      <td>1.000000</td>\n",
       "      <td>0.423465</td>\n",
       "      <td>0.435006</td>\n",
       "    </tr>\n",
       "    <tr>\n",
       "      <th>ESTU_NSE_ESTABLECIMIENTO</th>\n",
       "      <td>0.307328</td>\n",
       "      <td>-0.150855</td>\n",
       "      <td>0.022286</td>\n",
       "      <td>0.382571</td>\n",
       "      <td>0.373868</td>\n",
       "      <td>0.360940</td>\n",
       "      <td>0.370963</td>\n",
       "      <td>0.471297</td>\n",
       "      <td>0.423465</td>\n",
       "      <td>1.000000</td>\n",
       "      <td>0.630862</td>\n",
       "    </tr>\n",
       "    <tr>\n",
       "      <th>ESTU_INSE_INDIVIDUAL</th>\n",
       "      <td>0.519364</td>\n",
       "      <td>-0.230158</td>\n",
       "      <td>-0.018594</td>\n",
       "      <td>0.388588</td>\n",
       "      <td>0.382591</td>\n",
       "      <td>0.376359</td>\n",
       "      <td>0.379762</td>\n",
       "      <td>0.488992</td>\n",
       "      <td>0.435006</td>\n",
       "      <td>0.630862</td>\n",
       "      <td>1.000000</td>\n",
       "    </tr>\n",
       "  </tbody>\n",
       "</table>\n",
       "</div>"
      ],
      "text/plain": [
       "                          ELECTRODOMESTICOS  ESTU_FECHANACIMIENTO   PERIODO  \\\n",
       "ELECTRODOMESTICOS                  1.000000             -0.131716  0.006306   \n",
       "ESTU_FECHANACIMIENTO              -0.131716              1.000000 -0.003332   \n",
       "PERIODO                            0.006306             -0.003332  1.000000   \n",
       "PUNT_LECTURA_CRITICA               0.161448             -0.262915 -0.033390   \n",
       "PUNT_MATEMATICAS                   0.163551             -0.301661  0.004813   \n",
       "PUNT_C_NATURALES                   0.163479             -0.288391 -0.084233   \n",
       "PUNT_SOCIALES_CIUDADANAS           0.148608             -0.243595 -0.089920   \n",
       "PUNT_INGLES                        0.205841             -0.265464  0.046766   \n",
       "PUNT_GLOBAL                        0.181479             -0.304825 -0.046865   \n",
       "ESTU_NSE_ESTABLECIMIENTO           0.307328             -0.150855  0.022286   \n",
       "ESTU_INSE_INDIVIDUAL               0.519364             -0.230158 -0.018594   \n",
       "\n",
       "                          PUNT_LECTURA_CRITICA  PUNT_MATEMATICAS  \\\n",
       "ELECTRODOMESTICOS                     0.161448          0.163551   \n",
       "ESTU_FECHANACIMIENTO                 -0.262915         -0.301661   \n",
       "PERIODO                              -0.033390          0.004813   \n",
       "PUNT_LECTURA_CRITICA                  1.000000          0.735875   \n",
       "PUNT_MATEMATICAS                      0.735875          1.000000   \n",
       "PUNT_C_NATURALES                      0.749057          0.797961   \n",
       "PUNT_SOCIALES_CIUDADANAS              0.801586          0.743861   \n",
       "PUNT_INGLES                           0.659955          0.662148   \n",
       "PUNT_GLOBAL                           0.895540          0.903941   \n",
       "ESTU_NSE_ESTABLECIMIENTO              0.382571          0.373868   \n",
       "ESTU_INSE_INDIVIDUAL                  0.388588          0.382591   \n",
       "\n",
       "                          PUNT_C_NATURALES  PUNT_SOCIALES_CIUDADANAS  \\\n",
       "ELECTRODOMESTICOS                 0.163479                  0.148608   \n",
       "ESTU_FECHANACIMIENTO             -0.288391                 -0.243595   \n",
       "PERIODO                          -0.084233                 -0.089920   \n",
       "PUNT_LECTURA_CRITICA              0.749057                  0.801586   \n",
       "PUNT_MATEMATICAS                  0.797961                  0.743861   \n",
       "PUNT_C_NATURALES                  1.000000                  0.797822   \n",
       "PUNT_SOCIALES_CIUDADANAS          0.797822                  1.000000   \n",
       "PUNT_INGLES                       0.680637                  0.669289   \n",
       "PUNT_GLOBAL                       0.915557                  0.917890   \n",
       "ESTU_NSE_ESTABLECIMIENTO          0.360940                  0.370963   \n",
       "ESTU_INSE_INDIVIDUAL              0.376359                  0.379762   \n",
       "\n",
       "                          PUNT_INGLES  PUNT_GLOBAL  ESTU_NSE_ESTABLECIMIENTO  \\\n",
       "ELECTRODOMESTICOS            0.205841     0.181479                  0.307328   \n",
       "ESTU_FECHANACIMIENTO        -0.265464    -0.304825                 -0.150855   \n",
       "PERIODO                      0.046766    -0.046865                  0.022286   \n",
       "PUNT_LECTURA_CRITICA         0.659955     0.895540                  0.382571   \n",
       "PUNT_MATEMATICAS             0.662148     0.903941                  0.373868   \n",
       "PUNT_C_NATURALES             0.680637     0.915557                  0.360940   \n",
       "PUNT_SOCIALES_CIUDADANAS     0.669289     0.917890                  0.370963   \n",
       "PUNT_INGLES                  1.000000     0.774099                  0.471297   \n",
       "PUNT_GLOBAL                  0.774099     1.000000                  0.423465   \n",
       "ESTU_NSE_ESTABLECIMIENTO     0.471297     0.423465                  1.000000   \n",
       "ESTU_INSE_INDIVIDUAL         0.488992     0.435006                  0.630862   \n",
       "\n",
       "                          ESTU_INSE_INDIVIDUAL  \n",
       "ELECTRODOMESTICOS                     0.519364  \n",
       "ESTU_FECHANACIMIENTO                 -0.230158  \n",
       "PERIODO                              -0.018594  \n",
       "PUNT_LECTURA_CRITICA                  0.388588  \n",
       "PUNT_MATEMATICAS                      0.382591  \n",
       "PUNT_C_NATURALES                      0.376359  \n",
       "PUNT_SOCIALES_CIUDADANAS              0.379762  \n",
       "PUNT_INGLES                           0.488992  \n",
       "PUNT_GLOBAL                           0.435006  \n",
       "ESTU_NSE_ESTABLECIMIENTO              0.630862  \n",
       "ESTU_INSE_INDIVIDUAL                  1.000000  "
      ]
     },
     "execution_count": 61,
     "metadata": {},
     "output_type": "execute_result"
    }
   ],
   "source": [
    "data.corr(method=\"pearson\")"
   ]
  },
  {
   "cell_type": "markdown",
   "metadata": {},
   "source": [
    "## Diagramas de caja"
   ]
  },
  {
   "cell_type": "code",
   "execution_count": 62,
   "metadata": {},
   "outputs": [
    {
     "data": {
      "text/plain": [
       "Text(0.5, 0, 'Edad')"
      ]
     },
     "execution_count": 62,
     "metadata": {},
     "output_type": "execute_result"
    },
    {
     "data": {
      "image/png": "[encoded data removed]",
      "text/plain": [
       "<Figure size 432x288 with 1 Axes>"
      ]
     },
     "metadata": {
      "needs_background": "light"
     },
     "output_type": "display_data"
    }
   ],
   "source": [
    "hist = data.boxplot(column=['ESTU_FECHANACIMIENTO'])\n",
    "hist.set_xlabel(\"Edad\")"
   ]
  },
  {
   "cell_type": "code",
   "execution_count": 63,
   "metadata": {},
   "outputs": [
    {
     "data": {
      "text/plain": [
       "Series([], dtype: float64)"
      ]
     },
     "execution_count": 63,
     "metadata": {},
     "output_type": "execute_result"
    }
   ],
   "source": [
    "dataAge = data[data['ESTU_FECHANACIMIENTO'] > 22]\n",
    "dataAge.groupby(\"ESTU_FECHANACIMIENTO\").size()/data.shape[0]*100"
   ]
  },
  {
   "cell_type": "markdown",
   "metadata": {},
   "source": [
    "## Tablas de contingencia"
   ]
  },
  {
   "cell_type": "code",
   "execution_count": 65,
   "metadata": {},
   "outputs": [
    {
     "data": {
      "text/html": [
       "<div>\n",
       "<style scoped>\n",
       "    .dataframe tbody tr th:only-of-type {\n",
       "        vertical-align: middle;\n",
       "    }\n",
       "\n",
       "    .dataframe tbody tr th {\n",
       "        vertical-align: top;\n",
       "    }\n",
       "\n",
       "    .dataframe thead th {\n",
       "        text-align: right;\n",
       "    }\n",
       "</style>\n",
       "<table border=\"1\" class=\"dataframe\">\n",
       "  <thead>\n",
       "    <tr style=\"text-align: right;\">\n",
       "      <th>FAMI_EDUCACIONMADRE</th>\n",
       "      <th>Educación profesional completa</th>\n",
       "      <th>Educación profesional incompleta</th>\n",
       "      <th>Ninguno</th>\n",
       "      <th>No Aplica</th>\n",
       "      <th>No sabe</th>\n",
       "      <th>Postgrado</th>\n",
       "      <th>Primaria completa</th>\n",
       "      <th>Primaria incompleta</th>\n",
       "      <th>Secundaria (Bachillerato) completa</th>\n",
       "      <th>Secundaria (Bachillerato) incompleta</th>\n",
       "      <th>Técnica o tecnológica completa</th>\n",
       "      <th>Técnica o tecnológica incompleta</th>\n",
       "    </tr>\n",
       "    <tr>\n",
       "      <th>FAMI_EDUCACIONPADRE</th>\n",
       "      <th></th>\n",
       "      <th></th>\n",
       "      <th></th>\n",
       "      <th></th>\n",
       "      <th></th>\n",
       "      <th></th>\n",
       "      <th></th>\n",
       "      <th></th>\n",
       "      <th></th>\n",
       "      <th></th>\n",
       "      <th></th>\n",
       "      <th></th>\n",
       "    </tr>\n",
       "  </thead>\n",
       "  <tbody>\n",
       "    <tr>\n",
       "      <th>Educación profesional completa</th>\n",
       "      <td>3.958559</td>\n",
       "      <td>0.540126</td>\n",
       "      <td>0.028661</td>\n",
       "      <td>0.014675</td>\n",
       "      <td>0.113560</td>\n",
       "      <td>0.443309</td>\n",
       "      <td>0.192058</td>\n",
       "      <td>0.221310</td>\n",
       "      <td>1.517159</td>\n",
       "      <td>0.514321</td>\n",
       "      <td>1.297228</td>\n",
       "      <td>0.269275</td>\n",
       "    </tr>\n",
       "    <tr>\n",
       "      <th>Educación profesional incompleta</th>\n",
       "      <td>0.441142</td>\n",
       "      <td>0.331324</td>\n",
       "      <td>0.009849</td>\n",
       "      <td>0.006796</td>\n",
       "      <td>0.025017</td>\n",
       "      <td>0.094256</td>\n",
       "      <td>0.057814</td>\n",
       "      <td>0.056928</td>\n",
       "      <td>0.389730</td>\n",
       "      <td>0.168420</td>\n",
       "      <td>0.309656</td>\n",
       "      <td>0.102332</td>\n",
       "    </tr>\n",
       "    <tr>\n",
       "      <th>Ninguno</th>\n",
       "      <td>0.065300</td>\n",
       "      <td>0.023638</td>\n",
       "      <td>0.823091</td>\n",
       "      <td>0.008076</td>\n",
       "      <td>0.027775</td>\n",
       "      <td>0.010440</td>\n",
       "      <td>0.455719</td>\n",
       "      <td>0.995352</td>\n",
       "      <td>0.424497</td>\n",
       "      <td>0.429717</td>\n",
       "      <td>0.085884</td>\n",
       "      <td>0.048064</td>\n",
       "    </tr>\n",
       "    <tr>\n",
       "      <th>No Aplica</th>\n",
       "      <td>0.109818</td>\n",
       "      <td>0.027972</td>\n",
       "      <td>0.014183</td>\n",
       "      <td>0.043829</td>\n",
       "      <td>0.018418</td>\n",
       "      <td>0.028858</td>\n",
       "      <td>0.093961</td>\n",
       "      <td>0.129811</td>\n",
       "      <td>0.244652</td>\n",
       "      <td>0.141039</td>\n",
       "      <td>0.120159</td>\n",
       "      <td>0.035457</td>\n",
       "    </tr>\n",
       "    <tr>\n",
       "      <th>No sabe</th>\n",
       "      <td>0.609070</td>\n",
       "      <td>0.156306</td>\n",
       "      <td>0.057322</td>\n",
       "      <td>0.013592</td>\n",
       "      <td>0.915771</td>\n",
       "      <td>0.107651</td>\n",
       "      <td>0.509397</td>\n",
       "      <td>0.687272</td>\n",
       "      <td>1.466042</td>\n",
       "      <td>0.878739</td>\n",
       "      <td>0.626010</td>\n",
       "      <td>0.169011</td>\n",
       "    </tr>\n",
       "    <tr>\n",
       "      <th>Postgrado</th>\n",
       "      <td>0.508510</td>\n",
       "      <td>0.085293</td>\n",
       "      <td>0.003940</td>\n",
       "      <td>0.005122</td>\n",
       "      <td>0.020683</td>\n",
       "      <td>0.757693</td>\n",
       "      <td>0.022653</td>\n",
       "      <td>0.026987</td>\n",
       "      <td>0.147244</td>\n",
       "      <td>0.049837</td>\n",
       "      <td>0.172852</td>\n",
       "      <td>0.034767</td>\n",
       "    </tr>\n",
       "    <tr>\n",
       "      <th>Primaria completa</th>\n",
       "      <td>0.332211</td>\n",
       "      <td>0.092188</td>\n",
       "      <td>0.216681</td>\n",
       "      <td>0.011228</td>\n",
       "      <td>0.076922</td>\n",
       "      <td>0.044617</td>\n",
       "      <td>3.521061</td>\n",
       "      <td>1.837452</td>\n",
       "      <td>2.421111</td>\n",
       "      <td>1.720543</td>\n",
       "      <td>0.523481</td>\n",
       "      <td>0.186838</td>\n",
       "    </tr>\n",
       "    <tr>\n",
       "      <th>Primaria incompleta</th>\n",
       "      <td>0.428437</td>\n",
       "      <td>0.120750</td>\n",
       "      <td>0.587599</td>\n",
       "      <td>0.018418</td>\n",
       "      <td>0.122326</td>\n",
       "      <td>0.055845</td>\n",
       "      <td>3.051947</td>\n",
       "      <td>8.189249</td>\n",
       "      <td>3.192593</td>\n",
       "      <td>3.111140</td>\n",
       "      <td>0.682741</td>\n",
       "      <td>0.242091</td>\n",
       "    </tr>\n",
       "    <tr>\n",
       "      <th>Secundaria (Bachillerato) completa</th>\n",
       "      <td>1.846907</td>\n",
       "      <td>0.474137</td>\n",
       "      <td>0.146850</td>\n",
       "      <td>0.024327</td>\n",
       "      <td>0.198854</td>\n",
       "      <td>0.241599</td>\n",
       "      <td>1.490861</td>\n",
       "      <td>1.449988</td>\n",
       "      <td>10.112585</td>\n",
       "      <td>2.960055</td>\n",
       "      <td>2.518814</td>\n",
       "      <td>0.806840</td>\n",
       "    </tr>\n",
       "    <tr>\n",
       "      <th>Secundaria (Bachillerato) incompleta</th>\n",
       "      <td>0.785467</td>\n",
       "      <td>0.230863</td>\n",
       "      <td>0.167829</td>\n",
       "      <td>0.013789</td>\n",
       "      <td>0.125182</td>\n",
       "      <td>0.108439</td>\n",
       "      <td>1.375036</td>\n",
       "      <td>1.665585</td>\n",
       "      <td>3.684655</td>\n",
       "      <td>4.701971</td>\n",
       "      <td>1.164166</td>\n",
       "      <td>0.421345</td>\n",
       "    </tr>\n",
       "    <tr>\n",
       "      <th>Técnica o tecnológica completa</th>\n",
       "      <td>1.030514</td>\n",
       "      <td>0.268980</td>\n",
       "      <td>0.022259</td>\n",
       "      <td>0.012607</td>\n",
       "      <td>0.075247</td>\n",
       "      <td>0.163692</td>\n",
       "      <td>0.214711</td>\n",
       "      <td>0.213529</td>\n",
       "      <td>1.646872</td>\n",
       "      <td>0.586023</td>\n",
       "      <td>2.280170</td>\n",
       "      <td>0.361364</td>\n",
       "    </tr>\n",
       "    <tr>\n",
       "      <th>Técnica o tecnológica incompleta</th>\n",
       "      <td>0.219832</td>\n",
       "      <td>0.095143</td>\n",
       "      <td>0.015463</td>\n",
       "      <td>0.005023</td>\n",
       "      <td>0.021471</td>\n",
       "      <td>0.039790</td>\n",
       "      <td>0.103711</td>\n",
       "      <td>0.094847</td>\n",
       "      <td>0.532936</td>\n",
       "      <td>0.237167</td>\n",
       "      <td>0.315369</td>\n",
       "      <td>0.398692</td>\n",
       "    </tr>\n",
       "  </tbody>\n",
       "</table>\n",
       "</div>"
      ],
      "text/plain": [
       "FAMI_EDUCACIONMADRE                   Educación profesional completa  \\\n",
       "FAMI_EDUCACIONPADRE                                                    \n",
       "Educación profesional completa                              3.958559   \n",
       "Educación profesional incompleta                            0.441142   \n",
       "Ninguno                                                     0.065300   \n",
       "No Aplica                                                   0.109818   \n",
       "No sabe                                                     0.609070   \n",
       "Postgrado                                                   0.508510   \n",
       "Primaria completa                                           0.332211   \n",
       "Primaria incompleta                                         0.428437   \n",
       "Secundaria (Bachillerato) completa                          1.846907   \n",
       "Secundaria (Bachillerato) incompleta                        0.785467   \n",
       "Técnica o tecnológica completa                              1.030514   \n",
       "Técnica o tecnológica incompleta                            0.219832   \n",
       "\n",
       "FAMI_EDUCACIONMADRE                   Educación profesional incompleta  \\\n",
       "FAMI_EDUCACIONPADRE                                                      \n",
       "Educación profesional completa                                0.540126   \n",
       "Educación profesional incompleta                              0.331324   \n",
       "Ninguno                                                       0.023638   \n",
       "No Aplica                                                     0.027972   \n",
       "No sabe                                                       0.156306   \n",
       "Postgrado                                                     0.085293   \n",
       "Primaria completa                                             0.092188   \n",
       "Primaria incompleta                                           0.120750   \n",
       "Secundaria (Bachillerato) completa                            0.474137   \n",
       "Secundaria (Bachillerato) incompleta                          0.230863   \n",
       "Técnica o tecnológica completa                                0.268980   \n",
       "Técnica o tecnológica incompleta                              0.095143   \n",
       "\n",
       "FAMI_EDUCACIONMADRE                    Ninguno  No Aplica   No sabe  \\\n",
       "FAMI_EDUCACIONPADRE                                                   \n",
       "Educación profesional completa        0.028661   0.014675  0.113560   \n",
       "Educación profesional incompleta      0.009849   0.006796  0.025017   \n",
       "Ninguno                               0.823091   0.008076  0.027775   \n",
       "No Aplica                             0.014183   0.043829  0.018418   \n",
       "No sabe                               0.057322   0.013592  0.915771   \n",
       "Postgrado                             0.003940   0.005122  0.020683   \n",
       "Primaria completa                     0.216681   0.011228  0.076922   \n",
       "Primaria incompleta                   0.587599   0.018418  0.122326   \n",
       "Secundaria (Bachillerato) completa    0.146850   0.024327  0.198854   \n",
       "Secundaria (Bachillerato) incompleta  0.167829   0.013789  0.125182   \n",
       "Técnica o tecnológica completa        0.022259   0.012607  0.075247   \n",
       "Técnica o tecnológica incompleta      0.015463   0.005023  0.021471   \n",
       "\n",
       "FAMI_EDUCACIONMADRE                   Postgrado  Primaria completa  \\\n",
       "FAMI_EDUCACIONPADRE                                                  \n",
       "Educación profesional completa         0.443309           0.192058   \n",
       "Educación profesional incompleta       0.094256           0.057814   \n",
       "Ninguno                                0.010440           0.455719   \n",
       "No Aplica                              0.028858           0.093961   \n",
       "No sabe                                0.107651           0.509397   \n",
       "Postgrado                              0.757693           0.022653   \n",
       "Primaria completa                      0.044617           3.521061   \n",
       "Primaria incompleta                    0.055845           3.051947   \n",
       "Secundaria (Bachillerato) completa     0.241599           1.490861   \n",
       "Secundaria (Bachillerato) incompleta   0.108439           1.375036   \n",
       "Técnica o tecnológica completa         0.163692           0.214711   \n",
       "Técnica o tecnológica incompleta       0.039790           0.103711   \n",
       "\n",
       "FAMI_EDUCACIONMADRE                   Primaria incompleta  \\\n",
       "FAMI_EDUCACIONPADRE                                         \n",
       "Educación profesional completa                   0.221310   \n",
       "Educación profesional incompleta                 0.056928   \n",
       "Ninguno                                          0.995352   \n",
       "No Aplica                                        0.129811   \n",
       "No sabe                                          0.687272   \n",
       "Postgrado                                        0.026987   \n",
       "Primaria completa                                1.837452   \n",
       "Primaria incompleta                              8.189249   \n",
       "Secundaria (Bachillerato) completa               1.449988   \n",
       "Secundaria (Bachillerato) incompleta             1.665585   \n",
       "Técnica o tecnológica completa                   0.213529   \n",
       "Técnica o tecnológica incompleta                 0.094847   \n",
       "\n",
       "FAMI_EDUCACIONMADRE                   Secundaria (Bachillerato) completa  \\\n",
       "FAMI_EDUCACIONPADRE                                                        \n",
       "Educación profesional completa                                  1.517159   \n",
       "Educación profesional incompleta                                0.389730   \n",
       "Ninguno                                                         0.424497   \n",
       "No Aplica                                                       0.244652   \n",
       "No sabe                                                         1.466042   \n",
       "Postgrado                                                       0.147244   \n",
       "Primaria completa                                               2.421111   \n",
       "Primaria incompleta                                             3.192593   \n",
       "Secundaria (Bachillerato) completa                             10.112585   \n",
       "Secundaria (Bachillerato) incompleta                            3.684655   \n",
       "Técnica o tecnológica completa                                  1.646872   \n",
       "Técnica o tecnológica incompleta                                0.532936   \n",
       "\n",
       "FAMI_EDUCACIONMADRE                   Secundaria (Bachillerato) incompleta  \\\n",
       "FAMI_EDUCACIONPADRE                                                          \n",
       "Educación profesional completa                                    0.514321   \n",
       "Educación profesional incompleta                                  0.168420   \n",
       "Ninguno                                                           0.429717   \n",
       "No Aplica                                                         0.141039   \n",
       "No sabe                                                           0.878739   \n",
       "Postgrado                                                         0.049837   \n",
       "Primaria completa                                                 1.720543   \n",
       "Primaria incompleta                                               3.111140   \n",
       "Secundaria (Bachillerato) completa                                2.960055   \n",
       "Secundaria (Bachillerato) incompleta                              4.701971   \n",
       "Técnica o tecnológica completa                                    0.586023   \n",
       "Técnica o tecnológica incompleta                                  0.237167   \n",
       "\n",
       "FAMI_EDUCACIONMADRE                   Técnica o tecnológica completa  \\\n",
       "FAMI_EDUCACIONPADRE                                                    \n",
       "Educación profesional completa                              1.297228   \n",
       "Educación profesional incompleta                            0.309656   \n",
       "Ninguno                                                     0.085884   \n",
       "No Aplica                                                   0.120159   \n",
       "No sabe                                                     0.626010   \n",
       "Postgrado                                                   0.172852   \n",
       "Primaria completa                                           0.523481   \n",
       "Primaria incompleta                                         0.682741   \n",
       "Secundaria (Bachillerato) completa                          2.518814   \n",
       "Secundaria (Bachillerato) incompleta                        1.164166   \n",
       "Técnica o tecnológica completa                              2.280170   \n",
       "Técnica o tecnológica incompleta                            0.315369   \n",
       "\n",
       "FAMI_EDUCACIONMADRE                   Técnica o tecnológica incompleta  \n",
       "FAMI_EDUCACIONPADRE                                                     \n",
       "Educación profesional completa                                0.269275  \n",
       "Educación profesional incompleta                              0.102332  \n",
       "Ninguno                                                       0.048064  \n",
       "No Aplica                                                     0.035457  \n",
       "No sabe                                                       0.169011  \n",
       "Postgrado                                                     0.034767  \n",
       "Primaria completa                                             0.186838  \n",
       "Primaria incompleta                                           0.242091  \n",
       "Secundaria (Bachillerato) completa                            0.806840  \n",
       "Secundaria (Bachillerato) incompleta                          0.421345  \n",
       "Técnica o tecnológica completa                                0.361364  \n",
       "Técnica o tecnológica incompleta                              0.398692  "
      ]
     },
     "execution_count": 65,
     "metadata": {},
     "output_type": "execute_result"
    }
   ],
   "source": [
    "pd.crosstab(data['FAMI_EDUCACIONPADRE'], [data['FAMI_EDUCACIONMADRE']])/data.shape[0]*100"
   ]
  },
  {
   "cell_type": "code",
   "execution_count": 66,
   "metadata": {},
   "outputs": [
    {
     "data": {
      "text/html": [
       "<div>\n",
       "<style scoped>\n",
       "    .dataframe tbody tr th:only-of-type {\n",
       "        vertical-align: middle;\n",
       "    }\n",
       "\n",
       "    .dataframe tbody tr th {\n",
       "        vertical-align: top;\n",
       "    }\n",
       "\n",
       "    .dataframe thead th {\n",
       "        text-align: right;\n",
       "    }\n",
       "</style>\n",
       "<table border=\"1\" class=\"dataframe\">\n",
       "  <thead>\n",
       "    <tr style=\"text-align: right;\">\n",
       "      <th>FAMI_PERSONASHOGAR</th>\n",
       "      <th>1 a 2</th>\n",
       "      <th>3 a 4</th>\n",
       "      <th>5 a 6</th>\n",
       "      <th>7 a 8</th>\n",
       "      <th>9 o más</th>\n",
       "    </tr>\n",
       "    <tr>\n",
       "      <th>FAMI_ESTRATOVIVIENDA</th>\n",
       "      <th></th>\n",
       "      <th></th>\n",
       "      <th></th>\n",
       "      <th></th>\n",
       "      <th></th>\n",
       "    </tr>\n",
       "  </thead>\n",
       "  <tbody>\n",
       "    <tr>\n",
       "      <th>Estrato 1</th>\n",
       "      <td>2.171140</td>\n",
       "      <td>14.031058</td>\n",
       "      <td>11.970524</td>\n",
       "      <td>3.662987</td>\n",
       "      <td>1.395424</td>\n",
       "    </tr>\n",
       "    <tr>\n",
       "      <th>Estrato 2</th>\n",
       "      <td>2.708804</td>\n",
       "      <td>18.080721</td>\n",
       "      <td>11.849182</td>\n",
       "      <td>2.870920</td>\n",
       "      <td>1.119845</td>\n",
       "    </tr>\n",
       "    <tr>\n",
       "      <th>Estrato 3</th>\n",
       "      <td>1.628257</td>\n",
       "      <td>10.933116</td>\n",
       "      <td>6.024511</td>\n",
       "      <td>1.344504</td>\n",
       "      <td>0.561794</td>\n",
       "    </tr>\n",
       "    <tr>\n",
       "      <th>Estrato 4</th>\n",
       "      <td>0.394260</td>\n",
       "      <td>2.661331</td>\n",
       "      <td>1.270635</td>\n",
       "      <td>0.264449</td>\n",
       "      <td>0.114545</td>\n",
       "    </tr>\n",
       "    <tr>\n",
       "      <th>Estrato 5</th>\n",
       "      <td>0.131289</td>\n",
       "      <td>0.833334</td>\n",
       "      <td>0.437990</td>\n",
       "      <td>0.104105</td>\n",
       "      <td>0.044124</td>\n",
       "    </tr>\n",
       "    <tr>\n",
       "      <th>Estrato 6</th>\n",
       "      <td>0.057617</td>\n",
       "      <td>0.360576</td>\n",
       "      <td>0.224264</td>\n",
       "      <td>0.064709</td>\n",
       "      <td>0.037919</td>\n",
       "    </tr>\n",
       "    <tr>\n",
       "      <th>Sin Estrato</th>\n",
       "      <td>0.172557</td>\n",
       "      <td>0.886815</td>\n",
       "      <td>0.948372</td>\n",
       "      <td>0.413860</td>\n",
       "      <td>0.224461</td>\n",
       "    </tr>\n",
       "  </tbody>\n",
       "</table>\n",
       "</div>"
      ],
      "text/plain": [
       "FAMI_PERSONASHOGAR       1 a 2      3 a 4      5 a 6     7 a 8   9 o más\n",
       "FAMI_ESTRATOVIVIENDA                                                    \n",
       "Estrato 1             2.171140  14.031058  11.970524  3.662987  1.395424\n",
       "Estrato 2             2.708804  18.080721  11.849182  2.870920  1.119845\n",
       "Estrato 3             1.628257  10.933116   6.024511  1.344504  0.561794\n",
       "Estrato 4             0.394260   2.661331   1.270635  0.264449  0.114545\n",
       "Estrato 5             0.131289   0.833334   0.437990  0.104105  0.044124\n",
       "Estrato 6             0.057617   0.360576   0.224264  0.064709  0.037919\n",
       "Sin Estrato           0.172557   0.886815   0.948372  0.413860  0.224461"
      ]
     },
     "execution_count": 66,
     "metadata": {},
     "output_type": "execute_result"
    }
   ],
   "source": [
    "pd.crosstab(data['FAMI_ESTRATOVIVIENDA'], [data['FAMI_PERSONASHOGAR']])/data.shape[0]*100\n"
   ]
  },
  {
   "cell_type": "code",
   "execution_count": 77,
   "metadata": {},
   "outputs": [
    {
     "data": {
      "text/html": [
       "<div>\n",
       "<style scoped>\n",
       "    .dataframe tbody tr th:only-of-type {\n",
       "        vertical-align: middle;\n",
       "    }\n",
       "\n",
       "    .dataframe tbody tr th {\n",
       "        vertical-align: top;\n",
       "    }\n",
       "\n",
       "    .dataframe thead th {\n",
       "        text-align: right;\n",
       "    }\n",
       "</style>\n",
       "<table border=\"1\" class=\"dataframe\">\n",
       "  <thead>\n",
       "    <tr style=\"text-align: right;\">\n",
       "      <th>ESTU_NSE_INDIVIDUAL</th>\n",
       "      <th>NSE1</th>\n",
       "      <th>NSE2</th>\n",
       "      <th>NSE3</th>\n",
       "      <th>NSE4</th>\n",
       "    </tr>\n",
       "    <tr>\n",
       "      <th>FAMI_ESTRATOVIVIENDA</th>\n",
       "      <th></th>\n",
       "      <th></th>\n",
       "      <th></th>\n",
       "      <th></th>\n",
       "    </tr>\n",
       "  </thead>\n",
       "  <tbody>\n",
       "    <tr>\n",
       "      <th>Estrato 1</th>\n",
       "      <td>10.159664</td>\n",
       "      <td>16.574495</td>\n",
       "      <td>6.202386</td>\n",
       "      <td>0.294587</td>\n",
       "    </tr>\n",
       "    <tr>\n",
       "      <th>Estrato 2</th>\n",
       "      <td>3.615809</td>\n",
       "      <td>15.208619</td>\n",
       "      <td>16.384210</td>\n",
       "      <td>1.420834</td>\n",
       "    </tr>\n",
       "    <tr>\n",
       "      <th>Estrato 3</th>\n",
       "      <td>0.867609</td>\n",
       "      <td>4.560931</td>\n",
       "      <td>11.718780</td>\n",
       "      <td>3.344860</td>\n",
       "    </tr>\n",
       "    <tr>\n",
       "      <th>Estrato 4</th>\n",
       "      <td>0.243470</td>\n",
       "      <td>0.781626</td>\n",
       "      <td>1.753242</td>\n",
       "      <td>1.926882</td>\n",
       "    </tr>\n",
       "    <tr>\n",
       "      <th>Estrato 5</th>\n",
       "      <td>0.109128</td>\n",
       "      <td>0.341371</td>\n",
       "      <td>0.402041</td>\n",
       "      <td>0.698303</td>\n",
       "    </tr>\n",
       "    <tr>\n",
       "      <th>Estrato 6</th>\n",
       "      <td>0.073376</td>\n",
       "      <td>0.226924</td>\n",
       "      <td>0.161132</td>\n",
       "      <td>0.283655</td>\n",
       "    </tr>\n",
       "    <tr>\n",
       "      <th>Sin Estrato</th>\n",
       "      <td>1.137770</td>\n",
       "      <td>1.156779</td>\n",
       "      <td>0.319998</td>\n",
       "      <td>0.031517</td>\n",
       "    </tr>\n",
       "  </tbody>\n",
       "</table>\n",
       "</div>"
      ],
      "text/plain": [
       "ESTU_NSE_INDIVIDUAL        NSE1       NSE2       NSE3      NSE4\n",
       "FAMI_ESTRATOVIVIENDA                                           \n",
       "Estrato 1             10.159664  16.574495   6.202386  0.294587\n",
       "Estrato 2              3.615809  15.208619  16.384210  1.420834\n",
       "Estrato 3              0.867609   4.560931  11.718780  3.344860\n",
       "Estrato 4              0.243470   0.781626   1.753242  1.926882\n",
       "Estrato 5              0.109128   0.341371   0.402041  0.698303\n",
       "Estrato 6              0.073376   0.226924   0.161132  0.283655\n",
       "Sin Estrato            1.137770   1.156779   0.319998  0.031517"
      ]
     },
     "execution_count": 77,
     "metadata": {},
     "output_type": "execute_result"
    }
   ],
   "source": [
    "pd.crosstab(data['FAMI_ESTRATOVIVIENDA'], [data['ESTU_NSE_INDIVIDUAL']])/data.shape[0] * 100"
   ]
  },
  {
   "cell_type": "code",
   "execution_count": 78,
   "metadata": {},
   "outputs": [
    {
     "data": {
      "text/html": [
       "<div>\n",
       "<style scoped>\n",
       "    .dataframe tbody tr th:only-of-type {\n",
       "        vertical-align: middle;\n",
       "    }\n",
       "\n",
       "    .dataframe tbody tr th {\n",
       "        vertical-align: top;\n",
       "    }\n",
       "\n",
       "    .dataframe thead th {\n",
       "        text-align: right;\n",
       "    }\n",
       "</style>\n",
       "<table border=\"1\" class=\"dataframe\">\n",
       "  <thead>\n",
       "    <tr style=\"text-align: right;\">\n",
       "      <th>COLE_AREA_UBICACION</th>\n",
       "      <th>RURAL</th>\n",
       "      <th>URBANO</th>\n",
       "    </tr>\n",
       "    <tr>\n",
       "      <th>FAMI_ESTRATOVIVIENDA</th>\n",
       "      <th></th>\n",
       "      <th></th>\n",
       "    </tr>\n",
       "  </thead>\n",
       "  <tbody>\n",
       "    <tr>\n",
       "      <th>Estrato 1</th>\n",
       "      <td>7.472430</td>\n",
       "      <td>25.758702</td>\n",
       "    </tr>\n",
       "    <tr>\n",
       "      <th>Estrato 2</th>\n",
       "      <td>4.033806</td>\n",
       "      <td>32.595667</td>\n",
       "    </tr>\n",
       "    <tr>\n",
       "      <th>Estrato 3</th>\n",
       "      <td>1.472641</td>\n",
       "      <td>19.019540</td>\n",
       "    </tr>\n",
       "    <tr>\n",
       "      <th>Estrato 4</th>\n",
       "      <td>0.519443</td>\n",
       "      <td>4.185778</td>\n",
       "    </tr>\n",
       "    <tr>\n",
       "      <th>Estrato 5</th>\n",
       "      <td>0.226136</td>\n",
       "      <td>1.324707</td>\n",
       "    </tr>\n",
       "    <tr>\n",
       "      <th>Estrato 6</th>\n",
       "      <td>0.141729</td>\n",
       "      <td>0.603357</td>\n",
       "    </tr>\n",
       "    <tr>\n",
       "      <th>Sin Estrato</th>\n",
       "      <td>1.109799</td>\n",
       "      <td>1.536266</td>\n",
       "    </tr>\n",
       "  </tbody>\n",
       "</table>\n",
       "</div>"
      ],
      "text/plain": [
       "COLE_AREA_UBICACION      RURAL     URBANO\n",
       "FAMI_ESTRATOVIVIENDA                     \n",
       "Estrato 1             7.472430  25.758702\n",
       "Estrato 2             4.033806  32.595667\n",
       "Estrato 3             1.472641  19.019540\n",
       "Estrato 4             0.519443   4.185778\n",
       "Estrato 5             0.226136   1.324707\n",
       "Estrato 6             0.141729   0.603357\n",
       "Sin Estrato           1.109799   1.536266"
      ]
     },
     "execution_count": 78,
     "metadata": {},
     "output_type": "execute_result"
    }
   ],
   "source": [
    "pd.crosstab(data['FAMI_ESTRATOVIVIENDA'], [data['COLE_AREA_UBICACION']])/data.shape[0] * 100"
   ]
  },
  {
   "cell_type": "code",
   "execution_count": 84,
   "metadata": {},
   "outputs": [
    {
     "data": {
      "text/html": [
       "<div>\n",
       "<style scoped>\n",
       "    .dataframe tbody tr th:only-of-type {\n",
       "        vertical-align: middle;\n",
       "    }\n",
       "\n",
       "    .dataframe tbody tr th {\n",
       "        vertical-align: top;\n",
       "    }\n",
       "\n",
       "    .dataframe thead th {\n",
       "        text-align: right;\n",
       "    }\n",
       "</style>\n",
       "<table border=\"1\" class=\"dataframe\">\n",
       "  <thead>\n",
       "    <tr style=\"text-align: right;\">\n",
       "      <th>ESTU_FECHANACIMIENTO</th>\n",
       "      <th>14</th>\n",
       "      <th>15</th>\n",
       "      <th>16</th>\n",
       "      <th>17</th>\n",
       "      <th>18</th>\n",
       "      <th>19</th>\n",
       "      <th>20</th>\n",
       "      <th>21</th>\n",
       "      <th>22</th>\n",
       "    </tr>\n",
       "    <tr>\n",
       "      <th>FAMI_ESTRATOVIVIENDA</th>\n",
       "      <th></th>\n",
       "      <th></th>\n",
       "      <th></th>\n",
       "      <th></th>\n",
       "      <th></th>\n",
       "      <th></th>\n",
       "      <th></th>\n",
       "      <th></th>\n",
       "      <th></th>\n",
       "    </tr>\n",
       "  </thead>\n",
       "  <tbody>\n",
       "    <tr>\n",
       "      <th>Estrato 1</th>\n",
       "      <td>516</td>\n",
       "      <td>13173</td>\n",
       "      <td>113349</td>\n",
       "      <td>109769</td>\n",
       "      <td>60033</td>\n",
       "      <td>24672</td>\n",
       "      <td>9143</td>\n",
       "      <td>4201</td>\n",
       "      <td>2546</td>\n",
       "    </tr>\n",
       "    <tr>\n",
       "      <th>Estrato 2</th>\n",
       "      <td>454</td>\n",
       "      <td>13873</td>\n",
       "      <td>142786</td>\n",
       "      <td>122529</td>\n",
       "      <td>59571</td>\n",
       "      <td>21418</td>\n",
       "      <td>6612</td>\n",
       "      <td>2872</td>\n",
       "      <td>1791</td>\n",
       "    </tr>\n",
       "    <tr>\n",
       "      <th>Estrato 3</th>\n",
       "      <td>256</td>\n",
       "      <td>7260</td>\n",
       "      <td>83595</td>\n",
       "      <td>70324</td>\n",
       "      <td>31322</td>\n",
       "      <td>10358</td>\n",
       "      <td>2972</td>\n",
       "      <td>1222</td>\n",
       "      <td>752</td>\n",
       "    </tr>\n",
       "    <tr>\n",
       "      <th>Estrato 4</th>\n",
       "      <td>72</td>\n",
       "      <td>1523</td>\n",
       "      <td>19075</td>\n",
       "      <td>16726</td>\n",
       "      <td>6910</td>\n",
       "      <td>2248</td>\n",
       "      <td>705</td>\n",
       "      <td>306</td>\n",
       "      <td>208</td>\n",
       "    </tr>\n",
       "    <tr>\n",
       "      <th>Estrato 5</th>\n",
       "      <td>22</td>\n",
       "      <td>398</td>\n",
       "      <td>5299</td>\n",
       "      <td>5929</td>\n",
       "      <td>2665</td>\n",
       "      <td>893</td>\n",
       "      <td>315</td>\n",
       "      <td>139</td>\n",
       "      <td>86</td>\n",
       "    </tr>\n",
       "    <tr>\n",
       "      <th>Estrato 6</th>\n",
       "      <td>6</td>\n",
       "      <td>163</td>\n",
       "      <td>2081</td>\n",
       "      <td>2753</td>\n",
       "      <td>1596</td>\n",
       "      <td>566</td>\n",
       "      <td>232</td>\n",
       "      <td>117</td>\n",
       "      <td>51</td>\n",
       "    </tr>\n",
       "    <tr>\n",
       "      <th>Sin Estrato</th>\n",
       "      <td>50</td>\n",
       "      <td>912</td>\n",
       "      <td>6980</td>\n",
       "      <td>8201</td>\n",
       "      <td>5519</td>\n",
       "      <td>2874</td>\n",
       "      <td>1269</td>\n",
       "      <td>684</td>\n",
       "      <td>377</td>\n",
       "    </tr>\n",
       "  </tbody>\n",
       "</table>\n",
       "</div>"
      ],
      "text/plain": [
       "ESTU_FECHANACIMIENTO   14     15      16      17     18     19    20    21  \\\n",
       "FAMI_ESTRATOVIVIENDA                                                         \n",
       "Estrato 1             516  13173  113349  109769  60033  24672  9143  4201   \n",
       "Estrato 2             454  13873  142786  122529  59571  21418  6612  2872   \n",
       "Estrato 3             256   7260   83595   70324  31322  10358  2972  1222   \n",
       "Estrato 4              72   1523   19075   16726   6910   2248   705   306   \n",
       "Estrato 5              22    398    5299    5929   2665    893   315   139   \n",
       "Estrato 6               6    163    2081    2753   1596    566   232   117   \n",
       "Sin Estrato            50    912    6980    8201   5519   2874  1269   684   \n",
       "\n",
       "ESTU_FECHANACIMIENTO    22  \n",
       "FAMI_ESTRATOVIVIENDA        \n",
       "Estrato 1             2546  \n",
       "Estrato 2             1791  \n",
       "Estrato 3              752  \n",
       "Estrato 4              208  \n",
       "Estrato 5               86  \n",
       "Estrato 6               51  \n",
       "Sin Estrato            377  "
      ]
     },
     "execution_count": 84,
     "metadata": {},
     "output_type": "execute_result"
    }
   ],
   "source": [
    "pd.crosstab(data['FAMI_ESTRATOVIVIENDA'], [data['ESTU_FECHANACIMIENTO']])"
   ]
  },
  {
   "cell_type": "code",
   "execution_count": 83,
   "metadata": {},
   "outputs": [
    {
     "data": {
      "text/html": [
       "<div>\n",
       "<style scoped>\n",
       "    .dataframe tbody tr th:only-of-type {\n",
       "        vertical-align: middle;\n",
       "    }\n",
       "\n",
       "    .dataframe tbody tr th {\n",
       "        vertical-align: top;\n",
       "    }\n",
       "\n",
       "    .dataframe thead th {\n",
       "        text-align: right;\n",
       "    }\n",
       "</style>\n",
       "<table border=\"1\" class=\"dataframe\">\n",
       "  <thead>\n",
       "    <tr style=\"text-align: right;\">\n",
       "      <th>FAMI_NUMLIBROS</th>\n",
       "      <th>0 A 10 LIBROS</th>\n",
       "      <th>11 A 25 LIBROS</th>\n",
       "      <th>26 A 100 LIBROS</th>\n",
       "      <th>MÁS DE 100 LIBROS</th>\n",
       "    </tr>\n",
       "    <tr>\n",
       "      <th>FAMI_ESTRATOVIVIENDA</th>\n",
       "      <th></th>\n",
       "      <th></th>\n",
       "      <th></th>\n",
       "      <th></th>\n",
       "    </tr>\n",
       "  </thead>\n",
       "  <tbody>\n",
       "    <tr>\n",
       "      <th>Estrato 1</th>\n",
       "      <td>174122</td>\n",
       "      <td>100539</td>\n",
       "      <td>49364</td>\n",
       "      <td>13377</td>\n",
       "    </tr>\n",
       "    <tr>\n",
       "      <th>Estrato 2</th>\n",
       "      <td>143415</td>\n",
       "      <td>123032</td>\n",
       "      <td>81871</td>\n",
       "      <td>23588</td>\n",
       "    </tr>\n",
       "    <tr>\n",
       "      <th>Estrato 3</th>\n",
       "      <td>58979</td>\n",
       "      <td>66029</td>\n",
       "      <td>60554</td>\n",
       "      <td>22499</td>\n",
       "    </tr>\n",
       "    <tr>\n",
       "      <th>Estrato 4</th>\n",
       "      <td>10184</td>\n",
       "      <td>13067</td>\n",
       "      <td>15904</td>\n",
       "      <td>8618</td>\n",
       "    </tr>\n",
       "    <tr>\n",
       "      <th>Estrato 5</th>\n",
       "      <td>3348</td>\n",
       "      <td>3927</td>\n",
       "      <td>5226</td>\n",
       "      <td>3245</td>\n",
       "    </tr>\n",
       "    <tr>\n",
       "      <th>Estrato 6</th>\n",
       "      <td>1841</td>\n",
       "      <td>1856</td>\n",
       "      <td>2186</td>\n",
       "      <td>1682</td>\n",
       "    </tr>\n",
       "    <tr>\n",
       "      <th>Sin Estrato</th>\n",
       "      <td>14953</td>\n",
       "      <td>7052</td>\n",
       "      <td>3299</td>\n",
       "      <td>1562</td>\n",
       "    </tr>\n",
       "  </tbody>\n",
       "</table>\n",
       "</div>"
      ],
      "text/plain": [
       "FAMI_NUMLIBROS        0 A 10 LIBROS  11 A 25 LIBROS  26 A 100 LIBROS  \\\n",
       "FAMI_ESTRATOVIVIENDA                                                   \n",
       "Estrato 1                    174122          100539            49364   \n",
       "Estrato 2                    143415          123032            81871   \n",
       "Estrato 3                     58979           66029            60554   \n",
       "Estrato 4                     10184           13067            15904   \n",
       "Estrato 5                      3348            3927             5226   \n",
       "Estrato 6                      1841            1856             2186   \n",
       "Sin Estrato                   14953            7052             3299   \n",
       "\n",
       "FAMI_NUMLIBROS        MÁS DE 100 LIBROS  \n",
       "FAMI_ESTRATOVIVIENDA                     \n",
       "Estrato 1                         13377  \n",
       "Estrato 2                         23588  \n",
       "Estrato 3                         22499  \n",
       "Estrato 4                          8618  \n",
       "Estrato 5                          3245  \n",
       "Estrato 6                          1682  \n",
       "Sin Estrato                        1562  "
      ]
     },
     "execution_count": 83,
     "metadata": {},
     "output_type": "execute_result"
    }
   ],
   "source": [
    "pd.crosstab(data['FAMI_ESTRATOVIVIENDA'], [data['FAMI_NUMLIBROS']])"
   ]
  },
  {
   "cell_type": "markdown",
   "metadata": {},
   "source": [
    "## Diagramas de dispersion"
   ]
  },
  {
   "cell_type": "code",
   "execution_count": 95,
   "metadata": {},
   "outputs": [
    {
     "data": {
      "text/plain": [
       "Text(0, 0.5, 'ESTU_INSE_INDIVIDUAL')"
      ]
     },
     "execution_count": 95,
     "metadata": {},
     "output_type": "execute_result"
    },
    {
     "data": {
      "image/png": "[encoded data removed]",
      "text/plain": [
       "<Figure size 432x288 with 1 Axes>"
      ]
     },
     "metadata": {
      "needs_background": "light"
     },
     "output_type": "display_data"
    }
   ],
   "source": [
    "colors = {'M':'r', 'F':'b'}\n",
    "fig, ax = plt.subplots()\n",
    "for i in range(1000000):\n",
    "    if data['PUNT_GLOBAL'][i] > 420:\n",
    "        ax.scatter(data['PUNT_GLOBAL'][i], data['ESTU_INSE_INDIVIDUAL'][i],color=colors[data['ESTU_GENERO'][i]])\n",
    "ax.set_title('Iris Dataset')\n",
    "ax.set_xlabel('PUNT_GLOBAL')\n",
    "ax.set_ylabel('ESTU_INSE_INDIVIDUAL')"
   ]
  },
  {
   "cell_type": "code",
   "execution_count": 96,
   "metadata": {},
   "outputs": [
    {
     "data": {
      "text/plain": [
       "Text(0, 0.5, 'ESTU_INSE_INDIVIDUAL')"
      ]
     },
     "execution_count": 96,
     "metadata": {},
     "output_type": "execute_result"
    },
    {
     "data": {
      "image/png": "[encoded data removed]",
      "text/plain": [
       "<Figure size 432x288 with 1 Axes>"
      ]
     },
     "metadata": {
      "needs_background": "light"
     },
     "output_type": "display_data"
    }
   ],
   "source": [
    "colors = {'M':'r', 'F':'b'}\n",
    "fig, ax = plt.subplots()\n",
    "for i in range(1000000):\n",
    "    if data['PUNT_GLOBAL'][i] < 150:\n",
    "        ax.scatter(data['PUNT_GLOBAL'][i], data['ESTU_INSE_INDIVIDUAL'][i],color=colors[data['ESTU_GENERO'][i]])\n",
    "ax.set_title('Iris Dataset')\n",
    "ax.set_xlabel('PUNT_GLOBAL')\n",
    "ax.set_ylabel('ESTU_INSE_INDIVIDUAL')"
   ]
  },
  {
   "cell_type": "markdown",
   "metadata": {},
   "source": [
    "# Entropia"
   ]
  },
  {
   "cell_type": "code",
   "execution_count": null,
   "metadata": {},
   "outputs": [],
   "source": [
    "columnEval = [\"FAMI_TIENESERVICIOTV\",\"FAMI_TIENECOMPUTADOR\",\"FAMI_TIENEAUTOMOVIL\",\"FAMI_TIENEMOTOCICLETA\",\"FAMI_TIENECONSOLAVIDEOJUEGOS\"]"
   ]
  },
  {
   "cell_type": "code",
   "execution_count": null,
   "metadata": {},
   "outputs": [],
   "source": [
    "def EntropySum(n):\n",
    "    if n == 0:\n",
    "        return 0\n",
    "    if n == 1:\n",
    "        return 0\n",
    "    else:\n",
    "        return n*math.log(n,2)+(1-n)*math.log(1-n,2)\n",
    "\n",
    "def compare(i,j,colPass):\n",
    "    count = 0\n",
    "    for col in columnEval:\n",
    "        if data.iloc[i][col] == data.iloc[j][col]:\n",
    "            if col != colPass:\n",
    "                count+=1\n",
    "    return count"
   ]
  },
  {
   "cell_type": "code",
   "execution_count": null,
   "metadata": {},
   "outputs": [],
   "source": [
    "entropy = 0\n",
    "dataSize = 1000 #data.shape[0]\n",
    "for i in range(dataSize):\n",
    "    for j in range(i+1,dataSize):\n",
    "        result = compare(i, j, \"\")\n",
    "        entropy += EntropySum(result/data.shape[1])\n",
    "        #if j%100 == 0:\n",
    "        #    print(\"R\",i,j,\"=\",result)\n",
    "    print(\"R\",i,j,\"=\",entropy)\n",
    "print(\"EntropyTotal\",entropy*-1)"
   ]
  },
  {
   "cell_type": "code",
   "execution_count": null,
   "metadata": {},
   "outputs": [],
   "source": []
  }
 ],
 "metadata": {
  "kernelspec": {
   "display_name": "Python 3",
   "language": "python",
   "name": "python3"
  },
  "language_info": {
   "codemirror_mode": {
    "name": "ipython",
    "version": 3
   },
   "file_extension": ".py",
   "mimetype": "text/x-python",
   "name": "python",
   "nbconvert_exporter": "python",
   "pygments_lexer": "ipython3",
   "version": "3.7.3"
  }
 },
 "nbformat": 4,
 "nbformat_minor": 2
}
