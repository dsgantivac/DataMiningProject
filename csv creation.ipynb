{
 "cells": [
  {
   "cell_type": "code",
   "execution_count": 1,
   "metadata": {},
   "outputs": [],
   "source": [
    "import csv\n",
    "import matplotlib.pyplot as pl\n",
    "from datetime import datetime\n",
    "import pandas as pd\n",
    "import math\n",
    "from random import random"
   ]
  },
  {
   "cell_type": "code",
   "execution_count": 2,
   "metadata": {},
   "outputs": [],
   "source": [
    "path = \"./Datasets/Saber_Complete.csv\"\n",
    "finalPath = \"./Datasets/Saber_reducido.csv\""
   ]
  },
  {
   "cell_type": "code",
   "execution_count": 3,
   "metadata": {},
   "outputs": [],
   "source": [
    "def parse_date(arg):\n",
    "    if arg == \"\":\n",
    "        return None\n",
    "    else:\n",
    "        return datetime.strptime(arg, \"%d/%m/%Y\").date()\n",
    "    \n",
    "def date_sustract(date1,date2):\n",
    "    return math.floor((date2-date1).days/365)\n",
    "\n",
    "def get_age(date,period):\n",
    "    if(date == ''):\n",
    "        return 17\n",
    "    date1 = datetime.strptime(date, \"%d/%m/%Y\").date()\n",
    "    if period == '20182':\n",
    "        date2 = datetime.strptime(\"12/08/2018\", \"%d/%m/%Y\").date()\n",
    "    else:\n",
    "        date2 = datetime.strptime(\"27/08/2017\", \"%d/%m/%Y\").date()\n",
    "    age = date_sustract(date1,date2)\n",
    "    return age\n",
    "#29/05/1999\n",
    "\n",
    "def estrato_vivienda(vivienda):\n",
    "    if vivienda == '-':\n",
    "        randNumber = random()\n",
    "        if randNumber < 0.32451351:\n",
    "            return 'Estrato 1'\n",
    "        elif randNumber < 0.67821424:\n",
    "            return 'Estrato 2'\n",
    "        elif randNumber < 0.87842933:\n",
    "            return 'Estrato 3'\n",
    "        elif randNumber < 0.93197479:\n",
    "            return 'Estrato 4'\n",
    "        elif randNumber < 0.95632664:\n",
    "            return 'Estrato 5'\n",
    "        elif randNumber < 0.97322932:\n",
    "            return 'Estrato 6'\n",
    "        else:\n",
    "            return 'Sin Estrato'\n",
    "    else:\n",
    "        return vivienda\n",
    "        \n",
    "def transTiene(tv, compu, auto, moto, consola):\n",
    "    if tv == \"Si\":\n",
    "        cadena = '1'\n",
    "    else:\n",
    "        cadena = '0'\n",
    "    if compu == \"Si\":\n",
    "        cadena = cadena + '1'\n",
    "    else:\n",
    "        cadena = cadena + '0'\n",
    "    if auto == \"Si\":\n",
    "        cadena = cadena + '1'\n",
    "    else:\n",
    "        cadena = cadena + '0'\n",
    "    if moto == \"Si\":\n",
    "        cadena = cadena + '1'\n",
    "    else:\n",
    "        cadena = cadena + '0'\n",
    "    if consola == \"Si\":\n",
    "        cadena = cadena + '1'\n",
    "    else:\n",
    "        cadena = cadena + '0'\n",
    "    return cadena\n",
    "        \n"
   ]
  },
  {
   "cell_type": "code",
   "execution_count": 4,
   "metadata": {},
   "outputs": [
    {
     "name": "stdout",
     "output_type": "stream",
     "text": [
      "\"ESTU_GENERO\", \"ESTU_FECHANACIMIENTO\", \"PERIODO\", \"ESTU_DEPTO_RESIDE\", \"FAMI_ESTRATOVIVIENDA\", \"FAMI_PERSONASHOGAR\", \"FAMI_CUARTOSHOGAR\", \"FAMI_EDUCACIONPADRE\", \"FAMI_EDUCACIONMADRE\", \"FAMI_TRABAJOLABORPADRE\", \"FAMI_TRABAJOLABORMADRE\", \"FAMI_TIENESERVICIOTV\", \"FAMI_TIENECOMPUTADOR\", \"FAMI_TIENEAUTOMOVIL\", \"FAMI_TIENEMOTOCICLETA\", \"FAMI_TIENECONSOLAVIDEOJUEGOS\", \"FAMI_NUMLIBROS\", \"FAMI_COMELECHEDERIVADOS\", \"FAMI_COMECARNEPESCADOHUEVO\", \"FAMI_COMECEREALFRUTOSLEGUMBRE\", \"ESTU_DEDICACIONLECTURADIARIA\", \"ESTU_DEDICACIONINTERNET\", \"COLE_NOMBRE_ESTABLECIMIENTO\", \"COLE_NATURALEZA\", \"COLE_CARACTER\", \"COLE_AREA_UBICACION\", \"COLE_JORNADA\", \"PUNT_LECTURA_CRITICA\", \"PUNT_MATEMATICAS\", \"PUNT_C_NATURALES\", \"PUNT_SOCIALES_CIUDADANAS\", \"PUNT_INGLES\", \"PUNT_GLOBAL\", \"ESTU_NSE_ESTABLECIMIENTO\", \"ESTU_INSE_INDIVIDUAL\", \"ESTU_NSE_INDIVIDUAL\", "
     ]
    }
   ],
   "source": [
    "tmp1 = ['ESTU_TIPODOCUMENTO', 'ESTU_NACIONALIDAD', 'ESTU_GENERO', 'ESTU_FECHANACIMIENTO', 'PERIODO', 'ESTU_CONSECUTIVO', 'ESTU_ESTUDIANTE', 'ESTU_PAIS_RESIDE', 'ESTU_TIENEETNIA', 'ESTU_ETNIA', 'ESTU_LIMITA_MOTRIZ', 'ESTU_DEPTO_RESIDE', 'ESTU_COD_RESIDE_DEPTO', 'ESTU_MCPIO_RESIDE', 'ESTU_COD_RESIDE_MCPIO', 'FAMI_ESTRATOVIVIENDA', 'FAMI_PERSONASHOGAR', 'FAMI_CUARTOSHOGAR', 'FAMI_EDUCACIONPADRE', 'FAMI_EDUCACIONMADRE', 'FAMI_TRABAJOLABORPADRE', 'FAMI_TRABAJOLABORMADRE', 'FAMI_TIENESERVICIOTV', 'FAMI_TIENECOMPUTADOR', 'FAMI_TIENELAVADORA', 'FAMI_TIENEHORNOMICROOGAS', 'FAMI_TIENEAUTOMOVIL', 'FAMI_TIENEMOTOCICLETA', 'FAMI_TIENECONSOLAVIDEOJUEGOS', 'FAMI_NUMLIBROS', 'FAMI_COMELECHEDERIVADOS', 'FAMI_COMECARNEPESCADOHUEVO', 'FAMI_COMECEREALFRUTOSLEGUMBRE', 'FAMI_SITUACIONECONOMICA', 'ESTU_DEDICACIONLECTURADIARIA', 'ESTU_DEDICACIONINTERNET', 'ESTU_HORASSEMANATRABAJA', 'ESTU_TIPOREMUNERACION', 'COLE_CODIGO_ICFES', 'COLE_COD_DANE_ESTABLECIMIENTO', 'COLE_NOMBRE_ESTABLECIMIENTO', 'COLE_GENERO', 'COLE_NATURALEZA', 'COLE_CALENDARIO', 'COLE_BILINGUE', 'COLE_CARACTER', 'COLE_COD_DANE_SEDE', 'COLE_NOMBRE_SEDE', 'COLE_SEDE_PRINCIPAL', 'COLE_AREA_UBICACION', 'COLE_JORNADA', 'COLE_COD_MCPIO_UBICACION', 'COLE_MCPIO_UBICACION', 'COLE_COD_DEPTO_UBICACION', 'COLE_DEPTO_UBICACION', 'ESTU_PRIVADO_LIBERTAD', 'ESTU_COD_MCPIO_PRESENTACION', 'ESTU_MCPIO_PRESENTACION', 'ESTU_DEPTO_PRESENTACION', 'ESTU_COD_DEPTO_PRESENTACION', 'PUNT_LECTURA_CRITICA', 'PERCENTIL_LECTURA_CRITICA', 'DESEMP_LECTURA_CRITICA', 'PUNT_MATEMATICAS', 'PERCENTIL_MATEMATICAS', 'DESEMP_MATEMATICAS', 'PUNT_C_NATURALES', 'PERCENTIL_C_NATURALES', 'DESEMP_C_NATURALES', 'PUNT_SOCIALES_CIUDADANAS', 'PERCENTIL_SOCIALES_CIUDADANAS', 'DESEMP_SOCIALES_CIUDADANAS', 'PUNT_INGLES', 'PERCENTIL_INGLES', 'DESEMP_INGLES', 'PUNT_GLOBAL', 'PERCENTIL_GLOBAL', 'ESTU_NSE_ESTABLECIMIENTO', 'ESTU_INSE_INDIVIDUAL', 'ESTU_NSE_INDIVIDUAL']\n",
    "tmp2 = ['ESTU_TIPODOCUMENTO', 'ESTU_NACIONALIDAD', 'ESTU_CONSECUTIVO', 'ESTU_ESTUDIANTE', 'ESTU_PAIS_RESIDE', 'ESTU_COD_RESIDE_DEPTO', 'ESTU_COD_RESIDE_MCPIO', 'COLE_CODIGO_ICFES', 'COLE_COD_DANE_ESTABLECIMIENTO', 'COLE_GENERO', 'COLE_CALENDARIO', 'COLE_COD_DANE_SEDE', 'COLE_NOMBRE_SEDE', 'COLE_SEDE_PRINCIPAL', 'COLE_COD_MCPIO_UBICACION', 'COLE_COD_DEPTO_UBICACION', 'ESTU_COD_MCPIO_PRESENTACION', 'ESTU_MCPIO_PRESENTACION', 'ESTU_DEPTO_PRESENTACION', 'ESTU_COD_DEPTO_PRESENTACION', 'DESEMP_LECTURA_CRITICA', 'DESEMP_MATEMATICAS', 'DESEMP_C_NATURALES', 'DESEMP_SOCIALES_CIUDADANAS', 'DESEMP_INGLES',\"PERCENTIL_LECTURA_CRITICA\",\"PERCENTIL_MATEMATICAS\",\"PERCENTIL_C_NATURALES\",\"PERCENTIL_SOCIALES_CIUDADANAS\",\"PERCENTIL_INGLES\",\"PERCENTIL_GLOBAL\",\"FAMI_SITUACIONECONOMICA\"]\n",
    "tmp3 = [\"ESTU_TIENEETNIA\",\"ESTU_ETNIA\",\"ESTU_LIMITA_MOTRIZ\",\"ESTU_MCPIO_RESIDE\",\"ESTU_HORASSEMANATRABAJA\",\"ESTU_TIPOREMUNERACION\",\"COLE_BILINGUE\",\"COLE_MCPIO_UBICACION\",\"COLE_DEPTO_UBICACION\",\"ESTU_PRIVADO_LIBERTAD\",\"FAMI_TIENELAVADORA\",\"FAMI_TIENEHORNOMICROOGAS\"]\n",
    "for attr in tmp1:\n",
    "    if attr not in tmp2 and attr not in tmp3:\n",
    "        print(\"\\\"\"+attr+\"\\\"\",end=\", \")"
   ]
  },
  {
   "cell_type": "code",
   "execution_count": 5,
   "metadata": {},
   "outputs": [
    {
     "name": "stdout",
     "output_type": "stream",
     "text": [
      "files readed\n"
     ]
    }
   ],
   "source": [
    "dataList = []\n",
    "\n",
    "#Reading files\n",
    "\n",
    "with open(path, encoding=\"utf-8\") as file:\n",
    "    dataFile = csv.DictReader(file)\n",
    "    print(\"files readed\")\n",
    "    for data in dataFile:\n",
    "        dataList.append(data)"
   ]
  },
  {
   "cell_type": "code",
   "execution_count": 6,
   "metadata": {},
   "outputs": [],
   "source": [
    "dataList[0]\n",
    "prueba = dataList[:5]\n",
    "prueba2 = dataList[600000]"
   ]
  },
  {
   "cell_type": "code",
   "execution_count": 7,
   "metadata": {},
   "outputs": [
    {
     "name": "stdout",
     "output_type": "stream",
     "text": [
      "1096096\n",
      "['Estrato 2', 'Estrato 1', 'Estrato 3', '-', 'Sin Estrato', 'Estrato 6', 'Estrato 4', 'Estrato 5']\n"
     ]
    }
   ],
   "source": [
    "arr = []\n",
    "print(len(dataList))\n",
    "for date in dataList:\n",
    "    tmp = date[\"FAMI_ESTRATOVIVIENDA\"]\n",
    "    #print(tmp)\n",
    "    if tmp not in arr:\n",
    "        #print(tmp)\n",
    "        arr.append(tmp)\n",
    "print(arr)"
   ]
  },
  {
   "cell_type": "code",
   "execution_count": 8,
   "metadata": {},
   "outputs": [
    {
     "name": "stdout",
     "output_type": "stream",
     "text": [
      "8\n"
     ]
    }
   ],
   "source": [
    "arr.sort()\n",
    "print(len(arr))"
   ]
  },
  {
   "cell_type": "code",
   "execution_count": 9,
   "metadata": {},
   "outputs": [
    {
     "data": {
      "text/plain": [
       "'20182'"
      ]
     },
     "execution_count": 9,
     "metadata": {},
     "output_type": "execute_result"
    }
   ],
   "source": [
    "prueba[0][\"PERIODO\"]"
   ]
  },
  {
   "cell_type": "code",
   "execution_count": 10,
   "metadata": {},
   "outputs": [
    {
     "data": {
      "text/plain": [
       "'10/06/2002'"
      ]
     },
     "execution_count": 10,
     "metadata": {},
     "output_type": "execute_result"
    }
   ],
   "source": [
    "prueba[0][\"ESTU_FECHANACIMIENTO\"]"
   ]
  },
  {
   "cell_type": "code",
   "execution_count": 11,
   "metadata": {},
   "outputs": [
    {
     "data": {
      "text/plain": [
       "datetime.date(2002, 6, 10)"
      ]
     },
     "execution_count": 11,
     "metadata": {},
     "output_type": "execute_result"
    }
   ],
   "source": [
    "dateTmp = parse_date(prueba[0][\"ESTU_FECHANACIMIENTO\"])\n",
    "dateTmp"
   ]
  },
  {
   "cell_type": "code",
   "execution_count": 12,
   "metadata": {},
   "outputs": [
    {
     "data": {
      "text/plain": [
       "16"
      ]
     },
     "execution_count": 12,
     "metadata": {},
     "output_type": "execute_result"
    }
   ],
   "source": [
    "get_age(prueba[0][\"ESTU_FECHANACIMIENTO\"],prueba[0][\"PERIODO\"])\n"
   ]
  },
  {
   "cell_type": "code",
   "execution_count": 13,
   "metadata": {},
   "outputs": [
    {
     "data": {
      "text/plain": [
       "18"
      ]
     },
     "execution_count": 13,
     "metadata": {},
     "output_type": "execute_result"
    }
   ],
   "source": [
    "get_age(prueba2[\"ESTU_FECHANACIMIENTO\"],prueba2[\"PERIODO\"])"
   ]
  },
  {
   "cell_type": "code",
   "execution_count": 14,
   "metadata": {},
   "outputs": [
    {
     "data": {
      "text/plain": [
       "OrderedDict([('ESTU_TIPODOCUMENTO', 'TI'),\n",
       "             ('ESTU_NACIONALIDAD', 'COLOMBIA'),\n",
       "             ('ESTU_GENERO', 'F'),\n",
       "             ('ESTU_FECHANACIMIENTO', '29/05/1999'),\n",
       "             ('PERIODO', '20172'),\n",
       "             ('ESTU_CONSECUTIVO', 'SB11201720574536'),\n",
       "             ('ESTU_ESTUDIANTE', 'ESTUDIANTE'),\n",
       "             ('ESTU_PAIS_RESIDE', 'COLOMBIA'),\n",
       "             ('ESTU_TIENEETNIA', 'No'),\n",
       "             ('ESTU_ETNIA', '-'),\n",
       "             ('ESTU_LIMITA_MOTRIZ', '-'),\n",
       "             ('ESTU_DEPTO_RESIDE', 'BOGOTA'),\n",
       "             ('ESTU_COD_RESIDE_DEPTO', '11'),\n",
       "             ('ESTU_MCPIO_RESIDE', 'BOGOTÁ D.C.'),\n",
       "             ('ESTU_COD_RESIDE_MCPIO', '11001'),\n",
       "             ('FAMI_ESTRATOVIVIENDA', 'Estrato 3'),\n",
       "             ('FAMI_PERSONASHOGAR', '1 a 2'),\n",
       "             ('FAMI_CUARTOSHOGAR', 'Tres'),\n",
       "             ('FAMI_EDUCACIONPADRE', 'Secundaria (Bachillerato) completa'),\n",
       "             ('FAMI_EDUCACIONMADRE', 'Secundaria (Bachillerato) completa'),\n",
       "             ('FAMI_TRABAJOLABORPADRE', '-'),\n",
       "             ('FAMI_TRABAJOLABORMADRE',\n",
       "              'Trabaja como personal de limpieza, mantenimiento, seguridad o construcción'),\n",
       "             ('FAMI_TIENESERVICIOTV', 'Si'),\n",
       "             ('FAMI_TIENECOMPUTADOR', 'No'),\n",
       "             ('FAMI_TIENELAVADORA', 'Si'),\n",
       "             ('FAMI_TIENEHORNOMICROOGAS', 'No'),\n",
       "             ('FAMI_TIENEAUTOMOVIL', 'No'),\n",
       "             ('FAMI_TIENEMOTOCICLETA', 'No'),\n",
       "             ('FAMI_TIENECONSOLAVIDEOJUEGOS', 'No'),\n",
       "             ('FAMI_NUMLIBROS', '0 A 10 LIBROS'),\n",
       "             ('FAMI_COMELECHEDERIVADOS', 'Nunca o rara vez comemos eso'),\n",
       "             ('FAMI_COMECARNEPESCADOHUEVO', '1 o 2 veces por semana'),\n",
       "             ('FAMI_COMECEREALFRUTOSLEGUMBRE', 'Nunca o rara vez comemos eso'),\n",
       "             ('FAMI_SITUACIONECONOMICA', 'Igual'),\n",
       "             ('ESTU_DEDICACIONLECTURADIARIA', '30 minutos o menos'),\n",
       "             ('ESTU_DEDICACIONINTERNET', 'Entre 30 y 60 minutos'),\n",
       "             ('ESTU_HORASSEMANATRABAJA', 'Menos de 10 horas'),\n",
       "             ('ESTU_TIPOREMUNERACION', 'Si, en efectivo'),\n",
       "             ('COLE_CODIGO_ICFES', '709295'),\n",
       "             ('COLE_COD_DANE_ESTABLECIMIENTO', '111001102199'),\n",
       "             ('COLE_NOMBRE_ESTABLECIMIENTO', 'COLEGIO PABLO NERUDA  (IED)'),\n",
       "             ('COLE_GENERO', 'MIXTO'),\n",
       "             ('COLE_NATURALEZA', 'OFICIAL'),\n",
       "             ('COLE_CALENDARIO', 'A'),\n",
       "             ('COLE_BILINGUE', 'N'),\n",
       "             ('COLE_CARACTER', 'ACADÉMICO'),\n",
       "             ('COLE_COD_DANE_SEDE', '111001102199'),\n",
       "             ('COLE_NOMBRE_SEDE', 'CENT EDUC DIST PABLO NERUDA'),\n",
       "             ('COLE_SEDE_PRINCIPAL', 'S'),\n",
       "             ('COLE_AREA_UBICACION', 'URBANO'),\n",
       "             ('COLE_JORNADA', 'UNICA'),\n",
       "             ('COLE_COD_MCPIO_UBICACION', '11001'),\n",
       "             ('COLE_MCPIO_UBICACION', 'BOGOTÁ D.C.'),\n",
       "             ('COLE_COD_DEPTO_UBICACION', '11'),\n",
       "             ('COLE_DEPTO_UBICACION', 'BOGOTA'),\n",
       "             ('ESTU_PRIVADO_LIBERTAD', 'N'),\n",
       "             ('ESTU_COD_MCPIO_PRESENTACION', '11001'),\n",
       "             ('ESTU_MCPIO_PRESENTACION', 'BOGOTÁ D.C.'),\n",
       "             ('ESTU_DEPTO_PRESENTACION', 'BOGOTA'),\n",
       "             ('ESTU_COD_DEPTO_PRESENTACION', '11'),\n",
       "             ('PUNT_LECTURA_CRITICA', '53'),\n",
       "             ('PERCENTIL_LECTURA_CRITICA', '50'),\n",
       "             ('DESEMP_LECTURA_CRITICA', '3'),\n",
       "             ('PUNT_MATEMATICAS', '60'),\n",
       "             ('PERCENTIL_MATEMATICAS', '79'),\n",
       "             ('DESEMP_MATEMATICAS', '3'),\n",
       "             ('PUNT_C_NATURALES', '53'),\n",
       "             ('PERCENTIL_C_NATURALES', '58'),\n",
       "             ('DESEMP_C_NATURALES', '2'),\n",
       "             ('PUNT_SOCIALES_CIUDADANAS', '43'),\n",
       "             ('PERCENTIL_SOCIALES_CIUDADANAS', '29'),\n",
       "             ('DESEMP_SOCIALES_CIUDADANAS', '2'),\n",
       "             ('PUNT_INGLES', '38'),\n",
       "             ('PERCENTIL_INGLES', '15'),\n",
       "             ('DESEMP_INGLES', 'A-'),\n",
       "             ('PUNT_GLOBAL', '256'),\n",
       "             ('PERCENTIL_GLOBAL', '52'),\n",
       "             ('ESTU_NSE_ESTABLECIMIENTO', '3'),\n",
       "             ('ESTU_INSE_INDIVIDUAL', '45.483883'),\n",
       "             ('ESTU_NSE_INDIVIDUAL', 'NSE2')])"
      ]
     },
     "execution_count": 14,
     "metadata": {},
     "output_type": "execute_result"
    }
   ],
   "source": [
    "prueba2"
   ]
  },
  {
   "cell_type": "code",
   "execution_count": 15,
   "metadata": {},
   "outputs": [],
   "source": [
    "finalKeys = [\"ESTU_GENERO\", \"ESTU_FECHANACIMIENTO\", \"PERIODO\", \"ESTU_DEPTO_RESIDE\", \"FAMI_ESTRATOVIVIENDA\", \"FAMI_PERSONASHOGAR\", \"FAMI_CUARTOSHOGAR\", \"FAMI_EDUCACIONPADRE\", \"FAMI_EDUCACIONMADRE\", \"FAMI_TRABAJOLABORPADRE\", \"FAMI_TRABAJOLABORMADRE\", \"FAMI_TIENESERVICIOTV\", \"FAMI_TIENECOMPUTADOR\", \"FAMI_TIENEAUTOMOVIL\", \"FAMI_TIENEMOTOCICLETA\", \"FAMI_TIENECONSOLAVIDEOJUEGOS\", \"FAMI_NUMLIBROS\", \"FAMI_COMELECHEDERIVADOS\", \"FAMI_COMECARNEPESCADOHUEVO\", \"FAMI_COMECEREALFRUTOSLEGUMBRE\", \"ESTU_DEDICACIONLECTURADIARIA\", \"ESTU_DEDICACIONINTERNET\", \"COLE_NOMBRE_ESTABLECIMIENTO\", \"COLE_NATURALEZA\", \"COLE_CARACTER\", \"COLE_AREA_UBICACION\", \"COLE_JORNADA\", \"PUNT_LECTURA_CRITICA\", \"PUNT_MATEMATICAS\", \"PUNT_C_NATURALES\", \"PUNT_SOCIALES_CIUDADANAS\", \"PUNT_INGLES\", \"PUNT_GLOBAL\", \"ESTU_NSE_ESTABLECIMIENTO\", \"ESTU_INSE_INDIVIDUAL\", \"ESTU_NSE_INDIVIDUAL\"]"
   ]
  },
  {
   "cell_type": "code",
   "execution_count": 16,
   "metadata": {},
   "outputs": [
    {
     "data": {
      "text/plain": [
       "36"
      ]
     },
     "execution_count": 16,
     "metadata": {},
     "output_type": "execute_result"
    }
   ],
   "source": [
    "len(finalKeys)"
   ]
  },
  {
   "cell_type": "code",
   "execution_count": 18,
   "metadata": {},
   "outputs": [
    {
     "name": "stdout",
     "output_type": "stream",
     "text": [
      "['ESTU_GENERO', 'ESTU_FECHANACIMIENTO', 'PERIODO', 'ESTU_DEPTO_RESIDE', 'FAMI_ESTRATOVIVIENDA', 'FAMI_PERSONASHOGAR', 'FAMI_CUARTOSHOGAR', 'FAMI_EDUCACIONPADRE', 'FAMI_EDUCACIONMADRE', 'FAMI_TRABAJOLABORPADRE', 'FAMI_TRABAJOLABORMADRE', 'FAMI_TIENESERVICIOTV', 'FAMI_TIENECOMPUTADOR', 'FAMI_TIENEAUTOMOVIL', 'FAMI_TIENEMOTOCICLETA', 'FAMI_TIENECONSOLAVIDEOJUEGOS', 'FAMI_NUMLIBROS', 'FAMI_COMELECHEDERIVADOS', 'FAMI_COMECARNEPESCADOHUEVO', 'FAMI_COMECEREALFRUTOSLEGUMBRE', 'ESTU_DEDICACIONLECTURADIARIA', 'ESTU_DEDICACIONINTERNET', 'COLE_NOMBRE_ESTABLECIMIENTO', 'COLE_NATURALEZA', 'COLE_CARACTER', 'COLE_AREA_UBICACION', 'COLE_JORNADA', 'PUNT_LECTURA_CRITICA', 'PUNT_MATEMATICAS', 'PUNT_C_NATURALES', 'PUNT_SOCIALES_CIUDADANAS', 'PUNT_INGLES', 'PUNT_GLOBAL', 'ESTU_NSE_ESTABLECIMIENTO', 'ESTU_INSE_INDIVIDUAL', 'ESTU_NSE_INDIVIDUAL']\n"
     ]
    }
   ],
   "source": [
    "print(finalKeys)\n",
    "with open(finalPath, 'a', encoding=\"utf-8\", newline =\"\") as writeFile:\n",
    "    writer = csv.DictWriter(writeFile, fieldnames = finalKeys)\n",
    "    writer.writeheader()\n",
    "    for data in dataList:\n",
    "        tmpDict = {}\n",
    "        for key in finalKeys:\n",
    "            tmpDict[key] = data[key]\n",
    "        tmpDict[\"ESTU_FECHANACIMIENTO\"] = get_age(data[\"ESTU_FECHANACIMIENTO\"],data[\"PERIODO\"])\n",
    "        tmpDict[\"FAMI_ESTRATOVIVIENDA\"] = estrato_vivienda(data[\"FAMI_ESTRATOVIVIENDA\"])\n",
    "        \n",
    "        if tmpDict[\"ESTU_FECHANACIMIENTO\"] >=14 and tmpDict[\"ESTU_FECHANACIMIENTO\"] <= 22 :  \n",
    "            writer.writerow(tmpDict)"
   ]
  },
  {
   "cell_type": "markdown",
   "metadata": {},
   "source": [
    "# Entropia"
   ]
  },
  {
   "cell_type": "code",
   "execution_count": 98,
   "metadata": {},
   "outputs": [],
   "source": [
    "def EntropySum(n):\n",
    "    if n == 0:\n",
    "        return 0\n",
    "    if n == 1:\n",
    "        return 0\n",
    "    else:\n",
    "        return n*math.log(n,2)+(1-n)*math.log(1-n,2)\n",
    "\n",
    "def compare(i,j,colPass):\n",
    "    count = 0\n",
    "    for col in finalKeys:\n",
    "        if data.iloc[i][col] == data.iloc[j][col]:\n",
    "            if col != colPass:\n",
    "                count+=1\n",
    "    return count"
   ]
  },
  {
   "cell_type": "code",
   "execution_count": 99,
   "metadata": {},
   "outputs": [
    {
     "ename": "AttributeError",
     "evalue": "'collections.OrderedDict' object has no attribute 'iloc'",
     "output_type": "error",
     "traceback": [
      "\u001b[1;31m---------------------------------------------------------------------------\u001b[0m",
      "\u001b[1;31mAttributeError\u001b[0m                            Traceback (most recent call last)",
      "\u001b[1;32m<ipython-input-99-bc5807afbc12>\u001b[0m in \u001b[0;36m<module>\u001b[1;34m\u001b[0m\n\u001b[0;32m      3\u001b[0m \u001b[1;32mfor\u001b[0m \u001b[0mi\u001b[0m \u001b[1;32min\u001b[0m \u001b[0mrange\u001b[0m\u001b[1;33m(\u001b[0m\u001b[0mdataSize\u001b[0m\u001b[1;33m)\u001b[0m\u001b[1;33m:\u001b[0m\u001b[1;33m\u001b[0m\u001b[1;33m\u001b[0m\u001b[0m\n\u001b[0;32m      4\u001b[0m     \u001b[1;32mfor\u001b[0m \u001b[0mj\u001b[0m \u001b[1;32min\u001b[0m \u001b[0mrange\u001b[0m\u001b[1;33m(\u001b[0m\u001b[0mi\u001b[0m\u001b[1;33m+\u001b[0m\u001b[1;36m1\u001b[0m\u001b[1;33m,\u001b[0m\u001b[0mdataSize\u001b[0m\u001b[1;33m)\u001b[0m\u001b[1;33m:\u001b[0m\u001b[1;33m\u001b[0m\u001b[1;33m\u001b[0m\u001b[0m\n\u001b[1;32m----> 5\u001b[1;33m         \u001b[0mresult\u001b[0m \u001b[1;33m=\u001b[0m \u001b[0mcompare\u001b[0m\u001b[1;33m(\u001b[0m\u001b[0mi\u001b[0m\u001b[1;33m,\u001b[0m \u001b[0mj\u001b[0m\u001b[1;33m,\u001b[0m \u001b[1;34m\"\"\u001b[0m\u001b[1;33m)\u001b[0m\u001b[1;33m\u001b[0m\u001b[1;33m\u001b[0m\u001b[0m\n\u001b[0m\u001b[0;32m      6\u001b[0m         \u001b[0mentropy\u001b[0m \u001b[1;33m+=\u001b[0m \u001b[0mEntropySum\u001b[0m\u001b[1;33m(\u001b[0m\u001b[0mresult\u001b[0m\u001b[1;33m/\u001b[0m\u001b[0mdata\u001b[0m\u001b[1;33m.\u001b[0m\u001b[0mshape\u001b[0m\u001b[1;33m[\u001b[0m\u001b[1;36m1\u001b[0m\u001b[1;33m]\u001b[0m\u001b[1;33m)\u001b[0m\u001b[1;33m\u001b[0m\u001b[1;33m\u001b[0m\u001b[0m\n\u001b[0;32m      7\u001b[0m         \u001b[1;31m#if j%100 == 0:\u001b[0m\u001b[1;33m\u001b[0m\u001b[1;33m\u001b[0m\u001b[1;33m\u001b[0m\u001b[0m\n",
      "\u001b[1;32m<ipython-input-98-c99699669252>\u001b[0m in \u001b[0;36mcompare\u001b[1;34m(i, j, colPass)\u001b[0m\n\u001b[0;32m     10\u001b[0m     \u001b[0mcount\u001b[0m \u001b[1;33m=\u001b[0m \u001b[1;36m0\u001b[0m\u001b[1;33m\u001b[0m\u001b[1;33m\u001b[0m\u001b[0m\n\u001b[0;32m     11\u001b[0m     \u001b[1;32mfor\u001b[0m \u001b[0mcol\u001b[0m \u001b[1;32min\u001b[0m \u001b[0mfinalKeys\u001b[0m\u001b[1;33m:\u001b[0m\u001b[1;33m\u001b[0m\u001b[1;33m\u001b[0m\u001b[0m\n\u001b[1;32m---> 12\u001b[1;33m         \u001b[1;32mif\u001b[0m \u001b[0mdata\u001b[0m\u001b[1;33m.\u001b[0m\u001b[0miloc\u001b[0m\u001b[1;33m[\u001b[0m\u001b[0mi\u001b[0m\u001b[1;33m]\u001b[0m\u001b[1;33m[\u001b[0m\u001b[0mcol\u001b[0m\u001b[1;33m]\u001b[0m \u001b[1;33m==\u001b[0m \u001b[0mdata\u001b[0m\u001b[1;33m.\u001b[0m\u001b[0miloc\u001b[0m\u001b[1;33m[\u001b[0m\u001b[0mj\u001b[0m\u001b[1;33m]\u001b[0m\u001b[1;33m[\u001b[0m\u001b[0mcol\u001b[0m\u001b[1;33m]\u001b[0m\u001b[1;33m:\u001b[0m\u001b[1;33m\u001b[0m\u001b[1;33m\u001b[0m\u001b[0m\n\u001b[0m\u001b[0;32m     13\u001b[0m             \u001b[1;32mif\u001b[0m \u001b[0mcol\u001b[0m \u001b[1;33m!=\u001b[0m \u001b[0mcolPass\u001b[0m\u001b[1;33m:\u001b[0m\u001b[1;33m\u001b[0m\u001b[1;33m\u001b[0m\u001b[0m\n\u001b[0;32m     14\u001b[0m                 \u001b[0mcount\u001b[0m\u001b[1;33m+=\u001b[0m\u001b[1;36m1\u001b[0m\u001b[1;33m\u001b[0m\u001b[1;33m\u001b[0m\u001b[0m\n",
      "\u001b[1;31mAttributeError\u001b[0m: 'collections.OrderedDict' object has no attribute 'iloc'"
     ]
    }
   ],
   "source": [
    "entropy = 0\n",
    "dataSize = 1000 #data.shape[0]\n",
    "for i in range(dataSize):\n",
    "    for j in range(i+1,dataSize):\n",
    "        result = compare(i, j, \"\")\n",
    "        entropy += EntropySum(result/data.shape[1])\n",
    "        #if j%100 == 0:\n",
    "        #    print(\"R\",i,j,\"=\",result)\n",
    "    print(\"R\",i,j,\"=\",entropy)\n",
    "print(\"EntropyTotal\",entropy*-1)"
   ]
  },
  {
   "cell_type": "code",
   "execution_count": null,
   "metadata": {},
   "outputs": [],
   "source": []
  }
 ],
 "metadata": {
  "kernelspec": {
   "display_name": "Python 3",
   "language": "python",
   "name": "python3"
  },
  "language_info": {
   "codemirror_mode": {
    "name": "ipython",
    "version": 3
   },
   "file_extension": ".py",
   "mimetype": "text/x-python",
   "name": "python",
   "nbconvert_exporter": "python",
   "pygments_lexer": "ipython3",
   "version": "3.7.3"
  }
 },
 "nbformat": 4,
 "nbformat_minor": 2
}
