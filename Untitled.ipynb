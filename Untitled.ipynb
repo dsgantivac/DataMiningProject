{
 "cells": [
  {
   "cell_type": "code",
   "execution_count": 8,
   "metadata": {},
   "outputs": [],
   "source": [
    "import csv\n",
    "import matplotlib.pyplot as pl\n",
    "from collections import Counter\n",
    "#datasets\n",
    "# https://www.datos.gov.co/Educaci-n/Saber-11-2017-2/s6qh-49yh \n",
    "# https://www.datos.gov.co/Educaci-n/Saber-11-2018-2/m2nt-jw2h\n",
    "\n",
    "path2018 = \"./Datasets/Saber_11__2018-2.csv\"\n",
    "path2017 = \"./Datasets/Saber_11__2017-2.csv\"\n",
    "pathComplete = \"./Datasets/Saber_Complete.csv\""
   ]
  },
  {
   "cell_type": "code",
   "execution_count": 2,
   "metadata": {},
   "outputs": [],
   "source": [
    "commonKeys = ['ESTU_TIPODOCUMENTO', 'ESTU_NACIONALIDAD', 'ESTU_GENERO', 'ESTU_FECHANACIMIENTO', 'PERIODO', 'ESTU_CONSECUTIVO', 'ESTU_ESTUDIANTE', 'ESTU_PAIS_RESIDE', 'ESTU_TIENEETNIA', 'ESTU_ETNIA', 'ESTU_LIMITA_MOTRIZ', 'ESTU_DEPTO_RESIDE', 'ESTU_COD_RESIDE_DEPTO', 'ESTU_MCPIO_RESIDE', 'ESTU_COD_RESIDE_MCPIO', 'FAMI_ESTRATOVIVIENDA', 'FAMI_PERSONASHOGAR', 'FAMI_CUARTOSHOGAR', 'FAMI_EDUCACIONPADRE', 'FAMI_EDUCACIONMADRE', 'FAMI_TRABAJOLABORPADRE', 'FAMI_TRABAJOLABORMADRE', 'FAMI_TIENESERVICIOTV', 'FAMI_TIENECOMPUTADOR', 'FAMI_TIENELAVADORA', 'FAMI_TIENEHORNOMICROOGAS', 'FAMI_TIENEAUTOMOVIL', 'FAMI_TIENEMOTOCICLETA', 'FAMI_TIENECONSOLAVIDEOJUEGOS', 'FAMI_NUMLIBROS', 'FAMI_COMELECHEDERIVADOS', 'FAMI_COMECARNEPESCADOHUEVO', 'FAMI_COMECEREALFRUTOSLEGUMBRE', 'FAMI_SITUACIONECONOMICA', 'ESTU_DEDICACIONLECTURADIARIA', 'ESTU_DEDICACIONINTERNET', 'ESTU_HORASSEMANATRABAJA', 'ESTU_TIPOREMUNERACION', 'COLE_CODIGO_ICFES', 'COLE_COD_DANE_ESTABLECIMIENTO', 'COLE_NOMBRE_ESTABLECIMIENTO', 'COLE_GENERO', 'COLE_NATURALEZA', 'COLE_CALENDARIO', 'COLE_BILINGUE', 'COLE_CARACTER', 'COLE_COD_DANE_SEDE', 'COLE_NOMBRE_SEDE', 'COLE_SEDE_PRINCIPAL', 'COLE_AREA_UBICACION', 'COLE_JORNADA', 'COLE_COD_MCPIO_UBICACION', 'COLE_MCPIO_UBICACION', 'COLE_COD_DEPTO_UBICACION', 'COLE_DEPTO_UBICACION', 'ESTU_PRIVADO_LIBERTAD', 'ESTU_COD_MCPIO_PRESENTACION', 'ESTU_MCPIO_PRESENTACION', 'ESTU_DEPTO_PRESENTACION', 'ESTU_COD_DEPTO_PRESENTACION', 'PUNT_LECTURA_CRITICA', 'PERCENTIL_LECTURA_CRITICA', 'DESEMP_LECTURA_CRITICA', 'PUNT_MATEMATICAS', 'PERCENTIL_MATEMATICAS', 'DESEMP_MATEMATICAS', 'PUNT_C_NATURALES', 'PERCENTIL_C_NATURALES', 'DESEMP_C_NATURALES', 'PUNT_SOCIALES_CIUDADANAS', 'PERCENTIL_SOCIALES_CIUDADANAS', 'DESEMP_SOCIALES_CIUDADANAS', 'PUNT_INGLES', 'PERCENTIL_INGLES', 'DESEMP_INGLES', 'PUNT_GLOBAL', 'PERCENTIL_GLOBAL', 'ESTU_NSE_ESTABLECIMIENTO', 'ESTU_INSE_INDIVIDUAL', 'ESTU_NSE_INDIVIDUAL']"
   ]
  },
  {
   "cell_type": "code",
   "execution_count": 3,
   "metadata": {},
   "outputs": [
    {
     "name": "stdout",
     "output_type": "stream",
     "text": [
      "files readed\n"
     ]
    },
    {
     "ename": "KeyboardInterrupt",
     "evalue": "",
     "output_type": "error",
     "traceback": [
      "\u001b[1;31m---------------------------------------------------------------------------\u001b[0m",
      "\u001b[1;31mKeyboardInterrupt\u001b[0m                         Traceback (most recent call last)",
      "\u001b[1;32m<ipython-input-3-c96b8961e6a9>\u001b[0m in \u001b[0;36m<module>\u001b[1;34m\u001b[0m\n\u001b[0;32m      5\u001b[0m     \u001b[0mdataFile\u001b[0m \u001b[1;33m=\u001b[0m \u001b[0mcsv\u001b[0m\u001b[1;33m.\u001b[0m\u001b[0mDictReader\u001b[0m\u001b[1;33m(\u001b[0m\u001b[0mfile\u001b[0m\u001b[1;33m)\u001b[0m\u001b[1;33m\u001b[0m\u001b[1;33m\u001b[0m\u001b[0m\n\u001b[0;32m      6\u001b[0m     \u001b[0mprint\u001b[0m\u001b[1;33m(\u001b[0m\u001b[1;34m\"files readed\"\u001b[0m\u001b[1;33m)\u001b[0m\u001b[1;33m\u001b[0m\u001b[1;33m\u001b[0m\u001b[0m\n\u001b[1;32m----> 7\u001b[1;33m     \u001b[1;32mfor\u001b[0m \u001b[0mdata\u001b[0m \u001b[1;32min\u001b[0m \u001b[0mdataFile\u001b[0m\u001b[1;33m:\u001b[0m\u001b[1;33m\u001b[0m\u001b[1;33m\u001b[0m\u001b[0m\n\u001b[0m\u001b[0;32m      8\u001b[0m         \u001b[0mdataList2018\u001b[0m\u001b[1;33m.\u001b[0m\u001b[0mappend\u001b[0m\u001b[1;33m(\u001b[0m\u001b[0mdata\u001b[0m\u001b[1;33m)\u001b[0m\u001b[1;33m\u001b[0m\u001b[1;33m\u001b[0m\u001b[0m\n\u001b[0;32m      9\u001b[0m \u001b[1;33m\u001b[0m\u001b[0m\n",
      "\u001b[1;32m~\\Anaconda3\\lib\\csv.py\u001b[0m in \u001b[0;36m__next__\u001b[1;34m(self)\u001b[0m\n\u001b[0;32m    110\u001b[0m             \u001b[1;31m# Used only for its side effect.\u001b[0m\u001b[1;33m\u001b[0m\u001b[1;33m\u001b[0m\u001b[1;33m\u001b[0m\u001b[0m\n\u001b[0;32m    111\u001b[0m             \u001b[0mself\u001b[0m\u001b[1;33m.\u001b[0m\u001b[0mfieldnames\u001b[0m\u001b[1;33m\u001b[0m\u001b[1;33m\u001b[0m\u001b[0m\n\u001b[1;32m--> 112\u001b[1;33m         \u001b[0mrow\u001b[0m \u001b[1;33m=\u001b[0m \u001b[0mnext\u001b[0m\u001b[1;33m(\u001b[0m\u001b[0mself\u001b[0m\u001b[1;33m.\u001b[0m\u001b[0mreader\u001b[0m\u001b[1;33m)\u001b[0m\u001b[1;33m\u001b[0m\u001b[1;33m\u001b[0m\u001b[0m\n\u001b[0m\u001b[0;32m    113\u001b[0m         \u001b[0mself\u001b[0m\u001b[1;33m.\u001b[0m\u001b[0mline_num\u001b[0m \u001b[1;33m=\u001b[0m \u001b[0mself\u001b[0m\u001b[1;33m.\u001b[0m\u001b[0mreader\u001b[0m\u001b[1;33m.\u001b[0m\u001b[0mline_num\u001b[0m\u001b[1;33m\u001b[0m\u001b[1;33m\u001b[0m\u001b[0m\n\u001b[0;32m    114\u001b[0m \u001b[1;33m\u001b[0m\u001b[0m\n",
      "\u001b[1;32m~\\Anaconda3\\lib\\codecs.py\u001b[0m in \u001b[0;36mdecode\u001b[1;34m(self, input, final)\u001b[0m\n\u001b[0;32m    317\u001b[0m         \u001b[1;32mraise\u001b[0m \u001b[0mNotImplementedError\u001b[0m\u001b[1;33m\u001b[0m\u001b[1;33m\u001b[0m\u001b[0m\n\u001b[0;32m    318\u001b[0m \u001b[1;33m\u001b[0m\u001b[0m\n\u001b[1;32m--> 319\u001b[1;33m     \u001b[1;32mdef\u001b[0m \u001b[0mdecode\u001b[0m\u001b[1;33m(\u001b[0m\u001b[0mself\u001b[0m\u001b[1;33m,\u001b[0m \u001b[0minput\u001b[0m\u001b[1;33m,\u001b[0m \u001b[0mfinal\u001b[0m\u001b[1;33m=\u001b[0m\u001b[1;32mFalse\u001b[0m\u001b[1;33m)\u001b[0m\u001b[1;33m:\u001b[0m\u001b[1;33m\u001b[0m\u001b[1;33m\u001b[0m\u001b[0m\n\u001b[0m\u001b[0;32m    320\u001b[0m         \u001b[1;31m# decode input (taking the buffer into account)\u001b[0m\u001b[1;33m\u001b[0m\u001b[1;33m\u001b[0m\u001b[1;33m\u001b[0m\u001b[0m\n\u001b[0;32m    321\u001b[0m         \u001b[0mdata\u001b[0m \u001b[1;33m=\u001b[0m \u001b[0mself\u001b[0m\u001b[1;33m.\u001b[0m\u001b[0mbuffer\u001b[0m \u001b[1;33m+\u001b[0m \u001b[0minput\u001b[0m\u001b[1;33m\u001b[0m\u001b[1;33m\u001b[0m\u001b[0m\n",
      "\u001b[1;31mKeyboardInterrupt\u001b[0m: "
     ]
    }
   ],
   "source": [
    "dataList2018 = []\n",
    "\n",
    "#Reading 2018 files\n",
    "with open(path2018, encoding=\"utf-8\") as file:\n",
    "    dataFile = csv.DictReader(file)\n",
    "    print(\"files readed\")\n",
    "    for data in dataFile:\n",
    "        dataList2018.append(data)\n",
    "        \n",
    "\n"
   ]
  },
  {
   "cell_type": "markdown",
   "metadata": {},
   "source": [
    "Write "
   ]
  },
  {
   "cell_type": "code",
   "execution_count": 55,
   "metadata": {},
   "outputs": [],
   "source": [
    "\n",
    "with open(pathComplete, 'w', encoding=\"utf-8\", newline =\"\") as writeFile:\n",
    "    writer = csv.DictWriter(writeFile, fieldnames = commonKeys)\n",
    "    writer.writeheader()\n",
    "    for data in dataList2018:\n",
    "        tmpDict = {}\n",
    "        for key in commonKeys:\n",
    "            tmpDict[key] = data[key]\n",
    "        writer.writerow(tmpDict)\n",
    "        "
   ]
  },
  {
   "cell_type": "code",
   "execution_count": 29,
   "metadata": {},
   "outputs": [
    {
     "name": "stdout",
     "output_type": "stream",
     "text": [
      "ESTU_TIPODOCUMENTO = CR\n",
      "ESTU_NACIONALIDAD = COLOMBIA\n",
      "ESTU_GENERO = M\n",
      "ESTU_FECHANACIMIENTO = 10/06/2002\n",
      "PERIODO = 20182\n",
      "ESTU_CONSECUTIVO = SB11201820408513\n",
      "ESTU_ESTUDIANTE = ESTUDIANTE\n",
      "ESTU_PAIS_RESIDE = COLOMBIA\n",
      "ESTU_TIENEETNIA = No\n",
      "ESTU_ETNIA = -\n",
      "ESTU_LIMITA_MOTRIZ = -\n",
      "ESTU_DEPTO_RESIDE = ATLANTICO\n",
      "ESTU_COD_RESIDE_DEPTO = 08\n",
      "ESTU_MCPIO_RESIDE = SOLEDAD\n",
      "ESTU_COD_RESIDE_MCPIO = 08758\n",
      "FAMI_ESTRATOVIVIENDA = Estrato 2\n",
      "FAMI_PERSONASHOGAR = 7 a 8\n",
      "FAMI_CUARTOSHOGAR = Cuatro\n",
      "FAMI_EDUCACIONPADRE = No sabe\n",
      "FAMI_EDUCACIONMADRE = No sabe\n",
      "FAMI_TRABAJOLABORPADRE = Es vendedor o trabaja en atención al público\n",
      "FAMI_TRABAJOLABORMADRE = Es vendedor o trabaja en atención al público\n",
      "FAMI_TIENEINTERNET = Si\n",
      "FAMI_TIENESERVICIOTV = Si\n",
      "FAMI_TIENECOMPUTADOR = No\n",
      "FAMI_TIENELAVADORA = Si\n",
      "FAMI_TIENEHORNOMICROOGAS = No\n",
      "FAMI_TIENEAUTOMOVIL = No\n",
      "FAMI_TIENEMOTOCICLETA = Si\n",
      "FAMI_TIENECONSOLAVIDEOJUEGOS = No\n",
      "FAMI_NUMLIBROS = 26 A 100 LIBROS\n",
      "FAMI_COMELECHEDERIVADOS = Todos o casi todos los días\n",
      "FAMI_COMECARNEPESCADOHUEVO = Todos o casi todos los días\n",
      "FAMI_COMECEREALFRUTOSLEGUMBRE = 1 o 2 veces por semana\n",
      "FAMI_SITUACIONECONOMICA = Igual\n",
      "ESTU_DEDICACIONLECTURADIARIA = 30 minutos o menos\n",
      "ESTU_DEDICACIONINTERNET = Más de 3 horas\n",
      "ESTU_HORASSEMANATRABAJA = 0\n",
      "ESTU_TIPOREMUNERACION = No\n",
      "COLE_CODIGO_ICFES = 122432\n",
      "COLE_COD_DANE_ESTABLECIMIENTO = 108001002924\n",
      "COLE_NOMBRE_ESTABLECIMIENTO = INSTITUCION EDUCATIVA DISTRITAL PARA EL DESARROLLO HUMANO MARIA CANO\n",
      "COLE_GENERO = MIXTO\n",
      "COLE_NATURALEZA = OFICIAL\n",
      "COLE_CALENDARIO = A\n",
      "COLE_BILINGUE = N\n",
      "COLE_CARACTER = ACADÉMICO\n",
      "COLE_COD_DANE_SEDE = 108001002924\n",
      "COLE_NOMBRE_SEDE = INST. EDUC. DIST. PARA EL DESARROLLO HUMANO  MARIA CANO (ANT. CEB #079)\n",
      "COLE_SEDE_PRINCIPAL = S\n",
      "COLE_AREA_UBICACION = URBANO\n",
      "COLE_JORNADA = MAÑANA\n",
      "COLE_COD_MCPIO_UBICACION = 08001\n",
      "COLE_MCPIO_UBICACION = BARRANQUILLA\n",
      "COLE_COD_DEPTO_UBICACION = 08\n",
      "COLE_DEPTO_UBICACION = ATLANTICO\n",
      "ESTU_PRIVADO_LIBERTAD = N\n",
      "ESTU_COD_MCPIO_PRESENTACION = 08001\n",
      "ESTU_MCPIO_PRESENTACION = BARRANQUILLA\n",
      "ESTU_DEPTO_PRESENTACION = ATLANTICO\n",
      "ESTU_COD_DEPTO_PRESENTACION = 08\n",
      "PUNT_LECTURA_CRITICA = 63\n",
      "PERCENTIL_LECTURA_CRITICA = 84\n",
      "DESEMP_LECTURA_CRITICA = 3\n",
      "PUNT_MATEMATICAS = 69\n",
      "PERCENTIL_MATEMATICAS = 95\n",
      "DESEMP_MATEMATICAS = 3\n",
      "PUNT_C_NATURALES = 54\n",
      "PERCENTIL_C_NATURALES = 67\n",
      "DESEMP_C_NATURALES = 2\n",
      "PUNT_SOCIALES_CIUDADANAS = 57\n",
      "PERCENTIL_SOCIALES_CIUDADANAS = 76\n",
      "DESEMP_SOCIALES_CIUDADANAS = 3\n",
      "PUNT_INGLES = 65\n",
      "PERCENTIL_INGLES = 90\n",
      "DESEMP_INGLES = A2\n",
      "PUNT_GLOBAL = 305\n",
      "PERCENTIL_GLOBAL = 85\n",
      "ESTU_NSE_ESTABLECIMIENTO = 2\n",
      "ESTU_INSE_INDIVIDUAL = 53.16992943\n",
      "ESTU_NSE_INDIVIDUAL = NSE3\n",
      "ESTU_ESTADOINVESTIGACION = PUBLICAR\n",
      "ESTU_GENERACION-E = NO\n"
     ]
    }
   ],
   "source": [
    "with open(pathComplete, encoding = \"utf-8\") as readFile:\n",
    "    reader = csv.DictReader(readFile)\n",
    "    for data in reader:\n",
    "        for key in data.keys():\n",
    "            print(key, \"=\",data[key])\n",
    "        break"
   ]
  },
  {
   "cell_type": "code",
   "execution_count": 11,
   "metadata": {},
   "outputs": [
    {
     "name": "stdout",
     "output_type": "stream",
     "text": [
      "Counter({'abb': 2, 'a': 2, 'c': 1, 'd': 1, 'b': 1})\n"
     ]
    }
   ],
   "source": [
    "arr = ['abb','abb','c','d','a','a','b']\n",
    "countLetters = Counter(arr)\n",
    "print(countLetters)"
   ]
  },
  {
   "cell_type": "code",
   "execution_count": null,
   "metadata": {},
   "outputs": [],
   "source": []
  },
  {
   "cell_type": "code",
   "execution_count": null,
   "metadata": {},
   "outputs": [],
   "source": []
  },
  {
   "cell_type": "code",
   "execution_count": null,
   "metadata": {},
   "outputs": [],
   "source": []
  },
  {
   "cell_type": "code",
   "execution_count": 35,
   "metadata": {},
   "outputs": [
    {
     "name": "stdout",
     "output_type": "stream",
     "text": [
      "files readed\n"
     ]
    }
   ],
   "source": [
    "dataList2017 = []\n",
    "# Reading 2017 files\n",
    "with open(path2017, encoding=\"utf-8\") as file:\n",
    "    dataFile = csv.DictReader(file)\n",
    "    print(\"files readed\")\n",
    "    for data in dataFile:\n",
    "        dataList2017.append(data)"
   ]
  },
  {
   "cell_type": "code",
   "execution_count": 56,
   "metadata": {},
   "outputs": [],
   "source": [
    "with open(pathComplete, 'a', encoding=\"utf-8\", newline =\"\") as writeFile:\n",
    "    writer = csv.DictWriter(writeFile, fieldnames = commonKeys)\n",
    "    for data in dataList2017:\n",
    "        tmpDict = {}\n",
    "        for key in commonKeys:\n",
    "            tmpDict[key] = data[key.lower()]\n",
    "        writer.writerow(tmpDict)\n",
    "        "
   ]
  },
  {
   "cell_type": "code",
   "execution_count": 37,
   "metadata": {},
   "outputs": [
    {
     "name": "stdout",
     "output_type": "stream",
     "text": [
      "ESTU_TIPODOCUMENTO ESTU_NACIONALIDAD ESTU_GENERO ESTU_FECHANACIMIENTO PERIODO ESTU_CONSECUTIVO ESTU_ESTUDIANTE ESTU_PAIS_RESIDE ESTU_TIENEETNIA ESTU_ETNIA ESTU_LIMITA_MOTRIZ ESTU_DEPTO_RESIDE ESTU_COD_RESIDE_DEPTO ESTU_MCPIO_RESIDE ESTU_COD_RESIDE_MCPIO FAMI_ESTRATOVIVIENDA FAMI_PERSONASHOGAR FAMI_CUARTOSHOGAR FAMI_EDUCACIONPADRE FAMI_EDUCACIONMADRE FAMI_TRABAJOLABORPADRE FAMI_TRABAJOLABORMADRE FAMI_TIENEINTERNET FAMI_TIENESERVICIOTV FAMI_TIENECOMPUTADOR FAMI_TIENELAVADORA FAMI_TIENEHORNOMICROOGAS FAMI_TIENEAUTOMOVIL FAMI_TIENEMOTOCICLETA FAMI_TIENECONSOLAVIDEOJUEGOS FAMI_NUMLIBROS FAMI_COMELECHEDERIVADOS FAMI_COMECARNEPESCADOHUEVO FAMI_COMECEREALFRUTOSLEGUMBRE FAMI_SITUACIONECONOMICA ESTU_DEDICACIONLECTURADIARIA ESTU_DEDICACIONINTERNET ESTU_HORASSEMANATRABAJA ESTU_TIPOREMUNERACION COLE_CODIGO_ICFES COLE_COD_DANE_ESTABLECIMIENTO COLE_NOMBRE_ESTABLECIMIENTO COLE_GENERO COLE_NATURALEZA COLE_CALENDARIO COLE_BILINGUE COLE_CARACTER COLE_COD_DANE_SEDE COLE_NOMBRE_SEDE COLE_SEDE_PRINCIPAL COLE_AREA_UBICACION COLE_JORNADA COLE_COD_MCPIO_UBICACION COLE_MCPIO_UBICACION COLE_COD_DEPTO_UBICACION COLE_DEPTO_UBICACION ESTU_PRIVADO_LIBERTAD ESTU_COD_MCPIO_PRESENTACION ESTU_MCPIO_PRESENTACION ESTU_DEPTO_PRESENTACION ESTU_COD_DEPTO_PRESENTACION PUNT_LECTURA_CRITICA PERCENTIL_LECTURA_CRITICA DESEMP_LECTURA_CRITICA PUNT_MATEMATICAS PERCENTIL_MATEMATICAS DESEMP_MATEMATICAS PUNT_C_NATURALES PERCENTIL_C_NATURALES DESEMP_C_NATURALES PUNT_SOCIALES_CIUDADANAS PERCENTIL_SOCIALES_CIUDADANAS DESEMP_SOCIALES_CIUDADANAS PUNT_INGLES PERCENTIL_INGLES DESEMP_INGLES PUNT_GLOBAL PERCENTIL_GLOBAL ESTU_NSE_ESTABLECIMIENTO ESTU_INSE_INDIVIDUAL ESTU_NSE_INDIVIDUAL ESTU_ESTADOINVESTIGACION ESTU_GENERACION-E "
     ]
    }
   ],
   "source": [
    "elementDict = dataList2018[0]\n",
    "keys2018 = []\n",
    "for key in elementDict.keys():\n",
    "#    print(key,'=',elementDict[key])\n",
    "    keys2018.append(key)\n",
    "    print(key, end=\" \")"
   ]
  },
  {
   "cell_type": "code",
   "execution_count": 38,
   "metadata": {
    "scrolled": false
   },
   "outputs": [
    {
     "name": "stdout",
     "output_type": "stream",
     "text": [
      "ESTU_TIPODOCUMENTO ESTU_NACIONALIDAD ESTU_GENERO ESTU_FECHANACIMIENTO PERIODO ESTU_CONSECUTIVO ESTU_ESTUDIANTE ESTU_PAIS_RESIDE ESTU_TIENEETNIA ESTU_ETNIA ESTU_LIMITA_MOTRIZ ESTU_LIMITA_INVIDENTE ESTU_LIMITA_CONDICIONESPECIAL ESTU_LIMITA_SORDO ESTU_LIMITA_SDOWN ESTU_LIMITA_AUTISMO ESTU_DEPTO_RESIDE ESTU_COD_RESIDE_DEPTO ESTU_MCPIO_RESIDE ESTU_COD_RESIDE_MCPIO FAMI_EDUCACIONPADRE FAMI_EDUCACIONMADRE FAMI_ESTRATOVIVIENDA FAMI_PERSONASHOGAR FAMI_CUARTOSHOGAR FAMI_TIENECOMPUTADOR FAMI_TIENELAVADORA FAMI_TIENEHORNOMICROOGAS FAMI_TIENESERVICIOTV FAMI_TIENEAUTOMOVIL FAMI_TIENEMOTOCICLETA FAMI_TIENECONSOLAVIDEOJUEGOS FAMI_NUMLIBROS FAMI_COMELECHEDERIVADOS FAMI_COMECARNEPESCADOHUEVO FAMI_COMECEREALFRUTOSLEGUMBRE FAMI_TRABAJOLABORPADRE FAMI_TRABAJOLABORMADRE FAMI_SITUACIONECONOMICA ESTU_DEDICACIONLECTURADIARIA ESTU_DEDICACIONINTERNET ESTU_HORASSEMANATRABAJA ESTU_TIPOREMUNERACION COLE_CODIGO_ICFES COLE_COD_DANE_ESTABLECIMIENTO COLE_NOMBRE_ESTABLECIMIENTO COLE_GENERO COLE_NATURALEZA COLE_CALENDARIO COLE_BILINGUE COLE_CARACTER COLE_COD_DANE_SEDE COLE_NOMBRE_SEDE COLE_SEDE_PRINCIPAL COLE_AREA_UBICACION COLE_JORNADA COLE_COD_MCPIO_UBICACION COLE_MCPIO_UBICACION COLE_COD_DEPTO_UBICACION COLE_DEPTO_UBICACION ESTU_PRIVADO_LIBERTAD ESTU_COD_MCPIO_PRESENTACION ESTU_MCPIO_PRESENTACION ESTU_DEPTO_PRESENTACION ESTU_COD_DEPTO_PRESENTACION PUNT_LECTURA_CRITICA PERCENTIL_LECTURA_CRITICA DESEMP_LECTURA_CRITICA PUNT_MATEMATICAS PERCENTIL_MATEMATICAS DESEMP_MATEMATICAS PUNT_C_NATURALES PERCENTIL_C_NATURALES DESEMP_C_NATURALES PUNT_SOCIALES_CIUDADANAS PERCENTIL_SOCIALES_CIUDADANAS DESEMP_SOCIALES_CIUDADANAS PUNT_INGLES PERCENTIL_INGLES DESEMP_INGLES PUNT_GLOBAL PERCENTIL_GLOBAL ESTU_INSE_INDIVIDUAL ESTU_NSE_INDIVIDUAL ESTU_NSE_ESTABLECIMIENTO ESTU_PILOPAGA "
     ]
    }
   ],
   "source": [
    "elementDict = dataList2017[0]\n",
    "keys2017 = []\n",
    "for key in elementDict.keys():\n",
    "#    print(key,'=',elementDict[key])\n",
    "    keys2017.append(key.upper())\n",
    "    print(key.upper(), end=\" \")"
   ]
  },
  {
   "cell_type": "code",
   "execution_count": 39,
   "metadata": {},
   "outputs": [
    {
     "name": "stdout",
     "output_type": "stream",
     "text": [
      "FAMI_TIENEINTERNET\n",
      "ESTU_ESTADOINVESTIGACION\n",
      "ESTU_GENERACION-E\n",
      "_______________\n",
      "ESTU_LIMITA_INVIDENTE\n",
      "ESTU_LIMITA_CONDICIONESPECIAL\n",
      "ESTU_LIMITA_SORDO\n",
      "ESTU_LIMITA_SDOWN\n",
      "ESTU_LIMITA_AUTISMO\n",
      "ESTU_PILOPAGA\n",
      "___________________\n",
      "NO\n",
      "NO\n"
     ]
    }
   ],
   "source": [
    "for key in keys2018:\n",
    "    if key not in keys2017:\n",
    "        print(key)\n",
    "print(\"_______________\")\n",
    "for key in keys2017:\n",
    "    if key not in keys2018:\n",
    "        print(key)\n",
    "        \n",
    "print(\"___________________\")\n",
    "print(dataList2018[0]['ESTU_GENERACION-E'])\n",
    "print(dataList2017[0]['estu_pilopaga'])\n",
    "    "
   ]
  },
  {
   "cell_type": "code",
   "execution_count": 42,
   "metadata": {},
   "outputs": [
    {
     "name": "stdout",
     "output_type": "stream",
     "text": [
      "['ESTU_TIPODOCUMENTO', 'ESTU_NACIONALIDAD', 'ESTU_GENERO', 'ESTU_FECHANACIMIENTO', 'PERIODO', 'ESTU_CONSECUTIVO', 'ESTU_ESTUDIANTE', 'ESTU_PAIS_RESIDE', 'ESTU_TIENEETNIA', 'ESTU_ETNIA', 'ESTU_LIMITA_MOTRIZ', 'ESTU_DEPTO_RESIDE', 'ESTU_COD_RESIDE_DEPTO', 'ESTU_MCPIO_RESIDE', 'ESTU_COD_RESIDE_MCPIO', 'FAMI_ESTRATOVIVIENDA', 'FAMI_PERSONASHOGAR', 'FAMI_CUARTOSHOGAR', 'FAMI_EDUCACIONPADRE', 'FAMI_EDUCACIONMADRE', 'FAMI_TRABAJOLABORPADRE', 'FAMI_TRABAJOLABORMADRE', 'FAMI_TIENESERVICIOTV', 'FAMI_TIENECOMPUTADOR', 'FAMI_TIENELAVADORA', 'FAMI_TIENEHORNOMICROOGAS', 'FAMI_TIENEAUTOMOVIL', 'FAMI_TIENEMOTOCICLETA', 'FAMI_TIENECONSOLAVIDEOJUEGOS', 'FAMI_NUMLIBROS', 'FAMI_COMELECHEDERIVADOS', 'FAMI_COMECARNEPESCADOHUEVO', 'FAMI_COMECEREALFRUTOSLEGUMBRE', 'FAMI_SITUACIONECONOMICA', 'ESTU_DEDICACIONLECTURADIARIA', 'ESTU_DEDICACIONINTERNET', 'ESTU_HORASSEMANATRABAJA', 'ESTU_TIPOREMUNERACION', 'COLE_CODIGO_ICFES', 'COLE_COD_DANE_ESTABLECIMIENTO', 'COLE_NOMBRE_ESTABLECIMIENTO', 'COLE_GENERO', 'COLE_NATURALEZA', 'COLE_CALENDARIO', 'COLE_BILINGUE', 'COLE_CARACTER', 'COLE_COD_DANE_SEDE', 'COLE_NOMBRE_SEDE', 'COLE_SEDE_PRINCIPAL', 'COLE_AREA_UBICACION', 'COLE_JORNADA', 'COLE_COD_MCPIO_UBICACION', 'COLE_MCPIO_UBICACION', 'COLE_COD_DEPTO_UBICACION', 'COLE_DEPTO_UBICACION', 'ESTU_PRIVADO_LIBERTAD', 'ESTU_COD_MCPIO_PRESENTACION', 'ESTU_MCPIO_PRESENTACION', 'ESTU_DEPTO_PRESENTACION', 'ESTU_COD_DEPTO_PRESENTACION', 'PUNT_LECTURA_CRITICA', 'PERCENTIL_LECTURA_CRITICA', 'DESEMP_LECTURA_CRITICA', 'PUNT_MATEMATICAS', 'PERCENTIL_MATEMATICAS', 'DESEMP_MATEMATICAS', 'PUNT_C_NATURALES', 'PERCENTIL_C_NATURALES', 'DESEMP_C_NATURALES', 'PUNT_SOCIALES_CIUDADANAS', 'PERCENTIL_SOCIALES_CIUDADANAS', 'DESEMP_SOCIALES_CIUDADANAS', 'PUNT_INGLES', 'PERCENTIL_INGLES', 'DESEMP_INGLES', 'PUNT_GLOBAL', 'PERCENTIL_GLOBAL', 'ESTU_NSE_ESTABLECIMIENTO', 'ESTU_INSE_INDIVIDUAL', 'ESTU_NSE_INDIVIDUAL']\n"
     ]
    }
   ],
   "source": [
    "commonKeys = []\n",
    "\n",
    "for key in keys2018:\n",
    "    if key in keys2017 and key not in commonKeys:\n",
    "        commonKeys.append(key)\n",
    "for key in keys2017:\n",
    "    if key in keys2018 and key not in commonKeys:\n",
    "        commonKeys.append(key)\n",
    "        \n",
    "        \n",
    "print(commonKeys)"
   ]
  },
  {
   "cell_type": "markdown",
   "metadata": {},
   "source": [
    "['ESTU_TIPODOCUMENTO', 'ESTU_NACIONALIDAD', 'ESTU_GENERO', 'ESTU_FECHANACIMIENTO', 'PERIODO', 'ESTU_CONSECUTIVO', 'ESTU_ESTUDIANTE', 'ESTU_PAIS_RESIDE', 'ESTU_TIENEETNIA', 'ESTU_ETNIA', 'ESTU_LIMITA_MOTRIZ', 'ESTU_DEPTO_RESIDE', 'ESTU_COD_RESIDE_DEPTO', 'ESTU_MCPIO_RESIDE', 'ESTU_COD_RESIDE_MCPIO', 'FAMI_ESTRATOVIVIENDA', 'FAMI_PERSONASHOGAR', 'FAMI_CUARTOSHOGAR', 'FAMI_EDUCACIONPADRE', 'FAMI_EDUCACIONMADRE', 'FAMI_TRABAJOLABORPADRE', 'FAMI_TRABAJOLABORMADRE', 'FAMI_TIENESERVICIOTV', 'FAMI_TIENECOMPUTADOR', 'FAMI_TIENELAVADORA', 'FAMI_TIENEHORNOMICROOGAS', 'FAMI_TIENEAUTOMOVIL', 'FAMI_TIENEMOTOCICLETA', 'FAMI_TIENECONSOLAVIDEOJUEGOS', 'FAMI_NUMLIBROS', 'FAMI_COMELECHEDERIVADOS', 'FAMI_COMECARNEPESCADOHUEVO', 'FAMI_COMECEREALFRUTOSLEGUMBRE', 'FAMI_SITUACIONECONOMICA', 'ESTU_DEDICACIONLECTURADIARIA', 'ESTU_DEDICACIONINTERNET', 'ESTU_HORASSEMANATRABAJA', 'ESTU_TIPOREMUNERACION', 'COLE_CODIGO_ICFES', 'COLE_COD_DANE_ESTABLECIMIENTO', 'COLE_NOMBRE_ESTABLECIMIENTO', 'COLE_GENERO', 'COLE_NATURALEZA', 'COLE_CALENDARIO', 'COLE_BILINGUE', 'COLE_CARACTER', 'COLE_COD_DANE_SEDE', 'COLE_NOMBRE_SEDE', 'COLE_SEDE_PRINCIPAL', 'COLE_AREA_UBICACION', 'COLE_JORNADA', 'COLE_COD_MCPIO_UBICACION', 'COLE_MCPIO_UBICACION', 'COLE_COD_DEPTO_UBICACION', 'COLE_DEPTO_UBICACION', 'ESTU_PRIVADO_LIBERTAD', 'ESTU_COD_MCPIO_PRESENTACION', 'ESTU_MCPIO_PRESENTACION', 'ESTU_DEPTO_PRESENTACION', 'ESTU_COD_DEPTO_PRESENTACION', 'PUNT_LECTURA_CRITICA', 'PERCENTIL_LECTURA_CRITICA', 'DESEMP_LECTURA_CRITICA', 'PUNT_MATEMATICAS', 'PERCENTIL_MATEMATICAS', 'DESEMP_MATEMATICAS', 'PUNT_C_NATURALES', 'PERCENTIL_C_NATURALES', 'DESEMP_C_NATURALES', 'PUNT_SOCIALES_CIUDADANAS', 'PERCENTIL_SOCIALES_CIUDADANAS', 'DESEMP_SOCIALES_CIUDADANAS', 'PUNT_INGLES', 'PERCENTIL_INGLES', 'DESEMP_INGLES', 'PUNT_GLOBAL', 'PERCENTIL_GLOBAL', 'ESTU_NSE_ESTABLECIMIENTO', 'ESTU_INSE_INDIVIDUAL', 'ESTU_NSE_INDIVIDUAL']\n"
   ]
  },
  {
   "cell_type": "code",
   "execution_count": null,
   "metadata": {},
   "outputs": [],
   "source": []
  }
 ],
 "metadata": {
  "kernelspec": {
   "display_name": "Python 3",
   "language": "python",
   "name": "python3"
  },
  "language_info": {
   "codemirror_mode": {
    "name": "ipython",
    "version": 3
   },
   "file_extension": ".py",
   "mimetype": "text/x-python",
   "name": "python",
   "nbconvert_exporter": "python",
   "pygments_lexer": "ipython3",
   "version": "3.7.3"
  }
 },
 "nbformat": 4,
 "nbformat_minor": 2
}
